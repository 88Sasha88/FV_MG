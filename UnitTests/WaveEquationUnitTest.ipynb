{
 "cells": [
  {
   "cell_type": "markdown",
   "metadata": {},
   "source": [
    "Here, you develop the "
   ]
  },
  {
   "cell_type": "code",
   "execution_count": 1,
   "metadata": {},
   "outputs": [
    {
     "data": {
      "text/html": [
       "<style>pre { white-space: pre !important; }</style>"
      ],
      "text/plain": [
       "<IPython.core.display.HTML object>"
      ]
     },
     "metadata": {},
     "output_type": "display_data"
    },
    {
     "data": {
      "text/html": [
       "<style>pre { white-space: pre !important; }</style>"
      ],
      "text/plain": [
       "<IPython.core.display.HTML object>"
      ]
     },
     "metadata": {},
     "output_type": "display_data"
    },
    {
     "data": {
      "text/html": [
       "<style>pre { white-space: pre !important; }</style>"
      ],
      "text/plain": [
       "<IPython.core.display.HTML object>"
      ]
     },
     "metadata": {},
     "output_type": "display_data"
    }
   ],
   "source": [
    "import os.path\n",
    "from scipy import *\n",
    "import numpy as np\n",
    "from numpy import *\n",
    "from numpy import linalg as LA\n",
    "from scipy import linalg as LA2\n",
    "import sympy as sympy\n",
    "import sys as sys\n",
    "import time\n",
    "import matplotlib.pyplot as plt\n",
    "import itertools as it\n",
    "from IPython.core.display import HTML\n",
    "\n",
    "\n",
    "sys.path.append('/Users/sashacurcic/SashasDirectory/ANAG/FV_MG/')\n",
    "from Modules import BasicTools as BT\n",
    "from Modules import WaveTools as WT\n",
    "from Modules import PlotTools as PT\n",
    "from Modules import FFTTools as FFTT\n",
    "from Modules import OperatorTools as OT\n",
    "from Modules import GridTransferTools as GTT\n",
    "from Modules import TestTools as TT\n",
    "from Modules import SolverTools as ST\n",
    "from Modules import WaveformTools as WFT\n",
    "\n",
    "display(HTML(\"<style>pre { white-space: pre !important; }</style>\"))\n",
    "np.set_printoptions( linewidth = 10000, threshold = 100000)"
   ]
  },
  {
   "cell_type": "code",
   "execution_count": 2,
   "metadata": {},
   "outputs": [],
   "source": [
    "ceqSwitch = 'c1neqc2'\n",
    "contSwitch = 'cont'\n",
    "waveSwitch = 'IRT'\n",
    "appendage = '-' + ceqSwitch + '-' + contSwitch + '-' + waveSwitch\n",
    "\n",
    "if (ceqSwitch == 'c1eqc2'):\n",
    "    val2 = 1\n",
    "else:\n",
    "    val2 = 0.5\n",
    "\n",
    "if (contSwitch == 'cont'):\n",
    "    plotCont = True\n",
    "else:\n",
    "    plotCont = False"
   ]
  },
  {
   "cell_type": "code",
   "execution_count": 3,
   "metadata": {},
   "outputs": [],
   "source": [
    "nh_min = 64\n",
    "refRatio = 2\n",
    "CFL = np.sqrt(0.5)\n",
    "nt = 40\n",
    "x_0 = 0.\n",
    "x_1 = 0.5\n",
    "Hans = False\n",
    "\n",
    "deriv = 'CD'\n",
    "RK = 4\n",
    "order = 2\n",
    "\n",
    "L = 1.\n",
    "locs = [x_1]\n",
    "epsilons = [1, val2]# 11.68]\n",
    "mus = [1, val2]#0.99837]\n",
    "\n",
    "\n"
   ]
  },
  {
   "cell_type": "markdown",
   "metadata": {},
   "source": [
    "Inititialize `Grid` objects on coarse, fine, and AMR grid."
   ]
  },
  {
   "cell_type": "code",
   "execution_count": 4,
   "metadata": {},
   "outputs": [],
   "source": [
    "omegaAMR = BT.Grid(nh_min)\n",
    "finehalf = list(np.arange(int(nh_min / refRatio)))# + int(nh / refRatio))\n",
    "omegaAMR.AddPatch(refRatio, finehalf)\n",
    "degFreed = omegaAMR.degFreed\n",
    "nh_max = omegaAMR.nh_max\n",
    "\n",
    "omegaF = BT.Grid(nh_max)\n",
    "omegaC = BT.Grid(nh_min)"
   ]
  },
  {
   "cell_type": "markdown",
   "metadata": {},
   "source": [
    "Inititialize `PhysProps` objects on coarse, fine, and AMR grid."
   ]
  },
  {
   "cell_type": "code",
   "execution_count": 5,
   "metadata": {},
   "outputs": [],
   "source": [
    "physicsAMR = BT.PhysProps(omegaAMR, epsilons, mus, locs, L)\n",
    "cVecAMR = physicsAMR.cVec\n",
    "cMatAMR = physicsAMR.cMat\n",
    "csAMR = physicsAMR.cs\n",
    "\n",
    "physicsC = BT.PhysProps(omegaC, epsilons, mus, locs, L)\n",
    "cVecC = physicsC.cVec\n",
    "cMatC = physicsC.cMat\n",
    "csC = physicsC.cs\n",
    "\n",
    "physicsF = BT.PhysProps(omegaF, epsilons, mus, locs, L)\n",
    "cVecF = physicsF.cVec\n",
    "cMatF = physicsF.cMat\n",
    "csF = physicsF.cs"
   ]
  },
  {
   "cell_type": "markdown",
   "metadata": {},
   "source": [
    "Harvesting values and creating operators."
   ]
  },
  {
   "cell_type": "code",
   "execution_count": 6,
   "metadata": {},
   "outputs": [
    {
     "name": "stdout",
     "output_type": "stream",
     "text": [
      "You are using ExactSpatOp in TestTools module!\n",
      "You are using ExactSpatOp in TestTools module!\n",
      "0.4419417382415922\n"
     ]
    }
   ],
   "source": [
    "# c = ConvertParams(permitivity, permeability, L)\n",
    "t, nt = ST.CalcTime(omegaC, CFL, csAMR[0], nt = nt) # CHANGE BACK TO OMEGAAMR!!!\n",
    "sigma, mu = WFT.GaussParams(x_0, x_1)\n",
    "wavesAMR = WT.MakeWaves(omegaAMR)\n",
    "nullspace = OT.FindNullspace(omegaAMR, wavesAMR, Hans = Hans)\n",
    "restrictOp = GTT.CoarsenOp(omegaAMR)\n",
    "\n",
    "wavesF = WT.MakeWaves(omegaF)\n",
    "wavesC = WT.MakeWaves(omegaC)\n",
    "\n",
    "derivMat = TT.ExactSpatOp(omegaAMR)\n",
    "spatOp = -cMatF @ derivMat\n",
    "timePropOp = LA2.expm(t * spatOp)\n",
    "\n",
    "derivMatC = TT.ExactSpatOp(omegaC)\n",
    "spatOpC = -cMatC @ derivMatC\n",
    "timePropOpC = LA2.expm(t * spatOpC)\n",
    "\n",
    "opC = -cMatC @ OT.SpaceDeriv(omegaC, order, diff)\n",
    "opF = -cMatF @ OT.SpaceDeriv(omegaF, order, diff)\n",
    "opAMR = -cMatAMR @ OT.SpaceDeriv(omegaAMR, order, diff)\n",
    "\n",
    "print(t)"
   ]
  },
  {
   "cell_type": "markdown",
   "metadata": {},
   "source": [
    "Initialize waveform."
   ]
  },
  {
   "cell_type": "code",
   "execution_count": 7,
   "metadata": {},
   "outputs": [
    {
     "ename": "ValueError",
     "evalue": "operands could not be broadcast together with shapes (65,) (64,) ",
     "output_type": "error",
     "traceback": [
      "\u001b[0;31m---------------------------------------------------------------------------\u001b[0m",
      "\u001b[0;31mValueError\u001b[0m                                Traceback (most recent call last)",
      "\u001b[0;32m<ipython-input-7-cc8b0a98c830>\u001b[0m in \u001b[0;36m<module>\u001b[0;34m\u001b[0m\n\u001b[1;32m      1\u001b[0m \u001b[0;31m# For Gaussian:\u001b[0m\u001b[0;34m\u001b[0m\u001b[0;34m\u001b[0m\u001b[0;34m\u001b[0m\u001b[0m\n\u001b[0;32m----> 2\u001b[0;31m \u001b[0mwaveInitC\u001b[0m \u001b[0;34m=\u001b[0m \u001b[0mWFT\u001b[0m\u001b[0;34m.\u001b[0m\u001b[0mGauss\u001b[0m\u001b[0;34m(\u001b[0m\u001b[0momegaC\u001b[0m\u001b[0;34m,\u001b[0m \u001b[0mphysicsC\u001b[0m\u001b[0;34m,\u001b[0m \u001b[0msigma\u001b[0m\u001b[0;34m,\u001b[0m \u001b[0mmu\u001b[0m\u001b[0;34m,\u001b[0m \u001b[0mBooleAve\u001b[0m \u001b[0;34m=\u001b[0m \u001b[0;32mFalse\u001b[0m\u001b[0;34m,\u001b[0m \u001b[0mderiv\u001b[0m \u001b[0;34m=\u001b[0m \u001b[0;32mTrue\u001b[0m\u001b[0;34m,\u001b[0m \u001b[0mcellAve\u001b[0m \u001b[0;34m=\u001b[0m \u001b[0;32mTrue\u001b[0m\u001b[0;34m)\u001b[0m\u001b[0;34m\u001b[0m\u001b[0;34m\u001b[0m\u001b[0m\n\u001b[0m\u001b[1;32m      3\u001b[0m \u001b[0mprint\u001b[0m\u001b[0;34m(\u001b[0m\u001b[0mwaveInitC\u001b[0m\u001b[0;34m)\u001b[0m\u001b[0;34m\u001b[0m\u001b[0;34m\u001b[0m\u001b[0m\n\u001b[1;32m      4\u001b[0m \u001b[0mprint\u001b[0m\u001b[0;34m(\u001b[0m\u001b[0;34m''\u001b[0m\u001b[0;34m)\u001b[0m\u001b[0;34m\u001b[0m\u001b[0;34m\u001b[0m\u001b[0m\n\u001b[1;32m      5\u001b[0m \u001b[0;31m# waveInitC = np.append(waveInitC, waveInitC)\u001b[0m\u001b[0;34m\u001b[0m\u001b[0;34m\u001b[0m\u001b[0;34m\u001b[0m\u001b[0m\n",
      "\u001b[0;32m~/SashasDirectory/ANAG/FV_MG/Modules/WaveformTools.py\u001b[0m in \u001b[0;36mGauss\u001b[0;34m(omega, physics, sigma, mu, BooleAve, deriv, cellAve, t)\u001b[0m\n\u001b[1;32m    101\u001b[0m \u001b[0;34m\u001b[0m\u001b[0m\n\u001b[1;32m    102\u001b[0m     \u001b[0;32mif\u001b[0m \u001b[0;34m(\u001b[0m\u001b[0mderiv\u001b[0m\u001b[0;34m)\u001b[0m\u001b[0;34m:\u001b[0m\u001b[0;34m\u001b[0m\u001b[0;34m\u001b[0m\u001b[0m\n\u001b[0;32m--> 103\u001b[0;31m         \u001b[0mgauss\u001b[0m \u001b[0;34m=\u001b[0m \u001b[0;34m(\u001b[0m\u001b[0;34m(\u001b[0m\u001b[0mmu\u001b[0m \u001b[0;34m-\u001b[0m \u001b[0mx\u001b[0m\u001b[0;34m)\u001b[0m \u001b[0;34m*\u001b[0m \u001b[0mgauss\u001b[0m\u001b[0;34m)\u001b[0m \u001b[0;34m/\u001b[0m \u001b[0;34m(\u001b[0m\u001b[0msigma\u001b[0m \u001b[0;34m**\u001b[0m \u001b[0;36m2\u001b[0m\u001b[0;34m)\u001b[0m\u001b[0;34m\u001b[0m\u001b[0;34m\u001b[0m\u001b[0m\n\u001b[0m\u001b[1;32m    104\u001b[0m     \u001b[0;32mif\u001b[0m \u001b[0;34m(\u001b[0m\u001b[0mBooleAve\u001b[0m \u001b[0;32mand\u001b[0m \u001b[0mcellAve\u001b[0m\u001b[0;34m)\u001b[0m\u001b[0;34m:\u001b[0m\u001b[0;34m\u001b[0m\u001b[0;34m\u001b[0m\u001b[0m\n\u001b[1;32m    105\u001b[0m         \u001b[0mgauss\u001b[0m \u001b[0;34m=\u001b[0m \u001b[0mBoolesAve\u001b[0m\u001b[0;34m(\u001b[0m\u001b[0mgauss\u001b[0m\u001b[0;34m)\u001b[0m\u001b[0;34m\u001b[0m\u001b[0;34m\u001b[0m\u001b[0m\n",
      "\u001b[0;31mValueError\u001b[0m: operands could not be broadcast together with shapes (65,) (64,) "
     ]
    }
   ],
   "source": [
    "# For Gaussian:\n",
    "waveInitC = WFT.Gauss(omegaC, physicsC, sigma, mu, BooleAve = False, deriv = True, cellAve = True)\n",
    "print(waveInitC)\n",
    "print('')\n",
    "# waveInitC = np.append(waveInitC, waveInitC)\n",
    "waveInitF = WFT.Gauss(omegaF, physicsF, sigma, mu)\n",
    "# waveInitF = np.append(waveInitF, waveInitF)\n",
    "FCoefsC = FFTT.FourierCoefs(wavesC, waveInitC)\n",
    "FCoefsF = FFTT.FourierCoefs(wavesF, waveInitF)\n",
    "FCoefsC1 = np.asarray(np.append(FCoefsC, FCoefsC))"
   ]
  },
  {
   "cell_type": "markdown",
   "metadata": {},
   "source": [
    "If\\\n",
    "$u (x, 0) = \\sum_{k = 0} a_{k} e^{2 \\pi i k x}$,\\\n",
    "then the propagated incoming part of the wave is\\\n",
    "$u_{I} (x, t) = \\sum_{k = 0} a_{k} e^{2 \\pi i k (x - c_{1} t)} \\Theta (x_{s} - x)$,\\\n",
    "and the reflected part of the wave is\\\n",
    "$u_{R} (x, t) = \\frac{c_{2} - c_{1}}{c_{1} + c_{2}} \\sum_{k = 0} a_{k} e^{2 \\pi i k (2 x_{s} - x - c_{1} t)} \\Theta (x_{s} - x)$.\\\n",
    "Thus, we can just multiply the original coefficients by an operator which contains the waves $e^{2 \\pi i k (x - c_{1} t)}$ in the region of the first medium for the propagated wave and the waves $e^{2 \\pi i k (2 x_{s} - x - c_{1} t)}$ in the region of the first medium for the reflected wave. This operator is zero in the region of the second medium.\\\n",
    "\\\n",
    "For the transmitted portion, I used $x'$ derived from the Method of Characteristics,\\\n",
    "$x'(x, t) = (x - c_{1} t) \\Theta (x_{s} - x) + \\frac{c_{1} (x - c_{2} t) + (c_{2} - c_{1}) x_{s}}{c_{2}} \\Theta (x - x_{s}) \\Theta (x_{s} + c_{2} t - x) + (x - c_{2} t) \\Theta [x - (x_{s} + c_{2} t)]$,\\\n",
    "and plugged it into the initial wave like so:\\\n",
    "$u_{T} (x, t) = \\frac{2 c_{1}}{c_{1} + c_{2}} u [x' (x, t), 0] \\Theta (x - x_{s})$.\\\n",
    "The scaling factor out front is semi-derived, semi-guess. The value I derived that it should have been was $\\frac{2 c_{2}}{c_{1} + c_{2}}$, but changing the numerator to $c_{1}$ made the wave look more continuous for some reason.\n"
   ]
  },
  {
   "cell_type": "code",
   "execution_count": null,
   "metadata": {},
   "outputs": [],
   "source": [
    "# CAN ONLY BE USED WITH OMEGAF!!!\n",
    "\n",
    "def WaveEqProp(omega, physics, FCoefs, t, func, *args):\n",
    "    cs = physics.cs\n",
    "    locs = physics.locs\n",
    "    x_s = locs[0]\n",
    "    xCell = omega.xCell\n",
    "    index = np.where(xCell >= x_s)[0][0]\n",
    "    F3Coef = (2 * cs[0]) / (cs[0] + cs[1])\n",
    "    \n",
    "    \n",
    "    \n",
    "    \n",
    "    Op = WaveEqPropOp(omega, physics, t)\n",
    "    waves = WT.MakeWaves(omega)\n",
    "    \n",
    "    \n",
    "    waveProp = Op @ FCoefs\n",
    "    waveProp[index:] = F3Coef * func(omega, physics, *args, t = t)[index:]\n",
    "    \n",
    "    \n",
    "    PropFCoefs = FFTT.FourierCoefs(waves, waveProp)\n",
    "    return PropFCoefs"
   ]
  },
  {
   "cell_type": "code",
   "execution_count": null,
   "metadata": {},
   "outputs": [],
   "source": [
    "# CAN ONLY BE USED WITH OMEGAF!!!\n",
    "\n",
    "def WaveEqPropOp(omega, physics, t):\n",
    "    nh_max = omega.nh_max\n",
    "    omegaF = BT.Grid(nh_max)\n",
    "    \n",
    "    F1, F2, F3 = ThreeMatrices(omegaF, physics, t)\n",
    "\n",
    "    Op = F1  + F2 + F3\n",
    "    \n",
    "    return Op"
   ]
  },
  {
   "cell_type": "code",
   "execution_count": null,
   "metadata": {},
   "outputs": [],
   "source": [
    "# CAN ONLY BE USED WITH OMEGAF!!!\n",
    "\n",
    "def ThreeMatrices(omega, physics, t):\n",
    "    cs = physics.cs\n",
    "    locs = physics.locs\n",
    "    x_s = locs[0]\n",
    "    x = WFT.ShiftX(omega, physics, t)\n",
    "    print(cs)\n",
    "    print(locs)\n",
    "    \n",
    "    xCell = omega.xCell\n",
    "    index = np.where(xCell >= x_s)[0][0]\n",
    "    \n",
    "    F2Coef = (cs[0] - cs[1]) / (cs[0] + cs[1])\n",
    "    F3Coef = (2 * cs[1]) / (cs[0] + cs[1])\n",
    "    \n",
    "    F1 = WT.MakeWaves(omega, ct = cs[0] * t)\n",
    "    F2 = WT.MakeWaves(omega, ct = (2 * x_s) - (cs[0] * t), scale = -1)\n",
    "    F3 = WT.MakeWaves(omega, ct = 0, scale = 1, x = x)\n",
    "    \n",
    "    F1[index:] = 0\n",
    "    F2[index:] = 0\n",
    "    F3[:index] = 0\n",
    "    \n",
    "    F2 = F2Coef * F2\n",
    "    F3 = F3Coef * F3\n",
    "    \n",
    "#     PT.PlotWaves(omega, waves = F1)\n",
    "#     print('BREAK!!!')\n",
    "#     PT.PlotWaves(omega, waves = F2)\n",
    "#     print('BREAK!!!')\n",
    "#     PT.PlotWaves(omega, waves = F3)\n",
    "    \n",
    "    return F1, F2, F3"
   ]
  },
  {
   "cell_type": "code",
   "execution_count": null,
   "metadata": {
    "scrolled": false
   },
   "outputs": [],
   "source": [
    "args = sigma, mu\n",
    "Op = WaveEqPropOp(omegaAMR, physicsAMR, t)"
   ]
  },
  {
   "cell_type": "code",
   "execution_count": null,
   "metadata": {
    "scrolled": false
   },
   "outputs": [],
   "source": [
    "\n",
    "\n",
    "# Find initial waveform on coarse, fine, and AMR grids.\n",
    "waveInitC = wavesC @ FCoefsC\n",
    "waveInitF = wavesF @ FCoefsF\n",
    "waveInitAMR = restrictOp @ waveInitF\n",
    "\n",
    "# Find Fourier coefficients for initial condition on AMR grid.\n",
    "FCoefsAMR = FFTT.FourierCoefs(wavesAMR @ nullspace, waveInitAMR)\n",
    "# print('initial Coarse:')\n",
    "# print(np.round(FCoefsC, 14))\n",
    "# print('initial Fine:')\n",
    "# print(np.round(FCoefsF, 14))\n",
    "# print('initial AMR:')\n",
    "# print(np.round(FCoefsAMR, 14))\n",
    "# print('')\n",
    "\n",
    "wavePropC = WFT.Gauss(omegaC, physicsC, sigma, mu, t = t) # timePropOpC @ FCoefsC\n",
    "wavePropF = WFT.Gauss(omegaF, physicsF, sigma, mu, t = t)\n",
    "\n",
    "# Find propagated coeficients on coarse and fine grid.\n",
    "FCoefsPropC = WaveEqProp(omegaC, physicsC, FCoefsC, t, WFT.Gauss, *args)#FFTT.FourierCoefs(wavesC, wavePropC) # timePropOpC @ FCoefsC\n",
    "FCoefsPropF = WaveEqProp(omegaF, physicsF, FCoefsF, t, WFT.Gauss, *args)#FFTT.FourierCoefs(wavesF, wavePropF) # timePropOp @ FCoefsF\n",
    "FCoefsPropC1 = np.asarray(np.append(FCoefsPropC, FCoefsPropC))\n",
    "\n",
    "FCoefsPropC2 = timePropOpC @ FCoefsC\n",
    "FCoefsPropF2 = timePropOp @ FCoefsF\n",
    "\n",
    "# Find propagated waveform on AMR grid.\n",
    "wavePropAMR = restrictOp @ wavesF @ FCoefsPropF\n",
    "\n",
    "# Find propagated coefficients on AMR grid.\n",
    "FCoefsPropAMR = FFTT.FourierCoefs(wavesAMR @ nullspace, wavePropAMR)\n",
    "\n",
    "# TEST FOR EXACT GAUSSIAN AT NEW LOCATION.\n",
    "\n",
    "# Find theoretical propagated coefficients on coarse, fine, and AMR grid. (THIS CAN ONLY BE USED IF MATERIAL IS UNIFORM!)\n",
    "# FCoefsPropCTh = FFTT.PropRestrictWaves(omegaC, waveInitC, c * t)\n",
    "# FCoefsPropFTh = FFTT.PropRestrictWaves(omegaF, waveInitF, c * t)\n",
    "# FCoefsPropAMRTh = FFTT.PropRestrictWaves(omega, waveInitF, c * t)\n",
    "\n",
    "# solverCoefsC = ST.RungeKutta(omegaC, physicsC, wavesC, waveInitC, nt, CFL, RK, op = opC) # TimeIntegratorFunc(omegaC, wavesC, waveInitC, nt, cMatC, CFL, DiffFunc)\n",
    "# solverCoefsF = ST.RungeKutta(omegaF, physicsF, wavesF, waveInitF, nt, CFL, RK, op = opF) # TimeIntegratorFunc(omegaF, wavesF, waveInitF, nt, cMatF, CFL, DiffFunc)\n",
    "# solverCoefsAMR = ST.RungeKutta(omegaAMR, physicsAMR, wavesAMR @ nullspace, waveInitAMR, nt, CFL, RK, op = opAMR) # TimeIntegratorFunc(omegaAMR, wavesAMR @ nullspace, waveInitAMR, nt, cMat, CFL, DiffFunc, order = order)\n",
    "# solverCoefsC1 = np.asarray(np.append(solverCoefsC, solverCoefsC))\n",
    "\n",
    "# print('')\n",
    "# print(np.round(FCoefsPropCTh, 14))\n",
    "# print(np.round(FCoefsPropFTh, 14))\n",
    "# print(np.round(FCoefsPropAMRTh, 14))\n",
    "\n",
    "\n",
    "allCoefsC = PT.Load(FCoefsC, FCoefsPropC)#, solverCoefsC)#, FCoefsPropCTh)\n",
    "allCoefsF = PT.Load(FCoefsF, FCoefsPropF)#, solverCoefsF)#, FCoefsPropFTh)\n",
    "allCoefsAMR = nullspace @ PT.Load(FCoefsAMR, FCoefsPropAMR)#, solverCoefsAMR)#, FCoefsPropAMRTh)\n",
    "\n",
    "\n",
    "labels = ['Initial Wave', 'Method of Characteristics Propagated Wave']#, 'RK Propagated Wave']#, 'Rotation Matrix Propagated Wave']\n",
    "title = 'MaterialInterface' + appendage\n",
    "\n"
   ]
  },
  {
   "cell_type": "code",
   "execution_count": null,
   "metadata": {
    "scrolled": false
   },
   "outputs": [],
   "source": [
    "PT.PlotMixedWave(omegaC, waves = wavesC, FCoefs = allCoefsC, rescale = 5, yGrid = True, labels = labels, title = 'Coarse Propagated Gaussian', saveName = title + 'Coarse', dpi = 300, plotCont = plotCont)\n",
    "PT.PlotMixedWave(omegaF, waves = wavesF, FCoefs = allCoefsF, rescale = 5, yGrid = True, labels = labels, title = 'Fine Propagated Gaussian', saveName = title + 'Fine', dpi = 300, plotCont = plotCont)#, labels = labels, title = 'Fine-Grid Mode Propagation', saveName = 'Fine', dpi = 300)\n",
    "PT.PlotMixedWave(omegaAMR, waves = wavesAMR, FCoefs = allCoefsAMR, rescale = 5, yGrid = True, labels = labels, title = 'AMR Propagated Gaussian', saveName = title + 'AMR', dpi = 300, plotCont = plotCont)#, labels = labels, title = 'AMR-Grid Mode Propagation', saveName = 'AMRHansMethod', dpi = 300)\n"
   ]
  },
  {
   "cell_type": "code",
   "execution_count": null,
   "metadata": {
    "scrolled": false
   },
   "outputs": [],
   "source": [
    "x_0vec = omegaC.xNode\n",
    "xShift = WFT.ShiftX(omegaC, physicsC, t)\n",
    "fig, ax = plt.subplots(figsize = [12, 10])\n",
    "plt.plot(x_0vec, xShift)\n",
    "plt.scatter(x_0vec, xShift, s = 16)\n",
    "plt.title(r'Shifted $x$ Values versus Original $x$ Values at $t = %f$' %t)\n",
    "plt.xlabel(r'$x_{0}$')\n",
    "plt.ylabel(r'$x$')\n",
    "ax.grid(True, zorder = 0)\n",
    "saveName = '/Users/sashacurcic/SashasDirectory/ANAG/FV_MG/Figures/xvsx_0_' + str(nt)# + appendage\n",
    "# fig.savefig(saveName + '.png', bbox_inches = 'tight')\n",
    "plt.show()"
   ]
  },
  {
   "cell_type": "code",
   "execution_count": null,
   "metadata": {},
   "outputs": [],
   "source": []
  },
  {
   "cell_type": "code",
   "execution_count": null,
   "metadata": {},
   "outputs": [],
   "source": []
  }
 ],
 "metadata": {
  "kernelspec": {
   "display_name": "Python 3",
   "language": "python",
   "name": "python3"
  },
  "language_info": {
   "codemirror_mode": {
    "name": "ipython",
    "version": 3
   },
   "file_extension": ".py",
   "mimetype": "text/x-python",
   "name": "python",
   "nbconvert_exporter": "python",
   "pygments_lexer": "ipython3",
   "version": "3.7.3"
  }
 },
 "nbformat": 4,
 "nbformat_minor": 2
}
