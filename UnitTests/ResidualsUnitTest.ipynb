{
 "cells": [
  {
   "cell_type": "code",
   "execution_count": 1,
   "metadata": {},
   "outputs": [
    {
     "data": {
      "text/html": [
       "<style>pre { white-space: pre !important; }</style>"
      ],
      "text/plain": [
       "<IPython.core.display.HTML object>"
      ]
     },
     "metadata": {},
     "output_type": "display_data"
    },
    {
     "data": {
      "text/html": [
       "<style>pre { white-space: pre !important; }</style>"
      ],
      "text/plain": [
       "<IPython.core.display.HTML object>"
      ]
     },
     "metadata": {},
     "output_type": "display_data"
    },
    {
     "data": {
      "text/html": [
       "<style>pre { white-space: pre !important; }</style>"
      ],
      "text/plain": [
       "<IPython.core.display.HTML object>"
      ]
     },
     "metadata": {},
     "output_type": "display_data"
    }
   ],
   "source": [
    "import os.path\n",
    "from scipy import *\n",
    "import numpy as np\n",
    "from numpy import *\n",
    "from numpy import linalg as LA\n",
    "from scipy import linalg as LA2\n",
    "import sympy as sympy\n",
    "import sys as sys\n",
    "from fractions import Fraction\n",
    "import time\n",
    "import matplotlib.pyplot as plt\n",
    "import itertools as it\n",
    "from IPython.core.display import HTML\n",
    "\n",
    "\n",
    "sys.path.append('/Users/sashacurcic/SashasDirectory/ANAG/FV_MG/')\n",
    "from Modules import BasicTools as BT\n",
    "from Modules import WaveTools as WT\n",
    "from Modules import PlotTools as PT\n",
    "from Modules import FFTTools as FFTT\n",
    "from Modules import OperatorTools as OT\n",
    "from Modules import GridTransferTools as GTT\n",
    "from Modules import TestTools as TT\n",
    "from Modules import SolverTools as ST\n",
    "from Modules import WaveformTools as WFT\n",
    "\n",
    "display(HTML(\"<style>pre { white-space: pre !important; }</style>\"))\n",
    "np.set_printoptions( linewidth = 10000, threshold = 100000)"
   ]
  },
  {
   "cell_type": "code",
   "execution_count": 2,
   "metadata": {},
   "outputs": [],
   "source": [
    "nh = 4\n",
    "refRatio = 2\n",
    "c = 1.\n",
    "CFL = 0.5\n",
    "nt = 1\n",
    "RK = 4\n",
    "deriv = 'CD'\n",
    "order = 0\n",
    "mu = 0.5\n",
    "sigma = .1\n",
    "wavenumber = 35\n",
    "plot = 0\n",
    "Hans = True"
   ]
  },
  {
   "cell_type": "code",
   "execution_count": 3,
   "metadata": {},
   "outputs": [
    {
     "name": "stdout",
     "output_type": "stream",
     "text": [
      "1\n"
     ]
    }
   ],
   "source": [
    "omegaF = BT.Grid(nh * refRatio)\n",
    "print(Fraction(16, 64).numerator)"
   ]
  },
  {
   "cell_type": "code",
   "execution_count": 4,
   "metadata": {},
   "outputs": [],
   "source": [
    "def Residuals(omegaF, cellNums = [], refRatio = 2, plot = 0):\n",
    "    \n",
    "    # Obtain attributes from master refined grid.\n",
    "    nh_max = omegaF.nh_max\n",
    "    xFine = omegaF.xCell\n",
    "    \n",
    "    # Create other necessary objects from master refined grid information.\n",
    "    wavesF = WT.MakeWaves(omegaF)\n",
    "    strings = PT.FixStrings(omegaF, np.eye(nh_max), False)\n",
    "    \n",
    "    ks = np.linspace(0.5, nh_max / 2, num = nh_max)\n",
    "    nh_min = int(nh_max / refRatio)\n",
    "\n",
    "    # Get savePath.\n",
    "    numPoints, font, X, savePath = PT.UsefulPlotVals()\n",
    "    saveName = savePath + 'FirstModes' + str(nh_min) + '.png'\n",
    "    \n",
    "    # Determine iterations over grid proportions and create vector for storing maximum residual norms.\n",
    "    if (cellNums == []):\n",
    "        iters = nh_min\n",
    "    else:\n",
    "        iters = 1\n",
    "    print ('iters =', iters)\n",
    "    residNormMax = np.zeros(iters, float)\n",
    "    iterAxis = (np.arange(iters) + 1) / nh_min\n",
    "    print(iterAxis)\n",
    "    \n",
    "    # Iterate over grid refinement proportions.\n",
    "    for i in range(iters):\n",
    "        print('i = ', i)\n",
    "        \n",
    "        # Instantiate grid with appropriate grid proportions.\n",
    "        omegaAMR = BT.Grid(nh_min)\n",
    "        omegaFAMR = BT.Grid(nh_max)\n",
    "        if (cellNums == []):\n",
    "            finehalf = list(np.arange(i + 1))\n",
    "            finehalfF = list(np.arange(refRatio * (i + 1)))\n",
    "        else:\n",
    "            # Modify this for FAMR!\n",
    "            finehalf = cellNums\n",
    "        omegaAMR.AddPatch(refRatio, finehalf)\n",
    "        omegaFAMR.AddPatch(refRatio, finehalfF)\n",
    "        \n",
    "        degFreed = omegaAMR.degFreed\n",
    "        xCell = omegaAMR.xCell\n",
    "        hs = omegaAMR.h\n",
    "        cells = omegaAMR.cells[-1]\n",
    "#         print(cells)\n",
    "#         print(np.all(hs[0] == hs))\n",
    "        \n",
    "        wavesAMR = WT.MakeWaves(omegaAMR)\n",
    "        wavesFAMR = WT.MakeWaves(omegaFAMR)\n",
    "\n",
    "\n",
    "        nullspace = OT.FindNullspace(omegaAMR, wavesAMR, Hans = Hans)\n",
    "        nullspaceF = OT.FindNullspace(omegaFAMR, wavesFAMR, Hans = Hans)\n",
    "        \n",
    "        restrictOp = GTT.CoarsenOp(omegaAMR)\n",
    "\n",
    "        restrictOpF = GTT.CoarsenOp(omegaFAMR)\n",
    "\n",
    "        exactF = wavesF\n",
    "        FCoefsExact = FFTT.FourierCoefs(omegaF, wavesF, exactF)\n",
    "        exactAMR = restrictOp @ wavesF @ FCoefsExact\n",
    "\n",
    "        FCoefsTest = FFTT.FourierCoefs(omegaAMR, wavesAMR @ nullspace, exactAMR, False)\n",
    "\n",
    "        testAMR = wavesAMR @ nullspace @ FCoefsTest\n",
    "\n",
    "        resid = abs(exactAMR - testAMR)\n",
    "        residNorm = TT.VectorNorm(resid, normType = 'max')\n",
    "\n",
    "        for j in range(nh_max):\n",
    "#             print('j = ', j)\n",
    "            \n",
    "\n",
    "            if (plot > 2):# and (residNorm[j] > 1e-11)):\n",
    "                if (j % 1 == 0):\n",
    "                    fig1, ax1 = plt.subplots(figsize = [12, 4])\n",
    "                    ax1.plot(xFine, exactF[:, j], lw = 1, color = PT.ColorDefault(0), label = 'Exact Fine Solution')\n",
    "                    ax1.plot(xCell, exactAMR[:, j], lw = 1, color = PT.ColorDefault(1), linestyle = '--', label = 'Exact AMR Solution')\n",
    "                    ax1.plot(xCell, testAMR[:, j], lw = 1, color = PT.ColorDefault(2), linestyle = ':', label = 'NUDFT AMR Solution')\n",
    "                    plt.title('AMR and Fine Representations of ' + strings[j])\n",
    "                    plt.xlabel('$x$')\n",
    "                    plt.ylabel('Waveform')\n",
    "                    plt.legend()\n",
    "\n",
    "                    fig2, ax2 = plt.subplots(figsize = [12, 4])\n",
    "                    ax2.plot(xCell, resid[:, j], lw = 1)\n",
    "                    plt.title('Residuals for ' + strings[j])\n",
    "                    plt.xlabel('$x$')\n",
    "                    plt.ylabel('Residuals')\n",
    "                    plt.show()\n",
    "                    print('\\n\\n\\n\\n')\n",
    "\n",
    "#         PT.PlotWaves(omegaAMR, waves = wavesAMR, nullspace = nullspace)\n",
    "#                     if (residNorm[j] > 1e-11):\n",
    "#                         saveName1 = savePath + 'WaveReps' + str(j) + '.png'\n",
    "#                         saveName2 = savePath + 'Residuals' + str(j) + '.png'\n",
    "        #                 fig1.savefig(saveName1, bbox_inches = 'tight', dpi = 300, transparent = True)\n",
    "        #                 fig2.savefig(saveName2, bbox_inches = 'tight', dpi = 300, transparent = True)\n",
    "#                         print(exactAMR)\n",
    "#                         print(testAMR)\n",
    "                    \n",
    "#             print('j = ', j)\n",
    "        residNormMax[i] = TT.VectorNorm(residNorm, normType = 'max')\n",
    "        if (plot > 1):\n",
    "            numer = str(Fraction(i + 1, nh_min).numerator)\n",
    "            denom = str(Fraction(i + 1, nh_min).denominator)\n",
    "            fig, ax = plt.subplots(figsize = [12, 4])\n",
    "            plt.plot(ks, residNorm)\n",
    "            ax.grid(True, axis = 'both', zorder = 0)\n",
    "            plt.yscale('log')\n",
    "            plt.title(r'Residual Max Norm by Wavenumber for $\\frac{' + numer + '}{' + denom + '}$ Grid Refined')\n",
    "            plt.ylabel('Residual Norm')\n",
    "            plt.xlabel('Wavenumber')\n",
    "            plt.show()\n",
    "        print('end loop i = ', i)\n",
    "        print('')\n",
    "        print('')\n",
    "    if ((plot > 0) and (cellNums == [])):\n",
    "        fig, ax = plt.subplots(figsize = [12, 4])\n",
    "        plt.plot(iterAxis, residNormMax, color = PT.ColorDefault(0), lw = 1)\n",
    "        plt.scatter(iterAxis, residNormMax, color = PT.ColorDefault(0), s = 8)\n",
    "        # plt.plot(ks, 1e-13 * np.ones(nh_max, float))\n",
    "        ax.grid(True, axis = 'both', zorder = 0)\n",
    "        plt.yscale('log')\n",
    "        plt.title(r'Residual Max Norm by Proportion of Grid Refined')\n",
    "        plt.ylabel('Residual Norm')\n",
    "        plt.xlabel('Grid Proportion')\n",
    "        fig.savefig(saveName, bbox_inches = 'tight', dpi = 300, transparent = True)\n",
    "        plt.show()\n",
    "    return"
   ]
  },
  {
   "cell_type": "code",
   "execution_count": 5,
   "metadata": {
    "scrolled": true
   },
   "outputs": [],
   "source": [
    "# Residuals(omegaF, plot = plot)"
   ]
  },
  {
   "cell_type": "code",
   "execution_count": null,
   "metadata": {},
   "outputs": [],
   "source": []
  },
  {
   "cell_type": "code",
   "execution_count": null,
   "metadata": {},
   "outputs": [],
   "source": []
  }
 ],
 "metadata": {
  "kernelspec": {
   "display_name": "Python 3",
   "language": "python",
   "name": "python3"
  },
  "language_info": {
   "codemirror_mode": {
    "name": "ipython",
    "version": 3
   },
   "file_extension": ".py",
   "mimetype": "text/x-python",
   "name": "python",
   "nbconvert_exporter": "python",
   "pygments_lexer": "ipython3",
   "version": "3.7.3"
  }
 },
 "nbformat": 4,
 "nbformat_minor": 2
}
