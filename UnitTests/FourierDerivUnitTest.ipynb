{
 "cells": [
  {
   "cell_type": "markdown",
   "metadata": {},
   "source": [
    "Here, you develop the exact spatial derivative operator and its unit test."
   ]
  },
  {
   "cell_type": "code",
   "execution_count": 1,
   "metadata": {},
   "outputs": [
    {
     "data": {
      "text/html": [
       "<style>pre { white-space: pre !important; }</style>"
      ],
      "text/plain": [
       "<IPython.core.display.HTML object>"
      ]
     },
     "metadata": {},
     "output_type": "display_data"
    },
    {
     "data": {
      "text/html": [
       "<style>pre { white-space: pre !important; }</style>"
      ],
      "text/plain": [
       "<IPython.core.display.HTML object>"
      ]
     },
     "metadata": {},
     "output_type": "display_data"
    },
    {
     "data": {
      "text/html": [
       "<style>pre { white-space: pre !important; }</style>"
      ],
      "text/plain": [
       "<IPython.core.display.HTML object>"
      ]
     },
     "metadata": {},
     "output_type": "display_data"
    }
   ],
   "source": [
    "import os.path\n",
    "from scipy import *\n",
    "import numpy as np\n",
    "from numpy import *\n",
    "from numpy import linalg as LA\n",
    "from scipy import linalg as LA2\n",
    "import sympy as sympy\n",
    "import sys as sys\n",
    "import time\n",
    "import matplotlib.pyplot as plt\n",
    "import itertools as it\n",
    "from IPython.core.display import HTML\n",
    "\n",
    "\n",
    "sys.path.append('/Users/sashacurcic/SashasDirectory/ANAG/FV_MG/')\n",
    "from Modules import BasicTools as BT\n",
    "from Modules import WaveTools as WT\n",
    "from Modules import PlotTools as PT\n",
    "from Modules import FFTTools as FFTT\n",
    "from Modules import OperatorTools as OT\n",
    "from Modules import GridTransferTools as GTT\n",
    "from Modules import TestTools as TT\n",
    "from Modules import SolverTools as ST\n",
    "from Modules import WaveformTools as WFT\n",
    "\n",
    "display(HTML(\"<style>pre { white-space: pre !important; }</style>\"))\n",
    "np.set_printoptions( linewidth = 10000, threshold = 100000)"
   ]
  },
  {
   "cell_type": "code",
   "execution_count": 2,
   "metadata": {},
   "outputs": [],
   "source": [
    "nh = 32\n",
    "refRatio = 2\n",
    "c = 1.\n",
    "CFL = 0.5\n",
    "nt = 1\n",
    "RK = 4\n",
    "deriv = 'CD'\n",
    "order = 0\n",
    "mu = 0.5\n",
    "sigma = .3\n",
    "wavenumber = 7"
   ]
  },
  {
   "cell_type": "code",
   "execution_count": 3,
   "metadata": {},
   "outputs": [],
   "source": [
    "omega = BT.Grid(nh)\n",
    "finehalf = list(np.arange(int(nh / refRatio)) + int(nh / refRatio))\n",
    "# omega.AddPatch(refRatio, finehalf)\n",
    "nh_max = omega.nh_max\n",
    "nh_min = omega.nh_min\n",
    "degFreed = omega.degFreed\n",
    "waves = WT.MakeWaves(omega)\n",
    "nullspace = OT.FindNullspace(omega, waves)\n",
    "t = 0"
   ]
  },
  {
   "cell_type": "code",
   "execution_count": 4,
   "metadata": {},
   "outputs": [],
   "source": [
    "# def ExactSpatOp(omega, t, u0, c, order):\n",
    "#     nh_max = omega.nh_max\n",
    "#     waves = WT.MakeWaves(omega)\n",
    "#     nullspace = OT.FindNullspace(omega, waves)\n",
    "#     subsuper = np.linspace(0.5, nh_max, num = 2 * nh_max)\n",
    "#     subsuper[::2] = 0\n",
    "#     Op = np.zeros((nh_max, nh_max), float)\n",
    "#     np.fill_diagonal(Op[1:], subsuper[:])\n",
    "#     np.fill_diagonal(Op[:, 1:], -subsuper)\n",
    "#     Op = -2 * np.pi * c * Op\n",
    "#     SpatOp = waves @ Op\n",
    "#     FCoefs = FFTT.FourierCoefs(omega, waves @ nullspace, u0)\n",
    "#     u = SpatOp @ FCoefs\n",
    "#     return u"
   ]
  },
  {
   "cell_type": "code",
   "execution_count": 5,
   "metadata": {},
   "outputs": [
    {
     "ename": "AttributeError",
     "evalue": "module 'Modules.OperatorTools' has no attribute 'ExactSpatOp'",
     "output_type": "error",
     "traceback": [
      "\u001b[0;31m---------------------------------------------------------------------------\u001b[0m",
      "\u001b[0;31mAttributeError\u001b[0m                            Traceback (most recent call last)",
      "\u001b[0;32m<ipython-input-5-89230b323cc5>\u001b[0m in \u001b[0;36m<module>\u001b[0;34m\u001b[0m\n\u001b[1;32m     10\u001b[0m \u001b[0mokay\u001b[0m\u001b[0;34m[\u001b[0m\u001b[0mwavenumber\u001b[0m\u001b[0;34m]\u001b[0m \u001b[0;34m=\u001b[0m \u001b[0;36m1\u001b[0m\u001b[0;34m\u001b[0m\u001b[0;34m\u001b[0m\u001b[0m\n\u001b[1;32m     11\u001b[0m \u001b[0;34m\u001b[0m\u001b[0m\n\u001b[0;32m---> 12\u001b[0;31m \u001b[0mtestDeriv\u001b[0m \u001b[0;34m=\u001b[0m \u001b[0mOT\u001b[0m\u001b[0;34m.\u001b[0m\u001b[0mExactSpatOp\u001b[0m\u001b[0;34m(\u001b[0m\u001b[0momega\u001b[0m\u001b[0;34m,\u001b[0m \u001b[0mt\u001b[0m\u001b[0;34m,\u001b[0m \u001b[0mwaveform\u001b[0m\u001b[0;34m,\u001b[0m \u001b[0;34m-\u001b[0m\u001b[0;36m1\u001b[0m\u001b[0;34m,\u001b[0m \u001b[0morder\u001b[0m\u001b[0;34m)\u001b[0m\u001b[0;34m\u001b[0m\u001b[0;34m\u001b[0m\u001b[0m\n\u001b[0m\u001b[1;32m     13\u001b[0m \u001b[0;34m\u001b[0m\u001b[0m\n\u001b[1;32m     14\u001b[0m \u001b[0mFCoefs\u001b[0m \u001b[0;34m=\u001b[0m \u001b[0mFFTT\u001b[0m\u001b[0;34m.\u001b[0m\u001b[0mFourierCoefs\u001b[0m\u001b[0;34m(\u001b[0m\u001b[0momega\u001b[0m\u001b[0;34m,\u001b[0m \u001b[0mwaves\u001b[0m \u001b[0;34m@\u001b[0m \u001b[0mnullspace\u001b[0m\u001b[0;34m,\u001b[0m \u001b[0mwaveform\u001b[0m\u001b[0;34m)\u001b[0m\u001b[0;34m\u001b[0m\u001b[0;34m\u001b[0m\u001b[0m\n",
      "\u001b[0;31mAttributeError\u001b[0m: module 'Modules.OperatorTools' has no attribute 'ExactSpatOp'"
     ]
    }
   ],
   "source": [
    "# For Gaussian:\n",
    "waveform = WFT.Gauss(omega, sigma, mu)\n",
    "waveDeriv = WFT.Gauss(omega, sigma, mu, deriv = 1)\n",
    "\n",
    "# For Gaussian wavepacket:\n",
    "# waveform = WFT.WavePacket(omega, sigma, mu, wavenumber, waves)\n",
    "# waveDeriv = WFT.WavePacket(omega, sigma, mu, wavenumber, waves, deriv = 1)\n",
    "\n",
    "okay = np.zeros(degFreed, float)\n",
    "okay[wavenumber] = 1\n",
    "\n",
    "testDeriv = OT.ExactSpatOp(omega, t, waveform, -1, order)\n",
    "\n",
    "FCoefs = FFTT.FourierCoefs(omega, waves @ nullspace, waveform)\n",
    "FCoefsDeriv = FFTT.FourierCoefs(omega, waves @ nullspace, waveDeriv)\n",
    "FCoefsTest = FFTT.FourierCoefs(omega, waves @ nullspace, testDeriv)\n",
    "allCoefs = PT.Load(FCoefs, FCoefsDeriv, FCoefsTest)\n",
    "labels = ['Initial Waveform', 'Exact Derivative', 'Fourier Derivative']\n",
    "print(waves[:, wavenumber])\n",
    "print('')\n",
    "print(waves)\n",
    "print('')"
   ]
  },
  {
   "cell_type": "code",
   "execution_count": null,
   "metadata": {},
   "outputs": [],
   "source": [
    "PT.PlotMixedWave(omega, waves, nullspace @ allCoefs, rescale = 6, yGrid = True, labels = labels, saveName = 'GaussTest', dpi = 300)\n"
   ]
  },
  {
   "cell_type": "code",
   "execution_count": null,
   "metadata": {},
   "outputs": [],
   "source": []
  },
  {
   "cell_type": "code",
   "execution_count": null,
   "metadata": {
    "scrolled": false
   },
   "outputs": [],
   "source": []
  },
  {
   "cell_type": "code",
   "execution_count": null,
   "metadata": {},
   "outputs": [],
   "source": []
  },
  {
   "cell_type": "code",
   "execution_count": null,
   "metadata": {},
   "outputs": [],
   "source": []
  },
  {
   "cell_type": "code",
   "execution_count": null,
   "metadata": {},
   "outputs": [],
   "source": []
  },
  {
   "cell_type": "code",
   "execution_count": null,
   "metadata": {},
   "outputs": [],
   "source": []
  },
  {
   "cell_type": "code",
   "execution_count": null,
   "metadata": {},
   "outputs": [],
   "source": []
  }
 ],
 "metadata": {
  "kernelspec": {
   "display_name": "Python 3",
   "language": "python",
   "name": "python3"
  },
  "language_info": {
   "codemirror_mode": {
    "name": "ipython",
    "version": 3
   },
   "file_extension": ".py",
   "mimetype": "text/x-python",
   "name": "python",
   "nbconvert_exporter": "python",
   "pygments_lexer": "ipython3",
   "version": "3.7.3"
  }
 },
 "nbformat": 4,
 "nbformat_minor": 2
}
