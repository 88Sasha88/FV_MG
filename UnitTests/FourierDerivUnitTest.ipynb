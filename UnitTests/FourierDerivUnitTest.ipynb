{
 "cells": [
  {
   "cell_type": "markdown",
   "metadata": {},
   "source": [
    "Here, you develop the exact spatial derivative operator and its unit test. (Develop a quantitative assessment between what you've already found here for the Fourier derivative and the known derivative.)"
   ]
  },
  {
   "cell_type": "code",
   "execution_count": null,
   "metadata": {},
   "outputs": [],
   "source": [
    "import os.path\n",
    "from scipy import *\n",
    "import numpy as np\n",
    "from numpy import *\n",
    "from numpy import linalg as LA\n",
    "from scipy import linalg as LA2\n",
    "import sympy as sympy\n",
    "import sys as sys\n",
    "import time\n",
    "import matplotlib.pyplot as plt\n",
    "import itertools as it\n",
    "from IPython.core.display import HTML\n",
    "\n",
    "\n",
    "sys.path.append('/Users/sashacurcic/SashasDirectory/ANAG/FV_MG/')\n",
    "from Modules import BasicTools as BT\n",
    "from Modules import WaveTools as WT\n",
    "from Modules import PlotTools as PT\n",
    "from Modules import FFTTools as FFTT\n",
    "from Modules import OperatorTools as OT\n",
    "from Modules import GridTransferTools as GTT\n",
    "from Modules import TestTools as TT\n",
    "from Modules import SolverTools as ST\n",
    "from Modules import WaveformTools as WFT\n",
    "\n",
    "display(HTML(\"<style>pre { white-space: pre !important; }</style>\"))\n",
    "np.set_printoptions( linewidth = 10000, threshold = 100000)"
   ]
  },
  {
   "cell_type": "markdown",
   "metadata": {},
   "source": [
    "Set parameters."
   ]
  },
  {
   "cell_type": "code",
   "execution_count": null,
   "metadata": {},
   "outputs": [],
   "source": [
    "nh = 32\n",
    "refRatio = 2\n",
    "c = 1.\n",
    "CFL = 0.5\n",
    "nt = 1\n",
    "RK = 4\n",
    "deriv = 'CD'\n",
    "order = 0\n",
    "wavenumber = 13\n",
    "\n",
    "\n",
    "# Grid parameters.\n",
    "nh_min = 64\n",
    "refRatio = 2\n",
    "cfInter = int(nh_min / refRatio)\n",
    "\n",
    "# Time integration parameters.\n",
    "CFL = np.sqrt(0.5)\n",
    "nt = 50\n",
    "deriv = 'CD'\n",
    "RK = 4\n",
    "order = 2\n",
    "\n",
    "# Waveform parameters.\n",
    "x_0 = 0.\n",
    "x_1 = float(cfInter) / float(nh_min)\n",
    "func = WFT.Gauss\n",
    "\n",
    "# Physical parameters.\n",
    "L = 1e-3\n",
    "locs = []#x_1]\n",
    "epsilons_r = [1]#, 11.68]\n",
    "mus_r = [1]#, 0.99837]\n",
    "\n",
    "# Pseudo-FFT parameters.\n",
    "Hans = False"
   ]
  },
  {
   "cell_type": "code",
   "execution_count": null,
   "metadata": {},
   "outputs": [],
   "source": [
    "omega = BT.Grid(nh)\n",
    "finehalf = list(np.arange(int(nh / refRatio)) + int(nh / refRatio))\n",
    "omega.AddPatch(refRatio, finehalf)\n",
    "\n",
    "physics = BT.PhysProps(omega, epsilons_r, mus_r, locs, L)\n",
    "\n",
    "waves = WT.MakeWaves(omega)\n",
    "nullspace = OT.FindNullspace(omega, waves)\n",
    "# cMat = physics.cMat\n",
    "sigma, mu = WFT.GaussParams(x_0, x_1)\n",
    "args = [sigma, mu]"
   ]
  },
  {
   "cell_type": "code",
   "execution_count": null,
   "metadata": {},
   "outputs": [],
   "source": [
    "# For Gaussian:\n",
    "waveform = WFT.InitCond(omega, physics, func, args)\n",
    "waveDeriv = WFT.InitCond(omega, physics, func, args, deriv = True)\n",
    "\n",
    "# For Gaussian wavepacket:\n",
    "# waveform = WFT.WavePacket(omega, sigma, mu, wavenumber)\n",
    "# waveDeriv = WFT.WavePacket(omega, sigma, mu, wavenumber, deriv = True)\n"
   ]
  },
  {
   "cell_type": "code",
   "execution_count": null,
   "metadata": {},
   "outputs": [],
   "source": [
    "derivMat = OT.ExactSpatDerivOp(omega) # Works on fine grid to produce results on AMR grid!\n",
    "spatOp = c * derivMat\n",
    "# testDeriv = TT.ExactSpatDeriv(omega, t, waveform, -1, order)\n",
    "# THIS IS A PROBLEM FOR NEW RK SETUP!!!\n",
    "\n",
    "FCoefs = nullspace @ FFTT.FourierCoefs(waves @ nullspace, waveform)\n",
    "FCoefsDeriv = nullspace @ FFTT.FourierCoefs(waves @ nullspace, waveDeriv)\n",
    "FCoefsTestDeriv = spatOp @ FCoefs# FFTT.FourierCoefs(waves @ nullspace, testDeriv)\n",
    "allCoefs = PT.Load(FCoefs, FCoefsDeriv, FCoefsTestDeriv)\n",
    "labels = ['Initial Waveform', 'Exact Derivative', 'Fourier Derivative']"
   ]
  },
  {
   "cell_type": "code",
   "execution_count": null,
   "metadata": {},
   "outputs": [],
   "source": [
    "PT.PlotMixedWave(omega, physics, waves, allCoefs, rescale = 6, yGrid = True, labels = labels)#, saveName = 'GaussTest', dpi = 300)\n"
   ]
  },
  {
   "cell_type": "code",
   "execution_count": null,
   "metadata": {},
   "outputs": [],
   "source": [
    "what = (waves @ FCoefsTestDeriv) / (waves @ FCoefsDeriv)\n",
    "print(FCoefsTestDeriv)\n",
    "print(FCoefs)\n",
    "print(what)\n",
    "print('')"
   ]
  },
  {
   "cell_type": "code",
   "execution_count": null,
   "metadata": {},
   "outputs": [],
   "source": []
  }
 ],
 "metadata": {
  "kernelspec": {
   "display_name": "Python 3",
   "language": "python",
   "name": "python3"
  },
  "language_info": {
   "codemirror_mode": {
    "name": "ipython",
    "version": 3
   },
   "file_extension": ".py",
   "mimetype": "text/x-python",
   "name": "python",
   "nbconvert_exporter": "python",
   "pygments_lexer": "ipython3",
   "version": "3.7.3"
  }
 },
 "nbformat": 4,
 "nbformat_minor": 2
}
