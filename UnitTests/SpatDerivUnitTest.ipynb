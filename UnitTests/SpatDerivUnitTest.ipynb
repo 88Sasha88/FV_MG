{
 "cells": [
  {
   "cell_type": "markdown",
   "metadata": {},
   "source": [
    "Here, you develop the exact spatial derivative operator and its unit test."
   ]
  },
  {
   "cell_type": "code",
   "execution_count": 1,
   "metadata": {},
   "outputs": [
    {
     "data": {
      "text/html": [
       "<style>pre { white-space: pre !important; }</style>"
      ],
      "text/plain": [
       "<IPython.core.display.HTML object>"
      ]
     },
     "metadata": {},
     "output_type": "display_data"
    },
    {
     "data": {
      "text/html": [
       "<style>pre { white-space: pre !important; }</style>"
      ],
      "text/plain": [
       "<IPython.core.display.HTML object>"
      ]
     },
     "metadata": {},
     "output_type": "display_data"
    }
   ],
   "source": [
    "import os.path\n",
    "from scipy import *\n",
    "import numpy as np\n",
    "from numpy import *\n",
    "from numpy import linalg as LA\n",
    "from scipy import linalg as LA2\n",
    "import sympy as sympy\n",
    "import sys as sys\n",
    "import time\n",
    "import matplotlib.pyplot as plt\n",
    "import itertools as it\n",
    "from IPython.core.display import HTML\n",
    "\n",
    "\n",
    "sys.path.append('/Users/sashacurcic/SashasDirectory/ANAG/FV_MG/')\n",
    "from Modules import BasicTools as BT\n",
    "from Modules import WaveTools as WT\n",
    "from Modules import PlotTools as PT\n",
    "from Modules import FFTTools as FFTT\n",
    "from Modules import OperatorTools as OT\n",
    "from Modules import GridTransferTools as GTT\n",
    "from Modules import TestTools as TT\n",
    "from Modules import SolverTools as ST\n",
    "\n",
    "display(HTML(\"<style>pre { white-space: pre !important; }</style>\"))\n",
    "np.set_printoptions( linewidth = 10000, threshold = 100000)"
   ]
  },
  {
   "cell_type": "code",
   "execution_count": 2,
   "metadata": {},
   "outputs": [],
   "source": [
    "nh = 32\n",
    "refRatio = 2\n",
    "c = 1.\n",
    "CFL = 0.5\n",
    "nt = 1\n",
    "RK = 4\n",
    "deriv = 'CD'\n",
    "order = 1"
   ]
  },
  {
   "cell_type": "code",
   "execution_count": 3,
   "metadata": {},
   "outputs": [],
   "source": [
    "omega = BT.Grid(nh)\n",
    "nh_max = omega.nh_max"
   ]
  },
  {
   "cell_type": "code",
   "execution_count": null,
   "metadata": {},
   "outputs": [],
   "source": []
  },
  {
   "cell_type": "code",
   "execution_count": 25,
   "metadata": {},
   "outputs": [],
   "source": [
    "def ExactSpatDeriv(omega, u = 0):\n",
    "    nh_max = omega.nh_max\n",
    "    subsuper = np.linspace(0.5, nh_max, num = 2 * nh_max)\n",
    "    subsuper[::2] = 0\n",
    "    Op = np.zeros((nh_max, nh_max), float)\n",
    "    np.fill_diagonal(Op[1:], subsuper[1:])\n",
    "    np.fill_diagonal(Op[:, 1:], -subsuper)\n",
    "    Op = 2 * np.pi * Op\n",
    "    print(subsuper)\n",
    "    print(Op)\n",
    "    return"
   ]
  },
  {
   "cell_type": "code",
   "execution_count": 26,
   "metadata": {},
   "outputs": [
    {
     "name": "stdout",
     "output_type": "stream",
     "text": [
      "[ 0.  1.  0.  2.  0.  3.  0.  4.  0.  5.  0.  6.  0.  7.  0.  8.  0.  9.  0. 10.  0. 11.  0. 12.  0. 13.  0. 14.  0. 15.  0. 16.  0. 17.  0. 18.  0. 19.  0. 20.  0. 21.  0. 22.  0. 23.  0. 24.  0. 25.  0. 26.  0. 27.  0. 28.  0. 29.  0. 30.  0. 31.  0. 32.]\n",
      "[[  0.          -0.           0.           0.           0.           0.           0.           0.           0.           0.           0.           0.           0.           0.           0.           0.           0.           0.           0.           0.           0.           0.           0.           0.           0.           0.           0.           0.           0.           0.           0.           0.        ]\n",
      " [  6.28318531   0.          -6.28318531   0.           0.           0.           0.           0.           0.           0.           0.           0.           0.           0.           0.           0.           0.           0.           0.           0.           0.           0.           0.           0.           0.           0.           0.           0.           0.           0.           0.           0.        ]\n",
      " [  0.           0.           0.          -0.           0.           0.           0.           0.           0.           0.           0.           0.           0.           0.           0.           0.           0.           0.           0.           0.           0.           0.           0.           0.           0.           0.           0.           0.           0.           0.           0.           0.        ]\n",
      " [  0.           0.          12.56637061   0.         -12.56637061   0.           0.           0.           0.           0.           0.           0.           0.           0.           0.           0.           0.           0.           0.           0.           0.           0.           0.           0.           0.           0.           0.           0.           0.           0.           0.           0.        ]\n",
      " [  0.           0.           0.           0.           0.          -0.           0.           0.           0.           0.           0.           0.           0.           0.           0.           0.           0.           0.           0.           0.           0.           0.           0.           0.           0.           0.           0.           0.           0.           0.           0.           0.        ]\n",
      " [  0.           0.           0.           0.          18.84955592   0.         -18.84955592   0.           0.           0.           0.           0.           0.           0.           0.           0.           0.           0.           0.           0.           0.           0.           0.           0.           0.           0.           0.           0.           0.           0.           0.           0.        ]\n",
      " [  0.           0.           0.           0.           0.           0.           0.          -0.           0.           0.           0.           0.           0.           0.           0.           0.           0.           0.           0.           0.           0.           0.           0.           0.           0.           0.           0.           0.           0.           0.           0.           0.        ]\n",
      " [  0.           0.           0.           0.           0.           0.          25.13274123   0.         -25.13274123   0.           0.           0.           0.           0.           0.           0.           0.           0.           0.           0.           0.           0.           0.           0.           0.           0.           0.           0.           0.           0.           0.           0.        ]\n",
      " [  0.           0.           0.           0.           0.           0.           0.           0.           0.          -0.           0.           0.           0.           0.           0.           0.           0.           0.           0.           0.           0.           0.           0.           0.           0.           0.           0.           0.           0.           0.           0.           0.        ]\n",
      " [  0.           0.           0.           0.           0.           0.           0.           0.          31.41592654   0.         -31.41592654   0.           0.           0.           0.           0.           0.           0.           0.           0.           0.           0.           0.           0.           0.           0.           0.           0.           0.           0.           0.           0.        ]\n",
      " [  0.           0.           0.           0.           0.           0.           0.           0.           0.           0.           0.          -0.           0.           0.           0.           0.           0.           0.           0.           0.           0.           0.           0.           0.           0.           0.           0.           0.           0.           0.           0.           0.        ]\n",
      " [  0.           0.           0.           0.           0.           0.           0.           0.           0.           0.          37.69911184   0.         -37.69911184   0.           0.           0.           0.           0.           0.           0.           0.           0.           0.           0.           0.           0.           0.           0.           0.           0.           0.           0.        ]\n",
      " [  0.           0.           0.           0.           0.           0.           0.           0.           0.           0.           0.           0.           0.          -0.           0.           0.           0.           0.           0.           0.           0.           0.           0.           0.           0.           0.           0.           0.           0.           0.           0.           0.        ]\n",
      " [  0.           0.           0.           0.           0.           0.           0.           0.           0.           0.           0.           0.          43.98229715   0.         -43.98229715   0.           0.           0.           0.           0.           0.           0.           0.           0.           0.           0.           0.           0.           0.           0.           0.           0.        ]\n",
      " [  0.           0.           0.           0.           0.           0.           0.           0.           0.           0.           0.           0.           0.           0.           0.          -0.           0.           0.           0.           0.           0.           0.           0.           0.           0.           0.           0.           0.           0.           0.           0.           0.        ]\n",
      " [  0.           0.           0.           0.           0.           0.           0.           0.           0.           0.           0.           0.           0.           0.          50.26548246   0.         -50.26548246   0.           0.           0.           0.           0.           0.           0.           0.           0.           0.           0.           0.           0.           0.           0.        ]\n",
      " [  0.           0.           0.           0.           0.           0.           0.           0.           0.           0.           0.           0.           0.           0.           0.           0.           0.          -0.           0.           0.           0.           0.           0.           0.           0.           0.           0.           0.           0.           0.           0.           0.        ]\n",
      " [  0.           0.           0.           0.           0.           0.           0.           0.           0.           0.           0.           0.           0.           0.           0.           0.          56.54866776   0.         -56.54866776   0.           0.           0.           0.           0.           0.           0.           0.           0.           0.           0.           0.           0.        ]\n",
      " [  0.           0.           0.           0.           0.           0.           0.           0.           0.           0.           0.           0.           0.           0.           0.           0.           0.           0.           0.          -0.           0.           0.           0.           0.           0.           0.           0.           0.           0.           0.           0.           0.        ]\n",
      " [  0.           0.           0.           0.           0.           0.           0.           0.           0.           0.           0.           0.           0.           0.           0.           0.           0.           0.          62.83185307   0.         -62.83185307   0.           0.           0.           0.           0.           0.           0.           0.           0.           0.           0.        ]\n",
      " [  0.           0.           0.           0.           0.           0.           0.           0.           0.           0.           0.           0.           0.           0.           0.           0.           0.           0.           0.           0.           0.          -0.           0.           0.           0.           0.           0.           0.           0.           0.           0.           0.        ]\n",
      " [  0.           0.           0.           0.           0.           0.           0.           0.           0.           0.           0.           0.           0.           0.           0.           0.           0.           0.           0.           0.          69.11503838   0.         -69.11503838   0.           0.           0.           0.           0.           0.           0.           0.           0.        ]\n",
      " [  0.           0.           0.           0.           0.           0.           0.           0.           0.           0.           0.           0.           0.           0.           0.           0.           0.           0.           0.           0.           0.           0.           0.          -0.           0.           0.           0.           0.           0.           0.           0.           0.        ]\n",
      " [  0.           0.           0.           0.           0.           0.           0.           0.           0.           0.           0.           0.           0.           0.           0.           0.           0.           0.           0.           0.           0.           0.          75.39822369   0.         -75.39822369   0.           0.           0.           0.           0.           0.           0.        ]\n",
      " [  0.           0.           0.           0.           0.           0.           0.           0.           0.           0.           0.           0.           0.           0.           0.           0.           0.           0.           0.           0.           0.           0.           0.           0.           0.          -0.           0.           0.           0.           0.           0.           0.        ]\n",
      " [  0.           0.           0.           0.           0.           0.           0.           0.           0.           0.           0.           0.           0.           0.           0.           0.           0.           0.           0.           0.           0.           0.           0.           0.          81.68140899   0.         -81.68140899   0.           0.           0.           0.           0.        ]\n",
      " [  0.           0.           0.           0.           0.           0.           0.           0.           0.           0.           0.           0.           0.           0.           0.           0.           0.           0.           0.           0.           0.           0.           0.           0.           0.           0.           0.          -0.           0.           0.           0.           0.        ]\n",
      " [  0.           0.           0.           0.           0.           0.           0.           0.           0.           0.           0.           0.           0.           0.           0.           0.           0.           0.           0.           0.           0.           0.           0.           0.           0.           0.          87.9645943    0.         -87.9645943    0.           0.           0.        ]\n",
      " [  0.           0.           0.           0.           0.           0.           0.           0.           0.           0.           0.           0.           0.           0.           0.           0.           0.           0.           0.           0.           0.           0.           0.           0.           0.           0.           0.           0.           0.          -0.           0.           0.        ]\n",
      " [  0.           0.           0.           0.           0.           0.           0.           0.           0.           0.           0.           0.           0.           0.           0.           0.           0.           0.           0.           0.           0.           0.           0.           0.           0.           0.           0.           0.          94.24777961   0.         -94.24777961   0.        ]\n",
      " [  0.           0.           0.           0.           0.           0.           0.           0.           0.           0.           0.           0.           0.           0.           0.           0.           0.           0.           0.           0.           0.           0.           0.           0.           0.           0.           0.           0.           0.           0.           0.          -0.        ]\n",
      " [  0.           0.           0.           0.           0.           0.           0.           0.           0.           0.           0.           0.           0.           0.           0.           0.           0.           0.           0.           0.           0.           0.           0.           0.           0.           0.           0.           0.           0.           0.         100.53096491   0.        ]]\n"
     ]
    }
   ],
   "source": [
    "ExactSpatDeriv(omega)"
   ]
  },
  {
   "cell_type": "code",
   "execution_count": null,
   "metadata": {},
   "outputs": [],
   "source": []
  }
 ],
 "metadata": {
  "kernelspec": {
   "display_name": "Python 3",
   "language": "python",
   "name": "python3"
  },
  "language_info": {
   "codemirror_mode": {
    "name": "ipython",
    "version": 3
   },
   "file_extension": ".py",
   "mimetype": "text/x-python",
   "name": "python",
   "nbconvert_exporter": "python",
   "pygments_lexer": "ipython3",
   "version": "3.7.3"
  }
 },
 "nbformat": 4,
 "nbformat_minor": 2
}
