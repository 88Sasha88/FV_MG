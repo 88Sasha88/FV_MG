{
 "cells": [
  {
   "cell_type": "markdown",
   "metadata": {},
   "source": [
    "This tests the accuracy of a differential operator on a polynomial of the given order. If the operator is working to said order, then the `Actual` and `Theoretical` outputs should match (except possibly at the edges.)"
   ]
  },
  {
   "cell_type": "code",
   "execution_count": 1,
   "metadata": {
    "scrolled": true
   },
   "outputs": [
    {
     "data": {
      "text/html": [
       "<style>pre { white-space: pre !important; }</style>"
      ],
      "text/plain": [
       "<IPython.core.display.HTML object>"
      ]
     },
     "metadata": {},
     "output_type": "display_data"
    },
    {
     "data": {
      "text/html": [
       "<style>pre { white-space: pre !important; }</style>"
      ],
      "text/plain": [
       "<IPython.core.display.HTML object>"
      ]
     },
     "metadata": {},
     "output_type": "display_data"
    }
   ],
   "source": [
    "import os.path\n",
    "from scipy import *\n",
    "import numpy as np\n",
    "from numpy import *\n",
    "from numpy import linalg as LA\n",
    "from scipy import linalg as LA2\n",
    "import sympy as sympy\n",
    "import sys as sys\n",
    "import time\n",
    "import matplotlib.pyplot as plt\n",
    "import itertools as it\n",
    "from IPython.core.display import HTML\n",
    "\n",
    "sys.path.append('/Users/sashacurcic/SashasDirectory/ANAG/FV_MG/')\n",
    "from Modules import BasicTools as BT\n",
    "from Modules import WaveTools as WT\n",
    "from Modules import PlotTools as PT\n",
    "from Modules import FFTTools as FFTT\n",
    "from Modules import OperatorTools as OT\n",
    "from Modules import GridTransferTools as GTT\n",
    "from Modules import TestTools as TT\n",
    "from Modules import SolverTools as ST\n",
    "\n",
    "display(HTML(\"<style>pre { white-space: pre !important; }</style>\"))\n",
    "np.set_printoptions( linewidth = 10000, threshold = 100000)"
   ]
  },
  {
   "cell_type": "markdown",
   "metadata": {},
   "source": [
    "This cell takes all of the input parameters."
   ]
  },
  {
   "cell_type": "code",
   "execution_count": 2,
   "metadata": {},
   "outputs": [],
   "source": [
    "# Grid parameters.\n",
    "nh_min = 64\n",
    "refRatio = 2\n",
    "cfInter = int(nh_min / refRatio)\n",
    "\n",
    "L = 1\n",
    "locs = [0.5]\n",
    "epsilons = [1, 0.5] # [1, 1]\n",
    "mus = [1, 0.5]\n",
    "\n",
    "# Time integration parameters.\n",
    "deriv = 'CD'\n",
    "RL = 'L'\n",
    "# RK = 4\n",
    "orders = 3"
   ]
  },
  {
   "cell_type": "markdown",
   "metadata": {},
   "source": [
    "This cell contains the relevant switch information."
   ]
  },
  {
   "cell_type": "code",
   "execution_count": 3,
   "metadata": {},
   "outputs": [],
   "source": [
    "printOut = False\n",
    "\n"
   ]
  },
  {
   "cell_type": "markdown",
   "metadata": {},
   "source": [
    "This cell instantiates the Grid and the Physics objects."
   ]
  },
  {
   "cell_type": "code",
   "execution_count": 4,
   "metadata": {},
   "outputs": [],
   "source": [
    "omega = BT.Grid(nh_min)\n",
    "finepart = list(int(nh_min / 2) + np.arange(-5, 5)) # list(np.arange(int(nh_min / 4), int(3 * nh_min / 4))) # list(np.arange(int(nh_min / refRatio)))# + int(nh_min / refRatio)) # list(np.arange(int(nh_min / 4), int(3 * nh_min / 4)))\n",
    "omega.AddPatch(refRatio, finepart)\n",
    "degFreed = omega.degFreed\n",
    "\n",
    "\n",
    "physics = BT.PhysProps(omega, epsilons, mus, locs, L)"
   ]
  },
  {
   "cell_type": "markdown",
   "metadata": {},
   "source": [
    "This cell runs a test on the derivative operator on a cell-averaged polynomial which matches the given order.  \n",
    "$P (x) = \\sum_{k = 0}^{o} x^{k}$  \n",
    "$<P (x)> = \\frac{1}{\\Delta x} \\int_{x}^{x + \\Delta x} P (x')$d$x'$  \n",
    "$<P (x)> = \\frac{1}{\\Delta x} \\sum_{k = 1}^{o} \\frac{1}{k} [(x + \\Delta x)^{k} - x^{k}]$  \n",
    "$<\\frac{d P (x)}{d x}> = \\sum_{k = 1}^{o} [(x + \\Delta x)^{k} - x^{k}]$  \n",
    "This derivative operator comprises both the left and right cell faces and assumes periodic boundaries. This method of approximating the derivative produces as many nonzero error elements as the order of the approximation at the boundaries of the whole solution space, no matter where the refinement patch is located. It works up to order 9 for upwind and downwind derivatives and up to order 10 for center-difference derivatives.\n"
   ]
  },
  {
   "cell_type": "code",
   "execution_count": 5,
   "metadata": {},
   "outputs": [
    {
     "name": "stdout",
     "output_type": "stream",
     "text": [
      "Order: 2\n",
      "Difference Between Actual and Theoretical:\n",
      "[63.5 -0.   0.   0.  -0.   0.   0.  -0.   0.   0.  -0.   0.   0.  -0.   0.   0.  -0.   0.   0.  -0.   0.   0.  -0.   0.   0.  -0.   0.   0.  -0.   0.   0.  -0.   0.   0.  -0.   0.   0.  -0.   0.   0.  -0.   0.   0.  -0.   0.   0.  -0.  -0.   0.   0.  -0.   0.   0.  -0.   0.   0.  -0.   0.   0.  -0.   0.   0.  -0.   0.   0.  -0.   0.   0.  -0.   0.   0.  -0.   0.  64.5]\n",
      "Total Nonzero Error Elements: 2\n",
      "\n",
      "\n",
      "Order: 4\n",
      "Difference Between Actual and Theoretical:\n",
      "[147.462382   -20.96221924  -0.           0.           0.          -0.           0.           0.           0.          -0.           0.          -0.           0.           0.          -0.           0.          -0.          -0.           0.           0.          -0.           0.           0.          -0.           0.          -0.          -0.           0.          -0.           0.           0.          -0.           0.           0.          -0.           0.           0.          -0.           0.           0.          -0.           0.           0.          -0.           0.          -0.          -0.           0.          -0.          -0.           0.           0.          -0.           0.           0.          -0.           0.           0.           0.          -0.           0.           0.          -0.           0.          -0.          -0.           0.           0.          -0.           0.           0.          -0.         -21.71225993 151.21209717]\n",
      "Total Nonzero Error Elements: 4\n",
      "\n",
      "\n",
      "Order: 6\n",
      "Difference Between Actual and Theoretical:\n",
      "[232.97047673 -50.20610476   6.23625039   0.          -0.           0.           0.          -0.           0.           0.          -0.          -0.           0.           0.          -0.           0.          -0.          -0.           0.          -0.          -0.           0.          -0.           0.           0.          -0.          -0.          -0.           0.           0.          -0.           0.          -0.          -0.           0.           0.          -0.          -0.           0.           0.          -0.           0.          -0.          -0.           0.           0.          -0.          -0.           0.          -0.           0.          -0.          -0.           0.          -0.           0.          -0.          -0.          -0.          -0.           0.           0.           0.          -0.          -0.           0.          -0.          -0.           0.           0.          -0.           6.5696529  -52.20568961 240.63541435]\n",
      "Total Nonzero Error Elements: 6\n",
      "\n",
      "\n"
     ]
    }
   ],
   "source": [
    "for o in range(orders):\n",
    "    order = 2*o + 1\n",
    "    if ((deriv == 'CD') or (deriv == 'C')):\n",
    "        order = order + 1\n",
    "    print('Order:', order)\n",
    "    TT.DerivPolyTest(omega, deriv, order, deriv = 0, printOut = printOut)"
   ]
  },
  {
   "cell_type": "markdown",
   "metadata": {},
   "source": [
    "This cell runs a similar test, but instead of a derivative, it operates on one face at a time. Then it takes the difference of those faces and divides by the appropriate length intervals. Like the test of the derivative operator, it also assumes periodic boundaries. Unlike in the derivative operator case, in which interpolation and restriction were predicated on the proximity of the central cell of the derivative to the AMR boundary, the face operator determines restriction and interpolation based on the distance of that face from the patch boundary. Because of this, it gains an extra nonzero element located at each patch boundary. So that is one extra error element if the patch is located entirely on one side of the whole solution space and two extra error elements at either side of the patch if it is located in the middle. This pattern is consistent for both upwind and downwind face operators up to order 9. It is not yet set up to handle center-difference faces.\n"
   ]
  },
  {
   "cell_type": "code",
   "execution_count": 6,
   "metadata": {},
   "outputs": [
    {
     "name": "stdout",
     "output_type": "stream",
     "text": [
      "Order: 2\n",
      "Difference Between Actual and Theoretical:\n",
      "[63.5 -0.   0.   0.  -0.   0.   0.  -0.   0.   0.  -0.   0.   0.  -0.   0.   0.  -0.   0.   0.  -0.   0.   0.  -0.   0.   0.  -0.   0.   0.  -0.   0.   0.  -0.   0.   0.  -0.   0.   0.  -0.   0.   0.  -0.   0.   0.  -0.   0.   0.  -0.  -0.   0.   0.  -0.   0.   0.  -0.   0.   0.  -0.   0.   0.  -0.   0.   0.  -0.   0.   0.  -0.   0.   0.  -0.   0.   0.  -0.   0.  64.5]\n",
      "Total Nonzero Error Elements: 2\n",
      "\n",
      "\n",
      "Order: 4\n",
      "Difference Between Actual and Theoretical:\n",
      "[147.4623819987 -20.9622192383  -0.             0.             0.            -0.             0.             0.             0.            -0.             0.            -0.             0.             0.            -0.             0.            -0.            -0.             0.             0.            -0.             0.             0.            -0.             0.            -0.            -0.             0.             0.            -0.             0.            -0.             0.             0.            -0.            -0.             0.            -0.             0.             0.            -0.             0.             0.            -0.             0.            -0.            -0.             0.            -0.             0.             0.             0.            -0.             0.             0.            -0.            -0.             0.             0.            -0.             0.             0.            -0.             0.            -0.            -0.             0.             0.            -0.             0.             0.            -0.           -21.7122599284 151.212097168 ]\n",
      "Total Nonzero Error Elements: 4\n",
      "\n",
      "\n",
      "Order: 6\n",
      "Difference Between Actual and Theoretical:\n",
      "[232.970476729  -50.2061047561   6.236250389    0.            -0.             0.             0.            -0.             0.             0.            -0.            -0.             0.             0.            -0.             0.            -0.            -0.             0.            -0.            -0.             0.            -0.             0.             0.            -0.            -0.            -0.             0.             0.            -0.             0.            -0.            -0.             0.             0.            -0.            -0.             0.             0.            -0.             0.            -0.            -0.             0.             0.            -0.            -0.             0.            -0.             0.            -0.            -0.             0.            -0.             0.            -0.            -0.            -0.            -0.             0.             0.             0.            -0.            -0.             0.            -0.            -0.             0.             0.            -0.             6.5696528974 -52.2056896097 240.6354143504]\n",
      "Total Nonzero Error Elements: 6\n",
      "\n",
      "\n"
     ]
    }
   ],
   "source": [
    "for o in range(orders):\n",
    "    order = 2*o + 1\n",
    "    if ((deriv == 'CD') or (deriv == 'C')):\n",
    "        order = order + 1\n",
    "    print('Order:', order)\n",
    "\n",
    "    TT.FacePolyTest1(omega, deriv, order, RL, printOut = printOut)"
   ]
  },
  {
   "cell_type": "markdown",
   "metadata": {},
   "source": [
    "This cell runs the same test as the previous cell, except it gets rid of periodic boundaries. The results on the error remain unchanged.\n"
   ]
  },
  {
   "cell_type": "code",
   "execution_count": 7,
   "metadata": {},
   "outputs": [
    {
     "name": "stdout",
     "output_type": "stream",
     "text": [
      "Order: 2\n",
      "Difference Between Actual and Theoretical:\n",
      "[63.5 -0.   0.   0.  -0.   0.   0.  -0.   0.   0.  -0.   0.   0.  -0.   0.   0.  -0.   0.   0.  -0.   0.   0.  -0.   0.   0.  -0.   0.   0.  -0.   0.   0.  -0.   0.   0.  -0.   0.   0.  -0.   0.   0.  -0.   0.   0.  -0.   0.   0.  -0.  -0.   0.   0.  -0.   0.   0.  -0.   0.   0.  -0.   0.   0.  -0.   0.   0.  -0.   0.   0.  -0.   0.   0.  -0.   0.   0.  -0.   0.  64.5]\n",
      "Total Nonzero Error Elements: 2\n",
      "\n",
      "\n",
      "Order: 4\n",
      "Difference Between Actual and Theoretical:\n",
      "[147.4623819987 -20.9622192383  -0.             0.             0.            -0.             0.             0.             0.            -0.             0.            -0.             0.             0.            -0.             0.            -0.            -0.             0.             0.            -0.             0.             0.            -0.             0.            -0.            -0.             0.             0.            -0.             0.            -0.             0.             0.            -0.            -0.             0.            -0.             0.             0.            -0.             0.             0.            -0.             0.            -0.            -0.             0.            -0.             0.             0.             0.            -0.             0.             0.            -0.            -0.             0.             0.            -0.             0.             0.            -0.             0.            -0.            -0.             0.             0.            -0.             0.             0.            -0.           -21.7122599284 151.212097168 ]\n",
      "Total Nonzero Error Elements: 4\n",
      "\n",
      "\n",
      "Order: 6\n",
      "Difference Between Actual and Theoretical:\n",
      "[232.970476729  -50.2061047561   6.236250389    0.            -0.             0.             0.            -0.             0.             0.            -0.            -0.             0.             0.            -0.             0.            -0.            -0.             0.            -0.            -0.             0.            -0.             0.             0.            -0.            -0.            -0.             0.             0.            -0.             0.            -0.            -0.             0.             0.            -0.            -0.             0.             0.            -0.             0.            -0.            -0.             0.             0.            -0.            -0.             0.            -0.             0.            -0.            -0.             0.            -0.             0.            -0.            -0.            -0.            -0.             0.             0.             0.            -0.            -0.             0.            -0.            -0.             0.             0.            -0.             6.5696528974 -52.2056896097 240.6354143504]\n",
      "Total Nonzero Error Elements: 6\n",
      "\n",
      "\n"
     ]
    }
   ],
   "source": [
    "for o in range(orders):\n",
    "    order = 2*o + 1\n",
    "    if ((deriv == 'CD') or (deriv == 'C')):\n",
    "        order = order + 1\n",
    "    Ng = 0\n",
    "    print('Order:', order)\n",
    "    TT.FacePolyTest(omega, physics, deriv, order, RL, Ng, printOut = printOut, pieces = False)"
   ]
  },
  {
   "cell_type": "markdown",
   "metadata": {},
   "source": [
    "This cell runs the same test as the previous cell, except it splits the regions in two at the location of the material boundary. The result is that several more error elements are added at the location of the incision.\n"
   ]
  },
  {
   "cell_type": "code",
   "execution_count": 8,
   "metadata": {},
   "outputs": [
    {
     "name": "stdout",
     "output_type": "stream",
     "text": [
      "Order: 2\n",
      "Difference Between Actual and Theoretical:\n",
      "[-31.7526041667  -0.             0.             0.            -0.             0.             0.            -0.             0.             0.            -0.             0.             0.            -0.             0.             0.            -0.             0.             0.            -0.             0.             0.            -0.             0.             0.            -0.             0.             0.            -0.             0.             0.            -0.             0.             0.            -0.             0.           112.5013020833]\n",
      "[-111.5013020833    0.              0.             -0.              0.              0.             -0.              0.              0.             -0.             -0.              0.              0.             -0.              0.              0.             -0.              0.              0.             -0.              0.              0.             -0.              0.              0.             -0.              0.              0.             -0.              0.              0.             -0.              0.              0.             -0.              0.             96.7526041667]\n",
      "Total Nonzero Error Elements: 4\n",
      "\n",
      "\n",
      "Order: 4\n",
      "Difference Between Actual and Theoretical:\n",
      "[-37.1254681693   5.2920956718  -0.             0.             0.            -0.             0.             0.             0.            -0.             0.            -0.             0.             0.            -0.             0.            -0.            -0.             0.             0.            -0.             0.             0.            -0.             0.            -0.            -0.             0.             0.            -0.             0.            -0.             0.             0.            -0.           -20.8029552115 145.3445911699]\n",
      "[-143.990477909    20.5321142488    0.             -0.              0.              0.             -0.              0.             -0.             -0.              0.             -0.              0.              0.              0.             -0.              0.              0.             -0.              0.              0.              0.             -0.              0.              0.             -0.              0.             -0.             -0.              0.              0.             -0.              0.              0.             -0.            -27.087699106   188.7541607963]\n",
      "Total Nonzero Error Elements: 8\n",
      "\n",
      "\n",
      "Order: 6\n",
      "Difference Between Actual and Theoretical:\n",
      "[-39.2751119229   8.4835127769  -1.0584191342   0.            -0.             0.             0.            -0.             0.             0.            -0.            -0.             0.             0.            -0.             0.            -0.            -0.             0.            -0.            -0.             0.            -0.             0.             0.            -0.            -0.            -0.             0.             0.            -0.             0.            -0.            -0.             4.2648539341 -34.0546913132 157.3523007663]\n",
      "[-155.9149024798   33.6797157318   -4.202349865    -0.              0.             -0.             -0.              0.              0.             -0.             -0.              0.             -0.              0.             -0.             -0.              0.             -0.              0.             -0.             -0.             -0.             -0.              0.              0.              0.             -0.             -0.              0.             -0.             -0.              0.              0.             -0.              7.6447407331  -60.7891901617  280.2938087913]\n",
      "Total Nonzero Error Elements: 12\n",
      "\n",
      "\n"
     ]
    }
   ],
   "source": [
    "for o in range(orders):\n",
    "    order = 2*o + 1\n",
    "    if ((deriv == 'CD') or (deriv == 'C')):\n",
    "        order = order + 1\n",
    "    Ng = 0\n",
    "    print('Order:', order)\n",
    "    TT.FacePolyTest(omega, physics, deriv, order, RL, Ng, printOut = printOut, pieces = True)"
   ]
  },
  {
   "cell_type": "markdown",
   "metadata": {},
   "source": [
    "This cell runs the same test as the previous cell, except it interpolates order-minus-2-many ghost cells at the material boundary using the function from Hans' Matlab code. The results remain just as bad as the previous cell.\n"
   ]
  },
  {
   "cell_type": "code",
   "execution_count": 9,
   "metadata": {},
   "outputs": [
    {
     "name": "stdout",
     "output_type": "stream",
     "text": [
      "Order: 2\n",
      "\n",
      "Difference Between Actual and Theoretical:\n",
      "[-31.7526041667  -0.             0.             0.            -0.             0.             0.            -0.             0.             0.            -0.             0.             0.            -0.             0.             0.            -0.             0.             0.            -0.             0.             0.            -0.             0.             0.            -0.             0.             0.            -0.             0.             0.            -0.             0.             0.            -0.             0.             0.0078125   ]\n",
      "[-0.0078125  0.         0.        -0.         0.         0.        -0.         0.         0.        -0.        -0.         0.         0.        -0.         0.         0.        -0.         0.         0.        -0.         0.         0.        -0.         0.         0.        -0.         0.         0.        -0.         0.         0.        -0.         0.         0.        -0.         0.         1.5      ]\n",
      "Total Nonzero Error Elements: 4\n",
      "\n",
      "\n",
      "Order: 4\n",
      "\n",
      "Difference Between Actual and Theoretical:\n",
      "[-37.1254681693   5.2920956718  -0.             0.             0.            -0.             0.             0.             0.            -0.             0.            -0.             0.             0.            -0.             0.            -0.            -0.             0.             0.            -0.             0.             0.            -0.             0.            -0.            -0.             0.             0.            -0.             0.            -0.             0.             0.            -0.            -0.0000009537   0.000002861 ]\n",
      "[-0.000002861   0.0000009537  0.           -0.            0.            0.           -0.            0.           -0.           -0.            0.           -0.            0.            0.            0.           -0.            0.            0.           -0.            0.            0.            0.           -0.            0.            0.           -0.            0.           -0.           -0.            0.            0.           -0.            0.            0.           -0.           -0.833384196   4.973956426 ]\n",
      "Total Nonzero Error Elements: 8\n",
      "\n",
      "\n",
      "Order: 6\n",
      "\n",
      "Difference Between Actual and Theoretical:\n",
      "[-39.2751119229   8.4835127769  -1.0584191342   0.            -0.             0.             0.            -0.             0.             0.            -0.            -0.             0.             0.            -0.             0.            -0.            -0.             0.            -0.            -0.             0.            -0.             0.             0.            -0.            -0.            -0.             0.             0.            -0.             0.            -0.            -0.             0.0000000004  -0.0000000007   0.0000000035]\n",
      "[-0.0000000035  0.0000000007 -0.0000000003 -0.            0.           -0.           -0.            0.            0.           -0.           -0.            0.           -0.            0.           -0.           -0.            0.           -0.            0.           -0.           -0.           -0.           -0.            0.            0.            0.           -0.           -0.            0.           -0.           -0.            0.            0.           -0.            0.35007121   -2.4318339766 10.391036435 ]\n",
      "Total Nonzero Error Elements: 12\n",
      "\n",
      "\n"
     ]
    }
   ],
   "source": [
    "for o in range(orders):\n",
    "    order = 2*o + 1\n",
    "    if ((deriv == 'CD') or (deriv == 'C')):\n",
    "        order = order + 1\n",
    "        Ng = int(order / 2)\n",
    "    else:\n",
    "        Ng = int((order + 1) / 2)\n",
    "    print('Order:', order)\n",
    "    TT.FacePolyTest(omega, physics, deriv, order, RL, Ng, printOut = printOut, pieces = True)"
   ]
  },
  {
   "cell_type": "code",
   "execution_count": 10,
   "metadata": {},
   "outputs": [
    {
     "name": "stdout",
     "output_type": "stream",
     "text": [
      "Order 0:\n",
      "p(x) =\n",
      "  \n",
      "2\n",
      "P(x) =\n",
      "  \n",
      "2 x\n",
      "2.0 1.9999999999999996\n",
      "Error = -4.440892098500626e-16\n",
      "\n",
      "Order 1:\n",
      "p(x) =\n",
      "  \n",
      "2 x\n",
      "P(x) =\n",
      "    2\n",
      "1 x\n",
      "0.5 0.5000000000000002\n",
      "Error = 2.220446049250313e-16\n",
      "\n",
      "Order 2:\n",
      "p(x) =\n",
      "    2\n",
      "2 x\n",
      "P(x) =\n",
      "         3\n",
      "0.6667 x\n",
      "0.16666666666666666 0.16666666666666663\n",
      "Error = -2.7755575615628914e-17\n",
      "\n",
      "Order 3:\n",
      "p(x) =\n",
      "    3\n",
      "2 x\n",
      "P(x) =\n",
      "      4\n",
      "0.5 x\n",
      "0.0625 0.06250000000000022\n",
      "Error = 2.220446049250313e-16\n",
      "\n",
      "Order 4:\n",
      "p(x) =\n",
      "    4\n",
      "2 x\n",
      "P(x) =\n",
      "      5\n",
      "0.4 x\n",
      "0.025 0.0250000000000008\n",
      "Error = 7.979727989493313e-16\n",
      "\n",
      "Order 5:\n",
      "p(x) =\n",
      "    5\n",
      "2 x\n",
      "P(x) =\n",
      "         6\n",
      "0.3333 x\n",
      "0.010416666666666666 0.010416666666665853\n",
      "Error = -8.135853102331225e-16\n",
      "\n",
      "Order 6:\n",
      "p(x) =\n",
      "    6\n",
      "2 x\n",
      "P(x) =\n",
      "         7\n",
      "0.2857 x\n",
      "0.004464285714285714 -1.6026785714285705\n",
      "Error = -1.6071428571428563\n",
      "\n"
     ]
    }
   ],
   "source": [
    "TT.TestPoly(5, 0.5, const = 2, tol = 1e-10)"
   ]
  },
  {
   "cell_type": "code",
   "execution_count": null,
   "metadata": {},
   "outputs": [],
   "source": []
  }
 ],
 "metadata": {
  "kernelspec": {
   "display_name": "Python 3",
   "language": "python",
   "name": "python3"
  },
  "language_info": {
   "codemirror_mode": {
    "name": "ipython",
    "version": 3
   },
   "file_extension": ".py",
   "mimetype": "text/x-python",
   "name": "python",
   "nbconvert_exporter": "python",
   "pygments_lexer": "ipython3",
   "version": "3.7.3"
  }
 },
 "nbformat": 4,
 "nbformat_minor": 2
}
