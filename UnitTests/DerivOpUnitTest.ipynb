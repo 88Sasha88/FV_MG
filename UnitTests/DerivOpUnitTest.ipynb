{
 "cells": [
  {
   "cell_type": "markdown",
   "metadata": {},
   "source": [
    "This tests the accuracy of a differential operator on a polynomial of the given order. If the operator is working to said order, then the `Actual` and `Theoretical` outputs should match (except possibly at the edges.)"
   ]
  },
  {
   "cell_type": "code",
   "execution_count": 1,
   "metadata": {},
   "outputs": [
    {
     "data": {
      "text/html": [
       "<style>pre { white-space: pre !important; }</style>"
      ],
      "text/plain": [
       "<IPython.core.display.HTML object>"
      ]
     },
     "metadata": {},
     "output_type": "display_data"
    },
    {
     "data": {
      "text/html": [
       "<style>pre { white-space: pre !important; }</style>"
      ],
      "text/plain": [
       "<IPython.core.display.HTML object>"
      ]
     },
     "metadata": {},
     "output_type": "display_data"
    }
   ],
   "source": [
    "import os.path\n",
    "from scipy import *\n",
    "import numpy as np\n",
    "from numpy import *\n",
    "from numpy import linalg as LA\n",
    "from scipy import linalg as LA2\n",
    "import sympy as sympy\n",
    "import sys as sys\n",
    "import time\n",
    "import matplotlib.pyplot as plt\n",
    "import itertools as it\n",
    "from IPython.core.display import HTML\n",
    "\n",
    "sys.path.append('/Users/sashacurcic/SashasDirectory/ANAG/FV_MG/')\n",
    "from Modules import BasicTools as BT\n",
    "from Modules import WaveTools as WT\n",
    "from Modules import PlotTools as PT\n",
    "from Modules import FFTTools as FFTT\n",
    "from Modules import OperatorTools as OT\n",
    "from Modules import GridTransferTools as GTT\n",
    "from Modules import TestTools as TT\n",
    "from Modules import SolverTools as ST\n",
    "\n",
    "display(HTML(\"<style>pre { white-space: pre !important; }</style>\"))\n",
    "np.set_printoptions( linewidth = 10000, threshold = 100000)"
   ]
  },
  {
   "cell_type": "markdown",
   "metadata": {},
   "source": [
    "This cell takes all of the input parameters."
   ]
  },
  {
   "cell_type": "code",
   "execution_count": 2,
   "metadata": {},
   "outputs": [],
   "source": [
    "# Grid parameters.\n",
    "nh_min = 8\n",
    "refRatio = 2\n",
    "cfInter = int(nh_min / refRatio)\n",
    "\n",
    "# Time integration parameters.\n",
    "deriv = 'U'\n",
    "RK = 4\n",
    "order = 1"
   ]
  },
  {
   "cell_type": "markdown",
   "metadata": {},
   "source": [
    "This cell contains the relevant switch information."
   ]
  },
  {
   "cell_type": "code",
   "execution_count": 3,
   "metadata": {},
   "outputs": [],
   "source": [
    "TimeIntFunc, DiffFunc = TT.SolverSwitch(deriv, RK)"
   ]
  },
  {
   "cell_type": "markdown",
   "metadata": {},
   "source": [
    "This cell instantiates the Grid and the Physics objects."
   ]
  },
  {
   "cell_type": "code",
   "execution_count": 4,
   "metadata": {},
   "outputs": [],
   "source": [
    "omega = BT.Grid(nh_min)\n",
    "finehalf = list(np.arange(cfInter))\n",
    "omega.AddPatch(refRatio, finehalf)"
   ]
  },
  {
   "cell_type": "markdown",
   "metadata": {},
   "source": [
    "This cell runs a test on the derivative operator on a polynomial which matches the given order."
   ]
  },
  {
   "cell_type": "code",
   "execution_count": 5,
   "metadata": {},
   "outputs": [
    {
     "name": "stdout",
     "output_type": "stream",
     "text": [
      "[[ 10.66666667   0.           0.           0.           0.           0.           0.           0.           0.           0.           0.         -10.66666667]\n",
      " [-16.          16.           0.           0.           0.           0.           0.           0.           0.           0.           0.           0.        ]\n",
      " [  0.         -16.          16.           0.           0.           0.           0.           0.           0.           0.           0.           0.        ]\n",
      " [  0.           0.         -16.          16.           0.           0.           0.           0.           0.           0.           0.           0.        ]\n",
      " [  0.           0.           0.         -16.          16.           0.           0.           0.           0.           0.           0.           0.        ]\n",
      " [  0.           0.           0.           0.         -16.          16.           0.           0.           0.           0.           0.           0.        ]\n",
      " [  0.           0.           0.           0.           0.         -16.          16.           0.           0.           0.           0.           0.        ]\n",
      " [  0.           0.           0.           0.           0.           0.         -16.          16.           0.           0.           0.           0.        ]\n",
      " [  0.           0.           0.           0.           0.           0.          -4.          -4.           8.           0.           0.           0.        ]\n",
      " [  0.           0.           0.           0.           0.           0.           0.           0.          -8.           8.           0.           0.        ]\n",
      " [  0.           0.           0.           0.           0.           0.           0.           0.           0.          -8.           8.           0.        ]\n",
      " [  0.           0.           0.           0.           0.           0.           0.           0.           0.           0.          -8.           8.        ]]\n",
      "x:\n",
      "[0.03125 0.09375 0.15625 0.21875 0.28125 0.34375 0.40625 0.46875 0.5625  0.6875  0.8125  0.9375 ]\n",
      "\n",
      "Polynomial Function:\n",
      "p(x) =   \n",
      "1 x + 1\n",
      "p(x) =\n",
      " [1.03125 1.09375 1.15625 1.21875 1.28125 1.34375 1.40625 1.46875 1.5625  1.6875  1.8125  1.9375 ]\n",
      "\n",
      "Polynomial Derivative:\n",
      "dp(x)/dx =  \n",
      "1\n",
      "Theoretical:\n",
      "dp(x)/dx =\n",
      " [1. 1. 1. 1. 1. 1. 1. 1. 1. 1. 1. 1.]\n",
      "Actual:\n",
      "dp(x)/dx =\n",
      " [-9.66666667  1.          1.          1.          1.          1.          1.          1.          1.          1.          1.          1.        ]\n",
      "\n"
     ]
    }
   ],
   "source": [
    "TT.DerivPolyTest(omega, DiffFunc, order)"
   ]
  },
  {
   "cell_type": "code",
   "execution_count": null,
   "metadata": {},
   "outputs": [],
   "source": []
  }
 ],
 "metadata": {
  "kernelspec": {
   "display_name": "Python 3",
   "language": "python",
   "name": "python3"
  },
  "language_info": {
   "codemirror_mode": {
    "name": "ipython",
    "version": 3
   },
   "file_extension": ".py",
   "mimetype": "text/x-python",
   "name": "python",
   "nbconvert_exporter": "python",
   "pygments_lexer": "ipython3",
   "version": "3.7.3"
  }
 },
 "nbformat": 4,
 "nbformat_minor": 2
}
