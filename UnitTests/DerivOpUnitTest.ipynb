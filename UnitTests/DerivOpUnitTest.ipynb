{
 "cells": [
  {
   "cell_type": "markdown",
   "metadata": {},
   "source": [
    "This tests the accuracy of a differential operator on a polynomial of the given order. If the operator is working to said order, then the `Actual` and `Theoretical` outputs should match (except possibly at the edges.)"
   ]
  },
  {
   "cell_type": "code",
   "execution_count": 1,
   "metadata": {
    "scrolled": true
   },
   "outputs": [
    {
     "data": {
      "text/html": [
       "<style>pre { white-space: pre !important; }</style>"
      ],
      "text/plain": [
       "<IPython.core.display.HTML object>"
      ]
     },
     "metadata": {},
     "output_type": "display_data"
    },
    {
     "data": {
      "text/html": [
       "<style>pre { white-space: pre !important; }</style>"
      ],
      "text/plain": [
       "<IPython.core.display.HTML object>"
      ]
     },
     "metadata": {},
     "output_type": "display_data"
    }
   ],
   "source": [
    "import os.path\n",
    "from scipy import *\n",
    "import numpy as np\n",
    "from numpy import *\n",
    "from numpy import linalg as LA\n",
    "from scipy import linalg as LA2\n",
    "import sympy as sympy\n",
    "import sys as sys\n",
    "import time\n",
    "import matplotlib.pyplot as plt\n",
    "import itertools as it\n",
    "from IPython.core.display import HTML\n",
    "\n",
    "sys.path.append('/Users/sashacurcic/SashasDirectory/ANAG/FV_MG/')\n",
    "from Modules import BasicTools as BT\n",
    "from Modules import WaveTools as WT\n",
    "from Modules import PlotTools as PT\n",
    "from Modules import FFTTools as FFTT\n",
    "from Modules import OperatorTools as OT\n",
    "from Modules import GridTransferTools as GTT\n",
    "from Modules import TestTools as TT\n",
    "from Modules import SolverTools as ST\n",
    "\n",
    "display(HTML(\"<style>pre { white-space: pre !important; }</style>\"))\n",
    "np.set_printoptions( linewidth = 10000, threshold = 100000)"
   ]
  },
  {
   "cell_type": "markdown",
   "metadata": {},
   "source": [
    "This cell takes all of the input parameters."
   ]
  },
  {
   "cell_type": "code",
   "execution_count": 2,
   "metadata": {},
   "outputs": [],
   "source": [
    "# Grid parameters.\n",
    "nh_min = 32\n",
    "refRatio = 2\n",
    "cfInter = int(nh_min / refRatio)\n",
    "\n",
    "L = 1\n",
    "locs = [0.5]\n",
    "epsilons = [1, 0.5] # [1, 1]\n",
    "mus = [1, 0.5]\n",
    "\n",
    "# Time integration parameters.\n",
    "deriv = 'UD'\n",
    "RL = 'L'\n",
    "# RK = 4\n",
    "orders = 5"
   ]
  },
  {
   "cell_type": "markdown",
   "metadata": {},
   "source": [
    "This cell contains the relevant switch information."
   ]
  },
  {
   "cell_type": "code",
   "execution_count": 3,
   "metadata": {},
   "outputs": [],
   "source": [
    "printOut = False\n",
    "\n"
   ]
  },
  {
   "cell_type": "markdown",
   "metadata": {},
   "source": [
    "This cell instantiates the Grid and the Physics objects."
   ]
  },
  {
   "cell_type": "code",
   "execution_count": 4,
   "metadata": {},
   "outputs": [],
   "source": [
    "omega = BT.Grid(nh_min)\n",
    "finepart = list(np.arange(int(nh_min / 4), int(3 * nh_min / 4))) # list(np.arange(int(nh_min / refRatio)))# + int(nh_min / refRatio)) # list(np.arange(int(nh_min / 4), int(3 * nh_min / 4)))\n",
    "omega.AddPatch(refRatio, finepart)\n",
    "degFreed = omega.degFreed\n",
    "\n",
    "\n",
    "physics = BT.PhysProps(omega, epsilons, mus, locs, L)"
   ]
  },
  {
   "cell_type": "markdown",
   "metadata": {},
   "source": [
    "This cell runs a test on the derivative operator on a cell-averaged polynomial which matches the given order.  \n",
    "$P (x) = \\sum_{k = 0}^{o} x^{k}$  \n",
    "$<P (x)> = \\frac{1}{\\Delta x} \\int_{x}^{x + \\Delta x} P (x')$d$x'$  \n",
    "$<P (x)> = \\frac{1}{\\Delta x} \\sum_{k = 1}^{o} \\frac{1}{k} [(x + \\Delta x)^{k} - x^{k}]$  \n",
    "$<\\frac{d P (x)}{d x}> = \\sum_{k = 1}^{o} [(x + \\Delta x)^{k} - x^{k}]$  \n",
    "This derivative operator comprises both the left and right cell faces and assumes periodic boundaries. This method of approximating the derivative produces as many nonzero error elements as the order of the approximation at the boundaries of the whole solution space, no matter where the refinement patch is located. It works up to order 9 for upwind and downwind derivatives and up to order 10 for center-difference derivatives.\n"
   ]
  },
  {
   "cell_type": "code",
   "execution_count": 5,
   "metadata": {},
   "outputs": [
    {
     "name": "stdout",
     "output_type": "stream",
     "text": [
      "Order: 1\n",
      "Difference Between Actual and Theoretical:\n",
      "[32.  0.  0.  0.  0.  0.  0.  0.  0.  0.  0.  0.  0.  0.  0.  0.  0.  0.  0.  0.  0.  0.  0.  0.  0.  0.  0.  0.  0.  0.  0.  0.  0.  0.  0.  0.  0.  0.  0.  0.  0.  0.  0.  0.  0.  0.  0.  0.]\n",
      "Total Nonzero Error Elements: 1\n",
      "\n",
      "\n",
      "Order: 3\n",
      "Difference Between Actual and Theoretical:\n",
      "[ 78.74479167 -15.58854167  -0.           0.          -0.          -0.           0.          -0.          -0.          -0.           0.          -0.          -0.           0.          -0.          -0.           0.          -0.          -0.           0.          -0.           0.           0.          -0.           0.           0.          -0.           0.           0.          -0.           0.           0.          -0.           0.           0.          -0.          -0.           0.          -0.          -0.           0.          -0.           0.           0.          -0.           0.           0.          32.84375   ]\n",
      "Total Nonzero Error Elements: 3\n",
      "\n",
      "\n",
      "Order: 5\n",
      "Difference Between Actual and Theoretical:\n",
      "[122.39557885 -33.62079586   5.10648431  -0.           0.          -0.          -0.           0.           0.          -0.          -0.           0.          -0.           0.          -0.           0.          -0.           0.          -0.           0.           0.          -0.           0.          -0.           0.           0.          -0.          -0.          -0.           0.           0.          -0.           0.          -0.          -0.           0.          -0.          -0.           0.          -0.           0.           0.          -0.           0.           0.           0.          -8.36006826  74.47880096]\n",
      "Total Nonzero Error Elements: 5\n",
      "\n",
      "\n",
      "Order: 7\n",
      "Difference Between Actual and Theoretical:\n",
      "[164.90947767 -52.02067087  12.73279918  -1.50754573  -0.          -0.           0.          -0.          -0.          -0.           0.          -0.          -0.           0.          -0.           0.           0.          -0.          -0.           0.           0.          -0.           0.           0.          -0.           0.          -0.          -0.           0.          -0.           0.          -0.          -0.           0.          -0.           0.          -0.           0.          -0.          -0.          -0.           0.          -0.          -0.           0.           2.26752478 -21.24925993 118.8676749 ]\n",
      "Total Nonzero Error Elements: 7\n",
      "\n",
      "\n",
      "Order: 9\n",
      "Difference Between Actual and Theoretical:\n",
      "[206.61164963 -70.43492622  21.65543323  -4.40623965   0.4241112   -0.          -0.           0.          -0.          -0.           0.          -0.          -0.           0.           0.          -0.           0.          -0.          -0.           0.          -0.          -0.          -0.           0.           0.          -0.          -0.          -0.           0.          -0.          -0.           0.           0.          -0.          -0.           0.           0.           0.          -0.          -0.           0.          -0.           0.           0.          -0.6176432    6.69050393 -36.65941734 164.73652842]\n",
      "Total Nonzero Error Elements: 9\n",
      "\n",
      "\n"
     ]
    }
   ],
   "source": [
    "for o in range(orders):\n",
    "    order = 2*o + 1\n",
    "    if ((deriv == 'CD') or (deriv == 'C')):\n",
    "        order = order + 1\n",
    "    print('Order:', order)\n",
    "    TT.DerivPolyTest(omega, deriv, order, deriv = 0, printOut = printOut)"
   ]
  },
  {
   "cell_type": "markdown",
   "metadata": {},
   "source": [
    "This cell runs a similar test, but instead of a derivative, it operates on one face at a time. Then it takes the difference of those faces and divides by the appropriate length intervals. Like the test of the derivative operator, it also assumes periodic boundaries. Unlike in the derivative operator case, in which interpolation and restriction were predicated on the proximity of the central cell of the derivative to the AMR boundary, the face operator determines restriction and interpolation based on the distance of that face from the patch boundary. Because of this, it gains an extra nonzero element located at each patch boundary. So that is one extra error element if the patch is located entirely on one side of the whole solution space and two extra error elements at either side of the patch if it is located in the middle. This pattern is consistent for both upwind and downwind face operators up to order 9. It is not yet set up to handle center-difference faces.\n"
   ]
  },
  {
   "cell_type": "code",
   "execution_count": 6,
   "metadata": {},
   "outputs": [
    {
     "name": "stdout",
     "output_type": "stream",
     "text": [
      "Order: 1\n",
      "Difference Between Actual and Theoretical:\n",
      "[ 0.  0.  0.  0.  0.  0.  0.  0.  0.  0.  0.  0.  0.  0.  0.  0.  0.  0.  0.  0.  0.  0.  0.  0.  0.  0.  0.  0.  0.  0.  0.  0.  0.  0.  0.  0.  0.  0.  0.  0.  0.  0.  0.  0.  0.  0.  0. 32.]\n",
      "Total Nonzero Error Elements: 1\n",
      "\n",
      "\n",
      "Order: 3\n",
      "Difference Between Actual and Theoretical:\n",
      "[ 31.17708333333  -0.              0.              0.             -0.              0.              0.             -0.             -0.              0.              0.             -0.              0.              0.             -0.              0.              0.             -0.              0.             -0.             -0.              0.             -0.             -0.              0.             -0.             -0.              0.             -0.             -0.              0.             -0.             -0.              0.              0.             -0.              0.              0.             -0.             -0.             -0.             -0.              0.             -0.             -0.              0.            -16.421875       81.24479166667]\n",
      "Total Nonzero Error Elements: 3\n",
      "\n",
      "\n",
      "Order: 5\n",
      "Difference Between Actual and Theoretical:\n",
      "[ 69.58050994873  -7.65972646077  -0.              0.              0.             -0.             -0.              0.              0.             -0.              0.             -0.             -0.             -0.              0.             -0.              0.              0.             -0.              0.             -0.              0.             -0.             -0.              0.              0.             -0.             -0.             -0.              0.             -0.             -0.              0.             -0.              0.              0.             -0.              0.             -0.             -0.              0.             -0.             -0.             -0.              0.              5.57337883843 -35.71908688015 128.22492455377]\n",
      "Total Nonzero Error Elements: 5\n",
      "\n",
      "\n",
      "Order: 7\n",
      "Difference Between Actual and Theoretical:\n",
      "[109.49142085536 -19.32213670588   2.01006097519   0.             -0.              0.             -0.             -0.             -0.              0.              0.             -0.             -0.              0.             -0.              0.              0.             -0.             -0.              0.              0.             -0.              0.             -0.             -0.              0.             -0.              0.              0.             -0.              0.             -0.              0.             -0.              0.              0.             -0.              0.             -0.             -0.             -0.              0.             -0.              0.             -1.70064358846  13.95286075759 -55.67702233832 175.24546004451]\n",
      "Total Nonzero Error Elements: 7\n",
      "\n",
      "\n",
      "Order: 9\n",
      "Difference Between Actual and Theoretical:\n",
      "[149.6614443592  -33.0887614103    5.90540381417  -0.53013900239   0.             -0.              0.             -0.             -0.             -0.              0.             -0.             -0.              0.              0.             -0.              0.             -0.             -0.              0.             -0.              0.             -0.              0.              0.             -0.             -0.              0.              0.             -0.             -0.             -0.              0.             -0.             -0.             -0.              0.              0.             -0.             -0.              0.             -0.              0.              0.4941145626   -4.98181721948  23.83088782728 -75.9482386555  222.65710572442]\n",
      "Total Nonzero Error Elements: 9\n",
      "\n",
      "\n"
     ]
    }
   ],
   "source": [
    "for o in range(orders):\n",
    "    order = 2*o + 1\n",
    "    if ((deriv == 'CD') or (deriv == 'C')):\n",
    "        order = order + 1\n",
    "    print('Order:', order)\n",
    "\n",
    "    TT.FacePolyTest1(omega, deriv, order, RL, printOut = printOut)"
   ]
  },
  {
   "cell_type": "markdown",
   "metadata": {},
   "source": [
    "This cell runs the same test as the previous cell, except it gets rid of periodic boundaries. The results on the error remain unchanged.\n"
   ]
  },
  {
   "cell_type": "code",
   "execution_count": 7,
   "metadata": {},
   "outputs": [
    {
     "name": "stdout",
     "output_type": "stream",
     "text": [
      "Order: 1\n",
      "hMat2: (24, 24)\n",
      "wavediff2: (26,)\n"
     ]
    },
    {
     "ename": "ValueError",
     "evalue": "matmul: Input operand 1 has a mismatch in its core dimension 0, with gufunc signature (n?,k),(k,m?)->(n?,m?) (size 25 is different from 24)",
     "output_type": "error",
     "traceback": [
      "\u001b[0;31m---------------------------------------------------------------------------\u001b[0m",
      "\u001b[0;31mValueError\u001b[0m                                Traceback (most recent call last)",
      "\u001b[0;32m<ipython-input-7-e035cddfcb01>\u001b[0m in \u001b[0;36m<module>\u001b[0;34m\u001b[0m\n\u001b[1;32m      5\u001b[0m     \u001b[0mNg\u001b[0m \u001b[0;34m=\u001b[0m \u001b[0;36m0\u001b[0m\u001b[0;34m\u001b[0m\u001b[0;34m\u001b[0m\u001b[0m\n\u001b[1;32m      6\u001b[0m     \u001b[0mprint\u001b[0m\u001b[0;34m(\u001b[0m\u001b[0;34m'Order:'\u001b[0m\u001b[0;34m,\u001b[0m \u001b[0morder\u001b[0m\u001b[0;34m)\u001b[0m\u001b[0;34m\u001b[0m\u001b[0;34m\u001b[0m\u001b[0m\n\u001b[0;32m----> 7\u001b[0;31m     \u001b[0mTT\u001b[0m\u001b[0;34m.\u001b[0m\u001b[0mFacePolyTest\u001b[0m\u001b[0;34m(\u001b[0m\u001b[0momega\u001b[0m\u001b[0;34m,\u001b[0m \u001b[0mphysics\u001b[0m\u001b[0;34m,\u001b[0m \u001b[0mderiv\u001b[0m\u001b[0;34m,\u001b[0m \u001b[0morder\u001b[0m\u001b[0;34m,\u001b[0m \u001b[0mRL\u001b[0m\u001b[0;34m,\u001b[0m \u001b[0mNg\u001b[0m\u001b[0;34m,\u001b[0m \u001b[0mprintOut\u001b[0m \u001b[0;34m=\u001b[0m \u001b[0mprintOut\u001b[0m\u001b[0;34m,\u001b[0m \u001b[0mpieces\u001b[0m \u001b[0;34m=\u001b[0m \u001b[0;32mFalse\u001b[0m\u001b[0;34m)\u001b[0m\u001b[0;34m\u001b[0m\u001b[0;34m\u001b[0m\u001b[0m\n\u001b[0m",
      "\u001b[0;32m~/SashasDirectory/ANAG/FV_MG/Modules/TestTools.py\u001b[0m in \u001b[0;36mFacePolyTest\u001b[0;34m(omega, physics, diff, orderIn, RL, Ng, coefs, printOut, pieces)\u001b[0m\n\u001b[1;32m    537\u001b[0m         \u001b[0mprint\u001b[0m\u001b[0;34m(\u001b[0m\u001b[0;34m'hMat2:'\u001b[0m\u001b[0;34m,\u001b[0m \u001b[0mnp\u001b[0m\u001b[0;34m.\u001b[0m\u001b[0mshape\u001b[0m\u001b[0;34m(\u001b[0m\u001b[0mhMat2\u001b[0m\u001b[0;34m)\u001b[0m\u001b[0;34m)\u001b[0m\u001b[0;34m\u001b[0m\u001b[0;34m\u001b[0m\u001b[0m\n\u001b[1;32m    538\u001b[0m         \u001b[0mprint\u001b[0m\u001b[0;34m(\u001b[0m\u001b[0;34m'wavediff2:'\u001b[0m\u001b[0;34m,\u001b[0m \u001b[0mnp\u001b[0m\u001b[0;34m.\u001b[0m\u001b[0mshape\u001b[0m\u001b[0;34m(\u001b[0m\u001b[0mwavediff2\u001b[0m\u001b[0;34m)\u001b[0m\u001b[0;34m)\u001b[0m\u001b[0;34m\u001b[0m\u001b[0;34m\u001b[0m\u001b[0m\n\u001b[0;32m--> 539\u001b[0;31m         \u001b[0mwavederiv2\u001b[0m \u001b[0;34m=\u001b[0m \u001b[0mhMat2\u001b[0m \u001b[0;34m@\u001b[0m \u001b[0mwavediff2\u001b[0m\u001b[0;34m[\u001b[0m\u001b[0;34m:\u001b[0m\u001b[0;34m-\u001b[0m\u001b[0;36m1\u001b[0m\u001b[0;34m]\u001b[0m\u001b[0;34m\u001b[0m\u001b[0;34m\u001b[0m\u001b[0m\n\u001b[0m\u001b[1;32m    540\u001b[0m \u001b[0;34m\u001b[0m\u001b[0m\n\u001b[1;32m    541\u001b[0m \u001b[0;31m#     print(derivOp)\u001b[0m\u001b[0;34m\u001b[0m\u001b[0;34m\u001b[0m\u001b[0;34m\u001b[0m\u001b[0m\n",
      "\u001b[0;31mValueError\u001b[0m: matmul: Input operand 1 has a mismatch in its core dimension 0, with gufunc signature (n?,k),(k,m?)->(n?,m?) (size 25 is different from 24)"
     ]
    }
   ],
   "source": [
    "for o in range(orders):\n",
    "    order = 2*o + 1\n",
    "    if ((deriv == 'CD') or (deriv == 'C')):\n",
    "        order = order + 1\n",
    "    Ng = 0\n",
    "    print('Order:', order)\n",
    "    TT.FacePolyTest(omega, physics, deriv, order, RL, Ng, printOut = printOut, pieces = False)"
   ]
  },
  {
   "cell_type": "markdown",
   "metadata": {},
   "source": [
    "This cell runs the same test as the previous cell, except it splits the regions in two at the location of the material boundary. The result is that several more error elements are added at the location of the incision.\n"
   ]
  },
  {
   "cell_type": "code",
   "execution_count": null,
   "metadata": {},
   "outputs": [],
   "source": [
    "for o in range(orders):\n",
    "    order = 2*o + 1\n",
    "    if ((deriv == 'CD') or (deriv == 'C')):\n",
    "        order = order + 1\n",
    "    Ng = 0\n",
    "    print('Order:', order)\n",
    "    TT.FacePolyTest(omega, physics, deriv, order, RL, Ng, printOut = printOut, pieces = True)"
   ]
  },
  {
   "cell_type": "markdown",
   "metadata": {},
   "source": [
    "This cell runs the same test as the previous cell, except it interpolates order-minus-2-many ghost cells at the material boundary using the function from Hans' Matlab code. The results remain just as bad as the previous cell.\n"
   ]
  },
  {
   "cell_type": "code",
   "execution_count": null,
   "metadata": {},
   "outputs": [],
   "source": [
    "for o in range(orders):\n",
    "    order = 2*o + 1\n",
    "    if ((deriv == 'CD') or (deriv == 'C')):\n",
    "        order = order + 1\n",
    "        Ng = int(order / 2)\n",
    "    else:\n",
    "        Ng = int((order + 1) / 2)\n",
    "    print('Order:', order)\n",
    "    TT.FacePolyTest(omega, physics, deriv, order, RL, Ng, printOut = printOut, pieces = True)"
   ]
  },
  {
   "cell_type": "code",
   "execution_count": null,
   "metadata": {},
   "outputs": [],
   "source": []
  }
 ],
 "metadata": {
  "kernelspec": {
   "display_name": "Python 3",
   "language": "python",
   "name": "python3"
  },
  "language_info": {
   "codemirror_mode": {
    "name": "ipython",
    "version": 3
   },
   "file_extension": ".py",
   "mimetype": "text/x-python",
   "name": "python",
   "nbconvert_exporter": "python",
   "pygments_lexer": "ipython3",
   "version": "3.7.3"
  }
 },
 "nbformat": 4,
 "nbformat_minor": 2
}
