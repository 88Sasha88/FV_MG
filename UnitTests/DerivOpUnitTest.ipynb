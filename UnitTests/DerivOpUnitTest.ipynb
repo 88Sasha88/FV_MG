{
 "cells": [
  {
   "cell_type": "markdown",
   "metadata": {},
   "source": [
    "This tests the accuracy of a differential operator on a polynomial of the given order. If the operator is working to said order, then the `Actual` and `Theoretical` outputs should match (except possibly at the edges.)"
   ]
  },
  {
   "cell_type": "code",
   "execution_count": 1,
   "metadata": {
    "scrolled": true
   },
   "outputs": [
    {
     "data": {
      "text/html": [
       "<style>pre { white-space: pre !important; }</style>"
      ],
      "text/plain": [
       "<IPython.core.display.HTML object>"
      ]
     },
     "metadata": {},
     "output_type": "display_data"
    },
    {
     "data": {
      "text/html": [
       "<style>pre { white-space: pre !important; }</style>"
      ],
      "text/plain": [
       "<IPython.core.display.HTML object>"
      ]
     },
     "metadata": {},
     "output_type": "display_data"
    }
   ],
   "source": [
    "import os.path\n",
    "from scipy import *\n",
    "import numpy as np\n",
    "from numpy import *\n",
    "from numpy import linalg as LA\n",
    "from scipy import linalg as LA2\n",
    "import sympy as sympy\n",
    "import sys as sys\n",
    "import time\n",
    "import matplotlib.pyplot as plt\n",
    "import itertools as it\n",
    "from IPython.core.display import HTML\n",
    "\n",
    "sys.path.append('/Users/sashacurcic/SashasDirectory/ANAG/FV_MG/')\n",
    "from Modules import BasicTools as BT\n",
    "from Modules import WaveTools as WT\n",
    "from Modules import PlotTools as PT\n",
    "from Modules import FFTTools as FFTT\n",
    "from Modules import OperatorTools as OT\n",
    "from Modules import GridTransferTools as GTT\n",
    "from Modules import TestTools as TT\n",
    "from Modules import SolverTools as ST\n",
    "\n",
    "display(HTML(\"<style>pre { white-space: pre !important; }</style>\"))\n",
    "np.set_printoptions( linewidth = 10000, threshold = 100000)"
   ]
  },
  {
   "cell_type": "markdown",
   "metadata": {},
   "source": [
    "This cell takes all of the input parameters."
   ]
  },
  {
   "cell_type": "code",
   "execution_count": 2,
   "metadata": {},
   "outputs": [],
   "source": [
    "# Grid parameters.\n",
    "nh_min = 32\n",
    "refRatio = 2\n",
    "cfInter = int(nh_min / refRatio)\n",
    "\n",
    "L = 1\n",
    "locs = [0.5]\n",
    "epsilons = [1, 0.5] # [1, 1]\n",
    "mus = [1, 0.5]\n",
    "\n",
    "# Time integration parameters.\n",
    "deriv = 'UD'\n",
    "RL = 'R'\n",
    "# RK = 4\n",
    "orders = 5"
   ]
  },
  {
   "cell_type": "markdown",
   "metadata": {},
   "source": [
    "This cell contains the relevant switch information."
   ]
  },
  {
   "cell_type": "code",
   "execution_count": 3,
   "metadata": {},
   "outputs": [],
   "source": [
    "printOut = False\n",
    "\n"
   ]
  },
  {
   "cell_type": "markdown",
   "metadata": {},
   "source": [
    "This cell instantiates the Grid and the Physics objects."
   ]
  },
  {
   "cell_type": "code",
   "execution_count": 4,
   "metadata": {},
   "outputs": [],
   "source": [
    "omega = BT.Grid(nh_min)\n",
    "finepart = list(np.arange(int(nh_min / 4), int(3 * nh_min / 4))) # list(np.arange(int(nh_min / refRatio)))# + int(nh_min / refRatio)) # list(np.arange(int(nh_min / 4), int(3 * nh_min / 4)))\n",
    "omega.AddPatch(refRatio, finepart)\n",
    "degFreed = omega.degFreed\n",
    "\n",
    "\n",
    "physics = BT.PhysProps(omega, epsilons, mus, locs, L)"
   ]
  },
  {
   "cell_type": "markdown",
   "metadata": {},
   "source": [
    "This cell runs a test on the derivative operator on a cell-averaged polynomial which matches the given order.  \n",
    "$P (x) = \\sum_{k = 0}^{o} x^{k}$  \n",
    "$<P (x)> = \\frac{1}{\\Delta x} \\int_{x}^{x + \\Delta x} P (x')$d$x'$  \n",
    "$<P (x)> = \\frac{1}{\\Delta x} \\sum_{k = 1}^{o} \\frac{1}{k} [(x + \\Delta x)^{k} - x^{k}]$  \n",
    "$<\\frac{d P (x)}{d x}> = \\sum_{k = 1}^{o} [(x + \\Delta x)^{k} - x^{k}]$  \n",
    "This derivative operator comprises both the left and right cell faces and assumes periodic boundaries. This method of approximating the derivative produces as many nonzero error elements as the order of the approximation at the boundaries of the whole solution space, no matter where the refinement patch is located. It works up to order 9 for upwind and downwind derivatives and up to order 10 for center-difference derivatives.\n"
   ]
  },
  {
   "cell_type": "code",
   "execution_count": 5,
   "metadata": {},
   "outputs": [
    {
     "name": "stdout",
     "output_type": "stream",
     "text": [
      "Order: 1\n",
      "Difference Between Actual and Theoretical:\n",
      "[32.  0.  0.  0.  0.  0.  0.  0.  0.  0.  0.  0.  0.  0.  0.  0.  0.  0.  0.  0.  0.  0.  0.  0.  0.  0.  0.  0.  0.  0.  0.  0.  0.  0.  0.  0.  0.  0.  0.  0.  0.  0.  0.  0.  0.  0.  0.  0.]\n",
      "Total Nonzero Error Elements: 1\n",
      "\n",
      "\n",
      "Order: 3\n",
      "Difference Between Actual and Theoretical:\n",
      "[ 78.74479167 -15.58854167  -0.           0.          -0.          -0.           0.          -0.          -0.          -0.           0.          -0.          -0.           0.          -0.          -0.           0.          -0.          -0.           0.          -0.           0.           0.          -0.           0.           0.          -0.           0.           0.          -0.           0.           0.          -0.           0.           0.          -0.          -0.           0.          -0.          -0.           0.          -0.           0.           0.          -0.           0.           0.          32.84375   ]\n",
      "Total Nonzero Error Elements: 3\n",
      "\n",
      "\n",
      "Order: 5\n",
      "Difference Between Actual and Theoretical:\n",
      "[122.39557885 -33.62079586   5.10648431  -0.           0.          -0.          -0.           0.           0.          -0.          -0.           0.          -0.           0.          -0.           0.          -0.           0.          -0.           0.           0.          -0.           0.          -0.           0.           0.          -0.          -0.          -0.           0.           0.          -0.           0.          -0.          -0.           0.          -0.          -0.           0.          -0.           0.           0.          -0.           0.           0.           0.          -8.36006826  74.47880096]\n",
      "Total Nonzero Error Elements: 5\n",
      "\n",
      "\n",
      "Order: 7\n",
      "Difference Between Actual and Theoretical:\n",
      "[164.90947767 -52.02067087  12.73279918  -1.50754573  -0.          -0.           0.          -0.          -0.          -0.           0.          -0.          -0.           0.          -0.           0.           0.          -0.          -0.           0.           0.          -0.           0.           0.          -0.           0.          -0.          -0.           0.          -0.           0.          -0.          -0.           0.          -0.           0.          -0.           0.          -0.          -0.          -0.           0.          -0.          -0.           0.           2.26752478 -21.24925993 118.8676749 ]\n",
      "Total Nonzero Error Elements: 7\n",
      "\n",
      "\n",
      "Order: 9\n",
      "Difference Between Actual and Theoretical:\n",
      "[206.61164963 -70.43492622  21.65543323  -4.40623965   0.4241112   -0.          -0.           0.          -0.          -0.           0.          -0.          -0.           0.           0.          -0.           0.          -0.          -0.           0.          -0.          -0.          -0.           0.           0.          -0.          -0.          -0.           0.          -0.          -0.           0.           0.          -0.          -0.           0.           0.           0.          -0.          -0.           0.          -0.           0.           0.          -0.6176432    6.69050393 -36.65941734 164.73652842]\n",
      "Total Nonzero Error Elements: 9\n",
      "\n",
      "\n"
     ]
    }
   ],
   "source": [
    "for o in range(orders):\n",
    "    order = 2*o + 1\n",
    "    if ((deriv == 'CD') or (deriv == 'C')):\n",
    "        order = order + 1\n",
    "    print('Order:', order)\n",
    "    TT.DerivPolyTest(omega, deriv, order, deriv = 0, printOut = printOut)"
   ]
  },
  {
   "cell_type": "markdown",
   "metadata": {},
   "source": [
    "This cell runs a similar test, but instead of a derivative, it operates on one face at a time. Then it takes the difference of those faces and divides by the appropriate length intervals. Like the test of the derivative operator, it also assumes periodic boundaries. Unlike in the derivative operator case, in which interpolation and restriction were predicated on the proximity of the central cell of the derivative to the AMR boundary, the face operator determines restriction and interpolation based on the distance of that face from the patch boundary. Because of this, it gains an extra nonzero element located at each patch boundary. So that is one extra error element if the patch is located entirely on one side of the whole solution space and two extra error elements at either side of the patch if it is located in the middle. This pattern is consistent for both upwind and downwind face operators up to order 9. It is not yet set up to handle center-difference faces.\n"
   ]
  },
  {
   "cell_type": "code",
   "execution_count": 6,
   "metadata": {},
   "outputs": [
    {
     "name": "stdout",
     "output_type": "stream",
     "text": [
      "Order: 1\n",
      "Difference Between Actual and Theoretical:\n",
      "[32.  0.  0.  0.  0.  0.  0.  0.  0.  0.  0.  0.  0.  0.  0.  0.  0.  0.  0.  0.  0.  0.  0.  0.  0.  0.  0.  0.  0.  0.  0.  0.  0.  0.  0.  0.  0.  0.  0.  0.  0.  0.  0.  0.  0.  0.  0.  0.]\n",
      "Total Nonzero Error Elements: 1\n",
      "\n",
      "\n",
      "Order: 3\n",
      "Difference Between Actual and Theoretical:\n",
      "[ 78.74479166667 -15.58854166667   0.              0.             -0.             -0.              0.             -0.             -0.             -0.              0.             -0.             -0.              0.             -0.             -0.              0.             -0.             -0.              0.             -0.              0.              0.             -0.              0.              0.             -0.              0.              0.             -0.              0.              0.             -0.              0.              0.             -0.             -0.              0.             -0.             -0.              0.             -0.              0.              0.             -0.              0.              0.             32.84375      ]\n",
      "Total Nonzero Error Elements: 3\n",
      "\n",
      "\n",
      "Order: 5\n",
      "Difference Between Actual and Theoretical:\n",
      "[122.39557885064 -33.62079586453   5.10648430718  -0.              0.             -0.             -0.              0.              0.             -0.             -0.              0.             -0.              0.             -0.              0.             -0.              0.             -0.              0.              0.             -0.             -0.             -0.              0.              0.             -0.             -0.             -0.              0.              0.             -0.              0.             -0.             -0.              0.             -0.             -0.              0.             -0.              0.              0.             -0.              0.              0.              0.             -8.36006825765  74.47880096436]\n",
      "Total Nonzero Error Elements: 5\n",
      "\n",
      "\n",
      "Order: 7\n",
      "Difference Between Actual and Theoretical:\n",
      "[164.90947767413 -52.02067087418  12.73279917611  -1.50754573139  -0.             -0.              0.             -0.             -0.             -0.              0.             -0.             -0.              0.             -0.              0.              0.             -0.             -0.              0.              0.             -0.              0.              0.             -0.              0.             -0.             -0.              0.             -0.              0.             -0.             -0.              0.             -0.              0.             -0.              0.             -0.             -0.             -0.              0.             -0.             -0.              0.              2.26752478461 -21.2492599255  118.86767489622]\n",
      "Total Nonzero Error Elements: 7\n",
      "\n",
      "\n",
      "Order: 9\n",
      "Difference Between Actual and Theoretical:\n",
      "[206.61164962665 -70.4349262182   21.65543323399  -4.4062396499    0.42411120192  -0.             -0.              0.             -0.             -0.              0.              0.             -0.              0.              0.             -0.              0.             -0.             -0.              0.             -0.             -0.             -0.              0.              0.             -0.             -0.             -0.              0.             -0.             -0.              0.              0.              0.             -0.              0.              0.              0.             -0.             -0.              0.             -0.              0.              0.             -0.61764320325   6.69050392679 -36.65941733895 164.73652842096]\n",
      "Total Nonzero Error Elements: 9\n",
      "\n",
      "\n"
     ]
    }
   ],
   "source": [
    "for o in range(orders):\n",
    "    order = 2*o + 1\n",
    "    if ((deriv == 'CD') or (deriv == 'C')):\n",
    "        order = order + 1\n",
    "    print('Order:', order)\n",
    "\n",
    "    TT.FacePolyTest1(omega, deriv, order, RL, printOut = printOut)"
   ]
  },
  {
   "cell_type": "markdown",
   "metadata": {},
   "source": [
    "This cell runs the same test as the previous cell, except it gets rid of periodic boundaries. The results on the error remain unchanged.\n"
   ]
  },
  {
   "cell_type": "code",
   "execution_count": 7,
   "metadata": {},
   "outputs": [
    {
     "name": "stdout",
     "output_type": "stream",
     "text": [
      "Order: 1\n",
      "\n",
      "Difference Between Actual and Theoretical:\n",
      "[32.  0.  0.  0.  0.  0.  0.  0.  0.  0.  0.  0.  0.  0.  0.  0.  0.  0.  0.  0.  0.  0.  0.  0.  0.  0.  0.  0.  0.  0.  0.  0.  0.  0.  0.  0.  0.  0.  0.  0.  0.  0.  0.  0.  0.  0.  0.  0.]\n",
      "Total Nonzero Error Elements: 1\n",
      "\n",
      "\n",
      "Order: 3\n",
      "\n",
      "Difference Between Actual and Theoretical:\n",
      "[ 78.74479166667 -15.58854166667   0.              0.             -0.             -0.              0.             -0.             -0.             -0.              0.             -0.             -0.              0.             -0.             -0.              0.             -0.             -0.              0.             -0.              0.              0.             -0.              0.              0.             -0.              0.              0.             -0.              0.              0.             -0.              0.              0.             -0.             -0.              0.             -0.             -0.              0.             -0.              0.              0.             -0.              0.              0.             32.84375      ]\n",
      "Total Nonzero Error Elements: 3\n",
      "\n",
      "\n",
      "Order: 5\n",
      "\n",
      "Difference Between Actual and Theoretical:\n",
      "[122.39557885064 -33.62079586453   5.10648430718  -0.              0.             -0.             -0.              0.              0.             -0.             -0.              0.             -0.              0.             -0.              0.             -0.              0.             -0.              0.              0.             -0.             -0.             -0.              0.              0.             -0.             -0.             -0.              0.              0.             -0.              0.             -0.             -0.              0.             -0.             -0.              0.             -0.              0.              0.             -0.              0.              0.              0.             -8.36006825765  74.47880096436]\n",
      "Total Nonzero Error Elements: 5\n",
      "\n",
      "\n",
      "Order: 7\n",
      "\n",
      "Difference Between Actual and Theoretical:\n",
      "[164.90947767413 -52.02067087418  12.73279917611  -1.50754573139  -0.             -0.              0.             -0.             -0.             -0.              0.             -0.             -0.              0.             -0.              0.              0.             -0.             -0.              0.              0.             -0.              0.              0.             -0.              0.             -0.             -0.              0.             -0.              0.             -0.             -0.              0.             -0.              0.             -0.              0.             -0.             -0.             -0.              0.             -0.             -0.              0.              2.26752478461 -21.2492599255  118.86767489622]\n",
      "Total Nonzero Error Elements: 7\n",
      "\n",
      "\n",
      "Order: 9\n",
      "\n",
      "Difference Between Actual and Theoretical:\n",
      "[206.61164962665 -70.4349262182   21.65543323399  -4.4062396499    0.42411120192  -0.             -0.              0.             -0.             -0.              0.              0.             -0.              0.              0.             -0.              0.             -0.             -0.              0.             -0.             -0.             -0.              0.              0.             -0.             -0.             -0.              0.             -0.             -0.              0.              0.              0.             -0.              0.              0.              0.             -0.             -0.              0.             -0.              0.              0.             -0.61764320325   6.69050392679 -36.65941733895 164.73652842096]\n",
      "Total Nonzero Error Elements: 9\n",
      "\n",
      "\n"
     ]
    }
   ],
   "source": [
    "for o in range(orders):\n",
    "    order = 2*o + 1\n",
    "    if ((deriv == 'CD') or (deriv == 'C')):\n",
    "        order = order + 1\n",
    "    Ng = 0\n",
    "    print('Order:', order)\n",
    "    TT.FacePolyTest(omega, physics, deriv, order, RL, Ng, printOut = printOut, pieces = False)"
   ]
  },
  {
   "cell_type": "markdown",
   "metadata": {},
   "source": [
    "This cell runs the same test as the previous cell, except it splits the regions in two at the location of the material boundary. The result is that several more error elements are added at the location of the incision.\n"
   ]
  },
  {
   "cell_type": "code",
   "execution_count": 8,
   "metadata": {},
   "outputs": [
    {
     "name": "stdout",
     "output_type": "stream",
     "text": [
      "Order: 1\n",
      "\n",
      "Difference Between Actual and Theoretical:\n",
      "[-31.5   0.    0.    0.    0.    0.    0.    0.    0.    0.    0.    0.    0.    0.    0.    0.    0.    0.    0.    0.    0.    0.    0.    0. ]\n",
      "[-95.5   0.    0.    0.    0.    0.    0.    0.    0.    0.    0.    0.    0.    0.    0.    0.    0.    0.    0.    0.    0.    0.    0.    0. ]\n",
      "Total Nonzero Error Elements: 2\n",
      "\n",
      "\n",
      "Order: 3\n",
      "\n",
      "Difference Between Actual and Theoretical:\n",
      "[-26.41529676649   5.25169542101   0.              0.             -0.             -0.              0.             -0.             -0.             -0.              0.             -0.             -0.              0.             -0.             -0.              0.             -0.             -0.              0.             -0.              0.              0.             40.46269395616]\n",
      "[-99.31042141385  19.7729932997   -0.              0.              0.             -0.              0.              0.             -0.              0.              0.             -0.             -0.              0.             -0.             -0.              0.             -0.              0.              0.             -0.              0.              0.             43.68063693576]\n",
      "Total Nonzero Error Elements: 6\n",
      "\n",
      "\n",
      "Order: 5\n",
      "\n",
      "Difference Between Actual and Theoretical:\n",
      "[-24.8572610214    6.85856349256  -1.05033928235  -0.              0.             -0.             -0.              0.              0.             -0.             -0.              0.             -0.              0.             -0.              0.             -0.              0.             -0.              0.              0.             -0.             -6.39044660618  57.32745230903]\n",
      "[-97.95481889986  27.03335007916  -4.14152535723  -0.             -0.              0.              0.             -0.              0.             -0.             -0.              0.             -0.             -0.              0.             -0.              0.              0.             -0.              0.              0.              0.             -9.98560161114  89.0552955993 ]\n",
      "Total Nonzero Error Elements: 10\n",
      "\n",
      "\n",
      "Order: 7\n",
      "\n",
      "Difference Between Actual and Theoretical:\n",
      "[-24.11218087111   7.62711438461  -1.8823254631    0.22507270339  -0.             -0.              0.             -0.             -0.             -0.              0.             -0.             -0.              0.             -0.              0.              0.             -0.             -0.              0.              0.              1.23300916941 -11.67470883159  65.63778837258]\n",
      "[-96.09635311759  30.39786903201  -7.50260823294   0.89718102867   0.             -0.              0.             -0.             -0.              0.             -0.              0.             -0.              0.             -0.             -0.             -0.              0.             -0.             -0.              0.              2.57715018532 -24.1805477894  135.34701812996]\n",
      "Total Nonzero Error Elements: 14\n",
      "\n",
      "\n",
      "Order: 9\n",
      "\n",
      "Difference Between Actual and Theoretical:\n",
      "[-23.67675167583   8.07628709612  -2.50220287422   0.51415884695  -0.05001615631  -0.             -0.              0.             -0.             -0.              0.              0.             -0.              0.              0.             -0.              0.             -0.             -0.              0.             -0.25772565043   2.82663859723 -15.63836056649  70.45376907623]\n",
      "[-94.62179486817  32.27614111766  -9.99999473082   2.05486688812  -0.19989695024  -0.             -0.              0.              0.              0.             -0.              0.              0.              0.             -0.             -0.              0.             -0.              0.              0.             -0.68214849506   7.39794683616 -40.5732305838  182.3688792847 ]\n",
      "Total Nonzero Error Elements: 18\n",
      "\n",
      "\n"
     ]
    }
   ],
   "source": [
    "for o in range(orders):\n",
    "    order = 2*o + 1\n",
    "    if ((deriv == 'CD') or (deriv == 'C')):\n",
    "        order = order + 1\n",
    "    Ng = 0\n",
    "    print('Order:', order)\n",
    "    TT.FacePolyTest(omega, physics, deriv, order, RL, Ng, printOut = printOut, pieces = True)"
   ]
  },
  {
   "cell_type": "markdown",
   "metadata": {},
   "source": [
    "This cell runs the same test as the previous cell, except it interpolates order-minus-2-many ghost cells at the material boundary using the function from Hans' Matlab code. The results remain just as bad as the previous cell.\n"
   ]
  },
  {
   "cell_type": "code",
   "execution_count": 9,
   "metadata": {},
   "outputs": [
    {
     "name": "stdout",
     "output_type": "stream",
     "text": [
      "Order: 1\n",
      "\n",
      "\n",
      "Difference Between Actual and Theoretical:\n",
      "[-31.5   0.    0.    0.    0.    0.    0.    0.    0.    0.    0.    0.    0.    0.    0.    0.    0.    0.    0.    0.    0.    0.    0.    0. ]\n",
      "[0.66666666667 0.            0.            0.            0.            0.            0.            0.            0.            0.            0.            0.            0.            0.            0.            0.            0.            0.            0.            0.            0.            0.            0.            0.           ]\n",
      "Total Nonzero Error Elements: 2\n",
      "\n",
      "\n",
      "Order: 3\n",
      "\n",
      "\n",
      "Difference Between Actual and Theoretical:\n",
      "[-26.41529676649   5.25169542101   0.              0.             -0.             -0.              0.             -0.             -0.             -0.              0.             -0.             -0.              0.             -0.             -0.              0.             -0.             -0.              0.             -0.              0.              0.              0.0002746582 ]\n",
      "[ 0.00009155274 -0.0001373291  -0.             0.             0.            -0.             0.             0.            -0.             0.             0.            -0.            -0.             0.            -0.            -0.             0.            -0.             0.             0.            -0.             0.             0.             2.00016276042]\n",
      "Total Nonzero Error Elements: 6\n",
      "\n",
      "\n",
      "Order: 5\n",
      "\n",
      "\n",
      "Difference Between Actual and Theoretical:\n",
      "[-24.8572610214    6.85856349256  -1.05033928235  -0.              0.             -0.             -0.              0.              0.             -0.             -0.              0.             -0.              0.             -0.              0.             -0.              0.             -0.              0.              0.             -0.             -0.00000015271   0.00000021451]\n",
      "[ 0.00000000783  0.00000011151  0.00000010181 -0.            -0.             0.             0.            -0.             0.            -0.            -0.             0.            -0.            -0.             0.            -0.             0.             0.            -0.             0.             0.             0.            -0.75036622683  5.93817714055]\n",
      "Total Nonzero Error Elements: 10\n",
      "\n",
      "\n",
      "Order: 7\n",
      "\n",
      "\n",
      "Difference Between Actual and Theoretical:\n",
      "[-24.11218087111   7.62711438461  -1.8823254631    0.22507270339  -0.             -0.              0.             -0.             -0.             -0.              0.             -0.             -0.              0.             -0.              0.              0.             -0.             -0.              0.              0.              0.00000000021   0.00000000043  -0.00000000005]\n",
      "[-0.00000000042  0.00000000103 -0.0000000005  -0.00000000016  0.            -0.             0.            -0.            -0.             0.            -0.             0.            -0.             0.            -0.            -0.            -0.             0.            -0.            -0.             0.             0.26699227227 -2.23404761546 11.75356978196]\n",
      "Total Nonzero Error Elements: 14\n",
      "\n",
      "\n",
      "Order: 9\n",
      "\n",
      "\n",
      "Difference Between Actual and Theoretical:\n",
      "[-23.67675167583   8.07628709612  -2.50220287422   0.51415884695  -0.05001615631   0.             -0.              0.             -0.             -0.              0.             -0.             -0.              0.              0.             -0.              0.             -0.             -0.              0.              0.00000000001  -0.00000000003   0.00000000008  -0.00000000044]\n",
      "[ 0.00000000043 -0.00000000007  0.00000000002 -0.00000000001  0.00000000001 -0.            -0.             0.             0.             0.            -0.             0.             0.             0.            -0.            -0.             0.            -0.             0.             0.            -0.08948929728  0.87869566056 -4.42101951914 19.38759989484]\n",
      "Total Nonzero Error Elements: 18\n",
      "\n",
      "\n"
     ]
    }
   ],
   "source": [
    "for o in range(orders):\n",
    "    order = 2*o + 1\n",
    "    if ((deriv == 'CD') or (deriv == 'C')):\n",
    "        order = order + 1\n",
    "        Ng = int(order / 2)\n",
    "    else:\n",
    "        Ng = int((order + 1) / 2)\n",
    "    print('Order:', order)\n",
    "    TT.FacePolyTest(omega, physics, deriv, order, RL, Ng, printOut = printOut, pieces = True)"
   ]
  },
  {
   "cell_type": "code",
   "execution_count": null,
   "metadata": {},
   "outputs": [],
   "source": []
  }
 ],
 "metadata": {
  "kernelspec": {
   "display_name": "Python 3",
   "language": "python",
   "name": "python3"
  },
  "language_info": {
   "codemirror_mode": {
    "name": "ipython",
    "version": 3
   },
   "file_extension": ".py",
   "mimetype": "text/x-python",
   "name": "python",
   "nbconvert_exporter": "python",
   "pygments_lexer": "ipython3",
   "version": "3.7.3"
  }
 },
 "nbformat": 4,
 "nbformat_minor": 2
}
