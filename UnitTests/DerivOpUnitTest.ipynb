{
 "cells": [
  {
   "cell_type": "markdown",
   "metadata": {},
   "source": [
    "This tests the accuracy of a differential operator on a polynomial of the given order. If the operator is working to said order, then the `Actual` and `Theoretical` outputs should match (except possibly at the edges.)"
   ]
  },
  {
   "cell_type": "code",
   "execution_count": 1,
   "metadata": {
    "scrolled": true
   },
   "outputs": [
    {
     "data": {
      "text/html": [
       "<style>pre { white-space: pre !important; }</style>"
      ],
      "text/plain": [
       "<IPython.core.display.HTML object>"
      ]
     },
     "metadata": {},
     "output_type": "display_data"
    },
    {
     "data": {
      "text/html": [
       "<style>pre { white-space: pre !important; }</style>"
      ],
      "text/plain": [
       "<IPython.core.display.HTML object>"
      ]
     },
     "metadata": {},
     "output_type": "display_data"
    }
   ],
   "source": [
    "import os.path\n",
    "from scipy import *\n",
    "import numpy as np\n",
    "from numpy import *\n",
    "from numpy import linalg as LA\n",
    "from scipy import linalg as LA2\n",
    "import sympy as sympy\n",
    "import sys as sys\n",
    "import time\n",
    "import matplotlib.pyplot as plt\n",
    "import itertools as it\n",
    "from IPython.core.display import HTML\n",
    "\n",
    "sys.path.append('/Users/sashacurcic/SashasDirectory/ANAG/FV_MG/')\n",
    "from Modules import BasicTools as BT\n",
    "from Modules import WaveTools as WT\n",
    "from Modules import PlotTools as PT\n",
    "from Modules import FFTTools as FFTT\n",
    "from Modules import OperatorTools as OT\n",
    "from Modules import GridTransferTools as GTT\n",
    "from Modules import TestTools as TT\n",
    "from Modules import SolverTools as ST\n",
    "\n",
    "display(HTML(\"<style>pre { white-space: pre !important; }</style>\"))\n",
    "np.set_printoptions( linewidth = 10000, threshold = 100000)"
   ]
  },
  {
   "cell_type": "markdown",
   "metadata": {},
   "source": [
    "This cell takes all of the input parameters."
   ]
  },
  {
   "cell_type": "code",
   "execution_count": 2,
   "metadata": {},
   "outputs": [],
   "source": [
    "# Grid parameters.\n",
    "nh_min = 32\n",
    "refRatio = 2\n",
    "cfInter = int(nh_min / refRatio)\n",
    "\n",
    "L = 1\n",
    "locs = [0.5]\n",
    "epsilons = [1, 0.5] # [1, 1]\n",
    "mus = [1, 0.5]\n",
    "\n",
    "# Time integration parameters.\n",
    "deriv = 'UD'\n",
    "RL = 'R'\n",
    "# RK = 4\n",
    "orders = 5"
   ]
  },
  {
   "cell_type": "markdown",
   "metadata": {},
   "source": [
    "This cell contains the relevant switch information."
   ]
  },
  {
   "cell_type": "code",
   "execution_count": 3,
   "metadata": {},
   "outputs": [],
   "source": [
    "# TimeIntFunc, DiffFunc = TT.SolverSwitch(deriv, RK)\n",
    "\n"
   ]
  },
  {
   "cell_type": "markdown",
   "metadata": {},
   "source": [
    "This cell instantiates the Grid and the Physics objects."
   ]
  },
  {
   "cell_type": "code",
   "execution_count": 4,
   "metadata": {},
   "outputs": [],
   "source": [
    "omega = BT.Grid(nh_min)\n",
    "finepart = list(np.arange(int(nh_min / refRatio)))# + int(nh_min / refRatio)) # list(np.arange(int(nh_min / 4), int(3 * nh_min / 4)))\n",
    "omega.AddPatch(refRatio, finepart)\n",
    "degFreed = omega.degFreed\n",
    "\n",
    "\n",
    "physics = BT.PhysProps(omega, epsilons, mus, locs, L)"
   ]
  },
  {
   "cell_type": "markdown",
   "metadata": {},
   "source": [
    "This cell runs a test on the derivative operator on a cell-averaged polynomial which matches the given order.  \n",
    "$P (x) = \\sum_{k = 0}^{o} x^{k}$  \n",
    "$<P (x)> = \\frac{1}{\\Delta x} \\int_{x}^{x + \\Delta x} P (x')$d$x'$  \n",
    "$<P (x)> = \\frac{1}{\\Delta x} \\sum_{k = 1}^{o} \\frac{1}{k} [(x + \\Delta x)^{k} - x^{k}]$  \n",
    "$<\\frac{d P (x)}{d x}> = \\sum_{k = 1}^{o} [(x + \\Delta x)^{k} - x^{k}]$  \n",
    "This derivative operator comprises both the left and right cell faces and assumes periodic boundaries. This method of approximating the derivative produces as many nonzero error elements as the order of the approximation at the boundaries of the whole solution space, no matter where the refinement patch is located. It works up to order 9 for upwind and downwind derivatives and up to order 10 for center-difference derivatives.\n"
   ]
  },
  {
   "cell_type": "code",
   "execution_count": 5,
   "metadata": {},
   "outputs": [
    {
     "name": "stdout",
     "output_type": "stream",
     "text": [
      "Order: 1\n",
      "Difference Between Actual and Theoretical:\n",
      "[42.66666667  0.          0.          0.          0.          0.          0.          0.          0.          0.          0.          0.          0.          0.          0.          0.          0.          0.          0.          0.          0.          0.          0.          0.          0.          0.          0.          0.          0.          0.          0.          0.          0.          0.          0.          0.          0.          0.          0.          0.          0.          0.          0.          0.          0.          0.          0.          0.        ]\n",
      "Total Nonzero Error Elements: 1\n",
      "\n",
      "\n",
      "Order: 3\n",
      "Difference Between Actual and Theoretical:\n",
      "[ 80.06302083 -20.3453125   -0.           0.          -0.          -0.           0.          -0.          -0.           0.          -0.           0.           0.          -0.           0.           0.          -0.          -0.           0.          -0.          -0.           0.          -0.          -0.           0.          -0.          -0.           0.          -0.           0.           0.          -0.          -0.          -0.           0.          -0.          -0.           0.          -0.           0.           0.          -0.           0.           0.          -0.           0.           0.          32.84375   ]\n",
      "Total Nonzero Error Elements: 3\n",
      "\n",
      "\n",
      "Order: 5\n",
      "Difference Between Actual and Theoretical:\n",
      "[ 48.8495912  -21.68135103   4.75704428  -0.           0.           0.          -0.           0.           0.          -0.           0.          -0.          -0.           0.          -0.          -0.           0.           0.          -0.           0.          -0.           0.          -0.           0.          -0.           0.          -0.           0.           0.          -0.           0.          -0.           0.          -0.          -0.           0.          -0.          -0.           0.          -0.           0.           0.          -0.           0.           0.           0.          -8.36006826  74.47880096]\n",
      "Total Nonzero Error Elements: 5\n",
      "\n",
      "\n",
      "Order: 7\n",
      "Difference Between Actual and Theoretical:\n",
      "[ 64.89113876 -26.25433646   9.41678987  -1.45896762   0.          -0.           0.          -0.           0.           0.          -0.           0.           0.           0.          -0.           0.           0.          -0.           0.          -0.          -0.           0.          -0.           0.           0.          -0.          -0.           0.           0.          -0.          -0.           0.          -0.           0.           0.          -0.          -0.          -0.           0.          -0.          -0.           0.          -0.          -0.           0.           2.26752478 -21.24925993 118.8676749 ]\n",
      "Total Nonzero Error Elements: 7\n",
      "\n",
      "\n",
      "Order: 9\n",
      "Difference Between Actual and Theoretical:\n",
      "[ 56.68175542 -22.57805007  11.53361277  -3.36463913   0.41314971   0.          -0.          -0.           0.           0.          -0.           0.          -0.          -0.           0.           0.          -0.          -0.           0.          -0.          -0.           0.           0.          -0.           0.          -0.          -0.           0.          -0.          -0.          -0.          -0.           0.          -0.           0.          -0.           0.          -0.          -0.          -0.           0.          -0.           0.           0.          -0.6176432    6.69050393 -36.65941734 164.73652842]\n",
      "Total Nonzero Error Elements: 9\n",
      "\n",
      "\n"
     ]
    }
   ],
   "source": [
    "for o in range(orders):\n",
    "    order = 2*o + 1\n",
    "    if ((deriv == 'CD') or (deriv == 'C')):\n",
    "        order = order + 1\n",
    "    print('Order:', order)\n",
    "    TT.DerivPolyTest(omega, deriv, order, deriv = 0, printOut = False)"
   ]
  },
  {
   "cell_type": "markdown",
   "metadata": {},
   "source": [
    "This cell runs a similar test, but instead of a derivative, it operates on one face at a time. Then it takes the difference of those faces and divides by the appropriate length intervals. Like the test of the derivative operator, it also assumes periodic boundaries. Unlike in the derivative operator case, in which interpolation and restriction were predicated on the proximity of the central cell of the derivative to the AMR boundary, the face operator determines restriction and interpolation based on the distance of that face from the patch boundary. Because of this, it gains an extra nonzero element located at each patch boundary. So that is one extra error element if the patch is located entirely on one side of the whole solution space and two extra error elements at either side of the patch if it is located in the middle. This pattern is consistent for both upwind and downwind face operators up to order 9. It is not yet set up to handle center-difference faces.\n"
   ]
  },
  {
   "cell_type": "code",
   "execution_count": 6,
   "metadata": {},
   "outputs": [
    {
     "name": "stdout",
     "output_type": "stream",
     "text": [
      "Order: 1\n",
      "Difference Between Actual and Theoretical:\n",
      "[63.5   0.    0.    0.    0.    0.    0.    0.    0.    0.    0.    0.    0.    0.    0.    0.    0.    0.    0.    0.    0.    0.    0.    0.    0.    0.    0.    0.    0.    0.    0.    0.    0.25  0.    0.    0.    0.    0.    0.    0.    0.    0.    0.    0.    0.    0.    0.    0.  ]\n",
      "Total Nonzero Error Elements: 2\n",
      "\n",
      "\n",
      "Order: 3\n",
      "Difference Between Actual and Theoretical:\n",
      "[146.65866699219 -20.3453125       0.              0.             -0.             -0.              0.             -0.              0.              0.             -0.              0.              0.             -0.              0.              0.             -0.             -0.              0.             -0.             -0.              0.             -0.             -0.              0.             -0.             -0.              0.             -0.              0.              0.             -0.             -0.00042724609  -0.              0.             -0.             -0.              0.             -0.              0.              0.             -0.              0.              0.             -0.              0.              0.             32.84375      ]\n",
      "Total Nonzero Error Elements: 4\n",
      "\n",
      "\n",
      "Order: 5\n",
      "Difference Between Actual and Theoretical:\n",
      "[204.68683764556 -21.68135103498   4.75704428052  -0.              0.              0.             -0.              0.              0.             -0.              0.             -0.             -0.              0.              0.             -0.              0.              0.             -0.              0.             -0.              0.             -0.              0.             -0.              0.             -0.              0.              0.             -0.              0.             -0.              0.00000184774  -0.             -0.              0.             -0.             -0.              0.             -0.              0.              0.             -0.              0.              0.              0.             -8.36006825765  74.47880096436]\n",
      "Total Nonzero Error Elements: 6\n",
      "\n",
      "\n",
      "Order: 7\n",
      "Difference Between Actual and Theoretical:\n",
      "[266.52463473862 -26.25433646102   9.41678986721  -1.4589676222    0.             -0.              0.             -0.              0.              0.             -0.              0.              0.              0.             -0.              0.              0.             -0.              0.             -0.             -0.              0.             -0.              0.              0.             -0.             -0.              0.              0.             -0.             -0.              0.             -0.00000001663   0.              0.             -0.             -0.             -0.              0.             -0.             -0.              0.             -0.             -0.              0.              2.26752478461 -21.2492599255  118.86767489622]\n",
      "Total Nonzero Error Elements: 8\n",
      "\n",
      "\n",
      "Order: 9\n",
      "Difference Between Actual and Theoretical:\n",
      "[321.69598310937 -22.57805007154  11.53361277251  -3.36463913126   0.4131497093    0.             -0.             -0.              0.              0.             -0.              0.             -0.             -0.              0.              0.             -0.             -0.              0.              0.             -0.              0.              0.             -0.              0.             -0.             -0.              0.             -0.             -0.             -0.             -0.              0.00000000026  -0.              0.             -0.              0.             -0.             -0.             -0.              0.             -0.              0.              0.             -0.61764320325   6.69050392679 -36.65941733895 164.73652842096]\n",
      "Total Nonzero Error Elements: 10\n",
      "\n",
      "\n"
     ]
    }
   ],
   "source": [
    "for o in range(orders):\n",
    "    order = 2*o + 1\n",
    "    if ((deriv == 'CD') or (deriv == 'C')):\n",
    "        order = order + 1\n",
    "    print('Order:', order)\n",
    "\n",
    "    TT.FacePolyTest1(omega, deriv, order, RL, printOut = False)"
   ]
  },
  {
   "cell_type": "markdown",
   "metadata": {},
   "source": [
    "This cell runs the same test as the previous cell, except it gets rid of periodic boundaries. The results on the error remain unchanged.\n"
   ]
  },
  {
   "cell_type": "code",
   "execution_count": 7,
   "metadata": {},
   "outputs": [
    {
     "name": "stdout",
     "output_type": "stream",
     "text": [
      "Order: 1\n",
      "\n",
      "Difference Between Actual and Theoretical:\n",
      "[-63.5    0.     0.     0.     0.     0.     0.     0.     0.     0.     0.     0.     0.     0.     0.     0.     0.     0.     0.     0.     0.     0.     0.     0.     0.     0.     0.     0.     0.     0.     0.     0.     0.25   0.     0.     0.     0.     0.     0.     0.     0.     0.     0.     0.     0.     0.     0.     0.  ]\n",
      "Total Nonzero Error Elements: 2\n",
      "\n",
      "\n",
      "Order: 3\n",
      "\n",
      "Difference Between Actual and Theoretical:\n",
      "[ 22.409765625   -20.3453125       0.              0.             -0.             -0.              0.             -0.              0.              0.             -0.              0.              0.             -0.              0.              0.             -0.             -0.              0.             -0.             -0.              0.             -0.             -0.              0.             -0.             -0.              0.             -0.              0.              0.             -0.             -0.00042724609  -0.              0.             -0.             -0.              0.             -0.              0.              0.             -0.              0.              0.             -0.              0.              0.             32.84375      ]\n",
      "Total Nonzero Error Elements: 4\n",
      "\n",
      "\n",
      "Order: 5\n",
      "\n",
      "Difference Between Actual and Theoretical:\n",
      "[ 20.07184702574 -21.68135103498   4.75704428052  -0.              0.              0.             -0.              0.              0.             -0.              0.             -0.             -0.              0.              0.             -0.              0.              0.             -0.              0.             -0.              0.             -0.              0.             -0.              0.             -0.              0.              0.             -0.              0.             -0.              0.00000184774  -0.             -0.              0.             -0.             -0.              0.             -0.              0.              0.             -0.              0.              0.              0.             -8.36006825765  74.47880096436]\n",
      "Total Nonzero Error Elements: 6\n",
      "\n",
      "\n",
      "Order: 7\n",
      "\n",
      "Difference Between Actual and Theoretical:\n",
      "[ 22.56318086678 -26.25433646102   9.41678986721  -1.4589676222    0.             -0.              0.             -0.              0.              0.             -0.              0.              0.              0.             -0.              0.              0.             -0.              0.             -0.             -0.              0.             -0.              0.              0.             -0.             -0.              0.              0.             -0.             -0.              0.             -0.00000001663   0.              0.             -0.             -0.             -0.              0.             -0.             -0.              0.             -0.             -0.              0.              2.26752478461 -21.2492599255  118.86767489622]\n",
      "Total Nonzero Error Elements: 8\n",
      "\n",
      "\n",
      "Order: 9\n",
      "\n",
      "Difference Between Actual and Theoretical:\n",
      "[ 19.41965553396 -22.57805007154  11.53361277251  -3.36463913126   0.4131497093    0.             -0.             -0.              0.              0.             -0.              0.             -0.             -0.              0.              0.             -0.             -0.              0.              0.             -0.              0.              0.             -0.              0.             -0.             -0.              0.             -0.             -0.             -0.             -0.              0.00000000026  -0.              0.             -0.              0.             -0.             -0.             -0.              0.             -0.              0.              0.             -0.61764320325   6.69050392679 -36.65941733895 164.73652842096]\n",
      "Total Nonzero Error Elements: 10\n",
      "\n",
      "\n"
     ]
    }
   ],
   "source": [
    "for o in range(orders):\n",
    "    order = 2*o + 1\n",
    "    if ((deriv == 'CD') or (deriv == 'C')):\n",
    "        order = order + 1\n",
    "    Ng = 0\n",
    "    print('Order:', order)\n",
    "    TT.FacePolyTest(omega, physics, deriv, order, Ng, printOut = False, pieces = False)"
   ]
  },
  {
   "cell_type": "markdown",
   "metadata": {},
   "source": [
    "This cell runs the same test as the previous cell, except it splits the regions in two at the location of the material boundary. The result is that several more error elements are added at the location of the incision.\n"
   ]
  },
  {
   "cell_type": "code",
   "execution_count": 8,
   "metadata": {},
   "outputs": [
    {
     "name": "stdout",
     "output_type": "stream",
     "text": [
      "Order: 1\n",
      "\n",
      "Difference Between Actual and Theoretical:\n",
      "[-63.5   0.    0.    0.    0.    0.    0.    0.    0.    0.    0.    0.    0.    0.    0.    0.    0.    0.    0.    0.    0.    0.    0.    0. ]\n",
      "[-87.5    0.     0.     0.     0.     0.     0.     0.     0.25   0.     0.     0.     0.     0.     0.     0.     0.     0.     0.     0.     0.     0.     0.     0.  ]\n",
      "Total Nonzero Error Elements: 3\n",
      "\n",
      "\n",
      "Order: 3\n",
      "\n",
      "Difference Between Actual and Theoretical:\n",
      "[-4.77843288845  6.84288601345  0.             0.            -0.            -0.             0.            -0.             0.             0.            -0.             0.             0.            -0.             0.             0.            -0.            -0.             0.            -0.            -0.             0.            -0.            33.82402208116]\n",
      "[-12.07149590386  16.55001152886  -0.              0.             -0.              0.              0.             -0.             -0.00042724609  -0.              0.             -0.             -0.              0.             -0.              0.              0.             -0.              0.              0.             -0.              0.              0.             43.68063693576]\n",
      "Total Nonzero Error Elements: 7\n",
      "\n",
      "\n",
      "Order: 5\n",
      "\n",
      "Difference Between Actual and Theoretical:\n",
      "[-0.31423553149  4.43821078486 -0.97643498209 -0.             0.             0.            -0.             0.             0.            -0.             0.            -0.            -0.             0.             0.            -0.             0.             0.            -0.             0.            -0.             0.            -5.16872642726 46.3888205122 ]\n",
      "[-10.61276480188  21.93920212411  -3.36307874117   0.              0.             -0.              0.             -0.              0.00000184774  -0.             -0.              0.             -0.             -0.              0.             -0.              0.              0.             -0.              0.              0.              0.             -9.98560161114  89.0552955993 ]\n",
      "Total Nonzero Error Elements: 11\n",
      "\n",
      "\n",
      "Order: 7\n",
      "\n",
      "Difference Between Actual and Theoretical:\n",
      "[ 1.56161375805  3.88336176054 -1.39519188066  0.21688301284  0.            -0.             0.            -0.             0.             0.            -0.             0.             0.             0.            -0.             0.             0.            -0.             0.            -0.            -0.             0.98717805008 -9.35272451915 52.59885775138]\n",
      "[ -7.86329214832  24.44183482391  -6.03563019535   0.72219538986   0.             -0.             -0.              0.             -0.00000001663   0.              0.             -0.             -0.             -0.              0.             -0.             -0.              0.             -0.             -0.              0.              2.57715018532 -24.1805477894  135.34701812996]\n",
      "Total Nonzero Error Elements: 15\n",
      "\n",
      "\n",
      "Order: 9\n",
      "\n",
      "Difference Between Actual and Theoretical:\n",
      "[  3.78783567859   2.63585554645  -1.34457577512   0.39302918423  -0.04841582118   0.             -0.             -0.              0.              0.             -0.              0.             -0.             -0.              0.              0.             -0.             -0.              0.              0.             -0.20574341816   2.25784007932 -12.49725496055  56.30973934042]\n",
      "[ -4.76262648324  25.883656108    -8.02250837851   1.64933937133  -0.16053396892  -0.             -0.             -0.              0.00000000026  -0.              0.             -0.              0.             -0.             -0.             -0.              0.             -0.              0.              0.             -0.68214849506   7.39794683616 -40.5732305838  182.3688792847 ]\n",
      "Total Nonzero Error Elements: 19\n",
      "\n",
      "\n"
     ]
    }
   ],
   "source": [
    "for o in range(orders):\n",
    "    order = 2*o + 1\n",
    "    if ((deriv == 'CD') or (deriv == 'C')):\n",
    "        order = order + 1\n",
    "    Ng = 0\n",
    "    print('Order:', order)\n",
    "    TT.FacePolyTest(omega, physics, deriv, order, Ng, printOut = False, pieces = True)"
   ]
  },
  {
   "cell_type": "markdown",
   "metadata": {},
   "source": [
    "This cell runs the same test as the previous cell, except it interpolates order-minus-2-many ghost cells at the material boundary using the function from Hans' Matlab code. The results remain just as bad as the previous cell.\n"
   ]
  },
  {
   "cell_type": "code",
   "execution_count": 9,
   "metadata": {},
   "outputs": [
    {
     "name": "stdout",
     "output_type": "stream",
     "text": [
      "Order: 1\n",
      "\n",
      "Difference Between Actual and Theoretical:\n",
      "[-63.5   0.    0.    0.    0.    0.    0.    0.    0.    0.    0.    0.    0.    0.    0.    0.    0.    0.    0.    0.    0.    0.    0.    0. ]\n",
      "[-87.5    0.     0.     0.     0.     0.     0.     0.     0.25   0.     0.     0.     0.     0.     0.     0.     0.     0.     0.     0.     0.     0.     0.     0.  ]\n",
      "Total Nonzero Error Elements: 3\n",
      "\n",
      "\n",
      "Order: 3\n",
      "\n",
      "\n",
      "Difference Between Actual and Theoretical:\n",
      "[-53.08255683051  10.58419121636   0.              0.             -0.             -0.              0.             -0.              0.              0.             -0.              0.              0.             -0.              0.              0.             -0.             -0.              0.             -0.             -0.              0.             -0.             -7.11052703858]\n",
      "[35.54112622473 -3.22369476159 -0.             0.            -0.             0.             0.            -0.            -0.00042724609 -0.             0.            -0.            -0.             0.            -0.             0.             0.            -0.             0.             0.            -0.             0.             0.            22.84039984809]\n",
      "Total Nonzero Error Elements: 7\n",
      "\n",
      "\n",
      "Order: 5\n",
      "\n",
      "\n",
      "Difference Between Actual and Theoretical:\n",
      "[-75.67492976417  13.79176815175  -2.11683826837  -0.              0.              0.             -0.              0.              0.             -0.              0.             -0.             -0.              0.             -0.             -0.              0.              0.             -0.              0.             -0.              0.              1.31501106443 -11.57377208462]\n",
      "[-50.92495794803  -5.09415566335   0.77844878771   0.              0.             -0.              0.             -0.              0.00000184774  -0.             -0.              0.             -0.             -0.              0.             -0.              0.              0.             -0.              0.              0.              0.             -0.75036622683   1.3205594484 ]\n",
      "Total Nonzero Error Elements: 11\n",
      "\n",
      "\n",
      "Order: 7\n",
      "\n",
      "\n",
      "Difference Between Actual and Theoretical:\n",
      "[-75.98908629561  15.32247201853  -3.78699392356   0.45360820037   0.             -0.              0.             -0.              0.              0.             -0.              0.              0.              0.             -0.              0.              0.             -0.              0.             -0.             -0.             -0.26527036623   2.46316947179 -13.71709757605]\n",
      "[-106.74065637348   -5.95603441533    1.46697811085   -0.1749856543     0.              -0.              -0.               0.              -0.00000001663    0.               0.              -0.              -0.              -0.               0.              -0.              -0.               0.              -0.              -0.               0.               0.26699227227   -2.23404761546   12.90864873848]\n",
      "Total Nonzero Error Elements: 15\n",
      "\n",
      "\n",
      "Order: 9\n",
      "\n",
      "\n",
      "Difference Between Actual and Theoretical:\n",
      "[-76.12098924793  16.21620624999  -5.02917287774   1.03475769798  -0.1008018223    0.             -0.             -0.              0.              0.             -0.              0.             -0.             -0.              0.              0.             -0.             -0.              0.              0.              0.05615403486  -0.60525811532   3.30317404369 -14.82693566191]\n",
      "[-95.50801017369  -6.39248510039   1.97748638598  -0.40552752614   0.03936298265  -0.             -0.             -0.              0.00000000026  -0.              0.             -0.              0.             -0.             -0.             -0.              0.             -0.              0.              0.             -0.08948929728   0.87869566056  -4.42101951914  19.09127029595]\n",
      "Total Nonzero Error Elements: 19\n",
      "\n",
      "\n"
     ]
    }
   ],
   "source": [
    "for o in range(orders):\n",
    "    order = 2*o + 1\n",
    "    if ((deriv == 'CD') or (deriv == 'C')):\n",
    "        order = order + 1\n",
    "    if (order == 1):\n",
    "        Ng = 0\n",
    "    else:\n",
    "        Ng = order - 2\n",
    "    print('Order:', order)\n",
    "    TT.FacePolyTest(omega, physics, deriv, order, Ng, printOut = False, pieces = True)"
   ]
  },
  {
   "cell_type": "code",
   "execution_count": null,
   "metadata": {},
   "outputs": [],
   "source": []
  }
 ],
 "metadata": {
  "kernelspec": {
   "display_name": "Python 3",
   "language": "python",
   "name": "python3"
  },
  "language_info": {
   "codemirror_mode": {
    "name": "ipython",
    "version": 3
   },
   "file_extension": ".py",
   "mimetype": "text/x-python",
   "name": "python",
   "nbconvert_exporter": "python",
   "pygments_lexer": "ipython3",
   "version": "3.7.3"
  }
 },
 "nbformat": 4,
 "nbformat_minor": 2
}
