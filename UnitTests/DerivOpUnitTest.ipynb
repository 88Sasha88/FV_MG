{
 "cells": [
  {
   "cell_type": "markdown",
   "metadata": {},
   "source": [
    "This tests the accuracy of a differential operator on a polynomial of the given order. If the operator is working to said order, then the `Actual` and `Theoretical` outputs should match (except possibly at the edges.)"
   ]
  },
  {
   "cell_type": "code",
   "execution_count": 1,
   "metadata": {
    "scrolled": true
   },
   "outputs": [
    {
     "data": {
      "text/html": [
       "<style>pre { white-space: pre !important; }</style>"
      ],
      "text/plain": [
       "<IPython.core.display.HTML object>"
      ]
     },
     "metadata": {},
     "output_type": "display_data"
    },
    {
     "data": {
      "text/html": [
       "<style>pre { white-space: pre !important; }</style>"
      ],
      "text/plain": [
       "<IPython.core.display.HTML object>"
      ]
     },
     "metadata": {},
     "output_type": "display_data"
    }
   ],
   "source": [
    "import os.path\n",
    "from scipy import *\n",
    "import numpy as np\n",
    "from numpy import *\n",
    "from numpy import linalg as LA\n",
    "from scipy import linalg as LA2\n",
    "import sympy as sympy\n",
    "import sys as sys\n",
    "import time\n",
    "import matplotlib.pyplot as plt\n",
    "import itertools as it\n",
    "from IPython.core.display import HTML\n",
    "\n",
    "sys.path.append('/Users/sashacurcic/SashasDirectory/ANAG/FV_MG/')\n",
    "from Modules import BasicTools as BT\n",
    "from Modules import WaveTools as WT\n",
    "from Modules import PlotTools as PT\n",
    "from Modules import FFTTools as FFTT\n",
    "from Modules import OperatorTools as OT\n",
    "from Modules import GridTransferTools as GTT\n",
    "from Modules import TestTools as TT\n",
    "from Modules import SolverTools as ST\n",
    "\n",
    "display(HTML(\"<style>pre { white-space: pre !important; }</style>\"))\n",
    "np.set_printoptions( linewidth = 10000, threshold = 100000)"
   ]
  },
  {
   "cell_type": "markdown",
   "metadata": {},
   "source": [
    "This cell takes all of the input parameters."
   ]
  },
  {
   "cell_type": "code",
   "execution_count": 39,
   "metadata": {},
   "outputs": [],
   "source": [
    "# Grid parameters.\n",
    "nh_min = 16\n",
    "refRatio = 2\n",
    "cfInter = int(nh_min / refRatio)\n",
    "\n",
    "# Time integration parameters.\n",
    "deriv = 'UD'\n",
    "# RK = 4\n",
    "order = 8"
   ]
  },
  {
   "cell_type": "markdown",
   "metadata": {},
   "source": [
    "This cell contains the relevant switch information."
   ]
  },
  {
   "cell_type": "code",
   "execution_count": 40,
   "metadata": {},
   "outputs": [],
   "source": [
    "# TimeIntFunc, DiffFunc = TT.SolverSwitch(deriv, RK)"
   ]
  },
  {
   "cell_type": "markdown",
   "metadata": {},
   "source": [
    "This cell instantiates the Grid and the Physics objects."
   ]
  },
  {
   "cell_type": "code",
   "execution_count": 41,
   "metadata": {},
   "outputs": [],
   "source": [
    "omega = BT.Grid(nh_min)\n",
    "finehalf = list(np.arange(int(nh_min / refRatio)) + int(nh_min / refRatio))\n",
    "omega.AddPatch(refRatio, finehalf)"
   ]
  },
  {
   "cell_type": "markdown",
   "metadata": {},
   "source": [
    "This cell runs a test on the derivative operator on a cell-averaged polynomial which matches the given order.  \n",
    "$P (x) = \\sum_{k = 0}^{o} x^{k}$  \n",
    "$<P (x)> = \\frac{1}{\\Delta x} \\int_{x}^{x + \\Delta x} P (x')$d$x'$  \n",
    "$<P (x)> = \\frac{1}{\\Delta x} \\sum_{k = 1}^{o} \\frac{1}{k} [(x + \\Delta x)^{k} - x^{k}]$  \n",
    "$<\\frac{d P (x)}{d x}> = \\sum_{k = 1}^{o} [(x + \\Delta x)^{k} - x^{k}]$  "
   ]
  },
  {
   "cell_type": "code",
   "execution_count": 42,
   "metadata": {},
   "outputs": [
    {
     "name": "stdout",
     "output_type": "stream",
     "text": [
      "-2.5\n",
      "xValsR: [-1024.   512.  -256.   128.   -64.    32.   -16.     8.    -4.]\n",
      "xValsL: [-7.62939453e+03  3.05175781e+03 -1.22070312e+03  4.88281250e+02 -1.95312500e+02  7.81250000e+01 -3.12500000e+01  1.25000000e+01 -5.00000000e+00]\n",
      "[ 1.52587891e+03 -6.10351562e+02  2.44140625e+02 -9.76562500e+01  3.90625000e+01 -1.56250000e+01  6.25000000e+00 -2.50000000e+00  1.00000000e+00]\n",
      "YOU'RE USING THE UPDATE.\n",
      "bounds: [-6.  -5.  -4.  -3.  -2.  -1.   0.   0.5  1.   1.5]\n",
      "\n",
      "-2.0\n",
      "xValsR: [-76.88671875  51.2578125  -34.171875    22.78125    -15.1875      10.125       -6.75         4.5         -3.        ]\n",
      "xValsL: [-1024.   512.  -256.   128.   -64.    32.   -16.     8.    -4.]\n",
      "[ 256. -128.   64.  -32.   16.   -8.    4.   -2.    1.]\n",
      "YOU'RE USING THE UPDATE.\n",
      "bounds: [-5.  -4.  -3.  -2.  -1.   0.   0.5  1.   1.5  2. ]\n",
      "\n",
      "-1.5\n",
      "xValsR: [-2.  2. -2.  2. -2.  2. -2.  2. -2.]\n",
      "xValsL: [-76.88671875  51.2578125  -34.171875    22.78125    -15.1875      10.125       -6.75         4.5         -3.        ]\n",
      "[ 25.62890625 -17.0859375   11.390625    -7.59375      5.0625      -3.375        2.25        -1.5          1.        ]\n",
      "YOU'RE USING THE UPDATE.\n",
      "bounds: [-5.  -4.  -3.  -2.  -1.   0.   0.5  1.   1.5  2. ]\n",
      "\n",
      "-1.0\n",
      "xValsR: [-0.00390625  0.0078125  -0.015625    0.03125    -0.0625      0.125      -0.25        0.5        -1.        ]\n",
      "xValsL: [-2.  2. -2.  2. -2.  2. -2.  2. -2.]\n",
      "[ 1. -1.  1. -1.  1. -1.  1. -1.  1.]\n",
      "YOU'RE USING THE UPDATE.\n",
      "bounds: [-4.  -3.  -2.  -1.   0.   0.5  1.   1.5  2.   2.5]\n",
      "\n",
      "-0.5\n",
      "xValsR: [0. 0. 0. 0. 0. 0. 0. 0. 0.]\n",
      "xValsL: [-0.00390625  0.0078125  -0.015625    0.03125    -0.0625      0.125      -0.25        0.5        -1.        ]\n",
      "[ 0.00390625 -0.0078125   0.015625   -0.03125     0.0625     -0.125       0.25       -0.5         1.        ]\n",
      "YOU'RE USING THE UPDATE.\n",
      "bounds: [-3.  -2.  -1.   0.   0.5  1.   1.5  2.   2.5  3. ]\n",
      "\n",
      "0.5\n",
      "xValsR: [0.00390625 0.0078125  0.015625   0.03125    0.0625     0.125      0.25       0.5        1.        ]\n",
      "xValsL: [0. 0. 0. 0. 0. 0. 0. 0. 0.]\n",
      "[0.00390625 0.0078125  0.015625   0.03125    0.0625     0.125      0.25       0.5        1.        ]\n",
      "YOU'RE USING THE UPDATE.\n",
      "bounds: [-3.  -2.5 -2.  -1.5 -1.  -0.5 -0.   1.   2.   3. ]\n",
      "\n",
      "1.0\n",
      "xValsR: [2. 2. 2. 2. 2. 2. 2. 2. 2.]\n",
      "xValsL: [0.00390625 0.0078125  0.015625   0.03125    0.0625     0.125      0.25       0.5        1.        ]\n",
      "[1. 1. 1. 1. 1. 1. 1. 1. 1.]\n",
      "YOU'RE USING THE UPDATE.\n",
      "bounds: [-2.5 -2.  -1.5 -1.  -0.5 -0.   1.   2.   3.   4. ]\n",
      "\n",
      "1.5\n",
      "xValsR: [76.88671875 51.2578125  34.171875   22.78125    15.1875     10.125       6.75        4.5         3.        ]\n",
      "xValsL: [2. 2. 2. 2. 2. 2. 2. 2. 2.]\n",
      "[25.62890625 17.0859375  11.390625    7.59375     5.0625      3.375       2.25        1.5         1.        ]\n",
      "YOU'RE USING THE UPDATE.\n",
      "bounds: [-2.  -1.5 -1.  -0.5 -0.   1.   2.   3.   4.   5. ]\n",
      "\n",
      "2.0\n",
      "xValsR: [1024.  512.  256.  128.   64.   32.   16.    8.    4.]\n",
      "xValsL: [76.88671875 51.2578125  34.171875   22.78125    15.1875     10.125       6.75        4.5         3.        ]\n",
      "[256. 128.  64.  32.  16.   8.   4.   2.   1.]\n",
      "YOU'RE USING THE UPDATE.\n",
      "bounds: [-2.  -1.5 -1.  -0.5 -0.   1.   2.   3.   4.   5. ]\n",
      "\n",
      "x:\n",
      "[0.      0.0625  0.125   0.1875  0.25    0.3125  0.375   0.4375  0.5     0.53125 0.5625  0.59375 0.625   0.65625 0.6875  0.71875 0.75    0.78125 0.8125  0.84375 0.875   0.90625 0.9375  0.96875 1.     ]\n",
      "\n",
      "Polynomial Function:\n",
      "<p(x)> =\n",
      "         9         8          7          6       5        4          3\n",
      "0.1111 x + 0.125 x + 0.1429 x + 0.1667 x + 0.2 x + 0.25 x + 0.3333 x\n",
      "        2\n",
      " + 0.5 x + 1 x\n",
      "<p(x)> =\n",
      " [1.03261634 1.10388594 1.18572745 1.28068145 1.39216413 1.52484897 1.68521723 1.88233368 2.05983746 2.19798906 2.3541448  2.53136247 2.73323939 2.96399744 3.2285784  3.53275083 3.88322923 4.2878064  4.75550013 5.29671513 5.92342133 6.64934958 7.49020602 8.46390607]\n",
      "\n",
      "Polynomial Derivative:\n",
      "<dp(x)/dx> =\n",
      "    8     7     6     5     4     3     2\n",
      "1 x + 1 x + 1 x + 1 x + 1 x + 1 x + 1 x + 1 x\n",
      "Theoretical:\n",
      "<dp(x)/dx> =\n",
      " [ 1.06666667  1.21904748  1.4065879   1.6409499   1.93881387  2.32417994  2.83149547  3.50975877  4.1615759   4.69392301  5.31631277  6.04475821  6.89783084  7.89698339  9.06690012 10.4358759  12.03622521 13.90472221 16.08307316 18.61842213 21.56389151 24.97915819 28.93106674 33.4942807 ]\n",
      "Actual:\n",
      "<dp(x)/dx> =\n",
      " [ 39.76259552 -11.03398091   4.31381144   1.22738082   1.96344864   2.32417994   2.83149547   3.50975877   4.1615759    4.69392301   5.31631277   6.04475821   6.89783084   7.89698339   9.06690012  10.4358759   12.03622521  13.90472221  16.08307316  18.61842213  21.81197429  22.86472116  37.32724683   2.28362662]\n",
      "Difference Between Actual and Theoretical:\n",
      "[-3.86959289e+01  1.22530284e+01 -2.90722354e+00  4.13569086e-01 -2.46347670e-02 -0.00000000e+00  0.00000000e+00 -0.00000000e+00 -0.00000000e+00  0.00000000e+00  0.00000000e+00  0.00000000e+00  0.00000000e+00 -0.00000000e+00  0.00000000e+00  0.00000000e+00 -0.00000000e+00  0.00000000e+00 -0.00000000e+00 -0.00000000e+00 -2.48082775e-01  2.11443703e+00 -8.39618009e+00  3.12106541e+01]\n",
      "\n"
     ]
    }
   ],
   "source": [
    "TT.DerivPolyTest(omega, deriv, order, deriv = 0)"
   ]
  },
  {
   "cell_type": "code",
   "execution_count": 43,
   "metadata": {},
   "outputs": [
    {
     "name": "stdout",
     "output_type": "stream",
     "text": [
      "[0.11111111 0.125      0.14285714 0.16666667 0.2        0.25       0.33333333 0.5        1.         1.        ]\n",
      "        9         8          7          6       5        4          3\n",
      "0.1111 x + 0.125 x + 0.1429 x + 0.1667 x + 0.2 x + 0.25 x + 0.3333 x\n",
      "        2\n",
      " + 0.5 x + 1 x\n",
      "\n"
     ]
    }
   ],
   "source": [
    "coefs = 1. / (np.arange(order + 1) + 1)\n",
    "coefs = np.append(1, coefs)[::-1]\n",
    "P = np.poly1d(coefs) - 1\n",
    "print(coefs)\n",
    "print(P)\n",
    "print('')"
   ]
  },
  {
   "cell_type": "code",
   "execution_count": 7,
   "metadata": {},
   "outputs": [
    {
     "name": "stdout",
     "output_type": "stream",
     "text": [
      "[0 1 2 3 4 5 6 7 8 9]\n",
      "[0 1 2 3 4 5 6 7 8]\n",
      "\n"
     ]
    }
   ],
   "source": [
    "A = np.arange(10)\n",
    "print(A)\n",
    "print(A[:-1])\n",
    "print('')"
   ]
  },
  {
   "cell_type": "code",
   "execution_count": null,
   "metadata": {},
   "outputs": [],
   "source": []
  },
  {
   "cell_type": "code",
   "execution_count": null,
   "metadata": {},
   "outputs": [],
   "source": []
  }
 ],
 "metadata": {
  "kernelspec": {
   "display_name": "Python 3",
   "language": "python",
   "name": "python3"
  },
  "language_info": {
   "codemirror_mode": {
    "name": "ipython",
    "version": 3
   },
   "file_extension": ".py",
   "mimetype": "text/x-python",
   "name": "python",
   "nbconvert_exporter": "python",
   "pygments_lexer": "ipython3",
   "version": "3.7.3"
  }
 },
 "nbformat": 4,
 "nbformat_minor": 2
}
