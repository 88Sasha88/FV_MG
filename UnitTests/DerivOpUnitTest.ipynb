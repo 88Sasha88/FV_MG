{
 "cells": [
  {
   "cell_type": "markdown",
   "metadata": {},
   "source": [
    "This tests the accuracy of a differential operator on a polynomial of the given order. If the operator is working to said order, then the `Actual` and `Theoretical` outputs should match (except possibly at the edges.)"
   ]
  },
  {
   "cell_type": "code",
   "execution_count": 1,
   "metadata": {},
   "outputs": [
    {
     "data": {
      "text/html": [
       "<style>pre { white-space: pre !important; }</style>"
      ],
      "text/plain": [
       "<IPython.core.display.HTML object>"
      ]
     },
     "metadata": {},
     "output_type": "display_data"
    },
    {
     "data": {
      "text/html": [
       "<style>pre { white-space: pre !important; }</style>"
      ],
      "text/plain": [
       "<IPython.core.display.HTML object>"
      ]
     },
     "metadata": {},
     "output_type": "display_data"
    }
   ],
   "source": [
    "import os.path\n",
    "from scipy import *\n",
    "import numpy as np\n",
    "from numpy import *\n",
    "from numpy import linalg as LA\n",
    "from scipy import linalg as LA2\n",
    "import sympy as sympy\n",
    "import sys as sys\n",
    "import time\n",
    "import matplotlib.pyplot as plt\n",
    "import itertools as it\n",
    "from IPython.core.display import HTML\n",
    "\n",
    "sys.path.append('/Users/sashacurcic/SashasDirectory/ANAG/FV_MG/')\n",
    "from Modules import BasicTools as BT\n",
    "from Modules import WaveTools as WT\n",
    "from Modules import PlotTools as PT\n",
    "from Modules import FFTTools as FFTT\n",
    "from Modules import OperatorTools as OT\n",
    "from Modules import GridTransferTools as GTT\n",
    "from Modules import TestTools as TT\n",
    "from Modules import SolverTools as ST\n",
    "\n",
    "display(HTML(\"<style>pre { white-space: pre !important; }</style>\"))\n",
    "np.set_printoptions( linewidth = 10000, threshold = 100000)"
   ]
  },
  {
   "cell_type": "markdown",
   "metadata": {},
   "source": [
    "This cell takes all of the input parameters."
   ]
  },
  {
   "cell_type": "code",
   "execution_count": 2,
   "metadata": {},
   "outputs": [],
   "source": [
    "# Grid parameters.\n",
    "nh_min = 16\n",
    "refRatio = 2\n",
    "cfInter = int(nh_min / refRatio)\n",
    "\n",
    "# Time integration parameters.\n",
    "deriv = 'CD'\n",
    "# RK = 4\n",
    "order = 2"
   ]
  },
  {
   "cell_type": "markdown",
   "metadata": {},
   "source": [
    "This cell contains the relevant switch information."
   ]
  },
  {
   "cell_type": "code",
   "execution_count": 3,
   "metadata": {},
   "outputs": [],
   "source": [
    "# TimeIntFunc, DiffFunc = TT.SolverSwitch(deriv, RK)"
   ]
  },
  {
   "cell_type": "markdown",
   "metadata": {},
   "source": [
    "This cell instantiates the Grid and the Physics objects."
   ]
  },
  {
   "cell_type": "code",
   "execution_count": 4,
   "metadata": {},
   "outputs": [],
   "source": [
    "omega = BT.Grid(nh_min)\n",
    "finehalf = list(np.arange(cfInter))\n",
    "omega.AddPatch(refRatio, finehalf)"
   ]
  },
  {
   "cell_type": "markdown",
   "metadata": {},
   "source": [
    "This cell runs a test on the derivative operator on a polynomial which matches the given order."
   ]
  },
  {
   "cell_type": "code",
   "execution_count": 5,
   "metadata": {},
   "outputs": [
    {
     "name": "stdout",
     "output_type": "stream",
     "text": [
      "YOU'RE USING THE UPDATE.\n",
      "bounds: [-1.   0.   0.5  1. ]\n",
      "polyInterp: [ 0.5   0.75 -0.25]\n",
      "\n",
      "YOU'RE USING THE UPDATE.\n",
      "bounds: [-1.  -0.5 -0.   1. ]\n",
      "polyInterp: [-0.25  0.75  0.5 ]\n",
      "\n",
      "x:\n",
      "[0.015625 0.046875 0.078125 0.109375 0.140625 0.171875 0.203125 0.234375 0.265625 0.296875 0.328125 0.359375 0.390625 0.421875 0.453125 0.484375 0.53125  0.59375  0.65625  0.71875  0.78125  0.84375  0.90625  0.96875 ]\n",
      "\n",
      "Polynomial Function:\n",
      "p(x) =          3       2\n",
      "0.3333 x + 0.5 x + 1 x\n",
      "p(x) =\n",
      " [1.03230794 1.06648763 1.10262044 1.14070638 1.18074544 1.22273763 1.26668294 1.31258138 1.36043294 1.41023763 1.46199544 1.51570638 1.57137044 1.62898763 1.68855794 1.75008138 1.87923177 2.01595052 2.16048177 2.31282552 2.47298177 2.64095052 2.81673177 3.00032552]\n",
      "\n",
      "Polynomial Derivative:\n",
      "dp(x)/dx =    2\n",
      "1 x + 1 x + 1\n",
      "Theoretical:\n",
      "dp(x)/dx =\n",
      " [32.5078125 33.5703125 34.6953125 35.8828125 37.1328125 38.4453125 39.8203125 41.2578125 42.7578125 44.3203125 45.9453125 47.6328125 49.3828125 51.1953125 53.0703125 55.0078125 29.015625  31.140625  33.390625  35.765625  38.265625  40.890625  43.640625  46.515625 ]\n",
      "Actual:\n",
      "dp(x)/dx =\n",
      " [-15.06054688   1.125        1.1875       1.25         1.3125       1.375        1.4375       1.5          1.5625       1.625        1.6875       1.75         1.8125       1.875        1.9375       2.26367188   2.37304688   2.25         2.375        2.5          2.625        2.75         2.875      -14.13867187]\n",
      "Difference Between Actual and Theoretical:\n",
      "[16.07641602 -0.07592773 -0.10327148 -0.12866211 -0.15209961 -0.17358398 -0.19311523 -0.21069336 -0.22631836 -0.23999023 -0.25170898 -0.26147461 -0.26928711 -0.27514648 -0.27905273 -0.54467773 -0.55957031 -0.30371094 -0.28808594 -0.26464844 -0.23339844 -0.19433594 -0.14746094 17.04589844]\n",
      "\n"
     ]
    }
   ],
   "source": [
    "TT.DerivPolyTest(omega, deriv, order)"
   ]
  },
  {
   "cell_type": "code",
   "execution_count": 6,
   "metadata": {},
   "outputs": [
    {
     "name": "stdout",
     "output_type": "stream",
     "text": [
      "[0.33333333 0.5        1.         1.        ]\n",
      "        3       2\n",
      "0.3333 x + 0.5 x + 1 x\n",
      "\n"
     ]
    }
   ],
   "source": [
    "coefs = 1. / (np.arange(order + 1) + 1)\n",
    "coefs = np.append(1, coefs)[::-1]\n",
    "P = np.poly1d(coefs) - 1\n",
    "print(coefs)\n",
    "print(P)\n",
    "print('')"
   ]
  },
  {
   "cell_type": "code",
   "execution_count": null,
   "metadata": {},
   "outputs": [],
   "source": []
  }
 ],
 "metadata": {
  "kernelspec": {
   "display_name": "Python 3",
   "language": "python",
   "name": "python3"
  },
  "language_info": {
   "codemirror_mode": {
    "name": "ipython",
    "version": 3
   },
   "file_extension": ".py",
   "mimetype": "text/x-python",
   "name": "python",
   "nbconvert_exporter": "python",
   "pygments_lexer": "ipython3",
   "version": "3.7.3"
  }
 },
 "nbformat": 4,
 "nbformat_minor": 2
}
