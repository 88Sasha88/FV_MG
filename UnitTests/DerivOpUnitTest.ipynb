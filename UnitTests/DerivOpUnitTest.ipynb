{
 "cells": [
  {
   "cell_type": "code",
   "execution_count": 1,
   "metadata": {},
   "outputs": [
    {
     "data": {
      "text/html": [
       "<style>pre { white-space: pre !important; }</style>"
      ],
      "text/plain": [
       "<IPython.core.display.HTML object>"
      ]
     },
     "metadata": {},
     "output_type": "display_data"
    },
    {
     "data": {
      "text/html": [
       "<style>pre { white-space: pre !important; }</style>"
      ],
      "text/plain": [
       "<IPython.core.display.HTML object>"
      ]
     },
     "metadata": {},
     "output_type": "display_data"
    }
   ],
   "source": [
    "import os.path\n",
    "from scipy import *\n",
    "import numpy as np\n",
    "from numpy import *\n",
    "from numpy import linalg as LA\n",
    "from scipy import linalg as LA2\n",
    "import sympy as sympy\n",
    "import sys as sys\n",
    "import time\n",
    "import matplotlib.pyplot as plt\n",
    "import itertools as it\n",
    "from IPython.core.display import HTML\n",
    "\n",
    "sys.path.append('/Users/sashacurcic/SashasDirectory/ANAG/FV_MG/')\n",
    "from Modules import BasicTools as BT\n",
    "from Modules import WaveTools as WT\n",
    "from Modules import PlotTools as PT\n",
    "from Modules import FFTTools as FFTT\n",
    "from Modules import OperatorTools as OT\n",
    "from Modules import GridTransferTools as GTT\n",
    "from Modules import TestTools as TT\n",
    "from Modules import SolverTools as ST\n",
    "\n",
    "display(HTML(\"<style>pre { white-space: pre !important; }</style>\"))\n",
    "np.set_printoptions( linewidth = 10000, threshold = 100000)"
   ]
  },
  {
   "cell_type": "code",
   "execution_count": 2,
   "metadata": {},
   "outputs": [],
   "source": [
    "nh = 8\n",
    "refRatio = 2\n",
    "c = 1.\n",
    "CFL = 0.5\n",
    "nt = 32\n",
    "RK = 4\n",
    "deriv = 'CD'\n",
    "order = 1"
   ]
  },
  {
   "cell_type": "code",
   "execution_count": 3,
   "metadata": {},
   "outputs": [],
   "source": [
    "if (RK == 1):\n",
    "    TimeIntegratorFunc = ST.ForwardEuler\n",
    "else:\n",
    "    if (RK == 2):\n",
    "        TimeIntegratorFunc = ST.MidpointMeth\n",
    "    else:\n",
    "        TimeIntegratorFunc = ST.RK4\n",
    "\n",
    "if (deriv == 'U'):\n",
    "    DiffFunc = TT.Upwind #ST.Upwind\n",
    "else:\n",
    "    DiffFunc = TT.CenterDiff #ST.CenterDiff"
   ]
  },
  {
   "cell_type": "code",
   "execution_count": 4,
   "metadata": {},
   "outputs": [
    {
     "name": "stdout",
     "output_type": "stream",
     "text": [
      "spacing:\n",
      "[0.125  0.125  0.125  0.125  0.0625 0.0625 0.0625 0.0625 0.0625 0.0625 0.0625 0.0625]\n",
      "[ 0.      0.      0.     -0.0625  0.      0.      0.      0.      0.      0.      0.      0.0625]\n",
      "\n",
      "\n",
      "0\n",
      "[ 0.   1.   0.   0.   0.   0.   0.   0.   0.   0.  -0.5 -0.5]\n",
      "[ 0.0625  0.      0.      0.     -0.0625  0.      0.      0.      0.      0.      0.      0.    ]\n",
      "\n",
      "[[ 0.          1.          0.          0.          0.          0.          0.          0.          0.          0.         -0.5        -0.5       ]\n",
      " [-1.          0.          1.          0.          0.          0.          0.          0.          0.          0.          0.          0.        ]\n",
      " [ 0.         -1.          0.          1.          0.          0.          0.          0.          0.          0.          0.          0.        ]\n",
      " [ 0.          0.         -1.          0.          0.5         0.5         0.          0.          0.          0.          0.          0.        ]\n",
      " [ 0.          0.          0.         -0.66666667 -0.33333333  1.          0.          0.          0.          0.          0.          0.        ]\n",
      " [ 0.          0.          0.          0.         -1.          0.          1.          0.          0.          0.          0.          0.        ]\n",
      " [ 0.          0.          0.          0.          0.         -1.          0.          1.          0.          0.          0.          0.        ]\n",
      " [ 0.          0.          0.          0.          0.          0.         -1.          0.          1.          0.          0.          0.        ]\n",
      " [ 0.          0.          0.          0.          0.          0.          0.         -1.          0.          1.          0.          0.        ]\n",
      " [ 0.          0.          0.          0.          0.          0.          0.          0.         -1.          0.          1.          0.        ]\n",
      " [ 0.          0.          0.          0.          0.          0.          0.          0.          0.         -1.          0.          1.        ]\n",
      " [ 0.66666667  0.          0.          0.          0.          0.          0.          0.          0.          0.         -1.          0.33333333]]\n"
     ]
    }
   ],
   "source": [
    "omega = BT.Grid(nh)\n",
    "finehalf = list(np.arange(int(nh / refRatio)) + int(nh / refRatio))\n",
    "omega.AddPatch(refRatio, finehalf)\n",
    "degFreed = omega.degFreed\n",
    "nh_min = omega.nh_min\n",
    "nh_max = omega.nh_max\n",
    "t, nt = ST.CalcTime(omega, CFL, c, nt = nt)\n",
    "derivMat = OT.SpaceDeriv(omega, order, 'deriv')\n",
    "spatOp = -c * derivMat\n",
    "strings = omega.strings\n",
    "timePropOp = LA2.expm(t * spatOp)\n",
    "omegaF = BT.Grid(nh_max)\n",
    "wavesF = WT.MakeWaves(omegaF)"
   ]
  },
  {
   "cell_type": "code",
   "execution_count": 5,
   "metadata": {},
   "outputs": [
    {
     "name": "stdout",
     "output_type": "stream",
     "text": [
      "derivMat =\n",
      " [[ 0.          4.          0.          0.          0.          0.          0.          0.          0.          0.         -2.         -2.        ]\n",
      " [-4.          0.          4.          0.          0.          0.          0.          0.          0.          0.          0.          0.        ]\n",
      " [ 0.         -4.          0.          4.          0.          0.          0.          0.          0.          0.          0.          0.        ]\n",
      " [ 0.          0.         -4.          0.          2.          2.          0.          0.          0.          0.          0.          0.        ]\n",
      " [ 0.          0.          0.         -5.33333333 -2.66666667  8.          0.          0.          0.          0.          0.          0.        ]\n",
      " [ 0.          0.          0.          0.         -8.          0.          8.          0.          0.          0.          0.          0.        ]\n",
      " [ 0.          0.          0.          0.          0.         -8.          0.          8.          0.          0.          0.          0.        ]\n",
      " [ 0.          0.          0.          0.          0.          0.         -8.          0.          8.          0.          0.          0.        ]\n",
      " [ 0.          0.          0.          0.          0.          0.          0.         -8.          0.          8.          0.          0.        ]\n",
      " [ 0.          0.          0.          0.          0.          0.          0.          0.         -8.          0.          8.          0.        ]\n",
      " [ 0.          0.          0.          0.          0.          0.          0.          0.          0.         -8.          0.          8.        ]\n",
      " [ 5.33333333  0.          0.          0.          0.          0.          0.          0.          0.          0.         -8.          2.66666667]] \n",
      "\n",
      "spatOp =\n",
      " [[-0.         -4.         -0.         -0.         -0.         -0.         -0.         -0.         -0.         -0.          2.          2.        ]\n",
      " [ 4.         -0.         -4.         -0.         -0.         -0.         -0.         -0.         -0.         -0.         -0.         -0.        ]\n",
      " [-0.          4.         -0.         -4.         -0.         -0.         -0.         -0.         -0.         -0.         -0.         -0.        ]\n",
      " [-0.         -0.          4.         -0.         -2.         -2.         -0.         -0.         -0.         -0.         -0.         -0.        ]\n",
      " [-0.         -0.         -0.          5.33333333  2.66666667 -8.         -0.         -0.         -0.         -0.         -0.         -0.        ]\n",
      " [-0.         -0.         -0.         -0.          8.         -0.         -8.         -0.         -0.         -0.         -0.         -0.        ]\n",
      " [-0.         -0.         -0.         -0.         -0.          8.         -0.         -8.         -0.         -0.         -0.         -0.        ]\n",
      " [-0.         -0.         -0.         -0.         -0.         -0.          8.         -0.         -8.         -0.         -0.         -0.        ]\n",
      " [-0.         -0.         -0.         -0.         -0.         -0.         -0.          8.         -0.         -8.         -0.         -0.        ]\n",
      " [-0.         -0.         -0.         -0.         -0.         -0.         -0.         -0.          8.         -0.         -8.         -0.        ]\n",
      " [-0.         -0.         -0.         -0.         -0.         -0.         -0.         -0.         -0.          8.         -0.         -8.        ]\n",
      " [-5.33333333 -0.         -0.         -0.         -0.         -0.         -0.         -0.         -0.         -0.          8.         -2.66666667]] \n",
      "\n",
      "timePropOp =\n",
      " [[ 0.54019386  0.36684993  0.19199191  0.03411257 -0.19366592 -0.08779198  0.3668774  -0.54423863  0.62274675 -0.52686761  0.57653241 -0.34674069]\n",
      " [-0.09516415  0.58967458  0.38811035 -0.05980514  0.40035983 -0.46494735  0.38394775 -0.35708653  0.10632399 -0.02479369 -0.1285999   0.26198026]\n",
      " [ 0.2998263  -0.11642456  0.84147163 -0.11159019  0.43941965 -0.08487038  0.15115575  0.01100888 -0.04183892 -0.05701983  0.05056659 -0.38170491]\n",
      " [-0.48767947  0.04802925  0.38327598  0.19577362  0.22135907  0.05578535  0.19218922  0.02890282  0.24238141 -0.20960471  0.37085712 -0.04126966]\n",
      " [-0.0959151  -1.04947969  1.11903142 -0.32927028  0.44688556 -0.04418539  0.20013208 -0.05905808  0.31940754 -0.34194603  0.35168553  0.48271244]\n",
      " [ 0.48945679 -0.92528033  0.26842309  0.28235099  0.10944053  0.18689768  0.20970953 -0.11969293  0.55094474 -0.28599648 -0.4362131   0.66995949]\n",
      " [ 0.81336473 -0.93896284  0.51521576 -0.2680191   0.29409545 -0.07386663  0.50672269 -0.40029329  0.48571108  0.64521181 -0.72663464  0.14745497]\n",
      " [ 1.05724153 -0.77620585 -0.06704879  0.34389523  0.01827057 -0.09273434  0.53613618 -0.09868132 -0.49456036  0.92634924 -0.14179744 -0.21086467]\n",
      " [ 1.0608912  -0.37681769 -0.04483478 -0.31372387  0.46671341 -0.50575843  0.51266968  0.63040325 -0.53931948  0.29244889  0.14626889 -0.32894108]\n",
      " [ 1.02635632 -0.22334286 -0.09859569  0.01033557  0.2900269  -0.21712158 -0.6000255   0.95330784 -0.156606    0.24076087  0.21436973 -0.4394656 ]\n",
      " [ 0.87958556  0.18565832 -0.16167399 -0.55637299  0.58974324  0.38687787 -0.65775974  0.18698375  0.17322749 -0.07852683  0.56990629 -0.51764897]\n",
      " [ 0.58842785  0.29728692  0.27241996 -0.46366358 -0.43252529  0.89128815 -0.40013139  0.12232061  0.10890458 -0.15591793  0.43359547 -0.26200537]] \n",
      "\n"
     ]
    }
   ],
   "source": [
    "print('derivMat =\\n', derivMat, '\\n')\n",
    "print('spatOp =\\n', spatOp, '\\n')\n",
    "print('timePropOp =\\n', timePropOp, '\\n')"
   ]
  },
  {
   "cell_type": "code",
   "execution_count": 6,
   "metadata": {},
   "outputs": [],
   "source": [
    "def SpacePoly(omega, DiffFunc, deg, coefs = []):\n",
    "    errorLoc = 'ERROR:\\nTestTools:\\nSpacePoly:\\n'\n",
    "    if (coefs == []):\n",
    "        coefs = np.ones(deg + 1, float)\n",
    "    else:\n",
    "        errorMess = BT.CheckSize(deg, coefs, nName = 'deg', matricaName = 'coefs')\n",
    "        if (errorMess != ''):\n",
    "            sys.exit(errorLoc + errorMess)\n",
    "    nh_max = omega.nh_max\n",
    "    waves = WT.MakeWaves(omega)\n",
    "    x = omega.xCell\n",
    "    nullspace = OT.FindNullspace(omega, waves)\n",
    "    waveform = 0\n",
    "    waveDeriv = 0\n",
    "    polyString = 'u(x)'\n",
    "    print(polyString + ' = ')\n",
    "    #derivString = '$\\frac{\\textup{d}}{}'\n",
    "    for d in range(deg + 1):\n",
    "        waveform = waveform + (coefs[d] * (x ** d))\n",
    "        if (d > 0):\n",
    "            waveDeriv = waveDeriv + (coefs[d] * (x ** (d - 1)))\n",
    "        \n",
    "        if (d == 0):\n",
    "            monoString = ' = ' + str(coefs[d])\n",
    "            print(monoString)\n",
    "        else:\n",
    "            if (d == 1):\n",
    "                monoString = ' ' + str(coefs[d]) + 'x'\n",
    "            else:\n",
    "                monoString = ' ' + str(coefs[d]) + 'x^' + str(d)\n",
    "        if (d != deg):\n",
    "            monoString = monoString + ' +'\n",
    "        print(polyString)\n",
    "        polyString = polyString + monoString\n",
    "        print(polyString)\n",
    "    waveDerivTest = DiffFunc(omega, 0, waveform, -1, 1)\n",
    "    print(x)\n",
    "    print(polyString)\n",
    "    print(waveform)\n",
    "    print(waveDeriv)\n",
    "    print(waveDerivTest)\n",
    "    print('')\n",
    "    return"
   ]
  },
  {
   "cell_type": "code",
   "execution_count": 7,
   "metadata": {},
   "outputs": [
    {
     "name": "stdout",
     "output_type": "stream",
     "text": [
      "u(x) = \n",
      " = 1.0\n",
      "u(x)\n",
      "u(x) = 1.0 +\n",
      "u(x) = 1.0 +\n",
      "u(x) = 1.0 + 1.0x\n",
      "spacing:\n",
      "[0.125  0.125  0.125  0.125  0.0625 0.0625 0.0625 0.0625 0.0625 0.0625 0.0625 0.0625]\n",
      "[ 0.      0.      0.     -0.0625  0.      0.      0.      0.      0.      0.      0.      0.0625]\n",
      "\n",
      "\n",
      "0\n",
      "[ 0.   1.   0.   0.   0.   0.   0.   0.   0.   0.  -0.5 -0.5]\n",
      "[ 0.0625  0.      0.      0.     -0.0625  0.      0.      0.      0.      0.      0.      0.    ]\n",
      "\n",
      "[[ 0.          1.          0.          0.          0.          0.          0.          0.          0.          0.         -0.5        -0.5       ]\n",
      " [-1.          0.          1.          0.          0.          0.          0.          0.          0.          0.          0.          0.        ]\n",
      " [ 0.         -1.          0.          1.          0.          0.          0.          0.          0.          0.          0.          0.        ]\n",
      " [ 0.          0.         -1.          0.          0.5         0.5         0.          0.          0.          0.          0.          0.        ]\n",
      " [ 0.          0.          0.         -0.66666667 -0.33333333  1.          0.          0.          0.          0.          0.          0.        ]\n",
      " [ 0.          0.          0.          0.         -1.          0.          1.          0.          0.          0.          0.          0.        ]\n",
      " [ 0.          0.          0.          0.          0.         -1.          0.          1.          0.          0.          0.          0.        ]\n",
      " [ 0.          0.          0.          0.          0.          0.         -1.          0.          1.          0.          0.          0.        ]\n",
      " [ 0.          0.          0.          0.          0.          0.          0.         -1.          0.          1.          0.          0.        ]\n",
      " [ 0.          0.          0.          0.          0.          0.          0.          0.         -1.          0.          1.          0.        ]\n",
      " [ 0.          0.          0.          0.          0.          0.          0.          0.          0.         -1.          0.          1.        ]\n",
      " [ 0.66666667  0.          0.          0.          0.          0.          0.          0.          0.          0.         -1.          0.33333333]]\n",
      "[0.0625  0.1875  0.3125  0.4375  0.53125 0.59375 0.65625 0.71875 0.78125 0.84375 0.90625 0.96875]\n",
      "u(x) = 1.0 + 1.0x\n",
      "[1.0625  1.1875  1.3125  1.4375  1.53125 1.59375 1.65625 1.71875 1.78125 1.84375 1.90625 1.96875]\n",
      "[1. 1. 1. 1. 1. 1. 1. 1. 1. 1. 1. 1.]\n",
      "[-3.          1.          1.          1.          1.          1.          1.          1.          1.          1.          1.         -4.33333333]\n",
      "\n"
     ]
    }
   ],
   "source": [
    "SpacePoly(omega, DiffFunc, 1)"
   ]
  },
  {
   "cell_type": "code",
   "execution_count": null,
   "metadata": {},
   "outputs": [],
   "source": []
  }
 ],
 "metadata": {
  "kernelspec": {
   "display_name": "Python 3",
   "language": "python",
   "name": "python3"
  },
  "language_info": {
   "codemirror_mode": {
    "name": "ipython",
    "version": 3
   },
   "file_extension": ".py",
   "mimetype": "text/x-python",
   "name": "python",
   "nbconvert_exporter": "python",
   "pygments_lexer": "ipython3",
   "version": "3.7.3"
  }
 },
 "nbformat": 4,
 "nbformat_minor": 2
}
