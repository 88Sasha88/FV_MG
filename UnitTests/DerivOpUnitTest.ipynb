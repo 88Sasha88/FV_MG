{
 "cells": [
  {
   "cell_type": "markdown",
   "metadata": {},
   "source": [
    "This tests the accuracy of a differential operator on a polynomial of the given order. If the operator is working to said order, then the `Actual` and `Theoretical` outputs should match (except possibly at the edges.)"
   ]
  },
  {
   "cell_type": "code",
   "execution_count": 1,
   "metadata": {
    "scrolled": true
   },
   "outputs": [
    {
     "data": {
      "text/html": [
       "<style>pre { white-space: pre !important; }</style>"
      ],
      "text/plain": [
       "<IPython.core.display.HTML object>"
      ]
     },
     "metadata": {},
     "output_type": "display_data"
    },
    {
     "data": {
      "text/html": [
       "<style>pre { white-space: pre !important; }</style>"
      ],
      "text/plain": [
       "<IPython.core.display.HTML object>"
      ]
     },
     "metadata": {},
     "output_type": "display_data"
    }
   ],
   "source": [
    "import os.path\n",
    "from scipy import *\n",
    "import numpy as np\n",
    "from numpy import *\n",
    "from numpy import linalg as LA\n",
    "from scipy import linalg as LA2\n",
    "import sympy as sympy\n",
    "import sys as sys\n",
    "import time\n",
    "import matplotlib.pyplot as plt\n",
    "import itertools as it\n",
    "from IPython.core.display import HTML\n",
    "\n",
    "sys.path.append('/Users/sashacurcic/SashasDirectory/ANAG/FV_MG/')\n",
    "from Modules import BasicTools as BT\n",
    "from Modules import WaveTools as WT\n",
    "from Modules import PlotTools as PT\n",
    "from Modules import FFTTools as FFTT\n",
    "from Modules import OperatorTools as OT\n",
    "from Modules import GridTransferTools as GTT\n",
    "from Modules import TestTools as TT\n",
    "from Modules import SolverTools as ST\n",
    "\n",
    "display(HTML(\"<style>pre { white-space: pre !important; }</style>\"))\n",
    "np.set_printoptions( linewidth = 10000, threshold = 100000)"
   ]
  },
  {
   "cell_type": "markdown",
   "metadata": {},
   "source": [
    "This cell takes all of the input parameters."
   ]
  },
  {
   "cell_type": "code",
   "execution_count": 2,
   "metadata": {},
   "outputs": [],
   "source": [
    "# Grid parameters.\n",
    "nh_min = 16\n",
    "refRatio = 2\n",
    "cfInter = int(nh_min / refRatio)\n",
    "\n",
    "# Time integration parameters.\n",
    "deriv = 'CD'\n",
    "# RK = 4\n",
    "order = 6\n",
    "matInd = nh_min - 2"
   ]
  },
  {
   "cell_type": "markdown",
   "metadata": {},
   "source": [
    "This cell contains the relevant switch information."
   ]
  },
  {
   "cell_type": "code",
   "execution_count": 3,
   "metadata": {},
   "outputs": [],
   "source": [
    "# TimeIntFunc, DiffFunc = TT.SolverSwitch(deriv, RK)"
   ]
  },
  {
   "cell_type": "markdown",
   "metadata": {},
   "source": [
    "This cell instantiates the Grid and the Physics objects."
   ]
  },
  {
   "cell_type": "code",
   "execution_count": 4,
   "metadata": {},
   "outputs": [],
   "source": [
    "omega = BT.Grid(nh_min)\n",
    "finehalf = list(np.arange(int(nh_min / refRatio)) + int(nh_min / refRatio))\n",
    "omega.AddPatch(refRatio, finehalf)"
   ]
  },
  {
   "cell_type": "markdown",
   "metadata": {},
   "source": [
    "This cell runs a test on the derivative operator on a cell-averaged polynomial which matches the given order.  \n",
    "$P (x) = \\sum_{k = 0}^{o} x^{k}$  \n",
    "$<P (x)> = \\frac{1}{\\Delta x} \\int_{x}^{x + \\Delta x} P (x')$d$x'$  \n",
    "$<P (x)> = \\frac{1}{\\Delta x} \\sum_{k = 1}^{o} \\frac{1}{k} [(x + \\Delta x)^{k} - x^{k}]$  \n",
    "$<\\frac{d P (x)}{d x}> = \\sum_{k = 1}^{o} [(x + \\Delta x)^{k} - x^{k}]$  "
   ]
  },
  {
   "cell_type": "code",
   "execution_count": 5,
   "metadata": {},
   "outputs": [
    {
     "name": "stdout",
     "output_type": "stream",
     "text": [
      "k should be positive, or this is an exception case.\n",
      "Bounds are: [0.6875  0.71875 0.75    0.78125 0.8125  0.84375 0.875   0.90625] <= 0.6875\n",
      "centCellInd is 15\n",
      "bounds is [0.625   0.65625] (This isn't right yet.)\n",
      "polyInterp is [  27.99999993 -111.99999962  209.99999911 -223.99999885  139.99999916  -47.99999967    6.99999995]\n",
      "k should be positive, or this is an exception case.\n",
      "Bounds are: [0.6875  0.71875 0.75    0.78125 0.8125  0.84375 0.875   0.90625] <= 0.6875\n",
      "centCellInd is 16\n",
      "bounds is [0.65625 0.6875 ] (This isn't right yet.)\n",
      "polyInterp is [  6.99999999 -20.99999996  34.99999993 -34.99999994  20.99999995  -6.99999998   1.        ]\n",
      "k should be positive, or this is an exception case.\n",
      "Bounds are: [0.6875  0.71875 0.75    0.78125 0.8125  0.84375 0.875   0.90625] <= 0.6875\n",
      "centCellInd is 17\n",
      "bounds is [0.6875  0.71875] (This isn't right yet.)\n",
      "polyInterp is [ 1.00000001e+00 -2.98023224e-08  1.19209290e-07 -1.78813934e-07  1.11758709e-07 -4.84287739e-08  6.51925802e-09]\n",
      "k should be positive, or this is an exception case.\n",
      "This case.\n",
      "Bounds are: [0.     0.0625 0.125  0.1875 0.25   0.3125 0.375  0.4375] <= 0.96875\n",
      "centCellInd is 0\n",
      "bounds is [-0.1875 -0.125 ] (This isn't right yet.)\n",
      "polyInterp is [  84. -378.  756. -840.  540. -189.   28.]\n",
      "k should be positive, or this is an exception case.\n",
      "This case.\n",
      "Bounds are: [0.     0.0625 0.125  0.1875 0.25   0.3125 0.375  0.4375] <= 0.96875\n",
      "centCellInd is 1\n",
      "bounds is [-0.125  -0.0625] (This isn't right yet.)\n",
      "polyInterp is [  28. -112.  210. -224.  140.  -48.    7.]\n",
      "k should be positive, or this is an exception case.\n",
      "This case.\n",
      "Bounds are: [0.     0.0625 0.125  0.1875 0.25   0.3125 0.375  0.4375] <= 0.96875\n",
      "centCellInd is 2\n",
      "bounds is [-0.0625  0.    ] (This isn't right yet.)\n",
      "polyInterp is [  7. -21.  35. -35.  21.  -7.   1.]\n",
      "k should be positive, or this is an exception case.\n",
      "This case.\n",
      "Bounds are: [0.     0.0625 0.125  0.1875 0.25   0.3125 0.375  0.4375] <= 0.96875\n",
      "centCellInd is 3\n",
      "bounds is [0.     0.0625] (This isn't right yet.)\n",
      "polyInterp is [ 1.00000000e+00  0.00000000e+00  0.00000000e+00  0.00000000e+00  8.88178420e-16 -3.33066907e-16  3.60822483e-16]\n",
      "k should be positive, or this is an exception case.\n",
      "Bounds are: [0.6875  0.71875 0.75    0.78125 0.8125  0.84375 0.875   0.90625] <= 0.6875\n",
      "centCellInd is 15\n",
      "bounds is [0.65625 0.6875 ] (This isn't right yet.)\n",
      "polyInterp is [  6.99999999 -20.99999996  34.99999993 -34.99999994  20.99999995  -6.99999998   1.        ]\n",
      "k should be positive, or this is an exception case.\n",
      "Bounds are: [0.6875  0.71875 0.75    0.78125 0.8125  0.84375 0.875   0.90625] <= 0.6875\n",
      "centCellInd is 16\n",
      "bounds is [0.6875  0.71875] (This isn't right yet.)\n",
      "polyInterp is [ 1.00000001e+00 -2.98023224e-08  1.19209290e-07 -1.78813934e-07  1.11758709e-07 -4.84287739e-08  6.51925802e-09]\n",
      "k should be positive, or this is an exception case.\n",
      "This case.\n",
      "Bounds are: [0.     0.0625 0.125  0.1875 0.25   0.3125 0.375  0.4375] <= 0.96875\n",
      "centCellInd is 0\n",
      "bounds is [-0.125  -0.0625] (This isn't right yet.)\n",
      "polyInterp is [  28. -112.  210. -224.  140.  -48.    7.]\n",
      "k should be positive, or this is an exception case.\n",
      "This case.\n",
      "Bounds are: [0.     0.0625 0.125  0.1875 0.25   0.3125 0.375  0.4375] <= 0.96875\n",
      "centCellInd is 1\n",
      "bounds is [-0.0625  0.    ] (This isn't right yet.)\n",
      "polyInterp is [  7. -21.  35. -35.  21.  -7.   1.]\n",
      "k should be positive, or this is an exception case.\n",
      "This case.\n",
      "Bounds are: [0.     0.0625 0.125  0.1875 0.25   0.3125 0.375  0.4375] <= 0.96875\n",
      "centCellInd is 2\n",
      "bounds is [0.     0.0625] (This isn't right yet.)\n",
      "polyInterp is [ 1.00000000e+00  0.00000000e+00  0.00000000e+00  0.00000000e+00  8.88178420e-16 -3.33066907e-16  3.60822483e-16]\n",
      "k should be positive, or this is an exception case.\n",
      "Bounds are: [0.6875  0.71875 0.75    0.78125 0.8125  0.84375 0.875   0.90625] <= 0.6875\n",
      "centCellInd is 15\n",
      "bounds is [0.6875  0.71875] (This isn't right yet.)\n",
      "polyInterp is [ 1.00000001e+00 -2.98023224e-08  1.19209290e-07 -1.78813934e-07  1.11758709e-07 -4.84287739e-08  6.51925802e-09]\n",
      "k should be positive, or this is an exception case.\n",
      "This case.\n",
      "Bounds are: [0.     0.0625 0.125  0.1875 0.25   0.3125 0.375  0.4375] <= 0.96875\n",
      "centCellInd is 0\n",
      "bounds is [-0.0625  0.    ] (This isn't right yet.)\n",
      "polyInterp is [  7. -21.  35. -35.  21.  -7.   1.]\n",
      "k should be positive, or this is an exception case.\n",
      "This case.\n",
      "Bounds are: [0.     0.0625 0.125  0.1875 0.25   0.3125 0.375  0.4375] <= 0.96875\n",
      "centCellInd is 1\n",
      "bounds is [0.     0.0625] (This isn't right yet.)\n",
      "polyInterp is [ 1.00000000e+00  0.00000000e+00  0.00000000e+00  0.00000000e+00  8.88178420e-16 -3.33066907e-16  3.60822483e-16]\n",
      "k should be negative.\n",
      "That case.\n",
      "Bounds are: [0.78125 0.8125  0.84375 0.875   0.90625 0.9375  0.96875 1.     ] <= 0.96875\n",
      "centCellInd is 23\n",
      "bounds is [1.      1.03125] (This isn't right yet.)\n",
      "polyInterp is [  0.99999994  -6.99999975  20.99999946 -34.99999928  34.99999934 -20.9999997    6.99999992]\n",
      "k should be negative.\n",
      "That case.\n",
      "Bounds are: [0.78125 0.8125  0.84375 0.875   0.90625 0.9375  0.96875 1.     ] <= 0.96875\n",
      "centCellInd is 22\n",
      "bounds is [1.      1.03125] (This isn't right yet.)\n",
      "polyInterp is [  0.99999994  -6.99999975  20.99999946 -34.99999928  34.99999934 -20.9999997    6.99999992]\n",
      "k should be negative.\n",
      "That case.\n",
      "Bounds are: [0.78125 0.8125  0.84375 0.875   0.90625 0.9375  0.96875 1.     ] <= 0.96875\n",
      "centCellInd is 23\n",
      "bounds is [1.03125 1.0625 ] (This isn't right yet.)\n",
      "polyInterp is [   6.99999983  -47.99999909  139.99999791 -223.99999708  209.99999779 -111.99999909   27.99999982]\n",
      "k should be negative.\n",
      "That case.\n",
      "Bounds are: [0.78125 0.8125  0.84375 0.875   0.90625 0.9375  0.96875 1.     ] <= 0.96875\n",
      "centCellInd is 21\n",
      "bounds is [1.      1.03125] (This isn't right yet.)\n",
      "polyInterp is [  0.99999994  -6.99999975  20.99999946 -34.99999928  34.99999934 -20.9999997    6.99999992]\n",
      "k should be negative.\n",
      "That case.\n",
      "Bounds are: [0.78125 0.8125  0.84375 0.875   0.90625 0.9375  0.96875 1.     ] <= 0.96875\n",
      "centCellInd is 22\n",
      "bounds is [1.03125 1.0625 ] (This isn't right yet.)\n",
      "polyInterp is [   6.99999983  -47.99999909  139.99999791 -223.99999708  209.99999779 -111.99999909   27.99999982]\n",
      "k should be negative.\n",
      "That case.\n",
      "Bounds are: [0.78125 0.8125  0.84375 0.875   0.90625 0.9375  0.96875 1.     ] <= 0.96875\n",
      "centCellInd is 23\n",
      "bounds is [1.0625  1.09375] (This isn't right yet.)\n",
      "polyInterp is [  27.99999944 -188.99999686  539.99999237 -839.99998981  755.99999237 -377.99999699   83.99999947]\n",
      "[[ -39.2          96.         -120.          106.66666667  -60.           19.2          -2.66666667    0.            0.            0.            0.            0.            0.            0.            0.            0.            0.            0.            0.            0.            0.            0.            0.            0.        ]\n",
      " [  -2.66666667  -20.53333333   40.          -26.66666667   13.33333333   -4.            0.53333333    0.            0.            0.            0.            0.            0.            0.            0.            0.            0.            0.            0.            0.            0.            0.            0.            0.        ]\n",
      " [   0.53333333   -6.4          -9.33333333   21.33333333   -8.            2.13333333   -0.26666667    0.            0.            0.            0.            0.            0.            0.            0.            0.            0.            0.            0.            0.            0.            0.            0.            0.        ]\n",
      " [  -0.26666667    2.4         -12.            0.           12.           -2.4           0.26666667    0.            0.            0.            0.            0.            0.            0.            0.            0.            0.            0.            0.            0.            0.            0.            0.            0.        ]\n",
      " [   0.           -0.26666667    2.4         -12.            0.           12.           -2.4           0.26666667    0.            0.            0.            0.            0.            0.            0.            0.            0.            0.            0.            0.            0.            0.            0.            0.        ]\n",
      " [   0.            0.           -0.26666667    2.4         -12.            0.           12.           -2.4           0.13333333    0.13333333    0.            0.            0.            0.            0.            0.            0.            0.            0.            0.            0.            0.            0.            0.        ]\n",
      " [   0.            0.            0.           -0.26666667    2.4         -12.            0.           12.           -1.2          -1.2           0.13333333    0.13333333    0.            0.            0.            0.            0.            0.            0.            0.            0.            0.            0.            0.        ]\n",
      " [   0.            0.            0.            0.           -0.26666667    2.4         -12.            0.            6.            6.           -1.2          -1.2           0.13333333    0.13333333    0.            0.            0.            0.            0.            0.            0.            0.            0.            0.        ]\n",
      " [   0.            0.            0.            0.           -0.0030303    -0.04906205    0.80808081   -7.52525253  -24.3459596    40.41594517  -10.73405483    1.43333333    0.            0.            0.            0.            0.            0.            0.            0.            0.            0.            0.            0.        ]\n",
      " [   0.            0.            0.            0.            0.            0.01587302   -0.22222222    2.04444444  -19.44444444   -3.06349206   25.1031746    -4.96666667    0.53333333    0.            0.            0.            0.            0.            0.            0.            0.            0.            0.            0.        ]\n",
      " [   0.            0.            0.            0.            0.           -0.0015873     0.02222222   -0.31111111    4.34444444  -23.69365079   -0.11031746   24.01666667   -4.8           0.53333333    0.            0.            0.            0.            0.            0.            0.            0.            0.            0.        ]\n",
      " [   0.            0.            0.            0.            0.            0.            0.            0.           -0.53333333    4.8         -24.            0.           24.           -4.8           0.53333333    0.            0.            0.            0.            0.            0.            0.            0.            0.        ]\n",
      " [   0.            0.            0.            0.            0.            0.            0.            0.            0.           -0.53333333    4.8         -24.            0.           24.           -4.8           0.53333333    0.            0.            0.            0.            0.            0.            0.            0.        ]\n",
      " [   0.            0.            0.            0.            0.            0.            0.            0.            0.            0.           -0.53333333    4.8         -24.            0.           24.           -4.8           0.53333333    0.            0.            0.            0.            0.            0.            0.        ]\n",
      " [   0.            0.            0.            0.            0.            0.            0.            0.            0.            0.            0.           -0.53333333    4.8         -24.            0.           24.           -4.8           0.53333333    0.            0.            0.            0.            0.            0.        ]\n",
      " [   0.            0.            0.            0.            0.            0.            0.            0.            0.            0.            0.            0.            0.            0.            0.           -5.33333347  -17.06666596   51.19999729  -47.99999603   26.13333085   -7.99999891    1.06666652    0.            0.        ]\n",
      " [   0.            0.            0.            0.            0.            0.            0.            0.            0.            0.            0.            0.            0.            0.            0.          -22.9333333    11.19999984    5.33333394   13.86666578  -10.6666661     3.73333309   -0.5333333     0.            0.        ]\n",
      " [   0.            0.            0.            0.            0.            0.            0.            0.            0.            0.            0.            0.            0.            0.            0.            4.26666666  -23.99999998   -0.00000006   24.0000001    -4.80000006    0.53333336   -0.            0.            0.        ]\n",
      " [   0.            0.            0.            0.            0.            0.            0.            0.            0.            0.            0.            0.            0.            0.            0.           -0.53333333    4.8         -24.            0.           24.           -4.8           0.53333333    0.            0.        ]\n",
      " [   0.            0.            0.            0.            0.            0.            0.            0.            0.            0.            0.            0.            0.            0.            0.            0.           -0.53333333    4.8         -24.            0.           24.           -4.8           0.53333333    0.        ]\n",
      " [   0.            0.            0.            0.            0.            0.            0.            0.            0.            0.            0.            0.            0.            0.            0.            0.            0.           -0.53333333    4.8         -24.            0.           24.           -4.8           0.53333333]\n",
      " [   0.            0.            0.            0.            0.            0.            0.            0.            0.            0.            0.            0.            0.            0.            0.            0.            0.            0.5333333    -4.26666653   15.99999971  -42.66666629   18.66666632   12.80000016   -1.06666671]\n",
      " [   0.            0.            0.            0.            0.            0.            0.            0.            0.            0.            0.            0.            0.            0.            0.            0.            0.           -1.06666648    7.99999927  -26.6666652    53.33333146  -79.99999803   41.06666572    5.33333362]\n",
      " [   0.            0.            0.            0.            0.            0.            0.            0.            0.            0.            0.            0.            0.            0.            0.            0.            0.            5.33333247  -38.39999661  119.99999307 -213.33332475  239.99999078 -191.99999561   78.39999866]]\n",
      "x:\n",
      "[0.      0.0625  0.125   0.1875  0.25    0.3125  0.375   0.4375  0.5     0.53125 0.5625  0.59375 0.625   0.65625 0.6875  0.71875 0.75    0.78125 0.8125  0.84375 0.875   0.90625 0.9375  0.96875 1.     ]\n",
      "\n",
      "Polynomial Function:\n",
      "<p(x)> =\n",
      "         7          6       5        4          3       2\n",
      "0.1429 x + 0.1667 x + 0.2 x + 0.25 x + 0.3333 x + 0.5 x + 1 x\n",
      "<p(x)> =\n",
      " [1.03261634 1.10388581 1.18572402 1.28064772 1.39196901 1.52403855 1.68253168 1.87477736 2.04504535 2.17521503 2.31988534 2.4808851  2.66024709 2.86022433 3.08330708 3.33224053 3.61004305 3.92002527 4.26580971 4.65135112 5.0809575  5.55931178 6.09149417 6.68300517]\n",
      "\n",
      "Polynomial Derivative:\n",
      "<dp(x)/dx> =\n",
      "    6     5     4     3     2\n",
      "1 x + 1 x + 1 x + 1 x + 1 x + 1 x\n",
      "Theoretical:\n",
      "<dp(x)/dx> =\n",
      " [ 1.0666666   1.21903896  1.40644169  1.639884    1.93392277  2.30734921  2.78387547  3.39282131  3.95139697  4.38820454  4.8804405   5.43437693  6.0567973   6.75501797  7.53690961  8.41091868  9.38608888 10.47208259 11.67920235 13.01841232 14.50135973 16.14039633 17.94859985 19.93979546]\n",
      "Actual:\n",
      "<dp(x)/dx> =\n",
      " [ 1.0666666   1.21903896  1.40644169  1.639884    1.93392277  2.30734921  2.78387547  3.39282131  3.95139697  4.38820454  4.8804405   5.43437693  6.0567973   6.75501797  7.53690961  3.4006603  10.4619916  10.33931812 11.67920235 13.01841232 14.50135973 16.14039613 17.94860185 19.93978451]\n",
      "Difference Between Actual and Theoretical:\n",
      "[-0.          0.         -0.          0.          0.         -0.          0.         -0.         -0.          0.          0.         -0.         -0.         -0.          0.          5.01025838 -1.07590272  0.13276446 -0.         -0.          0.          0.0000002  -0.000002    0.00001095]\n",
      "\n"
     ]
    }
   ],
   "source": [
    "TT.DerivPolyTest(omega, deriv, order, deriv = 0, matInd = matInd)"
   ]
  },
  {
   "cell_type": "code",
   "execution_count": 6,
   "metadata": {},
   "outputs": [
    {
     "name": "stdout",
     "output_type": "stream",
     "text": [
      "[0.14285714 0.16666667 0.2        0.25       0.33333333 0.5        1.         1.        ]\n",
      "        7          6       5        4          3       2\n",
      "0.1429 x + 0.1667 x + 0.2 x + 0.25 x + 0.3333 x + 0.5 x + 1 x\n",
      "\n"
     ]
    }
   ],
   "source": [
    "coefs = 1. / (np.arange(order + 1) + 1)\n",
    "coefs = np.append(1, coefs)[::-1]\n",
    "P = np.poly1d(coefs) - 1\n",
    "print(coefs)\n",
    "print(P)\n",
    "print('')"
   ]
  },
  {
   "cell_type": "code",
   "execution_count": 7,
   "metadata": {},
   "outputs": [
    {
     "name": "stdout",
     "output_type": "stream",
     "text": [
      "[0 1 2 3 4 5 6 7 8 9]\n",
      "[0 1 2 3 4 5 6 7 8]\n",
      "\n"
     ]
    }
   ],
   "source": [
    "A = np.arange(10)\n",
    "print(A)\n",
    "print(A[:-1])\n",
    "print('')"
   ]
  },
  {
   "cell_type": "code",
   "execution_count": null,
   "metadata": {},
   "outputs": [],
   "source": []
  },
  {
   "cell_type": "code",
   "execution_count": null,
   "metadata": {},
   "outputs": [],
   "source": []
  }
 ],
 "metadata": {
  "kernelspec": {
   "display_name": "Python 3",
   "language": "python",
   "name": "python3"
  },
  "language_info": {
   "codemirror_mode": {
    "name": "ipython",
    "version": 3
   },
   "file_extension": ".py",
   "mimetype": "text/x-python",
   "name": "python",
   "nbconvert_exporter": "python",
   "pygments_lexer": "ipython3",
   "version": "3.7.3"
  }
 },
 "nbformat": 4,
 "nbformat_minor": 2
}
