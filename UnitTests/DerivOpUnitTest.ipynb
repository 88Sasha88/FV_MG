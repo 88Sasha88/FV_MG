{
 "cells": [
  {
   "cell_type": "markdown",
   "metadata": {},
   "source": [
    "This tests the accuracy of a differential operator on a polynomial of the given order. If the operator is working to said order, then the `Actual` and `Theoretical` outputs should match (except possibly at the edges.)"
   ]
  },
  {
   "cell_type": "code",
   "execution_count": 1,
   "metadata": {
    "scrolled": true
   },
   "outputs": [
    {
     "data": {
      "text/html": [
       "<style>pre { white-space: pre !important; }</style>"
      ],
      "text/plain": [
       "<IPython.core.display.HTML object>"
      ]
     },
     "metadata": {},
     "output_type": "display_data"
    },
    {
     "data": {
      "text/html": [
       "<style>pre { white-space: pre !important; }</style>"
      ],
      "text/plain": [
       "<IPython.core.display.HTML object>"
      ]
     },
     "metadata": {},
     "output_type": "display_data"
    }
   ],
   "source": [
    "import os.path\n",
    "from scipy import *\n",
    "import numpy as np\n",
    "from numpy import *\n",
    "from numpy import linalg as LA\n",
    "from scipy import linalg as LA2\n",
    "import sympy as sympy\n",
    "import sys as sys\n",
    "import time\n",
    "import matplotlib.pyplot as plt\n",
    "import itertools as it\n",
    "from IPython.core.display import HTML\n",
    "\n",
    "sys.path.append('/Users/sashacurcic/SashasDirectory/ANAG/FV_MG/')\n",
    "from Modules import BasicTools as BT\n",
    "from Modules import WaveTools as WT\n",
    "from Modules import PlotTools as PT\n",
    "from Modules import FFTTools as FFTT\n",
    "from Modules import OperatorTools as OT\n",
    "from Modules import GridTransferTools as GTT\n",
    "from Modules import TestTools as TT\n",
    "from Modules import SolverTools as ST\n",
    "\n",
    "display(HTML(\"<style>pre { white-space: pre !important; }</style>\"))\n",
    "np.set_printoptions( linewidth = 10000, threshold = 100000)"
   ]
  },
  {
   "cell_type": "markdown",
   "metadata": {},
   "source": [
    "This cell takes all of the input parameters."
   ]
  },
  {
   "cell_type": "code",
   "execution_count": 2,
   "metadata": {},
   "outputs": [],
   "source": [
    "# Grid parameters.\n",
    "nh_min = 16\n",
    "refRatio = 2\n",
    "cfInter = int(nh_min / refRatio)\n",
    "\n",
    "# Time integration parameters.\n",
    "deriv = 'UD'\n",
    "# RK = 4\n",
    "order = 7\n",
    "matInd = nh_min - 2"
   ]
  },
  {
   "cell_type": "markdown",
   "metadata": {},
   "source": [
    "This cell contains the relevant switch information."
   ]
  },
  {
   "cell_type": "code",
   "execution_count": 3,
   "metadata": {},
   "outputs": [],
   "source": [
    "# TimeIntFunc, DiffFunc = TT.SolverSwitch(deriv, RK)"
   ]
  },
  {
   "cell_type": "markdown",
   "metadata": {},
   "source": [
    "This cell instantiates the Grid and the Physics objects."
   ]
  },
  {
   "cell_type": "code",
   "execution_count": 4,
   "metadata": {},
   "outputs": [],
   "source": [
    "omega = BT.Grid(nh_min)\n",
    "finehalf = list(np.arange(int(nh_min / refRatio)) + int(nh_min / refRatio))\n",
    "omega.AddPatch(refRatio, finehalf)"
   ]
  },
  {
   "cell_type": "markdown",
   "metadata": {},
   "source": [
    "This cell runs a test on the derivative operator on a cell-averaged polynomial which matches the given order.  \n",
    "$P (x) = \\sum_{k = 0}^{o} x^{k}$  \n",
    "$<P (x)> = \\frac{1}{\\Delta x} \\int_{x}^{x + \\Delta x} P (x')$d$x'$  \n",
    "$<P (x)> = \\frac{1}{\\Delta x} \\sum_{k = 1}^{o} \\frac{1}{k} [(x + \\Delta x)^{k} - x^{k}]$  \n",
    "$<\\frac{d P (x)}{d x}> = \\sum_{k = 1}^{o} [(x + \\Delta x)^{k} - x^{k}]$  "
   ]
  },
  {
   "cell_type": "code",
   "execution_count": 5,
   "metadata": {},
   "outputs": [
    {
     "name": "stdout",
     "output_type": "stream",
     "text": [
      "Bounds are: [0.6875  0.71875 0.75    0.78125 0.8125  0.84375 0.875   0.90625 0.9375 ] <= 0.6875\n",
      "centCellInd is 15\n",
      "bounds is [0.59375 0.625  ] (This isn't right yet.)\n",
      "polyInterp is [  119.99999677  -629.99997713  1511.99993092 -2099.99988449  1799.99988389  -944.99993008   279.99997662   -35.99999671]\n",
      "Bounds are: [0.6875  0.71875 0.75    0.78125 0.8125  0.84375 0.875   0.90625 0.9375 ] <= 0.6875\n",
      "centCellInd is 16\n",
      "bounds is [0.625   0.65625] (This isn't right yet.)\n",
      "polyInterp is [  35.99999916 -167.99999407  377.99998212 -503.99997008  419.9999702  -215.99998194   62.99999398   -7.9999992 ]\n",
      "Bounds are: [0.6875  0.71875 0.75    0.78125 0.8125  0.84375 0.875   0.90625 0.9375 ] <= 0.6875\n",
      "centCellInd is 17\n",
      "bounds is [0.65625 0.6875 ] (This isn't right yet.)\n",
      "polyInterp is [  7.99999984 -27.99999884  55.99999666 -69.99999464  55.99999452 -27.9999966    7.99999884  -0.99999991]\n",
      "Bounds are: [0.6875  0.71875 0.75    0.78125 0.8125  0.84375 0.875   0.90625 0.9375 ] <= 0.6875\n",
      "centCellInd is 18\n",
      "bounds is [0.6875  0.71875] (This isn't right yet.)\n",
      "polyInterp is [ 9.99999948e-01  3.57627869e-07 -9.53674316e-07  1.66893005e-06 -1.19209290e-06  7.74860382e-07 -2.98023224e-07 -3.35276127e-08]\n",
      "This case.\n",
      "Bounds are: [0.     0.0625 0.125  0.1875 0.25   0.3125 0.375  0.4375 0.5   ] <= 0.96875\n",
      "centCellInd is 0\n",
      "bounds is [-0.25   -0.1875] (This isn't right yet.)\n",
      "polyInterp is [  330. -1848.  4620. -6600.  5775. -3080.   924.  -120.]\n",
      "This case.\n",
      "Bounds are: [0.     0.0625 0.125  0.1875 0.25   0.3125 0.375  0.4375 0.5   ] <= 0.96875\n",
      "centCellInd is 1\n",
      "bounds is [-0.1875 -0.125 ] (This isn't right yet.)\n",
      "polyInterp is [  120.  -630.  1512. -2100.  1800.  -945.   280.   -36.]\n",
      "This case.\n",
      "Bounds are: [0.     0.0625 0.125  0.1875 0.25   0.3125 0.375  0.4375 0.5   ] <= 0.96875\n",
      "centCellInd is 2\n",
      "bounds is [-0.125  -0.0625] (This isn't right yet.)\n",
      "polyInterp is [  36. -168.  378. -504.  420. -216.   63.   -8.]\n",
      "This case.\n",
      "Bounds are: [0.     0.0625 0.125  0.1875 0.25   0.3125 0.375  0.4375 0.5   ] <= 0.96875\n",
      "centCellInd is 3\n",
      "bounds is [-0.0625  0.    ] (This isn't right yet.)\n",
      "polyInterp is [  8. -28.  56. -70.  56. -28.   8.  -1.]\n",
      "This case.\n",
      "Bounds are: [0.     0.0625 0.125  0.1875 0.25   0.3125 0.375  0.4375 0.5   ] <= 0.96875\n",
      "centCellInd is 4\n",
      "bounds is [0.     0.0625] (This isn't right yet.)\n",
      "polyInterp is [ 1.00000000e+00  4.44089210e-15 -7.10542736e-15  8.88178420e-15 -3.55271368e-15  4.44089210e-15 -1.99840144e-15  4.99600361e-16]\n",
      "Bounds are: [0.6875  0.71875 0.75    0.78125 0.8125  0.84375 0.875   0.90625 0.9375 ] <= 0.6875\n",
      "centCellInd is 15\n",
      "bounds is [0.625   0.65625] (This isn't right yet.)\n",
      "polyInterp is [  35.99999916 -167.99999407  377.99998212 -503.99997008  419.9999702  -215.99998194   62.99999398   -7.9999992 ]\n",
      "Bounds are: [0.6875  0.71875 0.75    0.78125 0.8125  0.84375 0.875   0.90625 0.9375 ] <= 0.6875\n",
      "centCellInd is 16\n",
      "bounds is [0.65625 0.6875 ] (This isn't right yet.)\n",
      "polyInterp is [  7.99999984 -27.99999884  55.99999666 -69.99999464  55.99999452 -27.9999966    7.99999884  -0.99999991]\n",
      "Bounds are: [0.6875  0.71875 0.75    0.78125 0.8125  0.84375 0.875   0.90625 0.9375 ] <= 0.6875\n",
      "centCellInd is 17\n",
      "bounds is [0.6875  0.71875] (This isn't right yet.)\n",
      "polyInterp is [ 9.99999948e-01  3.57627869e-07 -9.53674316e-07  1.66893005e-06 -1.19209290e-06  7.74860382e-07 -2.98023224e-07 -3.35276127e-08]\n",
      "This case.\n",
      "Bounds are: [0.     0.0625 0.125  0.1875 0.25   0.3125 0.375  0.4375 0.5   ] <= 0.96875\n",
      "centCellInd is 0\n",
      "bounds is [-0.1875 -0.125 ] (This isn't right yet.)\n",
      "polyInterp is [  120.  -630.  1512. -2100.  1800.  -945.   280.   -36.]\n",
      "This case.\n",
      "Bounds are: [0.     0.0625 0.125  0.1875 0.25   0.3125 0.375  0.4375 0.5   ] <= 0.96875\n",
      "centCellInd is 1\n",
      "bounds is [-0.125  -0.0625] (This isn't right yet.)\n",
      "polyInterp is [  36. -168.  378. -504.  420. -216.   63.   -8.]\n",
      "This case.\n",
      "Bounds are: [0.     0.0625 0.125  0.1875 0.25   0.3125 0.375  0.4375 0.5   ] <= 0.96875\n",
      "centCellInd is 2\n",
      "bounds is [-0.0625  0.    ] (This isn't right yet.)\n",
      "polyInterp is [  8. -28.  56. -70.  56. -28.   8.  -1.]\n",
      "This case.\n",
      "Bounds are: [0.     0.0625 0.125  0.1875 0.25   0.3125 0.375  0.4375 0.5   ] <= 0.96875\n",
      "centCellInd is 3\n",
      "bounds is [0.     0.0625] (This isn't right yet.)\n",
      "polyInterp is [ 1.00000000e+00  4.44089210e-15 -7.10542736e-15  8.88178420e-15 -3.55271368e-15  4.44089210e-15 -1.99840144e-15  4.99600361e-16]\n",
      "Bounds are: [0.6875  0.71875 0.75    0.78125 0.8125  0.84375 0.875   0.90625 0.9375 ] <= 0.6875\n",
      "centCellInd is 15\n",
      "bounds is [0.65625 0.6875 ] (This isn't right yet.)\n",
      "polyInterp is [  7.99999984 -27.99999884  55.99999666 -69.99999464  55.99999452 -27.9999966    7.99999884  -0.99999991]\n",
      "Bounds are: [0.6875  0.71875 0.75    0.78125 0.8125  0.84375 0.875   0.90625 0.9375 ] <= 0.6875\n",
      "centCellInd is 16\n",
      "bounds is [0.6875  0.71875] (This isn't right yet.)\n",
      "polyInterp is [ 9.99999948e-01  3.57627869e-07 -9.53674316e-07  1.66893005e-06 -1.19209290e-06  7.74860382e-07 -2.98023224e-07 -3.35276127e-08]\n",
      "This case.\n",
      "Bounds are: [0.     0.0625 0.125  0.1875 0.25   0.3125 0.375  0.4375 0.5   ] <= 0.96875\n",
      "centCellInd is 0\n",
      "bounds is [-0.125  -0.0625] (This isn't right yet.)\n",
      "polyInterp is [  36. -168.  378. -504.  420. -216.   63.   -8.]\n",
      "This case.\n",
      "Bounds are: [0.     0.0625 0.125  0.1875 0.25   0.3125 0.375  0.4375 0.5   ] <= 0.96875\n",
      "centCellInd is 1\n",
      "bounds is [-0.0625  0.    ] (This isn't right yet.)\n",
      "polyInterp is [  8. -28.  56. -70.  56. -28.   8.  -1.]\n",
      "This case.\n",
      "Bounds are: [0.     0.0625 0.125  0.1875 0.25   0.3125 0.375  0.4375 0.5   ] <= 0.96875\n",
      "centCellInd is 2\n",
      "bounds is [0.     0.0625] (This isn't right yet.)\n",
      "polyInterp is [ 1.00000000e+00  4.44089210e-15 -7.10542736e-15  8.88178420e-15 -3.55271368e-15  4.44089210e-15 -1.99840144e-15  4.99600361e-16]\n",
      "Bounds are: [0.6875  0.71875 0.75    0.78125 0.8125  0.84375 0.875   0.90625 0.9375 ] <= 0.6875\n",
      "centCellInd is 15\n",
      "bounds is [0.6875  0.71875] (This isn't right yet.)\n",
      "polyInterp is [ 9.99999948e-01  3.57627869e-07 -9.53674316e-07  1.66893005e-06 -1.19209290e-06  7.74860382e-07 -2.98023224e-07 -3.35276127e-08]\n",
      "This case.\n",
      "Bounds are: [0.     0.0625 0.125  0.1875 0.25   0.3125 0.375  0.4375 0.5   ] <= 0.96875\n",
      "centCellInd is 0\n",
      "bounds is [-0.0625  0.    ] (This isn't right yet.)\n",
      "polyInterp is [  8. -28.  56. -70.  56. -28.   8.  -1.]\n",
      "This case.\n",
      "Bounds are: [0.     0.0625 0.125  0.1875 0.25   0.3125 0.375  0.4375 0.5   ] <= 0.96875\n",
      "centCellInd is 1\n",
      "bounds is [0.     0.0625] (This isn't right yet.)\n",
      "polyInterp is [ 1.00000000e+00  4.44089210e-15 -7.10542736e-15  8.88178420e-15 -3.55271368e-15  4.44089210e-15 -1.99840144e-15  4.99600361e-16]\n",
      "That case.\n",
      "Bounds are: [0.71875 0.75    0.78125 0.8125  0.84375 0.875   0.90625 0.9375  0.96875] <= 0.96875\n",
      "centCellInd is 23\n",
      "bounds is [1.      1.03125] (This isn't right yet.)\n",
      "polyInterp is [  -7.99999973   62.9999994  -215.99999952  419.99999905 -503.99999905  377.99999809 -167.99999952   35.99999975]\n",
      "That case.\n",
      "Bounds are: [0.71875 0.75    0.78125 0.8125  0.84375 0.875   0.90625 0.9375  0.96875] <= 0.96875\n",
      "centCellInd is 22\n",
      "bounds is [1.      1.03125] (This isn't right yet.)\n",
      "polyInterp is [  -7.99999973   62.9999994  -215.99999952  419.99999905 -503.99999905  377.99999809 -167.99999952   35.99999975]\n",
      "That case.\n",
      "Bounds are: [0.71875 0.75    0.78125 0.8125  0.84375 0.875   0.90625 0.9375  0.96875] <= 0.96875\n",
      "centCellInd is 23\n",
      "bounds is [1.03125 1.0625 ] (This isn't right yet.)\n",
      "polyInterp is [  -35.9999983    279.99998963  -944.99997044  1799.99995136 -2099.99995041  1511.99997091  -629.99999034   119.99999844]\n",
      "That case.\n",
      "Bounds are: [0.71875 0.75    0.78125 0.8125  0.84375 0.875   0.90625 0.9375  0.96875] <= 0.96875\n",
      "centCellInd is 21\n",
      "bounds is [1.      1.03125] (This isn't right yet.)\n",
      "polyInterp is [  -7.99999973   62.9999994  -215.99999952  419.99999905 -503.99999905  377.99999809 -167.99999952   35.99999975]\n",
      "That case.\n",
      "Bounds are: [0.71875 0.75    0.78125 0.8125  0.84375 0.875   0.90625 0.9375  0.96875] <= 0.96875\n",
      "centCellInd is 22\n",
      "bounds is [1.03125 1.0625 ] (This isn't right yet.)\n",
      "polyInterp is [  -35.9999983    279.99998963  -944.99997044  1799.99995136 -2099.99995041  1511.99997091  -629.99999034   119.99999844]\n",
      "That case.\n",
      "Bounds are: [0.71875 0.75    0.78125 0.8125  0.84375 0.875   0.90625 0.9375  0.96875] <= 0.96875\n",
      "centCellInd is 23\n",
      "bounds is [1.0625  1.09375] (This isn't right yet.)\n",
      "polyInterp is [ -119.99999425   923.99996138 -3079.99988651  5774.99981308 -6599.99981403  4619.99988937 -1847.99996364   329.99999471]\n",
      "[[  -41.48571429   112.          -168.           186.66666667  -140.            67.2          -18.66666667     2.28571429     0.             0.             0.             0.             0.             0.             0.             0.             0.             0.             0.             0.             0.             0.             0.             0.        ]\n",
      " [   -2.28571429   -23.2           48.           -40.            26.66666667   -12.             3.2           -0.38095238     0.             0.             0.             0.             0.             0.             0.             0.             0.             0.             0.             0.             0.             0.             0.             0.        ]\n",
      " [    0.38095238    -5.33333333   -12.53333333    26.66666667   -13.33333333     5.33333333    -1.33333333     0.15238095     0.             0.             0.             0.             0.             0.             0.             0.             0.             0.             0.             0.             0.             0.             0.             0.        ]\n",
      " [   -0.15238095     1.6           -9.6           -4.            16.            -4.8            1.06666667    -0.11428571     0.             0.             0.             0.             0.             0.             0.             0.             0.             0.             0.             0.             0.             0.             0.             0.        ]\n",
      " [    0.11428571    -1.06666667     4.8          -16.             4.             9.6           -1.6            0.15238095     0.             0.             0.             0.             0.             0.             0.             0.             0.             0.             0.             0.             0.             0.             0.             0.        ]\n",
      " [    0.             0.11428571    -1.06666667     4.8          -16.             4.             9.6           -1.6            0.07619048     0.07619048     0.             0.             0.             0.             0.             0.             0.             0.             0.             0.             0.             0.             0.             0.        ]\n",
      " [    0.             0.             0.11428571    -1.06666667     4.8          -16.             4.             9.6           -0.8           -0.8            0.07619048     0.07619048     0.             0.             0.             0.             0.             0.             0.             0.             0.             0.             0.             0.        ]\n",
      " [    0.             0.             0.             0.11428571    -1.06666667     4.8          -16.             4.             4.8            4.8           -0.8           -0.8            0.07619048     0.07619048     0.             0.             0.             0.             0.             0.             0.             0.             0.             0.        ]\n",
      " [    0.             0.             0.             0.00037463    -0.00366578    -0.01474081     0.43049728    -5.28735986   -32.72701326    54.05163031   -21.46086969     5.70378788    -0.69264069     0.             0.             0.             0.             0.             0.             0.             0.             0.             0.             0.        ]\n",
      " [    0.             0.             0.             0.            -0.00092593     0.02497595    -0.26669072     2.20791246   -19.8918771     -2.45272367    24.688943      -4.82216811     0.51255411     0.             0.             0.             0.             0.             0.             0.             0.             0.             0.             0.        ]\n",
      " [    0.             0.             0.             0.             0.00018038    -0.00566378     0.07568543    -0.77669553     7.03248557   -29.7421176      6.79954906    19.55799062    -3.24617605     0.3047619      0.             0.             0.             0.             0.             0.             0.             0.             0.             0.        ]\n",
      " [    0.             0.             0.             0.             0.             0.00037106    -0.00643166     0.11601732    -1.87532468     9.36821274   -31.8746444      7.96209029    19.20494743    -3.2            0.3047619      0.             0.             0.             0.             0.             0.             0.             0.             0.        ]\n",
      " [    0.             0.             0.             0.             0.             0.             0.             0.             0.22857143    -2.13333333     9.6          -32.             8.            19.2           -3.2            0.3047619      0.             0.             0.             0.             0.             0.             0.             0.        ]\n",
      " [    0.             0.             0.             0.             0.             0.             0.             0.             0.             0.22857143    -2.13333333     9.6          -32.             8.            19.2           -3.2            0.3047619      0.             0.             0.             0.             0.             0.             0.        ]\n",
      " [    0.             0.             0.             0.             0.             0.             0.             0.             0.             0.             0.22857143    -2.13333333     9.6          -32.             8.            19.2           -3.2            0.3047619      0.             0.             0.             0.             0.             0.        ]\n",
      " [    0.             0.             0.             0.             0.             0.             0.             0.             0.             0.             0.             0.             0.             0.             0.             3.42857265   -35.20000771    73.60002083   -76.49527743    53.02859397   -24.00001473     6.40000588    -0.76190382     0.        ]\n",
      " [    0.             0.             0.             0.             0.             0.             0.             0.             0.             0.             0.             0.             0.             0.             0.           -31.2380956     29.33333564   -13.86667279    30.93334475   -23.16191132    10.36190908    -2.66666842     0.30476158     0.        ]\n",
      " [    0.             0.             0.             0.             0.             0.             0.             0.             0.             0.             0.             0.             0.             0.             0.             9.29523817   -38.4000005     20.80000127     3.19999767     9.60000129    -6.09523897     1.8285718     -0.22857134     0.        ]\n",
      " [    0.             0.             0.             0.             0.             0.             0.             0.             0.             0.             0.             0.             0.             0.             0.            -1.90476192     9.60000008   -32.00000022     8.00000038    19.19999973    -3.19999982     0.30476184    -0.00000001     0.        ]\n",
      " [    0.             0.             0.             0.             0.             0.             0.             0.             0.             0.             0.             0.             0.             0.             0.             0.22857143    -2.13333333     9.6          -32.             8.            19.2           -3.2            0.3047619      0.        ]\n",
      " [    0.             0.             0.             0.             0.             0.             0.             0.             0.             0.             0.             0.             0.             0.             0.             0.             0.22857143    -2.13333333     9.6          -32.             8.            19.2           -3.2            0.3047619 ]\n",
      " [    0.             0.             0.             0.             0.             0.             0.             0.             0.             0.             0.             0.             0.             0.             0.             0.            -2.43809516    19.42857125   -67.96190462   137.59999971  -185.59999971   123.19999942   -31.99999985     7.77142849]\n",
      " [    0.             0.             0.             0.             0.             0.             0.             0.             0.             0.             0.             0.             0.             0.             0.             0.            14.62857109  -116.26666792   403.42857891  -797.56191653   982.40001206  -780.80000276   353.60000142   -59.42857109]\n",
      " [    0.             0.             0.             0.             0.             0.             0.             0.             0.             0.             0.             0.             0.             0.             0.             0.           -74.9714271    595.20000997 -2061.86671753  4064.22865179 -4970.36198847  3836.80002274 -1804.80001066   415.7714271 ]]\n",
      "x:\n",
      "[0.      0.0625  0.125   0.1875  0.25    0.3125  0.375   0.4375  0.5     0.53125 0.5625  0.59375 0.625   0.65625 0.6875  0.71875 0.75    0.78125 0.8125  0.84375 0.875   0.90625 0.9375  0.96875 1.     ]\n",
      "\n",
      "Polynomial Function:\n",
      "<p(x)> =\n",
      "        8          7          6       5        4          3       2\n",
      "0.125 x + 0.1429 x + 0.1667 x + 0.2 x + 0.25 x + 0.3333 x + 0.5 x + 1 x\n",
      "<p(x)> =\n",
      " [1.03261634 1.10388593 1.18572696 1.28067518 1.39212039 1.52463879 1.68443399 1.87990541 2.05479801 2.18992776 2.3415808  2.51223152 2.70471359 2.92226283 3.16856352 3.44779848 3.7647029  4.12462219 4.53357394 4.99831411 5.52640769 6.12630383 6.80741579 7.58020565]\n",
      "\n",
      "Polynomial Derivative:\n",
      "<dp(x)/dx> =\n",
      "    7     6     5     4     3     2\n",
      "1 x + 1 x + 1 x + 1 x + 1 x + 1 x + 1 x\n",
      "Theoretical:\n",
      "<dp(x)/dx> =\n",
      " [ 1.06666666  1.21904653  1.40656441  1.6407302   1.93760282  2.31937808  2.81627697  3.46873432  4.08355464  4.57622121  5.1427491   5.79398689  6.54209882  7.40067536  8.3848486   9.51141226 10.79894639 12.26794683 13.94095929 15.84271817 18.00029003 20.44322182 23.20369375 26.31667686]\n",
      "Actual:\n",
      "<dp(x)/dx> =\n",
      " [ 1.06666666  1.21904653  1.40656441  1.6407302   1.93760282  2.31937808  2.81627697  3.46873432  4.08355464  4.57622121  5.1427491   5.79398689  6.54209882  7.40067536  8.3848486   2.52022762 13.00389814 11.72854043 14.00478467 15.84271817 18.00029003 20.745598   20.37082855 42.16103097]\n",
      "Difference Between Actual and Theoretical:\n",
      "[ -0.           0.          -0.           0.           0.          -0.           0.           0.          -0.           0.           0.          -0.          -0.          -0.           0.           6.99118463  -2.20495175   0.5394064   -0.06382538  -0.           0.          -0.30237618   2.8328652  -15.84435411]\n",
      "\n"
     ]
    }
   ],
   "source": [
    "TT.DerivPolyTest(omega, deriv, order, deriv = 0, matInd = matInd)"
   ]
  },
  {
   "cell_type": "code",
   "execution_count": 6,
   "metadata": {},
   "outputs": [
    {
     "name": "stdout",
     "output_type": "stream",
     "text": [
      "[0.125      0.14285714 0.16666667 0.2        0.25       0.33333333 0.5        1.         1.        ]\n",
      "       8          7          6       5        4          3       2\n",
      "0.125 x + 0.1429 x + 0.1667 x + 0.2 x + 0.25 x + 0.3333 x + 0.5 x + 1 x\n",
      "\n"
     ]
    }
   ],
   "source": [
    "coefs = 1. / (np.arange(order + 1) + 1)\n",
    "coefs = np.append(1, coefs)[::-1]\n",
    "P = np.poly1d(coefs) - 1\n",
    "print(coefs)\n",
    "print(P)\n",
    "print('')"
   ]
  },
  {
   "cell_type": "code",
   "execution_count": 7,
   "metadata": {},
   "outputs": [
    {
     "name": "stdout",
     "output_type": "stream",
     "text": [
      "[0 1 2 3 4 5 6 7 8 9]\n",
      "[0 1 2 3 4 5 6 7 8]\n",
      "\n"
     ]
    }
   ],
   "source": [
    "A = np.arange(10)\n",
    "print(A)\n",
    "print(A[:-1])\n",
    "print('')"
   ]
  },
  {
   "cell_type": "code",
   "execution_count": null,
   "metadata": {},
   "outputs": [],
   "source": []
  },
  {
   "cell_type": "code",
   "execution_count": null,
   "metadata": {},
   "outputs": [],
   "source": []
  }
 ],
 "metadata": {
  "kernelspec": {
   "display_name": "Python 3",
   "language": "python",
   "name": "python3"
  },
  "language_info": {
   "codemirror_mode": {
    "name": "ipython",
    "version": 3
   },
   "file_extension": ".py",
   "mimetype": "text/x-python",
   "name": "python",
   "nbconvert_exporter": "python",
   "pygments_lexer": "ipython3",
   "version": "3.7.3"
  }
 },
 "nbformat": 4,
 "nbformat_minor": 2
}
