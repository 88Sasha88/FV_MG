{
 "cells": [
  {
   "cell_type": "markdown",
   "metadata": {},
   "source": [
    "This tests the accuracy of a differential operator on a polynomial of the given order. If the operator is working to said order, then the `Actual` and `Theoretical` outputs should match (except possibly at the edges.)"
   ]
  },
  {
   "cell_type": "code",
   "execution_count": 1,
   "metadata": {
    "scrolled": true
   },
   "outputs": [
    {
     "data": {
      "text/html": [
       "<style>pre { white-space: pre !important; }</style>"
      ],
      "text/plain": [
       "<IPython.core.display.HTML object>"
      ]
     },
     "metadata": {},
     "output_type": "display_data"
    },
    {
     "data": {
      "text/html": [
       "<style>pre { white-space: pre !important; }</style>"
      ],
      "text/plain": [
       "<IPython.core.display.HTML object>"
      ]
     },
     "metadata": {},
     "output_type": "display_data"
    }
   ],
   "source": [
    "import os.path\n",
    "from scipy import *\n",
    "import numpy as np\n",
    "from numpy import *\n",
    "from numpy import linalg as LA\n",
    "from scipy import linalg as LA2\n",
    "import sympy as sympy\n",
    "import sys as sys\n",
    "import time\n",
    "import matplotlib.pyplot as plt\n",
    "import itertools as it\n",
    "from IPython.core.display import HTML\n",
    "\n",
    "sys.path.append('/Users/sashacurcic/SashasDirectory/ANAG/FV_MG/')\n",
    "from Modules import BasicTools as BT\n",
    "from Modules import WaveTools as WT\n",
    "from Modules import PlotTools as PT\n",
    "from Modules import FFTTools as FFTT\n",
    "from Modules import OperatorTools as OT\n",
    "from Modules import GridTransferTools as GTT\n",
    "from Modules import TestTools as TT\n",
    "from Modules import SolverTools as ST\n",
    "\n",
    "display(HTML(\"<style>pre { white-space: pre !important; }</style>\"))\n",
    "np.set_printoptions( linewidth = 10000, threshold = 100000)"
   ]
  },
  {
   "cell_type": "markdown",
   "metadata": {},
   "source": [
    "This cell takes all of the input parameters."
   ]
  },
  {
   "cell_type": "code",
   "execution_count": 2,
   "metadata": {},
   "outputs": [],
   "source": [
    "# Grid parameters.\n",
    "nh_min = 16\n",
    "refRatio = 2\n",
    "cfInter = int(nh_min / refRatio)\n",
    "\n",
    "L = 1\n",
    "locs = [0.5]\n",
    "epsilons = [1, 0.5] # [1, 1]\n",
    "mus = [1, 0.5]\n",
    "\n",
    "# Time integration parameters.\n",
    "deriv = 'UD'\n",
    "# RK = 4\n",
    "orders = 5"
   ]
  },
  {
   "cell_type": "markdown",
   "metadata": {},
   "source": [
    "This cell contains the relevant switch information."
   ]
  },
  {
   "cell_type": "code",
   "execution_count": 3,
   "metadata": {},
   "outputs": [],
   "source": [
    "# TimeIntFunc, DiffFunc = TT.SolverSwitch(deriv, RK)"
   ]
  },
  {
   "cell_type": "markdown",
   "metadata": {},
   "source": [
    "This cell instantiates the Grid and the Physics objects."
   ]
  },
  {
   "cell_type": "code",
   "execution_count": 4,
   "metadata": {},
   "outputs": [],
   "source": [
    "omega = BT.Grid(nh_min)\n",
    "finepart = list(np.arange(int(nh_min / 4), int(3 * nh_min / 4)))\n",
    "omega.AddPatch(refRatio, finepart)\n",
    "degFreed = omega.degFreed\n",
    "\n",
    "\n",
    "physics = BT.PhysProps(omega, epsilons, mus, locs, L)"
   ]
  },
  {
   "cell_type": "markdown",
   "metadata": {},
   "source": [
    "This cell runs a test on the derivative operator on a cell-averaged polynomial which matches the given order.  \n",
    "$P (x) = \\sum_{k = 0}^{o} x^{k}$  \n",
    "$<P (x)> = \\frac{1}{\\Delta x} \\int_{x}^{x + \\Delta x} P (x')$d$x'$  \n",
    "$<P (x)> = \\frac{1}{\\Delta x} \\sum_{k = 1}^{o} \\frac{1}{k} [(x + \\Delta x)^{k} - x^{k}]$  \n",
    "$<\\frac{d P (x)}{d x}> = \\sum_{k = 1}^{o} [(x + \\Delta x)^{k} - x^{k}]$  "
   ]
  },
  {
   "cell_type": "code",
   "execution_count": 5,
   "metadata": {},
   "outputs": [
    {
     "name": "stdout",
     "output_type": "stream",
     "text": [
      "Order: 1\n",
      "PASS\n",
      "[16.  0.  0.  0.  0.  0.  0.  0.  0.  0.  0.  0.  0.  0.  0.  0.  0.  0.  0.  0.  0.  0.  0.  0.]\n",
      "\n",
      "Order: 3\n",
      "PASS\n",
      "[38.73958333 -7.59375    -0.          0.          0.          0.         -0.          0.          0.         -0.         -0.          0.         -0.         -0.          0.         -0.         -0.          0.         -0.          0.          0.         -0.         -0.         16.85416667]\n",
      "\n",
      "Order: 5\n",
      "PASS\n",
      "[ 59.71186388 -16.29315728   2.44608019   0.           0.          -0.          -0.           0.          -0.           0.           0.          -0.           0.          -0.          -0.           0.          -0.          -0.           0.          -0.           0.          -0.          -4.37048747  38.50570068]\n",
      "\n",
      "Order: 7\n",
      "FAIL\n",
      "[ 79.80822798 -25.08085821   6.0773869   -0.71129335  -0.0023316    0.          -0.           0.          -0.          -0.           0.          -0.          -0.           0.           0.          -0.          -0.          -0.           0.          -0.           0.           1.20681877 -11.13236595  61.83208384]\n",
      "\n",
      "Order: 9\n",
      "FAIL\n",
      "[ 99.18576208 -33.77206575  10.29380603  -2.07235793  -0.02107053   0.00321401  -0.00017245   0.          -0.          -0.           0.           0.           0.          -0.           0.          -0.           0.          -0.           0.00029258  -0.00556281  -0.33471443   3.55857463 -19.23311093  86.17682564]\n",
      "\n"
     ]
    }
   ],
   "source": [
    "for o in range(orders):\n",
    "    order = 2*o + 1\n",
    "    print('Order:', order)\n",
    "    TT.DerivPolyTest(omega, deriv, order, deriv = 0, printOut = False, iterate = True)"
   ]
  },
  {
   "cell_type": "code",
   "execution_count": 6,
   "metadata": {},
   "outputs": [
    {
     "name": "stdout",
     "output_type": "stream",
     "text": [
      "[0.1        0.11111111 0.125      0.14285714 0.16666667 0.2        0.25       0.33333333 0.5        1.         1.        ]\n",
      "     10          9         8          7          6       5        4\n",
      "0.1 x  + 0.1111 x + 0.125 x + 0.1429 x + 0.1667 x + 0.2 x + 0.25 x\n",
      "           3       2\n",
      " + 0.3333 x + 0.5 x + 1 x\n",
      "\n"
     ]
    }
   ],
   "source": [
    "coefs = 1. / (np.arange(order + 1) + 1)\n",
    "coefs = np.append(1, coefs)[::-1]\n",
    "P = np.poly1d(coefs) - 1\n",
    "print(coefs)\n",
    "print(P)\n",
    "print('')"
   ]
  },
  {
   "cell_type": "code",
   "execution_count": 7,
   "metadata": {},
   "outputs": [],
   "source": [
    "def FacePolyTest(omega, physics, diff, orderIn, Ng, coefs = [], printOut = True):\n",
    "    order = orderIn\n",
    "    errorLoc = 'ERROR:\\nTestTools:\\nFacePolyTest:\\n'\n",
    "    degFreed = omega.degFreed\n",
    "    hs = omega.h\n",
    "    \n",
    "    halfDeg = int(degFreed / 2)\n",
    "    \n",
    "    if (coefs == []):\n",
    "        coefs = 1. / (np.arange(order + 1) + 1)\n",
    "        coefs = np.append(1, coefs)[::-1]\n",
    "    else:\n",
    "        errorMess = BT.CheckSize(order, coefs, nName = 'order', matricaName = 'coefs')\n",
    "        if (errorMess != ''):\n",
    "            sys.exit(errorLoc + errorMess)\n",
    "    nh_max = omega.nh_max\n",
    "    waves = WT.MakeWaves(omega)\n",
    "    \n",
    "    x = omega.xNode\n",
    "#     x = np.append(-hs[0], x)\n",
    "#     hs = np.append(hs[0], hs)\n",
    "    P = np.poly1d(coefs) - 1\n",
    "    waveform = (P(x[1:]) - P(x[:-1])) / hs\n",
    "    if (Ng != 0):\n",
    "        leftPiece = np.zeros(Ng, float)\n",
    "        rightPiece = np.full(Ng, waveform[-1])\n",
    "        \n",
    "        wG1, wG2 = OT.GhostCellsJump(omega, physics, waveform, Ng, order)\n",
    "        waveform1 = waveform[:halfDeg]\n",
    "        waveform2 = waveform[halfDeg:]\n",
    "        waveform1 = np.hstack([leftPiece, waveform1, wG1])\n",
    "        waveform2 = np.hstack([wG2, waveform2, rightPiece])\n",
    "        waveform = np.hstack([leftPiece, waveform, rightPiece])\n",
    "    \n",
    "    p = np.poly1d(np.ones(order + 1)) - 1\n",
    "    waveformDeriv = (p(x[1:]) - p(x[:-1])) / hs\n",
    "    \n",
    "    const = -np.eye(degFreed)\n",
    "    faceOp1, faceOp2 = OT.FaceOp(omega, order, diff, 'R', Ng)# DiffFunc(omega, 0, waveform, const, order)\n",
    "    hMat = OT.StepMatrix(omega)\n",
    "    hMat1 = hMat[:halfDeg, :halfDeg]\n",
    "    hMat2 = hMat[halfDeg:, halfDeg:]\n",
    "    np.set_printoptions(suppress = True)\n",
    "    waveFace1 = faceOp1 @ waveform1\n",
    "    waveFace2 = faceOp2 @ waveform2\n",
    "    wavederiv1 = hMat1 @ (waveFace1[1:] - waveFace1[:-1])\n",
    "    wavederiv2 = hMat2 @ (waveFace2[1:] - waveFace2[:-1])\n",
    "    \n",
    "#     print(derivOp)\n",
    "    error1 = np.round(waveformDeriv[:halfDeg] - wavederiv1, 11)\n",
    "    error2 = np.round(waveformDeriv[halfDeg:] - wavederiv2, 11)\n",
    "\n",
    "    print('')\n",
    "    if (printOut):\n",
    "        print('x:')\n",
    "        print(x)\n",
    "        print('')\n",
    "        print('Polynomial Function:')\n",
    "        print('<p(x)> =\\n', P)\n",
    "        print('<p(x)> =\\n', waveform)\n",
    "        print('')\n",
    "        print('Polynomial Derivative:')\n",
    "        print('<dp(x)/dx> =\\n', p)\n",
    "        print('Theoretical:')\n",
    "        print('<dp(x)/dx> =\\n', waveformDeriv)\n",
    "        print('Actual:')\n",
    "        print('<dp(x)/dx> =\\n', wavederiv1)\n",
    "        print(wavederiv2)\n",
    "    print('Difference Between Actual and Theoretical:')\n",
    "    print(error1)\n",
    "    print(error2)\n",
    "    print('')\n",
    "    print('')\n",
    "    return"
   ]
  },
  {
   "cell_type": "code",
   "execution_count": 9,
   "metadata": {},
   "outputs": [
    {
     "name": "stdout",
     "output_type": "stream",
     "text": [
      "\n",
      "\n",
      "x:\n",
      "[0.      0.0625  0.125   0.1875  0.25    0.28125 0.3125  0.34375 0.375   0.40625 0.4375  0.46875 0.5     0.53125 0.5625  0.59375 0.625   0.65625 0.6875  0.71875 0.75    0.8125  0.875   0.9375  1.     ]\n",
      "\n",
      "Polynomial Function:\n",
      "<p(x)> =\n",
      "       4          3       2\n",
      "0.25 x + 0.3333 x + 0.5 x + 1 x\n",
      "<p(x)> =\n",
      " [0.                 1.0326131184895833 1.1037801106770833 1.1849568684895835 1.277608235677083  1.3550694783528652 1.411328633626301  1.4712804158528652 1.5351079305013027 1.6029942830403634 1.675122578938801  1.751675923665367  1.832837422688801  1.9187901814778634 2.0097173055013045 2.1058019002278634 2.207227071126301  2.314175923665367  2.4268315633137973 2.545377095540367  2.6699956258138045 2.869527180989582  3.157491048177082  3.4730428059895857 3.8176472981770786 3.8176472981770786]\n",
      "\n",
      "Polynomial Derivative:\n",
      "<dp(x)/dx> =\n",
      "    3     2\n",
      "1 x + 1 x + 1 x\n",
      "Theoretical:\n",
      "<dp(x)/dx> =\n",
      " [1.06640625   1.21484375   1.38671875   1.58203125   1.7431640625 1.8583984375 1.9794921875 2.1064453125 2.2392578125 2.3779296875 2.5224609375 2.6728515625 2.8291015625 2.9912109375 3.1591796875 3.3330078125 3.5126953125 3.6982421875 3.8896484375 4.0869140625 4.39453125   4.82421875   5.27734375   5.75390625  ]\n",
      "Actual:\n",
      "<dp(x)/dx> =\n",
      " [14.147732204861109  -1.3717990451388893  1.3867187500000036  1.582031249999993   1.7397460937500142  1.8583984374999645  1.979492187500064   2.1064453124999716  2.2392578124999503  2.3779296875000497  2.5224609375000426  2.6717529296872726]\n",
      "[-6.516465928819059   2.99176025390625    3.1591796874998863  3.3330078125000426  3.512695312500014   3.698242187499872   3.8896484375002416  4.086914062499929   4.39624023437495    4.824218750000028   5.277343750000007   3.753255208333229 ]\n",
      "Difference Between Actual and Theoretical:\n",
      "[-13.08132595486   2.58664279514  -0.              0.              0.00341796875   0.             -0.              0.              0.             -0.             -0.              0.00109863281]\n",
      "[ 9.34556749132 -0.00054931641  0.            -0.            -0.             0.            -0.             0.            -0.00170898437 -0.            -0.             2.00065104167]\n",
      "\n",
      "\n"
     ]
    }
   ],
   "source": [
    "order = 3\n",
    "if (order == 1):\n",
    "    Ng = 0\n",
    "else:\n",
    "    Ng = order - 2\n",
    "FacePolyTest(omega, physics, deriv, order, Ng, printOut = True)"
   ]
  },
  {
   "cell_type": "code",
   "execution_count": null,
   "metadata": {},
   "outputs": [],
   "source": []
  },
  {
   "cell_type": "code",
   "execution_count": null,
   "metadata": {},
   "outputs": [],
   "source": []
  }
 ],
 "metadata": {
  "kernelspec": {
   "display_name": "Python 3",
   "language": "python",
   "name": "python3"
  },
  "language_info": {
   "codemirror_mode": {
    "name": "ipython",
    "version": 3
   },
   "file_extension": ".py",
   "mimetype": "text/x-python",
   "name": "python",
   "nbconvert_exporter": "python",
   "pygments_lexer": "ipython3",
   "version": "3.7.3"
  }
 },
 "nbformat": 4,
 "nbformat_minor": 2
}
