{
 "cells": [
  {
   "cell_type": "markdown",
   "metadata": {},
   "source": [
    "This tests the accuracy of a differential operator on a polynomial of the given order. If the operator is working to said order, then the `Actual` and `Theoretical` outputs should match (except possibly at the edges.)"
   ]
  },
  {
   "cell_type": "code",
   "execution_count": 1,
   "metadata": {
    "scrolled": true
   },
   "outputs": [
    {
     "data": {
      "text/html": [
       "<style>pre { white-space: pre !important; }</style>"
      ],
      "text/plain": [
       "<IPython.core.display.HTML object>"
      ]
     },
     "metadata": {},
     "output_type": "display_data"
    },
    {
     "data": {
      "text/html": [
       "<style>pre { white-space: pre !important; }</style>"
      ],
      "text/plain": [
       "<IPython.core.display.HTML object>"
      ]
     },
     "metadata": {},
     "output_type": "display_data"
    }
   ],
   "source": [
    "import os.path\n",
    "from scipy import *\n",
    "import numpy as np\n",
    "from numpy import *\n",
    "from numpy import linalg as LA\n",
    "from scipy import linalg as LA2\n",
    "import sympy as sympy\n",
    "import sys as sys\n",
    "import time\n",
    "import matplotlib.pyplot as plt\n",
    "import itertools as it\n",
    "from IPython.core.display import HTML\n",
    "\n",
    "sys.path.append('/Users/sashacurcic/SashasDirectory/ANAG/FV_MG/')\n",
    "from Modules import BasicTools as BT\n",
    "from Modules import WaveTools as WT\n",
    "from Modules import PlotTools as PT\n",
    "from Modules import FFTTools as FFTT\n",
    "from Modules import OperatorTools as OT\n",
    "from Modules import GridTransferTools as GTT\n",
    "from Modules import TestTools as TT\n",
    "from Modules import SolverTools as ST\n",
    "\n",
    "display(HTML(\"<style>pre { white-space: pre !important; }</style>\"))\n",
    "np.set_printoptions( linewidth = 10000, threshold = 100000)"
   ]
  },
  {
   "cell_type": "markdown",
   "metadata": {},
   "source": [
    "This cell takes all of the input parameters."
   ]
  },
  {
   "cell_type": "code",
   "execution_count": 2,
   "metadata": {},
   "outputs": [],
   "source": [
    "# Grid parameters.\n",
    "nh_min = 16\n",
    "refRatio = 2\n",
    "cfInter = int(nh_min / refRatio)\n",
    "\n",
    "# Time integration parameters.\n",
    "deriv = 'CD'\n",
    "# RK = 4\n",
    "order = 5"
   ]
  },
  {
   "cell_type": "markdown",
   "metadata": {},
   "source": [
    "This cell contains the relevant switch information."
   ]
  },
  {
   "cell_type": "code",
   "execution_count": 3,
   "metadata": {},
   "outputs": [],
   "source": [
    "# TimeIntFunc, DiffFunc = TT.SolverSwitch(deriv, RK)"
   ]
  },
  {
   "cell_type": "markdown",
   "metadata": {},
   "source": [
    "This cell instantiates the Grid and the Physics objects."
   ]
  },
  {
   "cell_type": "code",
   "execution_count": 4,
   "metadata": {},
   "outputs": [],
   "source": [
    "omega = BT.Grid(nh_min)\n",
    "finehalf = list(np.arange(int(nh_min / refRatio)) + int(nh_min / refRatio))\n",
    "omega.AddPatch(refRatio, finehalf)"
   ]
  },
  {
   "cell_type": "markdown",
   "metadata": {},
   "source": [
    "This cell runs a test on the derivative operator on a cell-averaged polynomial which matches the given order.  \n",
    "$P (x) = \\sum_{k = 0}^{o} x^{k}$  \n",
    "$<P (x)> = \\frac{1}{\\Delta x} \\int_{x}^{x + \\Delta x} P (x')$d$x'$  \n",
    "$<P (x)> = \\frac{1}{\\Delta x} \\sum_{k = 1}^{o} \\frac{1}{k} [(x + \\Delta x)^{k} - x^{k}]$  \n",
    "$<\\frac{d P (x)}{d x}> = \\sum_{k = 1}^{o} [(x + \\Delta x)^{k} - x^{k}]$  "
   ]
  },
  {
   "cell_type": "code",
   "execution_count": 8,
   "metadata": {},
   "outputs": [
    {
     "name": "stdout",
     "output_type": "stream",
     "text": [
      "polyCoefs: [[0.16666667 0.         0.         0.         0.         0.        ]\n",
      " [0.         0.2        0.         0.         0.         0.        ]\n",
      " [0.         0.         0.25       0.         0.         0.        ]\n",
      " [0.         0.         0.         0.33333333 0.         0.        ]\n",
      " [0.         0.         0.         0.         0.5        0.        ]\n",
      " [0.         0.         0.         0.         0.         1.        ]]\n",
      "xValsL: [ 22.78125 -15.1875   10.125    -6.75      4.5      -3.     ]\n",
      "xValsR: [ 2. -2.  2. -2.  2. -2.]\n",
      "xVec: [-1.265625  1.0125   -0.84375   0.75     -0.75      1.      ]\n",
      "xVec1: [-3.46354167  2.6375     -2.03125     1.58333333 -1.25        1.        ]\n",
      "bounds: [-4.  -3.  -2.  -1.   0.   0.5  1. ]\n",
      "hInv: (6, 6)\n",
      "A: (6, 6)\n",
      "B: (6, 6)\n",
      "polyCoefs: (6, 6)\n",
      "polyCoefs: [[0.16666667 0.         0.         0.         0.         0.        ]\n",
      " [0.         0.2        0.         0.         0.         0.        ]\n",
      " [0.         0.         0.25       0.         0.         0.        ]\n",
      " [0.         0.         0.         0.33333333 0.         0.        ]\n",
      " [0.         0.         0.         0.         0.5        0.        ]\n",
      " [0.         0.         0.         0.         0.         1.        ]]\n",
      "xValsL: [ 2. -2.  2. -2.  2. -2.]\n",
      "xValsR: [ 0.03125 -0.0625   0.125   -0.25     0.5     -1.     ]\n",
      "xVec: [-0.16666667  0.2        -0.25        0.33333333 -0.5         1.        ]\n",
      "xVec1: [-0.328125    0.3875     -0.46875     0.58333333 -0.75        1.        ]\n",
      "bounds: [-3.  -2.  -1.   0.   0.5  1.   1.5]\n",
      "hInv: (6, 6)\n",
      "A: (6, 6)\n",
      "B: (6, 6)\n",
      "polyCoefs: (6, 6)\n",
      "polyCoefs: [[0.16666667 0.         0.         0.         0.         0.        ]\n",
      " [0.         0.2        0.         0.         0.         0.        ]\n",
      " [0.         0.         0.25       0.         0.         0.        ]\n",
      " [0.         0.         0.         0.33333333 0.         0.        ]\n",
      " [0.         0.         0.         0.         0.5        0.        ]\n",
      " [0.         0.         0.         0.         0.         1.        ]]\n",
      "xValsL: [ 0.03125 -0.0625   0.125   -0.25     0.5     -1.     ]\n",
      "xValsR: [0. 0. 0. 0. 0. 0.]\n",
      "xVec: [-0.00520833  0.0125     -0.03125     0.08333333 -0.25        1.        ]\n",
      "xVec1: [-0.00520833  0.0125     -0.03125     0.08333333 -0.25        1.        ]\n",
      "bounds: [-2.  -1.   0.   0.5  1.   1.5  2. ]\n",
      "hInv: (6, 6)\n",
      "A: (6, 6)\n",
      "B: (6, 6)\n",
      "polyCoefs: (6, 6)\n",
      "polyCoefs: [[0.16666667 0.         0.         0.         0.         0.        ]\n",
      " [0.         0.2        0.         0.         0.         0.        ]\n",
      " [0.         0.         0.25       0.         0.         0.        ]\n",
      " [0.         0.         0.         0.33333333 0.         0.        ]\n",
      " [0.         0.         0.         0.         0.5        0.        ]\n",
      " [0.         0.         0.         0.         0.         1.        ]]\n",
      "xValsL: [0. 0. 0. 0. 0. 0.]\n",
      "xValsR: [0.03125 0.0625  0.125   0.25    0.5     1.     ]\n",
      "xVec: [0.00520833 0.0125     0.03125    0.08333333 0.25       1.        ]\n",
      "xVec1: [0.00520833 0.0125     0.03125    0.08333333 0.25       1.        ]\n",
      "bounds: [-2.  -1.5 -1.  -0.5 -0.   1.   2. ]\n",
      "hInv: (6, 6)\n",
      "A: (6, 6)\n",
      "B: (6, 6)\n",
      "polyCoefs: (6, 6)\n",
      "polyCoefs: [[0.16666667 0.         0.         0.         0.         0.        ]\n",
      " [0.         0.2        0.         0.         0.         0.        ]\n",
      " [0.         0.         0.25       0.         0.         0.        ]\n",
      " [0.         0.         0.         0.33333333 0.         0.        ]\n",
      " [0.         0.         0.         0.         0.5        0.        ]\n",
      " [0.         0.         0.         0.         0.         1.        ]]\n",
      "xValsL: [0.03125 0.0625  0.125   0.25    0.5     1.     ]\n",
      "xValsR: [2. 2. 2. 2. 2. 2.]\n",
      "xVec: [0.16666667 0.2        0.25       0.33333333 0.5        1.        ]\n",
      "xVec1: [0.328125   0.3875     0.46875    0.58333333 0.75       1.        ]\n",
      "bounds: [-1.5 -1.  -0.5 -0.   1.   2.   3. ]\n",
      "hInv: (6, 6)\n",
      "A: (6, 6)\n",
      "B: (6, 6)\n",
      "polyCoefs: (6, 6)\n",
      "polyCoefs: [[0.16666667 0.         0.         0.         0.         0.        ]\n",
      " [0.         0.2        0.         0.         0.         0.        ]\n",
      " [0.         0.         0.25       0.         0.         0.        ]\n",
      " [0.         0.         0.         0.33333333 0.         0.        ]\n",
      " [0.         0.         0.         0.         0.5        0.        ]\n",
      " [0.         0.         0.         0.         0.         1.        ]]\n",
      "xValsL: [2. 2. 2. 2. 2. 2.]\n",
      "xValsR: [22.78125 15.1875  10.125    6.75     4.5      3.     ]\n",
      "xVec: [1.265625 1.0125   0.84375  0.75     0.75     1.      ]\n",
      "xVec1: [3.46354167 2.6375     2.03125    1.58333333 1.25       1.        ]\n",
      "bounds: [-1.  -0.5 -0.   1.   2.   3.   4. ]\n",
      "hInv: (6, 6)\n",
      "A: (6, 6)\n",
      "B: (6, 6)\n",
      "polyCoefs: (6, 6)\n",
      "x:\n",
      "[0.      0.0625  0.125   0.1875  0.25    0.3125  0.375   0.4375  0.5     0.53125 0.5625  0.59375 0.625   0.65625 0.6875  0.71875 0.75    0.78125 0.8125  0.84375 0.875   0.90625 0.9375  0.96875 1.     ]\n",
      "\n",
      "Polynomial Function:\n",
      "<p(x)> =\n",
      "         6       5        4          3       2\n",
      "0.1667 x + 0.2 x + 0.25 x + 0.3333 x + 0.5 x + 1 x\n",
      "<p(x)> =\n",
      " [1.03261633 1.10388473 1.18570649 1.28052683 1.39144328 1.52232014 1.67790289 1.86393264 2.02616568 2.14835551 2.28241268 2.42951225 2.5909183  2.76798756 2.96217294 3.17502716 3.40820626 3.66347324 3.94270158 4.24787886 4.58111032 4.94462242 5.34076647 5.77202212]\n",
      "\n",
      "Polynomial Derivative:\n",
      "<dp(x)/dx> =\n",
      "    5     4     3     2\n",
      "1 x + 1 x + 1 x + 1 x + 1 x\n",
      "Theoretical:\n",
      "<dp(x)/dx> =\n",
      " [ 1.06666565  1.21897888  1.4058075   1.63667297  1.92292786  2.27775574  2.71617126  3.25502014  3.73204136  4.09391689  4.49200726  4.9291048   5.40811634  5.9320631   6.50408077  7.12741947  7.80544376  8.54163265  9.33957958 10.20299244 11.13569355 12.14161968 13.22482204 14.38946629]\n",
      "Actual:\n",
      "<dp(x)/dx> =\n",
      " [ 21.08119689  -2.13522864   1.66447255   1.63667297   1.92292786   2.26146376   2.80743721   2.91426046   3.9249164    4.06681237   4.49200726   4.9291048    5.40811634   5.9320631    6.50408077   7.12741947   7.80544376   8.54163265   9.33957958  10.20299244  11.13569355   9.36381452  35.21356685 -86.7709444 ]\n",
      "Difference Between Actual and Theoretical:\n",
      "[-2.00145312e+01  3.35420752e+00 -2.58665051e-01  0.00000000e+00 -0.00000000e+00  1.62919773e-02 -9.12659407e-02  3.40759681e-01 -1.92875038e-01  2.71045235e-02  0.00000000e+00  0.00000000e+00 -0.00000000e+00 -0.00000000e+00  0.00000000e+00 -0.00000000e+00  0.00000000e+00 -0.00000000e+00 -0.00000000e+00 -0.00000000e+00  0.00000000e+00  2.77780516e+00 -2.19887448e+01  1.01160411e+02]\n",
      "\n"
     ]
    }
   ],
   "source": [
    "TT.DerivPolyTest(omega, deriv, order, deriv = 0)"
   ]
  },
  {
   "cell_type": "code",
   "execution_count": 6,
   "metadata": {},
   "outputs": [
    {
     "name": "stdout",
     "output_type": "stream",
     "text": [
      "[0.16666667 0.2        0.25       0.33333333 0.5        1.         1.        ]\n",
      "        6       5        4          3       2\n",
      "0.1667 x + 0.2 x + 0.25 x + 0.3333 x + 0.5 x + 1 x\n",
      "\n"
     ]
    }
   ],
   "source": [
    "coefs = 1. / (np.arange(order + 1) + 1)\n",
    "coefs = np.append(1, coefs)[::-1]\n",
    "P = np.poly1d(coefs) - 1\n",
    "print(coefs)\n",
    "print(P)\n",
    "print('')"
   ]
  },
  {
   "cell_type": "code",
   "execution_count": 7,
   "metadata": {},
   "outputs": [
    {
     "name": "stdout",
     "output_type": "stream",
     "text": [
      "[0 1 2 3 4 5 6 7 8 9]\n",
      "[0 1 2 3 4 5 6 7 8]\n",
      "\n"
     ]
    }
   ],
   "source": [
    "A = np.arange(10)\n",
    "print(A)\n",
    "print(A[:-1])\n",
    "print('')"
   ]
  },
  {
   "cell_type": "code",
   "execution_count": null,
   "metadata": {},
   "outputs": [],
   "source": []
  },
  {
   "cell_type": "code",
   "execution_count": null,
   "metadata": {},
   "outputs": [],
   "source": []
  }
 ],
 "metadata": {
  "kernelspec": {
   "display_name": "Python 3",
   "language": "python",
   "name": "python3"
  },
  "language_info": {
   "codemirror_mode": {
    "name": "ipython",
    "version": 3
   },
   "file_extension": ".py",
   "mimetype": "text/x-python",
   "name": "python",
   "nbconvert_exporter": "python",
   "pygments_lexer": "ipython3",
   "version": "3.7.3"
  }
 },
 "nbformat": 4,
 "nbformat_minor": 2
}
