{
 "cells": [
  {
   "cell_type": "markdown",
   "metadata": {},
   "source": [
    "This tests the accuracy of a differential operator on a polynomial of the given order. If the operator is working to said order, then the `Actual` and `Theoretical` outputs should match (except possibly at the edges.)"
   ]
  },
  {
   "cell_type": "code",
   "execution_count": 1,
   "metadata": {
    "scrolled": true
   },
   "outputs": [
    {
     "data": {
      "text/html": [
       "<style>pre { white-space: pre !important; }</style>"
      ],
      "text/plain": [
       "<IPython.core.display.HTML object>"
      ]
     },
     "metadata": {},
     "output_type": "display_data"
    },
    {
     "data": {
      "text/html": [
       "<style>pre { white-space: pre !important; }</style>"
      ],
      "text/plain": [
       "<IPython.core.display.HTML object>"
      ]
     },
     "metadata": {},
     "output_type": "display_data"
    }
   ],
   "source": [
    "import os.path\n",
    "from scipy import *\n",
    "import numpy as np\n",
    "from numpy import *\n",
    "from numpy import linalg as LA\n",
    "from scipy import linalg as LA2\n",
    "import sympy as sympy\n",
    "import sys as sys\n",
    "import time\n",
    "import matplotlib.pyplot as plt\n",
    "import itertools as it\n",
    "from IPython.core.display import HTML\n",
    "\n",
    "sys.path.append('/Users/sashacurcic/SashasDirectory/ANAG/FV_MG/')\n",
    "from Modules import BasicTools as BT\n",
    "from Modules import WaveTools as WT\n",
    "from Modules import PlotTools as PT\n",
    "from Modules import FFTTools as FFTT\n",
    "from Modules import OperatorTools as OT\n",
    "from Modules import GridTransferTools as GTT\n",
    "from Modules import TestTools as TT\n",
    "from Modules import SolverTools as ST\n",
    "\n",
    "display(HTML(\"<style>pre { white-space: pre !important; }</style>\"))\n",
    "np.set_printoptions( linewidth = 10000, threshold = 100000)"
   ]
  },
  {
   "cell_type": "markdown",
   "metadata": {},
   "source": [
    "This cell takes all of the input parameters."
   ]
  },
  {
   "cell_type": "code",
   "execution_count": 2,
   "metadata": {},
   "outputs": [],
   "source": [
    "# Grid parameters.\n",
    "nh_min = 16\n",
    "refRatio = 2\n",
    "cfInter = int(nh_min / refRatio)\n",
    "\n",
    "# Time integration parameters.\n",
    "deriv = 'CD'\n",
    "# RK = 4\n",
    "order = 2\n",
    "matInd = nh_min - 2"
   ]
  },
  {
   "cell_type": "markdown",
   "metadata": {},
   "source": [
    "This cell contains the relevant switch information."
   ]
  },
  {
   "cell_type": "code",
   "execution_count": 3,
   "metadata": {},
   "outputs": [],
   "source": [
    "# TimeIntFunc, DiffFunc = TT.SolverSwitch(deriv, RK)"
   ]
  },
  {
   "cell_type": "markdown",
   "metadata": {},
   "source": [
    "This cell instantiates the Grid and the Physics objects."
   ]
  },
  {
   "cell_type": "code",
   "execution_count": 4,
   "metadata": {},
   "outputs": [],
   "source": [
    "omega = BT.Grid(nh_min)\n",
    "finehalf = list(np.arange(int(nh_min / refRatio)) + int(nh_min / refRatio))\n",
    "omega.AddPatch(refRatio, finehalf)"
   ]
  },
  {
   "cell_type": "markdown",
   "metadata": {},
   "source": [
    "This cell runs a test on the derivative operator on a cell-averaged polynomial which matches the given order.  \n",
    "$P (x) = \\sum_{k = 0}^{o} x^{k}$  \n",
    "$<P (x)> = \\frac{1}{\\Delta x} \\int_{x}^{x + \\Delta x} P (x')$d$x'$  \n",
    "$<P (x)> = \\frac{1}{\\Delta x} \\sum_{k = 1}^{o} \\frac{1}{k} [(x + \\Delta x)^{k} - x^{k}]$  \n",
    "$<\\frac{d P (x)}{d x}> = \\sum_{k = 1}^{o} [(x + \\Delta x)^{k} - x^{k}]$  "
   ]
  },
  {
   "cell_type": "code",
   "execution_count": 5,
   "metadata": {},
   "outputs": [
    {
     "name": "stdout",
     "output_type": "stream",
     "text": [
      "this one.\n",
      "Bounds are: [0.6875  0.71875 0.75    0.78125] <= 0.6875\n",
      "[[  0.   8.   0.   0.   0.   0.   0.   0.   0.   0.   0.   0.   0.   0.   0.   0.   0.   0.   0.   0.   0.   0.   0.   0.]\n",
      " [ -8.   0.   8.   0.   0.   0.   0.   0.   0.   0.   0.   0.   0.   0.   0.   0.   0.   0.   0.   0.   0.   0.   0.   0.]\n",
      " [  0.  -8.   0.   8.   0.   0.   0.   0.   0.   0.   0.   0.   0.   0.   0.   0.   0.   0.   0.   0.   0.   0.   0.   0.]\n",
      " [  0.   0.  -8.   0.   8.   0.   0.   0.   0.   0.   0.   0.   0.   0.   0.   0.   0.   0.   0.   0.   0.   0.   0.   0.]\n",
      " [  0.   0.   0.  -8.   0.   8.   0.   0.   0.   0.   0.   0.   0.   0.   0.   0.   0.   0.   0.   0.   0.   0.   0.   0.]\n",
      " [  0.   0.   0.   0.  -8.   0.   8.   0.   0.   0.   0.   0.   0.   0.   0.   0.   0.   0.   0.   0.   0.   0.   0.   0.]\n",
      " [  0.   0.   0.   0.   0.  -8.   0.   8.   0.   0.   0.   0.   0.   0.   0.   0.   0.   0.   0.   0.   0.   0.   0.   0.]\n",
      " [  0.   0.   0.   0.   0.   0.  -8.   0.   4.   4.   0.   0.   0.   0.   0.   0.   0.   0.   0.   0.   0.   0.   0.   0.]\n",
      " [  0.   0.   0.   0.   0.   0.   0.  -8. -12.  20.   0.   0.   0.   0.   0.   0.   0.   0.   0.   0.   0.   0.   0.   0.]\n",
      " [  0.   0.   0.   0.   0.   0.   0.   0. -16.   0.  16.   0.   0.   0.   0.   0.   0.   0.   0.   0.   0.   0.   0.   0.]\n",
      " [  0.   0.   0.   0.   0.   0.   0.   0.   0. -16.   0.  16.   0.   0.   0.   0.   0.   0.   0.   0.   0.   0.   0.   0.]\n",
      " [  0.   0.   0.   0.   0.   0.   0.   0.   0.   0. -16.   0.  16.   0.   0.   0.   0.   0.   0.   0.   0.   0.   0.   0.]\n",
      " [  0.   0.   0.   0.   0.   0.   0.   0.   0.   0.   0. -16.   0.  16.   0.   0.   0.   0.   0.   0.   0.   0.   0.   0.]\n",
      " [  0.   0.   0.   0.   0.   0.   0.   0.   0.   0.   0.   0. -16.   0.  16.   0.   0.   0.   0.   0.   0.   0.   0.   0.]\n",
      " [  0.   0.   0.   0.   0.   0.   0.   0.   0.   0.   0.   0.   0. -16.   0.  16.   0.   0.   0.   0.   0.   0.   0.   0.]\n",
      " [  0.   0.   0.   0.   0.   0.   0.   0.   0.   0.   0.   0.   0.   0.   0. -16.  16.   0.   0.   0.   0.   0.   0.   0.]\n",
      " [  0.   0.   0.   0.   0.   0.   0.   0.   0.   0.   0.   0.   0.   0.   0. -16.   0.  16.   0.   0.   0.   0.   0.   0.]\n",
      " [  0.   0.   0.   0.   0.   0.   0.   0.   0.   0.   0.   0.   0.   0.   0.   0. -16.   0.  16.   0.   0.   0.   0.   0.]\n",
      " [  0.   0.   0.   0.   0.   0.   0.   0.   0.   0.   0.   0.   0.   0.   0.   0.   0. -16.   0.  16.   0.   0.   0.   0.]\n",
      " [  0.   0.   0.   0.   0.   0.   0.   0.   0.   0.   0.   0.   0.   0.   0.   0.   0.   0. -16.   0.  16.   0.   0.   0.]\n",
      " [  0.   0.   0.   0.   0.   0.   0.   0.   0.   0.   0.   0.   0.   0.   0.   0.   0.   0.   0. -16.   0.  16.   0.   0.]\n",
      " [  0.   0.   0.   0.   0.   0.   0.   0.   0.   0.   0.   0.   0.   0.   0.   0.   0.   0.   0.   0. -16.   0.  16.   0.]\n",
      " [  0.   0.   0.   0.   0.   0.   0.   0.   0.   0.   0.   0.   0.   0.   0.   0.   0.   0.   0.   0.   0. -16.   0.  16.]\n",
      " [  8.   0.   0.   0.   0.   0.   0.   0.   0.   0.   0.   0.   0.   0.   0.   0.   0.   0.   0.   0.   0.   0. -20.  12.]]\n",
      "x:\n",
      "[0.      0.0625  0.125   0.1875  0.25    0.3125  0.375   0.4375  0.5     0.53125 0.5625  0.59375 0.625   0.65625 0.6875  0.71875 0.75    0.78125 0.8125  0.84375 0.875   0.90625 0.9375  0.96875 1.     ]\n",
      "\n",
      "Polynomial Function:\n",
      "<p(x)> =\n",
      "         3       2\n",
      "0.3333 x + 0.5 x + 1 x\n",
      "<p(x)> =\n",
      " [1.03255208 1.10286458 1.18098958 1.26692708 1.36067708 1.46223958 1.57161458 1.68880208 1.78157552 1.84602865 1.9124349  1.98079427 2.05110677 2.1233724  2.19759115 2.27376302 2.35188802 2.43196615 2.5139974  2.59798177 2.68391927 2.7718099  2.86165365 2.95345052]\n",
      "\n",
      "Polynomial Derivative:\n",
      "<dp(x)/dx> =\n",
      "    2\n",
      "1 x + 1 x\n",
      "Theoretical:\n",
      "<dp(x)/dx> =\n",
      " [1.0625  1.1875  1.3125  1.4375  1.5625  1.6875  1.8125  1.9375  2.03125 2.09375 2.15625 2.21875 2.28125 2.34375 2.40625 2.46875 2.53125 2.59375 2.65625 2.71875 2.78125 2.84375 2.90625 2.96875]\n",
      "Actual:\n",
      "<dp(x)/dx> =\n",
      " [  8.82291667   1.1875       1.3125       1.4375       1.5625       1.6875       1.8125       1.9375       2.03125      2.09375      2.15625      2.21875      2.28125      2.34375      2.40625      1.25         2.53125      2.59375      2.65625      2.71875      2.78125      2.84375      2.90625    -13.53125   ]\n",
      "Difference Between Actual and Theoretical:\n",
      "[-7.76041667 -0.          0.          0.         -0.          0.          0.         -0.         -0.          0.          0.         -0.          0.          0.         -0.          1.21875     0.         -0.          0.          0.         -0.          0.          0.         16.5       ]\n",
      "\n"
     ]
    }
   ],
   "source": [
    "TT.DerivPolyTest(omega, deriv, order, deriv = 0, matInd = matInd)"
   ]
  },
  {
   "cell_type": "code",
   "execution_count": 6,
   "metadata": {},
   "outputs": [
    {
     "name": "stdout",
     "output_type": "stream",
     "text": [
      "[0.33333333 0.5        1.         1.        ]\n",
      "        3       2\n",
      "0.3333 x + 0.5 x + 1 x\n",
      "\n"
     ]
    }
   ],
   "source": [
    "coefs = 1. / (np.arange(order + 1) + 1)\n",
    "coefs = np.append(1, coefs)[::-1]\n",
    "P = np.poly1d(coefs) - 1\n",
    "print(coefs)\n",
    "print(P)\n",
    "print('')"
   ]
  },
  {
   "cell_type": "code",
   "execution_count": 7,
   "metadata": {},
   "outputs": [
    {
     "name": "stdout",
     "output_type": "stream",
     "text": [
      "[0 1 2 3 4 5 6 7 8 9]\n",
      "[0 1 2 3 4 5 6 7 8]\n",
      "\n"
     ]
    }
   ],
   "source": [
    "A = np.arange(10)\n",
    "print(A)\n",
    "print(A[:-1])\n",
    "print('')"
   ]
  },
  {
   "cell_type": "code",
   "execution_count": null,
   "metadata": {},
   "outputs": [],
   "source": []
  },
  {
   "cell_type": "code",
   "execution_count": null,
   "metadata": {},
   "outputs": [],
   "source": []
  }
 ],
 "metadata": {
  "kernelspec": {
   "display_name": "Python 3",
   "language": "python",
   "name": "python3"
  },
  "language_info": {
   "codemirror_mode": {
    "name": "ipython",
    "version": 3
   },
   "file_extension": ".py",
   "mimetype": "text/x-python",
   "name": "python",
   "nbconvert_exporter": "python",
   "pygments_lexer": "ipython3",
   "version": "3.7.3"
  }
 },
 "nbformat": 4,
 "nbformat_minor": 2
}
