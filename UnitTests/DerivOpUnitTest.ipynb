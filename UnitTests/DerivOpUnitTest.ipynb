{
 "cells": [
  {
   "cell_type": "markdown",
   "metadata": {},
   "source": [
    "This tests the accuracy of a differential operator on a polynomial of the given order. If the operator is working to said order, then the `Actual` and `Theoretical` outputs should match (except possibly at the edges.)"
   ]
  },
  {
   "cell_type": "code",
   "execution_count": 1,
   "metadata": {
    "scrolled": true
   },
   "outputs": [
    {
     "data": {
      "text/html": [
       "<style>pre { white-space: pre !important; }</style>"
      ],
      "text/plain": [
       "<IPython.core.display.HTML object>"
      ]
     },
     "metadata": {},
     "output_type": "display_data"
    },
    {
     "data": {
      "text/html": [
       "<style>pre { white-space: pre !important; }</style>"
      ],
      "text/plain": [
       "<IPython.core.display.HTML object>"
      ]
     },
     "metadata": {},
     "output_type": "display_data"
    }
   ],
   "source": [
    "import os.path\n",
    "from scipy import *\n",
    "import numpy as np\n",
    "from numpy import *\n",
    "from numpy import linalg as LA\n",
    "from scipy import linalg as LA2\n",
    "import sympy as sympy\n",
    "import sys as sys\n",
    "import time\n",
    "import matplotlib.pyplot as plt\n",
    "import itertools as it\n",
    "from IPython.core.display import HTML\n",
    "\n",
    "sys.path.append('/Users/sashacurcic/SashasDirectory/ANAG/FV_MG/')\n",
    "from Modules import BasicTools as BT\n",
    "from Modules import WaveTools as WT\n",
    "from Modules import PlotTools as PT\n",
    "from Modules import FFTTools as FFTT\n",
    "from Modules import OperatorTools as OT\n",
    "from Modules import GridTransferTools as GTT\n",
    "from Modules import TestTools as TT\n",
    "from Modules import SolverTools as ST\n",
    "\n",
    "display(HTML(\"<style>pre { white-space: pre !important; }</style>\"))\n",
    "np.set_printoptions( linewidth = 10000, threshold = 100000)"
   ]
  },
  {
   "cell_type": "markdown",
   "metadata": {},
   "source": [
    "This cell takes all of the input parameters."
   ]
  },
  {
   "cell_type": "code",
   "execution_count": 54,
   "metadata": {},
   "outputs": [],
   "source": [
    "# Grid parameters.\n",
    "nh_min = 16\n",
    "refRatio = 2\n",
    "cfInter = int(nh_min / refRatio)\n",
    "\n",
    "# Time integration parameters.\n",
    "deriv = 'CD'\n",
    "# RK = 4\n",
    "order = 4"
   ]
  },
  {
   "cell_type": "markdown",
   "metadata": {},
   "source": [
    "This cell contains the relevant switch information."
   ]
  },
  {
   "cell_type": "code",
   "execution_count": 55,
   "metadata": {},
   "outputs": [],
   "source": [
    "# TimeIntFunc, DiffFunc = TT.SolverSwitch(deriv, RK)"
   ]
  },
  {
   "cell_type": "markdown",
   "metadata": {},
   "source": [
    "This cell instantiates the Grid and the Physics objects."
   ]
  },
  {
   "cell_type": "code",
   "execution_count": 56,
   "metadata": {},
   "outputs": [],
   "source": [
    "omega = BT.Grid(nh_min)\n",
    "finehalf = list(np.arange(int(nh_min / refRatio)) + int(nh_min / refRatio))\n",
    "omega.AddPatch(refRatio, finehalf)"
   ]
  },
  {
   "cell_type": "markdown",
   "metadata": {},
   "source": [
    "This cell runs a test on the derivative operator on a polynomial which matches the given order."
   ]
  },
  {
   "cell_type": "code",
   "execution_count": 57,
   "metadata": {},
   "outputs": [
    {
     "name": "stdout",
     "output_type": "stream",
     "text": [
      "-1.0\n",
      "xValsR: [-0.0625  0.125  -0.25    0.5    -1.    ]\n",
      "xValsL: [-2.  2. -2.  2. -2.]\n",
      "[ 1. -1.  1. -1.  1.]\n",
      "YOU'RE USING THE UPDATE.\n",
      "bounds: [-3.  -2.  -1.   0.   0.5  1. ]\n",
      "\n",
      "-0.5\n",
      "xValsR: [0. 0. 0. 0. 0.]\n",
      "xValsL: [-0.0625  0.125  -0.25    0.5    -1.    ]\n",
      "[ 0.0625 -0.125   0.25   -0.5     1.    ]\n",
      "YOU'RE USING THE UPDATE.\n",
      "bounds: [-2.  -1.   0.   0.5  1.   1.5]\n",
      "\n",
      "0.5\n",
      "xValsR: [0.0625 0.125  0.25   0.5    1.    ]\n",
      "xValsL: [0. 0. 0. 0. 0.]\n",
      "[0.0625 0.125  0.25   0.5    1.    ]\n",
      "YOU'RE USING THE UPDATE.\n",
      "bounds: [-1.5 -1.  -0.5 -0.   1.   2. ]\n",
      "\n",
      "1.0\n",
      "xValsR: [2. 2. 2. 2. 2.]\n",
      "xValsL: [0.0625 0.125  0.25   0.5    1.    ]\n",
      "[1. 1. 1. 1. 1.]\n",
      "YOU'RE USING THE UPDATE.\n",
      "bounds: [-1.  -0.5 -0.   1.   2.   3. ]\n",
      "\n",
      "x:\n",
      "[0.      0.0625  0.125   0.1875  0.25    0.3125  0.375   0.4375  0.5     0.53125 0.5625  0.59375 0.625   0.65625 0.6875  0.71875 0.75    0.78125 0.8125  0.84375 0.875   0.90625 0.9375  0.96875 1.     ]\n",
      "\n",
      "Polynomial Function:\n",
      "<p(x)> =\n",
      "      5        4          3       2\n",
      "0.2 x + 0.25 x + 0.3333 x + 0.5 x + 1 x\n",
      "<p(x)> =\n",
      " [1.03261617 1.10387472 1.18560079 1.27999166 1.3896108  1.5173879  1.66661886 1.84096578 1.98960641 2.09930757 2.21767381 2.34530023 2.48280481 2.63082841 2.7900348  2.96111062 3.14476541 3.34173158 3.55276445 3.77864221 4.02016595 4.27815965 4.55347017 4.84696725]\n",
      "\n",
      "Polynomial Derivative:\n",
      "<dp(x)/dx> =\n",
      "    4     3     2\n",
      "1 x + 1 x + 1 x + 1 x\n",
      "Theoretical:\n",
      "<dp(x)/dx> =\n",
      " [1.06665039 1.21850586 1.40258789 1.62475586 1.89086914 2.20678711 2.57836914 3.01147461 3.37796021 3.64596558 3.93264771 4.23873901 4.56497192 4.91207886 5.28079224 5.67184448 6.08596802 6.52389526 6.98635864 7.47409058 7.98782349 8.52828979 9.09622192 9.69235229]\n",
      "Actual:\n",
      "<dp(x)/dx> =\n",
      " [ 15.72607964  -0.07481961   1.40258789   1.62475586   1.89086914   2.20678711   2.57836914   3.01147461   3.37796021   3.64596558   3.93264771   4.23873901   4.56497192   4.91207886   5.28079224   5.67184448   6.08596802   6.52389526   6.98635864   7.47409058   7.98782349   8.52828979  15.26268398 -24.93200189]\n",
      "Difference Between Actual and Theoretical:\n",
      "[-14.65942925   1.29332547  -0.           0.           0.           0.           0.           0.          -0.          -0.           0.           0.          -0.           0.           0.           0.          -0.           0.          -0.           0.           0.          -0.          -6.16646205  34.62435419]\n",
      "\n"
     ]
    }
   ],
   "source": [
    "TT.DerivPolyTest(omega, deriv, order, deriv = 0)"
   ]
  },
  {
   "cell_type": "code",
   "execution_count": 58,
   "metadata": {},
   "outputs": [
    {
     "name": "stdout",
     "output_type": "stream",
     "text": [
      "[0.2        0.25       0.33333333 0.5        1.         1.        ]\n",
      "     5        4          3       2\n",
      "0.2 x + 0.25 x + 0.3333 x + 0.5 x + 1 x\n",
      "\n"
     ]
    }
   ],
   "source": [
    "coefs = 1. / (np.arange(order + 1) + 1)\n",
    "coefs = np.append(1, coefs)[::-1]\n",
    "P = np.poly1d(coefs) - 1\n",
    "print(coefs)\n",
    "print(P)\n",
    "print('')"
   ]
  },
  {
   "cell_type": "code",
   "execution_count": 43,
   "metadata": {},
   "outputs": [
    {
     "name": "stdout",
     "output_type": "stream",
     "text": [
      "[0 1 2 3 4 5 6 7 8 9]\n",
      "[0 1 2 3 4 5 6 7 8]\n",
      "\n"
     ]
    }
   ],
   "source": [
    "A = np.arange(10)\n",
    "print(A)\n",
    "print(A[:-1])\n",
    "print('')"
   ]
  },
  {
   "cell_type": "code",
   "execution_count": null,
   "metadata": {},
   "outputs": [],
   "source": []
  }
 ],
 "metadata": {
  "kernelspec": {
   "display_name": "Python 3",
   "language": "python",
   "name": "python3"
  },
  "language_info": {
   "codemirror_mode": {
    "name": "ipython",
    "version": 3
   },
   "file_extension": ".py",
   "mimetype": "text/x-python",
   "name": "python",
   "nbconvert_exporter": "python",
   "pygments_lexer": "ipython3",
   "version": "3.7.3"
  }
 },
 "nbformat": 4,
 "nbformat_minor": 2
}
