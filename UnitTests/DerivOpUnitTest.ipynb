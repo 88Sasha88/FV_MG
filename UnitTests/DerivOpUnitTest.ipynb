{
 "cells": [
  {
   "cell_type": "markdown",
   "metadata": {},
   "source": [
    "This tests the accuracy of a differential operator on a polynomial of the given order. If the operator is working to said order, then the `Actual` and `Theoretical` outputs should match (except possibly at the edges.)"
   ]
  },
  {
   "cell_type": "code",
   "execution_count": 1,
   "metadata": {
    "scrolled": true
   },
   "outputs": [
    {
     "data": {
      "text/html": [
       "<style>pre { white-space: pre !important; }</style>"
      ],
      "text/plain": [
       "<IPython.core.display.HTML object>"
      ]
     },
     "metadata": {},
     "output_type": "display_data"
    },
    {
     "data": {
      "text/html": [
       "<style>pre { white-space: pre !important; }</style>"
      ],
      "text/plain": [
       "<IPython.core.display.HTML object>"
      ]
     },
     "metadata": {},
     "output_type": "display_data"
    }
   ],
   "source": [
    "import os.path\n",
    "from scipy import *\n",
    "import numpy as np\n",
    "from numpy import *\n",
    "from numpy import linalg as LA\n",
    "from scipy import linalg as LA2\n",
    "import sympy as sympy\n",
    "import sys as sys\n",
    "import time\n",
    "import matplotlib.pyplot as plt\n",
    "import itertools as it\n",
    "from IPython.core.display import HTML\n",
    "\n",
    "sys.path.append('/Users/sashacurcic/SashasDirectory/ANAG/FV_MG/')\n",
    "from Modules import BasicTools as BT\n",
    "from Modules import WaveTools as WT\n",
    "from Modules import PlotTools as PT\n",
    "from Modules import FFTTools as FFTT\n",
    "from Modules import OperatorTools as OT\n",
    "from Modules import GridTransferTools as GTT\n",
    "from Modules import TestTools as TT\n",
    "from Modules import SolverTools as ST\n",
    "\n",
    "display(HTML(\"<style>pre { white-space: pre !important; }</style>\"))\n",
    "np.set_printoptions( linewidth = 10000, threshold = 100000)"
   ]
  },
  {
   "cell_type": "markdown",
   "metadata": {},
   "source": [
    "This cell takes all of the input parameters."
   ]
  },
  {
   "cell_type": "code",
   "execution_count": 2,
   "metadata": {},
   "outputs": [],
   "source": [
    "# Grid parameters.\n",
    "nh_min = 16\n",
    "refRatio = 2\n",
    "cfInter = int(nh_min / refRatio)\n",
    "\n",
    "# Time integration parameters.\n",
    "deriv = 'CD'\n",
    "# RK = 4\n",
    "order = 6"
   ]
  },
  {
   "cell_type": "markdown",
   "metadata": {},
   "source": [
    "This cell contains the relevant switch information."
   ]
  },
  {
   "cell_type": "code",
   "execution_count": 3,
   "metadata": {},
   "outputs": [],
   "source": [
    "# TimeIntFunc, DiffFunc = TT.SolverSwitch(deriv, RK)"
   ]
  },
  {
   "cell_type": "markdown",
   "metadata": {},
   "source": [
    "This cell instantiates the Grid and the Physics objects."
   ]
  },
  {
   "cell_type": "code",
   "execution_count": 4,
   "metadata": {},
   "outputs": [],
   "source": [
    "omega = BT.Grid(nh_min)\n",
    "finehalf = list(np.arange(int(nh_min / refRatio)))# + int(nh_min / refRatio))\n",
    "omega.AddPatch(refRatio, finehalf)\n",
    "degFreed = omega.degFreed"
   ]
  },
  {
   "cell_type": "markdown",
   "metadata": {},
   "source": [
    "This cell runs a test on the derivative operator on a cell-averaged polynomial which matches the given order.  \n",
    "$P (x) = \\sum_{k = 0}^{o} x^{k}$  \n",
    "$<P (x)> = \\frac{1}{\\Delta x} \\int_{x}^{x + \\Delta x} P (x')$d$x'$  \n",
    "$<P (x)> = \\frac{1}{\\Delta x} \\sum_{k = 1}^{o} \\frac{1}{k} [(x + \\Delta x)^{k} - x^{k}]$  \n",
    "$<\\frac{d P (x)}{d x}> = \\sum_{k = 1}^{o} [(x + \\Delta x)^{k} - x^{k}]$  "
   ]
  },
  {
   "cell_type": "code",
   "execution_count": 5,
   "metadata": {},
   "outputs": [
    {
     "name": "stdout",
     "output_type": "stream",
     "text": [
      "h: 7\n",
      "\n",
      "Sum Over Rows:\n",
      "[ 0.  0.  0.  0. -0.  0.  0.  0.  0. -0. -0.  0. -0.  0. -0. -0.  0.  0.  0.  0. -0.  0.  0. -0.]\n",
      "\n",
      "Difference Between Actual and Theoretical:\n",
      "[-0.         -0.          0.          0.         -0.         -0.03220467  0.25471735 -1.17150842 -0.          0.         -0.          0.         -0.          0.          0.         -0.          0.          0.         -0.         -0.          0.          0.         -0.          0.        ]\n",
      "\n",
      "\n",
      "\n",
      "h: 8\n",
      "\n",
      "Sum Over Rows:\n",
      "[ 0.  0.  0.  0. -0.  0.  0.  0. -0.  0. -0. -0. -0.  0. -0. -0.  0.  0.  0.  0. -0.  0.  0. -0.]\n",
      "\n",
      "Difference Between Actual and Theoretical:\n",
      "[-0.         -0.          0.          0.         -0.         -0.         -0.03512464  0.27770155 -1.2769703   0.         -0.          0.         -0.          0.          0.         -0.          0.          0.         -0.         -0.          0.          0.         -0.          0.        ]\n",
      "\n",
      "\n",
      "\n",
      "h: 9\n",
      "\n",
      "Sum Over Rows:\n",
      "[ 0.  0.  0.  0. -0.  0.  0.  0.  0. -0.  0.  0.  0.  0. -0. -0.  0.  0.  0.  0. -0.  0.  0. -0.]\n",
      "\n",
      "Difference Between Actual and Theoretical:\n",
      "[-0.         -0.          0.          0.         -0.         -0.         -0.         -0.03842023  0.30363863 -1.39597153 -0.          0.         -0.          0.          0.         -0.          0.          0.         -0.         -0.          0.          0.         -0.          0.        ]\n",
      "\n",
      "\n",
      "\n",
      "h: 10\n",
      "\n",
      "Sum Over Rows:\n",
      "[ 0.          0.          0.          0.         -0.          0.          0.          0.          0.          0.          0.         -0.00000002  0.          0.         -0.         -0.          0.          0.          0.          0.         -0.          0.          0.         -0.        ]\n",
      "\n",
      "Difference Between Actual and Theoretical:\n",
      "[-0.         -0.          0.          0.         -0.         -0.         -0.         -0.         -0.04214346  0.33293894 -1.53039642  0.00000004 -0.00000001 -0.          0.         -0.          0.          0.         -0.         -0.          0.          0.         -0.          0.        ]\n",
      "\n",
      "\n",
      "\n",
      "h: 11\n",
      "\n",
      "Sum Over Rows:\n",
      "[ 0.          0.          0.          0.         -0.          0.          0.          0.         -0.          0.          0.          0.         -0.00000001 -0.00000001  0.         -0.          0.          0.          0.          0.         -0.          0.          0.         -0.        ]\n",
      "\n",
      "Difference Between Actual and Theoretical:\n",
      "[-0.         -0.          0.          0.         -0.         -0.         -0.         -0.          0.         -0.04635218  0.36605917 -1.68234291  0.00000001  0.00000001  0.         -0.          0.          0.         -0.         -0.          0.          0.         -0.          0.        ]\n",
      "\n",
      "\n",
      "\n",
      "h: 12\n",
      "n_f_max was changed from 3 to 4!\n",
      "n_f_max was changed from 3 to 4!\n",
      "\n",
      "Sum Over Rows:\n",
      "[ 0.          0.          0.          0.         -0.          0.          0.          0.         -0.          0.          0.          0.         -0.00000007  0.         -0.          0.          0.          0.          0.          0.         -0.          0.          0.         -0.        ]\n",
      "\n",
      "Difference Between Actual and Theoretical:\n",
      "[-0.         -0.          0.          0.         -0.         -0.         -0.         -0.          0.          0.         -0.05111047  0.40350529 -1.85413571 -0.         -0.         -0.         -0.          0.         -0.         -0.          0.          0.         -0.          0.        ]\n",
      "\n",
      "\n",
      "\n",
      "h: 13\n",
      "n_f_max was changed from 3 to 4!\n",
      "n_f_max was changed from 3 to 4!\n",
      "\n",
      "Sum Over Rows:\n",
      "[ 0.          0.          0.          0.         -0.          0.          0.          0.         -0.          0.          0.          0.          0.          0.00000016  0.00000001  0.          0.         -0.          0.          0.         -0.          0.          0.         -0.        ]\n",
      "\n",
      "Difference Between Actual and Theoretical:\n",
      "[-0.         -0.          0.          0.         -0.         -0.         -0.         -0.          0.          0.         -0.         -0.05648894  0.44583533 -2.04834021 -0.00000001 -0.00000001  0.          0.         -0.         -0.          0.          0.         -0.          0.        ]\n",
      "\n",
      "\n",
      "\n",
      "h: 14\n",
      "n_f_max was changed from 3 to 4!\n",
      "n_f_max was changed from 3 to 4!\n",
      "\n",
      "Sum Over Rows:\n",
      "[ 0.          0.          0.          0.         -0.          0.          0.          0.         -0.          0.          0.          0.          0.         -0.00000007 -0.00000023  0.          0.         -0.          0.          0.         -0.          0.          0.         -0.        ]\n",
      "\n",
      "Difference Between Actual and Theoretical:\n",
      "[-0.         -0.          0.          0.         -0.         -0.         -0.         -0.          0.          0.         -0.          0.         -0.06256513  0.49366239 -2.26777329 -0.00000001 -0.          0.         -0.         -0.          0.          0.         -0.          0.        ]\n",
      "\n",
      "\n",
      "\n",
      "h: 15\n",
      "n_f_max was changed from 3 to 4!\n",
      "n_f_max was changed from 3 to 4!\n",
      "\n",
      "Sum Over Rows:\n",
      "[ 0.          0.          0.          0.         -0.          0.          0.          0.         -0.          0.          0.          0.         -0.          0.          0.          0.00000021  0.         -0.         -0.          0.         -0.          0.          0.         -0.        ]\n",
      "\n",
      "Difference Between Actual and Theoretical:\n",
      "[-0.         -0.          0.          0.         -0.         -0.         -0.         -0.          0.          0.         -0.          0.         -0.         -0.06942383  0.547657   -2.51552189  0.         -0.          0.         -0.          0.          0.         -0.          0.        ]\n",
      "\n",
      "\n",
      "\n",
      "h: 16\n",
      "n_f_max was changed from 3 to 4!\n",
      "n_f_max was changed from 3 to 4!\n",
      "\n",
      "Sum Over Rows:\n",
      "[ 0.          0.          0.          0.         -0.          0.          0.          0.         -0.          0.          0.          0.         -0.         -0.         -0.          0.          0.00000008  0.         -0.         -0.         -0.          0.          0.         -0.        ]\n",
      "\n",
      "Difference Between Actual and Theoretical:\n",
      "[ -0.          -0.           0.           0.          -0.          -0.          -0.          -0.           0.           0.          -0.           0.          -0.          -0.31240725   1.76257407  -7.61817326 -49.11666564  -0.           0.          -0.           0.           0.          -0.           0.        ]\n",
      "\n",
      "\n",
      "\n"
     ]
    }
   ],
   "source": [
    "for i in range(order + 1, degFreed - order - 1):\n",
    "    print('h:', i)\n",
    "    TT.DerivPolyTest(omega, deriv, order, deriv = 0, matInd = i, printOut = False)\n",
    "    print('')"
   ]
  },
  {
   "cell_type": "code",
   "execution_count": 6,
   "metadata": {},
   "outputs": [
    {
     "name": "stdout",
     "output_type": "stream",
     "text": [
      "[0.14285714 0.16666667 0.2        0.25       0.33333333 0.5        1.         1.        ]\n",
      "        7          6       5        4          3       2\n",
      "0.1429 x + 0.1667 x + 0.2 x + 0.25 x + 0.3333 x + 0.5 x + 1 x\n",
      "\n"
     ]
    }
   ],
   "source": [
    "coefs = 1. / (np.arange(order + 1) + 1)\n",
    "coefs = np.append(1, coefs)[::-1]\n",
    "P = np.poly1d(coefs) - 1\n",
    "print(coefs)\n",
    "print(P)\n",
    "print('')"
   ]
  },
  {
   "cell_type": "code",
   "execution_count": 7,
   "metadata": {},
   "outputs": [
    {
     "name": "stdout",
     "output_type": "stream",
     "text": [
      "6 16\n"
     ]
    }
   ],
   "source": [
    "print(order, degFreed - order - 2)"
   ]
  },
  {
   "cell_type": "code",
   "execution_count": 8,
   "metadata": {},
   "outputs": [
    {
     "name": "stdout",
     "output_type": "stream",
     "text": [
      "[[ 0  1  2  3]\n",
      " [ 4  5  6  7]\n",
      " [ 8  9 10 11]\n",
      " [12 13 14 15]]\n",
      "\n",
      "[ 6 22 38 54]\n"
     ]
    }
   ],
   "source": [
    "A = np.arange(16).reshape(4, 4)\n",
    "print(A)\n",
    "print('')\n",
    "print(sum(A, axis = 1))"
   ]
  },
  {
   "cell_type": "code",
   "execution_count": 9,
   "metadata": {},
   "outputs": [
    {
     "name": "stdout",
     "output_type": "stream",
     "text": [
      "[10.50000002625, 9.8437500015625, 8.999999999666667, 7.875000002074219, 6.300000000583334, 3.9375000003125002, 2.142857142857143]\n",
      "\n"
     ]
    }
   ],
   "source": [
    "A = [28., -189.00000003, 540.00000007, -840.00000009, 756.00000007, -378.00000003, 84.]\n",
    "B = [2.66666666, -19.2, 60.00000001, -106.66666665, 120., -96., 39.2]\n",
    "C = [A[i] / B[i] for i in range(7)]\n",
    "print(C)\n",
    "print('')\n"
   ]
  },
  {
   "cell_type": "code",
   "execution_count": null,
   "metadata": {},
   "outputs": [],
   "source": []
  }
 ],
 "metadata": {
  "kernelspec": {
   "display_name": "Python 3",
   "language": "python",
   "name": "python3"
  },
  "language_info": {
   "codemirror_mode": {
    "name": "ipython",
    "version": 3
   },
   "file_extension": ".py",
   "mimetype": "text/x-python",
   "name": "python",
   "nbconvert_exporter": "python",
   "pygments_lexer": "ipython3",
   "version": "3.7.3"
  }
 },
 "nbformat": 4,
 "nbformat_minor": 2
}
