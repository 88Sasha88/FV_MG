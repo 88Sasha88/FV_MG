{
 "cells": [
  {
   "cell_type": "markdown",
   "metadata": {},
   "source": [
    "Here, you develop the E+M Runge-Kuttas. (You want to be able to graph two functions at a time. The plotting functions can handle it, but the other functions aren't built for it specifically because your cases are simple enough that the answer for the B field is proportional to the E Field.)"
   ]
  },
  {
   "cell_type": "code",
   "execution_count": 1,
   "metadata": {},
   "outputs": [
    {
     "data": {
      "text/html": [
       "<style>pre { white-space: pre !important; }</style>"
      ],
      "text/plain": [
       "<IPython.core.display.HTML object>"
      ]
     },
     "metadata": {},
     "output_type": "display_data"
    },
    {
     "data": {
      "text/html": [
       "<style>pre { white-space: pre !important; }</style>"
      ],
      "text/plain": [
       "<IPython.core.display.HTML object>"
      ]
     },
     "metadata": {},
     "output_type": "display_data"
    },
    {
     "data": {
      "text/html": [
       "<style>pre { white-space: pre !important; }</style>"
      ],
      "text/plain": [
       "<IPython.core.display.HTML object>"
      ]
     },
     "metadata": {},
     "output_type": "display_data"
    }
   ],
   "source": [
    "import os.path\n",
    "from scipy import *\n",
    "import numpy as np\n",
    "from numpy import *\n",
    "from numpy import linalg as LA\n",
    "from scipy import linalg as LA2\n",
    "import sympy as sympy\n",
    "import sys as sys\n",
    "import time\n",
    "import matplotlib.pyplot as plt\n",
    "import itertools as it\n",
    "from IPython.core.display import HTML\n",
    "\n",
    "\n",
    "sys.path.append('/Users/sashacurcic/SashasDirectory/ANAG/FV_MG/')\n",
    "from Modules import BasicTools as BT\n",
    "from Modules import WaveTools as WT\n",
    "from Modules import PlotTools as PT\n",
    "from Modules import FFTTools as FFTT\n",
    "from Modules import OperatorTools as OT\n",
    "from Modules import GridTransferTools as GTT\n",
    "from Modules import TestTools as TT\n",
    "from Modules import SolverTools as ST\n",
    "from Modules import WaveformTools as WFT\n",
    "\n",
    "display(HTML(\"<style>pre { white-space: pre !important; }</style>\"))\n",
    "np.set_printoptions( linewidth = 10000, threshold = 100000)"
   ]
  },
  {
   "cell_type": "code",
   "execution_count": 2,
   "metadata": {},
   "outputs": [],
   "source": [
    "nh_min = 64\n",
    "refRatio = 2\n",
    "CFL = np.sqrt(0.5)\n",
    "ntC = 50\n",
    "nt = int(2*ntC)\n",
    "x_0 = 0.\n",
    "x_1 = 0.5\n",
    "Hans = False\n",
    "\n",
    "deriv = 'U'\n",
    "RK = 1\n",
    "order = 1\n",
    "\n",
    "L = 1\n",
    "locs = [x_1]\n",
    "epsilons = [1, 0.5] # [1, 1]\n",
    "mus = [1, 0.5] # [1, 1]\n",
    "\n",
    "func = WFT.Gauss # SquareWave\n",
    "plotCont = True\n",
    "enlarge = False"
   ]
  },
  {
   "cell_type": "code",
   "execution_count": 5,
   "metadata": {},
   "outputs": [],
   "source": [
    "omegaAMR = BT.Grid(nh_min)\n",
    "finehalf = list(np.arange(int(nh_min / refRatio)))# + int(nh / refRatio))\n",
    "omegaAMR.AddPatch(refRatio, finehalf)\n",
    "degFreed = omegaAMR.degFreed\n",
    "nh_max = omegaAMR.nh_max\n",
    "\n",
    "omegaF = BT.Grid(nh_max)\n",
    "omegaC = BT.Grid(nh_min)"
   ]
  },
  {
   "cell_type": "code",
   "execution_count": 6,
   "metadata": {},
   "outputs": [
    {
     "name": "stdout",
     "output_type": "stream",
     "text": [
      "distance is\n",
      " [ 0.5        0.4921875  0.484375   0.4765625  0.46875    0.4609375  0.453125   0.4453125  0.4375     0.4296875  0.421875   0.4140625  0.40625    0.3984375  0.390625   0.3828125  0.375      0.3671875  0.359375   0.3515625  0.34375    0.3359375  0.328125   0.3203125  0.3125     0.3046875  0.296875   0.2890625  0.28125    0.2734375  0.265625   0.2578125  0.25       0.2421875  0.234375   0.2265625  0.21875    0.2109375  0.203125   0.1953125  0.1875     0.1796875  0.171875   0.1640625  0.15625    0.1484375  0.140625   0.1328125  0.125      0.1171875  0.109375   0.1015625  0.09375    0.0859375  0.078125   0.0703125  0.0625     0.0546875  0.046875   0.0390625  0.03125    0.0234375  0.015625   0.0078125  0.        -0.015625  -0.03125   -0.046875  -0.0625    -0.078125  -0.09375   -0.109375  -0.125     -0.140625  -0.15625   -0.171875  -0.1875    -0.203125  -0.21875   -0.234375  -0.25      -0.265625  -0.28125   -0.296875  -0.3125    -0.328125  -0.34375   -0.359375  -0.375     -0.390625  -0.40625   -0.421875  -0.4375    -0.453125  -0.46875   -0.484375  -0.5      ] \n",
      "\n",
      "distance is\n",
      " [1.        0.9921875 0.984375  0.9765625 0.96875   0.9609375 0.953125  0.9453125 0.9375    0.9296875 0.921875  0.9140625 0.90625   0.8984375 0.890625  0.8828125 0.875     0.8671875 0.859375  0.8515625 0.84375   0.8359375 0.828125  0.8203125 0.8125    0.8046875 0.796875  0.7890625 0.78125   0.7734375 0.765625  0.7578125 0.75      0.7421875 0.734375  0.7265625 0.71875   0.7109375 0.703125  0.6953125 0.6875    0.6796875 0.671875  0.6640625 0.65625   0.6484375 0.640625  0.6328125 0.625     0.6171875 0.609375  0.6015625 0.59375   0.5859375 0.578125  0.5703125 0.5625    0.5546875 0.546875  0.5390625 0.53125   0.5234375 0.515625  0.5078125 0.5       0.484375  0.46875   0.453125  0.4375    0.421875  0.40625   0.390625  0.375     0.359375  0.34375   0.328125  0.3125    0.296875  0.28125   0.265625  0.25      0.234375  0.21875   0.203125  0.1875    0.171875  0.15625   0.140625  0.125     0.109375  0.09375   0.078125  0.0625    0.046875  0.03125   0.015625  0.       ] \n",
      "\n",
      "distance is\n",
      " [ 0.5       0.484375  0.46875   0.453125  0.4375    0.421875  0.40625   0.390625  0.375     0.359375  0.34375   0.328125  0.3125    0.296875  0.28125   0.265625  0.25      0.234375  0.21875   0.203125  0.1875    0.171875  0.15625   0.140625  0.125     0.109375  0.09375   0.078125  0.0625    0.046875  0.03125   0.015625  0.       -0.015625 -0.03125  -0.046875 -0.0625   -0.078125 -0.09375  -0.109375 -0.125    -0.140625 -0.15625  -0.171875 -0.1875   -0.203125 -0.21875  -0.234375 -0.25     -0.265625 -0.28125  -0.296875 -0.3125   -0.328125 -0.34375  -0.359375 -0.375    -0.390625 -0.40625  -0.421875 -0.4375   -0.453125 -0.46875  -0.484375 -0.5     ] \n",
      "\n",
      "distance is\n",
      " [1.       0.984375 0.96875  0.953125 0.9375   0.921875 0.90625  0.890625 0.875    0.859375 0.84375  0.828125 0.8125   0.796875 0.78125  0.765625 0.75     0.734375 0.71875  0.703125 0.6875   0.671875 0.65625  0.640625 0.625    0.609375 0.59375  0.578125 0.5625   0.546875 0.53125  0.515625 0.5      0.484375 0.46875  0.453125 0.4375   0.421875 0.40625  0.390625 0.375    0.359375 0.34375  0.328125 0.3125   0.296875 0.28125  0.265625 0.25     0.234375 0.21875  0.203125 0.1875   0.171875 0.15625  0.140625 0.125    0.109375 0.09375  0.078125 0.0625   0.046875 0.03125  0.015625 0.      ] \n",
      "\n",
      "distance is\n",
      " [ 0.5        0.4921875  0.484375   0.4765625  0.46875    0.4609375  0.453125   0.4453125  0.4375     0.4296875  0.421875   0.4140625  0.40625    0.3984375  0.390625   0.3828125  0.375      0.3671875  0.359375   0.3515625  0.34375    0.3359375  0.328125   0.3203125  0.3125     0.3046875  0.296875   0.2890625  0.28125    0.2734375  0.265625   0.2578125  0.25       0.2421875  0.234375   0.2265625  0.21875    0.2109375  0.203125   0.1953125  0.1875     0.1796875  0.171875   0.1640625  0.15625    0.1484375  0.140625   0.1328125  0.125      0.1171875  0.109375   0.1015625  0.09375    0.0859375  0.078125   0.0703125  0.0625     0.0546875  0.046875   0.0390625  0.03125    0.0234375  0.015625   0.0078125  0.        -0.0078125 -0.015625  -0.0234375 -0.03125   -0.0390625 -0.046875  -0.0546875 -0.0625    -0.0703125 -0.078125  -0.0859375 -0.09375   -0.1015625 -0.109375  -0.1171875 -0.125     -0.1328125 -0.140625  -0.1484375 -0.15625   -0.1640625 -0.171875  -0.1796875 -0.1875    -0.1953125 -0.203125  -0.2109375 -0.21875   -0.2265625 -0.234375  -0.2421875 -0.25      -0.2578125 -0.265625  -0.2734375 -0.28125   -0.2890625 -0.296875  -0.3046875 -0.3125    -0.3203125 -0.328125  -0.3359375 -0.34375   -0.3515625 -0.359375  -0.3671875 -0.375     -0.3828125 -0.390625  -0.3984375 -0.40625   -0.4140625 -0.421875  -0.4296875 -0.4375    -0.4453125 -0.453125  -0.4609375 -0.46875   -0.4765625 -0.484375  -0.4921875 -0.5      ] \n",
      "\n",
      "distance is\n",
      " [1.        0.9921875 0.984375  0.9765625 0.96875   0.9609375 0.953125  0.9453125 0.9375    0.9296875 0.921875  0.9140625 0.90625   0.8984375 0.890625  0.8828125 0.875     0.8671875 0.859375  0.8515625 0.84375   0.8359375 0.828125  0.8203125 0.8125    0.8046875 0.796875  0.7890625 0.78125   0.7734375 0.765625  0.7578125 0.75      0.7421875 0.734375  0.7265625 0.71875   0.7109375 0.703125  0.6953125 0.6875    0.6796875 0.671875  0.6640625 0.65625   0.6484375 0.640625  0.6328125 0.625     0.6171875 0.609375  0.6015625 0.59375   0.5859375 0.578125  0.5703125 0.5625    0.5546875 0.546875  0.5390625 0.53125   0.5234375 0.515625  0.5078125 0.5       0.4921875 0.484375  0.4765625 0.46875   0.4609375 0.453125  0.4453125 0.4375    0.4296875 0.421875  0.4140625 0.40625   0.3984375 0.390625  0.3828125 0.375     0.3671875 0.359375  0.3515625 0.34375   0.3359375 0.328125  0.3203125 0.3125    0.3046875 0.296875  0.2890625 0.28125   0.2734375 0.265625  0.2578125 0.25      0.2421875 0.234375  0.2265625 0.21875   0.2109375 0.203125  0.1953125 0.1875    0.1796875 0.171875  0.1640625 0.15625   0.1484375 0.140625  0.1328125 0.125     0.1171875 0.109375  0.1015625 0.09375   0.0859375 0.078125  0.0703125 0.0625    0.0546875 0.046875  0.0390625 0.03125   0.0234375 0.015625  0.0078125 0.       ] \n",
      "\n"
     ]
    }
   ],
   "source": [
    "physicsAMR = BT.PhysProps(omegaAMR, epsilons, mus, locs, L)\n",
    "c = physicsAMR.cVec\n",
    "cMatAMR = physicsAMR.cMat\n",
    "\n",
    "physicsC = BT.PhysProps(omegaC, epsilons, mus, locs, L)\n",
    "cC = physicsC.cVec\n",
    "cMatC = physicsC.cMat\n",
    "\n",
    "physicsF = BT.PhysProps(omegaF, epsilons, mus, locs, L)\n",
    "cF = physicsF.cVec\n",
    "cMatF = physicsF.cMat\n",
    "\n",
    "cVecC = physicsC.cVec\n",
    "c1 = cVecC[0]\n",
    "c2 = cVecC[-1]"
   ]
  },
  {
   "cell_type": "code",
   "execution_count": null,
   "metadata": {},
   "outputs": [],
   "source": [
    "# mu, sigma = WFT.GaussParams(x_0, x_1)\n",
    "mu = 0.25\n",
    "sigma = 1. / 32.\n",
    "args = [mu, sigma]"
   ]
  }
 ],
 "metadata": {
  "kernelspec": {
   "display_name": "Python 3",
   "language": "python",
   "name": "python3"
  },
  "language_info": {
   "codemirror_mode": {
    "name": "ipython",
    "version": 3
   },
   "file_extension": ".py",
   "mimetype": "text/x-python",
   "name": "python",
   "nbconvert_exporter": "python",
   "pygments_lexer": "ipython3",
   "version": "3.7.3"
  }
 },
 "nbformat": 4,
 "nbformat_minor": 2
}
