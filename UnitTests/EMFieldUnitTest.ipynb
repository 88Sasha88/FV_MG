{
 "cells": [
  {
   "cell_type": "markdown",
   "metadata": {},
   "source": [
    "Here, you develop the E+M Runge-Kuttas. (You want to be able to graph two functions at a time. The plotting functions can handle it, but the other functions aren't built for it specifically because your cases are simple enough that the answer for the B field is proportional to the E Field.)"
   ]
  },
  {
   "cell_type": "code",
   "execution_count": 1,
   "metadata": {},
   "outputs": [
    {
     "data": {
      "text/html": [
       "<style>pre { white-space: pre !important; }</style>"
      ],
      "text/plain": [
       "<IPython.core.display.HTML object>"
      ]
     },
     "metadata": {},
     "output_type": "display_data"
    },
    {
     "data": {
      "text/html": [
       "<style>pre { white-space: pre !important; }</style>"
      ],
      "text/plain": [
       "<IPython.core.display.HTML object>"
      ]
     },
     "metadata": {},
     "output_type": "display_data"
    },
    {
     "data": {
      "text/html": [
       "<style>pre { white-space: pre !important; }</style>"
      ],
      "text/plain": [
       "<IPython.core.display.HTML object>"
      ]
     },
     "metadata": {},
     "output_type": "display_data"
    }
   ],
   "source": [
    "import os.path\n",
    "from scipy import *\n",
    "import numpy as np\n",
    "from numpy import *\n",
    "from numpy import linalg as LA\n",
    "from scipy import linalg as LA2\n",
    "import sympy as sympy\n",
    "import sys as sys\n",
    "import time\n",
    "import matplotlib.pyplot as plt\n",
    "import itertools as it\n",
    "from IPython.core.display import HTML\n",
    "\n",
    "\n",
    "sys.path.append('/Users/sashacurcic/SashasDirectory/ANAG/FV_MG/')\n",
    "from Modules import BasicTools as BT\n",
    "from Modules import WaveTools as WT\n",
    "from Modules import PlotTools as PT\n",
    "from Modules import FFTTools as FFTT\n",
    "from Modules import OperatorTools as OT\n",
    "from Modules import GridTransferTools as GTT\n",
    "from Modules import TestTools as TT\n",
    "from Modules import SolverTools as ST\n",
    "from Modules import WaveformTools as WFT\n",
    "\n",
    "display(HTML(\"<style>pre { white-space: pre !important; }</style>\"))\n",
    "np.set_printoptions( linewidth = 10000, threshold = 100000)"
   ]
  },
  {
   "cell_type": "code",
   "execution_count": 2,
   "metadata": {},
   "outputs": [],
   "source": [
    "def Const(omega, x, sigma, mu, deriv, cellAve):\n",
    "    degFreed = omega.degFreed\n",
    "    k = 1\n",
    "    ct = 0\n",
    "    \n",
    "    fact = 2.0 * np.pi * k\n",
    "    u = (1.0 / fact) * (cos(fact * (x[:-1] - ct)) - cos(fact * (x[1:] - ct)))\n",
    "    return u"
   ]
  },
  {
   "cell_type": "code",
   "execution_count": 3,
   "metadata": {},
   "outputs": [],
   "source": [
    "nh_min = 16\n",
    "refRatio = 2\n",
    "CFL = np.sqrt(0.5)\n",
    "nt = 1\n",
    "x_0 = 0.\n",
    "x_1 = 0.5\n",
    "Hans = False\n",
    "\n",
    "deriv = 'U'\n",
    "RK = 1\n",
    "order = 1\n",
    "\n",
    "L = 1\n",
    "locs = [x_1]\n",
    "epsilons = [0.5, 0.5] # [1, 1]\n",
    "mus = [0.5, 0.5] # [1, 1]\n",
    "\n",
    "func = WFT.Gauss"
   ]
  },
  {
   "cell_type": "code",
   "execution_count": 4,
   "metadata": {},
   "outputs": [],
   "source": [
    "if (RK == 1):\n",
    "    TimeIntegratorFunc = ST.ForwardEuler\n",
    "else:\n",
    "    if (RK == 2):\n",
    "        TimeIntegratorFunc = ST.MidpointMeth\n",
    "    else:\n",
    "        TimeIntegratorFunc = ST.RK4\n",
    "\n",
    "if (deriv == 'U'):\n",
    "    # DiffMatFunc = OT.Upwind1D\n",
    "    DiffFunc = TT.Upwind#ST.Upwind\n",
    "else:\n",
    "    # DiffMatFunc = OT.CenterDiff1D\n",
    "    DiffFunc = TT.CenterDiff#ST.CenterDiff"
   ]
  },
  {
   "cell_type": "code",
   "execution_count": 5,
   "metadata": {},
   "outputs": [],
   "source": [
    "def Block(matrica, var = 1):\n",
    "    matricaList = [matrica for k in range(var)]\n",
    "    matrice = block_diag(*matricaList)\n",
    "    return matrice"
   ]
  },
  {
   "cell_type": "code",
   "execution_count": 6,
   "metadata": {},
   "outputs": [],
   "source": [
    "omegaAMR = BT.Grid(nh_min)\n",
    "finehalf = list(np.arange(int(nh_min / refRatio)))# + int(nh / refRatio))\n",
    "omegaAMR.AddPatch(refRatio, finehalf)\n",
    "degFreed = omegaAMR.degFreed\n",
    "nh_max = omegaAMR.nh_max\n",
    "\n",
    "omegaF = BT.Grid(nh_max)\n",
    "omegaC = BT.Grid(nh_min)"
   ]
  },
  {
   "cell_type": "code",
   "execution_count": 7,
   "metadata": {},
   "outputs": [
    {
     "name": "stdout",
     "output_type": "stream",
     "text": [
      "distance is\n",
      " [ 0.5      0.46875  0.4375   0.40625  0.375    0.34375  0.3125   0.28125  0.25     0.21875  0.1875   0.15625  0.125    0.09375  0.0625   0.03125  0.      -0.0625  -0.125   -0.1875  -0.25    -0.3125  -0.375   -0.4375  -0.5    ] \n",
      "\n",
      "distance is\n",
      " [1.      0.96875 0.9375  0.90625 0.875   0.84375 0.8125  0.78125 0.75    0.71875 0.6875  0.65625 0.625   0.59375 0.5625  0.53125 0.5     0.4375  0.375   0.3125  0.25    0.1875  0.125   0.0625  0.     ] \n",
      "\n",
      "distance is\n",
      " [ 0.5     0.4375  0.375   0.3125  0.25    0.1875  0.125   0.0625  0.     -0.0625 -0.125  -0.1875 -0.25   -0.3125 -0.375  -0.4375 -0.5   ] \n",
      "\n",
      "distance is\n",
      " [1.     0.9375 0.875  0.8125 0.75   0.6875 0.625  0.5625 0.5    0.4375 0.375  0.3125 0.25   0.1875 0.125  0.0625 0.    ] \n",
      "\n",
      "distance is\n",
      " [ 0.5      0.46875  0.4375   0.40625  0.375    0.34375  0.3125   0.28125  0.25     0.21875  0.1875   0.15625  0.125    0.09375  0.0625   0.03125  0.      -0.03125 -0.0625  -0.09375 -0.125   -0.15625 -0.1875  -0.21875 -0.25    -0.28125 -0.3125  -0.34375 -0.375   -0.40625 -0.4375  -0.46875 -0.5    ] \n",
      "\n",
      "distance is\n",
      " [1.      0.96875 0.9375  0.90625 0.875   0.84375 0.8125  0.78125 0.75    0.71875 0.6875  0.65625 0.625   0.59375 0.5625  0.53125 0.5     0.46875 0.4375  0.40625 0.375   0.34375 0.3125  0.28125 0.25    0.21875 0.1875  0.15625 0.125   0.09375 0.0625  0.03125 0.     ] \n",
      "\n"
     ]
    }
   ],
   "source": [
    "\n",
    "physicsAMR = BT.PhysProps(omegaAMR, epsilons, mus, locs, L)\n",
    "c = physicsAMR.cVec\n",
    "cMatAMR = physicsAMR.cMat\n",
    "\n",
    "physicsC = BT.PhysProps(omegaC, epsilons, mus, locs, L)\n",
    "cC = physicsC.cVec\n",
    "cMatC = physicsC.cMat\n",
    "\n",
    "physicsF = BT.PhysProps(omegaF, epsilons, mus, locs, L)\n",
    "cF = physicsF.cVec\n",
    "cMatF = physicsF.cMat"
   ]
  },
  {
   "cell_type": "code",
   "execution_count": 8,
   "metadata": {},
   "outputs": [],
   "source": [
    "def ExpandMat(mat):\n",
    "    errorLoc = 'ERROR:\\nOperatorTools:\\nExpandMat:\\n' # Don't know where we're putting this yet.\n",
    "    errorMess = ''\n",
    "    shape = np.shape(mat)\n",
    "    if (len(shape) != 2):\n",
    "        errorMess = 'mat must be a rank-2 matrix!'\n",
    "    \n",
    "    else:\n",
    "        if (shape[0] != shape[1]):\n",
    "            errorMess = 'mat must be a square matrix!'\n",
    "    if (errorMess != ''):\n",
    "        sys.exit(errorLoc + errorMess)\n",
    "    \n",
    "    size_min = shape[0]\n",
    "    size_max = 2 * size_min\n",
    "    newMat = np.zeros((size_max, size_max), int)\n",
    "    newMat[0:size_max:2, 0:size_max:2] = mat\n",
    "    newMat[1:size_max + 1:2, 1:size_max + 1:2] = mat\n",
    "    return newMat"
   ]
  },
  {
   "cell_type": "markdown",
   "metadata": {},
   "source": [
    "If  \n",
    "$v_{j}^{s} = \\frac{E_{j}^{s} - c B_{j}^{s}} {2 c}$  \n",
    "and  \n",
    "$v_{n + j}^{s} = \\frac{E_{j}^{s} + c B_{j}^{s}}{2 c}$  \n",
    "and  \n",
    "$B_{j}^{0} = \\frac{E_{j}^{0}}{c}$,  \n",
    "then  \n",
    "$c \\Delta t \\frac{\\partial v_{j}^{0}}{\\partial x} = 0$  \n",
    "and  \n",
    "$c \\Delta t \\frac{\\partial v_{n + j}^{0}}{\\partial x} = \\frac{\\sigma_{CFL}}{c} (E_{j}^{0} - E_{j - 1}^{0})$.  \n",
    "  \n",
    "If  \n",
    "$v_{j}^{1} = v_{j}^{0} + c \\Delta t \\frac{\\partial v_{j}^{0}}{\\partial x}$  \n",
    "and  \n",
    "$v_{n + j}^{1} = v_{n + j}^{0} - c \\Delta t \\frac{\\partial v_{n + j}^{0}}{\\partial x}$,  \n",
    "then  \n",
    "$v_{j}^{1} = 0$  \n",
    "and  \n",
    "$v_{n + j}^{1} = \\frac{1}{c} [(1 - \\sigma_{CFL}) E_{j}^{0} + \\sigma_{CFL} E_{j - 1}^{0}]$. \n",
    "  \n",
    "If  \n",
    "$E_{j}^{s} = c (v_{j}^{s} + v_{n + j}^{s})$  \n",
    "and  \n",
    "$B_{j}^{s} = v_{n + j}^{s} - v_{j}^{s}$,  \n",
    "then  \n",
    "$E_{j}^{1} = E_{j}^{0} - \\sigma_{CFL} (E_{j}^{0} - E_{j - 1}^{0})$  \n",
    "and  \n",
    "$B_{j}^{1} = \\frac{1}{c} [E_{j}^{0} - \\sigma_{CFL} (E_{j}^{0} - E_{j - 1}^{0})] = B_{j}^{0} - \\sigma_{CFL} (B_{j}^{0} - B_{j - 1}^{0})$.  \n"
   ]
  },
  {
   "cell_type": "code",
   "execution_count": 9,
   "metadata": {},
   "outputs": [],
   "source": [
    "def Check(omega, physics, CFL, u0stack, v_i, v_f, u_f, op):\n",
    "    \n",
    "    degFreed = omega.degFreed\n",
    "    nh_min = omega.nh_min\n",
    "    c = physics.cVec[0]\n",
    "    cMat = physics.cMat\n",
    "    roundFact = 15\n",
    "    \n",
    "    I = np.eye(degFreed)\n",
    "    dx, dt = ST.FindDxDt(omega, CFL, cMat)\n",
    "    print('')\n",
    "    print('')\n",
    "    print('After 1 Forward Euler timestep on a uniform grid:')\n",
    "    print('')\n",
    "    print('The derivative of v should be')\n",
    "    uShiftM = np.roll(u0stack, 1)\n",
    "    uShiftP = np.roll(u0stack, -1)\n",
    "    alpha_min = (1. - c) / (2 * c)\n",
    "    alpha_plu = (1. + c) / (2 * c)\n",
    "    derivShould1 = np.zeros(degFreed, float)\n",
    "    derivShould2 = CFL * (uShiftM - u0stack) # The factor of c is already embedded within u0stack!!!\n",
    "    derivShould = np.round(np.asarray(np.append(derivShould1[:degFreed], derivShould2[degFreed:])), roundFact)\n",
    "    print(derivShould)\n",
    "    print('In actuality, it is')\n",
    "    derivres = np.round(dt * op @ v_i, roundFact)\n",
    "    print(derivres)\n",
    "    print('This is off by a factor of')\n",
    "    r1 = np.round([derivShould[i] / derivres[i] for i in range(len(derivres))], 12)\n",
    "    r1[derivShould == derivres] = 1\n",
    "    print(r1)\n",
    "    indices1 = np.where(r1 != 1)\n",
    "    print('Indices:', indices1[0])\n",
    "    print('Factors:', r1[indices1[0]])\n",
    "    print('')\n",
    "    print('v itself should be')\n",
    "    shouldbe1 = np.zeros(degFreed, float) # alpha_min * (((1. - CFL) * u0stack) + (CFL * uShiftP))\n",
    "    shouldbe2 = ((1. - CFL) * u0stack) + (CFL * uShiftM) # The factor of c is already embedded within u0stack!!!\n",
    "    shouldbe = np.round(np.asarray(np.append(shouldbe1[:degFreed], shouldbe2[degFreed:])), roundFact)\n",
    "    print(shouldbe)\n",
    "    print('In actuality, it is')\n",
    "    v_f1 = np.round(v_f, roundFact)\n",
    "    print(v_f1)\n",
    "    print('This is off by a factor of')\n",
    "    r = np.round([shouldbe[i] / v_f1[i] for i in range(len(v_f))], roundFact)\n",
    "    r[shouldbe == v_f1] = 1\n",
    "    print(r)\n",
    "    indices = np.where(r != 1)\n",
    "    print('Indices:', indices[0])\n",
    "    print('Factors:', r[indices[0]])\n",
    "    print('')\n",
    "    print('u should be')\n",
    "    u1 = ((1. - CFL) * u0stack) + (CFL * uShiftM) # The factor of c is already embedded within u0stack!!!\n",
    "\n",
    "    u = np.round(u1, roundFact)\n",
    "    print(u)\n",
    "    print('In actuality, it is')\n",
    "    u_f1 = np.round(u_f, roundFact)\n",
    "    print(u_f1)\n",
    "    print('This is off by a factor of')\n",
    "    r2 = np.round([u[i] / u_f1[i] for i in range(len(u_f))], roundFact)\n",
    "    r2[u == u_f1] = 1\n",
    "    print(r2)\n",
    "    indices2 = np.where(r2 != 1)\n",
    "    print('Indices:', indices2[0])\n",
    "    print('Factors:', r2[indices2[0]])\n",
    "    return"
   ]
  },
  {
   "cell_type": "code",
   "execution_count": 10,
   "metadata": {},
   "outputs": [],
   "source": [
    "# THIS IS FOR IF YOU DON'T DIVIDE B BY C!!!!!!!!!!\n",
    "\n",
    "# def Check(omega, physics, CFL, u0stack, v_i, v_f, u_f, op):\n",
    "    \n",
    "#     degFreed = omega.degFreed\n",
    "#     nh_min = omega.nh_min\n",
    "#     c = physics.cVec[0]\n",
    "#     cMat = physics.cMat\n",
    "#     roundFact = 15\n",
    "    \n",
    "#     I = np.eye(degFreed)\n",
    "#     dx, dt = ST.FindDxDt(omega, CFL, cMat)\n",
    "#     print('')\n",
    "#     print('')\n",
    "#     print('After 1 Forward Euler timestep on a uniform grid:')\n",
    "#     print('')\n",
    "#     print('The derivative of v should be')\n",
    "#     uShiftM = np.roll(u0stack, 1)\n",
    "#     uShiftP = np.roll(u0stack, -1)\n",
    "#     alpha_min = (1. - c) / (2 * c)\n",
    "#     alpha_plu = (1. + c) / (2 * c)\n",
    "#     derivShould1 = alpha_min * CFL * (uShiftP - u0stack)\n",
    "#     derivShould2 = -alpha_plu * CFL * (u0stack - uShiftM)\n",
    "#     derivShould = np.round(np.asarray(np.append(derivShould1[:degFreed], derivShould2[degFreed:])), roundFact)\n",
    "#     print(derivShould)\n",
    "#     print('In actuality, it is')\n",
    "#     derivres = np.round(dt * op @ v_i, roundFact)\n",
    "#     print(derivres)\n",
    "#     print('This is off by a factor of')\n",
    "#     r1 = np.round([derivShould[i] / derivres[i] for i in range(len(derivres))], 12)\n",
    "#     r1[derivShould == derivres] = 1\n",
    "#     print(r1)\n",
    "#     indices1 = np.where(r1 != 1)\n",
    "#     print('Indices:', indices1[0])\n",
    "#     print('Factors:', r1[indices1[0]])\n",
    "#     print('')\n",
    "#     print('v itself should be')\n",
    "#     shouldbe1 = alpha_min * (((1. - CFL) * u0stack) + (CFL * uShiftP))\n",
    "#     shouldbe2 = alpha_plu * (((1. - CFL) * u0stack) + (CFL * uShiftM))\n",
    "#     shouldbe = np.round(np.asarray(np.append(shouldbe1[:degFreed], shouldbe2[degFreed:])), roundFact)\n",
    "#     print(shouldbe)\n",
    "#     print('In actuality, it is')\n",
    "#     v_f1 = np.round(v_f, roundFact)\n",
    "#     print(v_f1)\n",
    "#     print('This is off by a factor of')\n",
    "#     r = np.round([shouldbe[i] / v_f1[i] for i in range(len(v_f))], roundFact)\n",
    "#     r[shouldbe == v_f1] = 1\n",
    "#     print(r)\n",
    "#     indices = np.where(r != 1)\n",
    "#     print('Indices:', indices[0])\n",
    "#     print('Factors:', r[indices[0]])\n",
    "#     print('')\n",
    "#     print('u should be')\n",
    "#     u1 = ((1. - CFL) * u0stack) + ((CFL / 2) * (((1 + c) * uShiftM) + ((1 - c) * uShiftP)))\n",
    "#     u2 = ((1. - CFL) * u0stack) + ((CFL / (2 * c)) * (((1 + c) * uShiftM) - ((1 - c) * uShiftP)))\n",
    "# #     for i in range(nt):\n",
    "# #         u1 = ST.RungeKutta(omega, physics, I, u0stack[:degFreed], 1, CFL, RK, op = -op[:degFreed, :degFreed])\n",
    "# #         u2 = ST.RungeKutta(omega, physics, I, u0stack[degFreed:], 1, CFL, RK, op = -op[:degFreed, :degFreed])\n",
    "#     u = np.round(np.asarray(np.append(u1[:degFreed], u2[degFreed:])), roundFact)\n",
    "#     print(u)\n",
    "#     print('In actuality, it is')\n",
    "#     u_f1 = np.round(u_f, roundFact)\n",
    "#     print(u_f1)\n",
    "#     print('This is off by a factor of')\n",
    "#     r2 = np.round([u[i] / u_f1[i] for i in range(len(u_f))], roundFact)\n",
    "#     r2[u == u_f1] = 1\n",
    "#     print(r2)\n",
    "#     indices2 = np.where(r2 != 1)\n",
    "#     print('Indices:', indices2[0])\n",
    "#     print('Factors:', r2[indices2[0]])\n",
    "#     return"
   ]
  },
  {
   "cell_type": "code",
   "execution_count": 11,
   "metadata": {},
   "outputs": [],
   "source": [
    "# Creates anti-block-diagonal matrix \n",
    "def ConvertOp(omega, physics):\n",
    "    degFreed = omega.degFreed\n",
    "    cMat = physics.cMat\n",
    "    cVec = physics.cVec\n",
    "    c = cVec[0]\n",
    "    cVecs = np.asarray(np.append(cVec, -cVec))\n",
    "    \n",
    "    # eigVals = #[item for sublist in zip(cVec, -cVec) for item in sublist]\n",
    "    I = np.eye(degFreed)\n",
    "    normConst = 1. #  / np.sqrt(c**2 + 1)\n",
    "    op = normConst * np.asarray(np.block([[cMat, cMat], [-I, I]]))\n",
    "    diagMat = np.diag(cVecs)\n",
    "    return op, diagMat"
   ]
  },
  {
   "cell_type": "code",
   "execution_count": 12,
   "metadata": {},
   "outputs": [],
   "source": [
    "def WaveEqRK(omega, physics, waves, u0, nt, CFL, RK, derivOp, left = True):\n",
    "    # Unpack requisite attributes.\n",
    "    degFreed = omega.degFreed\n",
    "    cMat = physics.cMat\n",
    "    c = cMat[0, 0]\n",
    "    l = omega.levels\n",
    "    \n",
    "    # Stack the initial condition.\n",
    "    u0stack = np.asarray(np.append(u0, u0 / c)) # I'm not sure how to relate the initial condition for the E and B fields.\n",
    "    \n",
    "    # Create change of basis matrix.\n",
    "    convertOp, diagMat = ConvertOp(omega, physics)\n",
    "    convertOpinv = LA.inv(convertOp)\n",
    "    \n",
    "    # Change basis of initial condtion.\n",
    "    v = np.asarray(convertOpinv @ u0stack)\n",
    "    v_i = v.copy()\n",
    "    \n",
    "    # Turn difference matrix into block diagonal.\n",
    "    # THIS IS SCOTCH TAPE.\n",
    "    derivMat = OT.Block([-derivOp.transpose(), derivOp]) # ExpandMat(derivOp)\n",
    "    \n",
    "    # Create identity matrix to appease the current structure of my RK function.\n",
    "    I = np.eye(2 * degFreed)\n",
    "    \n",
    "    # Turn Fourier matrix into block diagonal.\n",
    "    wavesMat = OT.Block(waves, var = 2)\n",
    "    \n",
    "    # Create operator to pass into RK function.\n",
    "    op = diagMat @ derivMat\n",
    "\n",
    "    for i in range(nt):\n",
    "        v = ST.RungeKutta(omega, physics, I, v, 1, CFL, RK, op = op)\n",
    "    \n",
    "    # Convert v back to space-space.\n",
    "    u = convertOp @ v\n",
    "\n",
    "    # Convert u to k space.\n",
    "    fCoefs = LA.inv(wavesMat) @ u\n",
    "    \n",
    "    # Run check.\n",
    "    if ((nt == 1) and (RK == 1) and (l == 0)):\n",
    "        Check(omega, physics, CFL, u0stack, v_i, v, u, op)\n",
    "    \n",
    "    return fCoefs, v"
   ]
  },
  {
   "cell_type": "code",
   "execution_count": null,
   "metadata": {},
   "outputs": [],
   "source": []
  },
  {
   "cell_type": "code",
   "execution_count": 13,
   "metadata": {},
   "outputs": [
    {
     "name": "stdout",
     "output_type": "stream",
     "text": [
      "[[ 0.25  0.    0.    0.    0.    0.    0.    0.    0.    0.    0.    0.    0.    0.    0.    0.   -0.5   0.    0.    0.    0.    0.    0.    0.    0.    0.    0.    0.    0.    0.    0.    0.  ]\n",
      " [ 0.    0.25  0.    0.    0.    0.    0.    0.    0.    0.    0.    0.    0.    0.    0.    0.    0.   -0.5   0.    0.    0.    0.    0.    0.    0.    0.    0.    0.    0.    0.    0.    0.  ]\n",
      " [ 0.    0.    0.25  0.    0.    0.    0.    0.    0.    0.    0.    0.    0.    0.    0.    0.    0.    0.   -0.5   0.    0.    0.    0.    0.    0.    0.    0.    0.    0.    0.    0.    0.  ]\n",
      " [ 0.    0.    0.    0.25  0.    0.    0.    0.    0.    0.    0.    0.    0.    0.    0.    0.    0.    0.    0.   -0.5   0.    0.    0.    0.    0.    0.    0.    0.    0.    0.    0.    0.  ]\n",
      " [ 0.    0.    0.    0.    0.25  0.    0.    0.    0.    0.    0.    0.    0.    0.    0.    0.    0.    0.    0.    0.   -0.5   0.    0.    0.    0.    0.    0.    0.    0.    0.    0.    0.  ]\n",
      " [ 0.    0.    0.    0.    0.    0.25  0.    0.    0.    0.    0.    0.    0.    0.    0.    0.    0.    0.    0.    0.    0.   -0.5   0.    0.    0.    0.    0.    0.    0.    0.    0.    0.  ]\n",
      " [ 0.    0.    0.    0.    0.    0.    0.25  0.    0.    0.    0.    0.    0.    0.    0.    0.    0.    0.    0.    0.    0.    0.   -0.5   0.    0.    0.    0.    0.    0.    0.    0.    0.  ]\n",
      " [ 0.    0.    0.    0.    0.    0.    0.    0.25  0.    0.    0.    0.    0.    0.    0.    0.    0.    0.    0.    0.    0.    0.    0.   -0.5   0.    0.    0.    0.    0.    0.    0.    0.  ]\n",
      " [ 0.    0.    0.    0.    0.    0.    0.    0.    0.25  0.    0.    0.    0.    0.    0.    0.    0.    0.    0.    0.    0.    0.    0.    0.   -0.5   0.    0.    0.    0.    0.    0.    0.  ]\n",
      " [ 0.    0.    0.    0.    0.    0.    0.    0.    0.    0.25  0.    0.    0.    0.    0.    0.    0.    0.    0.    0.    0.    0.    0.    0.    0.   -0.5   0.    0.    0.    0.    0.    0.  ]\n",
      " [ 0.    0.    0.    0.    0.    0.    0.    0.    0.    0.    0.25  0.    0.    0.    0.    0.    0.    0.    0.    0.    0.    0.    0.    0.    0.    0.   -0.5   0.    0.    0.    0.    0.  ]\n",
      " [ 0.    0.    0.    0.    0.    0.    0.    0.    0.    0.    0.    0.25  0.    0.    0.    0.    0.    0.    0.    0.    0.    0.    0.    0.    0.    0.    0.   -0.5   0.    0.    0.    0.  ]\n",
      " [ 0.    0.    0.    0.    0.    0.    0.    0.    0.    0.    0.    0.    0.25  0.    0.    0.    0.    0.    0.    0.    0.    0.    0.    0.    0.    0.    0.    0.   -0.5   0.    0.    0.  ]\n",
      " [ 0.    0.    0.    0.    0.    0.    0.    0.    0.    0.    0.    0.    0.    0.25  0.    0.    0.    0.    0.    0.    0.    0.    0.    0.    0.    0.    0.    0.    0.   -0.5   0.    0.  ]\n",
      " [ 0.    0.    0.    0.    0.    0.    0.    0.    0.    0.    0.    0.    0.    0.    0.25  0.    0.    0.    0.    0.    0.    0.    0.    0.    0.    0.    0.    0.    0.    0.   -0.5   0.  ]\n",
      " [ 0.    0.    0.    0.    0.    0.    0.    0.    0.    0.    0.    0.    0.    0.    0.    0.25  0.    0.    0.    0.    0.    0.    0.    0.    0.    0.    0.    0.    0.    0.    0.   -0.5 ]\n",
      " [ 0.25  0.    0.    0.    0.    0.    0.    0.    0.    0.    0.    0.    0.    0.    0.    0.    0.5   0.    0.    0.    0.    0.    0.    0.    0.    0.    0.    0.    0.    0.    0.    0.  ]\n",
      " [ 0.    0.25  0.    0.    0.    0.    0.    0.    0.    0.    0.    0.    0.    0.    0.    0.    0.    0.5   0.    0.    0.    0.    0.    0.    0.    0.    0.    0.    0.    0.    0.    0.  ]\n",
      " [ 0.    0.    0.25  0.    0.    0.    0.    0.    0.    0.    0.    0.    0.    0.    0.    0.    0.    0.    0.5   0.    0.    0.    0.    0.    0.    0.    0.    0.    0.    0.    0.    0.  ]\n",
      " [ 0.    0.    0.    0.25  0.    0.    0.    0.    0.    0.    0.    0.    0.    0.    0.    0.    0.    0.    0.    0.5   0.    0.    0.    0.    0.    0.    0.    0.    0.    0.    0.    0.  ]\n",
      " [ 0.    0.    0.    0.    0.25  0.    0.    0.    0.    0.    0.    0.    0.    0.    0.    0.    0.    0.    0.    0.    0.5   0.    0.    0.    0.    0.    0.    0.    0.    0.    0.    0.  ]\n",
      " [ 0.    0.    0.    0.    0.    0.25  0.    0.    0.    0.    0.    0.    0.    0.    0.    0.    0.    0.    0.    0.    0.    0.5   0.    0.    0.    0.    0.    0.    0.    0.    0.    0.  ]\n",
      " [ 0.    0.    0.    0.    0.    0.    0.25  0.    0.    0.    0.    0.    0.    0.    0.    0.    0.    0.    0.    0.    0.    0.    0.5   0.    0.    0.    0.    0.    0.    0.    0.    0.  ]\n",
      " [ 0.    0.    0.    0.    0.    0.    0.    0.25  0.    0.    0.    0.    0.    0.    0.    0.    0.    0.    0.    0.    0.    0.    0.    0.5   0.    0.    0.    0.    0.    0.    0.    0.  ]\n",
      " [ 0.    0.    0.    0.    0.    0.    0.    0.    0.25  0.    0.    0.    0.    0.    0.    0.    0.    0.    0.    0.    0.    0.    0.    0.    0.5   0.    0.    0.    0.    0.    0.    0.  ]\n",
      " [ 0.    0.    0.    0.    0.    0.    0.    0.    0.    0.25  0.    0.    0.    0.    0.    0.    0.    0.    0.    0.    0.    0.    0.    0.    0.    0.5   0.    0.    0.    0.    0.    0.  ]\n",
      " [ 0.    0.    0.    0.    0.    0.    0.    0.    0.    0.    0.25  0.    0.    0.    0.    0.    0.    0.    0.    0.    0.    0.    0.    0.    0.    0.    0.5   0.    0.    0.    0.    0.  ]\n",
      " [ 0.    0.    0.    0.    0.    0.    0.    0.    0.    0.    0.    0.25  0.    0.    0.    0.    0.    0.    0.    0.    0.    0.    0.    0.    0.    0.    0.    0.5   0.    0.    0.    0.  ]\n",
      " [ 0.    0.    0.    0.    0.    0.    0.    0.    0.    0.    0.    0.    0.25  0.    0.    0.    0.    0.    0.    0.    0.    0.    0.    0.    0.    0.    0.    0.    0.5   0.    0.    0.  ]\n",
      " [ 0.    0.    0.    0.    0.    0.    0.    0.    0.    0.    0.    0.    0.    0.25  0.    0.    0.    0.    0.    0.    0.    0.    0.    0.    0.    0.    0.    0.    0.    0.5   0.    0.  ]\n",
      " [ 0.    0.    0.    0.    0.    0.    0.    0.    0.    0.    0.    0.    0.    0.    0.25  0.    0.    0.    0.    0.    0.    0.    0.    0.    0.    0.    0.    0.    0.    0.    0.5   0.  ]\n",
      " [ 0.    0.    0.    0.    0.    0.    0.    0.    0.    0.    0.    0.    0.    0.    0.    0.25  0.    0.    0.    0.    0.    0.    0.    0.    0.    0.    0.    0.    0.    0.    0.    0.5 ]]\n"
     ]
    }
   ],
   "source": [
    "op, diagMat = ConvertOp(omegaC, physicsC)\n",
    "\n",
    "# print(op)\n",
    "print(LA.inv(op))"
   ]
  },
  {
   "cell_type": "code",
   "execution_count": 14,
   "metadata": {},
   "outputs": [
    {
     "name": "stdout",
     "output_type": "stream",
     "text": [
      "0.011048543456039806\n",
      "sig: 0.25 mu: 0.03113530673812129\n",
      "You are using ExactSpatOp in TestTools module!\n",
      "(32, 32)\n",
      "(32, 32)\n",
      "You are using ExactSpatOp in TestTools module!\n"
     ]
    }
   ],
   "source": [
    "# c = ConvertParams(permitivity, permeability, L)\n",
    "t, nt = ST.CalcTime(omegaAMR, CFL, cMatAMR, nt = nt)\n",
    "print(t)\n",
    "mu, sigma = WFT.GaussParams(x_0, x_1)\n",
    "args = [mu, sigma]\n",
    "wavesAMR = WT.MakeWaves(omegaAMR)\n",
    "nullspace = OT.FindNullspace(omegaAMR, wavesAMR, Hans = Hans)\n",
    "restrictOp = GTT.CoarsenOp(omegaAMR)\n",
    "print('sig:', sigma, 'mu:', mu)\n",
    "\n",
    "wavesF = WT.MakeWaves(omegaF)\n",
    "wavesC = WT.MakeWaves(omegaC)\n",
    "\n",
    "derivMat = TT.ExactSpatOp(omegaAMR)\n",
    "print(np.shape(cMatF))\n",
    "print(np.shape(derivMat))\n",
    "spatOp = -cMatF @ derivMat\n",
    "timePropOp = LA2.expm(t * spatOp)\n",
    "\n",
    "derivMatC = TT.ExactSpatOp(omegaC)\n",
    "spatOpC = -cMatC @ derivMatC\n",
    "timePropOpC = LA2.expm(t * spatOpC)\n"
   ]
  },
  {
   "cell_type": "code",
   "execution_count": 15,
   "metadata": {},
   "outputs": [],
   "source": [
    "# wavesAMR = OT.Block(wavesAMR, var = 2)\n",
    "# nullspace = OT.Block(nullspace, var = 2)\n",
    "# restrictOp = OT.Block(restrictOp, var = 2)\n",
    "# wavesC = OT.Block(wavesC, var = 2)\n",
    "# wavesF = OT.Block(wavesF, var = 2)\n",
    "\n",
    "opC = OT.SpaceDeriv(omegaC, order, deriv)#-cMatC @ OT.SpaceDeriv(omegaC, order, diff)\n",
    "opF = OT.SpaceDeriv(omegaF, order, deriv)#-cMatF @ OT.SpaceDeriv(omegaF, order, diff)\n",
    "opAMR = OT.SpaceDeriv(omegaAMR, order, deriv)#-cMatAMR @ OT.SpaceDeriv(omegaAMR, order, diff)"
   ]
  },
  {
   "cell_type": "code",
   "execution_count": 16,
   "metadata": {},
   "outputs": [
    {
     "name": "stdout",
     "output_type": "stream",
     "text": [
      "\n",
      "\n",
      "After 1 Forward Euler timestep on a uniform grid:\n",
      "\n",
      "The derivative of v should be\n",
      "[ 0.          0.          0.          0.          0.          0.          0.          0.          0.          0.          0.          0.          0.          0.          0.          0.         -0.         -0.00001314 -0.00984329 -0.20101758  0.          0.20101758  0.00984329  0.00001314  0.          0.         -0.         -0.         -0.          0.          0.          0.        ]\n",
      "In actuality, it is\n",
      "[ 0.          0.          0.          0.          0.          0.          0.          0.          0.          0.          0.          0.          0.          0.          0.          0.         -0.         -0.00001314 -0.00984329 -0.20101758  0.          0.20101758  0.00984329  0.00001314  0.          0.         -0.         -0.         -0.          0.          0.          0.        ]\n",
      "This is off by a factor of\n",
      "[1. 1. 1. 1. 1. 1. 1. 1. 1. 1. 1. 1. 1. 1. 1. 1. 1. 1. 1. 1. 1. 1. 1. 1. 1. 1. 1. 1. 1. 1. 1. 1.]\n",
      "Indices: []\n",
      "Factors: []\n",
      "\n",
      "v itself should be\n",
      "[ 0.          0.          0.          0.          0.          0.          0.          0.          0.          0.          0.          0.          0.          0.          0.          0.          0.          0.00000544  0.0040958   0.09720331  0.29822088  0.21495668  0.00986187  0.00001314  0.          0.         -0.          0.          0.          0.          0.          0.        ]\n",
      "In actuality, it is\n",
      "[ 0.          0.          0.          0.          0.          0.          0.          0.          0.          0.          0.          0.          0.          0.          0.          0.          0.          0.00000544  0.0040958   0.09720331  0.29822088  0.21495668  0.00986187  0.00001314  0.          0.         -0.          0.          0.          0.          0.          0.        ]\n",
      "This is off by a factor of\n",
      "[1. 1. 1. 1. 1. 1. 1. 1. 1. 1. 1. 1. 1. 1. 1. 1. 1. 1. 1. 1. 1. 1. 1. 1. 1. 1. 1. 1. 1. 1. 1. 1.]\n",
      "Indices: []\n",
      "Factors: []\n",
      "\n",
      "u should be\n",
      "[ 0.          0.00001088  0.00819161  0.19440661  0.59644177  0.42991335  0.01972375  0.00002627  0.          0.         -0.          0.          0.          0.          0.          0.          0.          0.00000544  0.0040958   0.09720331  0.29822088  0.21495668  0.00986187  0.00001314  0.          0.         -0.          0.          0.          0.          0.          0.        ]\n",
      "In actuality, it is\n",
      "[ 0.          0.00001088  0.00819161  0.19440661  0.59644177  0.42991335  0.01972375  0.00002627  0.          0.         -0.          0.          0.          0.          0.          0.          0.          0.00000544  0.0040958   0.09720331  0.29822088  0.21495668  0.00986187  0.00001314  0.          0.         -0.          0.          0.          0.          0.          0.        ]\n",
      "This is off by a factor of\n",
      "[1. 1. 1. 1. 1. 1. 1. 1. 1. 1. 1. 1. 1. 1. 1. 1. 1. 1. 1. 1. 1. 1. 1. 1. 1. 1. 1. 1. 1. 1. 1. 1.]\n",
      "Indices: []\n",
      "Factors: []\n",
      "\n",
      "\n",
      "After 1 Forward Euler timestep on a uniform grid:\n",
      "\n",
      "The derivative of v should be\n",
      "[ 0.          0.          0.          0.          0.          0.          0.          0.          0.          0.          0.          0.          0.          0.          0.          0.          0.          0.          0.          0.          0.          0.          0.          0.          0.          0.          0.          0.          0.          0.          0.          0.         -0.         -0.         -0.00000023 -0.00002581 -0.00109707 -0.01746663 -0.10097404 -0.18262044  0.          0.18262044  0.10097404  0.01746663  0.00109707  0.00002581  0.00000023  0.          0.          0.          0.         -0.          0.          0.         -0.         -0.          0.          0.         -0.         -0.          0.         -0.          0.          0.        ]\n",
      "In actuality, it is\n",
      "[ 0.          0.          0.          0.          0.          0.          0.          0.          0.          0.          0.          0.          0.          0.          0.          0.          0.          0.          0.          0.          0.          0.          0.          0.          0.          0.          0.          0.          0.          0.          0.          0.         -0.         -0.         -0.00000023 -0.00002581 -0.00109707 -0.01746663 -0.10097404 -0.18262044  0.          0.18262044  0.10097404  0.01746663  0.00109707  0.00002581  0.00000023  0.          0.          0.          0.         -0.          0.          0.         -0.         -0.          0.          0.         -0.         -0.          0.         -0.          0.          0.        ]\n",
      "This is off by a factor of\n",
      "[1. 1. 1. 1. 1. 1. 1. 1. 1. 1. 1. 1. 1. 1. 1. 1. 1. 1. 1. 1. 1. 1. 1. 1. 1. 1. 1. 1. 1. 1. 1. 1. 1. 1. 1. 1. 1. 1. 1. 1. 1. 1. 1. 1. 1. 1. 1. 1. 1. 1. 1. 1. 1. 1. 1. 1. 1. 1. 1. 1. 1. 1. 1. 1.]\n",
      "Indices: []\n",
      "Factors: []\n",
      "\n",
      "v itself should be\n",
      "[ 0.          0.          0.          0.          0.          0.          0.          0.          0.          0.          0.          0.          0.          0.          0.          0.          0.          0.          0.          0.          0.          0.          0.          0.          0.          0.          0.          0.          0.          0.          0.          0.          0.          0.          0.0000001   0.00001102  0.00049125  0.00882324  0.06811469  0.24473259  0.42735304  0.35170917  0.12726391  0.01905496  0.0011339   0.00002614  0.00000023  0.          0.          0.          0.         -0.          0.         -0.         -0.          0.          0.         -0.         -0.          0.          0.          0.          0.         -0.        ]\n",
      "In actuality, it is\n",
      "[ 0.          0.          0.          0.          0.          0.          0.          0.          0.          0.          0.          0.          0.          0.          0.          0.          0.          0.          0.          0.          0.          0.          0.          0.          0.          0.          0.          0.          0.          0.          0.          0.          0.          0.          0.0000001   0.00001102  0.00049125  0.00882324  0.06811469  0.24473259  0.42735304  0.35170917  0.12726391  0.01905496  0.0011339   0.00002614  0.00000023  0.          0.          0.          0.         -0.          0.         -0.         -0.          0.          0.         -0.         -0.          0.          0.          0.          0.         -0.        ]\n",
      "This is off by a factor of\n",
      "[1. 1. 1. 1. 1. 1. 1. 1. 1. 1. 1. 1. 1. 1. 1. 1. 1. 1. 1. 1. 1. 1. 1. 1. 1. 1. 1. 1. 1. 1. 1. 1. 1. 1. 1. 1. 1. 1. 1. 1. 1. 1. 1. 1. 1. 1. 1. 1. 1. 1. 1. 1. 1. 1. 1. 1. 1. 1. 1. 1. 1. 1. 1. 1.]\n",
      "Indices: []\n",
      "Factors: []\n",
      "\n",
      "u should be\n",
      "[ 0.          0.          0.00000019  0.00002203  0.00098251  0.01764648  0.13622938  0.48946519  0.85470607  0.70341834  0.25452783  0.03810991  0.00226781  0.00005228  0.00000046  0.          0.          0.          0.         -0.          0.         -0.         -0.          0.          0.         -0.         -0.          0.          0.          0.          0.         -0.          0.          0.          0.0000001   0.00001102  0.00049125  0.00882324  0.06811469  0.24473259  0.42735304  0.35170917  0.12726391  0.01905496  0.0011339   0.00002614  0.00000023  0.          0.          0.          0.         -0.          0.         -0.         -0.          0.          0.         -0.         -0.          0.          0.          0.          0.         -0.        ]\n",
      "In actuality, it is\n",
      "[ 0.          0.          0.00000019  0.00002203  0.00098251  0.01764648  0.13622938  0.48946519  0.85470607  0.70341834  0.25452783  0.03810991  0.00226781  0.00005228  0.00000046  0.          0.          0.          0.         -0.          0.         -0.         -0.          0.          0.         -0.         -0.          0.          0.          0.          0.         -0.          0.          0.          0.0000001   0.00001102  0.00049125  0.00882324  0.06811469  0.24473259  0.42735304  0.35170917  0.12726391  0.01905496  0.0011339   0.00002614  0.00000023  0.          0.          0.          0.         -0.          0.         -0.         -0.          0.          0.         -0.         -0.          0.          0.          0.          0.         -0.        ]\n",
      "This is off by a factor of\n",
      "[1. 1. 1. 1. 1. 1. 1. 1. 1. 1. 1. 1. 1. 1. 1. 1. 1. 1. 1. 1. 1. 1. 1. 1. 1. 1. 1. 1. 1. 1. 1. 1. 1. 1. 1. 1. 1. 1. 1. 1. 1. 1. 1. 1. 1. 1. 1. 1. 1. 1. 1. 1. 1. 1. 1. 1. 1. 1. 1. 1. 1. 1. 1. 1.]\n",
      "Indices: []\n",
      "Factors: []\n"
     ]
    },
    {
     "name": "stderr",
     "output_type": "stream",
     "text": [
      "/Users/sashacurcic/anaconda3/lib/python3.7/site-packages/ipykernel_launcher.py:28: RuntimeWarning: invalid value encountered in double_scalars\n",
      "/Users/sashacurcic/anaconda3/lib/python3.7/site-packages/ipykernel_launcher.py:44: RuntimeWarning: invalid value encountered in double_scalars\n",
      "/Users/sashacurcic/anaconda3/lib/python3.7/site-packages/ipykernel_launcher.py:60: RuntimeWarning: invalid value encountered in double_scalars\n"
     ]
    }
   ],
   "source": [
    "# For Gaussian:\n",
    "waveInitC = WFT.InitCond(omegaC, physicsC, func, args)\n",
    "# waveInitC = np.append(waveInitC, waveInitC)\n",
    "waveInitF = WFT.InitCond(omegaF, physicsF, func, args)\n",
    "# waveInitF = np.append(waveInitF, waveInitF)\n",
    "\n",
    "FCoefsC = FFTT.FourierCoefs(wavesC, waveInitC)\n",
    "FCoefsF = FFTT.FourierCoefs(wavesF, waveInitF)\n",
    "FCoefsC1 = np.asarray(np.append(FCoefsC, FCoefsC))\n",
    "FCoefsF1 = np.asarray(np.append(FCoefsF, FCoefsF))\n",
    "\n",
    "# Find initial waveform on coarse, fine, and AMR grids.\n",
    "waveInitC = wavesC @ FCoefsC\n",
    "waveInitF = wavesF @ FCoefsF\n",
    "waveInitAMR = restrictOp @ waveInitF\n",
    "\n",
    "# Find Fourier coefficients for initial condition on AMR grid.\n",
    "FCoefsAMR = FFTT.FourierCoefs(wavesAMR @ nullspace, waveInitAMR)\n",
    "FCoefsAMR1 = np.asarray(np.append(FCoefsAMR, FCoefsAMR))\n",
    "\n",
    "wavePropC = WFT.WaveEq(omegaC, physicsC, func, args, t)#FFTT.FourierCoefs(wavesC, wavePropC) # timePropOpC @ FCoefsC\n",
    "wavePropF = WFT.WaveEq(omegaF, physicsF, func, args, t)\n",
    "wavePropAMR = WFT.WaveEq(omegaAMR, physicsAMR, func, args, t)#FFTT.FourierCoefs(wavesC, wavePropC) # timePropOpC @ FCoefsC\n",
    "\n",
    "# Find propagated coeficients on coarse and fine grid.\n",
    "FCoefsPropC = FFTT.FourierCoefs(wavesC, wavePropC)\n",
    "FCoefsPropF = FFTT.FourierCoefs(wavesF, wavePropF)\n",
    "FCoefsPropAMR = FFTT.FourierCoefs(wavesAMR @ nullspace, wavePropAMR)\n",
    "FCoefsPropC1 = np.asarray(np.append(FCoefsPropC, FCoefsPropC))\n",
    "FCoefsPropF1 = np.asarray(np.append(FCoefsPropF, FCoefsPropF))\n",
    "FCoefsPropAMR1 = np.asarray(np.append(FCoefsPropAMR, FCoefsPropAMR))\n",
    "\n",
    "# TEST FOR EXACT GAUSSIAN AT NEW LOCATION.\n",
    "\n",
    "# solverCoefsC = ST.RungeKutta(omegaC, physicsC, wavesC, waveInitC, nt, CFL, RK, op = opC) # TimeIntegratorFunc(omegaC, wavesC, waveInitC, nt, cMatC, CFL, DiffFunc)\n",
    "# solverCoefsF = ST.RungeKutta(omegaF, physicsF, wavesF, waveInitF, nt, CFL, RK, op = opF) # TimeIntegratorFunc(omegaF, wavesF, waveInitF, nt, cMatF, CFL, DiffFunc)\n",
    "# solverCoefsAMR = ST.RungeKutta(omegaAMR, physicsAMR, wavesAMR @ nullspace, waveInitAMR, nt, CFL, RK, op = opAMR) # TimeIntegratorFunc(omegaAMR, wavesAMR @ nullspace, waveInitAMR, nt, cMat, CFL, DiffFunc, order = order)\n",
    "\n",
    "# solverCoefsC = WaveEqRK(omegaC, physicsC, wavesC, waveInitC, nt, CFL, RK, derivOp = opC) # TimeIntegratorFunc(omegaC, wavesC, waveInitC, nt, cMatC, CFL, DiffFunc)\n",
    "# solverCoefsF = WaveEqRK(omegaF, physicsF, wavesF, waveInitF, nt, CFL, RK, derivOp = opF) # TimeIntegratorFunc(omegaF, wavesF, waveInitF, nt, cMatF, CFL, DiffFunc)\n",
    "# solverCoefsAMR = WaveEqRK(omegaAMR, physicsAMR, wavesAMR @ nullspace, waveInitAMR, nt, CFL, RK, derivOp = opAMR) # TimeIntegratorFunc(omegaAMR, wavesAMR @ nullspace, waveInitAMR, nt, cMat, CFL, DiffFunc, order = order)\n",
    "\n",
    "solverCoefsC, vC = WaveEqRK(omegaC, physicsC, wavesC, waveInitC, nt, CFL, RK, derivOp = opC) # TimeIntegratorFunc(omegaC, wavesC, waveInitC, nt, cMatC, CFL, DiffFunc)\n",
    "solverCoefsF, vF = WaveEqRK(omegaF, physicsF, wavesF, waveInitF, nt, CFL, RK, derivOp = opF) # TimeIntegratorFunc(omegaF, wavesF, waveInitF, nt, cMatF, CFL, DiffFunc)\n",
    "solverCoefsAMR, vAMR = WaveEqRK(omegaAMR, physicsAMR, wavesAMR @ nullspace, waveInitAMR, nt, CFL, RK, derivOp = opAMR) # TimeIntegratorFunc(omegaAMR, wavesAMR @ nullspace, waveInitAMR, nt, cMat, CFL, DiffFunc, order = order)\n",
    "\n",
    "\n",
    "\n",
    "\n",
    "allCoefsC = PT.Load(FCoefsC1, FCoefsPropC1, solverCoefsC)#, FCoefsPropCTh)\n",
    "allCoefsF = PT.Load(FCoefsF1, FCoefsPropF1, solverCoefsF)#, FCoefsPropFTh)\n",
    "# allCoefsAMR = nullspace @ PT.Load(FCoefsAMR1, FCoefsPropAMR1, solverCoefsAMR)#, FCoefsPropAMRTh)\n",
    "\n",
    "\n",
    "\n",
    "\n",
    "labels = ['Initial Wave', 'Exact Propagated Wave', 'RK Propagated Wave']#, 'Rotation Matrix Propagated Wave']\n"
   ]
  },
  {
   "cell_type": "code",
   "execution_count": 17,
   "metadata": {},
   "outputs": [
    {
     "name": "stdout",
     "output_type": "stream",
     "text": [
      "[ 0.07804464  0.15170023 -0.02134054 -0.04014438 -0.139212   -0.12046898  0.05455254  0.06389135  0.09795222  0.07403954 -0.06889251 -0.07158931 -0.0502094  -0.02631702  0.07492989  0.0410984 ]\n",
      "[ 0.03902232  0.07239506 -0.02070438 -0.03602471 -0.0571275  -0.03662708  0.04246347  0.03946713  0.01634782  0.00100044 -0.02931435 -0.01614091  0.00668578  0.00636997  0.0047829  -0.        ]\n",
      "0.10758658952936787\n",
      "0.01795239788544517\n",
      "\n"
     ]
    }
   ],
   "source": [
    "actual = np.round(FCoefsPropC1, 12)[nh_min:]\n",
    "solver = np.round(solverCoefsC, 12)[nh_min:]\n",
    "\n",
    "print(actual)\n",
    "print(solver)\n",
    "print(actual.transpose() @ actual)\n",
    "print(solver.transpose() @ solver)\n",
    "print('')"
   ]
  },
  {
   "cell_type": "code",
   "execution_count": 18,
   "metadata": {
    "scrolled": false
   },
   "outputs": [
    {
     "name": "stdout",
     "output_type": "stream",
     "text": [
      "Are you *sure* your labels are ordered correctly?\n",
      "This image has been saved under /Users/sashacurcic/SashasDirectory/ANAG/FV_MG/Figures/RKWaveEqAttemptE.\n",
      "Are you *sure* your labels are ordered correctly?\n",
      "This image has been saved under /Users/sashacurcic/SashasDirectory/ANAG/FV_MG/Figures/RKWaveEqAttemptEB.\n"
     ]
    },
    {
     "data": {
      "image/png": "[encoded data removed]",
      "text/plain": [
       "<Figure size 1800x900 with 1 Axes>"
      ]
     },
     "metadata": {
      "needs_background": "light"
     },
     "output_type": "display_data"
    },
    {
     "data": {
      "image/png": "[encoded data removed]",
      "text/plain": [
       "<Figure size 1800x900 with 1 Axes>"
      ]
     },
     "metadata": {
      "needs_background": "light"
     },
     "output_type": "display_data"
    }
   ],
   "source": [
    "PT.PlotMixedWave(omegaC, physicsC, waves = wavesC, FCoefs = allCoefsC, rescale = 5, yGrid = True, labels = labels, saveName = 'RKWaveEqAttempt')#, saveName = 'Coarse', dpi = 300)\n",
    "# PT.PlotMixedWave(omegaF, physicsF, waves = wavesF, FCoefs = allCoefsF, rescale = 5, yGrid = True)#, labels = labels, title = 'Fine-Grid Mode Propagation', saveName = 'Fine', dpi = 300)\n",
    "# PT.PlotMixedWave(omegaAMR, physicsAMR, waves = wavesAMR, FCoefs = allCoefsAMR, rescale = 5, yGrid = True)#, labels = labels, title = 'AMR-Grid Mode Propagation', saveName = 'AMRHansMethod', dpi = 300)\n"
   ]
  },
  {
   "cell_type": "code",
   "execution_count": 19,
   "metadata": {},
   "outputs": [
    {
     "data": {
      "image/png": "[encoded data removed]",
      "text/plain": [
       "<Figure size 432x288 with 1 Axes>"
      ]
     },
     "metadata": {
      "needs_background": "light"
     },
     "output_type": "display_data"
    }
   ],
   "source": [
    "xC = omegaC.xCell\n",
    "plt.figure()\n",
    "plt.plot(xC, vC[:nh_min])\n",
    "plt.plot(xC, vC[nh_min:])\n",
    "plt.show()\n"
   ]
  },
  {
   "cell_type": "code",
   "execution_count": 20,
   "metadata": {
    "scrolled": false
   },
   "outputs": [],
   "source": [
    "# Notes for Sasha:\n",
    "#\n",
    "# Make residuals test of Gaussian (first unpropagated, then propagated) to assess its validity.\n"
   ]
  },
  {
   "cell_type": "code",
   "execution_count": 21,
   "metadata": {},
   "outputs": [
    {
     "name": "stdout",
     "output_type": "stream",
     "text": [
      "[ 0.          0.00001088  0.00819161  0.19440661  0.59644177  0.42991335  0.01972375  0.00002627  0.          0.         -0.          0.          0.          0.          0.         -0.        ]\n",
      "[ 0.          0.00000544  0.0040958   0.09720331  0.29822088  0.21495668  0.00986187  0.00001314  0.          0.         -0.          0.          0.          0.          0.          0.        ]\n",
      "\n"
     ]
    }
   ],
   "source": [
    "waveMat = OT.Block(wavesC, var = 2)\n",
    "solvRes = waveMat @ solverCoefsC\n",
    "print(solvRes[:nh_min])\n",
    "print(solvRes[nh_min:])\n",
    "print('')"
   ]
  },
  {
   "cell_type": "code",
   "execution_count": 22,
   "metadata": {},
   "outputs": [
    {
     "name": "stdout",
     "output_type": "stream",
     "text": [
      "0.02209708691207961\n"
     ]
    }
   ],
   "source": [
    "dx, dt = ST.FindDxDt(omegaC, CFL, cMatC)\n",
    "print(dt)"
   ]
  },
  {
   "cell_type": "code",
   "execution_count": 23,
   "metadata": {},
   "outputs": [
    {
     "data": {
      "text/plain": [
       "0.015625"
      ]
     },
     "execution_count": 23,
     "metadata": {},
     "output_type": "execute_result"
    }
   ],
   "source": [
    "# Upwind\n",
    "\n",
    "2.41421356, -0.41421356 # nh_min = 32, CFL = np.sqrt(0.5)\n",
    "0.011048543456039806\n",
    "\n",
    "2, 0 # nh_min = 32, CFL = 0.5\n",
    "0.0078125\n",
    "\n",
    "2, 0 # nh_min = 16, CFL = 0.5\n",
    "0.015625"
   ]
  },
  {
   "cell_type": "code",
   "execution_count": 24,
   "metadata": {},
   "outputs": [
    {
     "name": "stdout",
     "output_type": "stream",
     "text": [
      "127.99999978521195\n",
      "128.0\n",
      "64.0\n"
     ]
    }
   ],
   "source": [
    "print(1.41421356 / 0.011048543456039806)\n",
    "print(1. / 0.0078125)\n",
    "print(1. / 0.015625)"
   ]
  },
  {
   "cell_type": "code",
   "execution_count": 25,
   "metadata": {},
   "outputs": [
    {
     "name": "stdout",
     "output_type": "stream",
     "text": [
      "0\n"
     ]
    }
   ],
   "source": [
    "l = omegaC.levels\n",
    "print(l)"
   ]
  },
  {
   "cell_type": "code",
   "execution_count": null,
   "metadata": {},
   "outputs": [],
   "source": []
  }
 ],
 "metadata": {
  "kernelspec": {
   "display_name": "Python 3",
   "language": "python",
   "name": "python3"
  },
  "language_info": {
   "codemirror_mode": {
    "name": "ipython",
    "version": 3
   },
   "file_extension": ".py",
   "mimetype": "text/x-python",
   "name": "python",
   "nbconvert_exporter": "python",
   "pygments_lexer": "ipython3",
   "version": "3.7.3"
  }
 },
 "nbformat": 4,
 "nbformat_minor": 2
}
