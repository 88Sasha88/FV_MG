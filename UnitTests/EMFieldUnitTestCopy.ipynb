{
 "cells": [
  {
   "cell_type": "markdown",
   "metadata": {},
   "source": [
    "Here, you develop the E+M Runge-Kuttas. (You want to be able to graph two functions at a time. The plotting functions can handle it, but the other functions aren't built for it specifically because your cases are simple enough that the answer for the B field is proportional to the E Field.)"
   ]
  },
  {
   "cell_type": "code",
   "execution_count": 1,
   "metadata": {},
   "outputs": [
    {
     "data": {
      "text/html": [
       "<style>pre { white-space: pre !important; }</style>"
      ],
      "text/plain": [
       "<IPython.core.display.HTML object>"
      ]
     },
     "metadata": {},
     "output_type": "display_data"
    },
    {
     "data": {
      "text/html": [
       "<style>pre { white-space: pre !important; }</style>"
      ],
      "text/plain": [
       "<IPython.core.display.HTML object>"
      ]
     },
     "metadata": {},
     "output_type": "display_data"
    },
    {
     "data": {
      "text/html": [
       "<style>pre { white-space: pre !important; }</style>"
      ],
      "text/plain": [
       "<IPython.core.display.HTML object>"
      ]
     },
     "metadata": {},
     "output_type": "display_data"
    }
   ],
   "source": [
    "import os.path\n",
    "from scipy import *\n",
    "import numpy as np\n",
    "from numpy import *\n",
    "from numpy import linalg as LA\n",
    "from scipy import linalg as LA2\n",
    "import sympy as sympy\n",
    "import sys as sys\n",
    "import time\n",
    "import matplotlib.pyplot as plt\n",
    "import itertools as it\n",
    "from IPython.core.display import HTML\n",
    "\n",
    "\n",
    "sys.path.append('/Users/sashacurcic/SashasDirectory/ANAG/FV_MG/')\n",
    "from Modules import BasicTools as BT\n",
    "from Modules import WaveTools as WT\n",
    "from Modules import PlotTools as PT\n",
    "from Modules import FFTTools as FFTT\n",
    "from Modules import OperatorTools as OT\n",
    "from Modules import GridTransferTools as GTT\n",
    "from Modules import TestTools as TT\n",
    "from Modules import SolverTools as ST\n",
    "from Modules import WaveformTools as WFT\n",
    "\n",
    "display(HTML(\"<style>pre { white-space: pre !important; }</style>\"))\n",
    "np.set_printoptions( linewidth = 10000, threshold = 100000)"
   ]
  },
  {
   "cell_type": "code",
   "execution_count": 2,
   "metadata": {},
   "outputs": [],
   "source": [
    "def Const(omega, x, sigma, mu, deriv, cellAve):\n",
    "    degFreed = omega.degFreed\n",
    "    k = 1\n",
    "    ct = 0\n",
    "    \n",
    "    fact = 2.0 * np.pi * k\n",
    "    u = np.arange(degFreed)# (1.0 / fact) * (cos(fact * (x[:-1] - ct)) - cos(fact * (x[1:] - ct)))\n",
    "    return u"
   ]
  },
  {
   "cell_type": "code",
   "execution_count": 3,
   "metadata": {},
   "outputs": [],
   "source": [
    "nh_min = 16\n",
    "refRatio = 2\n",
    "CFL = 0.5 # np.sqrt(0.5)\n",
    "nt = int(3 * nh_min / 2) # 1\n",
    "x_0 = 0.\n",
    "x_1 = 0.5\n",
    "Hans = False\n",
    "\n",
    "deriv = 'C'\n",
    "RK = 4\n",
    "order = 4\n",
    "\n",
    "L = 1\n",
    "locs = [x_1]\n",
    "epsilons = [1./3., 1./3.] # [0.5, 0.5] # [1, 1]\n",
    "mus = [1./3., 1./3.] # [0.5, 0.5] # [1, 1]\n",
    "\n",
    "func = WFT.GaussPacket\n",
    "mode = 7 # 23"
   ]
  },
  {
   "cell_type": "code",
   "execution_count": 4,
   "metadata": {},
   "outputs": [],
   "source": [
    "# if (RK == 1):\n",
    "#     TimeIntegratorFunc = ST.ForwardEuler\n",
    "# else:\n",
    "#     if (RK == 2):\n",
    "#         TimeIntegratorFunc = ST.MidpointMeth\n",
    "#     else:\n",
    "#         TimeIntegratorFunc = ST.RK4\n",
    "\n",
    "# if (deriv == 'U'):\n",
    "#     # DiffMatFunc = OT.Upwind1D\n",
    "#     DiffFunc = TT.Upwind#ST.Upwind\n",
    "# else:\n",
    "#     # DiffMatFunc = OT.CenterDiff1D\n",
    "#     DiffFunc = TT.CenterDiff#ST.CenterDiff"
   ]
  },
  {
   "cell_type": "code",
   "execution_count": 5,
   "metadata": {},
   "outputs": [],
   "source": [
    "omegaAMR = BT.Grid(nh_min)\n",
    "finehalf = list(np.arange(int(nh_min / refRatio)))# + int(nh / refRatio))\n",
    "omegaAMR.AddPatch(refRatio, finehalf)\n",
    "degFreed = omegaAMR.degFreed\n",
    "nh_max = omegaAMR.nh_max\n",
    "\n",
    "omegaF = BT.Grid(nh_max)\n",
    "omegaC = BT.Grid(nh_min)"
   ]
  },
  {
   "cell_type": "code",
   "execution_count": 6,
   "metadata": {},
   "outputs": [
    {
     "name": "stdout",
     "output_type": "stream",
     "text": [
      "distance is\n",
      " [ 0.5      0.46875  0.4375   0.40625  0.375    0.34375  0.3125   0.28125  0.25     0.21875  0.1875   0.15625  0.125    0.09375  0.0625   0.03125  0.      -0.0625  -0.125   -0.1875  -0.25    -0.3125  -0.375   -0.4375  -0.5    ] \n",
      "\n",
      "distance is\n",
      " [1.      0.96875 0.9375  0.90625 0.875   0.84375 0.8125  0.78125 0.75    0.71875 0.6875  0.65625 0.625   0.59375 0.5625  0.53125 0.5     0.4375  0.375   0.3125  0.25    0.1875  0.125   0.0625  0.     ] \n",
      "\n",
      "distance is\n",
      " [ 0.5     0.4375  0.375   0.3125  0.25    0.1875  0.125   0.0625  0.     -0.0625 -0.125  -0.1875 -0.25   -0.3125 -0.375  -0.4375 -0.5   ] \n",
      "\n",
      "distance is\n",
      " [1.     0.9375 0.875  0.8125 0.75   0.6875 0.625  0.5625 0.5    0.4375 0.375  0.3125 0.25   0.1875 0.125  0.0625 0.    ] \n",
      "\n",
      "distance is\n",
      " [ 0.5      0.46875  0.4375   0.40625  0.375    0.34375  0.3125   0.28125  0.25     0.21875  0.1875   0.15625  0.125    0.09375  0.0625   0.03125  0.      -0.03125 -0.0625  -0.09375 -0.125   -0.15625 -0.1875  -0.21875 -0.25    -0.28125 -0.3125  -0.34375 -0.375   -0.40625 -0.4375  -0.46875 -0.5    ] \n",
      "\n",
      "distance is\n",
      " [1.      0.96875 0.9375  0.90625 0.875   0.84375 0.8125  0.78125 0.75    0.71875 0.6875  0.65625 0.625   0.59375 0.5625  0.53125 0.5     0.46875 0.4375  0.40625 0.375   0.34375 0.3125  0.28125 0.25    0.21875 0.1875  0.15625 0.125   0.09375 0.0625  0.03125 0.     ] \n",
      "\n"
     ]
    }
   ],
   "source": [
    "\n",
    "physicsAMR = BT.PhysProps(omegaAMR, epsilons, mus, locs, L)\n",
    "cAMR = physicsAMR.cVec\n",
    "cMatAMR = physicsAMR.cMat\n",
    "\n",
    "physicsC = BT.PhysProps(omegaC, epsilons, mus, locs, L)\n",
    "cC = physicsC.cVec\n",
    "cMatC = physicsC.cMat\n",
    "\n",
    "physicsF = BT.PhysProps(omegaF, epsilons, mus, locs, L)\n",
    "cF = physicsF.cVec\n",
    "cMatF = physicsF.cMat\n",
    "\n",
    "c = cC[0]\n",
    "\n",
    "matIndAMR = physicsAMR.matInd"
   ]
  },
  {
   "cell_type": "code",
   "execution_count": 7,
   "metadata": {},
   "outputs": [],
   "source": [
    "def ExpandMat(mat):\n",
    "    errorLoc = 'ERROR:\\nOperatorTools:\\nExpandMat:\\n' # Don't know where we're putting this yet.\n",
    "    errorMess = ''\n",
    "    shape = np.shape(mat)\n",
    "    if (len(shape) != 2):\n",
    "        errorMess = 'mat must be a rank-2 matrix!'\n",
    "    \n",
    "    else:\n",
    "        if (shape[0] != shape[1]):\n",
    "            errorMess = 'mat must be a square matrix!'\n",
    "    if (errorMess != ''):\n",
    "        sys.exit(errorLoc + errorMess)\n",
    "    \n",
    "    size_min = shape[0]\n",
    "    size_max = 2 * size_min\n",
    "    newMat = np.zeros((size_max, size_max), int)\n",
    "    newMat[0:size_max:2, 0:size_max:2] = mat\n",
    "    newMat[1:size_max + 1:2, 1:size_max + 1:2] = mat\n",
    "    return newMat"
   ]
  },
  {
   "cell_type": "code",
   "execution_count": 8,
   "metadata": {},
   "outputs": [],
   "source": [
    "# Creates anti-block-diagonal matrix \n",
    "def ConvertOp(omega, physics):\n",
    "    degFreed = omega.degFreed\n",
    "    cMat = physics.cMat\n",
    "    cVec = physics.cVec\n",
    "    c1 = cVec[0]\n",
    "    c2 = cVec[-1]\n",
    "    \n",
    "    bacCoefs = np.zeros(degFreed, float)\n",
    "    forCoefs = np.ones(degFreed, float)\n",
    "    bacCoefsInv = np.zeros(degFreed, float)\n",
    "    forCoefsInv = np.ones(degFreed, float)\n",
    "    \n",
    "    cVecs = np.asarray(np.append(cVec, -cVec))\n",
    "    \n",
    "    # eigVals = #[item for sublist in zip(cVec, -cVec) for item in sublist]\n",
    "    I = np.eye(degFreed)\n",
    "    normConst = 0.5 #  / np.sqrt(c**2 + 1)\n",
    "    op = normConst * np.asarray(np.block([[cMat, cMat], [-I, I]]))\n",
    "    diagMat = np.diag(cVecs)\n",
    "    \n",
    "    RCoef = (2. * c1) / (c1 + c2)\n",
    "    TCoef = -(c1 - c2) / (c1 + c2)\n",
    "    \n",
    "    bacCoefs[cVec == c1] = RCoef\n",
    "    forCoefs[cVec == c2] = TCoef\n",
    "    \n",
    "    bacCoefsInv[cVec == c1] = 1. / RCoef\n",
    "    forCoefsInv[cVec == c2] = 1. / TCoef\n",
    "    \n",
    "    Coefs = np.asarray(np.append(bacCoefs, forCoefs))\n",
    "    CoefsInv = np.asarray(np.append(bacCoefsInv, forCoefsInv))\n",
    "    \n",
    "    CoefOp = np.eye(2 * degFreed) # np.diag(Coefs) # np.eye(2 * degFreed) # \n",
    "    CoefOpInv = np.eye(2 * degFreed) # np.diag(Coefs)\n",
    "\n",
    "    return op, diagMat, CoefOp, CoefOpInv"
   ]
  },
  {
   "cell_type": "code",
   "execution_count": 9,
   "metadata": {},
   "outputs": [
    {
     "name": "stdout",
     "output_type": "stream",
     "text": [
      "[[ 3.  0.  0.  0.  0.  0.  0.  0.  0.  0.  0.  0.  0.  0.  0.  0.  0.  0.  0.  0.  0.  0.  0.  0.  0.  0.  0.  0.  0.  0.  0.  0.  0.  0.  0.  0.  0.  0.  0.  0.  0.  0.  0.  0.  0.  0.  0.  0.]\n",
      " [ 0.  3.  0.  0.  0.  0.  0.  0.  0.  0.  0.  0.  0.  0.  0.  0.  0.  0.  0.  0.  0.  0.  0.  0.  0.  0.  0.  0.  0.  0.  0.  0.  0.  0.  0.  0.  0.  0.  0.  0.  0.  0.  0.  0.  0.  0.  0.  0.]\n",
      " [ 0.  0.  3.  0.  0.  0.  0.  0.  0.  0.  0.  0.  0.  0.  0.  0.  0.  0.  0.  0.  0.  0.  0.  0.  0.  0.  0.  0.  0.  0.  0.  0.  0.  0.  0.  0.  0.  0.  0.  0.  0.  0.  0.  0.  0.  0.  0.  0.]\n",
      " [ 0.  0.  0.  3.  0.  0.  0.  0.  0.  0.  0.  0.  0.  0.  0.  0.  0.  0.  0.  0.  0.  0.  0.  0.  0.  0.  0.  0.  0.  0.  0.  0.  0.  0.  0.  0.  0.  0.  0.  0.  0.  0.  0.  0.  0.  0.  0.  0.]\n",
      " [ 0.  0.  0.  0.  3.  0.  0.  0.  0.  0.  0.  0.  0.  0.  0.  0.  0.  0.  0.  0.  0.  0.  0.  0.  0.  0.  0.  0.  0.  0.  0.  0.  0.  0.  0.  0.  0.  0.  0.  0.  0.  0.  0.  0.  0.  0.  0.  0.]\n",
      " [ 0.  0.  0.  0.  0.  3.  0.  0.  0.  0.  0.  0.  0.  0.  0.  0.  0.  0.  0.  0.  0.  0.  0.  0.  0.  0.  0.  0.  0.  0.  0.  0.  0.  0.  0.  0.  0.  0.  0.  0.  0.  0.  0.  0.  0.  0.  0.  0.]\n",
      " [ 0.  0.  0.  0.  0.  0.  3.  0.  0.  0.  0.  0.  0.  0.  0.  0.  0.  0.  0.  0.  0.  0.  0.  0.  0.  0.  0.  0.  0.  0.  0.  0.  0.  0.  0.  0.  0.  0.  0.  0.  0.  0.  0.  0.  0.  0.  0.  0.]\n",
      " [ 0.  0.  0.  0.  0.  0.  0.  3.  0.  0.  0.  0.  0.  0.  0.  0.  0.  0.  0.  0.  0.  0.  0.  0.  0.  0.  0.  0.  0.  0.  0.  0.  0.  0.  0.  0.  0.  0.  0.  0.  0.  0.  0.  0.  0.  0.  0.  0.]\n",
      " [ 0.  0.  0.  0.  0.  0.  0.  0.  3.  0.  0.  0.  0.  0.  0.  0.  0.  0.  0.  0.  0.  0.  0.  0.  0.  0.  0.  0.  0.  0.  0.  0.  0.  0.  0.  0.  0.  0.  0.  0.  0.  0.  0.  0.  0.  0.  0.  0.]\n",
      " [ 0.  0.  0.  0.  0.  0.  0.  0.  0.  3.  0.  0.  0.  0.  0.  0.  0.  0.  0.  0.  0.  0.  0.  0.  0.  0.  0.  0.  0.  0.  0.  0.  0.  0.  0.  0.  0.  0.  0.  0.  0.  0.  0.  0.  0.  0.  0.  0.]\n",
      " [ 0.  0.  0.  0.  0.  0.  0.  0.  0.  0.  3.  0.  0.  0.  0.  0.  0.  0.  0.  0.  0.  0.  0.  0.  0.  0.  0.  0.  0.  0.  0.  0.  0.  0.  0.  0.  0.  0.  0.  0.  0.  0.  0.  0.  0.  0.  0.  0.]\n",
      " [ 0.  0.  0.  0.  0.  0.  0.  0.  0.  0.  0.  3.  0.  0.  0.  0.  0.  0.  0.  0.  0.  0.  0.  0.  0.  0.  0.  0.  0.  0.  0.  0.  0.  0.  0.  0.  0.  0.  0.  0.  0.  0.  0.  0.  0.  0.  0.  0.]\n",
      " [ 0.  0.  0.  0.  0.  0.  0.  0.  0.  0.  0.  0.  3.  0.  0.  0.  0.  0.  0.  0.  0.  0.  0.  0.  0.  0.  0.  0.  0.  0.  0.  0.  0.  0.  0.  0.  0.  0.  0.  0.  0.  0.  0.  0.  0.  0.  0.  0.]\n",
      " [ 0.  0.  0.  0.  0.  0.  0.  0.  0.  0.  0.  0.  0.  3.  0.  0.  0.  0.  0.  0.  0.  0.  0.  0.  0.  0.  0.  0.  0.  0.  0.  0.  0.  0.  0.  0.  0.  0.  0.  0.  0.  0.  0.  0.  0.  0.  0.  0.]\n",
      " [ 0.  0.  0.  0.  0.  0.  0.  0.  0.  0.  0.  0.  0.  0.  3.  0.  0.  0.  0.  0.  0.  0.  0.  0.  0.  0.  0.  0.  0.  0.  0.  0.  0.  0.  0.  0.  0.  0.  0.  0.  0.  0.  0.  0.  0.  0.  0.  0.]\n",
      " [ 0.  0.  0.  0.  0.  0.  0.  0.  0.  0.  0.  0.  0.  0.  0.  3.  0.  0.  0.  0.  0.  0.  0.  0.  0.  0.  0.  0.  0.  0.  0.  0.  0.  0.  0.  0.  0.  0.  0.  0.  0.  0.  0.  0.  0.  0.  0.  0.]\n",
      " [ 0.  0.  0.  0.  0.  0.  0.  0.  0.  0.  0.  0.  0.  0.  0.  0.  3.  0.  0.  0.  0.  0.  0.  0.  0.  0.  0.  0.  0.  0.  0.  0.  0.  0.  0.  0.  0.  0.  0.  0.  0.  0.  0.  0.  0.  0.  0.  0.]\n",
      " [ 0.  0.  0.  0.  0.  0.  0.  0.  0.  0.  0.  0.  0.  0.  0.  0.  0.  3.  0.  0.  0.  0.  0.  0.  0.  0.  0.  0.  0.  0.  0.  0.  0.  0.  0.  0.  0.  0.  0.  0.  0.  0.  0.  0.  0.  0.  0.  0.]\n",
      " [ 0.  0.  0.  0.  0.  0.  0.  0.  0.  0.  0.  0.  0.  0.  0.  0.  0.  0.  3.  0.  0.  0.  0.  0.  0.  0.  0.  0.  0.  0.  0.  0.  0.  0.  0.  0.  0.  0.  0.  0.  0.  0.  0.  0.  0.  0.  0.  0.]\n",
      " [ 0.  0.  0.  0.  0.  0.  0.  0.  0.  0.  0.  0.  0.  0.  0.  0.  0.  0.  0.  3.  0.  0.  0.  0.  0.  0.  0.  0.  0.  0.  0.  0.  0.  0.  0.  0.  0.  0.  0.  0.  0.  0.  0.  0.  0.  0.  0.  0.]\n",
      " [ 0.  0.  0.  0.  0.  0.  0.  0.  0.  0.  0.  0.  0.  0.  0.  0.  0.  0.  0.  0.  3.  0.  0.  0.  0.  0.  0.  0.  0.  0.  0.  0.  0.  0.  0.  0.  0.  0.  0.  0.  0.  0.  0.  0.  0.  0.  0.  0.]\n",
      " [ 0.  0.  0.  0.  0.  0.  0.  0.  0.  0.  0.  0.  0.  0.  0.  0.  0.  0.  0.  0.  0.  3.  0.  0.  0.  0.  0.  0.  0.  0.  0.  0.  0.  0.  0.  0.  0.  0.  0.  0.  0.  0.  0.  0.  0.  0.  0.  0.]\n",
      " [ 0.  0.  0.  0.  0.  0.  0.  0.  0.  0.  0.  0.  0.  0.  0.  0.  0.  0.  0.  0.  0.  0.  3.  0.  0.  0.  0.  0.  0.  0.  0.  0.  0.  0.  0.  0.  0.  0.  0.  0.  0.  0.  0.  0.  0.  0.  0.  0.]\n",
      " [ 0.  0.  0.  0.  0.  0.  0.  0.  0.  0.  0.  0.  0.  0.  0.  0.  0.  0.  0.  0.  0.  0.  0.  3.  0.  0.  0.  0.  0.  0.  0.  0.  0.  0.  0.  0.  0.  0.  0.  0.  0.  0.  0.  0.  0.  0.  0.  0.]\n",
      " [ 0.  0.  0.  0.  0.  0.  0.  0.  0.  0.  0.  0.  0.  0.  0.  0.  0.  0.  0.  0.  0.  0.  0.  0. -3.  0.  0.  0.  0.  0.  0.  0.  0.  0.  0.  0.  0.  0.  0.  0.  0.  0.  0.  0.  0.  0.  0.  0.]\n",
      " [ 0.  0.  0.  0.  0.  0.  0.  0.  0.  0.  0.  0.  0.  0.  0.  0.  0.  0.  0.  0.  0.  0.  0.  0.  0. -3.  0.  0.  0.  0.  0.  0.  0.  0.  0.  0.  0.  0.  0.  0.  0.  0.  0.  0.  0.  0.  0.  0.]\n",
      " [ 0.  0.  0.  0.  0.  0.  0.  0.  0.  0.  0.  0.  0.  0.  0.  0.  0.  0.  0.  0.  0.  0.  0.  0.  0.  0. -3.  0.  0.  0.  0.  0.  0.  0.  0.  0.  0.  0.  0.  0.  0.  0.  0.  0.  0.  0.  0.  0.]\n",
      " [ 0.  0.  0.  0.  0.  0.  0.  0.  0.  0.  0.  0.  0.  0.  0.  0.  0.  0.  0.  0.  0.  0.  0.  0.  0.  0.  0. -3.  0.  0.  0.  0.  0.  0.  0.  0.  0.  0.  0.  0.  0.  0.  0.  0.  0.  0.  0.  0.]\n",
      " [ 0.  0.  0.  0.  0.  0.  0.  0.  0.  0.  0.  0.  0.  0.  0.  0.  0.  0.  0.  0.  0.  0.  0.  0.  0.  0.  0.  0. -3.  0.  0.  0.  0.  0.  0.  0.  0.  0.  0.  0.  0.  0.  0.  0.  0.  0.  0.  0.]\n",
      " [ 0.  0.  0.  0.  0.  0.  0.  0.  0.  0.  0.  0.  0.  0.  0.  0.  0.  0.  0.  0.  0.  0.  0.  0.  0.  0.  0.  0.  0. -3.  0.  0.  0.  0.  0.  0.  0.  0.  0.  0.  0.  0.  0.  0.  0.  0.  0.  0.]\n",
      " [ 0.  0.  0.  0.  0.  0.  0.  0.  0.  0.  0.  0.  0.  0.  0.  0.  0.  0.  0.  0.  0.  0.  0.  0.  0.  0.  0.  0.  0.  0. -3.  0.  0.  0.  0.  0.  0.  0.  0.  0.  0.  0.  0.  0.  0.  0.  0.  0.]\n",
      " [ 0.  0.  0.  0.  0.  0.  0.  0.  0.  0.  0.  0.  0.  0.  0.  0.  0.  0.  0.  0.  0.  0.  0.  0.  0.  0.  0.  0.  0.  0.  0. -3.  0.  0.  0.  0.  0.  0.  0.  0.  0.  0.  0.  0.  0.  0.  0.  0.]\n",
      " [ 0.  0.  0.  0.  0.  0.  0.  0.  0.  0.  0.  0.  0.  0.  0.  0.  0.  0.  0.  0.  0.  0.  0.  0.  0.  0.  0.  0.  0.  0.  0.  0. -3.  0.  0.  0.  0.  0.  0.  0.  0.  0.  0.  0.  0.  0.  0.  0.]\n",
      " [ 0.  0.  0.  0.  0.  0.  0.  0.  0.  0.  0.  0.  0.  0.  0.  0.  0.  0.  0.  0.  0.  0.  0.  0.  0.  0.  0.  0.  0.  0.  0.  0.  0. -3.  0.  0.  0.  0.  0.  0.  0.  0.  0.  0.  0.  0.  0.  0.]\n",
      " [ 0.  0.  0.  0.  0.  0.  0.  0.  0.  0.  0.  0.  0.  0.  0.  0.  0.  0.  0.  0.  0.  0.  0.  0.  0.  0.  0.  0.  0.  0.  0.  0.  0.  0. -3.  0.  0.  0.  0.  0.  0.  0.  0.  0.  0.  0.  0.  0.]\n",
      " [ 0.  0.  0.  0.  0.  0.  0.  0.  0.  0.  0.  0.  0.  0.  0.  0.  0.  0.  0.  0.  0.  0.  0.  0.  0.  0.  0.  0.  0.  0.  0.  0.  0.  0.  0. -3.  0.  0.  0.  0.  0.  0.  0.  0.  0.  0.  0.  0.]\n",
      " [ 0.  0.  0.  0.  0.  0.  0.  0.  0.  0.  0.  0.  0.  0.  0.  0.  0.  0.  0.  0.  0.  0.  0.  0.  0.  0.  0.  0.  0.  0.  0.  0.  0.  0.  0.  0. -3.  0.  0.  0.  0.  0.  0.  0.  0.  0.  0.  0.]\n",
      " [ 0.  0.  0.  0.  0.  0.  0.  0.  0.  0.  0.  0.  0.  0.  0.  0.  0.  0.  0.  0.  0.  0.  0.  0.  0.  0.  0.  0.  0.  0.  0.  0.  0.  0.  0.  0.  0. -3.  0.  0.  0.  0.  0.  0.  0.  0.  0.  0.]\n",
      " [ 0.  0.  0.  0.  0.  0.  0.  0.  0.  0.  0.  0.  0.  0.  0.  0.  0.  0.  0.  0.  0.  0.  0.  0.  0.  0.  0.  0.  0.  0.  0.  0.  0.  0.  0.  0.  0.  0. -3.  0.  0.  0.  0.  0.  0.  0.  0.  0.]\n",
      " [ 0.  0.  0.  0.  0.  0.  0.  0.  0.  0.  0.  0.  0.  0.  0.  0.  0.  0.  0.  0.  0.  0.  0.  0.  0.  0.  0.  0.  0.  0.  0.  0.  0.  0.  0.  0.  0.  0.  0. -3.  0.  0.  0.  0.  0.  0.  0.  0.]\n",
      " [ 0.  0.  0.  0.  0.  0.  0.  0.  0.  0.  0.  0.  0.  0.  0.  0.  0.  0.  0.  0.  0.  0.  0.  0.  0.  0.  0.  0.  0.  0.  0.  0.  0.  0.  0.  0.  0.  0.  0.  0. -3.  0.  0.  0.  0.  0.  0.  0.]\n",
      " [ 0.  0.  0.  0.  0.  0.  0.  0.  0.  0.  0.  0.  0.  0.  0.  0.  0.  0.  0.  0.  0.  0.  0.  0.  0.  0.  0.  0.  0.  0.  0.  0.  0.  0.  0.  0.  0.  0.  0.  0.  0. -3.  0.  0.  0.  0.  0.  0.]\n",
      " [ 0.  0.  0.  0.  0.  0.  0.  0.  0.  0.  0.  0.  0.  0.  0.  0.  0.  0.  0.  0.  0.  0.  0.  0.  0.  0.  0.  0.  0.  0.  0.  0.  0.  0.  0.  0.  0.  0.  0.  0.  0.  0. -3.  0.  0.  0.  0.  0.]\n",
      " [ 0.  0.  0.  0.  0.  0.  0.  0.  0.  0.  0.  0.  0.  0.  0.  0.  0.  0.  0.  0.  0.  0.  0.  0.  0.  0.  0.  0.  0.  0.  0.  0.  0.  0.  0.  0.  0.  0.  0.  0.  0.  0.  0. -3.  0.  0.  0.  0.]\n",
      " [ 0.  0.  0.  0.  0.  0.  0.  0.  0.  0.  0.  0.  0.  0.  0.  0.  0.  0.  0.  0.  0.  0.  0.  0.  0.  0.  0.  0.  0.  0.  0.  0.  0.  0.  0.  0.  0.  0.  0.  0.  0.  0.  0.  0. -3.  0.  0.  0.]\n",
      " [ 0.  0.  0.  0.  0.  0.  0.  0.  0.  0.  0.  0.  0.  0.  0.  0.  0.  0.  0.  0.  0.  0.  0.  0.  0.  0.  0.  0.  0.  0.  0.  0.  0.  0.  0.  0.  0.  0.  0.  0.  0.  0.  0.  0.  0. -3.  0.  0.]\n",
      " [ 0.  0.  0.  0.  0.  0.  0.  0.  0.  0.  0.  0.  0.  0.  0.  0.  0.  0.  0.  0.  0.  0.  0.  0.  0.  0.  0.  0.  0.  0.  0.  0.  0.  0.  0.  0.  0.  0.  0.  0.  0.  0.  0.  0.  0.  0. -3.  0.]\n",
      " [ 0.  0.  0.  0.  0.  0.  0.  0.  0.  0.  0.  0.  0.  0.  0.  0.  0.  0.  0.  0.  0.  0.  0.  0.  0.  0.  0.  0.  0.  0.  0.  0.  0.  0.  0.  0.  0.  0.  0.  0.  0.  0.  0.  0.  0.  0.  0. -3.]]\n",
      "\n"
     ]
    },
    {
     "name": "stderr",
     "output_type": "stream",
     "text": [
      "/Users/sashacurcic/anaconda3/lib/python3.7/site-packages/ipykernel_launcher.py:29: RuntimeWarning: divide by zero encountered in double_scalars\n"
     ]
    }
   ],
   "source": [
    "op, diagMat, CoefOp, CoefOpInv = ConvertOp(omegaAMR, physicsAMR)\n",
    "print(diagMat)\n",
    "print('')"
   ]
  },
  {
   "cell_type": "code",
   "execution_count": 10,
   "metadata": {},
   "outputs": [],
   "source": [
    "# Creates anti-block-diagonal matrix \n",
    "def ConvertOp1(omega, physics):\n",
    "    degFreed = omega.degFreed\n",
    "    cMat = physics.cMat\n",
    "    cVec = physics.cVec\n",
    "    c = cVec[0]\n",
    "    cVecs = np.asarray(np.append(cVec, -cVec))\n",
    "    \n",
    "    # eigVals = #[item for sublist in zip(cVec, -cVec) for item in sublist]\n",
    "    I = np.eye(degFreed)\n",
    "    normConst = 1. #  / np.sqrt(c**2 + 1)\n",
    "    op = normConst * np.asarray(np.block([[cMat, cMat], [-I, I]]))\n",
    "    diagMat = np.diag(cVecs)\n",
    "\n",
    "    return op, diagMat"
   ]
  },
  {
   "cell_type": "code",
   "execution_count": 11,
   "metadata": {},
   "outputs": [
    {
     "name": "stdout",
     "output_type": "stream",
     "text": [
      "[[ 3.  0.  0.  0.  0.  0.  0.  0.  0.  0.  0.  0.  0.  0.  0.  0.  0.  0.  0.  0.  0.  0.  0.  0.  0.  0.  0.  0.  0.  0.  0.  0.  0.  0.  0.  0.  0.  0.  0.  0.  0.  0.  0.  0.  0.  0.  0.  0.]\n",
      " [ 0.  3.  0.  0.  0.  0.  0.  0.  0.  0.  0.  0.  0.  0.  0.  0.  0.  0.  0.  0.  0.  0.  0.  0.  0.  0.  0.  0.  0.  0.  0.  0.  0.  0.  0.  0.  0.  0.  0.  0.  0.  0.  0.  0.  0.  0.  0.  0.]\n",
      " [ 0.  0.  3.  0.  0.  0.  0.  0.  0.  0.  0.  0.  0.  0.  0.  0.  0.  0.  0.  0.  0.  0.  0.  0.  0.  0.  0.  0.  0.  0.  0.  0.  0.  0.  0.  0.  0.  0.  0.  0.  0.  0.  0.  0.  0.  0.  0.  0.]\n",
      " [ 0.  0.  0.  3.  0.  0.  0.  0.  0.  0.  0.  0.  0.  0.  0.  0.  0.  0.  0.  0.  0.  0.  0.  0.  0.  0.  0.  0.  0.  0.  0.  0.  0.  0.  0.  0.  0.  0.  0.  0.  0.  0.  0.  0.  0.  0.  0.  0.]\n",
      " [ 0.  0.  0.  0.  3.  0.  0.  0.  0.  0.  0.  0.  0.  0.  0.  0.  0.  0.  0.  0.  0.  0.  0.  0.  0.  0.  0.  0.  0.  0.  0.  0.  0.  0.  0.  0.  0.  0.  0.  0.  0.  0.  0.  0.  0.  0.  0.  0.]\n",
      " [ 0.  0.  0.  0.  0.  3.  0.  0.  0.  0.  0.  0.  0.  0.  0.  0.  0.  0.  0.  0.  0.  0.  0.  0.  0.  0.  0.  0.  0.  0.  0.  0.  0.  0.  0.  0.  0.  0.  0.  0.  0.  0.  0.  0.  0.  0.  0.  0.]\n",
      " [ 0.  0.  0.  0.  0.  0.  3.  0.  0.  0.  0.  0.  0.  0.  0.  0.  0.  0.  0.  0.  0.  0.  0.  0.  0.  0.  0.  0.  0.  0.  0.  0.  0.  0.  0.  0.  0.  0.  0.  0.  0.  0.  0.  0.  0.  0.  0.  0.]\n",
      " [ 0.  0.  0.  0.  0.  0.  0.  3.  0.  0.  0.  0.  0.  0.  0.  0.  0.  0.  0.  0.  0.  0.  0.  0.  0.  0.  0.  0.  0.  0.  0.  0.  0.  0.  0.  0.  0.  0.  0.  0.  0.  0.  0.  0.  0.  0.  0.  0.]\n",
      " [ 0.  0.  0.  0.  0.  0.  0.  0.  3.  0.  0.  0.  0.  0.  0.  0.  0.  0.  0.  0.  0.  0.  0.  0.  0.  0.  0.  0.  0.  0.  0.  0.  0.  0.  0.  0.  0.  0.  0.  0.  0.  0.  0.  0.  0.  0.  0.  0.]\n",
      " [ 0.  0.  0.  0.  0.  0.  0.  0.  0.  3.  0.  0.  0.  0.  0.  0.  0.  0.  0.  0.  0.  0.  0.  0.  0.  0.  0.  0.  0.  0.  0.  0.  0.  0.  0.  0.  0.  0.  0.  0.  0.  0.  0.  0.  0.  0.  0.  0.]\n",
      " [ 0.  0.  0.  0.  0.  0.  0.  0.  0.  0.  3.  0.  0.  0.  0.  0.  0.  0.  0.  0.  0.  0.  0.  0.  0.  0.  0.  0.  0.  0.  0.  0.  0.  0.  0.  0.  0.  0.  0.  0.  0.  0.  0.  0.  0.  0.  0.  0.]\n",
      " [ 0.  0.  0.  0.  0.  0.  0.  0.  0.  0.  0.  3.  0.  0.  0.  0.  0.  0.  0.  0.  0.  0.  0.  0.  0.  0.  0.  0.  0.  0.  0.  0.  0.  0.  0.  0.  0.  0.  0.  0.  0.  0.  0.  0.  0.  0.  0.  0.]\n",
      " [ 0.  0.  0.  0.  0.  0.  0.  0.  0.  0.  0.  0.  3.  0.  0.  0.  0.  0.  0.  0.  0.  0.  0.  0.  0.  0.  0.  0.  0.  0.  0.  0.  0.  0.  0.  0.  0.  0.  0.  0.  0.  0.  0.  0.  0.  0.  0.  0.]\n",
      " [ 0.  0.  0.  0.  0.  0.  0.  0.  0.  0.  0.  0.  0.  3.  0.  0.  0.  0.  0.  0.  0.  0.  0.  0.  0.  0.  0.  0.  0.  0.  0.  0.  0.  0.  0.  0.  0.  0.  0.  0.  0.  0.  0.  0.  0.  0.  0.  0.]\n",
      " [ 0.  0.  0.  0.  0.  0.  0.  0.  0.  0.  0.  0.  0.  0.  3.  0.  0.  0.  0.  0.  0.  0.  0.  0.  0.  0.  0.  0.  0.  0.  0.  0.  0.  0.  0.  0.  0.  0.  0.  0.  0.  0.  0.  0.  0.  0.  0.  0.]\n",
      " [ 0.  0.  0.  0.  0.  0.  0.  0.  0.  0.  0.  0.  0.  0.  0.  3.  0.  0.  0.  0.  0.  0.  0.  0.  0.  0.  0.  0.  0.  0.  0.  0.  0.  0.  0.  0.  0.  0.  0.  0.  0.  0.  0.  0.  0.  0.  0.  0.]\n",
      " [ 0.  0.  0.  0.  0.  0.  0.  0.  0.  0.  0.  0.  0.  0.  0.  0.  3.  0.  0.  0.  0.  0.  0.  0.  0.  0.  0.  0.  0.  0.  0.  0.  0.  0.  0.  0.  0.  0.  0.  0.  0.  0.  0.  0.  0.  0.  0.  0.]\n",
      " [ 0.  0.  0.  0.  0.  0.  0.  0.  0.  0.  0.  0.  0.  0.  0.  0.  0.  3.  0.  0.  0.  0.  0.  0.  0.  0.  0.  0.  0.  0.  0.  0.  0.  0.  0.  0.  0.  0.  0.  0.  0.  0.  0.  0.  0.  0.  0.  0.]\n",
      " [ 0.  0.  0.  0.  0.  0.  0.  0.  0.  0.  0.  0.  0.  0.  0.  0.  0.  0.  3.  0.  0.  0.  0.  0.  0.  0.  0.  0.  0.  0.  0.  0.  0.  0.  0.  0.  0.  0.  0.  0.  0.  0.  0.  0.  0.  0.  0.  0.]\n",
      " [ 0.  0.  0.  0.  0.  0.  0.  0.  0.  0.  0.  0.  0.  0.  0.  0.  0.  0.  0.  3.  0.  0.  0.  0.  0.  0.  0.  0.  0.  0.  0.  0.  0.  0.  0.  0.  0.  0.  0.  0.  0.  0.  0.  0.  0.  0.  0.  0.]\n",
      " [ 0.  0.  0.  0.  0.  0.  0.  0.  0.  0.  0.  0.  0.  0.  0.  0.  0.  0.  0.  0.  3.  0.  0.  0.  0.  0.  0.  0.  0.  0.  0.  0.  0.  0.  0.  0.  0.  0.  0.  0.  0.  0.  0.  0.  0.  0.  0.  0.]\n",
      " [ 0.  0.  0.  0.  0.  0.  0.  0.  0.  0.  0.  0.  0.  0.  0.  0.  0.  0.  0.  0.  0.  3.  0.  0.  0.  0.  0.  0.  0.  0.  0.  0.  0.  0.  0.  0.  0.  0.  0.  0.  0.  0.  0.  0.  0.  0.  0.  0.]\n",
      " [ 0.  0.  0.  0.  0.  0.  0.  0.  0.  0.  0.  0.  0.  0.  0.  0.  0.  0.  0.  0.  0.  0.  3.  0.  0.  0.  0.  0.  0.  0.  0.  0.  0.  0.  0.  0.  0.  0.  0.  0.  0.  0.  0.  0.  0.  0.  0.  0.]\n",
      " [ 0.  0.  0.  0.  0.  0.  0.  0.  0.  0.  0.  0.  0.  0.  0.  0.  0.  0.  0.  0.  0.  0.  0.  3.  0.  0.  0.  0.  0.  0.  0.  0.  0.  0.  0.  0.  0.  0.  0.  0.  0.  0.  0.  0.  0.  0.  0.  0.]\n",
      " [ 0.  0.  0.  0.  0.  0.  0.  0.  0.  0.  0.  0.  0.  0.  0.  0.  0.  0.  0.  0.  0.  0.  0.  0. -3.  0.  0.  0.  0.  0.  0.  0.  0.  0.  0.  0.  0.  0.  0.  0.  0.  0.  0.  0.  0.  0.  0.  0.]\n",
      " [ 0.  0.  0.  0.  0.  0.  0.  0.  0.  0.  0.  0.  0.  0.  0.  0.  0.  0.  0.  0.  0.  0.  0.  0.  0. -3.  0.  0.  0.  0.  0.  0.  0.  0.  0.  0.  0.  0.  0.  0.  0.  0.  0.  0.  0.  0.  0.  0.]\n",
      " [ 0.  0.  0.  0.  0.  0.  0.  0.  0.  0.  0.  0.  0.  0.  0.  0.  0.  0.  0.  0.  0.  0.  0.  0.  0.  0. -3.  0.  0.  0.  0.  0.  0.  0.  0.  0.  0.  0.  0.  0.  0.  0.  0.  0.  0.  0.  0.  0.]\n",
      " [ 0.  0.  0.  0.  0.  0.  0.  0.  0.  0.  0.  0.  0.  0.  0.  0.  0.  0.  0.  0.  0.  0.  0.  0.  0.  0.  0. -3.  0.  0.  0.  0.  0.  0.  0.  0.  0.  0.  0.  0.  0.  0.  0.  0.  0.  0.  0.  0.]\n",
      " [ 0.  0.  0.  0.  0.  0.  0.  0.  0.  0.  0.  0.  0.  0.  0.  0.  0.  0.  0.  0.  0.  0.  0.  0.  0.  0.  0.  0. -3.  0.  0.  0.  0.  0.  0.  0.  0.  0.  0.  0.  0.  0.  0.  0.  0.  0.  0.  0.]\n",
      " [ 0.  0.  0.  0.  0.  0.  0.  0.  0.  0.  0.  0.  0.  0.  0.  0.  0.  0.  0.  0.  0.  0.  0.  0.  0.  0.  0.  0.  0. -3.  0.  0.  0.  0.  0.  0.  0.  0.  0.  0.  0.  0.  0.  0.  0.  0.  0.  0.]\n",
      " [ 0.  0.  0.  0.  0.  0.  0.  0.  0.  0.  0.  0.  0.  0.  0.  0.  0.  0.  0.  0.  0.  0.  0.  0.  0.  0.  0.  0.  0.  0. -3.  0.  0.  0.  0.  0.  0.  0.  0.  0.  0.  0.  0.  0.  0.  0.  0.  0.]\n",
      " [ 0.  0.  0.  0.  0.  0.  0.  0.  0.  0.  0.  0.  0.  0.  0.  0.  0.  0.  0.  0.  0.  0.  0.  0.  0.  0.  0.  0.  0.  0.  0. -3.  0.  0.  0.  0.  0.  0.  0.  0.  0.  0.  0.  0.  0.  0.  0.  0.]\n",
      " [ 0.  0.  0.  0.  0.  0.  0.  0.  0.  0.  0.  0.  0.  0.  0.  0.  0.  0.  0.  0.  0.  0.  0.  0.  0.  0.  0.  0.  0.  0.  0.  0. -3.  0.  0.  0.  0.  0.  0.  0.  0.  0.  0.  0.  0.  0.  0.  0.]\n",
      " [ 0.  0.  0.  0.  0.  0.  0.  0.  0.  0.  0.  0.  0.  0.  0.  0.  0.  0.  0.  0.  0.  0.  0.  0.  0.  0.  0.  0.  0.  0.  0.  0.  0. -3.  0.  0.  0.  0.  0.  0.  0.  0.  0.  0.  0.  0.  0.  0.]\n",
      " [ 0.  0.  0.  0.  0.  0.  0.  0.  0.  0.  0.  0.  0.  0.  0.  0.  0.  0.  0.  0.  0.  0.  0.  0.  0.  0.  0.  0.  0.  0.  0.  0.  0.  0. -3.  0.  0.  0.  0.  0.  0.  0.  0.  0.  0.  0.  0.  0.]\n",
      " [ 0.  0.  0.  0.  0.  0.  0.  0.  0.  0.  0.  0.  0.  0.  0.  0.  0.  0.  0.  0.  0.  0.  0.  0.  0.  0.  0.  0.  0.  0.  0.  0.  0.  0.  0. -3.  0.  0.  0.  0.  0.  0.  0.  0.  0.  0.  0.  0.]\n",
      " [ 0.  0.  0.  0.  0.  0.  0.  0.  0.  0.  0.  0.  0.  0.  0.  0.  0.  0.  0.  0.  0.  0.  0.  0.  0.  0.  0.  0.  0.  0.  0.  0.  0.  0.  0.  0. -3.  0.  0.  0.  0.  0.  0.  0.  0.  0.  0.  0.]\n",
      " [ 0.  0.  0.  0.  0.  0.  0.  0.  0.  0.  0.  0.  0.  0.  0.  0.  0.  0.  0.  0.  0.  0.  0.  0.  0.  0.  0.  0.  0.  0.  0.  0.  0.  0.  0.  0.  0. -3.  0.  0.  0.  0.  0.  0.  0.  0.  0.  0.]\n",
      " [ 0.  0.  0.  0.  0.  0.  0.  0.  0.  0.  0.  0.  0.  0.  0.  0.  0.  0.  0.  0.  0.  0.  0.  0.  0.  0.  0.  0.  0.  0.  0.  0.  0.  0.  0.  0.  0.  0. -3.  0.  0.  0.  0.  0.  0.  0.  0.  0.]\n",
      " [ 0.  0.  0.  0.  0.  0.  0.  0.  0.  0.  0.  0.  0.  0.  0.  0.  0.  0.  0.  0.  0.  0.  0.  0.  0.  0.  0.  0.  0.  0.  0.  0.  0.  0.  0.  0.  0.  0.  0. -3.  0.  0.  0.  0.  0.  0.  0.  0.]\n",
      " [ 0.  0.  0.  0.  0.  0.  0.  0.  0.  0.  0.  0.  0.  0.  0.  0.  0.  0.  0.  0.  0.  0.  0.  0.  0.  0.  0.  0.  0.  0.  0.  0.  0.  0.  0.  0.  0.  0.  0.  0. -3.  0.  0.  0.  0.  0.  0.  0.]\n",
      " [ 0.  0.  0.  0.  0.  0.  0.  0.  0.  0.  0.  0.  0.  0.  0.  0.  0.  0.  0.  0.  0.  0.  0.  0.  0.  0.  0.  0.  0.  0.  0.  0.  0.  0.  0.  0.  0.  0.  0.  0.  0. -3.  0.  0.  0.  0.  0.  0.]\n",
      " [ 0.  0.  0.  0.  0.  0.  0.  0.  0.  0.  0.  0.  0.  0.  0.  0.  0.  0.  0.  0.  0.  0.  0.  0.  0.  0.  0.  0.  0.  0.  0.  0.  0.  0.  0.  0.  0.  0.  0.  0.  0.  0. -3.  0.  0.  0.  0.  0.]\n",
      " [ 0.  0.  0.  0.  0.  0.  0.  0.  0.  0.  0.  0.  0.  0.  0.  0.  0.  0.  0.  0.  0.  0.  0.  0.  0.  0.  0.  0.  0.  0.  0.  0.  0.  0.  0.  0.  0.  0.  0.  0.  0.  0.  0. -3.  0.  0.  0.  0.]\n",
      " [ 0.  0.  0.  0.  0.  0.  0.  0.  0.  0.  0.  0.  0.  0.  0.  0.  0.  0.  0.  0.  0.  0.  0.  0.  0.  0.  0.  0.  0.  0.  0.  0.  0.  0.  0.  0.  0.  0.  0.  0.  0.  0.  0.  0. -3.  0.  0.  0.]\n",
      " [ 0.  0.  0.  0.  0.  0.  0.  0.  0.  0.  0.  0.  0.  0.  0.  0.  0.  0.  0.  0.  0.  0.  0.  0.  0.  0.  0.  0.  0.  0.  0.  0.  0.  0.  0.  0.  0.  0.  0.  0.  0.  0.  0.  0.  0. -3.  0.  0.]\n",
      " [ 0.  0.  0.  0.  0.  0.  0.  0.  0.  0.  0.  0.  0.  0.  0.  0.  0.  0.  0.  0.  0.  0.  0.  0.  0.  0.  0.  0.  0.  0.  0.  0.  0.  0.  0.  0.  0.  0.  0.  0.  0.  0.  0.  0.  0.  0. -3.  0.]\n",
      " [ 0.  0.  0.  0.  0.  0.  0.  0.  0.  0.  0.  0.  0.  0.  0.  0.  0.  0.  0.  0.  0.  0.  0.  0.  0.  0.  0.  0.  0.  0.  0.  0.  0.  0.  0.  0.  0.  0.  0.  0.  0.  0.  0.  0.  0.  0.  0. -3.]]\n",
      "\n"
     ]
    }
   ],
   "source": [
    "op, diagMat = ConvertOp1(omegaAMR, physicsAMR)\n",
    "print(diagMat)\n",
    "print('')"
   ]
  },
  {
   "cell_type": "markdown",
   "metadata": {},
   "source": [
    "If  \n",
    "$v_{j}^{s} = \\frac{E_{j}^{s} - c B_{j}^{s}} {2 c}$  \n",
    "and  \n",
    "$v_{n + j}^{s} = \\frac{E_{j}^{s} + c B_{j}^{s}}{2 c}$  \n",
    "and  \n",
    "$B_{j}^{0} = \\frac{E_{j}^{0}}{c}$,  \n",
    "then  \n",
    "$c \\Delta t \\frac{\\partial v_{j}^{0}}{\\partial x} = 0$  \n",
    "and  \n",
    "$c \\Delta t \\frac{\\partial v_{n + j}^{0}}{\\partial x} = \\frac{\\sigma_{CFL}}{c} (E_{j}^{0} - E_{j - 1}^{0})$.  \n",
    "  \n",
    "If  \n",
    "$v_{j}^{1} = v_{j}^{0} + c \\Delta t \\frac{\\partial v_{j}^{0}}{\\partial x}$  \n",
    "and  \n",
    "$v_{n + j}^{1} = v_{n + j}^{0} - c \\Delta t \\frac{\\partial v_{n + j}^{0}}{\\partial x}$,  \n",
    "then  \n",
    "$v_{j}^{1} = 0$  \n",
    "and  \n",
    "$v_{n + j}^{1} = \\frac{1}{c} [(1 - \\sigma_{CFL}) E_{j}^{0} + \\sigma_{CFL} E_{j - 1}^{0}]$. \n",
    "  \n",
    "If  \n",
    "$E_{j}^{s} = c (v_{j}^{s} + v_{n + j}^{s})$  \n",
    "and  \n",
    "$B_{j}^{s} = v_{n + j}^{s} - v_{j}^{s}$,  \n",
    "then  \n",
    "$E_{j}^{1} = E_{j}^{0} - \\sigma_{CFL} (E_{j}^{0} - E_{j - 1}^{0})$  \n",
    "and  \n",
    "$B_{j}^{1} = \\frac{1}{c} [E_{j}^{0} - \\sigma_{CFL} (E_{j}^{0} - E_{j - 1}^{0})] = B_{j}^{0} - \\sigma_{CFL} (B_{j}^{0} - B_{j - 1}^{0})$.  \n"
   ]
  },
  {
   "cell_type": "code",
   "execution_count": 12,
   "metadata": {},
   "outputs": [],
   "source": [
    "def Check(omega, physics, CFL, u0stack, v_i, v_f, u_f, op):\n",
    "    \n",
    "    degFreed = omega.degFreed\n",
    "    nh_min = omega.nh_min\n",
    "    c = physics.cVec[0]\n",
    "    cMat = physics.cMat\n",
    "    roundFact = 15\n",
    "    \n",
    "    I = np.eye(degFreed)\n",
    "    dx, dt = ST.FindDxDt(omega, CFL, cMat)\n",
    "    print('')\n",
    "    print('')\n",
    "    print('After 1 Forward Euler timestep on a uniform grid:')\n",
    "    print('')\n",
    "    print('The derivative of v should be')\n",
    "    uShiftM = np.roll(u0stack, 1)\n",
    "    uShiftP = np.roll(u0stack, -1)\n",
    "    alpha_min = (1. - c) / (2 * c)\n",
    "    alpha_plu = (1. + c) / (2 * c)\n",
    "    derivShould1 = np.zeros(degFreed, float)\n",
    "    derivShould2 = CFL * (uShiftM - u0stack) # The factor of c is already embedded within u0stack!!!\n",
    "    derivShould = np.round(np.asarray(np.append(derivShould1[:degFreed], derivShould2[degFreed:])), roundFact)\n",
    "    print(derivShould)\n",
    "    print('In actuality, it is')\n",
    "    derivres = np.round(dt * op @ v_i, roundFact)\n",
    "    print(derivres)\n",
    "    print('This is off by a factor of')\n",
    "    r1 = np.round([derivShould[i] / derivres[i] for i in range(len(derivres))], 12)\n",
    "    r1[derivShould == derivres] = 1\n",
    "    print(r1)\n",
    "    indices1 = np.where(r1 != 1)\n",
    "    print('Indices:', indices1[0])\n",
    "    print('Factors:', r1[indices1[0]])\n",
    "    print('')\n",
    "    print('v itself should be')\n",
    "    shouldbe1 = np.zeros(degFreed, float) # alpha_min * (((1. - CFL) * u0stack) + (CFL * uShiftP))\n",
    "    shouldbe2 = ((1. - CFL) * u0stack) + (CFL * uShiftM) # The factor of c is already embedded within u0stack!!!\n",
    "    shouldbe = np.round(np.asarray(np.append(shouldbe1[:degFreed], shouldbe2[degFreed:])), roundFact)\n",
    "    print(shouldbe)\n",
    "    print('In actuality, it is')\n",
    "    v_f1 = np.round(v_f, roundFact)\n",
    "    print(v_f1)\n",
    "    print('This is off by a factor of')\n",
    "    r = np.round([shouldbe[i] / v_f1[i] for i in range(len(v_f))], roundFact)\n",
    "    r[shouldbe == v_f1] = 1\n",
    "    print(r)\n",
    "    indices = np.where(r != 1)\n",
    "    print('Indices:', indices[0])\n",
    "    print('Factors:', r[indices[0]])\n",
    "    print('')\n",
    "    print('u should be')\n",
    "    u1 = ((1. - CFL) * u0stack) + (CFL * uShiftM) # The factor of c is already embedded within u0stack!!!\n",
    "\n",
    "    u = np.round(u1, roundFact)\n",
    "    print(u)\n",
    "    print('In actuality, it is')\n",
    "    u_f1 = np.round(u_f, roundFact)\n",
    "    print(u_f1)\n",
    "    print('This is off by a factor of')\n",
    "    r2 = np.round([u[i] / u_f1[i] for i in range(len(u_f))], roundFact)\n",
    "    r2[u == u_f1] = 1\n",
    "    print(r2)\n",
    "    indices2 = np.where(r2 != 1)\n",
    "    print('Indices:', indices2[0])\n",
    "    print('Factors:', r2[indices2[0]])\n",
    "    return"
   ]
  },
  {
   "cell_type": "code",
   "execution_count": 13,
   "metadata": {},
   "outputs": [],
   "source": [
    "def RKPieces(omega, physics, CFL, RK, deriv, order, PDEOrder):\n",
    "    \n",
    "    errorLoc = 'ERROR:\\nSolverTools:\\nRKPieces:\\n'\n",
    "    errorMess = ''\n",
    "    matInd = physics.matInd\n",
    "    \n",
    "    if (deriv == 'F'):\n",
    "        left = False\n",
    "        derivOp1 = OT.ExactSpatDerivOp(omega)\n",
    "        derivOp2 = derivOp1\n",
    "    else:\n",
    "        left = True\n",
    "        if (deriv == 'U' or deriv == 'UD'):\n",
    "            derivOp1 = OT.SpaceDeriv(omega, order, 'D', matInd0 = -1)\n",
    "            derivOp2 = OT.SpaceDeriv(omega, order, deriv, matInd0 = -1)\n",
    "        else:\n",
    "            if (deriv == 'D' or deriv == 'DD'):\n",
    "                derivOp1 = OT.SpaceDeriv(omega, order, 'U', matInd0 = -1)\n",
    "                derivOp2 = OT.SpaceDeriv(omega, order, deriv, matInd0 = -1)\n",
    "            else:\n",
    "                derivOp1 = -OT.SpaceDeriv(omega, order, deriv, matInd0 = -1)\n",
    "                derivOp2 = -derivOp1\n",
    "    print('derivOp:\\n', derivOp1)\n",
    "    \n",
    "    if (RK == 1):\n",
    "        Scheme = ST.ForwardEuler\n",
    "    else:\n",
    "        if (RK == 2):\n",
    "            Scheme = ST.MidpointMeth\n",
    "        else:\n",
    "            if (RK == 4):\n",
    "                Scheme = ST.RK4\n",
    "            else:\n",
    "                errorMess = str(RK) + ' is not a valid RK entry!'\n",
    "    \n",
    "    cMat1 = physics.cMat\n",
    "    dx, dt = ST.FindDxDt(omega, CFL, cMat1)\n",
    "    waves1 = WT.MakeWaves(omega)\n",
    "    nullspace = OT.FindNullspace(omega, waves1)\n",
    "    \n",
    "    \n",
    "    if (PDEOrder == 1):\n",
    "        derivOp == derivOp1\n",
    "        waves = waves1 @ nullspace\n",
    "        cMat = cMat1\n",
    "    else:\n",
    "        if (PDEOrder == 2):\n",
    "            derivOp = OT.Block([derivOp1, derivOp2])\n",
    "            waves = OT.Block(waves1 @ nullspace, var = 2)\n",
    "            cMat = OT.Block(cMat1, var = 2)\n",
    "        else:\n",
    "            errorMess = 'Invalid PDE order!'\n",
    "    \n",
    "    if (errorMess != ''):\n",
    "        sys.exit(errorLoc + errorMess)\n",
    "    \n",
    "    return dt, cMat, waves, derivOp, Scheme, left\n"
   ]
  },
  {
   "cell_type": "code",
   "execution_count": 14,
   "metadata": {},
   "outputs": [],
   "source": [
    "#   WaveEqRK(omegaC, physicsC, waveInitC, nt, CFL, RK, deriv, order) deriv will be upwind, center, or exact.\n",
    "def WaveEqRK(omega, physics, u0, nt, CFL, RK, deriv, order): # derivOp, left = True):\n",
    "    \n",
    "    errorLoc = 'ERROR:\\nSolverTools:\\nWaveEqRK:\\n'\n",
    "    errorMess = ''\n",
    "\n",
    "    dt, cMat, waves, derivOp, Scheme, left = RKPieces(omega, physics, CFL, RK, deriv, order, 2)\n",
    "    \n",
    "    # Unpack requisite attributes.\n",
    "    degFreed = omega.degFreed\n",
    "    \n",
    "    c = cMat[0, 0]\n",
    "    \n",
    "    # Stack the initial condition.\n",
    "    u0stack = np.asarray(np.append(u0, u0 / c)) # I'm not sure how to relate the initial condition for the E and B fields.\n",
    "    \n",
    "    # Create change of basis matrix.\n",
    "    convertOp, diagMat, CoefOp, CoefOpInv = ConvertOp(omega, physics)\n",
    "    convertOpinv = LA.inv(convertOp)\n",
    "    \n",
    "    # Change basis of initial condtion.\n",
    "    v0 = np.asarray(CoefOp @ convertOpinv @ u0stack)\n",
    "    v = v0.copy()\n",
    "    \n",
    "    # Create identity matrix to appease the current structure of my RK function.\n",
    "    I = np.eye(2 * degFreed)\n",
    "    \n",
    "    # Create operator to pass into RK function.\n",
    "    op = diagMat @ derivOp\n",
    "    \n",
    "    t = 0\n",
    "    for n in range(nt):\n",
    "        v, t = Scheme(v, t, dt, op, waves, left)\n",
    "\n",
    "#     for i in range(nt):\n",
    "#         #   ST.RungeKutta(omega, physics, waves, u0, nt, CFL, RK, op = [], left = True)\n",
    "#         v = ST.RungeKutta(omega, physics, I, v, 1, CFL, RK, op = op)\n",
    "    \n",
    "    # Convert v back to space-space.\n",
    "    u = convertOp @ CoefOpInv @ v\n",
    "\n",
    "    # Convert u to k space.\n",
    "    fCoefs = LA.inv(waves) @ u\n",
    "    \n",
    "    # Run check.\n",
    "    if ((nt == 1) and (RK == 1)):\n",
    "        Check(omega, physics, CFL, u0stack, v_i, v, u, op)\n",
    "    \n",
    "    return fCoefs, v"
   ]
  },
  {
   "cell_type": "code",
   "execution_count": 15,
   "metadata": {},
   "outputs": [],
   "source": [
    "#   WaveEqRK(omega, physics, waves, u0, nt, CFL, RK, deriv) deriv will be upwind, center, or exact.\n",
    "def WaveEqRK1(omega, physics, waves, u0, nt, CFL, RK, derivOp, left = True):\n",
    "    # Unpack requisite attributes.\n",
    "    degFreed = omega.degFreed\n",
    "    cMat = physics.cMat\n",
    "    c = cMat[0, 0]\n",
    "    matInd = physics.matInd\n",
    "    \n",
    "    \n",
    "    # Stack the initial condition.\n",
    "    u0stack = np.asarray(np.append(u0, u0 / c)) # I'm not sure how to relate the initial condition for the E and B fields.\n",
    "    \n",
    "    # Create change of basis matrix.\n",
    "    convertOp, diagMat = ConvertOp1(omega, physics)\n",
    "    convertOpinv = LA.inv(convertOp)\n",
    "    \n",
    "    # Change basis of initial condtion.\n",
    "    v = np.asarray(convertOpinv @ u0stack)\n",
    "    v_i = v.copy()\n",
    "    print('shape of v is', np.shape(v))\n",
    "    \n",
    "    # Turn difference matrix into block diagonal.\n",
    "    # THIS IS SCOTCH TAPE.\n",
    "    derivMat = OT.Block([-derivOp.transpose(), derivOp]) # ExpandMat(derivOp)\n",
    "    \n",
    "    # Create identity matrix to appease the current structure of my RK function.\n",
    "    I = np.eye(2 * degFreed)\n",
    "    \n",
    "    # Turn Fourier matrix into block diagonal.\n",
    "    print('shape of waves is', np.shape(waves))\n",
    "    wavesMat = OT.Block(waves, var = 2)\n",
    "    \n",
    "    # Create operator to pass into RK function.\n",
    "    op = diagMat @ derivMat\n",
    "\n",
    "    for i in range(nt):\n",
    "        #   ST.RungeKutta(omega, physics, waves, u0, nt, CFL, RK, op = [], left = True)\n",
    "        v = ST.RungeKutta(omega, physics, I, v, 1, CFL, RK, op = op)\n",
    "    \n",
    "    # Convert v back to space-space.\n",
    "    u = convertOp @ v\n",
    "    \n",
    "    print('shape of wavesMat is', np.shape(wavesMat))\n",
    "\n",
    "    # Convert u to k space.\n",
    "    fCoefs = LA.inv(wavesMat) @ u\n",
    "    \n",
    "    # Run check.\n",
    "    if ((nt == 1) and (RK == 1)):\n",
    "        Check(omega, physics, CFL, u0stack, v_i, v, u, op)\n",
    "    \n",
    "    return fCoefs, v\n"
   ]
  },
  {
   "cell_type": "code",
   "execution_count": 16,
   "metadata": {},
   "outputs": [],
   "source": [
    "# op, diagMat = ConvertOp(omegaC, physicsC)"
   ]
  },
  {
   "cell_type": "code",
   "execution_count": 17,
   "metadata": {},
   "outputs": [
    {
     "name": "stdout",
     "output_type": "stream",
     "text": [
      "You are using ExactSpatOp in TestTools module!\n",
      "You are using ExactSpatOp in TestTools module!\n"
     ]
    }
   ],
   "source": [
    "# c = ConvertParams(permitivity, permeability, L)\n",
    "t, nt = ST.CalcTime(omegaAMR, CFL, cMatAMR, nt = nt)\n",
    "mu, sigma = WFT.GaussParams(x_0, x_1)\n",
    "args = [mu, sigma, mode]\n",
    "wavesAMR = WT.MakeWaves(omegaAMR)\n",
    "nullspace = OT.FindNullspace(omegaAMR, wavesAMR, Hans = Hans)\n",
    "restrictOp = GTT.CoarsenOp(omegaAMR)\n",
    "\n",
    "wavesF = WT.MakeWaves(omegaF)\n",
    "wavesC = WT.MakeWaves(omegaC)\n",
    "\n",
    "derivMat = TT.ExactSpatOp(omegaAMR)\n",
    "spatOp = -cMatF @ derivMat\n",
    "timePropOp = LA2.expm(t * spatOp)\n",
    "\n",
    "derivMatC = TT.ExactSpatOp(omegaC)\n",
    "spatOpC = -cMatC @ derivMatC\n",
    "timePropOpC = LA2.expm(t * spatOpC)"
   ]
  },
  {
   "cell_type": "code",
   "execution_count": 18,
   "metadata": {},
   "outputs": [],
   "source": [
    "# wavesAMR = OT.Block(wavesAMR, var = 2)\n",
    "nullspaceBlock = OT.Block(nullspace, var = 2)\n",
    "# restrictOp = OT.Block(restrictOp, var = 2)\n",
    "# wavesC = OT.Block(wavesC, var = 2)\n",
    "# wavesF = OT.Block(wavesF, var = 2)\n",
    "\n",
    "opC = OT.SpaceDeriv(omegaC, order, deriv)#-cMatC @ OT.SpaceDeriv(omegaC, order, diff)\n",
    "opF = OT.SpaceDeriv(omegaF, order, deriv)#-cMatF @ OT.SpaceDeriv(omegaF, order, diff)\n",
    "opAMR = OT.SpaceDeriv(omegaAMR, order, deriv)#-cMatAMR @ OT.SpaceDeriv(omegaAMR, order, diff)"
   ]
  },
  {
   "cell_type": "code",
   "execution_count": 19,
   "metadata": {
    "scrolled": true
   },
   "outputs": [
    {
     "name": "stdout",
     "output_type": "stream",
     "text": [
      "We're doing BoolesAve!\n",
      "x is 65 long.\n",
      "We're doing BoolesAve!\n",
      "x is 129 long.\n",
      "We're doing BoolesAve!\n",
      "x is 65 long.\n",
      "We're doing BoolesAve!\n",
      "x is 129 long.\n",
      "We're doing BoolesAve!\n",
      "x is 97 long.\n",
      "shape of v is (48,)\n",
      "shape of waves is (24, 24)\n",
      "shape of wavesMat is (48, 48)\n"
     ]
    }
   ],
   "source": [
    "waveInitC = WFT.InitCond(omegaC, physicsC, func, args)\n",
    "waveInitF = WFT.InitCond(omegaF, physicsF, func, args)\n",
    "\n",
    "FCoefsC = FFTT.FourierCoefs(wavesC, waveInitC)\n",
    "FCoefsF = FFTT.FourierCoefs(wavesF, waveInitF)\n",
    "FCoefsC1 = np.asarray(np.append(FCoefsC, FCoefsC / c))\n",
    "FCoefsF1 = np.asarray(np.append(FCoefsF, FCoefsF / c))\n",
    "\n",
    "# Find initial waveform on coarse, fine, and AMR grids.\n",
    "waveInitC = wavesC @ FCoefsC\n",
    "waveInitF = wavesF @ FCoefsF\n",
    "waveInitAMR = restrictOp @ waveInitF\n",
    "\n",
    "# Find Fourier coefficients for initial condition on AMR grid.\n",
    "FCoefsAMR = FFTT.FourierCoefs(wavesAMR @ nullspace, waveInitAMR)\n",
    "FCoefsAMR1 = np.asarray(np.append(FCoefsAMR, FCoefsAMR / c))\n",
    "\n",
    "wavePropC = WFT.WaveEq(omegaC, physicsC, func, args, t)#FFTT.FourierCoefs(wavesC, wavePropC) # timePropOpC @ FCoefsC\n",
    "wavePropF = WFT.WaveEq(omegaF, physicsF, func, args, t)\n",
    "wavePropAMR = WFT.WaveEq(omegaAMR, physicsAMR, func, args, t)#FFTT.FourierCoefs(wavesC, wavePropC) # timePropOpC @ FCoefsC\n",
    "\n",
    "# Find propagated coeficients on coarse and fine grid.\n",
    "FCoefsPropC = FFTT.FourierCoefs(wavesC, wavePropC)\n",
    "FCoefsPropF = FFTT.FourierCoefs(wavesF, wavePropF)\n",
    "FCoefsPropAMR = FFTT.FourierCoefs(wavesAMR @ nullspace, wavePropAMR)\n",
    "FCoefsPropC1 = np.asarray(np.append(FCoefsPropC, FCoefsPropC / c))\n",
    "FCoefsPropF1 = np.asarray(np.append(FCoefsPropF, FCoefsPropF / c))\n",
    "FCoefsPropAMR1 = np.asarray(np.append(FCoefsPropAMR, FCoefsPropAMR / c))\n",
    "\n",
    "# TEST FOR EXACT GAUSSIAN AT NEW LOCATION.\n",
    "\n",
    "# solverCoefsC = ST.RungeKutta(omegaC, physicsC, wavesC, waveInitC, nt, CFL, RK, op = opC) # TimeIntegratorFunc(omegaC, wavesC, waveInitC, nt, cMatC, CFL, DiffFunc)\n",
    "# solverCoefsF = ST.RungeKutta(omegaF, physicsF, wavesF, waveInitF, nt, CFL, RK, op = opF) # TimeIntegratorFunc(omegaF, wavesF, waveInitF, nt, cMatF, CFL, DiffFunc)\n",
    "# solverCoefsAMR = ST.RungeKutta(omegaAMR, physicsAMR, wavesAMR @ nullspace, waveInitAMR, nt, CFL, RK, op = opAMR) # TimeIntegratorFunc(omegaAMR, wavesAMR @ nullspace, waveInitAMR, nt, cMat, CFL, DiffFunc, order = order)\n",
    "\n",
    "# solverCoefsC, vC = WaveEqRK(omegaC, physicsC, waveInitC, nt, CFL, RK, deriv, order) # TimeIntegratorFunc(omegaC, wavesC, waveInitC, nt, cMatC, CFL, DiffFunc)\n",
    "# solverCoefsF, vF = WaveEqRK(omegaF, physicsF, waveInitF, nt, CFL, RK, deriv, order) # TimeIntegratorFunc(omegaF, wavesF, waveInitF, nt, cMatF, CFL, DiffFunc)\n",
    "# solverCoefsAMR, vAMR = WaveEqRK(omegaAMR, physicsAMR, waveInitAMR, nt, CFL, RK, deriv, order) # TimeIntegratorFunc(omegaAMR, wavesAMR @ nullspace, waveInitAMR, nt, cMat, CFL, DiffFunc, order = order)\n",
    "solverCoefsAMR, vAMR = WaveEqRK1(omegaAMR, physicsAMR, wavesAMR @ nullspace, waveInitAMR, nt, CFL, RK, opAMR) # TimeIntegratorFunc(omegaAMR, wavesAMR @ nullspace, waveInitAMR, nt, cMat, CFL, DiffFunc, order = order)\n",
    "\n",
    "# WaveEqRK1(omega, physics, waves, u0, nt, CFL, RK, deriv, left = True)\n",
    "\n",
    "# u1 = ST.RungeKutta(omegaC, physicsC, wavesC, waveInitC, nt, CFL, RK, op = -cMatC @ opC)\n",
    "# u2 = ST.RungeKutta(omegaC, physicsC, wavesC, waveInitC, nt, CFL, RK, op = -cMatC @ opC)\n",
    "# doubleSolvCoefsC = np.asarray(np.append(u1, u2))\n",
    "\n",
    "\n",
    "# allCoefsC = PT.Load(FCoefsC1, FCoefsPropC1, solverCoefsC)#, doubleSolvCoefsC)#, FCoefsPropCTh)\n",
    "# allCoefsF = PT.Load(FCoefsF1, FCoefsPropF1, solverCoefsF)#, FCoefsPropFTh)\n",
    "allCoefsAMR = nullspaceBlock @ PT.Load(FCoefsAMR1, FCoefsPropAMR1, solverCoefsAMR)#, FCoefsPropAMRTh)\n",
    "\n",
    "\n",
    "\n",
    "\n",
    "labels = ['Initial Wave', 'Exact Propagated Wave', 'RK-Propagated Wave']#, 'Naively RK-Propagated Wave']#, 'Rotation Matrix Propagated Wave']\n"
   ]
  },
  {
   "cell_type": "code",
   "execution_count": 20,
   "metadata": {},
   "outputs": [],
   "source": [
    "# xF = omegaF.xCell\n",
    "# plt.figure()\n",
    "# plt.plot(xF, vF[:nh_max])\n",
    "# plt.plot(xF, vF[nh_max:])\n",
    "# plt.show()"
   ]
  },
  {
   "cell_type": "code",
   "execution_count": null,
   "metadata": {},
   "outputs": [],
   "source": []
  },
  {
   "cell_type": "code",
   "execution_count": 21,
   "metadata": {
    "scrolled": false
   },
   "outputs": [
    {
     "data": {
      "image/png": "[encoded data removed]",
      "text/plain": [
       "<Figure size 1800x900 with 1 Axes>"
      ]
     },
     "metadata": {
      "needs_background": "light"
     },
     "output_type": "display_data"
    },
    {
     "data": {
      "image/png": "[encoded data removed]",
      "text/plain": [
       "<Figure size 1800x900 with 1 Axes>"
      ]
     },
     "metadata": {
      "needs_background": "light"
     },
     "output_type": "display_data"
    }
   ],
   "source": [
    "# PT.PlotMixedWave(omegaC, physicsC, waves = wavesC, FCoefs = allCoefsC, rescale = 5, yGrid = True, labels = labels, saveName = 'RKWaveEqAttemptc2')#, saveName = 'Coarse', dpi = 300)\n",
    "# PT.PlotMixedWave(omegaF, physicsF, waves = wavesF, FCoefs = allCoefsF, rescale = 5, yGrid = True, labels = labels, title = 'Fine-Grid Mode Propagation', saveName = 'Fine', dpi = 300)\n",
    "PT.PlotMixedWave(omegaAMR, physicsAMR, waves = wavesAMR, FCoefs = nullspaceBlock @ solverCoefsAMR, rescale = 5, yGrid = True)#, labels = labels, title = 'AMR-Grid Mode Propagation', saveName = 'AMRHansMethod', dpi = 300)\n"
   ]
  },
  {
   "cell_type": "code",
   "execution_count": 22,
   "metadata": {
    "scrolled": false
   },
   "outputs": [
    {
     "name": "stdout",
     "output_type": "stream",
     "text": [
      "[   8   16   32   64  128  256  512 1024]\n",
      "\n",
      "iter 0\n",
      "8\n",
      "distance is\n",
      " [ 0.5    0.375  0.25   0.125  0.    -0.125 -0.25  -0.375 -0.5  ] \n",
      "\n",
      "distance is\n",
      " [1.    0.875 0.75  0.625 0.5   0.375 0.25  0.125 0.   ] \n",
      "\n"
     ]
    },
    {
     "ename": "TypeError",
     "evalue": "WaveEqRK() got an unexpected keyword argument 'derivOp'",
     "output_type": "error",
     "traceback": [
      "\u001b[0;31m---------------------------------------------------------------------------\u001b[0m",
      "\u001b[0;31mTypeError\u001b[0m                                 Traceback (most recent call last)",
      "\u001b[0;32m<ipython-input-22-691d32fcc059>\u001b[0m in \u001b[0;36m<module>\u001b[0;34m\u001b[0m\n\u001b[1;32m     39\u001b[0m     \u001b[0mFCoefsProp1\u001b[0m \u001b[0;34m=\u001b[0m \u001b[0mnp\u001b[0m\u001b[0;34m.\u001b[0m\u001b[0masarray\u001b[0m\u001b[0;34m(\u001b[0m\u001b[0mnp\u001b[0m\u001b[0;34m.\u001b[0m\u001b[0mappend\u001b[0m\u001b[0;34m(\u001b[0m\u001b[0mFCoefsProp\u001b[0m\u001b[0;34m,\u001b[0m \u001b[0mFCoefsProp\u001b[0m \u001b[0;34m/\u001b[0m \u001b[0mc\u001b[0m\u001b[0;34m)\u001b[0m\u001b[0;34m)\u001b[0m\u001b[0;34m\u001b[0m\u001b[0;34m\u001b[0m\u001b[0m\n\u001b[1;32m     40\u001b[0m \u001b[0;34m\u001b[0m\u001b[0m\n\u001b[0;32m---> 41\u001b[0;31m     \u001b[0msolverCoefs\u001b[0m\u001b[0;34m,\u001b[0m \u001b[0mv\u001b[0m \u001b[0;34m=\u001b[0m \u001b[0mWaveEqRK\u001b[0m\u001b[0;34m(\u001b[0m\u001b[0momega\u001b[0m\u001b[0;34m,\u001b[0m \u001b[0mphysics\u001b[0m\u001b[0;34m,\u001b[0m \u001b[0mwaves\u001b[0m\u001b[0;34m,\u001b[0m \u001b[0mwaveInit\u001b[0m\u001b[0;34m,\u001b[0m \u001b[0mnt\u001b[0m\u001b[0;34m,\u001b[0m \u001b[0mCFL\u001b[0m\u001b[0;34m,\u001b[0m \u001b[0mRK\u001b[0m\u001b[0;34m,\u001b[0m \u001b[0mderivOp\u001b[0m \u001b[0;34m=\u001b[0m \u001b[0mop\u001b[0m\u001b[0;34m)\u001b[0m\u001b[0;34m\u001b[0m\u001b[0;34m\u001b[0m\u001b[0m\n\u001b[0m\u001b[1;32m     42\u001b[0m     \u001b[0mwavePropSolv\u001b[0m \u001b[0;34m=\u001b[0m \u001b[0mwavesMat\u001b[0m \u001b[0;34m@\u001b[0m \u001b[0msolverCoefs\u001b[0m\u001b[0;34m\u001b[0m\u001b[0;34m\u001b[0m\u001b[0m\n\u001b[1;32m     43\u001b[0m \u001b[0;34m\u001b[0m\u001b[0m\n",
      "\u001b[0;31mTypeError\u001b[0m: WaveEqRK() got an unexpected keyword argument 'derivOp'"
     ]
    }
   ],
   "source": [
    "func = WFT.Gauss\n",
    "args = [mu, sigma]\n",
    "nt = 1\n",
    "dataPts = 8\n",
    "errorE = np.zeros(dataPts, float)\n",
    "errorB = np.zeros(dataPts, float)\n",
    "nhPower = np.arange(dataPts) + 1\n",
    "nhVec = 4 * (2 ** nhPower)\n",
    "print(nhVec)\n",
    "print('')\n",
    "\n",
    "labels = ['Initial Wave', 'Exact Propagated Wave', 'RK-Propagated Wave']\n",
    "for i in range(dataPts):\n",
    "    \n",
    "    print('iter', i)\n",
    "    nh_min = 2 ** (i + 3)\n",
    "    print(nh_min)\n",
    "    omega = BT.Grid(nh_min)\n",
    "    physics = BT.PhysProps(omega, epsilons, mus, locs, L)\n",
    "\n",
    "    c = physics.cVec\n",
    "    cMat = physics.cMat\n",
    "    c = c[0]\n",
    "\n",
    "    t, nt = ST.CalcTime(omega, CFL, cMat, nt = nt)\n",
    "    waves = WT.MakeWaves(omega)\n",
    "    wavesMat = OT.Block(waves, var = 2)\n",
    "    op = OT.SpaceDeriv(omega, order, deriv)\n",
    "\n",
    "    waveInit = WFT.InitCond(omega, physics, func, args)\n",
    "    FCoefs = FFTT.FourierCoefs(waves, waveInit)\n",
    "    FCoefs1 = np.asarray(np.append(FCoefs, FCoefs / c))\n",
    "\n",
    "    waveProp = WFT.WaveEq(omega, physics, func, args, t)\n",
    "    wavePropEx = np.asarray(np.append(waveProp, waveProp / c))\n",
    "\n",
    "    # Find propagated coeficients on coarse and fine grid.\n",
    "    FCoefsProp = FFTT.FourierCoefs(waves, waveProp)\n",
    "    FCoefsProp1 = np.asarray(np.append(FCoefsProp, FCoefsProp / c))\n",
    "\n",
    "    solverCoefs, v = WaveEqRK(omega, physics, waves, waveInit, nt, CFL, RK, derivOp = op)\n",
    "    wavePropSolv = wavesMat @ solverCoefs\n",
    "\n",
    "    errorVec = abs(wavePropEx - wavePropSolv)\n",
    "    errorE[i] = TT.VectorNorm(errorVec[:nh_min], 'max')\n",
    "    errorB[i] = TT.VectorNorm(errorVec[nh_min:], 'max')\n",
    "    \n",
    "    allCoefs = PT.Load(FCoefs1, FCoefsProp1, solverCoefs)\n",
    "#     PT.PlotMixedWave(omega, physics, waves = waves, FCoefs = allCoefs, rescale = 5, yGrid = True, labels = labels)\n",
    "    \n",
    "    print('')\n",
    "\n",
    "print('done')\n"
   ]
  },
  {
   "cell_type": "code",
   "execution_count": null,
   "metadata": {},
   "outputs": [],
   "source": [
    "plt.figure()\n",
    "plt.plot(nhVec, errorE)\n",
    "plt.title(r'$E$ Field Error')\n",
    "plt.ylabel('Max Norm Error')\n",
    "plt.xlabel('Resolution')\n",
    "plt.show()\n",
    "\n",
    "plt.figure()\n",
    "plt.plot(nhVec, errorB)\n",
    "plt.title(r'$B$ Field Error')\n",
    "plt.ylabel('Max Norm Error')\n",
    "plt.xlabel('Resolution')\n",
    "plt.show()"
   ]
  },
  {
   "cell_type": "code",
   "execution_count": null,
   "metadata": {},
   "outputs": [],
   "source": [
    "# Notes for Hans:\n",
    "#\n",
    "# If the resolution is too low, there isn't sufficient high-frequency content to represent the gaussian.\n",
    "# Sparse function needs to be developed for upwind and center-diffference of arbitrary-order polynomial interpolation.\n",
    "# I see that I can't use the rotation matrix to propagate the matrices. I'm pretty sure that my Fourier-propagated logic is wrong, though.\n",
    "# 2nd-order polynomial interp is working BETTER THAN 3rd-order for RK4 center diff.\n",
    "# How do I employ Fourier transforms on Maxwell's Equations?\n"
   ]
  },
  {
   "cell_type": "code",
   "execution_count": null,
   "metadata": {
    "scrolled": false
   },
   "outputs": [],
   "source": [
    "# Notes for Sasha:\n",
    "#\n",
    "# Make residuals test of Gaussian (first unpropagated, then propagated) to assess its validity.\n"
   ]
  },
  {
   "cell_type": "code",
   "execution_count": null,
   "metadata": {},
   "outputs": [],
   "source": [
    "A = np.arange(10)\n",
    "print(A)\n",
    "print(A[1:])"
   ]
  },
  {
   "cell_type": "code",
   "execution_count": null,
   "metadata": {},
   "outputs": [],
   "source": []
  }
 ],
 "metadata": {
  "kernelspec": {
   "display_name": "Python 3",
   "language": "python",
   "name": "python3"
  },
  "language_info": {
   "codemirror_mode": {
    "name": "ipython",
    "version": 3
   },
   "file_extension": ".py",
   "mimetype": "text/x-python",
   "name": "python",
   "nbconvert_exporter": "python",
   "pygments_lexer": "ipython3",
   "version": "3.7.3"
  }
 },
 "nbformat": 4,
 "nbformat_minor": 2
}
