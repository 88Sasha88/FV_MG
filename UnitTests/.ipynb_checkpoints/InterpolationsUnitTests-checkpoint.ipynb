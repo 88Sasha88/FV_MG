{
 "cells": [
  {
   "cell_type": "code",
   "execution_count": 1,
   "metadata": {},
   "outputs": [
    {
     "ename": "ModuleNotFoundError",
     "evalue": "No module named 'BasicTools'",
     "output_type": "error",
     "traceback": [
      "\u001b[0;31m---------------------------------------------------------------------------\u001b[0m",
      "\u001b[0;31mModuleNotFoundError\u001b[0m                       Traceback (most recent call last)",
      "\u001b[0;32m<ipython-input-1-4be2c8a371b8>\u001b[0m in \u001b[0;36m<module>\u001b[0;34m\u001b[0m\n\u001b[1;32m     11\u001b[0m \u001b[0;32mimport\u001b[0m \u001b[0mitertools\u001b[0m \u001b[0;32mas\u001b[0m \u001b[0mit\u001b[0m\u001b[0;34m\u001b[0m\u001b[0;34m\u001b[0m\u001b[0m\n\u001b[1;32m     12\u001b[0m \u001b[0;32mfrom\u001b[0m \u001b[0mIPython\u001b[0m\u001b[0;34m.\u001b[0m\u001b[0mcore\u001b[0m\u001b[0;34m.\u001b[0m\u001b[0mdisplay\u001b[0m \u001b[0;32mimport\u001b[0m \u001b[0mHTML\u001b[0m\u001b[0;34m\u001b[0m\u001b[0;34m\u001b[0m\u001b[0m\n\u001b[0;32m---> 13\u001b[0;31m \u001b[0;32mimport\u001b[0m \u001b[0mBasicTools\u001b[0m \u001b[0;32mas\u001b[0m \u001b[0mBT\u001b[0m\u001b[0;34m\u001b[0m\u001b[0;34m\u001b[0m\u001b[0m\n\u001b[0m\u001b[1;32m     14\u001b[0m \u001b[0;32mimport\u001b[0m \u001b[0mWaveTools\u001b[0m \u001b[0;32mas\u001b[0m \u001b[0mWT\u001b[0m\u001b[0;34m\u001b[0m\u001b[0;34m\u001b[0m\u001b[0m\n\u001b[1;32m     15\u001b[0m \u001b[0;32mimport\u001b[0m \u001b[0mPlotTools\u001b[0m \u001b[0;32mas\u001b[0m \u001b[0mPT\u001b[0m\u001b[0;34m\u001b[0m\u001b[0;34m\u001b[0m\u001b[0m\n",
      "\u001b[0;31mModuleNotFoundError\u001b[0m: No module named 'BasicTools'"
     ]
    }
   ],
   "source": [
    "import os.path\n",
    "from scipy import *\n",
    "import numpy as np\n",
    "from numpy import *\n",
    "from numpy import linalg as LA\n",
    "from scipy import linalg as LA2\n",
    "import sympy as sympy\n",
    "import sys as sys\n",
    "import time\n",
    "import matplotlib.pyplot as plt\n",
    "import itertools as it\n",
    "from IPython.core.display import HTML\n",
    "import BasicTools as BT\n",
    "import WaveTools as WT\n",
    "import PlotTools as PT\n",
    "import FFTTools as FFTT\n",
    "import OperatorTools as OT\n",
    "import GridTransferTools as GTT\n",
    "import TestTools as TT\n",
    "import SolverTools as ST\n",
    "\n",
    "display(HTML(\"<style>pre { white-space: pre !important; }</style>\"))\n",
    "np.set_printoptions( linewidth = 10000, threshold = 100000)"
   ]
  },
  {
   "cell_type": "code",
   "execution_count": null,
   "metadata": {},
   "outputs": [],
   "source": [
    "nh = 8\n",
    "refRatio = 2\n",
    "c = 1.\n",
    "CFL = 0.5\n",
    "nt = 32\n",
    "RK = 4\n",
    "deriv = 'CD'"
   ]
  },
  {
   "cell_type": "code",
   "execution_count": null,
   "metadata": {},
   "outputs": [],
   "source": [
    "if (RK == 1):\n",
    "    TimeIntegratorFunc = ST.ForwardEuler\n",
    "else:\n",
    "    if (RK == 2):\n",
    "        TimeIntegratorFunc = ST.MidpointMeth\n",
    "    else:\n",
    "        TimeIntegratorFunc = ST.RK4\n",
    "\n",
    "if (deriv == 'U'):\n",
    "    DiffMatFunc = OT.Upwind1D\n",
    "    DiffFunc = ST.Upwind\n",
    "else:\n",
    "    DiffMatFunc = OT.CenterDiff1D\n",
    "    DiffFunc = TT.CenterDiff#ST.CenterDiff"
   ]
  },
  {
   "cell_type": "code",
   "execution_count": null,
   "metadata": {},
   "outputs": [],
   "source": [
    "omega = BT.Grid(nh)\n",
    "finehalf = list(np.arange(int(nh / refRatio)) + int(nh / refRatio))\n",
    "omega.AddPatch(refRatio, finehalf)\n",
    "degFreed = omega.degFreed\n",
    "nh_min = omega.nh_min\n",
    "nh_max = omega.nh_max\n",
    "t, nt = ST.CalcTime(omega, CFL, c, nt = nt)\n",
    "derivMat = DiffMatFunc(omega)\n",
    "spatOp = -c * derivMat\n",
    "strings = omega.strings\n",
    "timePropOp = LA2.expm(t * spatOp)\n",
    "omegaF = BT.Grid(nh_max)\n",
    "wavesF = WT.MakeWaves(omegaF)"
   ]
  },
  {
   "cell_type": "code",
   "execution_count": null,
   "metadata": {},
   "outputs": [],
   "source": [
    "def SpacePoly(omega, DiffFunc, deg, coefs = []):\n",
    "    errorLoc = 'ERROR:\\nTestTools:\\nSpacePoly:\\n'\n",
    "    if (coefs == []):\n",
    "        coefs = np.ones(deg + 1, float)\n",
    "    else:\n",
    "        errorMess = BT.CheckSize(deg, coefs, nName = 'deg', matricaName = 'coefs')\n",
    "        if (errorMess != ''):\n",
    "            sys.exit(errorLoc + errorMess)\n",
    "    nh_max = omega.nh_max\n",
    "    waves = WT.MakeWaves(omega)\n",
    "    x = omega.xCell\n",
    "    nullspace = OT.FindNullspace(omega, waves)\n",
    "    waveform = 0\n",
    "    waveDeriv = 0\n",
    "    polyString = 'u(x)'\n",
    "    print(polyString + ' = ')\n",
    "    #derivString = '$\\frac{\\textup{d}}{}'\n",
    "    for d in range(deg + 1):\n",
    "        waveform = waveform + (coefs[d] * (x ** d))\n",
    "        if (d > 0):\n",
    "            waveDeriv = waveDeriv + (coefs[d] * (x ** (d - 1)))\n",
    "        \n",
    "        if (d == 0):\n",
    "            monoString = ' = ' + str(coefs[d])\n",
    "            print(monoString)\n",
    "        else:\n",
    "            if (d == 1):\n",
    "                monoString = ' ' + str(coefs[d]) + 'x'\n",
    "            else:\n",
    "                monoString = ' ' + str(coefs[d]) + 'x^' + str(d)\n",
    "        if (d != deg):\n",
    "            monoString = monoString + ' +'\n",
    "        print(polyString)\n",
    "        polyString = polyString + monoString\n",
    "        print(polyString)\n",
    "    waveDerivTest = DiffFunc(omega, 0, waveform, -1, 0)\n",
    "    print(x)\n",
    "    print(polyString)\n",
    "    print(waveform)\n",
    "    print(waveDeriv)\n",
    "    print(waveDerivTest)\n",
    "    print('')\n",
    "    return"
   ]
  },
  {
   "cell_type": "code",
   "execution_count": null,
   "metadata": {},
   "outputs": [],
   "source": [
    "SpacePoly(omega, DiffFunc, 1)"
   ]
  },
  {
   "cell_type": "code",
   "execution_count": null,
   "metadata": {},
   "outputs": [],
   "source": []
  },
  {
   "cell_type": "code",
   "execution_count": null,
   "metadata": {},
   "outputs": [],
   "source": [
    "def BoundVals(order, x_0):\n",
    "    if ((order + 1) % 3 == 0):\n",
    "        n_c = int(np.floor((order + 1) / 3))\n",
    "    else:\n",
    "        n_c = int(np.floor(((order + 1) / 3) + 1))\n",
    "    n_f = order + 1 - n_c\n",
    "    bounds = np.linspace(-n_c, n_f / 2., num = (2 * n_c) + n_f + 1)\n",
    "    rm = [(2 * k) + 1 for k in range(n_c)]\n",
    "    bounds = np.delete(bounds, rm)\n",
    "    if (x_0 > 0):\n",
    "         bounds = -bounds[::-1]\n",
    "    return bounds"
   ]
  },
  {
   "cell_type": "code",
   "execution_count": null,
   "metadata": {},
   "outputs": [],
   "source": [
    "# Put this in GTT.\n",
    "def MomentVander(order, bounds, xVec):\n",
    "    # Add error catchers!\n",
    "    intCoefs = (np.arange(order + 1) + 1)[::-1]**-1.\n",
    "    polyCoefs = np.diag(intCoefs)\n",
    "    h = (bounds[1:] - bounds[:-1])**-1.\n",
    "    hInv = np.diag(h)\n",
    "    A = np.diag(bounds[1:]) @ np.vander(bounds[1:])\n",
    "    B = np.diag(bounds[:-1]) @ np.vander(bounds[:-1])\n",
    "    VanderMat = hInv @ (A - B) @ polyCoefs\n",
    "    polyInterp = xVec @ LA2.inv(VanderMat)\n",
    "    return polyInterp"
   ]
  },
  {
   "cell_type": "code",
   "execution_count": null,
   "metadata": {},
   "outputs": [],
   "source": [
    "def GhostCellStencil(order, x_0):\n",
    "    intCoefs = (np.arange(order + 1) + 1)[::-1]**-1.\n",
    "    polyCoefs = np.diag(intCoefs)\n",
    "    xVec = np.polynomial.polynomial.polyvander(x_0, order)[0][::-1] @ polyCoefs\n",
    "    bounds = BoundVals(order, x_0)\n",
    "    polyInterp = MomentVander(order, bounds, xVec)\n",
    "    return polyInterp"
   ]
  },
  {
   "cell_type": "code",
   "execution_count": null,
   "metadata": {},
   "outputs": [],
   "source": [
    "polyInterp = GhostCellStencil(2, -0.5)\n",
    "print(polyInterp)\n",
    "print(type(polyInterp))"
   ]
  },
  {
   "cell_type": "code",
   "execution_count": null,
   "metadata": {},
   "outputs": [],
   "source": []
  },
  {
   "cell_type": "code",
   "execution_count": null,
   "metadata": {},
   "outputs": [],
   "source": [
    "def TestPoly(order, x_0, const = 2, tol = 1e-15):\n",
    "    bounds = BoundVals(order, x_0)\n",
    "    h = bounds[:-1] - bounds[1:]\n",
    "    polyInterp = GhostCellStencil(order, x_0)\n",
    "    for k in range(order + 2):\n",
    "        coefs = np.zeros(k + 1, float)\n",
    "        coefs[0] = const\n",
    "        p = np.poly1d(coefs)\n",
    "        P = np.polyint(p)\n",
    "        v = (P(bounds[:-1]) - P(bounds[1:])) / h\n",
    "        print('Order ' + str(k) + ':')\n",
    "\n",
    "        theor = P(x_0) / x_0\n",
    "        act = v.transpose() @ polyInterp\n",
    "        print(theor, act)\n",
    "        print('')\n",
    "        if (k < order + 1):\n",
    "            assert(np.isclose(act, theor, rtol = 0, atol = tol))\n",
    "    return"
   ]
  },
  {
   "cell_type": "code",
   "execution_count": null,
   "metadata": {},
   "outputs": [],
   "source": [
    "blah = TestPoly(5, 0.5)"
   ]
  },
  {
   "cell_type": "code",
   "execution_count": null,
   "metadata": {},
   "outputs": [],
   "source": [
    "# Test the stencil works for constant.\n",
    "c = 2\n",
    "v = c * np.ones(3, float)\n",
    "print(v)\n",
    "out = v.transpose() @ polyInterp\n",
    "print(out)\n",
    "tol = 1e-13\n",
    "\n",
    "assert(np.isclose(c, out, tol))\n",
    "\n",
    "# Test the stencil works for linear. s is slope.\n",
    "s = 2\n",
    "# v is cell centers inputted into linear polynomial.\n",
    "v = s * np.asarray([-0.5, 0.25, 0.75])\n",
    "shouldbe = -0.25 * s # -0.25 is the cell center location.\n",
    "print(v)\n",
    "out = v.transpose() @ polyInterp\n",
    "print(out)\n",
    "assert(np.isclose(out, shouldbe, rtol = 0, atol = tol))"
   ]
  },
  {
   "cell_type": "code",
   "execution_count": null,
   "metadata": {},
   "outputs": [],
   "source": [
    "A = np.asarray([[1, -0.5, 1. / 3.], [1, 1. / 4., 1. / 12.], [1, 3. / 4., 7. / 12.]])\n",
    "print(A)\n",
    "print('')\n",
    "Ainv = LA.inv(A)\n",
    "print(Ainv)"
   ]
  },
  {
   "cell_type": "code",
   "execution_count": null,
   "metadata": {},
   "outputs": [],
   "source": [
    "def SemiBlockDiag(omega, order, diff = 'C'):\n",
    "    hs = omega.h\n",
    "    degFreed = omega.degFreed\n",
    "    blockMat = np.zeros((degFreed, degFreed), float)\n",
    "    zeroMat = np.zeros(degFreed, float)\n",
    "    ghostStencL = GhostCellStencil(order, -0.5)\n",
    "    ghostStencR = GhostCellStencil(order, 0.5)\n",
    "    default = zeroMat + 0\n",
    "    rightCell = zeroMat + 0\n",
    "    leftCell = zeroMat + 0\n",
    "    leftCell[-1] = 1\n",
    "    ghostL = zeroMat + 0\n",
    "    ghostR = zeroMat + 0\n",
    "    ghostL[:order+1] = ghostStencL\n",
    "    ghostR[:order+1] = ghostStencR\n",
    "    nrollL = int(np.ceil((order + 1) / 3.))\n",
    "    nrollR = int(order - nrollL)\n",
    "    ghostL = np.roll(ghostL, -nrollL)\n",
    "    ghostR = np.roll(ghostR, -nrollR)\n",
    "    coarse = zeroMat\n",
    "\n",
    "    if (diff == 'U'):\n",
    "        rightCell[0] = 1\n",
    "        \n",
    "        cf1v2 = rightCell + 0\n",
    "        cf1v1 = leftCell + 0\n",
    "        \n",
    "#         cf2v2 = rightCell + 0\n",
    "#         cf2v1 = ghostL\n",
    "        \n",
    "        fc1v2 = rightCell + 0\n",
    "        fc1v1 = leftCell + 0\n",
    "        \n",
    "        fc2v2 = rightCell + 0\n",
    "        fc2v1 = zeroMat + 0\n",
    "        fc2v1[-1] = 0.5\n",
    "        fc2v1[-2] = 0.5\n",
    "    else:\n",
    "        rightCell[1] = 1\n",
    "        \n",
    "        cf1v2 = zeroMat + 0\n",
    "        cf1v2[1] = 0.5\n",
    "        cf1v2[2] = 0.5\n",
    "        cf1v1 = leftCell + 0\n",
    "        \n",
    "#         cf2v2 = rightCell + 0\n",
    "#         cf2v1 = ghostL\n",
    "        \n",
    "        fc1v2 = ghostR\n",
    "        fc1v1 = leftCell + 0\n",
    "        \n",
    "        fc2v2 = rightCell + 0\n",
    "        fc2v1 = zeroMat + 0\n",
    "        fc2v1[-1] = 0.5\n",
    "        fc2v1[-2] = 0.5\n",
    "    \n",
    "    cf2v2 = rightCell + 0\n",
    "    cf2v1 = ghostL\n",
    "    \n",
    "    default = rightCell - leftCell\n",
    "    cf1 = cf1v2 - cf1v1\n",
    "    cf2 = cf2v2 - cf2v1\n",
    "    fc1 = fc1v2 - fc1v1\n",
    "    fc2 = fc2v2 - fc2v1\n",
    "    \n",
    "#     print('Ghosts')\n",
    "#     print(rightCell)   \n",
    "#     print(ghostL)\n",
    "#     print(cf2)\n",
    "# #     print(ghostR)\n",
    "# #     print(leftCell)\n",
    "    \n",
    "    spots = np.roll(hs, -1) - hs\n",
    "    for k in range(degFreed):\n",
    "        if (np.roll(spots, k + 1)[0] > 0):\n",
    "            row = fc2\n",
    "        else:\n",
    "            if (np.roll(spots, -k)[0] < 0):\n",
    "                row = cf1\n",
    "            else:\n",
    "                if (spots[k] > 0):\n",
    "                    row = fc1 #cf2\n",
    "                else:\n",
    "                    if (np.roll(spots, 1 - k)[0] < 0):\n",
    "#                         print('yo')\n",
    "                        row = cf2 #fc1\n",
    "                    else:\n",
    "                        row = default\n",
    "        blockMat[k, :] = np.roll(row, k)\n",
    "    print(blockMat)\n",
    "    return"
   ]
  },
  {
   "cell_type": "code",
   "execution_count": null,
   "metadata": {
    "scrolled": false
   },
   "outputs": [],
   "source": [
    "SemiBlockDiag(omega, 2)"
   ]
  },
  {
   "cell_type": "code",
   "execution_count": null,
   "metadata": {},
   "outputs": [],
   "source": [
    "polyInterp = PolyInterp(2, 0.5)\n",
    "polyInterp = np.append(polyInterp, 0)\n",
    "print(polyInterp)\n",
    "print(np.roll(polyInterp, -1))"
   ]
  },
  {
   "cell_type": "code",
   "execution_count": null,
   "metadata": {},
   "outputs": [],
   "source": [
    "p = np.poly1d([1, 0, 0])\n",
    "P = np.polyint(p)\n",
    "print(p)\n",
    "print(p([0, 1, 2]))\n",
    "print(P)"
   ]
  },
  {
   "cell_type": "code",
   "execution_count": null,
   "metadata": {},
   "outputs": [],
   "source": []
  }
 ],
 "metadata": {
  "kernelspec": {
   "display_name": "Python 3",
   "language": "python",
   "name": "python3"
  },
  "language_info": {
   "codemirror_mode": {
    "name": "ipython",
    "version": 3
   },
   "file_extension": ".py",
   "mimetype": "text/x-python",
   "name": "python",
   "nbconvert_exporter": "python",
   "pygments_lexer": "ipython3",
   "version": "3.7.3"
  }
 },
 "nbformat": 4,
 "nbformat_minor": 2
}
