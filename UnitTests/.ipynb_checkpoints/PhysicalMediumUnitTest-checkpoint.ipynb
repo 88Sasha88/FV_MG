{
 "cells": [
  {
   "cell_type": "markdown",
   "metadata": {},
   "source": [
    "Here, you develop the exact spatial derivative operator and its unit test."
   ]
  },
  {
   "cell_type": "code",
   "execution_count": 1,
   "metadata": {},
   "outputs": [
    {
     "data": {
      "text/html": [
       "<style>pre { white-space: pre !important; }</style>"
      ],
      "text/plain": [
       "<IPython.core.display.HTML object>"
      ]
     },
     "metadata": {},
     "output_type": "display_data"
    },
    {
     "data": {
      "text/html": [
       "<style>pre { white-space: pre !important; }</style>"
      ],
      "text/plain": [
       "<IPython.core.display.HTML object>"
      ]
     },
     "metadata": {},
     "output_type": "display_data"
    },
    {
     "data": {
      "text/html": [
       "<style>pre { white-space: pre !important; }</style>"
      ],
      "text/plain": [
       "<IPython.core.display.HTML object>"
      ]
     },
     "metadata": {},
     "output_type": "display_data"
    }
   ],
   "source": [
    "import os.path\n",
    "from scipy import *\n",
    "import numpy as np\n",
    "from numpy import *\n",
    "from numpy import linalg as LA\n",
    "from scipy import linalg as LA2\n",
    "import sympy as sympy\n",
    "import sys as sys\n",
    "import time\n",
    "import matplotlib.pyplot as plt\n",
    "import itertools as it\n",
    "from IPython.core.display import HTML\n",
    "\n",
    "\n",
    "sys.path.append('/Users/sashacurcic/SashasDirectory/ANAG/FV_MG/')\n",
    "from Modules import BasicTools as BT\n",
    "from Modules import WaveTools as WT\n",
    "from Modules import PlotTools as PT\n",
    "from Modules import FFTTools as FFTT\n",
    "from Modules import OperatorTools as OT\n",
    "from Modules import GridTransferTools as GTT\n",
    "from Modules import TestTools as TT\n",
    "from Modules import SolverTools as ST\n",
    "from Modules import WaveformTools as WFT\n",
    "\n",
    "display(HTML(\"<style>pre { white-space: pre !important; }</style>\"))\n",
    "np.set_printoptions( linewidth = 10000, threshold = 100000)"
   ]
  },
  {
   "cell_type": "code",
   "execution_count": 2,
   "metadata": {},
   "outputs": [
    {
     "name": "stdout",
     "output_type": "stream",
     "text": [
      "0.5\n"
     ]
    }
   ],
   "source": [
    "# Grid parameters.\n",
    "nh_min = 64\n",
    "refRatio = 2\n",
    "cfInter = int(nh_min / refRatio)\n",
    "\n",
    "# Time integration parameters.\n",
    "CFL = np.sqrt(0.5)\n",
    "nt = 50\n",
    "deriv = 'CD'\n",
    "RK = 4\n",
    "order = 2\n",
    "\n",
    "# Waveform parameters.\n",
    "x_0 = 0.\n",
    "x_1 = float(cfInter) / float(nh_min)\n",
    "print(x_1)\n",
    "\n",
    "# Physical parameters.\n",
    "L = 1e-3\n",
    "locs = []#x_1]\n",
    "epsilons_r = [1]#, 11.68]\n",
    "mus_r = [1]#, 0.99837]\n",
    "\n",
    "# Pseudo-FFT parameters.\n",
    "Hans = False"
   ]
  },
  {
   "cell_type": "code",
   "execution_count": 3,
   "metadata": {},
   "outputs": [],
   "source": [
    "# if (RK == 1):\n",
    "#     TimeIntegratorFunc = ST.ForwardEuler\n",
    "# else:\n",
    "#     if (RK == 2):\n",
    "#         TimeIntegratorFunc = ST.MidpointMeth\n",
    "#     else:\n",
    "#         TimeIntegratorFunc = ST.RK4\n",
    "\n",
    "# if (deriv == 'U'):\n",
    "#     # DiffMatFunc = OT.Upwind1D\n",
    "#     DiffFunc = TT.Upwind#ST.Upwind\n",
    "# else:\n",
    "#     # DiffMatFunc = OT.CenterDiff1D\n",
    "#     DiffFunc = TT.CenterDiff#ST.CenterDiff"
   ]
  },
  {
   "cell_type": "code",
   "execution_count": 4,
   "metadata": {},
   "outputs": [],
   "source": [
    "# TimeIntFunc, DiffFunc = TT.SolverSwitch(deriv, RK)"
   ]
  },
  {
   "cell_type": "code",
   "execution_count": 5,
   "metadata": {},
   "outputs": [],
   "source": [
    "# def GaussParams(x_0 = 0., x_1 = 1., errOrd = 14):\n",
    "#     mu = (x_0 + x_1) / 2.\n",
    "#     sigma = abs((x_1 - x_0) / np.sqrt(8 * errOrd * log(10)))\n",
    "#     return sigma, mu"
   ]
  },
  {
   "cell_type": "code",
   "execution_count": 6,
   "metadata": {},
   "outputs": [],
   "source": [
    "omega = BT.Grid(nh_min)\n",
    "\n",
    "finehalf = list(np.arange(cfInter))# + int(nh / refRatio))\n",
    "omega.AddPatch(refRatio, finehalf)\n",
    "# degFreed = omega.degFreed\n",
    "# nh_min = omega.nh_min # GOT IT\n",
    "# nh_max = omega.nh_max # GOT IT\n",
    "\n",
    "# omegaF = BT.Grid(nh_max) # GOT IT\n",
    "# omegaC = BT.Grid(nh_min) # GOT IT"
   ]
  },
  {
   "cell_type": "code",
   "execution_count": 7,
   "metadata": {},
   "outputs": [],
   "source": [
    "\n",
    "physics = BT.PhysProperties(omega, epsilons_r, mus_r, locs, L) # GOT IT\n",
    "# cVec = physics.cVec # GOT IT\n",
    "# cMat = physics.cMat # GOT IT\n",
    "\n",
    "# physicsC = BT.PhysProperties(omegaC, epsilons_r, mus_r, locs, L) # GOT IT\n",
    "# cVecC = physicsC.cVec # GOT IT\n",
    "# cMatC = physicsC.cMat # GOT IT\n",
    "\n",
    "# physicsF = BT.PhysProperties(omegaF, epsilons_r, mus_r, locs, L) # GOT IT\n",
    "# cVecF = physicsF.cVec # GOT IT\n",
    "# cMatF = physicsF.cMat # GOT IT\n",
    "# print(cMatC)\n",
    "# c = max(cVec)\n",
    "# print(c)"
   ]
  },
  {
   "cell_type": "code",
   "execution_count": 8,
   "metadata": {},
   "outputs": [],
   "source": [
    "# # c = ConvertParams(permitivity, permeability, L)\n",
    "# t, nt = ST.CalcTime(omega, CFL, cMat, nt = nt) # GOT IT\n",
    "# sigma, mu = GaussParams(x_0, x_1) # DON'T NEED\n",
    "# waves = WT.MakeWaves(omega) # GOT IT\n",
    "# nullspace = OT.FindNullspace(omega, waves, Hans = Hans) # GOT IT\n",
    "# restrictOp = GTT.CoarsenOp(omega) # GOT IT\n",
    "# print('sig:', sigma, 'mu:', mu)\n",
    "\n",
    "# wavesF = WT.MakeWaves(omegaF) # GOT IT\n",
    "# wavesC = WT.MakeWaves(omegaC) # GOT IT\n",
    "\n",
    "# derivMat = TT.ExactSpatOp(omega) # GOT IT\n",
    "# print(np.shape(cMatF))\n",
    "# print(np.shape(derivMat))\n",
    "# spatOp = -cMatF @ derivMat # GOT IT\n",
    "# timePropOp = LA2.expm(t * spatOp) # GOT IT\n",
    "\n",
    "# derivMatC = TT.ExactSpatOp(omegaC) # GOT IT\n",
    "# spatOpC = -cMatC @ derivMatC # GOT IT\n",
    "# timePropOpC = LA2.expm(t * spatOpC) # GOT IT\n"
   ]
  },
  {
   "cell_type": "code",
   "execution_count": 9,
   "metadata": {},
   "outputs": [],
   "source": [
    "# waves = WT.MakeWaves(omega)\n",
    "# nullspace = OT.FindNullspace(omega, waves)\n",
    "# # PT.PlotWaves(omega, waves = waves)\n",
    "# # t, nt = ST.CalcTime(omega, CFL, c, nt = nt)\n",
    "# timePropOp = LA2.expm(t * spatOp)\n",
    "# print(sigma, mu)"
   ]
  },
  {
   "cell_type": "code",
   "execution_count": 10,
   "metadata": {},
   "outputs": [],
   "source": [
    "# # Find initial waveform on coarse and fine grids.\n",
    "# # For Gaussian:\n",
    "# waveInitC = WFT.Gauss(omegaC, sigma, mu) # GOT IT\n",
    "# waveInitF = WFT.Gauss(omegaF, sigma, mu) # GOT IT\n",
    "\n",
    "# # Find initial waveform on AMR grid.\n",
    "# waveInitAMR = restrictOp @ waveInitF # GOT IT\n",
    "\n",
    "# # Find Fourier coefficients for initial condition on coarse and fine grids.\n",
    "# FCoefsC = FFTT.FourierCoefs(omegaC, wavesC, waveInitC) # GOT IT\n",
    "# FCoefsF = FFTT.FourierCoefs(omegaF, wavesF, waveInitF) # GOT IT\n",
    "\n",
    "# # Find Fourier coefficients for initial condition on AMR grid.\n",
    "# FCoefsAMR = FFTT.FourierCoefs(omega, waves @ nullspace, waveInitAMR) # GOT IT\n",
    "# # print('initial Coarse:')\n",
    "# # print(np.round(FCoefsC, 14))\n",
    "# # print('initial Fine:')\n",
    "# # print(np.round(FCoefsF, 14))\n",
    "# # print('initial AMR:')\n",
    "# # print(np.round(FCoefsAMR, 14))\n",
    "# # print('')\n",
    "\n",
    "# # Find propagated coeficients on coarse and fine grid.\n",
    "# FCoefsPropC = timePropOpC @ FCoefsC # GOT IT\n",
    "# FCoefsPropF = timePropOp @ FCoefsF # GOT IT\n",
    "\n",
    "# # Find propagated waveform on AMR grid.\n",
    "# wavePropAMR = restrictOp @ wavesF @ FCoefsPropF # GOT IT\n",
    "\n",
    "# # Find propagated coefficients on AMR grid.\n",
    "# FCoefsPropAMR = FFTT.FourierCoefs(omega, waves @ nullspace, wavePropAMR)#[:degFreed]) # GOT IT\n",
    "# # FCoefsPropAMR = FFTT.FourierCoefs(omega, waves @ nullspace, wavePropAMR[degFreed:])\n",
    "\n",
    "# print(FCoefsPropC)\n",
    "# print(FCoefsPropF)\n",
    "# print(np.round(FCoefsPropAMR, 14))\n",
    "\n",
    "# # Find theoretical propagated coefficients on coarse, fine, and AMR grid.\n",
    "# # (THIS CAN ONLY BE USED IF MATERIAL IS UNIFORM!)\n",
    "# # FCoefsPropCTh = FFTT.PropRestrictWaves(omegaC, waveInitC, c * t)\n",
    "# # FCoefsPropFTh = FFTT.PropRestrictWaves(omegaF, waveInitF, c * t)\n",
    "# # FCoefsPropAMRTh = FFTT.PropRestrictWaves(omega, waveInitF, c * t)\n",
    "# # (THIS CAN BE USED GENERALLY.)\n",
    "# # wavePropFTh = WFT.Gauss(omegaF, sigma, mu + (c * t))\n",
    "# # wavePropCTh = WFT.Gauss(omegaC, sigma, mu + (c * t))\n",
    "# # wavePropAMRTh = restrictOp @ wavePropFTh\n",
    "# # FCoefsPropCTh = FFTT.FourierCoefs(omegaC, wavesC, wavePropCTh)\n",
    "# # FCoefsPropFTh = FFTT.FourierCoefs(omegaF, wavesF, wavePropFTh)\n",
    "# # FCoefsPropAMRTh = FFTT.FourierCoefs(omega, waves @ nullspace, wavePropAMRTh)\n",
    "\n",
    "# solverCoefsC = TimeIntegratorFunc(omegaC, wavesC, waveInitC, nt, cMatC, CFL, DiffFunc)\n",
    "# solverCoefsF = TimeIntegratorFunc(omegaF, wavesF, waveInitF, nt, cMatF, CFL, DiffFunc)\n",
    "# solverCoefsAMR = TimeIntegratorFunc(omega, waves @ nullspace, waveInitAMR, nt, cMat, CFL, DiffFunc, order = order)\n",
    "\n",
    "# # print('')\n",
    "# # print(np.round(FCoefsPropCTh, 14))\n",
    "# # print(np.round(FCoefsPropFTh, 14))\n",
    "# # print(np.round(FCoefsPropAMRTh, 14))\n",
    "\n",
    "# allCoefsC = PT.Load(FCoefsC, FCoefsPropC, solverCoefsC)#, FCoefsPropCTh)\n",
    "# allCoefsF = PT.Load(FCoefsF, FCoefsPropF, solverCoefsF)#, FCoefsPropFTh)\n",
    "# allCoefsAMR = PT.Load(FCoefsAMR, FCoefsPropAMR, solverCoefsAMR)#, FCoefsPropAMRTh)\n",
    "\n",
    "# labels = ['Initial Wave', 'Exact Derivative Propagated Wave', 'RK Propagated Wave']#, 'Rotation Matrix Propagated Wave']\n"
   ]
  },
  {
   "cell_type": "code",
   "execution_count": 11,
   "metadata": {},
   "outputs": [],
   "source": [
    "def MakeWaveform(omega, waveFunc, *args):\n",
    "    waveform = waveFunc(omega, *args)\n",
    "    return waveform\n"
   ]
  },
  {
   "cell_type": "code",
   "execution_count": 12,
   "metadata": {},
   "outputs": [],
   "source": [
    "# Unpropagated:\n",
    "# You already thoroughly tested Fourier Transform in ResidualsUnitTest.\n",
    "\n",
    "# Propagated:\n",
    "# You tested rotation matrix in ResidualsUnitTest."
   ]
  },
  {
   "cell_type": "code",
   "execution_count": 13,
   "metadata": {},
   "outputs": [],
   "source": [
    "# [THIS FUNCTION IS NOT SET UP TO HANDLE ANYTHING BUT THE HANSLESS NULLSPACE SELECTION MATRIX!]\n",
    "\n",
    "def TestResults(omegaAMR, physicsAMR, nt_max, CFL, normType, RK, diff, opType, order, waveFunc, *argsW):\n",
    "    \n",
    "    TimeIntFunc, DiffFunc = TT.SolverSwitch(deriv, RK)\n",
    "    \n",
    "    # Unpack attributes from omegaAMR.\n",
    "    nh_min = omegaAMR.nh_min\n",
    "    nh_max = omegaAMR.nh_max\n",
    "    \n",
    "    # Create grid objects for uniform coarse and fine grid.\n",
    "    omegaC = BT.Grid(nh_min)\n",
    "    omegaF = BT.Grid(nh_max)\n",
    "    \n",
    "    # Unpack attributes from physicsAMR.\n",
    "    epsilons_r = physicsAMR.epsilons_r\n",
    "    mus_r = physicsAMR.mus_r\n",
    "    L = physicsAMR.L\n",
    "    locs = physicsAMR.locs\n",
    "    cVecAMR = physicsAMR.cVec\n",
    "    cMatAMR = physicsAMR.cMat\n",
    "    \n",
    "    # Create physics objects for uniform coarse and fine grid.\n",
    "    physicsC = BT.PhysProperties(omegaC, epsilons_r, mus_r, locs, L)\n",
    "    physicsF = BT.PhysProperties(omegaF, epsilons_r, mus_r, locs, L)\n",
    "    \n",
    "    # Unpack necessary attributes from physicsC and physicsF.\n",
    "    cVecC = physicsC.cVec\n",
    "    cMatC = physicsC.cMat\n",
    "    cVecF = physicsF.cVec\n",
    "    cMatF = physicsF.cMat\n",
    "    \n",
    "    # Find Fourier matrices for coarse, fine, and AMR grid.\n",
    "    wavesAMR = WT.MakeWaves(omegaAMR)\n",
    "    wavesC = WT.MakeWaves(omegaC)\n",
    "    wavesF = WT.MakeWaves(omegaF)\n",
    "    \n",
    "    # Find nullspace and restriction operators for given AMR grid.\n",
    "    nullspace = OT.FindNullspace(omegaAMR, wavesAMR)\n",
    "    restrictOp = GTT.CoarsenOp(omegaAMR)\n",
    "    \n",
    "    # WRITE SOME SHIT FOR OPTYPE ARGUMENT!!!\n",
    "    opC = -cMatC @ OT.SpaceDeriv(omegaC, order, diff)\n",
    "    opF = -cMatF @ OT.SpaceDeriv(omegaF, order, diff)\n",
    "    opAMR = -cMatAMR @ OT.SpaceDeriv(omega, order, diff)\n",
    "    \n",
    "    # Create exact Fourier derivative operators for coarse, fine, and AMR grid.\n",
    "    derivMatC = TT.ExactSpatOp(omegaC)\n",
    "    derivMat = TT.ExactSpatOp(omegaAMR) # Works on fine grid to produce results on AMR grid!\n",
    "    \n",
    "    # Create exact spatial operators for coarse, fine, and AMR grid.\n",
    "    spatOpC = -cMatC @ derivMatC\n",
    "    spatOp = -cMatF @ derivMat # Works on fine grid to produce results on AMR grid!\n",
    "    \n",
    "    # Find initial waveform on coarse, fine, and AMR grid.\n",
    "    waveInitC = waveFunc(omegaC, *argsW)\n",
    "    waveInitF = waveFunc(omegaF, *argsW)\n",
    "    waveInitAMR = restrictOp @ waveInitF\n",
    "    \n",
    "    # Find Fourier coefficients for initial condition on coarse, fine, and AMR grid.\n",
    "    FCoefsC = FFTT.FourierCoefs(wavesC, waveInitC)\n",
    "    FCoefsF = FFTT.FourierCoefs(wavesF, waveInitF)\n",
    "    FCoefsAMR = FFTT.FourierCoefs(wavesAMR @ nullspace, waveInitAMR)\n",
    "    \n",
    "    # Create arrays for storing error at each timestep.\n",
    "    errorC = np.zeros(nt_max, float)\n",
    "    errorF = np.zeros(nt_max, float)\n",
    "    errorAMR = np.zeros(nt_max, float)\n",
    "    timesteps = np.arange(nt_max) + 1\n",
    "    \n",
    "    # Iterate through timesteps to find error.\n",
    "    for s in range(nt_max):\n",
    "        \n",
    "        print('iteration:', s)\n",
    "        \n",
    "        # Find time elapsed and timesteps by which to propagate solution.\n",
    "        t, nt = ST.CalcTime(omegaAMR, CFL, cMatAMR, nt = s + 1)\n",
    "        ntC = int((s + 1) / 2)\n",
    "\n",
    "        # Create matrix exponential time integration operator for coarse, fine, and AMR grid.\n",
    "        timePropOpC = LA2.expm(t * spatOpC)\n",
    "        timePropOp = LA2.expm(t * spatOp) # Works on fine grid to produce results on AMR grid!\n",
    "\n",
    "        # Find exact propagated coeficients on coarse and fine grid using exact Fourier derivative matrix exponential.\n",
    "        # THESE OUTPUTS ARE NEEDED FOR PLOTTING INITIAL COURSE AND FINE WAVEFORM! (EXACT VALUES)\n",
    "        FCoefsPropC = timePropOpC @ FCoefsC\n",
    "        FCoefsPropF = timePropOp @ FCoefsF\n",
    "        \n",
    "        # Find exact propagated waveform on coarse and fine grid using exact Fourier derivative matrix exponential.\n",
    "        # THESE OUTPUTS ARE NEEDED FOR FINDING COARSE ARE FINE ERROR IN WAVEFORM! (EXACT VALUES)\n",
    "        wavePropC = wavesC @ FCoefsPropC\n",
    "        wavePropF = wavesF @ FCoefsPropF\n",
    "\n",
    "        # Find propagated waveform on AMR grid by restricting fine waveform.\n",
    "        # THIS OUTPUT IS NEEDED FOR FINDING AMR ERROR IN WAVEFORM! (EXACT VALUES)\n",
    "        wavePropAMR = restrictOp @ wavePropF\n",
    "\n",
    "        # Find exact propagated coefficients on AMR grid.\n",
    "        # THIS OUTPUT IS NEEDED FOR PLOTTING PROPAGATED AMR WAVEFORM! (EXACT VALUES)\n",
    "        FCoefsPropAMR = FFTT.FourierCoefs(wavesAMR @ nullspace, wavePropAMR)\n",
    "\n",
    "        # Find propagated coeficients on coarse, fine, and AMR grid using RK solver.\n",
    "        # THIS OUTPUT IS NEEDED FOR PLOTTING \n",
    "        solverCoefsC = ST.RungeKutta(omegaC, physicsC, wavesC, waveInitC, ntC, CFL, RK, opC) # TimeIntFunc(omegaC, physicsC, wavesC, waveInitC, ntC, CFL, opC) # (omegaC, wavesC, waveInitC, ntC, cMatC, CFL, DiffFunc)\n",
    "        solverCoefsF = ST.RungeKutta(omegaF, physicsF, wavesF, waveInitF, nt, CFL, RK, opF) # TimeIntFunc(omegaF, physicsF, wavesF, waveInitF, nt, CFL, opF) # (omegaF, wavesF, waveInitF, nt, cMatF, CFL, DiffFunc)\n",
    "        solverCoefsAMR = ST.RungeKutta(omegaAMR, physicsAMR, wavesAMR @ nullspace, waveInitAMR, nt, CFL, RK, opAMR) # TimeIntFunc(omegaAMR, physicsAMR, wavesAMR @ nullspace, waveInitAMR, nt, CFL, opAMR) # (omega, wavesAMR @ nullspace, waveInitAMR, nt, cMat, CFL, DiffFunc, order = order)\n",
    "        \n",
    "        # Find propagated waveform on coarse, fine, and AMR grid from RK solver.\n",
    "        solverWaveC = wavesC @ solverCoefsC\n",
    "        solverWaveF = wavesF @ solverCoefsF\n",
    "        solverWaveAMR = wavesAMR @ nullspace @ solverCoefsAMR\n",
    "\n",
    "        # Find absolute difference between solver waveform and exact waveform on coarse, fine, and AMR grid.\n",
    "        errorsC = abs(wavePropC - solverWaveC)\n",
    "        errorsF = abs(wavePropF - solverWaveF)\n",
    "        errorsAMR = abs(wavePropAMR - solverWaveAMR)\n",
    "        \n",
    "        # Find error norm between solver waveform results and exact waveform results on coarse, fine, and AMR grid.\n",
    "        errorC[s] = TT.VectorNorm(errorsC, normType)\n",
    "        errorF[s] = TT.VectorNorm(errorsF, normType)\n",
    "        errorAMR[s] = TT.VectorNorm(errorsAMR, normType)\n",
    "    \n",
    "    # Load initial and propagated coeficients for coarse, fine, and AMR grid into condensed arrays for plotting final propagation.\n",
    "    allCoefsC = PT.Load(FCoefsC, FCoefsPropC, solverCoefsC)\n",
    "    allCoefsF = PT.Load(FCoefsF, FCoefsPropF, solverCoefsF)\n",
    "    allCoefsAMR = PT.Load(FCoefsAMR, FCoefsPropAMR, solverCoefsAMR)\n",
    "\n",
    "    # Create labels for plots.\n",
    "    labels = ['Initial Wave', 'Exact Derivative Propagated Wave', 'RK Propagated Wave']\n",
    "\n",
    "    PT.PlotMixedWave(omegaC, waves = wavesC, FCoefs = allCoefsC, rescale = 5, yGrid = True, labels = labels, title = 'Coarse-Grid Mode Propagation')\n",
    "    PT.PlotMixedWave(omegaF, waves = wavesF, FCoefs = allCoefsF, rescale = 5, yGrid = True, labels = labels, title = 'Fine-Grid Mode Propagation')\n",
    "    PT.PlotMixedWave(omega, waves = wavesAMR, FCoefs = nullspace @ allCoefsAMR, rescale = 5, yGrid = True, labels = labels, title = 'AMR-Grid Mode Propagation')\n",
    "\n",
    "    \n",
    "    # INCLUDE IF STATEMENTS WHICH WOULD ADDITIONALLY CAUSE TESTRESULTS() TO COMPUTE ROTATION MATRIX AND DIRECT\n",
    "    # PROPAGATED WAVEFORM CALCULATION IF C IS UNIFORM!\n",
    "    \n",
    "    return timesteps, errorC, errorF, errorAMR"
   ]
  },
  {
   "cell_type": "code",
   "execution_count": 14,
   "metadata": {
    "scrolled": false
   },
   "outputs": [
    {
     "name": "stdout",
     "output_type": "stream",
     "text": [
      "You are using ExactSpatOp in TestTools module!\n",
      "You are using ExactSpatOp in TestTools module!\n",
      "iteration: 0\n"
     ]
    },
    {
     "ename": "LinAlgError",
     "evalue": "Last 2 dimensions of the array must be square",
     "output_type": "error",
     "traceback": [
      "\u001b[0;31m---------------------------------------------------------------------------\u001b[0m",
      "\u001b[0;31mLinAlgError\u001b[0m                               Traceback (most recent call last)",
      "\u001b[0;32m<ipython-input-14-165739d63054>\u001b[0m in \u001b[0;36m<module>\u001b[0;34m\u001b[0m\n\u001b[1;32m      2\u001b[0m \u001b[0;31m# print(type(args))\u001b[0m\u001b[0;34m\u001b[0m\u001b[0;34m\u001b[0m\u001b[0;34m\u001b[0m\u001b[0m\n\u001b[1;32m      3\u001b[0m \u001b[0mopType\u001b[0m \u001b[0;34m=\u001b[0m \u001b[0;34m'grad'\u001b[0m\u001b[0;34m\u001b[0m\u001b[0;34m\u001b[0m\u001b[0m\n\u001b[0;32m----> 4\u001b[0;31m \u001b[0mtimesteps\u001b[0m\u001b[0;34m,\u001b[0m \u001b[0merrorC\u001b[0m\u001b[0;34m,\u001b[0m \u001b[0merrorF\u001b[0m\u001b[0;34m,\u001b[0m \u001b[0merrorAMR\u001b[0m \u001b[0;34m=\u001b[0m \u001b[0mTestResults\u001b[0m\u001b[0;34m(\u001b[0m\u001b[0momega\u001b[0m\u001b[0;34m,\u001b[0m \u001b[0mphysics\u001b[0m\u001b[0;34m,\u001b[0m \u001b[0mnt\u001b[0m\u001b[0;34m,\u001b[0m \u001b[0mCFL\u001b[0m\u001b[0;34m,\u001b[0m \u001b[0;34m'L2'\u001b[0m\u001b[0;34m,\u001b[0m \u001b[0mRK\u001b[0m\u001b[0;34m,\u001b[0m \u001b[0mderiv\u001b[0m\u001b[0;34m,\u001b[0m \u001b[0mopType\u001b[0m\u001b[0;34m,\u001b[0m \u001b[0morder\u001b[0m\u001b[0;34m,\u001b[0m \u001b[0mWFT\u001b[0m\u001b[0;34m.\u001b[0m\u001b[0mGauss\u001b[0m\u001b[0;34m,\u001b[0m \u001b[0;34m*\u001b[0m\u001b[0margs\u001b[0m\u001b[0;34m)\u001b[0m\u001b[0;34m\u001b[0m\u001b[0;34m\u001b[0m\u001b[0m\n\u001b[0m\u001b[1;32m      5\u001b[0m \u001b[0;31m# print(blah)\u001b[0m\u001b[0;34m\u001b[0m\u001b[0;34m\u001b[0m\u001b[0;34m\u001b[0m\u001b[0m\n\u001b[1;32m      6\u001b[0m \u001b[0;31m# print(waveInitC)\u001b[0m\u001b[0;34m\u001b[0m\u001b[0;34m\u001b[0m\u001b[0;34m\u001b[0m\u001b[0m\n",
      "\u001b[0;32m<ipython-input-13-c713ac2c4857>\u001b[0m in \u001b[0;36mTestResults\u001b[0;34m(omegaAMR, physicsAMR, nt_max, CFL, normType, RK, diff, opType, order, waveFunc, *argsW)\u001b[0m\n\u001b[1;32m    104\u001b[0m         \u001b[0msolverCoefsC\u001b[0m \u001b[0;34m=\u001b[0m \u001b[0mST\u001b[0m\u001b[0;34m.\u001b[0m\u001b[0mRungeKutta\u001b[0m\u001b[0;34m(\u001b[0m\u001b[0momegaC\u001b[0m\u001b[0;34m,\u001b[0m \u001b[0mphysicsC\u001b[0m\u001b[0;34m,\u001b[0m \u001b[0mwavesC\u001b[0m\u001b[0;34m,\u001b[0m \u001b[0mwaveInitC\u001b[0m\u001b[0;34m,\u001b[0m \u001b[0mntC\u001b[0m\u001b[0;34m,\u001b[0m \u001b[0mCFL\u001b[0m\u001b[0;34m,\u001b[0m \u001b[0mRK\u001b[0m\u001b[0;34m,\u001b[0m \u001b[0mopC\u001b[0m\u001b[0;34m)\u001b[0m \u001b[0;31m# TimeIntFunc(omegaC, physicsC, wavesC, waveInitC, ntC, CFL, opC) # (omegaC, wavesC, waveInitC, ntC, cMatC, CFL, DiffFunc)\u001b[0m\u001b[0;34m\u001b[0m\u001b[0;34m\u001b[0m\u001b[0m\n\u001b[1;32m    105\u001b[0m         \u001b[0msolverCoefsF\u001b[0m \u001b[0;34m=\u001b[0m \u001b[0mST\u001b[0m\u001b[0;34m.\u001b[0m\u001b[0mRungeKutta\u001b[0m\u001b[0;34m(\u001b[0m\u001b[0momegaF\u001b[0m\u001b[0;34m,\u001b[0m \u001b[0mphysicsF\u001b[0m\u001b[0;34m,\u001b[0m \u001b[0mwavesF\u001b[0m\u001b[0;34m,\u001b[0m \u001b[0mwaveInitF\u001b[0m\u001b[0;34m,\u001b[0m \u001b[0mnt\u001b[0m\u001b[0;34m,\u001b[0m \u001b[0mCFL\u001b[0m\u001b[0;34m,\u001b[0m \u001b[0mRK\u001b[0m\u001b[0;34m,\u001b[0m \u001b[0mopF\u001b[0m\u001b[0;34m)\u001b[0m \u001b[0;31m# TimeIntFunc(omegaF, physicsF, wavesF, waveInitF, nt, CFL, opF) # (omegaF, wavesF, waveInitF, nt, cMatF, CFL, DiffFunc)\u001b[0m\u001b[0;34m\u001b[0m\u001b[0;34m\u001b[0m\u001b[0m\n\u001b[0;32m--> 106\u001b[0;31m         \u001b[0msolverCoefsAMR\u001b[0m \u001b[0;34m=\u001b[0m \u001b[0mST\u001b[0m\u001b[0;34m.\u001b[0m\u001b[0mRungeKutta\u001b[0m\u001b[0;34m(\u001b[0m\u001b[0momegaAMR\u001b[0m\u001b[0;34m,\u001b[0m \u001b[0mphysicsAMR\u001b[0m\u001b[0;34m,\u001b[0m \u001b[0mwavesAMR\u001b[0m\u001b[0;34m,\u001b[0m \u001b[0mwaveInitAMR\u001b[0m\u001b[0;34m,\u001b[0m \u001b[0mnt\u001b[0m\u001b[0;34m,\u001b[0m \u001b[0mCFL\u001b[0m\u001b[0;34m,\u001b[0m \u001b[0mRK\u001b[0m\u001b[0;34m,\u001b[0m \u001b[0mopAMR\u001b[0m\u001b[0;34m)\u001b[0m \u001b[0;31m# TimeIntFunc(omegaAMR, physicsAMR, wavesAMR @ nullspace, waveInitAMR, nt, CFL, opAMR) # (omega, wavesAMR @ nullspace, waveInitAMR, nt, cMat, CFL, DiffFunc, order = order)\u001b[0m\u001b[0;34m\u001b[0m\u001b[0;34m\u001b[0m\u001b[0m\n\u001b[0m\u001b[1;32m    107\u001b[0m \u001b[0;34m\u001b[0m\u001b[0m\n\u001b[1;32m    108\u001b[0m         \u001b[0;31m# Find propagated waveform on coarse, fine, and AMR grid from RK solver.\u001b[0m\u001b[0;34m\u001b[0m\u001b[0;34m\u001b[0m\u001b[0;34m\u001b[0m\u001b[0m\n",
      "\u001b[0;32m~/SashasDirectory/ANAG/FV_MG/Modules/SolverTools.py\u001b[0m in \u001b[0;36mRungeKutta\u001b[0;34m(omega, physics, waves, u0, nt, CFL, RK, op)\u001b[0m\n\u001b[1;32m     65\u001b[0m     \u001b[0;32mfor\u001b[0m \u001b[0mn\u001b[0m \u001b[0;32min\u001b[0m \u001b[0mrange\u001b[0m\u001b[0;34m(\u001b[0m\u001b[0mnt\u001b[0m\u001b[0;34m)\u001b[0m\u001b[0;34m:\u001b[0m\u001b[0;34m\u001b[0m\u001b[0;34m\u001b[0m\u001b[0m\n\u001b[1;32m     66\u001b[0m         \u001b[0mu\u001b[0m\u001b[0;34m,\u001b[0m \u001b[0mt\u001b[0m \u001b[0;34m=\u001b[0m \u001b[0mScheme\u001b[0m\u001b[0;34m(\u001b[0m\u001b[0mu\u001b[0m\u001b[0;34m,\u001b[0m \u001b[0mt\u001b[0m\u001b[0;34m,\u001b[0m \u001b[0mdt\u001b[0m\u001b[0;34m,\u001b[0m \u001b[0mop\u001b[0m\u001b[0;34m)\u001b[0m\u001b[0;34m\u001b[0m\u001b[0;34m\u001b[0m\u001b[0m\n\u001b[0;32m---> 67\u001b[0;31m     \u001b[0muCoefs\u001b[0m \u001b[0;34m=\u001b[0m \u001b[0mLA\u001b[0m\u001b[0;34m.\u001b[0m\u001b[0minv\u001b[0m\u001b[0;34m(\u001b[0m\u001b[0mwaves\u001b[0m\u001b[0;34m)\u001b[0m \u001b[0;34m@\u001b[0m \u001b[0mu\u001b[0m\u001b[0;34m\u001b[0m\u001b[0;34m\u001b[0m\u001b[0m\n\u001b[0m\u001b[1;32m     68\u001b[0m     \u001b[0;32mreturn\u001b[0m \u001b[0muCoefs\u001b[0m\u001b[0;34m\u001b[0m\u001b[0;34m\u001b[0m\u001b[0m\n\u001b[1;32m     69\u001b[0m \u001b[0;34m\u001b[0m\u001b[0m\n",
      "\u001b[0;32m~/anaconda3/lib/python3.7/site-packages/numpy/linalg/linalg.py\u001b[0m in \u001b[0;36minv\u001b[0;34m(a)\u001b[0m\n\u001b[1;32m    544\u001b[0m     \u001b[0ma\u001b[0m\u001b[0;34m,\u001b[0m \u001b[0mwrap\u001b[0m \u001b[0;34m=\u001b[0m \u001b[0m_makearray\u001b[0m\u001b[0;34m(\u001b[0m\u001b[0ma\u001b[0m\u001b[0;34m)\u001b[0m\u001b[0;34m\u001b[0m\u001b[0;34m\u001b[0m\u001b[0m\n\u001b[1;32m    545\u001b[0m     \u001b[0m_assertRankAtLeast2\u001b[0m\u001b[0;34m(\u001b[0m\u001b[0ma\u001b[0m\u001b[0;34m)\u001b[0m\u001b[0;34m\u001b[0m\u001b[0;34m\u001b[0m\u001b[0m\n\u001b[0;32m--> 546\u001b[0;31m     \u001b[0m_assertNdSquareness\u001b[0m\u001b[0;34m(\u001b[0m\u001b[0ma\u001b[0m\u001b[0;34m)\u001b[0m\u001b[0;34m\u001b[0m\u001b[0;34m\u001b[0m\u001b[0m\n\u001b[0m\u001b[1;32m    547\u001b[0m     \u001b[0mt\u001b[0m\u001b[0;34m,\u001b[0m \u001b[0mresult_t\u001b[0m \u001b[0;34m=\u001b[0m \u001b[0m_commonType\u001b[0m\u001b[0;34m(\u001b[0m\u001b[0ma\u001b[0m\u001b[0;34m)\u001b[0m\u001b[0;34m\u001b[0m\u001b[0;34m\u001b[0m\u001b[0m\n\u001b[1;32m    548\u001b[0m \u001b[0;34m\u001b[0m\u001b[0m\n",
      "\u001b[0;32m~/anaconda3/lib/python3.7/site-packages/numpy/linalg/linalg.py\u001b[0m in \u001b[0;36m_assertNdSquareness\u001b[0;34m(*arrays)\u001b[0m\n\u001b[1;32m    211\u001b[0m         \u001b[0mm\u001b[0m\u001b[0;34m,\u001b[0m \u001b[0mn\u001b[0m \u001b[0;34m=\u001b[0m \u001b[0ma\u001b[0m\u001b[0;34m.\u001b[0m\u001b[0mshape\u001b[0m\u001b[0;34m[\u001b[0m\u001b[0;34m-\u001b[0m\u001b[0;36m2\u001b[0m\u001b[0;34m:\u001b[0m\u001b[0;34m]\u001b[0m\u001b[0;34m\u001b[0m\u001b[0;34m\u001b[0m\u001b[0m\n\u001b[1;32m    212\u001b[0m         \u001b[0;32mif\u001b[0m \u001b[0mm\u001b[0m \u001b[0;34m!=\u001b[0m \u001b[0mn\u001b[0m\u001b[0;34m:\u001b[0m\u001b[0;34m\u001b[0m\u001b[0;34m\u001b[0m\u001b[0m\n\u001b[0;32m--> 213\u001b[0;31m             \u001b[0;32mraise\u001b[0m \u001b[0mLinAlgError\u001b[0m\u001b[0;34m(\u001b[0m\u001b[0;34m'Last 2 dimensions of the array must be square'\u001b[0m\u001b[0;34m)\u001b[0m\u001b[0;34m\u001b[0m\u001b[0;34m\u001b[0m\u001b[0m\n\u001b[0m\u001b[1;32m    214\u001b[0m \u001b[0;34m\u001b[0m\u001b[0m\n\u001b[1;32m    215\u001b[0m \u001b[0;32mdef\u001b[0m \u001b[0m_assertFinite\u001b[0m\u001b[0;34m(\u001b[0m\u001b[0;34m*\u001b[0m\u001b[0marrays\u001b[0m\u001b[0;34m)\u001b[0m\u001b[0;34m:\u001b[0m\u001b[0;34m\u001b[0m\u001b[0;34m\u001b[0m\u001b[0m\n",
      "\u001b[0;31mLinAlgError\u001b[0m: Last 2 dimensions of the array must be square"
     ]
    }
   ],
   "source": [
    "args = WFT.GaussParams(x_0, x_1) # sigma, mu\n",
    "# print(type(args))\n",
    "opType = 'grad'\n",
    "timesteps, errorC, errorF, errorAMR = TestResults(omega, physics, nt, CFL, 'L2', RK, deriv, opType, order, WFT.Gauss, *args)\n",
    "# print(blah)\n",
    "# print(waveInitC)"
   ]
  },
  {
   "cell_type": "code",
   "execution_count": null,
   "metadata": {},
   "outputs": [],
   "source": [
    "numPoints, font, X, savePath = PT.UsefulPlotVals()\n",
    "saveName = savePath + 'DirectError.png'\n",
    "title = 'Error Norm for CFL = ' + str(CFL)\n",
    "fig, ax = plt.subplots(figsize = [20, 6])\n",
    "plt.plot(timesteps[1::2], errorC[1::2], label = 'Coarse Error', color = PT.ColorDefault(0))\n",
    "plt.scatter(timesteps[1::2], errorC[1::2], color = PT.ColorDefault(0))\n",
    "plt.plot(timesteps, errorF, label = 'Fine Error', color = PT.ColorDefault(1))\n",
    "plt.scatter(timesteps, errorF, color = PT.ColorDefault(1))\n",
    "plt.plot(timesteps, errorAMR, label = 'AMR Error', color = PT.ColorDefault(2))\n",
    "plt.scatter(timesteps, errorAMR, color = PT.ColorDefault(2))\n",
    "plt.title(title)\n",
    "plt.xlabel('Timesteps')\n",
    "plt.ylabel('Error')\n",
    "plt.legend()\n",
    "# plt.ylim(-1, 1.1)\n",
    "plt.yscale('log')\n",
    "fig.savefig(saveName, bbox_inches = 'tight', dpi = 300)#, transparent = True)\n",
    "plt.show()"
   ]
  },
  {
   "cell_type": "code",
   "execution_count": null,
   "metadata": {},
   "outputs": [],
   "source": [
    "# PT.PlotMixedWave(omegaC, waves = wavesC, FCoefs = allCoefsC, rescale = 5, yGrid = True, labels = labels, title = 'Coarse-Grid Mode Propagation')#, saveName = 'Coarse', dpi = 300)\n",
    "# PT.PlotMixedWave(omegaF, waves = wavesF, FCoefs = allCoefsF, rescale = 5, yGrid = True)#, labels = labels, title = 'Fine-Grid Mode Propagation', saveName = 'Fine', dpi = 300)\n",
    "# PT.PlotMixedWave(omega, waves = waves, FCoefs = nullspace @ allCoefsAMR, rescale = 5, yGrid = True)#, labels = labels, title = 'AMR-Grid Mode Propagation', saveName = 'AMRHansMethod', dpi = 300)\n"
   ]
  },
  {
   "cell_type": "code",
   "execution_count": null,
   "metadata": {},
   "outputs": [],
   "source": [
    "# # For Gaussian:\n",
    "# waveInitF = WFT.Gauss(omegaF, sigma, mu)\n",
    "# waveInitC = WFT.Gauss(omegaC, sigma, mu)\n",
    "# FCoefsC = FFTT.FourierCoefs(omegaC, wavesC, waveInitC)\n",
    "# FCoefsF = FFTT.FourierCoefs(omegaF, wavesF, waveInitF)\n",
    "\n",
    "# # Find initial waveform on coarse, fine, and AMR grids.\n",
    "# waveInitC = wavesC @ FCoefsC\n",
    "# waveInitF = wavesF @ FCoefsF\n",
    "# waveInitAMR = restrictOp @ waveInitF\n",
    "\n",
    "# # Find Fourier coefficients for initial condition on AMR grid.\n",
    "# FCoefsAMR = FFTT.FourierCoefs(omega, waves @ nullspace, waveInitAMR)\n",
    "# # print('initial Coarse:')\n",
    "# # print(np.round(FCoefsC, 14))\n",
    "# # print('initial Fine:')\n",
    "# # print(np.round(FCoefsF, 14))\n",
    "# # print('initial AMR:')\n",
    "# # print(np.round(FCoefsAMR, 14))\n",
    "# # print('')\n",
    "\n",
    "# # Find propagated coeficients on coarse and fine grid.\n",
    "# FCoefsPropC = timePropOpC @ FCoefsC\n",
    "# FCoefsPropF = timePropOp @ FCoefsF\n",
    "\n",
    "# # Find propagated waveform on AMR grid.\n",
    "# wavePropAMR = restrictOp @ wavesF @ FCoefsPropF\n",
    "\n",
    "# # Find propagated coefficients on AMR grid.\n",
    "# FCoefsPropAMR = FFTT.FourierCoefs(omega, waves @ nullspace, wavePropAMR)\n",
    "\n",
    "# print(FCoefsPropC)\n",
    "# print(FCoefsPropF)\n",
    "# print(np.round(FCoefsPropAMR, 14))\n",
    "\n",
    "# # Find theoretical propagated coefficients on coarse, fine, and AMR grid.\n",
    "# # (THIS CAN ONLY BE USED IF MATERIAL IS UNIFORM!)\n",
    "# # FCoefsPropCTh = FFTT.PropRestrictWaves(omegaC, waveInitC, c * t)\n",
    "# # FCoefsPropFTh = FFTT.PropRestrictWaves(omegaF, waveInitF, c * t)\n",
    "# # FCoefsPropAMRTh = FFTT.PropRestrictWaves(omega, waveInitF, c * t)\n",
    "# # (THIS CAN BE USED GENERALLY.)\n",
    "# wavePropFTh = WFT.Gauss(omegaF, sigma, mu + (c * t))\n",
    "# wavePropCTh = WFT.Gauss(omegaC, sigma, mu + (c * t))\n",
    "# wavePropAMRTh = restrictOp @ wavePropFTh\n",
    "# FCoefsPropCTh = FFTT.FourierCoefs(omegaC, wavesC, wavePropCTh)\n",
    "# FCoefsPropFTh = FFTT.FourierCoefs(omegaF, wavesF, wavePropFTh)\n",
    "# FCoefsPropAMRTh = FFTT.FourierCoefs(omega, waves @ nullspace, wavePropAMRTh)\n",
    "\n",
    "\n",
    "# solverCoefsC = TimeIntegratorFunc(omegaC, wavesC, waveInitC, nt, cMatC, CFL, DiffFunc)\n",
    "# solverCoefsF = TimeIntegratorFunc(omegaF, wavesF, waveInitF, nt, cMatF, CFL, DiffFunc)\n",
    "# solverCoefsAMR = TimeIntegratorFunc(omega, waves @ nullspace, waveInitAMR, nt, cMat, CFL, DiffFunc, order = order + 1)\n",
    "\n",
    "# # print('')\n",
    "# # print(np.round(FCoefsPropCTh, 14))\n",
    "# # print(np.round(FCoefsPropFTh, 14))\n",
    "# # print(np.round(FCoefsPropAMRTh, 14))\n",
    "\n",
    "# allCoefsC = PT.Load(FCoefsC, FCoefsPropCTh, FCoefsPropC, solverCoefsC)#\n",
    "# allCoefsF = PT.Load(FCoefsF, FCoefsPropFTh, FCoefsPropF, solverCoefsF)#\n",
    "# allCoefsAMR1 = PT.Load(FCoefsAMR, FCoefsPropAMRTh, FCoefsPropAMR, solverCoefsAMR)#\n",
    "\n",
    "# labels = ['Initial Wave', 'Theoretical Propagated Wave', 'Exact Derivative Matrix Exponential Propagated Wave', 'RK Propagated Wave']#, 'Rotation Matrix Propagated Wave']\n"
   ]
  },
  {
   "cell_type": "code",
   "execution_count": null,
   "metadata": {},
   "outputs": [],
   "source": [
    "# PT.PlotMixedWave(omega, waves = waves, FCoefs = nullspace @ allCoefsAMR, rescale = 5, yGrid = True)#, labels = labels, title = 'AMR-Grid Mode Propagation', saveName = 'AMRHansMethod', dpi = 300)\n",
    "# PT.PlotMixedWave(omega, waves = waves, FCoefs = nullspace @ allCoefsAMR1, rescale = 5, yGrid = True)#, labels = labels, title = 'AMR-Grid Mode Propagation', saveName = 'AMRHansMethod', dpi = 300)\n"
   ]
  },
  {
   "cell_type": "code",
   "execution_count": null,
   "metadata": {},
   "outputs": [],
   "source": []
  },
  {
   "cell_type": "code",
   "execution_count": null,
   "metadata": {},
   "outputs": [],
   "source": [
    "# Notes for Hans:\n",
    "#\n",
    "# If the resolution is too low, there isn't sufficient high-frequency content to represent the gaussian.\n",
    "# Sparse function needs to be developed for upwind and center-diffference of arbitrary-order polynomial interpolation.\n",
    "# I see that I can't use the rotation matrix to propagate the matrices. I'm pretty sure that my Fourier-propagated logic is wrong, though.\n",
    "# 2nd-order polynomial interp is working BETTER THAN 3rd-order for RK4 center diff.\n"
   ]
  },
  {
   "cell_type": "code",
   "execution_count": null,
   "metadata": {
    "scrolled": false
   },
   "outputs": [],
   "source": [
    "# Notes for Sasha:\n",
    "#\n",
    "# Make residuals test of Gaussian (first unpropagated, then propagated) to assess its validity.\n"
   ]
  },
  {
   "cell_type": "code",
   "execution_count": null,
   "metadata": {},
   "outputs": [],
   "source": []
  },
  {
   "cell_type": "code",
   "execution_count": null,
   "metadata": {},
   "outputs": [],
   "source": []
  },
  {
   "cell_type": "code",
   "execution_count": null,
   "metadata": {},
   "outputs": [],
   "source": []
  },
  {
   "cell_type": "code",
   "execution_count": null,
   "metadata": {},
   "outputs": [],
   "source": []
  }
 ],
 "metadata": {
  "kernelspec": {
   "display_name": "Python 3",
   "language": "python",
   "name": "python3"
  },
  "language_info": {
   "codemirror_mode": {
    "name": "ipython",
    "version": 3
   },
   "file_extension": ".py",
   "mimetype": "text/x-python",
   "name": "python",
   "nbconvert_exporter": "python",
   "pygments_lexer": "ipython3",
   "version": "3.7.3"
  }
 },
 "nbformat": 4,
 "nbformat_minor": 2
}
