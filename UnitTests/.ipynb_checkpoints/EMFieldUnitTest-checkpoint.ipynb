{
 "cells": [
  {
   "cell_type": "markdown",
   "metadata": {},
   "source": [
    "Here, you develop the E+M Runge-Kuttas. (You want to be able to graph two functions at a time. The plotting functions can handle it, but the other functions aren't built for it specifically because your cases are simple enough that the answer for the B field is proportional to the E Field.)"
   ]
  },
  {
   "cell_type": "code",
   "execution_count": 1,
   "metadata": {},
   "outputs": [
    {
     "data": {
      "text/html": [
       "<style>pre { white-space: pre !important; }</style>"
      ],
      "text/plain": [
       "<IPython.core.display.HTML object>"
      ]
     },
     "metadata": {},
     "output_type": "display_data"
    },
    {
     "data": {
      "text/html": [
       "<style>pre { white-space: pre !important; }</style>"
      ],
      "text/plain": [
       "<IPython.core.display.HTML object>"
      ]
     },
     "metadata": {},
     "output_type": "display_data"
    },
    {
     "data": {
      "text/html": [
       "<style>pre { white-space: pre !important; }</style>"
      ],
      "text/plain": [
       "<IPython.core.display.HTML object>"
      ]
     },
     "metadata": {},
     "output_type": "display_data"
    }
   ],
   "source": [
    "import os.path\n",
    "from scipy import *\n",
    "import numpy as np\n",
    "from numpy import *\n",
    "from numpy import linalg as LA\n",
    "from scipy import linalg as LA2\n",
    "import sympy as sympy\n",
    "import sys as sys\n",
    "import time\n",
    "import matplotlib.pyplot as plt\n",
    "import itertools as it\n",
    "from IPython.core.display import HTML\n",
    "\n",
    "\n",
    "sys.path.append('/Users/sashacurcic/SashasDirectory/ANAG/FV_MG/')\n",
    "from Modules import BasicTools as BT\n",
    "from Modules import WaveTools as WT\n",
    "from Modules import PlotTools as PT\n",
    "from Modules import FFTTools as FFTT\n",
    "from Modules import OperatorTools as OT\n",
    "from Modules import GridTransferTools as GTT\n",
    "from Modules import TestTools as TT\n",
    "from Modules import SolverTools as ST\n",
    "from Modules import WaveformTools as WFT\n",
    "\n",
    "display(HTML(\"<style>pre { white-space: pre !important; }</style>\"))\n",
    "np.set_printoptions( linewidth = 10000, threshold = 100000)"
   ]
  },
  {
   "cell_type": "code",
   "execution_count": 2,
   "metadata": {},
   "outputs": [],
   "source": [
    "def Const(omega, x, sigma, mu, deriv, cellAve):\n",
    "    degFreed = omega.degFreed\n",
    "    k = 1\n",
    "    ct = 0\n",
    "    \n",
    "    fact = 2.0 * np.pi * k\n",
    "    u = (1.0 / fact) * (cos(fact * (x[:-1] - ct)) - cos(fact * (x[1:] - ct)))\n",
    "    return u"
   ]
  },
  {
   "cell_type": "code",
   "execution_count": 3,
   "metadata": {},
   "outputs": [],
   "source": [
    "nh_min = 16\n",
    "refRatio = 2\n",
    "CFL = np.sqrt(0.5)\n",
    "nt = 1\n",
    "x_0 = 0.\n",
    "x_1 = 0.5\n",
    "Hans = False\n",
    "\n",
    "deriv = 'U'\n",
    "RK = 1\n",
    "order = 2\n",
    "\n",
    "L = 1\n",
    "locs = [x_1]\n",
    "epsilons = [0.5, 0.5] # [1, 1]\n",
    "mus = [0.5, 0.5] # [1, 1]\n",
    "\n",
    "func = Const# WFT.Gauss"
   ]
  },
  {
   "cell_type": "code",
   "execution_count": 4,
   "metadata": {},
   "outputs": [],
   "source": [
    "if (RK == 1):\n",
    "    TimeIntegratorFunc = ST.ForwardEuler\n",
    "else:\n",
    "    if (RK == 2):\n",
    "        TimeIntegratorFunc = ST.MidpointMeth\n",
    "    else:\n",
    "        TimeIntegratorFunc = ST.RK4\n",
    "\n",
    "if (deriv == 'U'):\n",
    "    # DiffMatFunc = OT.Upwind1D\n",
    "    DiffFunc = TT.Upwind#ST.Upwind\n",
    "else:\n",
    "    # DiffMatFunc = OT.CenterDiff1D\n",
    "    DiffFunc = TT.CenterDiff#ST.CenterDiff"
   ]
  },
  {
   "cell_type": "code",
   "execution_count": 5,
   "metadata": {},
   "outputs": [],
   "source": [
    "def Block(matrica, var = 1):\n",
    "    matricaList = [matrica for k in range(var)]\n",
    "    matrice = block_diag(*matricaList)\n",
    "    return matrice"
   ]
  },
  {
   "cell_type": "code",
   "execution_count": 6,
   "metadata": {},
   "outputs": [],
   "source": [
    "omegaAMR = BT.Grid(nh_min)\n",
    "finehalf = list(np.arange(int(nh_min / refRatio)))# + int(nh / refRatio))\n",
    "omegaAMR.AddPatch(refRatio, finehalf)\n",
    "degFreed = omegaAMR.degFreed\n",
    "nh_max = omegaAMR.nh_max\n",
    "\n",
    "omegaF = BT.Grid(nh_max)\n",
    "omegaC = BT.Grid(nh_min)"
   ]
  },
  {
   "cell_type": "code",
   "execution_count": 7,
   "metadata": {},
   "outputs": [],
   "source": [
    "\n",
    "physicsAMR = BT.PhysProps(omegaAMR, epsilons, mus, locs, L)\n",
    "c = physicsAMR.cVec\n",
    "cMatAMR = physicsAMR.cMat\n",
    "\n",
    "physicsC = BT.PhysProps(omegaC, epsilons, mus, locs, L)\n",
    "cC = physicsC.cVec\n",
    "cMatC = physicsC.cMat\n",
    "\n",
    "physicsF = BT.PhysProps(omegaF, epsilons, mus, locs, L)\n",
    "cF = physicsF.cVec\n",
    "cMatF = physicsF.cMat"
   ]
  },
  {
   "cell_type": "code",
   "execution_count": 8,
   "metadata": {},
   "outputs": [],
   "source": [
    "def ExpandMat(mat):\n",
    "    errorLoc = 'ERROR:\\nOperatorTools:\\nExpandMat:\\n' # Don't know where we're putting this yet.\n",
    "    errorMess = ''\n",
    "    shape = np.shape(mat)\n",
    "    if (len(shape) != 2):\n",
    "        errorMess = 'mat must be a rank-2 matrix!'\n",
    "    \n",
    "    else:\n",
    "        if (shape[0] != shape[1]):\n",
    "            errorMess = 'mat must be a square matrix!'\n",
    "    if (errorMess != ''):\n",
    "        sys.exit(errorLoc + errorMess)\n",
    "    \n",
    "    size_min = shape[0]\n",
    "    size_max = 2 * size_min\n",
    "    newMat = np.zeros((size_max, size_max), int)\n",
    "    newMat[0:size_max:2, 0:size_max:2] = mat\n",
    "    newMat[1:size_max + 1:2, 1:size_max + 1:2] = mat\n",
    "    return newMat"
   ]
  },
  {
   "cell_type": "code",
   "execution_count": 9,
   "metadata": {},
   "outputs": [],
   "source": [
    "# Creates anti-block-diagonal matrix \n",
    "def ConvertOp(omega, physics):\n",
    "    degFreed = omega.degFreed\n",
    "    cMat = physics.cMat\n",
    "    cVec = physics.cVec\n",
    "    c = cVec[0]\n",
    "    \n",
    "    eigVals = [item for sublist in zip(cVec, -cVec) for item in sublist]\n",
    "    I = np.eye(degFreed)\n",
    "    normConst = 1. #  / np.sqrt(c**2 + 1)\n",
    "    op = normConst * np.asarray(np.block([[cMat, cMat], [-I, I]]))\n",
    "    diagMat = np.diag(eigVals)\n",
    "    return op, diagMat"
   ]
  },
  {
   "cell_type": "code",
   "execution_count": 10,
   "metadata": {},
   "outputs": [],
   "source": [
    "def WaveEqRK(omega, physics, waves, u0, nt, CFL, RK, derivOp, left = True):\n",
    "    # Unpack requisite attributes.\n",
    "    degFreed = omega.degFreed\n",
    "    c = physics.cVec[0]\n",
    "    epsilon = physics.epsilons[0]\n",
    "    mus = physics.mus[0]\n",
    "    \n",
    "    # Stack the initial condition.\n",
    "    u0stack = np.asarray(np.append(u0, u0)) # I'm not sure how to relate the initial condition for the E and B fields.\n",
    "    \n",
    "    # Create change of basis matrix.\n",
    "    convertOp, diagMat = ConvertOp(omega, physics)\n",
    "    convertOpinv = LA.inv(convertOp)\n",
    "    \n",
    "    # Change basis of initial condtion.\n",
    "    v = convertOpinv @ u0stack\n",
    "    \n",
    "    # Turn difference matrix into block diagonal.\n",
    "    derivMat = OT.Block(derivOp, var = 2) # ExpandMat(derivOp)\n",
    "    \n",
    "    # Create identity matrix to appease the current structure of my RK function.\n",
    "    I = np.eye(2 * degFreed)\n",
    "    \n",
    "    # Turn Fourier matrix into block diagonal.\n",
    "    wavesMat = OT.Block(waves, var = 2)\n",
    "    \n",
    "    # Create operator to pass into RK function.\n",
    "    op = diagMat @ derivMat\n",
    "    print('')\n",
    "    print(u0stack)\n",
    "    print(v)\n",
    "    r = np.asarray([u0stack[i] / v[i] for i in range(len(v))])\n",
    "    print(r)\n",
    "    for i in range(nt):\n",
    "        v = ST.RungeKutta(omega, physics, I, v, 1, CFL, RK, op = op)\n",
    "    \n",
    "    # Convert v back to space-space.\n",
    "    \n",
    "    u = convertOp @ v\n",
    "    \n",
    "    # Convert u to k space.\n",
    "    fCoefs = LA.inv(wavesMat) @ u\n",
    "    \n",
    "    return fCoefs"
   ]
  },
  {
   "cell_type": "code",
   "execution_count": 11,
   "metadata": {},
   "outputs": [
    {
     "name": "stdout",
     "output_type": "stream",
     "text": [
      "[[ 0.25  0.    0.    0.    0.    0.    0.    0.    0.    0.    0.    0.    0.    0.    0.    0.   -0.5   0.    0.    0.    0.    0.    0.    0.    0.    0.    0.    0.    0.    0.    0.    0.  ]\n",
      " [ 0.    0.25  0.    0.    0.    0.    0.    0.    0.    0.    0.    0.    0.    0.    0.    0.    0.   -0.5   0.    0.    0.    0.    0.    0.    0.    0.    0.    0.    0.    0.    0.    0.  ]\n",
      " [ 0.    0.    0.25  0.    0.    0.    0.    0.    0.    0.    0.    0.    0.    0.    0.    0.    0.    0.   -0.5   0.    0.    0.    0.    0.    0.    0.    0.    0.    0.    0.    0.    0.  ]\n",
      " [ 0.    0.    0.    0.25  0.    0.    0.    0.    0.    0.    0.    0.    0.    0.    0.    0.    0.    0.    0.   -0.5   0.    0.    0.    0.    0.    0.    0.    0.    0.    0.    0.    0.  ]\n",
      " [ 0.    0.    0.    0.    0.25  0.    0.    0.    0.    0.    0.    0.    0.    0.    0.    0.    0.    0.    0.    0.   -0.5   0.    0.    0.    0.    0.    0.    0.    0.    0.    0.    0.  ]\n",
      " [ 0.    0.    0.    0.    0.    0.25  0.    0.    0.    0.    0.    0.    0.    0.    0.    0.    0.    0.    0.    0.    0.   -0.5   0.    0.    0.    0.    0.    0.    0.    0.    0.    0.  ]\n",
      " [ 0.    0.    0.    0.    0.    0.    0.25  0.    0.    0.    0.    0.    0.    0.    0.    0.    0.    0.    0.    0.    0.    0.   -0.5   0.    0.    0.    0.    0.    0.    0.    0.    0.  ]\n",
      " [ 0.    0.    0.    0.    0.    0.    0.    0.25  0.    0.    0.    0.    0.    0.    0.    0.    0.    0.    0.    0.    0.    0.    0.   -0.5   0.    0.    0.    0.    0.    0.    0.    0.  ]\n",
      " [ 0.    0.    0.    0.    0.    0.    0.    0.    0.25  0.    0.    0.    0.    0.    0.    0.    0.    0.    0.    0.    0.    0.    0.    0.   -0.5   0.    0.    0.    0.    0.    0.    0.  ]\n",
      " [ 0.    0.    0.    0.    0.    0.    0.    0.    0.    0.25  0.    0.    0.    0.    0.    0.    0.    0.    0.    0.    0.    0.    0.    0.    0.   -0.5   0.    0.    0.    0.    0.    0.  ]\n",
      " [ 0.    0.    0.    0.    0.    0.    0.    0.    0.    0.    0.25  0.    0.    0.    0.    0.    0.    0.    0.    0.    0.    0.    0.    0.    0.    0.   -0.5   0.    0.    0.    0.    0.  ]\n",
      " [ 0.    0.    0.    0.    0.    0.    0.    0.    0.    0.    0.    0.25  0.    0.    0.    0.    0.    0.    0.    0.    0.    0.    0.    0.    0.    0.    0.   -0.5   0.    0.    0.    0.  ]\n",
      " [ 0.    0.    0.    0.    0.    0.    0.    0.    0.    0.    0.    0.    0.25  0.    0.    0.    0.    0.    0.    0.    0.    0.    0.    0.    0.    0.    0.    0.   -0.5   0.    0.    0.  ]\n",
      " [ 0.    0.    0.    0.    0.    0.    0.    0.    0.    0.    0.    0.    0.    0.25  0.    0.    0.    0.    0.    0.    0.    0.    0.    0.    0.    0.    0.    0.    0.   -0.5   0.    0.  ]\n",
      " [ 0.    0.    0.    0.    0.    0.    0.    0.    0.    0.    0.    0.    0.    0.    0.25  0.    0.    0.    0.    0.    0.    0.    0.    0.    0.    0.    0.    0.    0.    0.   -0.5   0.  ]\n",
      " [ 0.    0.    0.    0.    0.    0.    0.    0.    0.    0.    0.    0.    0.    0.    0.    0.25  0.    0.    0.    0.    0.    0.    0.    0.    0.    0.    0.    0.    0.    0.    0.   -0.5 ]\n",
      " [ 0.25  0.    0.    0.    0.    0.    0.    0.    0.    0.    0.    0.    0.    0.    0.    0.    0.5   0.    0.    0.    0.    0.    0.    0.    0.    0.    0.    0.    0.    0.    0.    0.  ]\n",
      " [ 0.    0.25  0.    0.    0.    0.    0.    0.    0.    0.    0.    0.    0.    0.    0.    0.    0.    0.5   0.    0.    0.    0.    0.    0.    0.    0.    0.    0.    0.    0.    0.    0.  ]\n",
      " [ 0.    0.    0.25  0.    0.    0.    0.    0.    0.    0.    0.    0.    0.    0.    0.    0.    0.    0.    0.5   0.    0.    0.    0.    0.    0.    0.    0.    0.    0.    0.    0.    0.  ]\n",
      " [ 0.    0.    0.    0.25  0.    0.    0.    0.    0.    0.    0.    0.    0.    0.    0.    0.    0.    0.    0.    0.5   0.    0.    0.    0.    0.    0.    0.    0.    0.    0.    0.    0.  ]\n",
      " [ 0.    0.    0.    0.    0.25  0.    0.    0.    0.    0.    0.    0.    0.    0.    0.    0.    0.    0.    0.    0.    0.5   0.    0.    0.    0.    0.    0.    0.    0.    0.    0.    0.  ]\n",
      " [ 0.    0.    0.    0.    0.    0.25  0.    0.    0.    0.    0.    0.    0.    0.    0.    0.    0.    0.    0.    0.    0.    0.5   0.    0.    0.    0.    0.    0.    0.    0.    0.    0.  ]\n",
      " [ 0.    0.    0.    0.    0.    0.    0.25  0.    0.    0.    0.    0.    0.    0.    0.    0.    0.    0.    0.    0.    0.    0.    0.5   0.    0.    0.    0.    0.    0.    0.    0.    0.  ]\n",
      " [ 0.    0.    0.    0.    0.    0.    0.    0.25  0.    0.    0.    0.    0.    0.    0.    0.    0.    0.    0.    0.    0.    0.    0.    0.5   0.    0.    0.    0.    0.    0.    0.    0.  ]\n",
      " [ 0.    0.    0.    0.    0.    0.    0.    0.    0.25  0.    0.    0.    0.    0.    0.    0.    0.    0.    0.    0.    0.    0.    0.    0.    0.5   0.    0.    0.    0.    0.    0.    0.  ]\n",
      " [ 0.    0.    0.    0.    0.    0.    0.    0.    0.    0.25  0.    0.    0.    0.    0.    0.    0.    0.    0.    0.    0.    0.    0.    0.    0.    0.5   0.    0.    0.    0.    0.    0.  ]\n",
      " [ 0.    0.    0.    0.    0.    0.    0.    0.    0.    0.    0.25  0.    0.    0.    0.    0.    0.    0.    0.    0.    0.    0.    0.    0.    0.    0.    0.5   0.    0.    0.    0.    0.  ]\n",
      " [ 0.    0.    0.    0.    0.    0.    0.    0.    0.    0.    0.    0.25  0.    0.    0.    0.    0.    0.    0.    0.    0.    0.    0.    0.    0.    0.    0.    0.5   0.    0.    0.    0.  ]\n",
      " [ 0.    0.    0.    0.    0.    0.    0.    0.    0.    0.    0.    0.    0.25  0.    0.    0.    0.    0.    0.    0.    0.    0.    0.    0.    0.    0.    0.    0.    0.5   0.    0.    0.  ]\n",
      " [ 0.    0.    0.    0.    0.    0.    0.    0.    0.    0.    0.    0.    0.    0.25  0.    0.    0.    0.    0.    0.    0.    0.    0.    0.    0.    0.    0.    0.    0.    0.5   0.    0.  ]\n",
      " [ 0.    0.    0.    0.    0.    0.    0.    0.    0.    0.    0.    0.    0.    0.    0.25  0.    0.    0.    0.    0.    0.    0.    0.    0.    0.    0.    0.    0.    0.    0.    0.5   0.  ]\n",
      " [ 0.    0.    0.    0.    0.    0.    0.    0.    0.    0.    0.    0.    0.    0.    0.    0.25  0.    0.    0.    0.    0.    0.    0.    0.    0.    0.    0.    0.    0.    0.    0.    0.5 ]]\n"
     ]
    }
   ],
   "source": [
    "op, diagMat = ConvertOp(omegaC, physicsC)\n",
    "\n",
    "# print(op)\n",
    "print(LA.inv(op))"
   ]
  },
  {
   "cell_type": "code",
   "execution_count": 12,
   "metadata": {},
   "outputs": [
    {
     "name": "stdout",
     "output_type": "stream",
     "text": [
      "0.011048543456039806\n",
      "sig: 0.25 mu: 0.03113530673812129\n",
      "You are using ExactSpatOp in TestTools module!\n",
      "(32, 32)\n",
      "(32, 32)\n",
      "You are using ExactSpatOp in TestTools module!\n"
     ]
    }
   ],
   "source": [
    "# c = ConvertParams(permitivity, permeability, L)\n",
    "t, nt = ST.CalcTime(omegaAMR, CFL, cMatAMR, nt = nt)\n",
    "print(t)\n",
    "mu, sigma = WFT.GaussParams(x_0, x_1)\n",
    "args = [mu, sigma]\n",
    "wavesAMR = WT.MakeWaves(omegaAMR)\n",
    "nullspace = OT.FindNullspace(omegaAMR, wavesAMR, Hans = Hans)\n",
    "restrictOp = GTT.CoarsenOp(omegaAMR)\n",
    "print('sig:', sigma, 'mu:', mu)\n",
    "\n",
    "wavesF = WT.MakeWaves(omegaF)\n",
    "wavesC = WT.MakeWaves(omegaC)\n",
    "\n",
    "derivMat = TT.ExactSpatOp(omegaAMR)\n",
    "print(np.shape(cMatF))\n",
    "print(np.shape(derivMat))\n",
    "spatOp = -cMatF @ derivMat\n",
    "timePropOp = LA2.expm(t * spatOp)\n",
    "\n",
    "derivMatC = TT.ExactSpatOp(omegaC)\n",
    "spatOpC = -cMatC @ derivMatC\n",
    "timePropOpC = LA2.expm(t * spatOpC)\n"
   ]
  },
  {
   "cell_type": "code",
   "execution_count": 13,
   "metadata": {},
   "outputs": [],
   "source": [
    "# wavesAMR = OT.Block(wavesAMR, var = 2)\n",
    "# nullspace = OT.Block(nullspace, var = 2)\n",
    "# restrictOp = OT.Block(restrictOp, var = 2)\n",
    "# wavesC = OT.Block(wavesC, var = 2)\n",
    "# wavesF = OT.Block(wavesF, var = 2)\n",
    "\n",
    "opC = OT.SpaceDeriv(omegaC, order, deriv)#-cMatC @ OT.SpaceDeriv(omegaC, order, diff)\n",
    "opF = OT.SpaceDeriv(omegaF, order, deriv)#-cMatF @ OT.SpaceDeriv(omegaF, order, diff)\n",
    "opAMR = OT.SpaceDeriv(omegaAMR, order, deriv)#-cMatAMR @ OT.SpaceDeriv(omegaAMR, order, diff)"
   ]
  },
  {
   "cell_type": "code",
   "execution_count": 14,
   "metadata": {},
   "outputs": [
    {
     "name": "stdout",
     "output_type": "stream",
     "text": [
      "\n",
      "[ 0.01211495  0.03450045  0.05163358  0.06090596  0.06090596  0.05163358  0.03450045  0.01211495 -0.01211495 -0.03450045 -0.05163358 -0.06090596 -0.06090596 -0.05163358 -0.03450045 -0.01211495  0.01211495  0.03450045  0.05163358  0.06090596  0.06090596  0.05163358  0.03450045  0.01211495 -0.01211495 -0.03450045 -0.05163358 -0.06090596 -0.06090596 -0.05163358 -0.03450045 -0.01211495]\n",
      "[-0.00302874 -0.00862511 -0.01290839 -0.01522649 -0.01522649 -0.01290839 -0.00862511 -0.00302874  0.00302874  0.00862511  0.01290839  0.01522649  0.01522649  0.01290839  0.00862511  0.00302874  0.00908621  0.02587534  0.03872518  0.04567947  0.04567947  0.03872518  0.02587534  0.00908621 -0.00908621 -0.02587534 -0.03872518 -0.04567947 -0.04567947 -0.03872518 -0.02587534 -0.00908621]\n"
     ]
    },
    {
     "ename": "IndexError",
     "evalue": "only integers, slices (`:`), ellipsis (`...`), numpy.newaxis (`None`) and integer or boolean arrays are valid indices",
     "output_type": "error",
     "traceback": [
      "\u001b[0;31m---------------------------------------------------------------------------\u001b[0m",
      "\u001b[0;31mIndexError\u001b[0m                                Traceback (most recent call last)",
      "\u001b[0;32m<ipython-input-14-0afff8fe5020>\u001b[0m in \u001b[0;36m<module>\u001b[0;34m\u001b[0m\n\u001b[1;32m     37\u001b[0m \u001b[0;31m# solverCoefsAMR = ST.RungeKutta(omegaAMR, physicsAMR, wavesAMR @ nullspace, waveInitAMR, nt, CFL, RK, op = opAMR) # TimeIntegratorFunc(omegaAMR, wavesAMR @ nullspace, waveInitAMR, nt, cMat, CFL, DiffFunc, order = order)\u001b[0m\u001b[0;34m\u001b[0m\u001b[0;34m\u001b[0m\u001b[0;34m\u001b[0m\u001b[0m\n\u001b[1;32m     38\u001b[0m \u001b[0;34m\u001b[0m\u001b[0m\n\u001b[0;32m---> 39\u001b[0;31m \u001b[0msolverCoefsC\u001b[0m \u001b[0;34m=\u001b[0m \u001b[0mWaveEqRK\u001b[0m\u001b[0;34m(\u001b[0m\u001b[0momegaC\u001b[0m\u001b[0;34m,\u001b[0m \u001b[0mphysicsC\u001b[0m\u001b[0;34m,\u001b[0m \u001b[0mwavesC\u001b[0m\u001b[0;34m,\u001b[0m \u001b[0mwaveInitC\u001b[0m\u001b[0;34m,\u001b[0m \u001b[0mnt\u001b[0m\u001b[0;34m,\u001b[0m \u001b[0mCFL\u001b[0m\u001b[0;34m,\u001b[0m \u001b[0mRK\u001b[0m\u001b[0;34m,\u001b[0m \u001b[0mderivOp\u001b[0m \u001b[0;34m=\u001b[0m \u001b[0mopC\u001b[0m\u001b[0;34m)\u001b[0m \u001b[0;31m# TimeIntegratorFunc(omegaC, wavesC, waveInitC, nt, cMatC, CFL, DiffFunc)\u001b[0m\u001b[0;34m\u001b[0m\u001b[0;34m\u001b[0m\u001b[0m\n\u001b[0m\u001b[1;32m     40\u001b[0m \u001b[0msolverCoefsF\u001b[0m \u001b[0;34m=\u001b[0m \u001b[0mWaveEqRK\u001b[0m\u001b[0;34m(\u001b[0m\u001b[0momegaF\u001b[0m\u001b[0;34m,\u001b[0m \u001b[0mphysicsF\u001b[0m\u001b[0;34m,\u001b[0m \u001b[0mwavesF\u001b[0m\u001b[0;34m,\u001b[0m \u001b[0mwaveInitF\u001b[0m\u001b[0;34m,\u001b[0m \u001b[0mnt\u001b[0m\u001b[0;34m,\u001b[0m \u001b[0mCFL\u001b[0m\u001b[0;34m,\u001b[0m \u001b[0mRK\u001b[0m\u001b[0;34m,\u001b[0m \u001b[0mderivOp\u001b[0m \u001b[0;34m=\u001b[0m \u001b[0mopF\u001b[0m\u001b[0;34m)\u001b[0m \u001b[0;31m# TimeIntegratorFunc(omegaF, wavesF, waveInitF, nt, cMatF, CFL, DiffFunc)\u001b[0m\u001b[0;34m\u001b[0m\u001b[0;34m\u001b[0m\u001b[0m\n\u001b[1;32m     41\u001b[0m \u001b[0msolverCoefsAMR\u001b[0m \u001b[0;34m=\u001b[0m \u001b[0mWaveEqRK\u001b[0m\u001b[0;34m(\u001b[0m\u001b[0momegaAMR\u001b[0m\u001b[0;34m,\u001b[0m \u001b[0mphysicsAMR\u001b[0m\u001b[0;34m,\u001b[0m \u001b[0mwavesAMR\u001b[0m \u001b[0;34m@\u001b[0m \u001b[0mnullspace\u001b[0m\u001b[0;34m,\u001b[0m \u001b[0mwaveInitAMR\u001b[0m\u001b[0;34m,\u001b[0m \u001b[0mnt\u001b[0m\u001b[0;34m,\u001b[0m \u001b[0mCFL\u001b[0m\u001b[0;34m,\u001b[0m \u001b[0mRK\u001b[0m\u001b[0;34m,\u001b[0m \u001b[0mderivOp\u001b[0m \u001b[0;34m=\u001b[0m \u001b[0mopAMR\u001b[0m\u001b[0;34m)\u001b[0m \u001b[0;31m# TimeIntegratorFunc(omegaAMR, wavesAMR @ nullspace, waveInitAMR, nt, cMat, CFL, DiffFunc, order = order)\u001b[0m\u001b[0;34m\u001b[0m\u001b[0;34m\u001b[0m\u001b[0m\n",
      "\u001b[0;32m<ipython-input-10-6c4eb9aa6e5e>\u001b[0m in \u001b[0;36mWaveEqRK\u001b[0;34m(omega, physics, waves, u0, nt, CFL, RK, derivOp, left)\u001b[0m\n\u001b[1;32m     30\u001b[0m     \u001b[0mprint\u001b[0m\u001b[0;34m(\u001b[0m\u001b[0mu0stack\u001b[0m\u001b[0;34m)\u001b[0m\u001b[0;34m\u001b[0m\u001b[0;34m\u001b[0m\u001b[0m\n\u001b[1;32m     31\u001b[0m     \u001b[0mprint\u001b[0m\u001b[0;34m(\u001b[0m\u001b[0mv\u001b[0m\u001b[0;34m)\u001b[0m\u001b[0;34m\u001b[0m\u001b[0;34m\u001b[0m\u001b[0m\n\u001b[0;32m---> 32\u001b[0;31m     \u001b[0mr\u001b[0m \u001b[0;34m=\u001b[0m \u001b[0mnp\u001b[0m\u001b[0;34m.\u001b[0m\u001b[0masarray\u001b[0m\u001b[0;34m(\u001b[0m\u001b[0;34m[\u001b[0m\u001b[0mu0stack\u001b[0m\u001b[0;34m[\u001b[0m\u001b[0mi\u001b[0m\u001b[0;34m]\u001b[0m \u001b[0;34m/\u001b[0m \u001b[0mv\u001b[0m\u001b[0;34m[\u001b[0m\u001b[0mi\u001b[0m\u001b[0;34m]\u001b[0m \u001b[0;32mfor\u001b[0m \u001b[0mi\u001b[0m \u001b[0;32min\u001b[0m \u001b[0mv\u001b[0m\u001b[0;34m]\u001b[0m\u001b[0;34m)\u001b[0m\u001b[0;34m\u001b[0m\u001b[0;34m\u001b[0m\u001b[0m\n\u001b[0m\u001b[1;32m     33\u001b[0m     \u001b[0mprint\u001b[0m\u001b[0;34m(\u001b[0m\u001b[0mr\u001b[0m\u001b[0;34m)\u001b[0m\u001b[0;34m\u001b[0m\u001b[0;34m\u001b[0m\u001b[0m\n\u001b[1;32m     34\u001b[0m     \u001b[0;32mfor\u001b[0m \u001b[0mi\u001b[0m \u001b[0;32min\u001b[0m \u001b[0mrange\u001b[0m\u001b[0;34m(\u001b[0m\u001b[0mnt\u001b[0m\u001b[0;34m)\u001b[0m\u001b[0;34m:\u001b[0m\u001b[0;34m\u001b[0m\u001b[0;34m\u001b[0m\u001b[0m\n",
      "\u001b[0;32m<ipython-input-10-6c4eb9aa6e5e>\u001b[0m in \u001b[0;36m<listcomp>\u001b[0;34m(.0)\u001b[0m\n\u001b[1;32m     30\u001b[0m     \u001b[0mprint\u001b[0m\u001b[0;34m(\u001b[0m\u001b[0mu0stack\u001b[0m\u001b[0;34m)\u001b[0m\u001b[0;34m\u001b[0m\u001b[0;34m\u001b[0m\u001b[0m\n\u001b[1;32m     31\u001b[0m     \u001b[0mprint\u001b[0m\u001b[0;34m(\u001b[0m\u001b[0mv\u001b[0m\u001b[0;34m)\u001b[0m\u001b[0;34m\u001b[0m\u001b[0;34m\u001b[0m\u001b[0m\n\u001b[0;32m---> 32\u001b[0;31m     \u001b[0mr\u001b[0m \u001b[0;34m=\u001b[0m \u001b[0mnp\u001b[0m\u001b[0;34m.\u001b[0m\u001b[0masarray\u001b[0m\u001b[0;34m(\u001b[0m\u001b[0;34m[\u001b[0m\u001b[0mu0stack\u001b[0m\u001b[0;34m[\u001b[0m\u001b[0mi\u001b[0m\u001b[0;34m]\u001b[0m \u001b[0;34m/\u001b[0m \u001b[0mv\u001b[0m\u001b[0;34m[\u001b[0m\u001b[0mi\u001b[0m\u001b[0;34m]\u001b[0m \u001b[0;32mfor\u001b[0m \u001b[0mi\u001b[0m \u001b[0;32min\u001b[0m \u001b[0mv\u001b[0m\u001b[0;34m]\u001b[0m\u001b[0;34m)\u001b[0m\u001b[0;34m\u001b[0m\u001b[0;34m\u001b[0m\u001b[0m\n\u001b[0m\u001b[1;32m     33\u001b[0m     \u001b[0mprint\u001b[0m\u001b[0;34m(\u001b[0m\u001b[0mr\u001b[0m\u001b[0;34m)\u001b[0m\u001b[0;34m\u001b[0m\u001b[0;34m\u001b[0m\u001b[0m\n\u001b[1;32m     34\u001b[0m     \u001b[0;32mfor\u001b[0m \u001b[0mi\u001b[0m \u001b[0;32min\u001b[0m \u001b[0mrange\u001b[0m\u001b[0;34m(\u001b[0m\u001b[0mnt\u001b[0m\u001b[0;34m)\u001b[0m\u001b[0;34m:\u001b[0m\u001b[0;34m\u001b[0m\u001b[0;34m\u001b[0m\u001b[0m\n",
      "\u001b[0;31mIndexError\u001b[0m: only integers, slices (`:`), ellipsis (`...`), numpy.newaxis (`None`) and integer or boolean arrays are valid indices"
     ]
    }
   ],
   "source": [
    "# For Gaussian:\n",
    "waveInitC = WFT.InitCond(omegaC, physicsC, func, args)\n",
    "# waveInitC = np.append(waveInitC, waveInitC)\n",
    "waveInitF = WFT.InitCond(omegaF, physicsF, func, args)\n",
    "# waveInitF = np.append(waveInitF, waveInitF)\n",
    "\n",
    "FCoefsC = FFTT.FourierCoefs(wavesC, waveInitC)\n",
    "FCoefsF = FFTT.FourierCoefs(wavesF, waveInitF)\n",
    "FCoefsC1 = np.asarray(np.append(FCoefsC, FCoefsC))\n",
    "FCoefsF1 = np.asarray(np.append(FCoefsF, FCoefsF))\n",
    "\n",
    "# Find initial waveform on coarse, fine, and AMR grids.\n",
    "waveInitC = wavesC @ FCoefsC\n",
    "waveInitF = wavesF @ FCoefsF\n",
    "waveInitAMR = restrictOp @ waveInitF\n",
    "\n",
    "# Find Fourier coefficients for initial condition on AMR grid.\n",
    "FCoefsAMR = FFTT.FourierCoefs(wavesAMR @ nullspace, waveInitAMR)\n",
    "FCoefsAMR1 = np.asarray(np.append(FCoefsAMR, FCoefsAMR))\n",
    "\n",
    "wavePropC = WFT.WaveEq(omegaC, physicsC, func, args, t)#FFTT.FourierCoefs(wavesC, wavePropC) # timePropOpC @ FCoefsC\n",
    "wavePropF = WFT.WaveEq(omegaF, physicsF, func, args, t)\n",
    "wavePropAMR = WFT.WaveEq(omegaAMR, physicsAMR, func, args, t)#FFTT.FourierCoefs(wavesC, wavePropC) # timePropOpC @ FCoefsC\n",
    "\n",
    "# Find propagated coeficients on coarse and fine grid.\n",
    "FCoefsPropC = FFTT.FourierCoefs(wavesC, wavePropC)\n",
    "FCoefsPropF = FFTT.FourierCoefs(wavesF, wavePropF)\n",
    "FCoefsPropAMR = FFTT.FourierCoefs(wavesAMR @ nullspace, wavePropAMR)\n",
    "FCoefsPropC1 = np.asarray(np.append(FCoefsPropC, FCoefsPropC))\n",
    "FCoefsPropF1 = np.asarray(np.append(FCoefsPropF, FCoefsPropF))\n",
    "FCoefsPropAMR1 = np.asarray(np.append(FCoefsPropAMR, FCoefsPropAMR))\n",
    "\n",
    "# TEST FOR EXACT GAUSSIAN AT NEW LOCATION.\n",
    "\n",
    "# solverCoefsC = ST.RungeKutta(omegaC, physicsC, wavesC, waveInitC, nt, CFL, RK, op = opC) # TimeIntegratorFunc(omegaC, wavesC, waveInitC, nt, cMatC, CFL, DiffFunc)\n",
    "# solverCoefsF = ST.RungeKutta(omegaF, physicsF, wavesF, waveInitF, nt, CFL, RK, op = opF) # TimeIntegratorFunc(omegaF, wavesF, waveInitF, nt, cMatF, CFL, DiffFunc)\n",
    "# solverCoefsAMR = ST.RungeKutta(omegaAMR, physicsAMR, wavesAMR @ nullspace, waveInitAMR, nt, CFL, RK, op = opAMR) # TimeIntegratorFunc(omegaAMR, wavesAMR @ nullspace, waveInitAMR, nt, cMat, CFL, DiffFunc, order = order)\n",
    "\n",
    "solverCoefsC = WaveEqRK(omegaC, physicsC, wavesC, waveInitC, nt, CFL, RK, derivOp = opC) # TimeIntegratorFunc(omegaC, wavesC, waveInitC, nt, cMatC, CFL, DiffFunc)\n",
    "solverCoefsF = WaveEqRK(omegaF, physicsF, wavesF, waveInitF, nt, CFL, RK, derivOp = opF) # TimeIntegratorFunc(omegaF, wavesF, waveInitF, nt, cMatF, CFL, DiffFunc)\n",
    "solverCoefsAMR = WaveEqRK(omegaAMR, physicsAMR, wavesAMR @ nullspace, waveInitAMR, nt, CFL, RK, derivOp = opAMR) # TimeIntegratorFunc(omegaAMR, wavesAMR @ nullspace, waveInitAMR, nt, cMat, CFL, DiffFunc, order = order)\n",
    "\n",
    "\n",
    "\n",
    "allCoefsC = PT.Load(FCoefsC1, FCoefsPropC1, solverCoefsC)#, FCoefsPropCTh)\n",
    "allCoefsF = PT.Load(FCoefsF1, FCoefsPropF1, solverCoefsF)#, FCoefsPropFTh)\n",
    "# allCoefsAMR = nullspace @ PT.Load(FCoefsAMR1, FCoefsPropAMR1, solverCoefsAMR)#, FCoefsPropAMRTh)\n",
    "\n",
    "\n",
    "\n",
    "\n",
    "labels = ['Initial Wave', 'Exact Propagated Wave', 'RK Propagated Wave']#, 'Rotation Matrix Propagated Wave']\n"
   ]
  },
  {
   "cell_type": "code",
   "execution_count": null,
   "metadata": {},
   "outputs": [],
   "source": [
    "actual = np.round(FCoefsPropC1, 12)[nh_min:]\n",
    "solver = np.round(solverCoefsC, 12)[nh_min:]\n",
    "\n",
    "print(actual)\n",
    "print(solver)\n",
    "print(actual.transpose() @ actual)\n",
    "print(solver.transpose() @ solver)\n",
    "print('')"
   ]
  },
  {
   "cell_type": "code",
   "execution_count": null,
   "metadata": {
    "scrolled": false
   },
   "outputs": [],
   "source": [
    "PT.PlotMixedWave(omegaC, physicsC, waves = wavesC, FCoefs = allCoefsC, rescale = 5, yGrid = True, labels = labels, saveName = 'RKWaveEqAttempt')#, saveName = 'Coarse', dpi = 300)\n",
    "# PT.PlotMixedWave(omegaF, physicsF, waves = wavesF, FCoefs = allCoefsF, rescale = 5, yGrid = True)#, labels = labels, title = 'Fine-Grid Mode Propagation', saveName = 'Fine', dpi = 300)\n",
    "# PT.PlotMixedWave(omegaAMR, physicsAMR, waves = wavesAMR, FCoefs = allCoefsAMR, rescale = 5, yGrid = True)#, labels = labels, title = 'AMR-Grid Mode Propagation', saveName = 'AMRHansMethod', dpi = 300)\n"
   ]
  },
  {
   "cell_type": "code",
   "execution_count": null,
   "metadata": {},
   "outputs": [],
   "source": [
    "PT.PlotMixedWave(omegaC, physicsC, waves = wavesC, FCoefs = solverCoefsC, rescale = 5, yGrid = True, saveName = 'RKWaveEqAttempt' + str(nt))#, saveName = 'Coarse', dpi = 300)\n"
   ]
  },
  {
   "cell_type": "code",
   "execution_count": null,
   "metadata": {},
   "outputs": [],
   "source": [
    "# Notes for Hans:\n",
    "#\n",
    "# If the resolution is too low, there isn't sufficient high-frequency content to represent the gaussian.\n",
    "# Sparse function needs to be developed for upwind and center-diffference of arbitrary-order polynomial interpolation.\n",
    "# I see that I can't use the rotation matrix to propagate the matrices. I'm pretty sure that my Fourier-propagated logic is wrong, though.\n",
    "# 2nd-order polynomial interp is working BETTER THAN 3rd-order for RK4 center diff.\n",
    "# How do I employ Fourier transforms on Maxwell's Equations?\n"
   ]
  },
  {
   "cell_type": "code",
   "execution_count": null,
   "metadata": {
    "scrolled": false
   },
   "outputs": [],
   "source": [
    "# Notes for Sasha:\n",
    "#\n",
    "# Make residuals test of Gaussian (first unpropagated, then propagated) to assess its validity.\n"
   ]
  },
  {
   "cell_type": "code",
   "execution_count": null,
   "metadata": {},
   "outputs": [],
   "source": [
    "waveMat = OT.Block(wavesC, var = 2)\n",
    "solvRes = waveMat @ solverCoefsC\n",
    "print(solvRes[:nh_min])\n",
    "print(solvRes[nh_min:])\n",
    "print('')"
   ]
  },
  {
   "cell_type": "code",
   "execution_count": null,
   "metadata": {},
   "outputs": [],
   "source": [
    "dx, dt = ST.FindDxDt(omegaC, CFL, cMatC)\n",
    "print(dt)"
   ]
  },
  {
   "cell_type": "code",
   "execution_count": null,
   "metadata": {},
   "outputs": [],
   "source": [
    "# Upwind\n",
    "\n",
    "2.41421356, -0.41421356 # nh_min = 32, CFL = np.sqrt(0.5)\n",
    "0.011048543456039806\n",
    "\n",
    "2, 0 # nh_min = 32, CFL = 0.5\n",
    "0.0078125\n",
    "\n",
    "2, 0 # nh_min = 16, CFL = 0.5\n",
    "0.015625"
   ]
  },
  {
   "cell_type": "code",
   "execution_count": null,
   "metadata": {},
   "outputs": [],
   "source": [
    "print(1.41421356 / 0.011048543456039806)\n",
    "print(1. / 0.0078125)\n",
    "print(1. / 0.015625)"
   ]
  },
  {
   "cell_type": "code",
   "execution_count": null,
   "metadata": {},
   "outputs": [],
   "source": []
  }
 ],
 "metadata": {
  "kernelspec": {
   "display_name": "Python 3",
   "language": "python",
   "name": "python3"
  },
  "language_info": {
   "codemirror_mode": {
    "name": "ipython",
    "version": 3
   },
   "file_extension": ".py",
   "mimetype": "text/x-python",
   "name": "python",
   "nbconvert_exporter": "python",
   "pygments_lexer": "ipython3",
   "version": "3.7.3"
  }
 },
 "nbformat": 4,
 "nbformat_minor": 2
}
