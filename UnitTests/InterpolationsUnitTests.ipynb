{
 "cells": [
  {
   "cell_type": "markdown",
   "metadata": {},
   "source": [
    "Here, you develop the "
   ]
  },
  {
   "cell_type": "code",
   "execution_count": 1,
   "metadata": {},
   "outputs": [
    {
     "data": {
      "text/html": [
       "<style>pre { white-space: pre !important; }</style>"
      ],
      "text/plain": [
       "<IPython.core.display.HTML object>"
      ]
     },
     "metadata": {},
     "output_type": "display_data"
    },
    {
     "data": {
      "text/html": [
       "<style>pre { white-space: pre !important; }</style>"
      ],
      "text/plain": [
       "<IPython.core.display.HTML object>"
      ]
     },
     "metadata": {},
     "output_type": "display_data"
    }
   ],
   "source": [
    "import os.path\n",
    "from scipy import *\n",
    "import numpy as np\n",
    "from numpy import *\n",
    "from numpy import linalg as LA\n",
    "from scipy import linalg as LA2\n",
    "import sympy as sympy\n",
    "import sys as sys\n",
    "import time\n",
    "import matplotlib.pyplot as plt\n",
    "import itertools as it\n",
    "from IPython.core.display import HTML\n",
    "\n",
    "sys.path.append('/Users/sashacurcic/SashasDirectory/ANAG/FV_MG/')\n",
    "from Modules import BasicTools as BT\n",
    "from Modules import WaveTools as WT\n",
    "from Modules import PlotTools as PT\n",
    "from Modules import FFTTools as FFTT\n",
    "from Modules import OperatorTools as OT\n",
    "from Modules import GridTransferTools as GTT\n",
    "from Modules import TestTools as TT\n",
    "from Modules import SolverTools as ST\n",
    "\n",
    "display(HTML(\"<style>pre { white-space: pre !important; }</style>\"))\n",
    "np.set_printoptions( linewidth = 10000, threshold = 100000)"
   ]
  },
  {
   "cell_type": "markdown",
   "metadata": {},
   "source": [
    "This cell takes all of the input parameters."
   ]
  },
  {
   "cell_type": "code",
   "execution_count": 2,
   "metadata": {},
   "outputs": [],
   "source": [
    "nh = 16\n",
    "refRatio = 2\n",
    "c = 1.\n",
    "CFL = 0.5\n",
    "nt = 32\n",
    "RK = 4\n",
    "deriv = 'CD'\n",
    "order = 2"
   ]
  },
  {
   "cell_type": "markdown",
   "metadata": {},
   "source": [
    "This cell contains the relevant switch information."
   ]
  },
  {
   "cell_type": "code",
   "execution_count": 3,
   "metadata": {},
   "outputs": [],
   "source": [
    "if (RK == 1):\n",
    "    TimeIntegratorFunc = ST.ForwardEuler\n",
    "else:\n",
    "    if (RK == 2):\n",
    "        TimeIntegratorFunc = ST.MidpointMeth\n",
    "    else:\n",
    "        TimeIntegratorFunc = ST.RK4\n",
    "\n",
    "if (deriv == 'U'):\n",
    "    DiffFunc = ST.Upwind\n",
    "else:\n",
    "    DiffFunc = TT.CenterDiff#ST.CenterDiff"
   ]
  },
  {
   "cell_type": "markdown",
   "metadata": {},
   "source": [
    "This cell instantiates the grid, derivative operators, and Fourier modes."
   ]
  },
  {
   "cell_type": "code",
   "execution_count": 4,
   "metadata": {},
   "outputs": [
    {
     "name": "stdout",
     "output_type": "stream",
     "text": [
      "polyCoefs: [[0.33333333 0.         0.        ]\n",
      " [0.         0.5        0.        ]\n",
      " [0.         0.         1.        ]]\n",
      "xValsL: [-0.25  0.5  -1.  ]\n",
      "xValsR: [0. 0. 0.]\n",
      "xVec: [ 0.08333333 -0.25        1.        ]\n",
      "bounds: [-1.   0.   0.5  1. ]\n",
      "hInv: (3, 3)\n",
      "A: (3, 3)\n",
      "B: (3, 3)\n",
      "polyCoefs: (3, 3)\n",
      "polyCoefs: [[0.33333333 0.         0.        ]\n",
      " [0.         0.5        0.        ]\n",
      " [0.         0.         1.        ]]\n",
      "xValsL: [0. 0. 0.]\n",
      "xValsR: [0.25 0.5  1.  ]\n",
      "xVec: [0.08333333 0.25       1.        ]\n",
      "bounds: [-1.  -0.5 -0.   1. ]\n",
      "hInv: (3, 3)\n",
      "A: (3, 3)\n",
      "B: (3, 3)\n",
      "polyCoefs: (3, 3)\n"
     ]
    }
   ],
   "source": [
    "omega = BT.Grid(nh)\n",
    "finehalf = list(np.arange(int(nh / refRatio)))# + int(nh / refRatio))\n",
    "omega.AddPatch(refRatio, finehalf)\n",
    "degFreed = omega.degFreed\n",
    "nh_min = omega.nh_min\n",
    "nh_max = omega.nh_max\n",
    "t, nt = ST.CalcTime(omega, CFL, c, nt = nt)\n",
    "derivMat = OT.SpaceDeriv(omega, order, deriv)\n",
    "spatOp = -c * derivMat\n",
    "strings = omega.strings\n",
    "timePropOp = LA2.expm(t * spatOp)\n",
    "omegaF = BT.Grid(nh_max)\n",
    "wavesF = WT.MakeWaves(omegaF)"
   ]
  },
  {
   "cell_type": "code",
   "execution_count": 5,
   "metadata": {},
   "outputs": [
    {
     "name": "stdout",
     "output_type": "stream",
     "text": [
      "polyCoefs: [[0.33333333 0.         0.        ]\n",
      " [0.         0.5        0.        ]\n",
      " [0.         0.         1.        ]]\n",
      "xValsL: [-0.25  0.5  -1.  ]\n",
      "xValsR: [0. 0. 0.]\n",
      "xVec: [ 0.08333333 -0.25        1.        ]\n",
      "bounds: [-1.   0.   0.5  1. ]\n",
      "hInv: (3, 3)\n",
      "A: (3, 3)\n",
      "B: (3, 3)\n",
      "polyCoefs: (3, 3)\n",
      "(array([ 0.5 ,  0.75, -0.25]), 1, 2)\n",
      "<class 'tuple'>\n"
     ]
    }
   ],
   "source": [
    "polyInterp = GTT.GhostCellStencil(2, -0.5)\n",
    "print(polyInterp)\n",
    "print(type(polyInterp))"
   ]
  },
  {
   "cell_type": "markdown",
   "metadata": {},
   "source": [
    "This cell runs a test on a fifth-order cell-averaged polynomial interpolation for a ghost cell at the edge of the coarse-fine interface. If it doesn't reach the appropriate order of accuracy, there is an `assert` which force quits."
   ]
  },
  {
   "cell_type": "code",
   "execution_count": 6,
   "metadata": {
    "scrolled": true
   },
   "outputs": [
    {
     "name": "stdout",
     "output_type": "stream",
     "text": [
      "bounds: [-1.5 -1.  -0.5 -0.   1.   2.   3. ]\n",
      "polyCoefs: [[0.16666667 0.         0.         0.         0.         0.        ]\n",
      " [0.         0.2        0.         0.         0.         0.        ]\n",
      " [0.         0.         0.25       0.         0.         0.        ]\n",
      " [0.         0.         0.         0.33333333 0.         0.        ]\n",
      " [0.         0.         0.         0.         0.5        0.        ]\n",
      " [0.         0.         0.         0.         0.         1.        ]]\n",
      "xValsL: [0.03125 0.0625  0.125   0.25    0.5     1.     ]\n",
      "xValsR: [2. 2. 2. 2. 2. 2.]\n",
      "xVec: [0.328125   0.3875     0.46875    0.58333333 0.75       1.        ]\n",
      "bounds: [-1.5 -1.  -0.5 -0.   1.   2.   3. ]\n",
      "hInv: (6, 6)\n",
      "A: (6, 6)\n",
      "B: (6, 6)\n",
      "polyCoefs: (6, 6)\n",
      "p(x) =\n",
      "  \n",
      "2\n",
      "P(x) =\n",
      "  \n",
      "2 x\n",
      "Order 0:\n",
      "4.0 1.9999999999999996\n",
      "Error = -0.5000000000000001\n",
      "\n",
      "p(x) =\n",
      "  \n",
      "2 x\n",
      "P(x) =\n",
      "    2\n",
      "1 x\n",
      "Order 1:\n",
      "2.0 1.5000000000000002\n",
      "Error = -0.2499999999999999\n",
      "\n",
      "p(x) =\n",
      "    2\n",
      "2 x\n",
      "P(x) =\n",
      "         3\n",
      "0.6667 x\n",
      "Order 2:\n",
      "1.3333333333333333 1.1666666666666665\n",
      "Error = -0.12500000000000006\n",
      "\n",
      "p(x) =\n",
      "    3\n",
      "2 x\n",
      "P(x) =\n",
      "      4\n",
      "0.5 x\n",
      "Order 3:\n",
      "1.0 0.9375000000000001\n",
      "Error = -0.06249999999999989\n",
      "\n",
      "p(x) =\n",
      "    4\n",
      "2 x\n",
      "P(x) =\n",
      "      5\n",
      "0.4 x\n",
      "Order 4:\n",
      "0.8 0.7749999999999997\n",
      "Error = -0.031250000000000444\n",
      "\n",
      "p(x) =\n",
      "    5\n",
      "2 x\n",
      "P(x) =\n",
      "         6\n",
      "0.3333 x\n",
      "Order 5:\n",
      "0.6666666666666666 0.6562500000000001\n",
      "Error = -0.015624999999999778\n",
      "\n",
      "p(x) =\n",
      "    6\n",
      "2 x\n",
      "P(x) =\n",
      "         7\n",
      "0.2857 x\n",
      "Order 6:\n",
      "0.5714285714285714 -1.0401785714285714\n",
      "Error = -2.8203125\n",
      "\n"
     ]
    }
   ],
   "source": [
    "TT.TestPoly(5, 1)"
   ]
  },
  {
   "cell_type": "code",
   "execution_count": 7,
   "metadata": {},
   "outputs": [
    {
     "name": "stdout",
     "output_type": "stream",
     "text": [
      "0.5\n",
      "[0.125 0.25  0.5   1.   ]\n",
      "\n",
      "1.0\n",
      "[1. 1. 1. 1.]\n",
      "\n",
      "1.5\n",
      "[3.375 2.25  1.5   1.   ]\n",
      "\n",
      "2.0\n",
      "[8. 4. 2. 1.]\n",
      "\n",
      "2.5\n",
      "[15.625  6.25   2.5    1.   ]\n",
      "\n",
      "3.0\n",
      "[27.  9.  3.  1.]\n",
      "\n",
      "3.5\n",
      "[42.875 12.25   3.5    1.   ]\n",
      "\n",
      "4.0\n",
      "[64. 16.  4.  1.]\n",
      "\n",
      "4.5\n",
      "[91.125 20.25   4.5    1.   ]\n",
      "\n",
      "5.0\n",
      "[125.  25.   5.   1.]\n",
      "\n"
     ]
    }
   ],
   "source": [
    "order = 3\n",
    "for i in range(10):\n",
    "    x_0 = 0.5 * (i + 1)\n",
    "    print(x_0)\n",
    "    print(np.polynomial.polynomial.polyvander(x_0, order)[0][::-1])\n",
    "    print('')"
   ]
  },
  {
   "cell_type": "code",
   "execution_count": null,
   "metadata": {},
   "outputs": [],
   "source": []
  },
  {
   "cell_type": "code",
   "execution_count": null,
   "metadata": {},
   "outputs": [],
   "source": []
  }
 ],
 "metadata": {
  "kernelspec": {
   "display_name": "Python 3",
   "language": "python",
   "name": "python3"
  },
  "language_info": {
   "codemirror_mode": {
    "name": "ipython",
    "version": 3
   },
   "file_extension": ".py",
   "mimetype": "text/x-python",
   "name": "python",
   "nbconvert_exporter": "python",
   "pygments_lexer": "ipython3",
   "version": "3.7.3"
  }
 },
 "nbformat": 4,
 "nbformat_minor": 2
}
