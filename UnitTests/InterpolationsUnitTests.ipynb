{
 "cells": [
  {
   "cell_type": "markdown",
   "metadata": {},
   "source": [
    "Here, you develop the "
   ]
  },
  {
   "cell_type": "code",
   "execution_count": 1,
   "metadata": {},
   "outputs": [
    {
     "data": {
      "text/html": [
       "<style>pre { white-space: pre !important; }</style>"
      ],
      "text/plain": [
       "<IPython.core.display.HTML object>"
      ]
     },
     "metadata": {},
     "output_type": "display_data"
    },
    {
     "data": {
      "text/html": [
       "<style>pre { white-space: pre !important; }</style>"
      ],
      "text/plain": [
       "<IPython.core.display.HTML object>"
      ]
     },
     "metadata": {},
     "output_type": "display_data"
    }
   ],
   "source": [
    "import os.path\n",
    "from scipy import *\n",
    "import numpy as np\n",
    "from numpy import *\n",
    "from numpy import linalg as LA\n",
    "from scipy import linalg as LA2\n",
    "import sympy as sympy\n",
    "import sys as sys\n",
    "import time\n",
    "import matplotlib.pyplot as plt\n",
    "import itertools as it\n",
    "from IPython.core.display import HTML\n",
    "\n",
    "sys.path.append('/Users/sashacurcic/SashasDirectory/ANAG/FV_MG/')\n",
    "from Modules import BasicTools as BT\n",
    "from Modules import WaveTools as WT\n",
    "from Modules import PlotTools as PT\n",
    "from Modules import FFTTools as FFTT\n",
    "from Modules import OperatorTools as OT\n",
    "from Modules import GridTransferTools as GTT\n",
    "from Modules import TestTools as TT\n",
    "from Modules import SolverTools as ST\n",
    "\n",
    "display(HTML(\"<style>pre { white-space: pre !important; }</style>\"))\n",
    "np.set_printoptions( linewidth = 10000, threshold = 100000)"
   ]
  },
  {
   "cell_type": "markdown",
   "metadata": {},
   "source": [
    "This cell takes all of the input parameters."
   ]
  },
  {
   "cell_type": "code",
   "execution_count": 2,
   "metadata": {},
   "outputs": [],
   "source": [
    "nh = 16\n",
    "refRatio = 2\n",
    "c = 1.\n",
    "CFL = 0.5\n",
    "nt = 32\n",
    "RK = 4\n",
    "deriv = 'CD'\n",
    "order = 2"
   ]
  },
  {
   "cell_type": "markdown",
   "metadata": {},
   "source": [
    "This cell contains the relevant switch information."
   ]
  },
  {
   "cell_type": "code",
   "execution_count": 3,
   "metadata": {},
   "outputs": [],
   "source": [
    "if (RK == 1):\n",
    "    TimeIntegratorFunc = ST.ForwardEuler\n",
    "else:\n",
    "    if (RK == 2):\n",
    "        TimeIntegratorFunc = ST.MidpointMeth\n",
    "    else:\n",
    "        TimeIntegratorFunc = ST.RK4\n",
    "\n",
    "if (deriv == 'U'):\n",
    "    DiffFunc = ST.Upwind\n",
    "else:\n",
    "    DiffFunc = TT.CenterDiff#ST.CenterDiff"
   ]
  },
  {
   "cell_type": "markdown",
   "metadata": {},
   "source": [
    "This cell instantiates the grid, derivative operators, and Fourier modes."
   ]
  },
  {
   "cell_type": "code",
   "execution_count": 4,
   "metadata": {},
   "outputs": [
    {
     "name": "stdout",
     "output_type": "stream",
     "text": [
      "YOU'RE USING THE UPDATE.\n",
      "bounds: [-1.   0.   0.5  1. ]\n",
      "\n",
      "YOU'RE USING THE UPDATE.\n",
      "bounds: [-1.  -0.5 -0.   1. ]\n",
      "\n"
     ]
    }
   ],
   "source": [
    "omega = BT.Grid(nh)\n",
    "finehalf = list(np.arange(int(nh / refRatio)))# + int(nh / refRatio))\n",
    "omega.AddPatch(refRatio, finehalf)\n",
    "degFreed = omega.degFreed\n",
    "nh_min = omega.nh_min\n",
    "nh_max = omega.nh_max\n",
    "t, nt = ST.CalcTime(omega, CFL, c, nt = nt)\n",
    "derivMat = OT.SpaceDeriv(omega, order, deriv)\n",
    "spatOp = -c * derivMat\n",
    "strings = omega.strings\n",
    "timePropOp = LA2.expm(t * spatOp)\n",
    "omegaF = BT.Grid(nh_max)\n",
    "wavesF = WT.MakeWaves(omegaF)"
   ]
  },
  {
   "cell_type": "code",
   "execution_count": 5,
   "metadata": {},
   "outputs": [
    {
     "name": "stdout",
     "output_type": "stream",
     "text": [
      "YOU'RE USING THE UPDATE.\n",
      "bounds: [-1.   0.   0.5  1. ]\n",
      "\n",
      "(array([-0.5 ,  0.75, -0.25]), 1, 2)\n",
      "<class 'tuple'>\n"
     ]
    }
   ],
   "source": [
    "polyInterp = GTT.GhostCellStencil(2, -0.5)\n",
    "print(polyInterp)\n",
    "print(type(polyInterp))"
   ]
  },
  {
   "cell_type": "markdown",
   "metadata": {},
   "source": [
    "This cell runs a test on a fifth-order cell-averaged polynomial interpolation for a ghost cell at the edge of the coarse-fine interface. If it doesn't reach the appropriate order of accuracy, there is an `assert` which force quits."
   ]
  },
  {
   "cell_type": "code",
   "execution_count": 6,
   "metadata": {
    "scrolled": true
   },
   "outputs": [
    {
     "name": "stdout",
     "output_type": "stream",
     "text": [
      "YOU'RE USING THE UPDATE.\n",
      "bounds: [-2.  -1.   0.   0.5  1.   1.5  2. ]\n",
      "YOU'RE USING THE UPDATE.\n",
      "bounds: [-2.  -1.   0.   0.5  1.   1.5  2. ]\n",
      "\n",
      "p(x) =\n",
      "  \n",
      "2\n",
      "P(x) =\n",
      "  \n",
      "2 x\n",
      "Order 0:\n"
     ]
    },
    {
     "ename": "ValueError",
     "evalue": "matmul: Input operand 1 has a mismatch in its core dimension 0, with gufunc signature (n?,k),(k,m?)->(n?,m?) (size 3 is different from 6)",
     "output_type": "error",
     "traceback": [
      "\u001b[0;31m---------------------------------------------------------------------------\u001b[0m",
      "\u001b[0;31mValueError\u001b[0m                                Traceback (most recent call last)",
      "\u001b[0;32m<ipython-input-6-50f14c8ed2b4>\u001b[0m in \u001b[0;36m<module>\u001b[0;34m\u001b[0m\n\u001b[0;32m----> 1\u001b[0;31m \u001b[0mTT\u001b[0m\u001b[0;34m.\u001b[0m\u001b[0mTestPoly\u001b[0m\u001b[0;34m(\u001b[0m\u001b[0;36m5\u001b[0m\u001b[0;34m,\u001b[0m \u001b[0;34m-\u001b[0m\u001b[0;36m0.5\u001b[0m\u001b[0;34m)\u001b[0m\u001b[0;34m\u001b[0m\u001b[0;34m\u001b[0m\u001b[0m\n\u001b[0m",
      "\u001b[0;32m~/SashasDirectory/ANAG/FV_MG/Modules/TestTools.py\u001b[0m in \u001b[0;36mTestPoly\u001b[0;34m(order, x_0, const, tol)\u001b[0m\n\u001b[1;32m    147\u001b[0m \u001b[0;34m\u001b[0m\u001b[0m\n\u001b[1;32m    148\u001b[0m         \u001b[0mtheor\u001b[0m \u001b[0;34m=\u001b[0m \u001b[0mP\u001b[0m\u001b[0;34m(\u001b[0m\u001b[0mx_0\u001b[0m\u001b[0;34m)\u001b[0m \u001b[0;34m/\u001b[0m \u001b[0mx_0\u001b[0m\u001b[0;34m\u001b[0m\u001b[0;34m\u001b[0m\u001b[0m\n\u001b[0;32m--> 149\u001b[0;31m         \u001b[0mact\u001b[0m \u001b[0;34m=\u001b[0m \u001b[0mv\u001b[0m\u001b[0;34m.\u001b[0m\u001b[0mtranspose\u001b[0m\u001b[0;34m(\u001b[0m\u001b[0;34m)\u001b[0m \u001b[0;34m@\u001b[0m \u001b[0mpolyInterp\u001b[0m\u001b[0;34m\u001b[0m\u001b[0;34m\u001b[0m\u001b[0m\n\u001b[0m\u001b[1;32m    150\u001b[0m         \u001b[0merror\u001b[0m \u001b[0;34m=\u001b[0m \u001b[0;34m(\u001b[0m\u001b[0mact\u001b[0m \u001b[0;34m-\u001b[0m \u001b[0mtheor\u001b[0m\u001b[0;34m)\u001b[0m \u001b[0;34m/\u001b[0m \u001b[0mtheor\u001b[0m\u001b[0;34m\u001b[0m\u001b[0;34m\u001b[0m\u001b[0m\n\u001b[1;32m    151\u001b[0m         \u001b[0mprint\u001b[0m\u001b[0;34m(\u001b[0m\u001b[0mtheor\u001b[0m\u001b[0;34m,\u001b[0m \u001b[0mact\u001b[0m\u001b[0;34m)\u001b[0m\u001b[0;34m\u001b[0m\u001b[0;34m\u001b[0m\u001b[0m\n",
      "\u001b[0;31mValueError\u001b[0m: matmul: Input operand 1 has a mismatch in its core dimension 0, with gufunc signature (n?,k),(k,m?)->(n?,m?) (size 3 is different from 6)"
     ]
    }
   ],
   "source": [
    "TT.TestPoly(5, -0.5)"
   ]
  },
  {
   "cell_type": "code",
   "execution_count": 13,
   "metadata": {},
   "outputs": [
    {
     "name": "stdout",
     "output_type": "stream",
     "text": [
      "0.5\n",
      "[0.125 0.25  0.5   1.   ]\n",
      "\n",
      "1.0\n",
      "[2. 2. 2. 2.]\n",
      "\n",
      "1.5\n",
      "[10.125  6.75   4.5    3.   ]\n",
      "\n",
      "2.0\n",
      "[32. 16.  8.  4.]\n",
      "\n",
      "2.5\n",
      "[78.125 31.25  12.5    5.   ]\n",
      "\n",
      "3.0\n",
      "[162.  54.  18.   6.]\n",
      "\n",
      "3.5\n",
      "[300.125  85.75   24.5     7.   ]\n",
      "\n",
      "4.0\n",
      "[512. 128.  32.   8.]\n",
      "\n",
      "4.5\n",
      "[820.125 182.25   40.5     9.   ]\n",
      "\n",
      "5.0\n",
      "[1250.  250.   50.   10.]\n",
      "\n"
     ]
    }
   ],
   "source": [
    "order = 3\n",
    "for i in range(10):\n",
    "    x_0 = 0.5 * (i + 1)\n",
    "    print(x_0)\n",
    "    print(np.polynomial.polynomial.polyvander(x_0, order)[0][::-1])\n",
    "    print('')"
   ]
  },
  {
   "cell_type": "code",
   "execution_count": null,
   "metadata": {},
   "outputs": [],
   "source": []
  },
  {
   "cell_type": "code",
   "execution_count": null,
   "metadata": {},
   "outputs": [],
   "source": []
  }
 ],
 "metadata": {
  "kernelspec": {
   "display_name": "Python 3",
   "language": "python",
   "name": "python3"
  },
  "language_info": {
   "codemirror_mode": {
    "name": "ipython",
    "version": 3
   },
   "file_extension": ".py",
   "mimetype": "text/x-python",
   "name": "python",
   "nbconvert_exporter": "python",
   "pygments_lexer": "ipython3",
   "version": "3.7.3"
  }
 },
 "nbformat": 4,
 "nbformat_minor": 2
}
