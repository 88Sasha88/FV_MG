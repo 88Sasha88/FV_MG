{
 "cells": [
  {
   "cell_type": "markdown",
   "metadata": {},
   "source": [
    "Here, you develop the "
   ]
  },
  {
   "cell_type": "code",
   "execution_count": 1,
   "metadata": {},
   "outputs": [
    {
     "data": {
      "text/html": [
       "<style>pre { white-space: pre !important; }</style>"
      ],
      "text/plain": [
       "<IPython.core.display.HTML object>"
      ]
     },
     "metadata": {},
     "output_type": "display_data"
    },
    {
     "data": {
      "text/html": [
       "<style>pre { white-space: pre !important; }</style>"
      ],
      "text/plain": [
       "<IPython.core.display.HTML object>"
      ]
     },
     "metadata": {},
     "output_type": "display_data"
    }
   ],
   "source": [
    "import os.path\n",
    "from scipy import *\n",
    "import numpy as np\n",
    "from numpy import *\n",
    "from numpy import linalg as LA\n",
    "from scipy import linalg as LA2\n",
    "import sympy as sympy\n",
    "import sys as sys\n",
    "import time\n",
    "import matplotlib.pyplot as plt\n",
    "import itertools as it\n",
    "from IPython.core.display import HTML\n",
    "\n",
    "sys.path.append('/Users/sashacurcic/SashasDirectory/ANAG/FV_MG/')\n",
    "from Modules import BasicTools as BT\n",
    "from Modules import WaveTools as WT\n",
    "from Modules import PlotTools as PT\n",
    "from Modules import FFTTools as FFTT\n",
    "from Modules import OperatorTools as OT\n",
    "from Modules import GridTransferTools as GTT\n",
    "from Modules import TestTools as TT\n",
    "from Modules import SolverTools as ST\n",
    "\n",
    "display(HTML(\"<style>pre { white-space: pre !important; }</style>\"))\n",
    "np.set_printoptions( linewidth = 10000, threshold = 100000)"
   ]
  },
  {
   "cell_type": "markdown",
   "metadata": {},
   "source": [
    "This cell takes all of the input parameters."
   ]
  },
  {
   "cell_type": "code",
   "execution_count": 15,
   "metadata": {},
   "outputs": [],
   "source": [
    "nh = 8\n",
    "refRatio = 2\n",
    "c = 1.\n",
    "CFL = 0.5\n",
    "nt = 32\n",
    "RK = 4\n",
    "deriv = 'U'\n",
    "order = 2"
   ]
  },
  {
   "cell_type": "markdown",
   "metadata": {},
   "source": [
    "This cell contains the relevant switch information."
   ]
  },
  {
   "cell_type": "code",
   "execution_count": 16,
   "metadata": {},
   "outputs": [],
   "source": [
    "if (RK == 1):\n",
    "    TimeIntegratorFunc = ST.ForwardEuler\n",
    "else:\n",
    "    if (RK == 2):\n",
    "        TimeIntegratorFunc = ST.MidpointMeth\n",
    "    else:\n",
    "        TimeIntegratorFunc = ST.RK4\n",
    "\n",
    "if (deriv == 'U'):\n",
    "    DiffFunc = ST.Upwind\n",
    "else:\n",
    "    DiffFunc = TT.CenterDiff#ST.CenterDiff"
   ]
  },
  {
   "cell_type": "markdown",
   "metadata": {},
   "source": [
    "This cell instantiates the grid, derivative operators, and Fourier modes."
   ]
  },
  {
   "cell_type": "code",
   "execution_count": 4,
   "metadata": {},
   "outputs": [],
   "source": [
    "omega = BT.Grid(nh)\n",
    "finehalf = list(np.arange(int(nh / refRatio)))# + int(nh / refRatio))\n",
    "omega.AddPatch(refRatio, finehalf)\n",
    "degFreed = omega.degFreed\n",
    "nh_min = omega.nh_min\n",
    "nh_max = omega.nh_max\n",
    "t, nt = ST.CalcTime(omega, CFL, c, nt = nt)\n",
    "derivMat = OT.SpaceDeriv(omega, order, 'deriv')\n",
    "spatOp = -c * derivMat\n",
    "strings = omega.strings\n",
    "timePropOp = LA2.expm(t * spatOp)\n",
    "omegaF = BT.Grid(nh_max)\n",
    "wavesF = WT.MakeWaves(omegaF)"
   ]
  },
  {
   "cell_type": "code",
   "execution_count": 5,
   "metadata": {},
   "outputs": [
    {
     "name": "stdout",
     "output_type": "stream",
     "text": [
      "[ 0.5   0.75 -0.25]\n",
      "<class 'numpy.ndarray'>\n"
     ]
    }
   ],
   "source": [
    "polyInterp = GTT.GhostCellStencil(2, -0.5)\n",
    "print(polyInterp)\n",
    "print(type(polyInterp))"
   ]
  },
  {
   "cell_type": "markdown",
   "metadata": {},
   "source": [
    "This cell runs a test on a fifth-order cell-averaged polynomial interpolation for a ghost cell at the edge of the coarse-fine interface. If it doesn't reach the appropriate order of accuracy, there is an `assert` which force quits."
   ]
  },
  {
   "cell_type": "code",
   "execution_count": 14,
   "metadata": {},
   "outputs": [
    {
     "name": "stdout",
     "output_type": "stream",
     "text": [
      "Order 0:\n",
      "2.0 1.9999999999999996\n",
      "\n",
      "Order 1:\n",
      "-0.5 -0.5000000000000002\n",
      "\n",
      "Order 2:\n",
      "0.16666666666666666 0.1666666666666664\n",
      "\n",
      "Order 3:\n",
      "-0.0625 -0.06250000000000022\n",
      "\n",
      "Order 4:\n",
      "0.025 0.025000000000000577\n",
      "\n",
      "Order 5:\n",
      "-0.010416666666666666 -0.010416666666666297\n",
      "\n",
      "Order 6:\n",
      "0.004464285714285714 -1.6026785714285705\n",
      "\n"
     ]
    }
   ],
   "source": [
    "TT.TestPoly(5, -0.5)"
   ]
  },
  {
   "cell_type": "code",
   "execution_count": 10,
   "metadata": {
    "scrolled": false
   },
   "outputs": [
    {
     "name": "stdout",
     "output_type": "stream",
     "text": [
      "[[-10.66666667  32.           0.           0.           0.           0.           0.           0.           0.           0.           0.         -21.33333333]\n",
      " [-32.           0.          32.           0.           0.           0.           0.           0.           0.           0.           0.           0.        ]\n",
      " [  0.         -32.           0.          32.           0.           0.           0.           0.           0.           0.           0.           0.        ]\n",
      " [  0.           0.         -32.           0.          32.           0.           0.           0.           0.           0.           0.           0.        ]\n",
      " [  0.           0.           0.         -32.           0.          32.           0.           0.           0.           0.           0.           0.        ]\n",
      " [  0.           0.           0.           0.         -32.           0.          32.           0.           0.           0.           0.           0.        ]\n",
      " [  0.           0.           0.           0.           0.         -32.           0.          32.           0.           0.           0.           0.        ]\n",
      " [  0.           0.           0.           0.           0.           0.         -32.          10.66666667  21.33333333   0.           0.           0.        ]\n",
      " [  0.           0.           0.           0.           0.           0.          -8.          -8.           0.          16.           0.           0.        ]\n",
      " [  0.           0.           0.           0.           0.           0.           0.           0.         -16.           0.          16.           0.        ]\n",
      " [  0.           0.           0.           0.           0.           0.           0.           0.           0.         -16.           0.          16.        ]\n",
      " [  8.           8.           0.           0.           0.           0.           0.           0.           0.           0.         -16.           0.        ]]\n"
     ]
    }
   ],
   "source": [
    "derivMat = OT.SpaceDeriv(omega, order, 'C')\n",
    "print(derivMat)"
   ]
  },
  {
   "cell_type": "code",
   "execution_count": 11,
   "metadata": {},
   "outputs": [],
   "source": [
    "omega2 = BT.Grid(nh)\n",
    "finehalf2 = list(np.arange(int(nh / refRatio)) + int(nh / refRatio))\n",
    "omega2.AddPatch(refRatio, finehalf2)"
   ]
  },
  {
   "cell_type": "code",
   "execution_count": 12,
   "metadata": {},
   "outputs": [
    {
     "name": "stdout",
     "output_type": "stream",
     "text": [
      "[[  0.          16.           0.           0.           0.           0.           0.           0.           0.           0.          -8.          -8.        ]\n",
      " [-16.           0.          16.           0.           0.           0.           0.           0.           0.           0.           0.           0.        ]\n",
      " [  0.         -16.           0.          16.           0.           0.           0.           0.           0.           0.           0.           0.        ]\n",
      " [  0.           0.         -16.           0.           8.           8.           0.           0.           0.           0.           0.           0.        ]\n",
      " [  0.           0.           0.         -21.33333333 -10.66666667  32.           0.           0.           0.           0.           0.           0.        ]\n",
      " [  0.           0.           0.           0.         -32.           0.          32.           0.           0.           0.           0.           0.        ]\n",
      " [  0.           0.           0.           0.           0.         -32.           0.          32.           0.           0.           0.           0.        ]\n",
      " [  0.           0.           0.           0.           0.           0.         -32.           0.          32.           0.           0.           0.        ]\n",
      " [  0.           0.           0.           0.           0.           0.           0.         -32.           0.          32.           0.           0.        ]\n",
      " [  0.           0.           0.           0.           0.           0.           0.           0.         -32.           0.          32.           0.        ]\n",
      " [  0.           0.           0.           0.           0.           0.           0.           0.           0.         -32.           0.          32.        ]\n",
      " [ 21.33333333   0.           0.           0.           0.           0.           0.           0.           0.           0.         -32.          10.66666667]]\n"
     ]
    }
   ],
   "source": [
    "derivMat = OT.SpaceDeriv(omega2, order, 'C')\n",
    "print(derivMat)"
   ]
  },
  {
   "cell_type": "code",
   "execution_count": null,
   "metadata": {},
   "outputs": [],
   "source": []
  },
  {
   "cell_type": "code",
   "execution_count": null,
   "metadata": {},
   "outputs": [],
   "source": []
  }
 ],
 "metadata": {
  "kernelspec": {
   "display_name": "Python 3",
   "language": "python",
   "name": "python3"
  },
  "language_info": {
   "codemirror_mode": {
    "name": "ipython",
    "version": 3
   },
   "file_extension": ".py",
   "mimetype": "text/x-python",
   "name": "python",
   "nbconvert_exporter": "python",
   "pygments_lexer": "ipython3",
   "version": "3.7.3"
  }
 },
 "nbformat": 4,
 "nbformat_minor": 2
}
