{
 "cells": [
  {
   "cell_type": "code",
   "execution_count": 1,
   "metadata": {},
   "outputs": [
    {
     "data": {
      "text/html": [
       "<style>pre { white-space: pre !important; }</style>"
      ],
      "text/plain": [
       "<IPython.core.display.HTML object>"
      ]
     },
     "metadata": {},
     "output_type": "display_data"
    },
    {
     "data": {
      "text/html": [
       "<style>pre { white-space: pre !important; }</style>"
      ],
      "text/plain": [
       "<IPython.core.display.HTML object>"
      ]
     },
     "metadata": {},
     "output_type": "display_data"
    }
   ],
   "source": [
    "import os.path\n",
    "from scipy import *\n",
    "import numpy as np\n",
    "from numpy import *\n",
    "from numpy import linalg as LA\n",
    "from scipy import linalg as LA2\n",
    "import sympy as sympy\n",
    "import sys as sys\n",
    "import time\n",
    "import matplotlib.pyplot as plt\n",
    "import itertools as it\n",
    "from IPython.core.display import HTML\n",
    "\n",
    "sys.path.append('/Users/sashacurcic/SashasDirectory/ANAG/FV_MG/')\n",
    "from Modules import BasicTools as BT\n",
    "from Modules import WaveTools as WT\n",
    "from Modules import PlotTools as PT\n",
    "from Modules import FFTTools as FFTT\n",
    "from Modules import OperatorTools as OT\n",
    "from Modules import GridTransferTools as GTT\n",
    "from Modules import TestTools as TT\n",
    "from Modules import SolverTools as ST\n",
    "\n",
    "display(HTML(\"<style>pre { white-space: pre !important; }</style>\"))\n",
    "np.set_printoptions( linewidth = 10000, threshold = 100000)"
   ]
  },
  {
   "cell_type": "code",
   "execution_count": 2,
   "metadata": {},
   "outputs": [],
   "source": [
    "nh = 8\n",
    "refRatio = 2\n",
    "c = 1.\n",
    "CFL = 0.5\n",
    "nt = 32\n",
    "RK = 4\n",
    "deriv = 'U'\n",
    "order = 2"
   ]
  },
  {
   "cell_type": "code",
   "execution_count": 3,
   "metadata": {},
   "outputs": [],
   "source": [
    "if (RK == 1):\n",
    "    TimeIntegratorFunc = ST.ForwardEuler\n",
    "else:\n",
    "    if (RK == 2):\n",
    "        TimeIntegratorFunc = ST.MidpointMeth\n",
    "    else:\n",
    "        TimeIntegratorFunc = ST.RK4\n",
    "\n",
    "if (deriv == 'U'):\n",
    "    DiffFunc = ST.Upwind\n",
    "else:\n",
    "    DiffFunc = TT.CenterDiff#ST.CenterDiff"
   ]
  },
  {
   "cell_type": "code",
   "execution_count": 4,
   "metadata": {},
   "outputs": [
    {
     "name": "stdout",
     "output_type": "stream",
     "text": [
      "[[-0.75  1.25  0.    0.    0.    0.    0.    0.    0.    0.    0.   -0.5 ]\n",
      " [-1.    0.    1.    0.    0.    0.    0.    0.    0.    0.    0.    0.  ]\n",
      " [ 0.   -1.    0.    1.    0.    0.    0.    0.    0.    0.    0.    0.  ]\n",
      " [ 0.    0.   -1.    0.    1.    0.    0.    0.    0.    0.    0.    0.  ]\n",
      " [ 0.    0.   -0.5  -0.5   0.    1.    0.    0.    0.    0.    0.    0.  ]\n",
      " [ 0.    0.    0.    0.   -1.    0.    1.    0.    0.    0.    0.    0.  ]\n",
      " [ 0.    0.    0.    0.    0.   -1.    0.    1.    0.    0.    0.    0.  ]\n",
      " [ 0.    0.    0.    0.    0.    0.   -1.25  0.75  0.5   0.    0.    0.  ]\n",
      " [ 0.    0.    0.    0.    0.    0.    0.   -1.    0.    1.    0.    0.  ]\n",
      " [ 0.    0.    0.    0.    0.    0.    0.    0.   -1.    0.    1.    0.  ]\n",
      " [ 0.    0.    0.    0.    0.    0.    0.    0.    0.   -1.    0.    1.  ]\n",
      " [ 0.5   0.5   0.    0.    0.    0.    0.    0.    0.    0.   -1.    0.  ]]\n"
     ]
    }
   ],
   "source": [
    "omega = BT.Grid(nh)\n",
    "finehalf = list(np.arange(int(nh / refRatio)))# + int(nh / refRatio))\n",
    "omega.AddPatch(refRatio, finehalf)\n",
    "degFreed = omega.degFreed\n",
    "nh_min = omega.nh_min\n",
    "nh_max = omega.nh_max\n",
    "t, nt = ST.CalcTime(omega, CFL, c, nt = nt)\n",
    "derivMat = OT.SpaceDeriv(omega, order, 'deriv')\n",
    "spatOp = -c * derivMat\n",
    "strings = omega.strings\n",
    "timePropOp = LA2.expm(t * spatOp)\n",
    "omegaF = BT.Grid(nh_max)\n",
    "wavesF = WT.MakeWaves(omegaF)"
   ]
  },
  {
   "cell_type": "code",
   "execution_count": 5,
   "metadata": {},
   "outputs": [
    {
     "name": "stdout",
     "output_type": "stream",
     "text": [
      "[ 0.5   0.75 -0.25]\n",
      "<class 'numpy.ndarray'>\n"
     ]
    }
   ],
   "source": [
    "polyInterp = GTT.GhostCellStencil(2, -0.5)\n",
    "print(polyInterp)\n",
    "print(type(polyInterp))"
   ]
  },
  {
   "cell_type": "code",
   "execution_count": 6,
   "metadata": {},
   "outputs": [],
   "source": [
    "def TestPoly(order, x_0, const = 2, tol = 1e-15):\n",
    "    \n",
    "    # Create vector of cell bounds.\n",
    "    bounds = GTT.BoundVals(order, x_0)\n",
    "    \n",
    "    # Find intervals of cell bounds.\n",
    "    h = bounds[:-1] - bounds[1:]\n",
    "    \n",
    "    # Create stencil.\n",
    "    polyInterp = GTT.GhostCellStencil(order, x_0)\n",
    "    \n",
    "    # Iterate through monomials up to appropriate order of accuracy to test stencil.\n",
    "    for k in range(order + 2):\n",
    "        coefs = np.zeros(k + 1, float)\n",
    "        coefs[0] = const\n",
    "        p = np.poly1d(coefs)\n",
    "        P = np.polyint(p)\n",
    "        v = (P(bounds[:-1]) - P(bounds[1:])) / h\n",
    "        print('Order ' + str(k) + ':')\n",
    "\n",
    "        theor = P(x_0) / x_0\n",
    "        act = v.transpose() @ polyInterp\n",
    "        print(theor, act)\n",
    "        print('')\n",
    "        if (k < order + 1):\n",
    "            assert(np.isclose(act, theor, rtol = 0, atol = tol))\n",
    "    return"
   ]
  },
  {
   "cell_type": "code",
   "execution_count": 7,
   "metadata": {},
   "outputs": [
    {
     "name": "stdout",
     "output_type": "stream",
     "text": [
      "Order 0:\n",
      "2.0 1.9999999999999996\n",
      "\n",
      "Order 1:\n",
      "0.5 0.5000000000000002\n",
      "\n",
      "Order 2:\n",
      "0.16666666666666666 0.16666666666666663\n",
      "\n",
      "Order 3:\n",
      "0.0625 0.06250000000000022\n",
      "\n",
      "Order 4:\n",
      "0.025 0.0250000000000008\n",
      "\n",
      "Order 5:\n",
      "0.010416666666666666 0.010416666666665853\n",
      "\n",
      "Order 6:\n",
      "0.004464285714285714 -1.6026785714285705\n",
      "\n"
     ]
    }
   ],
   "source": [
    "blah = TestPoly(5, 0.5)"
   ]
  },
  {
   "cell_type": "code",
   "execution_count": 8,
   "metadata": {},
   "outputs": [
    {
     "name": "stdout",
     "output_type": "stream",
     "text": [
      "[2. 2. 2.]\n",
      "2.0\n",
      "[-1.   0.5  1.5]\n",
      "-0.49999999999999983\n"
     ]
    }
   ],
   "source": [
    "# Test the stencil works for constant.\n",
    "c = 2\n",
    "v = c * np.ones(3, float)\n",
    "print(v)\n",
    "out = v.transpose() @ polyInterp\n",
    "print(out)\n",
    "tol = 1e-13\n",
    "\n",
    "assert(np.isclose(c, out, tol))\n",
    "\n",
    "# Test the stencil works for linear. s is slope.\n",
    "s = 2\n",
    "# v is cell centers inputted into linear polynomial.\n",
    "v = s * np.asarray([-0.5, 0.25, 0.75])\n",
    "shouldbe = -0.25 * s # -0.25 is the cell center location.\n",
    "print(v)\n",
    "out = v.transpose() @ polyInterp\n",
    "print(out)\n",
    "assert(np.isclose(out, shouldbe, rtol = 0, atol = tol))"
   ]
  },
  {
   "cell_type": "code",
   "execution_count": 9,
   "metadata": {},
   "outputs": [
    {
     "name": "stdout",
     "output_type": "stream",
     "text": [
      "[[ 1.         -0.5         0.33333333]\n",
      " [ 1.          0.25        0.08333333]\n",
      " [ 1.          0.75        0.58333333]]\n",
      "\n",
      "[[ 0.16666667  1.08333333 -0.25      ]\n",
      " [-1.          0.5         0.5       ]\n",
      " [ 1.         -2.5         1.5       ]]\n"
     ]
    }
   ],
   "source": [
    "A = np.asarray([[1, -0.5, 1. / 3.], [1, 1. / 4., 1. / 12.], [1, 3. / 4., 7. / 12.]])\n",
    "print(A)\n",
    "print('')\n",
    "Ainv = LA.inv(A)\n",
    "print(Ainv)"
   ]
  },
  {
   "cell_type": "code",
   "execution_count": 57,
   "metadata": {},
   "outputs": [],
   "source": [
    "def SpaceDeriv(omega, order, diff):\n",
    "    \n",
    "    # Extract info from omega.\n",
    "    hs = omega.h\n",
    "    degFreed = omega.degFreed\n",
    "    \n",
    "    # Create empty matrizes to fill later.\n",
    "    blockMat = np.zeros((degFreed, degFreed), float)\n",
    "    zeroMat = np.zeros(degFreed, float)\n",
    "    \n",
    "    # Interpolate ghost cells.\n",
    "    ghostStencL = GTT.GhostCellStencil(order, -0.5)\n",
    "    ghostStencR = GTT.GhostCellStencil(order, 0.5)\n",
    "    \n",
    "    # Create common constituents of row pieces.\n",
    "    rightCell = zeroMat + 0\n",
    "    leftCell = zeroMat + 0\n",
    "    leftCell[-1] = 1\n",
    "    ghostL = zeroMat + 0\n",
    "    ghostR = zeroMat + 0\n",
    "    ghostL[:order+1] = ghostStencL\n",
    "    ghostR[:order+1] = ghostStencR\n",
    "    nrollL = int(np.ceil((order + 1) / 3.))\n",
    "    nrollR = int(order - nrollL)\n",
    "    ghostL = np.roll(ghostL, -nrollL)\n",
    "    ghostR = np.roll(ghostR, -nrollR)\n",
    "    \n",
    "    # Define distinct row pieces between upwind and center difference.\n",
    "    if (diff == 'U'):\n",
    "        rightCell[0] = 1\n",
    "        \n",
    "        cf1v2 = rightCell + 0\n",
    "        cf1v1 = leftCell + 0\n",
    "        \n",
    "        fc1v2 = rightCell + 0\n",
    "        fc1v1 = leftCell + 0\n",
    "        \n",
    "        hMat = OT.StepMatrix(omega)\n",
    "    else:\n",
    "        rightCell[1] = 1\n",
    "        \n",
    "        cf1v2 = zeroMat + 0\n",
    "        cf1v2[1] = 0.5\n",
    "        cf1v2[2] = 0.5\n",
    "        cf1v1 = leftCell + 0\n",
    "        \n",
    "        fc1v2 = ghostR\n",
    "        fc1v1 = leftCell + 0\n",
    "        \n",
    "        hMat = 0.5 * OT.StepMatrix(omega)\n",
    "    \n",
    "    # Define common row pieces between upwind and center difference.\n",
    "    cf2v2 = rightCell + 0\n",
    "    cf2v1 = ghostL\n",
    "    \n",
    "    fc2v2 = rightCell + 0\n",
    "    fc2v1 = zeroMat + 0\n",
    "    fc2v1[-1] = 0.5\n",
    "    fc2v1[-2] = 0.5\n",
    "    \n",
    "    # Define rows.\n",
    "    default = rightCell - leftCell\n",
    "    cf1 = cf1v2 - cf1v1\n",
    "    cf2 = cf2v2 - cf2v1\n",
    "    fc1 = fc1v2 - fc1v1\n",
    "    fc2 = fc2v2 - fc2v1\n",
    "    \n",
    "    # Create vector containing intergrid boundary locations.\n",
    "    spots = np.roll(hs, -1) - hs\n",
    "    print('spacing:')\n",
    "    print(hs)\n",
    "    print(spots)\n",
    "    print('')\n",
    "    \n",
    "    # Fill matrix.\n",
    "    for k in range(degFreed):\n",
    "        if (np.roll(spots, 1 - k)[0] > 0):\n",
    "            row = fc2\n",
    "            print('')\n",
    "            print(k)\n",
    "            print(row)\n",
    "            print(np.roll(spots, 1 - k))\n",
    "            print('')\n",
    "        else:\n",
    "            if (np.roll(spots, -k)[0] < 0): # This one's okay.\n",
    "                row = cf1\n",
    "                \n",
    "            else:\n",
    "                if (np.roll(spots, 1 - k)[0] < 0): # This one's okay.\n",
    "                    row = cf2 #fc1\n",
    "                    \n",
    "                else:\n",
    "                    if (spots[k] > 0): # This one's okay.\n",
    "                        row = fc1 #cf2\n",
    "                    else:\n",
    "                        row = default\n",
    "        blockMat[k, :] = np.roll(row, k)\n",
    "    print(blockMat)\n",
    "    blockMat = hMat @ blockMat\n",
    "    return blockMat\n"
   ]
  },
  {
   "cell_type": "code",
   "execution_count": 58,
   "metadata": {
    "scrolled": false
   },
   "outputs": [
    {
     "name": "stdout",
     "output_type": "stream",
     "text": [
      "spacing:\n",
      "[0.0625 0.0625 0.0625 0.0625 0.0625 0.0625 0.0625 0.0625 0.125  0.125  0.125  0.125 ]\n",
      "[ 0.      0.      0.      0.      0.      0.      0.      0.0625  0.      0.      0.     -0.0625]\n",
      "\n",
      "\n",
      "8\n",
      "[ 0.   1.   0.   0.   0.   0.   0.   0.   0.   0.  -0.5 -0.5]\n",
      "[ 0.0625  0.      0.      0.     -0.0625  0.      0.      0.      0.      0.      0.      0.    ]\n",
      "\n",
      "[[-0.33333333  1.          0.          0.          0.          0.          0.          0.          0.          0.          0.         -0.66666667]\n",
      " [-1.          0.          1.          0.          0.          0.          0.          0.          0.          0.          0.          0.        ]\n",
      " [ 0.         -1.          0.          1.          0.          0.          0.          0.          0.          0.          0.          0.        ]\n",
      " [ 0.          0.         -1.          0.          1.          0.          0.          0.          0.          0.          0.          0.        ]\n",
      " [ 0.          0.          0.         -1.          0.          1.          0.          0.          0.          0.          0.          0.        ]\n",
      " [ 0.          0.          0.          0.         -1.          0.          1.          0.          0.          0.          0.          0.        ]\n",
      " [ 0.          0.          0.          0.          0.         -1.          0.          1.          0.          0.          0.          0.        ]\n",
      " [ 0.          0.          0.          0.          0.          0.         -1.          0.33333333  0.66666667  0.          0.          0.        ]\n",
      " [ 0.          0.          0.          0.          0.          0.         -0.5        -0.5         0.          1.          0.          0.        ]\n",
      " [ 0.          0.          0.          0.          0.          0.          0.          0.         -1.          0.          1.          0.        ]\n",
      " [ 0.          0.          0.          0.          0.          0.          0.          0.          0.         -1.          0.          1.        ]\n",
      " [ 0.5         0.5         0.          0.          0.          0.          0.          0.          0.          0.         -1.          0.        ]]\n"
     ]
    }
   ],
   "source": [
    "derivMat = SpaceDeriv(omega, 1, 'C')"
   ]
  },
  {
   "cell_type": "code",
   "execution_count": 59,
   "metadata": {},
   "outputs": [],
   "source": [
    "omega2 = BT.Grid(nh)\n",
    "finehalf2 = list(np.arange(int(nh / refRatio)) + int(nh / refRatio))\n",
    "omega2.AddPatch(refRatio, finehalf2)"
   ]
  },
  {
   "cell_type": "code",
   "execution_count": 60,
   "metadata": {},
   "outputs": [
    {
     "name": "stdout",
     "output_type": "stream",
     "text": [
      "spacing:\n",
      "[0.125  0.125  0.125  0.125  0.0625 0.0625 0.0625 0.0625 0.0625 0.0625 0.0625 0.0625]\n",
      "[ 0.      0.      0.     -0.0625  0.      0.      0.      0.      0.      0.      0.      0.0625]\n",
      "\n",
      "\n",
      "0\n",
      "[ 0.   1.   0.   0.   0.   0.   0.   0.   0.   0.  -0.5 -0.5]\n",
      "[ 0.0625  0.      0.      0.     -0.0625  0.      0.      0.      0.      0.      0.      0.    ]\n",
      "\n",
      "[[ 0.          1.          0.          0.          0.          0.          0.          0.          0.          0.         -0.5        -0.5       ]\n",
      " [-1.          0.          1.          0.          0.          0.          0.          0.          0.          0.          0.          0.        ]\n",
      " [ 0.         -1.          0.          1.          0.          0.          0.          0.          0.          0.          0.          0.        ]\n",
      " [ 0.          0.         -1.          0.          0.5         0.5         0.          0.          0.          0.          0.          0.        ]\n",
      " [ 0.          0.          0.         -0.66666667 -0.33333333  1.          0.          0.          0.          0.          0.          0.        ]\n",
      " [ 0.          0.          0.          0.         -1.          0.          1.          0.          0.          0.          0.          0.        ]\n",
      " [ 0.          0.          0.          0.          0.         -1.          0.          1.          0.          0.          0.          0.        ]\n",
      " [ 0.          0.          0.          0.          0.          0.         -1.          0.          1.          0.          0.          0.        ]\n",
      " [ 0.          0.          0.          0.          0.          0.          0.         -1.          0.          1.          0.          0.        ]\n",
      " [ 0.          0.          0.          0.          0.          0.          0.          0.         -1.          0.          1.          0.        ]\n",
      " [ 0.          0.          0.          0.          0.          0.          0.          0.          0.         -1.          0.          1.        ]\n",
      " [ 0.66666667  0.          0.          0.          0.          0.          0.          0.          0.          0.         -1.          0.33333333]]\n"
     ]
    }
   ],
   "source": [
    "derivMat = SpaceDeriv(omega2, 1, 'C')"
   ]
  },
  {
   "cell_type": "code",
   "execution_count": 48,
   "metadata": {},
   "outputs": [
    {
     "name": "stdout",
     "output_type": "stream",
     "text": [
      "[0 1 2 3 4 5]\n",
      "[5 0 1 2 3 4]\n"
     ]
    }
   ],
   "source": [
    "A = np.arange(6)\n",
    "B = np.roll(A, 1)\n",
    "print(A)\n",
    "print(B)"
   ]
  },
  {
   "cell_type": "code",
   "execution_count": null,
   "metadata": {},
   "outputs": [],
   "source": []
  },
  {
   "cell_type": "code",
   "execution_count": null,
   "metadata": {},
   "outputs": [],
   "source": []
  }
 ],
 "metadata": {
  "kernelspec": {
   "display_name": "Python 3",
   "language": "python",
   "name": "python3"
  },
  "language_info": {
   "codemirror_mode": {
    "name": "ipython",
    "version": 3
   },
   "file_extension": ".py",
   "mimetype": "text/x-python",
   "name": "python",
   "nbconvert_exporter": "python",
   "pygments_lexer": "ipython3",
   "version": "3.7.3"
  }
 },
 "nbformat": 4,
 "nbformat_minor": 2
}
