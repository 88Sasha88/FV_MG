{
 "cells": [
  {
   "cell_type": "markdown",
   "metadata": {},
   "source": [
    "Here, you develop the "
   ]
  },
  {
   "cell_type": "code",
   "execution_count": 1,
   "metadata": {},
   "outputs": [
    {
     "data": {
      "text/html": [
       "<style>pre { white-space: pre !important; }</style>"
      ],
      "text/plain": [
       "<IPython.core.display.HTML object>"
      ]
     },
     "metadata": {},
     "output_type": "display_data"
    },
    {
     "data": {
      "text/html": [
       "<style>pre { white-space: pre !important; }</style>"
      ],
      "text/plain": [
       "<IPython.core.display.HTML object>"
      ]
     },
     "metadata": {},
     "output_type": "display_data"
    }
   ],
   "source": [
    "import os.path\n",
    "from scipy import *\n",
    "import numpy as np\n",
    "from numpy import *\n",
    "from numpy import linalg as LA\n",
    "from scipy import linalg as LA2\n",
    "import sympy as sympy\n",
    "import sys as sys\n",
    "import time\n",
    "import matplotlib.pyplot as plt\n",
    "import itertools as it\n",
    "from IPython.core.display import HTML\n",
    "\n",
    "sys.path.append('/Users/sashacurcic/SashasDirectory/ANAG/FV_MG/')\n",
    "from Modules import BasicTools as BT\n",
    "from Modules import WaveTools as WT\n",
    "from Modules import PlotTools as PT\n",
    "from Modules import FFTTools as FFTT\n",
    "from Modules import OperatorTools as OT\n",
    "from Modules import GridTransferTools as GTT\n",
    "from Modules import TestTools as TT\n",
    "from Modules import SolverTools as ST\n",
    "\n",
    "display(HTML(\"<style>pre { white-space: pre !important; }</style>\"))\n",
    "np.set_printoptions( linewidth = 10000, threshold = 100000)"
   ]
  },
  {
   "cell_type": "markdown",
   "metadata": {},
   "source": [
    "This cell takes all of the input parameters."
   ]
  },
  {
   "cell_type": "code",
   "execution_count": 2,
   "metadata": {},
   "outputs": [],
   "source": [
    "nh = 16\n",
    "refRatio = 2\n",
    "c = 1.\n",
    "CFL = 0.5\n",
    "nt = 32\n",
    "RK = 4\n",
    "deriv = 'CD'\n",
    "order = 2"
   ]
  },
  {
   "cell_type": "markdown",
   "metadata": {},
   "source": [
    "This cell contains the relevant switch information."
   ]
  },
  {
   "cell_type": "code",
   "execution_count": 3,
   "metadata": {},
   "outputs": [],
   "source": [
    "if (RK == 1):\n",
    "    TimeIntegratorFunc = ST.ForwardEuler\n",
    "else:\n",
    "    if (RK == 2):\n",
    "        TimeIntegratorFunc = ST.MidpointMeth\n",
    "    else:\n",
    "        TimeIntegratorFunc = ST.RK4\n",
    "\n",
    "if (deriv == 'U'):\n",
    "    DiffFunc = ST.Upwind\n",
    "else:\n",
    "    DiffFunc = TT.CenterDiff#ST.CenterDiff"
   ]
  },
  {
   "cell_type": "markdown",
   "metadata": {},
   "source": [
    "This cell instantiates the grid, derivative operators, and Fourier modes."
   ]
  },
  {
   "cell_type": "code",
   "execution_count": 4,
   "metadata": {},
   "outputs": [],
   "source": [
    "omega = BT.Grid(nh)\n",
    "finehalf = list(np.arange(int(nh / refRatio)))# + int(nh / refRatio))\n",
    "omega.AddPatch(refRatio, finehalf)\n",
    "degFreed = omega.degFreed\n",
    "nh_min = omega.nh_min\n",
    "nh_max = omega.nh_max\n",
    "t, nt = ST.CalcTime(omega, CFL, c, nt = nt)\n",
    "derivMat = OT.SpaceDeriv(omega, order, deriv)\n",
    "spatOp = -c * derivMat\n",
    "strings = omega.strings\n",
    "timePropOp = LA2.expm(t * spatOp)\n",
    "omegaF = BT.Grid(nh_max)\n",
    "wavesF = WT.MakeWaves(omegaF)"
   ]
  },
  {
   "cell_type": "code",
   "execution_count": 5,
   "metadata": {},
   "outputs": [
    {
     "name": "stdout",
     "output_type": "stream",
     "text": [
      "(array([ 0.5 ,  0.75, -0.25]), 1, 2)\n",
      "<class 'tuple'>\n"
     ]
    }
   ],
   "source": [
    "polyInterp = GTT.GhostCellStencil(2, -0.5)\n",
    "print(polyInterp)\n",
    "print(type(polyInterp))"
   ]
  },
  {
   "cell_type": "markdown",
   "metadata": {},
   "source": [
    "This cell runs a test on a fifth-order cell-averaged polynomial interpolation for a ghost cell at the edge of the coarse-fine interface. If it doesn't reach the appropriate order of accuracy, there is an `assert` which force quits."
   ]
  },
  {
   "cell_type": "code",
   "execution_count": 6,
   "metadata": {
    "scrolled": true
   },
   "outputs": [
    {
     "name": "stdout",
     "output_type": "stream",
     "text": [
      "Order 0:\n",
      "p(x) =\n",
      "  \n",
      "2\n",
      "P(x) =\n",
      "  \n",
      "2 x\n",
      "2.0 1.9999999999999973\n",
      "Error = -2.6645352591003757e-15\n",
      "\n",
      "Order 1:\n",
      "p(x) =\n",
      "  \n",
      "2 x\n",
      "P(x) =\n",
      "    2\n",
      "1 x\n",
      "3.5 3.5000000000000044\n",
      "Error = 4.440892098500626e-15\n",
      "\n",
      "Order 2:\n",
      "p(x) =\n",
      "    2\n",
      "2 x\n",
      "P(x) =\n",
      "         3\n",
      "0.6667 x\n",
      "6.166666666666666 6.166666666666671\n",
      "Error = 5.329070518200751e-15\n",
      "\n",
      "Order 3:\n",
      "p(x) =\n",
      "    3\n",
      "2 x\n",
      "P(x) =\n",
      "      4\n",
      "0.5 x\n",
      "10.9375 10.93750000000001\n",
      "Error = 1.0658141036401503e-14\n",
      "\n",
      "Order 4:\n",
      "p(x) =\n",
      "    4\n",
      "2 x\n",
      "P(x) =\n",
      "      5\n",
      "0.4 x\n",
      "19.525 19.525000000000027\n",
      "Error = 2.842170943040401e-14\n",
      "\n",
      "Order 5:\n",
      "p(x) =\n",
      "    5\n",
      "2 x\n",
      "P(x) =\n",
      "         6\n",
      "0.3333 x\n",
      "35.072916666666664 35.072916666666714\n",
      "Error = 4.973799150320701e-14\n",
      "\n",
      "Order 6:\n",
      "p(x) =\n",
      "    6\n",
      "2 x\n",
      "P(x) =\n",
      "         7\n",
      "0.2857 x\n",
      "63.379464285714285 59.36160714285724\n",
      "Error = -4.017857142857046\n",
      "\n"
     ]
    }
   ],
   "source": [
    "TT.TestPoly(5, 2)"
   ]
  },
  {
   "cell_type": "code",
   "execution_count": 7,
   "metadata": {},
   "outputs": [
    {
     "name": "stdout",
     "output_type": "stream",
     "text": [
      "0.5\n",
      "[0.125 0.25  0.5   1.   ]\n",
      "\n",
      "1.0\n",
      "[1. 1. 1. 1.]\n",
      "\n",
      "1.5\n",
      "[3.375 2.25  1.5   1.   ]\n",
      "\n",
      "2.0\n",
      "[8. 4. 2. 1.]\n",
      "\n",
      "2.5\n",
      "[15.625  6.25   2.5    1.   ]\n",
      "\n",
      "3.0\n",
      "[27.  9.  3.  1.]\n",
      "\n",
      "3.5\n",
      "[42.875 12.25   3.5    1.   ]\n",
      "\n",
      "4.0\n",
      "[64. 16.  4.  1.]\n",
      "\n",
      "4.5\n",
      "[91.125 20.25   4.5    1.   ]\n",
      "\n",
      "5.0\n",
      "[125.  25.   5.   1.]\n",
      "\n"
     ]
    }
   ],
   "source": [
    "order = 3\n",
    "for i in range(10):\n",
    "    x_0 = 0.5 * (i + 1)\n",
    "    print(x_0)\n",
    "    print(np.polynomial.polynomial.polyvander(x_0, order)[0][::-1])\n",
    "    print('')"
   ]
  },
  {
   "cell_type": "code",
   "execution_count": 8,
   "metadata": {},
   "outputs": [
    {
     "name": "stdout",
     "output_type": "stream",
     "text": [
      "[0 1 2 3 4 5 6 7 8 9]\n",
      "[0 1 2 3 4 5 6 7 8]\n"
     ]
    }
   ],
   "source": [
    "A = np.arange(10)\n",
    "print(A)\n",
    "print(A[:-1])"
   ]
  },
  {
   "cell_type": "code",
   "execution_count": null,
   "metadata": {},
   "outputs": [],
   "source": []
  }
 ],
 "metadata": {
  "kernelspec": {
   "display_name": "Python 3",
   "language": "python",
   "name": "python3"
  },
  "language_info": {
   "codemirror_mode": {
    "name": "ipython",
    "version": 3
   },
   "file_extension": ".py",
   "mimetype": "text/x-python",
   "name": "python",
   "nbconvert_exporter": "python",
   "pygments_lexer": "ipython3",
   "version": "3.7.3"
  }
 },
 "nbformat": 4,
 "nbformat_minor": 2
}
