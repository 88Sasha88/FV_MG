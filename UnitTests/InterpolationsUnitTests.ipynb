{
 "cells": [
  {
   "cell_type": "markdown",
   "metadata": {},
   "source": [
    "Here, you develop the "
   ]
  },
  {
   "cell_type": "code",
   "execution_count": 1,
   "metadata": {},
   "outputs": [
    {
     "data": {
      "text/html": [
       "<style>pre { white-space: pre !important; }</style>"
      ],
      "text/plain": [
       "<IPython.core.display.HTML object>"
      ]
     },
     "metadata": {},
     "output_type": "display_data"
    },
    {
     "data": {
      "text/html": [
       "<style>pre { white-space: pre !important; }</style>"
      ],
      "text/plain": [
       "<IPython.core.display.HTML object>"
      ]
     },
     "metadata": {},
     "output_type": "display_data"
    }
   ],
   "source": [
    "import os.path\n",
    "from scipy import *\n",
    "import numpy as np\n",
    "from numpy import *\n",
    "from numpy import linalg as LA\n",
    "from scipy import linalg as LA2\n",
    "import sympy as sympy\n",
    "import sys as sys\n",
    "import time\n",
    "import matplotlib.pyplot as plt\n",
    "import itertools as it\n",
    "from IPython.core.display import HTML\n",
    "\n",
    "sys.path.append('/Users/sashacurcic/SashasDirectory/ANAG/FV_MG/')\n",
    "from Modules import BasicTools as BT\n",
    "from Modules import WaveTools as WT\n",
    "from Modules import PlotTools as PT\n",
    "from Modules import FFTTools as FFTT\n",
    "from Modules import OperatorTools as OT\n",
    "from Modules import GridTransferTools as GTT\n",
    "from Modules import TestTools as TT\n",
    "from Modules import SolverTools as ST\n",
    "\n",
    "display(HTML(\"<style>pre { white-space: pre !important; }</style>\"))\n",
    "np.set_printoptions( linewidth = 10000, threshold = 100000)"
   ]
  },
  {
   "cell_type": "markdown",
   "metadata": {},
   "source": [
    "This cell takes all of the input parameters."
   ]
  },
  {
   "cell_type": "code",
   "execution_count": 2,
   "metadata": {},
   "outputs": [],
   "source": [
    "nh = 16\n",
    "refRatio = 2\n",
    "c = 1.\n",
    "CFL = 0.5\n",
    "nt = 32\n",
    "RK = 4\n",
    "deriv = 'U'\n",
    "order = 2"
   ]
  },
  {
   "cell_type": "markdown",
   "metadata": {},
   "source": [
    "This cell contains the relevant switch information."
   ]
  },
  {
   "cell_type": "code",
   "execution_count": 3,
   "metadata": {},
   "outputs": [],
   "source": [
    "if (RK == 1):\n",
    "    TimeIntegratorFunc = ST.ForwardEuler\n",
    "else:\n",
    "    if (RK == 2):\n",
    "        TimeIntegratorFunc = ST.MidpointMeth\n",
    "    else:\n",
    "        TimeIntegratorFunc = ST.RK4\n",
    "\n",
    "if (deriv == 'U'):\n",
    "    DiffFunc = ST.Upwind\n",
    "else:\n",
    "    DiffFunc = TT.CenterDiff#ST.CenterDiff"
   ]
  },
  {
   "cell_type": "markdown",
   "metadata": {},
   "source": [
    "This cell instantiates the grid, derivative operators, and Fourier modes."
   ]
  },
  {
   "cell_type": "code",
   "execution_count": 4,
   "metadata": {},
   "outputs": [
    {
     "name": "stdout",
     "output_type": "stream",
     "text": [
      "YOU'RE USING THE UPDATE.\n",
      "bounds: [-1.   0.   0.5  1. ]\n",
      "polyInterp: [ 0.5   0.75 -0.25]\n",
      "\n",
      "YOU'RE USING THE UPDATE.\n",
      "bounds: [-1.  -0.5 -0.   1. ]\n",
      "polyInterp: [-0.25  0.75  0.5 ]\n",
      "\n"
     ]
    }
   ],
   "source": [
    "omega = BT.Grid(nh)\n",
    "finehalf = list(np.arange(int(nh / refRatio)))# + int(nh / refRatio))\n",
    "omega.AddPatch(refRatio, finehalf)\n",
    "degFreed = omega.degFreed\n",
    "nh_min = omega.nh_min\n",
    "nh_max = omega.nh_max\n",
    "t, nt = ST.CalcTime(omega, CFL, c, nt = nt)\n",
    "derivMat = OT.SpaceDeriv(omega, order, 'deriv')\n",
    "spatOp = -c * derivMat\n",
    "strings = omega.strings\n",
    "timePropOp = LA2.expm(t * spatOp)\n",
    "omegaF = BT.Grid(nh_max)\n",
    "wavesF = WT.MakeWaves(omegaF)"
   ]
  },
  {
   "cell_type": "code",
   "execution_count": 5,
   "metadata": {},
   "outputs": [
    {
     "name": "stdout",
     "output_type": "stream",
     "text": [
      "YOU'RE USING THE UPDATE.\n",
      "bounds: [-1.   0.   0.5  1. ]\n",
      "polyInterp: [ 0.5   0.75 -0.25]\n",
      "\n",
      "[ 0.5   0.75 -0.25]\n",
      "<class 'numpy.ndarray'>\n"
     ]
    }
   ],
   "source": [
    "polyInterp = GTT.GhostCellStencil(2, -0.5)\n",
    "print(polyInterp)\n",
    "print(type(polyInterp))"
   ]
  },
  {
   "cell_type": "markdown",
   "metadata": {},
   "source": [
    "This cell runs a test on a fifth-order cell-averaged polynomial interpolation for a ghost cell at the edge of the coarse-fine interface. If it doesn't reach the appropriate order of accuracy, there is an `assert` which force quits."
   ]
  },
  {
   "cell_type": "code",
   "execution_count": 6,
   "metadata": {},
   "outputs": [
    {
     "name": "stdout",
     "output_type": "stream",
     "text": [
      "YOU'RE USING THE UPDATE.\n",
      "bounds: [-7 -6 -5 -4 -3 -2 -1]\n",
      "YOU'RE USING THE UPDATE.\n",
      "bounds: [-7 -6 -5 -4 -3 -2 -1]\n",
      "polyInterp: [-0.22070312  1.31966146 -3.23307292  4.69661458 -3.11914063  1.55664063]\n",
      "\n",
      "Order 0:\n",
      "2.0 2.0000000000001315\n",
      "Error = 6.572520305780927e-12%\n",
      "\n",
      "Order 1:\n",
      "-4.5 -4.500000000000384\n",
      "Error = 8.526512829121202e-12%\n",
      "\n",
      "Order 2:\n",
      "13.5 13.500000000001677\n",
      "Error = 1.242133967699138e-11%\n",
      "\n",
      "Order 3:\n",
      "-45.5625 -45.56250000000884\n",
      "Error = 1.9400058453455465e-11%\n",
      "\n",
      "Order 4:\n",
      "164.02499999999998 164.02500000005784\n",
      "Error = 3.527913452236096e-11%\n",
      "\n",
      "Order 5:\n",
      "-615.09375 -615.0937500003911\n",
      "Error = 6.358099424069244e-11%\n",
      "\n",
      "Order 6:\n",
      "2372.5044642857138 2053.2857142883586\n",
      "Error = -13.45492726368639%\n",
      "\n"
     ]
    }
   ],
   "source": [
    "TT.TestPoly(5, -4.5)"
   ]
  },
  {
   "cell_type": "code",
   "execution_count": 7,
   "metadata": {
    "scrolled": false
   },
   "outputs": [
    {
     "name": "stdout",
     "output_type": "stream",
     "text": [
      "YOU'RE USING THE UPDATE.\n",
      "bounds: [-1.   0.   0.5  1. ]\n",
      "polyInterp: [ 0.5   0.75 -0.25]\n",
      "\n",
      "YOU'RE USING THE UPDATE.\n",
      "bounds: [-1.  -0.5 -0.   1. ]\n",
      "polyInterp: [-0.25  0.75  0.5 ]\n",
      "\n",
      "[[-12.  20.   0.   0.   0.   0.   0.   0.   0.   0.   0.   0.   0.   0.   0.   0.   0.   0.   0.   0.   0.   0.   0.  -8.]\n",
      " [-16.   0.  16.   0.   0.   0.   0.   0.   0.   0.   0.   0.   0.   0.   0.   0.   0.   0.   0.   0.   0.   0.   0.   0.]\n",
      " [  0. -16.   0.  16.   0.   0.   0.   0.   0.   0.   0.   0.   0.   0.   0.   0.   0.   0.   0.   0.   0.   0.   0.   0.]\n",
      " [  0.   0. -16.   0.  16.   0.   0.   0.   0.   0.   0.   0.   0.   0.   0.   0.   0.   0.   0.   0.   0.   0.   0.   0.]\n",
      " [  0.   0.   0. -16.   0.  16.   0.   0.   0.   0.   0.   0.   0.   0.   0.   0.   0.   0.   0.   0.   0.   0.   0.   0.]\n",
      " [  0.   0.   0.   0. -16.   0.  16.   0.   0.   0.   0.   0.   0.   0.   0.   0.   0.   0.   0.   0.   0.   0.   0.   0.]\n",
      " [  0.   0.   0.   0.   0. -16.   0.  16.   0.   0.   0.   0.   0.   0.   0.   0.   0.   0.   0.   0.   0.   0.   0.   0.]\n",
      " [  0.   0.   0.   0.   0.   0. -16.   0.  16.   0.   0.   0.   0.   0.   0.   0.   0.   0.   0.   0.   0.   0.   0.   0.]\n",
      " [  0.   0.   0.   0.   0.   0.   0. -16.   0.  16.   0.   0.   0.   0.   0.   0.   0.   0.   0.   0.   0.   0.   0.   0.]\n",
      " [  0.   0.   0.   0.   0.   0.   0.   0. -16.   0.  16.   0.   0.   0.   0.   0.   0.   0.   0.   0.   0.   0.   0.   0.]\n",
      " [  0.   0.   0.   0.   0.   0.   0.   0.   0. -16.   0.  16.   0.   0.   0.   0.   0.   0.   0.   0.   0.   0.   0.   0.]\n",
      " [  0.   0.   0.   0.   0.   0.   0.   0.   0.   0. -16.   0.  16.   0.   0.   0.   0.   0.   0.   0.   0.   0.   0.   0.]\n",
      " [  0.   0.   0.   0.   0.   0.   0.   0.   0.   0.   0. -16.   0.  16.   0.   0.   0.   0.   0.   0.   0.   0.   0.   0.]\n",
      " [  0.   0.   0.   0.   0.   0.   0.   0.   0.   0.   0.   0. -16.   0.  16.   0.   0.   0.   0.   0.   0.   0.   0.   0.]\n",
      " [  0.   0.   0.   0.   0.   0.   0.   0.   0.   0.   0.   0.   0. -16.   0.  16.   0.   0.   0.   0.   0.   0.   0.   0.]\n",
      " [  0.   0.   0.   0.   0.   0.   0.   0.   0.   0.   0.   0.   0.   0. -20.  12.   8.   0.   0.   0.   0.   0.   0.   0.]\n",
      " [  0.   0.   0.   0.   0.   0.   0.   0.   0.   0.   0.   0.   0.   0.  -4.  -4.   0.   8.   0.   0.   0.   0.   0.   0.]\n",
      " [  0.   0.   0.   0.   0.   0.   0.   0.   0.   0.   0.   0.   0.   0.   0.   0.  -8.   0.   8.   0.   0.   0.   0.   0.]\n",
      " [  0.   0.   0.   0.   0.   0.   0.   0.   0.   0.   0.   0.   0.   0.   0.   0.   0.  -8.   0.   8.   0.   0.   0.   0.]\n",
      " [  0.   0.   0.   0.   0.   0.   0.   0.   0.   0.   0.   0.   0.   0.   0.   0.   0.   0.  -8.   0.   8.   0.   0.   0.]\n",
      " [  0.   0.   0.   0.   0.   0.   0.   0.   0.   0.   0.   0.   0.   0.   0.   0.   0.   0.   0.  -8.   0.   8.   0.   0.]\n",
      " [  0.   0.   0.   0.   0.   0.   0.   0.   0.   0.   0.   0.   0.   0.   0.   0.   0.   0.   0.   0.  -8.   0.   8.   0.]\n",
      " [  0.   0.   0.   0.   0.   0.   0.   0.   0.   0.   0.   0.   0.   0.   0.   0.   0.   0.   0.   0.   0.  -8.   0.   8.]\n",
      " [  4.   4.   0.   0.   0.   0.   0.   0.   0.   0.   0.   0.   0.   0.   0.   0.   0.   0.   0.   0.   0.   0.  -8.   0.]]\n"
     ]
    }
   ],
   "source": [
    "derivMat = OT.SpaceDeriv(omega, order, 'C')\n",
    "print(derivMat)"
   ]
  },
  {
   "cell_type": "code",
   "execution_count": 8,
   "metadata": {},
   "outputs": [],
   "source": [
    "omega2 = BT.Grid(nh)\n",
    "finehalf2 = list(np.arange(int(nh / refRatio)) + int(nh / refRatio))\n",
    "omega2.AddPatch(refRatio, finehalf2)"
   ]
  },
  {
   "cell_type": "code",
   "execution_count": 9,
   "metadata": {},
   "outputs": [
    {
     "name": "stdout",
     "output_type": "stream",
     "text": [
      "YOU'RE USING THE UPDATE.\n",
      "bounds: [-1.   0.   0.5  1. ]\n",
      "polyInterp: [ 0.5   0.75 -0.25]\n",
      "\n",
      "YOU'RE USING THE UPDATE.\n",
      "bounds: [-1.  -0.5 -0.   1. ]\n",
      "polyInterp: [-0.25  0.75  0.5 ]\n",
      "\n",
      "[[  0.   8.   0.   0.   0.   0.   0.   0.   0.   0.   0.   0.   0.   0.   0.   0.   0.   0.   0.   0.   0.   0.  -4.  -4.]\n",
      " [ -8.   0.   8.   0.   0.   0.   0.   0.   0.   0.   0.   0.   0.   0.   0.   0.   0.   0.   0.   0.   0.   0.   0.   0.]\n",
      " [  0.  -8.   0.   8.   0.   0.   0.   0.   0.   0.   0.   0.   0.   0.   0.   0.   0.   0.   0.   0.   0.   0.   0.   0.]\n",
      " [  0.   0.  -8.   0.   8.   0.   0.   0.   0.   0.   0.   0.   0.   0.   0.   0.   0.   0.   0.   0.   0.   0.   0.   0.]\n",
      " [  0.   0.   0.  -8.   0.   8.   0.   0.   0.   0.   0.   0.   0.   0.   0.   0.   0.   0.   0.   0.   0.   0.   0.   0.]\n",
      " [  0.   0.   0.   0.  -8.   0.   8.   0.   0.   0.   0.   0.   0.   0.   0.   0.   0.   0.   0.   0.   0.   0.   0.   0.]\n",
      " [  0.   0.   0.   0.   0.  -8.   0.   8.   0.   0.   0.   0.   0.   0.   0.   0.   0.   0.   0.   0.   0.   0.   0.   0.]\n",
      " [  0.   0.   0.   0.   0.   0.  -8.   0.   4.   4.   0.   0.   0.   0.   0.   0.   0.   0.   0.   0.   0.   0.   0.   0.]\n",
      " [  0.   0.   0.   0.   0.   0.   0.  -8. -12.  20.   0.   0.   0.   0.   0.   0.   0.   0.   0.   0.   0.   0.   0.   0.]\n",
      " [  0.   0.   0.   0.   0.   0.   0.   0. -16.   0.  16.   0.   0.   0.   0.   0.   0.   0.   0.   0.   0.   0.   0.   0.]\n",
      " [  0.   0.   0.   0.   0.   0.   0.   0.   0. -16.   0.  16.   0.   0.   0.   0.   0.   0.   0.   0.   0.   0.   0.   0.]\n",
      " [  0.   0.   0.   0.   0.   0.   0.   0.   0.   0. -16.   0.  16.   0.   0.   0.   0.   0.   0.   0.   0.   0.   0.   0.]\n",
      " [  0.   0.   0.   0.   0.   0.   0.   0.   0.   0.   0. -16.   0.  16.   0.   0.   0.   0.   0.   0.   0.   0.   0.   0.]\n",
      " [  0.   0.   0.   0.   0.   0.   0.   0.   0.   0.   0.   0. -16.   0.  16.   0.   0.   0.   0.   0.   0.   0.   0.   0.]\n",
      " [  0.   0.   0.   0.   0.   0.   0.   0.   0.   0.   0.   0.   0. -16.   0.  16.   0.   0.   0.   0.   0.   0.   0.   0.]\n",
      " [  0.   0.   0.   0.   0.   0.   0.   0.   0.   0.   0.   0.   0.   0. -16.   0.  16.   0.   0.   0.   0.   0.   0.   0.]\n",
      " [  0.   0.   0.   0.   0.   0.   0.   0.   0.   0.   0.   0.   0.   0.   0. -16.   0.  16.   0.   0.   0.   0.   0.   0.]\n",
      " [  0.   0.   0.   0.   0.   0.   0.   0.   0.   0.   0.   0.   0.   0.   0.   0. -16.   0.  16.   0.   0.   0.   0.   0.]\n",
      " [  0.   0.   0.   0.   0.   0.   0.   0.   0.   0.   0.   0.   0.   0.   0.   0.   0. -16.   0.  16.   0.   0.   0.   0.]\n",
      " [  0.   0.   0.   0.   0.   0.   0.   0.   0.   0.   0.   0.   0.   0.   0.   0.   0.   0. -16.   0.  16.   0.   0.   0.]\n",
      " [  0.   0.   0.   0.   0.   0.   0.   0.   0.   0.   0.   0.   0.   0.   0.   0.   0.   0.   0. -16.   0.  16.   0.   0.]\n",
      " [  0.   0.   0.   0.   0.   0.   0.   0.   0.   0.   0.   0.   0.   0.   0.   0.   0.   0.   0.   0. -16.   0.  16.   0.]\n",
      " [  0.   0.   0.   0.   0.   0.   0.   0.   0.   0.   0.   0.   0.   0.   0.   0.   0.   0.   0.   0.   0. -16.   0.  16.]\n",
      " [  8.   0.   0.   0.   0.   0.   0.   0.   0.   0.   0.   0.   0.   0.   0.   0.   0.   0.   0.   0.   0.   0. -20.  12.]]\n"
     ]
    }
   ],
   "source": [
    "derivMat = OT.SpaceDeriv(omega2, order, 'C')\n",
    "print(derivMat)"
   ]
  },
  {
   "cell_type": "code",
   "execution_count": null,
   "metadata": {},
   "outputs": [],
   "source": []
  },
  {
   "cell_type": "code",
   "execution_count": null,
   "metadata": {},
   "outputs": [],
   "source": []
  }
 ],
 "metadata": {
  "kernelspec": {
   "display_name": "Python 3",
   "language": "python",
   "name": "python3"
  },
  "language_info": {
   "codemirror_mode": {
    "name": "ipython",
    "version": 3
   },
   "file_extension": ".py",
   "mimetype": "text/x-python",
   "name": "python",
   "nbconvert_exporter": "python",
   "pygments_lexer": "ipython3",
   "version": "3.7.3"
  }
 },
 "nbformat": 4,
 "nbformat_minor": 2
}
