{
 "cells": [
  {
   "cell_type": "markdown",
   "metadata": {},
   "source": [
    "Here, you develop the "
   ]
  },
  {
   "cell_type": "code",
   "execution_count": 1,
   "metadata": {},
   "outputs": [
    {
     "data": {
      "text/html": [
       "<style>pre { white-space: pre !important; }</style>"
      ],
      "text/plain": [
       "<IPython.core.display.HTML object>"
      ]
     },
     "metadata": {},
     "output_type": "display_data"
    },
    {
     "data": {
      "text/html": [
       "<style>pre { white-space: pre !important; }</style>"
      ],
      "text/plain": [
       "<IPython.core.display.HTML object>"
      ]
     },
     "metadata": {},
     "output_type": "display_data"
    }
   ],
   "source": [
    "import os.path\n",
    "from scipy import *\n",
    "import numpy as np\n",
    "from numpy import *\n",
    "from numpy import linalg as LA\n",
    "from scipy import linalg as LA2\n",
    "import sympy as sympy\n",
    "import sys as sys\n",
    "import time\n",
    "import matplotlib.pyplot as plt\n",
    "import itertools as it\n",
    "from IPython.core.display import HTML\n",
    "\n",
    "sys.path.append('/Users/sashacurcic/SashasDirectory/ANAG/FV_MG/')\n",
    "from Modules import BasicTools as BT\n",
    "from Modules import WaveTools as WT\n",
    "from Modules import PlotTools as PT\n",
    "from Modules import FFTTools as FFTT\n",
    "from Modules import OperatorTools as OT\n",
    "from Modules import GridTransferTools as GTT\n",
    "from Modules import TestTools as TT\n",
    "from Modules import SolverTools as ST\n",
    "\n",
    "display(HTML(\"<style>pre { white-space: pre !important; }</style>\"))\n",
    "np.set_printoptions( linewidth = 10000, threshold = 100000)"
   ]
  },
  {
   "cell_type": "markdown",
   "metadata": {},
   "source": [
    "This cell takes all of the input parameters."
   ]
  },
  {
   "cell_type": "code",
   "execution_count": 2,
   "metadata": {},
   "outputs": [],
   "source": [
    "nh_min = 16\n",
    "refRatio = 2\n",
    "c = 1.\n",
    "CFL = 0.5\n",
    "nt = 32\n",
    "RK = 4\n",
    "deriv = 'CD'\n",
    "order = 4"
   ]
  },
  {
   "cell_type": "markdown",
   "metadata": {},
   "source": [
    "This cell contains the relevant switch information."
   ]
  },
  {
   "cell_type": "code",
   "execution_count": 3,
   "metadata": {},
   "outputs": [],
   "source": [
    "if (RK == 1):\n",
    "    TimeIntegratorFunc = ST.ForwardEuler\n",
    "else:\n",
    "    if (RK == 2):\n",
    "        TimeIntegratorFunc = ST.MidpointMeth\n",
    "    else:\n",
    "        TimeIntegratorFunc = ST.RK4\n",
    "\n",
    "if (deriv == 'U'):\n",
    "    DiffFunc = ST.Upwind\n",
    "else:\n",
    "    DiffFunc = TT.CenterDiff#ST.CenterDiff"
   ]
  },
  {
   "cell_type": "markdown",
   "metadata": {},
   "source": [
    "This cell instantiates the grid, derivative operators, and Fourier modes."
   ]
  },
  {
   "cell_type": "code",
   "execution_count": 4,
   "metadata": {},
   "outputs": [],
   "source": [
    "omega = BT.Grid(nh_min)\n",
    "finehalf = list(np.arange(int(nh_min / refRatio)))# + int(nh / refRatio))\n",
    "omega.AddPatch(refRatio, finehalf)\n",
    "degFreed = omega.degFreed\n",
    "nh_max = omega.nh_max\n",
    "t, nt = ST.CalcTime(omega, CFL, c, nt = nt)\n",
    "derivMat = OT.SpaceDeriv(omega, order, deriv)\n",
    "spatOp = -c * derivMat\n",
    "strings = omega.strings\n",
    "timePropOp = LA2.expm(t * spatOp)\n",
    "omegaF = BT.Grid(nh_max)\n",
    "wavesF = WT.MakeWaves(omegaF)"
   ]
  },
  {
   "cell_type": "code",
   "execution_count": 5,
   "metadata": {},
   "outputs": [
    {
     "name": "stdout",
     "output_type": "stream",
     "text": [
      "(array([-0.02857143,  0.57142857,  0.78571429, -0.41428571,  0.08571429]), 2, 3)\n",
      "<class 'tuple'>\n",
      "4\n"
     ]
    }
   ],
   "source": [
    "polyInterp = GTT.GhostCellStencil(order, -0.5)\n",
    "print(polyInterp)\n",
    "print(type(polyInterp))\n",
    "print(order)"
   ]
  },
  {
   "cell_type": "markdown",
   "metadata": {},
   "source": [
    "This cell runs a test on a fifth-order cell-averaged polynomial interpolation for a ghost cell at the edge of the coarse-fine interface. If it doesn't reach the appropriate order of accuracy, there is an `assert` which force quits."
   ]
  },
  {
   "cell_type": "code",
   "execution_count": 32,
   "metadata": {},
   "outputs": [
    {
     "name": "stdout",
     "output_type": "stream",
     "text": [
      "4\n"
     ]
    }
   ],
   "source": [
    "print(order)\n",
    "def TestPoly(func, args, const = 2, tol = 1e-10):\n",
    "    errorLoc = 'Location:\\n'\n",
    "    errorMess = ''\n",
    "    \n",
    "    # Create stencil.\n",
    "    \n",
    "    out = func(*args)\n",
    "    if (func == GTT.GhostCellStencil):\n",
    "        \n",
    "        polyInterp, n_c, n_f = out\n",
    "        \n",
    "        # Create vector of cell bounds.\n",
    "        bounds, n_c, n_f = GTT.BoundVals(*args)\n",
    "        order, x_0 = args\n",
    "        \n",
    "        if (x_0 > 0):\n",
    "            x_1 = x_0 - 0.5\n",
    "            x_2 = x_0\n",
    "        else:\n",
    "            if (x_0 < 0):\n",
    "                x_1 = x_0\n",
    "                x_2 = x_0 + 0.5\n",
    "            else:\n",
    "                errorMess = 'x_0 cannot be zero!'\n",
    "    else:\n",
    "        if (func == GTT.CentGhostMaterial):\n",
    "            \n",
    "            polyInterp = out\n",
    "            \n",
    "            omega, order, matInd, centCellInd, offDiagInd = args\n",
    "            \n",
    "            # Create vector of cell bounds.\n",
    "            bounds = GTT.MaterialInterpBounds(omega, order, matInd, offDiagInd)\n",
    "            \n",
    "            xVec, x_1, x_2 = GTT.MaterialInterpVec(omega, order, centCellInd, offDiagInd)\n",
    "            \n",
    "            \n",
    "        else:\n",
    "            errorMess = 'Something\\'s up here.'\n",
    "    \n",
    "    if (errorMess != ''):\n",
    "        sys.exit(errorLoc + errorMess)\n",
    "    \n",
    "    # Find intervals of cell bounds.\n",
    "    h = bounds[:-1] - bounds[1:]\n",
    "    \n",
    "    delX = x_2 - x_1\n",
    "    \n",
    "    # Iterate through monomials up to appropriate order of accuracy to test stencil.\n",
    "    for k in range(order + 2):\n",
    "        coefs = np.zeros(k + 1, float)\n",
    "        coefs[0] = const\n",
    "        p = np.poly1d(coefs)\n",
    "        P = np.polyint(p)\n",
    "        print('Order ' + str(k) + ':')\n",
    "        print('p(x) =\\n', p)\n",
    "        print('P(x) =\\n', P)\n",
    "        v = (P(bounds[:-1]) - P(bounds[1:])) / h\n",
    "\n",
    "        theor = (P(x_2) - P(x_1)) / delX\n",
    "        act = v.transpose() @ polyInterp\n",
    "        error = act - theor\n",
    "        print(theor, act)\n",
    "        print('Error = ' + str(error))\n",
    "        print('')\n",
    "#         if (k < order + 1):\n",
    "#             assert(np.isclose(act, theor, rtol = 0, atol = tol))\n",
    "    return\n",
    "    "
   ]
  },
  {
   "cell_type": "code",
   "execution_count": 33,
   "metadata": {},
   "outputs": [
    {
     "name": "stdout",
     "output_type": "stream",
     "text": [
      "4\n",
      "4 0.5\n",
      "Order 0:\n",
      "p(x) =\n",
      "  \n",
      "2\n",
      "P(x) =\n",
      "  \n",
      "2 x\n",
      "2.0 1.9999999999999998\n",
      "Error = -2.220446049250313e-16\n",
      "\n",
      "Order 1:\n",
      "p(x) =\n",
      "  \n",
      "2 x\n",
      "P(x) =\n",
      "    2\n",
      "1 x\n",
      "0.5 0.5000000000000002\n",
      "Error = 2.220446049250313e-16\n",
      "\n",
      "Order 2:\n",
      "p(x) =\n",
      "    2\n",
      "2 x\n",
      "P(x) =\n",
      "         3\n",
      "0.6667 x\n",
      "0.16666666666666666 0.16666666666666652\n",
      "Error = -1.3877787807814457e-16\n",
      "\n",
      "Order 3:\n",
      "p(x) =\n",
      "    3\n",
      "2 x\n",
      "P(x) =\n",
      "      4\n",
      "0.5 x\n",
      "0.0625 0.06250000000000011\n",
      "Error = 1.1102230246251565e-16\n",
      "\n",
      "Order 4:\n",
      "p(x) =\n",
      "    4\n",
      "2 x\n",
      "P(x) =\n",
      "      5\n",
      "0.4 x\n",
      "0.025 0.025000000000000078\n",
      "Error = 7.632783294297951e-17\n",
      "\n",
      "Order 5:\n",
      "p(x) =\n",
      "    5\n",
      "2 x\n",
      "P(x) =\n",
      "         6\n",
      "0.3333 x\n",
      "0.010416666666666666 -0.7395833333333335\n",
      "Error = -0.7500000000000001\n",
      "\n"
     ]
    }
   ],
   "source": [
    "print(order)\n",
    "args1 = [order, 0.5]\n",
    "print(*args1)\n",
    "TestPoly(GTT.GhostCellStencil, args1)"
   ]
  },
  {
   "cell_type": "code",
   "execution_count": 34,
   "metadata": {},
   "outputs": [],
   "source": [
    "hs = omega.h\n",
    "    \n",
    "spots = np.roll(hs, -1) - hs\n",
    "\n",
    "if (all(spots == 0)):\n",
    "    p = []\n",
    "    q = []\n",
    "    NU = False\n",
    "else:\n",
    "    # Index before fine-coarse interface\n",
    "    p = np.where(spots > 0)[0][0]\n",
    "    # Index before coarse-fine interface\n",
    "    q = np.where(spots < 0)[0][0]\n",
    "    NU = True\n",
    "\n",
    "\n",
    "offDiagInd = int(order / 2)\n",
    "matInd = p - 1\n",
    "centCellInd = int(matInd + 1)\n",
    "\n",
    "args2 = [omega, order, matInd, centCellInd, offDiagInd]"
   ]
  },
  {
   "cell_type": "code",
   "execution_count": 35,
   "metadata": {},
   "outputs": [
    {
     "name": "stdout",
     "output_type": "stream",
     "text": [
      "this one.\n",
      "Bounds are: [0.4375  0.46875 0.5     0.5625  0.625   0.6875 ] <= 0.4375\n",
      "this one.\n",
      "Bounds are: [0.4375  0.46875 0.5     0.5625  0.625   0.6875 ] <= 0.4375\n",
      "Order 0:\n",
      "p(x) =\n",
      "  \n",
      "2\n",
      "P(x) =\n",
      "  \n",
      "2 x\n"
     ]
    },
    {
     "ename": "ValueError",
     "evalue": "matmul: Input operand 1 has a mismatch in its core dimension 0, with gufunc signature (n?,k),(k,m?)->(n?,m?) (size 24 is different from 5)",
     "output_type": "error",
     "traceback": [
      "\u001b[0;31m---------------------------------------------------------------------------\u001b[0m",
      "\u001b[0;31mValueError\u001b[0m                                Traceback (most recent call last)",
      "\u001b[0;32m<ipython-input-35-6eaa4ce67014>\u001b[0m in \u001b[0;36m<module>\u001b[0;34m\u001b[0m\n\u001b[0;32m----> 1\u001b[0;31m \u001b[0mTestPoly\u001b[0m\u001b[0;34m(\u001b[0m\u001b[0mGTT\u001b[0m\u001b[0;34m.\u001b[0m\u001b[0mCentGhostMaterial\u001b[0m\u001b[0;34m,\u001b[0m \u001b[0margs2\u001b[0m\u001b[0;34m)\u001b[0m\u001b[0;34m\u001b[0m\u001b[0;34m\u001b[0m\u001b[0m\n\u001b[0m",
      "\u001b[0;32m<ipython-input-32-88a58db92ae5>\u001b[0m in \u001b[0;36mTestPoly\u001b[0;34m(func, args, const, tol)\u001b[0m\n\u001b[1;32m     60\u001b[0m \u001b[0;34m\u001b[0m\u001b[0m\n\u001b[1;32m     61\u001b[0m         \u001b[0mtheor\u001b[0m \u001b[0;34m=\u001b[0m \u001b[0;34m(\u001b[0m\u001b[0mP\u001b[0m\u001b[0;34m(\u001b[0m\u001b[0mx_2\u001b[0m\u001b[0;34m)\u001b[0m \u001b[0;34m-\u001b[0m \u001b[0mP\u001b[0m\u001b[0;34m(\u001b[0m\u001b[0mx_1\u001b[0m\u001b[0;34m)\u001b[0m\u001b[0;34m)\u001b[0m \u001b[0;34m/\u001b[0m \u001b[0mdelX\u001b[0m\u001b[0;34m\u001b[0m\u001b[0;34m\u001b[0m\u001b[0m\n\u001b[0;32m---> 62\u001b[0;31m         \u001b[0mact\u001b[0m \u001b[0;34m=\u001b[0m \u001b[0mv\u001b[0m\u001b[0;34m.\u001b[0m\u001b[0mtranspose\u001b[0m\u001b[0;34m(\u001b[0m\u001b[0;34m)\u001b[0m \u001b[0;34m@\u001b[0m \u001b[0mpolyInterp\u001b[0m\u001b[0;34m\u001b[0m\u001b[0;34m\u001b[0m\u001b[0m\n\u001b[0m\u001b[1;32m     63\u001b[0m         \u001b[0merror\u001b[0m \u001b[0;34m=\u001b[0m \u001b[0mact\u001b[0m \u001b[0;34m-\u001b[0m \u001b[0mtheor\u001b[0m\u001b[0;34m\u001b[0m\u001b[0;34m\u001b[0m\u001b[0m\n\u001b[1;32m     64\u001b[0m         \u001b[0mprint\u001b[0m\u001b[0;34m(\u001b[0m\u001b[0mtheor\u001b[0m\u001b[0;34m,\u001b[0m \u001b[0mact\u001b[0m\u001b[0;34m)\u001b[0m\u001b[0;34m\u001b[0m\u001b[0;34m\u001b[0m\u001b[0m\n",
      "\u001b[0;31mValueError\u001b[0m: matmul: Input operand 1 has a mismatch in its core dimension 0, with gufunc signature (n?,k),(k,m?)->(n?,m?) (size 24 is different from 5)"
     ]
    }
   ],
   "source": [
    "TestPoly(GTT.CentGhostMaterial, args2)"
   ]
  },
  {
   "cell_type": "code",
   "execution_count": null,
   "metadata": {},
   "outputs": [],
   "source": []
  }
 ],
 "metadata": {
  "kernelspec": {
   "display_name": "Python 3",
   "language": "python",
   "name": "python3"
  },
  "language_info": {
   "codemirror_mode": {
    "name": "ipython",
    "version": 3
   },
   "file_extension": ".py",
   "mimetype": "text/x-python",
   "name": "python",
   "nbconvert_exporter": "python",
   "pygments_lexer": "ipython3",
   "version": "3.7.3"
  }
 },
 "nbformat": 4,
 "nbformat_minor": 2
}
