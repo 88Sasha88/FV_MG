{
 "cells": [
  {
   "cell_type": "code",
   "execution_count": 1,
   "metadata": {},
   "outputs": [
    {
     "data": {
      "text/html": [
       "<style>pre { white-space: pre !important; }</style>"
      ],
      "text/plain": [
       "<IPython.core.display.HTML object>"
      ]
     },
     "metadata": {},
     "output_type": "display_data"
    },
    {
     "data": {
      "text/html": [
       "<style>pre { white-space: pre !important; }</style>"
      ],
      "text/plain": [
       "<IPython.core.display.HTML object>"
      ]
     },
     "metadata": {},
     "output_type": "display_data"
    },
    {
     "data": {
      "text/html": [
       "<style>pre { white-space: pre !important; }</style>"
      ],
      "text/plain": [
       "<IPython.core.display.HTML object>"
      ]
     },
     "metadata": {},
     "output_type": "display_data"
    }
   ],
   "source": [
    "import os.path\n",
    "import numpy as np\n",
    "import scipy as sp\n",
    "from numpy import *\n",
    "from numpy import linalg as LA\n",
    "from scipy import linalg as LA2\n",
    "import sympy as sympy\n",
    "import sys as sys\n",
    "import time\n",
    "import matplotlib.pyplot as plt\n",
    "import itertools as it\n",
    "from IPython.core.display import HTML\n",
    "\n",
    "\n",
    "sys.path.append('/Users/sashacurcic/SashasDirectory/ANAG/FV_MG/')\n",
    "from Modules import BasicTools as BT\n",
    "from Modules import WaveTools as WT\n",
    "from Modules import PlotTools as PT\n",
    "from Modules import FFTTools as FFTT\n",
    "from Modules import OperatorTools as OT\n",
    "from Modules import GridTransferTools as GTT\n",
    "from Modules import TestTools as TT\n",
    "from Modules import SolverTools as ST\n",
    "from Modules import WaveformTools as WFT\n",
    "\n",
    "display(HTML(\"<style>pre { white-space: pre !important; }</style>\"))\n",
    "np.set_printoptions( linewidth = 10000, threshold = 100000)"
   ]
  },
  {
   "cell_type": "code",
   "execution_count": 2,
   "metadata": {},
   "outputs": [],
   "source": [
    "nh_min = 16\n",
    "CFL = np.sqrt(0.5)\n",
    "t = 0.31\n",
    "\n",
    "L = 1\n",
    "epsilons = [1, 0.5] # [1, 1]\n",
    "mus = [1, 0.5]\n",
    "locs = [0.5]\n",
    "\n",
    "func = WFT.Gauss\n",
    "\n",
    "\n",
    "\n",
    "\n",
    "\n",
    "\n",
    "N = nh_min"
   ]
  },
  {
   "cell_type": "code",
   "execution_count": 3,
   "metadata": {},
   "outputs": [],
   "source": [
    "omega = BT.Grid(nh_min)\n",
    "physics = BT.PhysProps(omega, epsilons, mus, locs, L)"
   ]
  },
  {
   "cell_type": "code",
   "execution_count": 4,
   "metadata": {},
   "outputs": [],
   "source": [
    "## Calculate the RHS for E,B in Maxwell's equations using 1st-order upwind\n",
    "def calcRHSUpwind1(E, B, c1, c2, N, dx):\n",
    "\n",
    "    # Transform to the computational vars w/ eigen xform\n",
    "    ix1 = np.arange(int(N/2))\n",
    "    phil1 = .5*(E[ix1]-c1*B[ix1])\n",
    "    phir1 = .5*(E[ix1]+c1*B[ix1])\n",
    "    ix2 = np.arange(int(N/2))+int(N/2)\n",
    "    phil2 = .5*(E[ix2]-c2*B[ix2])\n",
    "    phir2 = .5*(E[ix2]+c2*B[ix2])\n",
    "\n",
    "    # Face values from upwind (index 1:N for faces left of cell + 1 for mat)\n",
    "    phil1f = np.append(phil1, 0) # 0 placeholder for value with jump condition\n",
    "    phir1f = np.append(0, phir1) # 0 at leftmost face for boundary conditions\n",
    "    phil2f = np.append(phil2, 0) # 0 at rightmost face for boundary conditions\n",
    "    phir2f = np.append(0, phir2)\n",
    "    # Correct values at material interface with jump conditions\n",
    "    ix = int(N/2)\n",
    "    T1 = 2*c1/(c1+c2)\n",
    "    R1 = (c2-c1)/(c1+c2)\n",
    "    phil1f[ix] = T1*phil2f[0] + R1*phir1f[ix]\n",
    "    T2 = 2*c2/(c1+c2)\n",
    "    R2 = (c1-c2)/(c1+c2)\n",
    "    phir2f[0] = R2*phil2f[0] + T2*phir1f[ix]\n",
    "\n",
    "    # Transform back to E,B on faces\n",
    "    E1f = phil1f + phir1f\n",
    "    B1f = (-phil1f + phir1f)/c1\n",
    "    E2f = phil2f + phir2f\n",
    "    B2f = (-phil2f + phir2f)/c2\n",
    "\n",
    "    # Calculate the RHS for E, B\n",
    "    ixf = np.arange(int(N/2))+1\n",
    "    rhsE = np.append(-c1**2*(B1f[ixf] - B1f[ixf-1])/dx, -c2**2*(B2f[ixf] - B2f[ixf-1])/dx)\n",
    "    rhsB = np.append(-1*(E1f[ixf] - E1f[ixf-1])/dx, -1*(E2f[ixf] - E2f[ixf-1])/dx)\n",
    "    return rhsE, rhsB"
   ]
  },
  {
   "cell_type": "code",
   "execution_count": 5,
   "metadata": {},
   "outputs": [],
   "source": [
    "## Calculate the RHS for E,B in Maxwell's equations using 5th-order upwind\n",
    "def calcRHSUpwind5(E, B, c1, c2, N, dx):\n",
    "    # Fill in ghost cells for left, right domain - need 3 for up5\n",
    "    P = 5  # 5th-order interpolant\n",
    "    Ng = 3  # 3 ghost cells for this stencil\n",
    "    Eg1, Eg2 = ghostCellsJump(E, dx, N, Ng, P)\n",
    "    print('Ghost Cells:')\n",
    "    print(Eg1)\n",
    "    print(Eg2)\n",
    "    print('')\n",
    "    Bg1, Bg2 = ghostCellsJump(B, dx, N, Ng, P)\n",
    "\n",
    "    # Transform to the computational vars w/ eigen xform\n",
    "    ix1 = np.arange(0, N // 2)\n",
    "    E1 = np.concatenate((E[ix1], Eg1))  # with ghost cell values at the jump\n",
    "    B1 = np.concatenate((B[ix1], Bg1))\n",
    "    phil1 = 0.5 * (E1 - c1 * B1)  # characteristic variable\n",
    "    phir1 = 0.5 * (E1 + c1 * B1)\n",
    "    ix2 = np.arange(N // 2, N)\n",
    "    E2 = np.concatenate((Eg2, E[ix2]))  # with ghost cell values at the jump\n",
    "    B2 = np.concatenate((Bg2, B[ix2]))\n",
    "    phil2 = 0.5 * (E2 - c2 * B2)\n",
    "    phir2 = 0.5 * (E2 + c2 * B2)\n",
    "\n",
    "    # Regular Face stencil from cell-averages - upwind for right-moving\n",
    "    # [2 -13 47 | 27 -3]/60\n",
    "    sr = np.array([2, -13, 47, 27, -3]) / 60\n",
    "    Ni = N // 2 + 2 * Ng  # +3 ghost cells either side\n",
    "    Ur = sp.sparse.diags(sr, np.arange(0, 5), shape=(N // 2 + 1, Ni))\n",
    "\n",
    "    sl = np.flip(sr)\n",
    "    Ul = sp.sparse.diags(sl, np.arange(1, 6), shape=(N // 2 + 1, Ni))\n",
    "\n",
    "    # Face values from upwind (index 1:N for faces left of cell + 1 for mat)\n",
    "    phil1f = Ul.dot(np.concatenate((np.full(3, phil1[0]), phil1)))  # outflow bc's on left\n",
    "    phir1f = Ur.dot(np.concatenate((np.zeros(3), phir1)))  # 0 at leftmost face for inflow boundary conditions\n",
    "    phil2f = Ul.dot(np.concatenate((phil2, np.zeros(3))))  # 0 at rightmost face for inflow boundary conditions\n",
    "    phir2f = Ur.dot(np.concatenate((phir2, np.full(3, phir2[N // 2 + Ng - 1]))))  # outflow bc's on right\n",
    "\n",
    "    # Correct values at material interface with jump conditions\n",
    "    ix = N // 2\n",
    "    T1 = 2 * c1 / (c1 + c2)\n",
    "    R1 = (c2 - c1) / (c1 + c2)\n",
    "    phil1f[ix] = T1 * phil2f[0] + R1 * phir1f[ix]\n",
    "    T2 = 2 * c2 / (c1 + c2)\n",
    "    R2 = (c1 - c2) / (c1 + c2)\n",
    "    phir2f[0] = R2 * phil2f[0] + T2 * phir1f[ix]\n",
    "\n",
    "    # Transform back to E,B on faces\n",
    "    E1f = phil1f + phir1f\n",
    "    B1f = (-phil1f + phir1f) / c1\n",
    "    E2f = phil2f + phir2f\n",
    "    B2f = (-phil2f + phir2f) / c2\n",
    "\n",
    "    # Calculate the RHS for E, B\n",
    "    ixf = np.arange(1, N // 2 + 1)\n",
    "    rhsE = np.concatenate((-c1**2 * (B1f[ixf] - B1f[ixf - 1]) / dx, -c2**2 * (B2f[ixf] - B2f[ixf - 1]) / dx))\n",
    "    rhsB = np.concatenate((-1 * (E1f[ixf] - E1f[ixf - 1]) / dx, -1 * (E2f[ixf] - E2f[ixf - 1]) / dx))\n",
    "\n",
    "    return rhsE, rhsB"
   ]
  },
  {
   "cell_type": "code",
   "execution_count": 6,
   "metadata": {},
   "outputs": [],
   "source": [
    "# RK1 for a given rhs function\n",
    "def doRK1(E, B, dt, fn_rhs, args):\n",
    "    N = np.shape(E)[0]\n",
    "    assert(N == np.shape(B)[0])\n",
    "\n",
    "    rhsE, rhsB = fn_rhs(E, B, *args)\n",
    "    E = E + dt*rhsE\n",
    "    B = B + dt*rhsB\n",
    "    return E, B"
   ]
  },
  {
   "cell_type": "code",
   "execution_count": 7,
   "metadata": {},
   "outputs": [],
   "source": [
    "def calcPhiAverage(phi_fn, x, dx, N):\n",
    "\n",
    "    qloc = np.linspace(0, 1, num = 5)\n",
    "    qweights = np.asarray([7, 32, 12, 32, 7])/90\n",
    "    phiavg = np.zeros(N, float)\n",
    "    for q in range(5):\n",
    "        phiavg = phiavg + qweights[q]*phi_fn(x[:N]+dx*qloc[q])\n",
    "    return phiavg"
   ]
  },
  {
   "cell_type": "code",
   "execution_count": 8,
   "metadata": {},
   "outputs": [],
   "source": [
    "def momentMatrix(x, x0, h, ixs, P):\n",
    "    ilo = min(ixs)\n",
    "    ihi = max(ixs)\n",
    "    xhi = (x[ilo+1:ihi+2] - x0)/h\n",
    "    xlo = (x[ilo:ihi+1] - x0)/h\n",
    "#     print('xhi:')\n",
    "#     print(xhi)\n",
    "#     print('xlo:')\n",
    "#     print(xlo)\n",
    "    A = np.zeros((np.shape(ixs)[0],P), float)\n",
    "    for p in range(P):\n",
    "#         print('p:', p)\n",
    "#         print('A 1:')\n",
    "#         print((xhi**(p+1))/(p+1))\n",
    "        A[:,p] = (xhi**(p + 1) - xlo**(p + 1)) / ((p + 1) * (xhi - xlo))\n",
    "    A = np.asarray(A)\n",
    "    return A"
   ]
  },
  {
   "cell_type": "code",
   "execution_count": null,
   "metadata": {},
   "outputs": [],
   "source": []
  },
  {
   "cell_type": "markdown",
   "metadata": {},
   "source": [
    "`P:` $o$ (order of interpolation)\n",
    "  \n",
    "`Ng:` $g$ (number of ghost cells)  \n",
    "  \n",
    "1. Construct vector of $x$ values at faces with $o$ many cells to the left and $o$-many cells to the right of the material boundary.  \n",
    "  \n",
    "`x:` ***x*** $= \\begin{bmatrix}x_{s-o} & x_{s-o+1} & ... & x_{s-2} & x_{s-1}& x_{s} & x_{s+1} & x_{s+2} & ... & x_{s+o-1} & x_{s+o}\\end{bmatrix}$  \n",
    "  \n",
    "2. Construct $2o \\times o$ Vandermonde moment matrix from ***x*** boundary values for order $o$ interpolation.  \n",
    "  \n",
    "`A:` ***A*** $= \\begin{bmatrix}\\frac{1}{x_{s-o+1}-x_{s-o}} \\int_{x_{s-o}}^{x_{s-o+1}}dx & \\frac{1}{x_{s-o+1}-x_{s-o}} \\int_{x_{s-o}}^{x_{s-o+1}} x dx & \\frac{1}{x_{s-o+1}-x_{s-o}} \\int_{x_{s-o}}^{x_{s-o+1}} x^{2} dx & ... & \\frac{1}{x_{s-o+1}-x_{s-o}} \\int_{x_{s-o}}^{x_{s-o+1}} x^{o - 1} dx& \\frac{1}{x_{s-o+1}-x_{s-o}} \\int_{x_{s-o}}^{x_{s-o+1}} x^{o} dx\n",
    "\\\\ \\frac{1}{x_{s-o+2}-x_{s-o+1}} \\int_{x_{s-o+1}}^{x_{s-o+2}}dx\n",
    "\\\\ ...\n",
    "\\\\ \\frac{1}{x_{s-1}-x_{s-2}} \\int_{x_{s-2}}^{x_{s-1}}dx\n",
    "\\\\ \\frac{1}{x_{s}-x_{s-1}} \\int_{x_{s-1}}^{x_{s}}dx\n",
    "\\\\ \\frac{1}{x_{s+1}-x_{s}} \\int_{x_{s}}^{x_{s+1}}dx\n",
    "\\\\ ...\n",
    "\\end{bmatrix}$  \n",
    "  \n",
    "3. Create non-square $2o+1 \\times 2o$ matrix ***B***, which is block diagonal of top half and bottom half of Vandermonde ***A*** with a row containing 0s, 1, and -1 beneath.  \n",
    "  \n",
    "`B:` ***B*** $= \\begin{bmatrix} & & \\mathbf{A}_{1} & & & & & \\mathbf{0} & &\n",
    "\\\\\n",
    "\\\\ & & \\mathbf{0} & & & & & \\mathbf{A}_{2} & &\n",
    "\\\\\n",
    "\\\\ 1 & 0 & 0 & ... & 0 & -1 & 0 & 0 & ... & 0 \\end{bmatrix}$\n",
    "  \n",
    "4. Multiply the pseudoinverse of matrix B to a vector of $o$-many cell-average values of the solution from both the left and right side of the material interface plus an additional elements 0 at the bottom to get the polynomial function ***p*** for approximating ghost cells in that region.  \n",
    "  \n",
    "`phic:` ***p*** $=$ ***B***$^{+} \\begin{bmatrix}<u>_{s-o}\n",
    "\\\\ <u>_{s-o+1}\n",
    "\\\\ ...\n",
    "\\\\ <u>_{s-2}\n",
    "\\\\ <u>_{s-1}\n",
    "\\\\ <u>_{s}\n",
    "\\\\ <u>_{s+1}\n",
    "\\\\ ...\n",
    "\\\\ <u>_{s+o-2}\n",
    "\\\\ <u>_{s+o - 1}\n",
    "\\\\ 0 \\end{bmatrix}$\n",
    "  \n",
    "5. Multiply $g$-many rows from the left and $g$-many rows from the right sides of Vandermonde matrix ***A*** with first $o$-many and last $o$-many elements of ***p***, respectively, to get values of ghost cells on left and right side of material boundary.\n"
   ]
  },
  {
   "cell_type": "code",
   "execution_count": 9,
   "metadata": {},
   "outputs": [],
   "source": [
    "# Fill in cell-average ghost cells using jump conditions\n",
    "\n",
    "def ghostCellsJump(phiavg,dx,N,Ng,P):\n",
    "    # Create the cell average interpolation matrix\n",
    "    x = np.arange(-P, P + 1).transpose()*dx\n",
    "#     print('x:')\n",
    "#     print(x)\n",
    "    x0 = 0\n",
    "    ixs = np.arange(2*P).transpose()\n",
    "#     print('ixs:')\n",
    "#     print(ixs)\n",
    "    A = momentMatrix(x,x0,dx,ixs,P)\n",
    "#     print('Vandermonde:')\n",
    "#     print(A)\n",
    "#     print('h 1:')\n",
    "#     print(1 / dx)\n",
    "#     garbage1 = GTT.MomentVander(9, x, x[:6])\n",
    "\n",
    "    # Build up an interpolant using the jump condition\n",
    "    ix = np.arange(P)\n",
    "    phi1 = phiavg[int(N/2-P)+ix] # phi avg in domain 1\n",
    "#     print('phiavg')\n",
    "#     print(phiavg)\n",
    "#     print('phi1:')\n",
    "#     print(phi1)\n",
    "    ix2 = np.arange(P)+P # domain 2 entries\n",
    "    phi2 = phiavg[int(N/2-P)+ix2] # phi avg in domain 2\n",
    "    B = OT.Block([A[ix,:], A[ix2,:]]) # add the fit to the matrix\n",
    "    addOn = np.zeros(2 * P, float)\n",
    "    addOn[0] = 1\n",
    "    addOn[P] = -1\n",
    "    # Add the jump cond constraint - constant coef is same at x=0\n",
    "    B = np.vstack([B, addOn])\n",
    "#     print('B:')\n",
    "#     print(B)\n",
    "    # Solve it with LS\n",
    "    phic = LA.pinv(B)@np.concatenate([phi1, phi2, np.zeros(1, float)])\n",
    "\n",
    "\n",
    "    # Evaluate the phi1 ghost cell values\n",
    "    ix = P+np.arange(Ng)\n",
    "    phig1 = A[ix,:]@phic[:P]\n",
    "#     print('A after 1:')\n",
    "#     print(A[ix,:])\n",
    "\n",
    "    # Evaluate the phi2 ghost cell values\n",
    "    ix = np.arange(P-Ng, P)\n",
    "    phig2 = A[ix,:]@phic[P:2*P]\n",
    "#     print('A after 2:')\n",
    "#     print(A[ix,:])\n",
    "#     print('')\n",
    "    return phig1, phig2"
   ]
  },
  {
   "cell_type": "code",
   "execution_count": 10,
   "metadata": {},
   "outputs": [],
   "source": [
    "def testGhostCells():\n",
    "    dx = .01 # grid spacing\n",
    "    N = 20 # 10 cells each side\n",
    "    phic1 = np.asarray([1, .5, 2, -.5, -.1]) # Domain 1 test polynomial, HOT on left\n",
    "    phic2 = np.asarray([-1, 2, -.5, .5, -.1]) # Domain 2 test polynomial\n",
    "    # Calculate the cell average vector with the ghost cells\n",
    "    Ng = 3 # 2 ghost cells\n",
    "    ix = np.asarray(np.arange(N/2+Ng+1), int) # I DON'T KNOW IF YOU NEED THIS LINE AT ALL.\n",
    "    x = np.arange(-N/2, Ng + 1)*dx\n",
    "    phiint = np.polyint(phic1)\n",
    "    ix = np.asarray(np.arange(N/2+Ng) + 1, int)\n",
    "    phiavg1 = (np.poly1d(phiint)(x[ix]) - np.poly1d(phiint)(x[ix-1])) / dx\n",
    "    x = -x[::-1]\n",
    "    phiint = np.polyint(phic2)\n",
    "    phiavg2 = (np.poly1d(phiint)(x[ix]) - np.poly1d(phiint)(x[ix-1])) / dx\n",
    "    ix = np.asarray(np.arange(N/2), int)\n",
    "    phiavg = np.concatenate((phiavg1[ix], phiavg2[ix+Ng])).transpose() # column vector of just interior\n",
    "\n",
    "    # Call the ghost cell interpolation\n",
    "    P = 5 # 5th-order interpolant\n",
    "    phig1, phig2 = ghostCellsJump(phiavg,dx,N,Ng,P)\n",
    "\n",
    "    # Check the ghost cell values\n",
    "    tol = 1e-13\n",
    "    assert(TT.VectorNorm(phiavg1[int(N/2):int(N/2)+Ng] - phig1) < tol)\n",
    "    assert(TT.VectorNorm(phiavg2[:Ng] - phig2) < tol)\n",
    "    \n",
    "    return\n"
   ]
  },
  {
   "cell_type": "code",
   "execution_count": 11,
   "metadata": {},
   "outputs": [],
   "source": [
    "degFreed = omega.degFreed\n",
    "xNode = omega.xNode\n",
    "xCell = omega.xCell\n",
    "\n",
    "cs = physics.cVec"
   ]
  },
  {
   "cell_type": "code",
   "execution_count": 12,
   "metadata": {},
   "outputs": [
    {
     "name": "stdout",
     "output_type": "stream",
     "text": [
      "This is what's happening.\n",
      "4\n"
     ]
    }
   ],
   "source": [
    "c1 = cs[0]\n",
    "c2 = cs[-1]\n",
    "\n",
    "t, nt = ST.CalcTime(omega, CFL, max(cs), t = t)\n",
    "dx, dt = ST.FindDxDt(omega, CFL, max(cs))\n",
    "nt = 4 # nt + 1 # SASHA VERSION\n",
    "\n",
    "mu = 0.25\n",
    "sigma = 1./32.\n",
    "args = [sigma, mu]\n",
    "\n",
    "print(nt)"
   ]
  },
  {
   "cell_type": "code",
   "execution_count": 13,
   "metadata": {},
   "outputs": [
    {
     "name": "stdout",
     "output_type": "stream",
     "text": [
      "n: 0\n",
      "Ghost Cells:\n",
      "[ -1.11087335  -5.71874654 -17.11340104]\n",
      "[-6.96326652 -2.59551217 -0.63837634]\n",
      "\n",
      "[ 3.76358450e-05  7.44839110e-03 -6.85446354e-02  3.13012901e-01  5.46400687e-01  1.19274639e-01 -5.27921778e-02  9.36649902e-02 -3.42120575e-01  8.87948821e-02 -2.25700119e-02  0.00000000e+00  0.00000000e+00  0.00000000e+00  0.00000000e+00  0.00000000e+00]\n",
      "[ 3.76358450e-05  7.44839110e-03 -6.85446354e-02  3.13012901e-01  5.46400687e-01  1.19274639e-01 -5.27921778e-02  1.06956469e-01 -1.04092835e-01  3.31124351e-02 -1.12850059e-02  0.00000000e+00  0.00000000e+00  0.00000000e+00  0.00000000e+00  0.00000000e+00]\n",
      "\n",
      "n: 1\n",
      "Ghost Cells:\n",
      "[ -2.27974271 -10.998391   -32.06096064]\n",
      "[-1.78334036 -1.36539472 -0.77450652]\n",
      "\n",
      "[-2.49521096e-03  2.42343288e-02 -1.03510791e-01  1.56749471e-01  5.76723308e-01  2.74235944e-01 -7.25460791e-02  1.24298983e-01 -3.58838948e-01 -3.21771754e-02  6.83305838e-02 -3.57477843e-02  5.81677741e-03 -5.31980281e-04  0.00000000e+00  0.00000000e+00]\n",
      "[-2.49521096e-03  2.42343288e-02 -1.03510791e-01  1.56749471e-01  5.76879949e-01  2.87826037e-01 -1.19387175e-01  2.91623128e-01 -2.09136741e-01 -3.82724967e-02  4.05228010e-02 -1.82728773e-02  2.90838871e-03 -2.65990141e-04  0.00000000e+00  0.00000000e+00]\n",
      "\n",
      "n: 2\n",
      "Ghost Cells:\n",
      "[ -0.47694608  -3.42928018 -11.56155852]\n",
      "[22.082191    7.3450233   1.23483271]\n",
      "\n",
      "[-8.31504164e-03  4.15644333e-02 -1.00109553e-01  3.36015249e-03  5.16775195e-01  4.61292438e-01 -5.35866870e-02 -3.48298863e-02  6.54160917e-01 -5.59119558e-01  1.53708489e-01  2.68986101e-02 -3.57760443e-02  1.18709194e-02 -2.25642508e-03  2.31144474e-04]\n",
      "[-8.31504164e-03  4.15662794e-02 -9.99632376e-02  1.66230016e-03  5.27830341e-01  4.53522679e-01 -8.82368202e-02  2.26468902e-01 -2.37139128e-02 -2.27960320e-01  8.82236816e-02  1.01123230e-02 -1.75221877e-02  5.92135343e-03 -1.12821254e-03  1.15572237e-04]\n",
      "\n",
      "n: 3\n",
      "Ghost Cells:\n",
      "[ 7.12255585 29.21823733 77.98319878]\n",
      "[46.97425518 19.04476889  5.50038611]\n",
      "\n",
      "[-0.01643516  0.05128866 -0.06325717 -0.12250157  0.38213096  0.6469228   0.02146963 -0.37390175  2.37764045 -1.00346714 -0.11689281  0.24902722 -0.05767085 -0.01518684  0.01338303 -0.00442256]\n",
      "[-0.01646745  0.05162237 -0.06479742 -0.11983818  0.39558105  0.55506117  0.23101301 -0.66289265  0.80211295 -0.29214299 -0.082827    0.12002895 -0.02698402 -0.00785153  0.00670944 -0.00221178]\n",
      "\n"
     ]
    }
   ],
   "source": [
    "\n",
    "# waveInit = WFT.InitCond(omega, physics, func, args)\n",
    "# # Add provision into InitCond to zero out anything below the tolerance.\n",
    "# testGhostCells()\n",
    "\n",
    "# waveInit[abs(waveInit) < 1e-15] = 0\n",
    "\n",
    "# E = waveInit[:degFreed]\n",
    "# B = waveInit[degFreed:]\n",
    "\n",
    "phi_fn = lambda x: exp(-((x-mu)/sigma)**2)\n",
    "E = calcPhiAverage(phi_fn, xNode, dx, nh_min) # WFT.InitCond(omega, physics, func, args, field = 'E') # SASHA VERSION\n",
    "E[abs(E) < 1e-15] = 0 # SASHA VERSION\n",
    "B = E / c1\n",
    "E0 = E\n",
    "B0 = B\n",
    "\n",
    "fn_rhs = calcRHSUpwind5\n",
    "difargs = [c1, c2, N, dx]\n",
    "\n",
    "for n in range(nt):\n",
    "    print('n:', n)\n",
    "    E, B = doRK1(E, B, dt, fn_rhs, difargs)\n",
    "    print(E)\n",
    "    print(B)\n",
    "    print('')\n"
   ]
  },
  {
   "cell_type": "code",
   "execution_count": 14,
   "metadata": {},
   "outputs": [
    {
     "data": {
      "image/png": "[encoded data removed]",
      "text/plain": [
       "<Figure size 432x288 with 1 Axes>"
      ]
     },
     "metadata": {
      "needs_background": "light"
     },
     "output_type": "display_data"
    }
   ],
   "source": [
    "plt.figure()\n",
    "plt.plot(xCell, E0)\n",
    "plt.plot(xCell, E)\n",
    "plt.title(r'$E$ Field')\n",
    "plt.grid(True, axis = 'y', zorder = 0)\n",
    "plt.show()"
   ]
  },
  {
   "cell_type": "code",
   "execution_count": 15,
   "metadata": {},
   "outputs": [
    {
     "data": {
      "image/png": "[encoded data removed]",
      "text/plain": [
       "<Figure size 432x288 with 1 Axes>"
      ]
     },
     "metadata": {
      "needs_background": "light"
     },
     "output_type": "display_data"
    }
   ],
   "source": [
    "plt.figure()\n",
    "plt.plot(xCell, B0)\n",
    "plt.plot(xCell, B)\n",
    "plt.title(r'$B$ Field')\n",
    "plt.grid(True, axis = 'y', zorder = 0)\n",
    "plt.show()"
   ]
  },
  {
   "cell_type": "code",
   "execution_count": null,
   "metadata": {},
   "outputs": [],
   "source": []
  },
  {
   "cell_type": "code",
   "execution_count": 16,
   "metadata": {},
   "outputs": [
    {
     "name": "stdout",
     "output_type": "stream",
     "text": [
      "14\n",
      "\n"
     ]
    }
   ],
   "source": [
    "## Calculate the RHS for E,B in Maxwell's equations using 5th-order upwind\n",
    "# def calcRHSUpwind5(E, B, c1, c2, N, dx):\n",
    "\n",
    "# Fill in ghost cells for left, right domain - need 3 for up5\n",
    "P = 5 # 5th-order interpolant\n",
    "Ng = 3 # 3 ghost cells for this stencil\n",
    "Eg1, Eg2 = ghostCellsJump(E,dx,N,Ng,P)\n",
    "Bg1, Bg2 = ghostCellsJump(B,dx,N,Ng,P)\n",
    "\n",
    "# Transform to the computational vars w/ eigen xform\n",
    "ix1 = np.arange(int(N/2))\n",
    "E1 = np.append(E[ix1], Eg1) # with ghost cell values at the jump\n",
    "B1 = np.append(B[ix1], Bg1)\n",
    "phil1 = .5*(E1-c1*B1) # characteristic variable\n",
    "phir1 = .5*(E1+c1*B1)\n",
    "ix2 = int(N/2)+np.arange(int(N/2))\n",
    "E2 = np.append(Eg2, E[ix2]) # with ghost cell values at the jump\n",
    "B2 = np.append(Bg2, B[ix2])\n",
    "phil2 = .5*(E2-c2*B2)\n",
    "phir2 = .5*(E2+c2*B2)\n",
    "\n",
    "# Regular Face stencil from cell-averages - upwind for right-moving\n",
    "# [2 -13 47 | 27 -3]/60\n",
    "sr = np.asarray([2, -13, 47, 27, -3])/60\n",
    "Ni = int(N/2+2*Ng) #  +3 ghost cells either side\n",
    "print(Ni)\n",
    "# Ur = spdiags(ones(Ni,1)*sr,[0:4],N/2+1,Ni)\n",
    "# sl = fliplr(sr);\n",
    "# Ul = spdiags(ones(Ni,1)*sl,[1:5],N/2+1,Ni);\n",
    "\n",
    "# % Face values from upwind (index 1:N for faces left of cell + 1 for mat)\n",
    "# phil1f = Ul*[phil1(1)*ones(3,1); phil1]; % outflow bc's on left\n",
    "# phir1f = Ur*[zeros(3,1); phir1]; % 0 at leftmost face for inflow boundary conditions\n",
    "# phil2f = Ul*[phil2; zeros(3,1)]; % 0 at rightmost face for inflow boundary conditions\n",
    "# phir2f = Ur*[phir2; phir2(N/2+Ng)*ones(3,1)];  % outflow bc's on right\n",
    "\n",
    "# % Correct values at material interface with jump conditions\n",
    "# ix = N/2+1;\n",
    "# T1 = 2*c1/(c1+c2);\n",
    "# R1 = (c2-c1)/(c1+c2);\n",
    "# phil1f(ix) = T1*phil2f(1) + R1*phir1f(ix);\n",
    "# T2 = 2*c2/(c1+c2);\n",
    "# R2 = (c1-c2)/(c1+c2);\n",
    "# phir2f(1) = R2*phil2f(1) + T2*phir1f(ix);\n",
    "\n",
    "# % Transform back to E,B on faces\n",
    "# E1f = phil1f + phir1f;\n",
    "# B1f = (-phil1f + phir1f)/c1;\n",
    "# E2f = phil2f + phir2f;\n",
    "# B2f = (-phil2f + phir2f)/c2;\n",
    "\n",
    "# % Calculate the RHS for E, B\n",
    "# ixf = 2:N/2+1;\n",
    "# rhsE = [-c1^2*(B1f(ixf) - B1f(ixf-1))/dx; -c2^2*(B2f(ixf) - B2f(ixf-1))/dx];\n",
    "# rhsB = [-1*(E1f(ixf) - E1f(ixf-1))/dx; -1*(E2f(ixf) - E2f(ixf-1))/dx];\n",
    "\n",
    "# return rhsE, rhsB\n",
    "print('')"
   ]
  },
  {
   "cell_type": "code",
   "execution_count": null,
   "metadata": {},
   "outputs": [],
   "source": []
  },
  {
   "cell_type": "code",
   "execution_count": null,
   "metadata": {},
   "outputs": [],
   "source": []
  },
  {
   "cell_type": "code",
   "execution_count": null,
   "metadata": {},
   "outputs": [],
   "source": []
  }
 ],
 "metadata": {
  "kernelspec": {
   "display_name": "Python 3",
   "language": "python",
   "name": "python3"
  },
  "language_info": {
   "codemirror_mode": {
    "name": "ipython",
    "version": 3
   },
   "file_extension": ".py",
   "mimetype": "text/x-python",
   "name": "python",
   "nbconvert_exporter": "python",
   "pygments_lexer": "ipython3",
   "version": "3.7.3"
  }
 },
 "nbformat": 4,
 "nbformat_minor": 2
}
