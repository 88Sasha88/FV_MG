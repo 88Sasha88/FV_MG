{
 "cells": [
  {
   "cell_type": "markdown",
   "metadata": {},
   "source": [
    "First lets do a node-based FFT, based on these basis functions:\n",
    "\n",
    "\n",
    "$s^k_i = sin(2 \\pi k x_i)$\n",
    "$c^k_i = cos(2 \\pi k x_i)$\n",
    "\n",
    "where $x_i = i / N$ for $i \\in [0, \\dots, N-1]$"
   ]
  },
  {
   "cell_type": "code",
   "execution_count": 1,
   "metadata": {},
   "outputs": [],
   "source": [
    "import numpy as np\n",
    "import numpy.fft as fft"
   ]
  },
  {
   "cell_type": "code",
   "execution_count": 2,
   "metadata": {},
   "outputs": [],
   "source": [
    "# Number of points in domain - don't forget x=1 is periodic wrap of x=0\n",
    "N=8"
   ]
  },
  {
   "cell_type": "code",
   "execution_count": 3,
   "metadata": {},
   "outputs": [],
   "source": [
    "# Create the node-based functions\n",
    "x_node = np.linspace(0,1-1/N,N)  # x node values from 0 ... not including 1\n",
    "basis_k = np.zeros((N,N))  # basis functions\n",
    "basis_k[:,0] = np.ones(N)  # k=0 mode\n",
    "key_k = ['c0']  # labels for modes\n",
    "# Fill in sin/cos modes for k between 0 and N/2\n",
    "for k in range(1,int(N/2)):\n",
    "    key_k.append(f's{k}')\n",
    "    key_k.append(f'c{k}')\n",
    "    basis_k[:,2*k-1] = np.sin(2*np.pi*k*x_node)\n",
    "    basis_k[:,2*k] = np.cos(2*np.pi*k*x_node)\n",
    "basis_k[:,N-1] = 1 - 2*np.mod(np.array(range(0,N)),2)  # +1/-1 highest mode\n",
    "key_k.append(f'c{N-1}') "
   ]
  },
  {
   "cell_type": "code",
   "execution_count": 4,
   "metadata": {},
   "outputs": [
    {
     "data": {
      "text/plain": [
       "['c0', 's1', 'c1', 's2', 'c2', 's3', 'c3', 'c7']"
      ]
     },
     "execution_count": 4,
     "metadata": {},
     "output_type": "execute_result"
    }
   ],
   "source": [
    "key_k"
   ]
  },
  {
   "cell_type": "code",
   "execution_count": 5,
   "metadata": {},
   "outputs": [
    {
     "data": {
      "text/plain": [
       "array([[ 0.+0.j,  0.+0.j,  0.+0.j,  0.+0.j,  8.+0.j,  0.+0.j,  0.+0.j,\n",
       "         0.+0.j],\n",
       "       [ 0.+0.j,  0.+0.j,  0.+0.j, -0.+4.j,  0.+0.j, -0.-4.j,  0.-0.j,\n",
       "         0.+0.j],\n",
       "       [-0.+0.j,  0.-0.j,  0.-0.j,  4.+0.j, -0.+0.j,  4.-0.j,  0.+0.j,\n",
       "         0.+0.j],\n",
       "       [ 0.+0.j,  0.+0.j, -0.+4.j,  0.-0.j,  0.+0.j,  0.+0.j, -0.-4.j,\n",
       "         0.-0.j],\n",
       "       [ 0.+0.j,  0.+0.j,  4.+0.j, -0.+0.j, -0.+0.j, -0.+0.j,  4.-0.j,\n",
       "         0.+0.j],\n",
       "       [ 0.+0.j, -0.+4.j,  0.-0.j,  0.+0.j, -0.+0.j,  0.-0.j,  0.+0.j,\n",
       "        -0.-4.j],\n",
       "       [ 0.+0.j,  4.+0.j, -0.-0.j,  0.+0.j, -0.+0.j,  0.-0.j, -0.+0.j,\n",
       "         4.-0.j],\n",
       "       [ 8.+0.j,  0.+0.j,  0.+0.j,  0.+0.j,  0.+0.j,  0.+0.j,  0.+0.j,\n",
       "         0.+0.j]])"
      ]
     },
     "execution_count": 5,
     "metadata": {},
     "output_type": "execute_result"
    }
   ],
   "source": [
    "# Look at the fft of these\n",
    "xhat = fft.fft(basis_k.T)  # FFT operates on rows, apparently\n",
    "# xhat = np.round(xhat,15)\n",
    "xhat = np.round(fft.fftshift(xhat, axes=1),14)\n",
    "\n",
    "# Note that this is N * the ideal coefficients\n",
    "xhat"
   ]
  },
  {
   "cell_type": "code",
   "execution_count": 6,
   "metadata": {},
   "outputs": [],
   "source": [
    "# Uncomment if you want to see the FFT shift documentation, it's pretty clear\n",
    "# help(fft.fftshift)"
   ]
  },
  {
   "cell_type": "code",
   "execution_count": null,
   "metadata": {},
   "outputs": [],
   "source": []
  }
 ],
 "metadata": {
  "kernelspec": {
   "display_name": "Python 3",
   "language": "python",
   "name": "python3"
  },
  "language_info": {
   "codemirror_mode": {
    "name": "ipython",
    "version": 3
   },
   "file_extension": ".py",
   "mimetype": "text/x-python",
   "name": "python",
   "nbconvert_exporter": "python",
   "pygments_lexer": "ipython3",
   "version": "3.7.8"
  }
 },
 "nbformat": 4,
 "nbformat_minor": 4
}
