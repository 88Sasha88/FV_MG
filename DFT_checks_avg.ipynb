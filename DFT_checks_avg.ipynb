{
 "cells": [
  {
   "cell_type": "markdown",
   "metadata": {},
   "source": [
    "First lets do the avg-based FFT, based on these basis functions:\n",
    "\n",
    "\n",
    "$\\bar{s}^k_i = \\left< sin(2 \\pi k x) \\right>_i$\n",
    "\n",
    "$\\bar{c}^k_i = \\left< cos(2 \\pi k x) \\right>_i$\n",
    "\n",
    "where $x_i = i / N$ for $i \\in [0, \\dots, N-1]$, and  $\\left< \\cdot\\right>_i$ means average over $[x_i,x_{i+1}]$"
   ]
  },
  {
   "cell_type": "code",
   "execution_count": 1,
   "metadata": {},
   "outputs": [
    {
     "data": {
      "text/html": [
       "<style>pre { white-space: pre !important; }</style>"
      ],
      "text/plain": [
       "<IPython.core.display.HTML object>"
      ]
     },
     "metadata": {},
     "output_type": "display_data"
    }
   ],
   "source": [
    "import numpy as np\n",
    "import numpy.fft as fft\n",
    "\n",
    "# NOTE - these lines will shut off wrapping so scrollbar instead\n",
    "from IPython.core.display import HTML\n",
    "display(HTML(\"<style>pre { white-space: pre !important; }</style>\"))\n",
    "np.set_printoptions( linewidth=1000)"
   ]
  },
  {
   "cell_type": "code",
   "execution_count": 2,
   "metadata": {},
   "outputs": [],
   "source": [
    "# Number of points in domain - don't forget x=1 is periodic wrap of x=0\n",
    "N=8"
   ]
  },
  {
   "cell_type": "code",
   "execution_count": 3,
   "metadata": {},
   "outputs": [],
   "source": [
    "# Create the node-based functions\n",
    "x_node = np.linspace(0,1-1/N,N)  # x node values from 0 ... not including 1\n",
    "dx = 1/N  # cell spacing\n",
    "basis_k = np.zeros((N,N))  # basis functions\n",
    "basis_k[:,0] = np.ones(N)  # k=0 mode\n",
    "key_k = ['c0']  # labels for modes\n",
    "k_vals = np.zeros(N)  # for k numbers\n",
    "# Fill in sin/cos modes for k between 0 and N/2\n",
    "x_lo = x_node[0:N]  # left cell edges\n",
    "x_hi = np.append(x_node[1:N],[1])  # right cell edges"
   ]
  },
  {
   "cell_type": "code",
   "execution_count": 4,
   "metadata": {
    "scrolled": true
   },
   "outputs": [
    {
     "data": {
      "text/plain": [
       "array([[ 1.        ,  1.        ,  1.        ,  1.        ,  1.        ,  1.        ,  1.        ,  1.        ],\n",
       "       [ 0.37292323,  0.90031632,  0.90031632,  0.37292323, -0.37292323, -0.90031632, -0.90031632, -0.37292323],\n",
       "       [ 0.90031632,  0.37292323, -0.37292323, -0.90031632, -0.90031632, -0.37292323,  0.37292323,  0.90031632],\n",
       "       [ 0.63661977,  0.63661977, -0.63661977, -0.63661977,  0.63661977,  0.63661977, -0.63661977, -0.63661977],\n",
       "       [ 0.63661977, -0.63661977, -0.63661977,  0.63661977,  0.63661977, -0.63661977, -0.63661977,  0.63661977],\n",
       "       [ 0.72451862, -0.30010544, -0.30010544,  0.72451862, -0.72451862,  0.30010544,  0.30010544, -0.72451862],\n",
       "       [ 0.30010544, -0.72451862,  0.72451862, -0.30010544, -0.30010544,  0.72451862, -0.72451862,  0.30010544],\n",
       "       [ 0.63661977, -0.63661977,  0.63661977, -0.63661977,  0.63661977, -0.63661977,  0.63661977, -0.63661977]])"
      ]
     },
     "execution_count": 4,
     "metadata": {},
     "output_type": "execute_result"
    }
   ],
   "source": [
    "# Initialize the avg of each basis\n",
    "for k in range(1,int(N/2)):\n",
    "    k_vals[2*k-1] = k\n",
    "    k_vals[2*k] = k\n",
    "    key_k.append(f's{k}')\n",
    "    key_k.append(f'c{k}')\n",
    "    tpik = 2*np.pi*k\n",
    "    basis_k[:,2*k-1] = -1/(tpik*dx)*(np.cos(tpik*x_hi) - np.cos(tpik*x_lo))\n",
    "    basis_k[:,2*k] = 1/(tpik*dx)*(np.sin(tpik*x_hi) - np.sin(tpik*x_lo))\n",
    "basis_k[:,N-1] = (2/np.pi)*(1 - 2*np.mod(np.array(range(0,N)),2))  # cell avg of +/- highest sin mode\n",
    "key_k.append(f's{int(N/2)}') \n",
    "k_vals[N-1]=int(N/2)\n",
    "basis_k.T  # each row is a mode for coef 1 in front of that sign wave"
   ]
  },
  {
   "cell_type": "code",
   "execution_count": 5,
   "metadata": {},
   "outputs": [
    {
     "name": "stdout",
     "output_type": "stream",
     "text": [
      "['c0', 's1', 'c1', 's2', 'c2', 's3', 'c3', 's4']\n",
      "[0. 1. 1. 2. 2. 3. 3. 4.]\n"
     ]
    }
   ],
   "source": [
    "print(key_k)\n",
    "print(k_vals)"
   ]
  },
  {
   "cell_type": "code",
   "execution_count": 6,
   "metadata": {},
   "outputs": [
    {
     "name": "stdout",
     "output_type": "stream",
     "text": [
      "Laplacian = \n",
      "[[-2  1  0  0  0  0  0  1]\n",
      " [ 1 -2  1  0  0  0  0  0]\n",
      " [ 0  1 -2  1  0  0  0  0]\n",
      " [ 0  0  1 -2  1  0  0  0]\n",
      " [ 0  0  0  1 -2  1  0  0]\n",
      " [ 0  0  0  0  1 -2  1  0]\n",
      " [ 0  0  0  0  0  1 -2  1]\n",
      " [ 1  0  0  0  0  0  1 -2]]\n"
     ]
    }
   ],
   "source": [
    "# Create a Laplacian\n",
    "ones = np.full(N,1)\n",
    "lapl = np.diagflat(-2*ones,0) + np.diagflat(ones[1:N],1) \\\n",
    "       + np.diagflat(ones[1:N],-1)\n",
    "lapl[0,N-1] = 1\n",
    "lapl[N-1,0] = 1\n",
    "print('Laplacian = \\n' + str(lapl))"
   ]
  },
  {
   "cell_type": "code",
   "execution_count": 7,
   "metadata": {},
   "outputs": [
    {
     "name": "stdout",
     "output_type": "stream",
     "text": [
      "[ 0.         -0.58578644 -0.58578644 -2.         -2.         -3.41421356 -3.41421356 -4.        ]\n",
      "\n",
      "Laplacian eigenvector/value test passed!\n"
     ]
    }
   ],
   "source": [
    "# See what L * our modes are, and the eigenvalues\n",
    "Lv_ratio = np.zeros((N,N))\n",
    "eigvals = np.zeros(N)\n",
    "for k in range(0,N):\n",
    "    Lv = lapl@basis_k[:,k]\n",
    "    Lv_ratio[k,:] = Lv / basis_k[:,k]\n",
    "    # This will make sure all the entry-wise values are the same\n",
    "    if np.isclose(Lv_ratio[k,:], Lv_ratio[k,0], 1e-14).all():\n",
    "        eigvals[k] = Lv_ratio[k,0]\n",
    "\n",
    "print(eigvals)\n",
    "test_eigvals = -2 + 2*np.cos(2*np.pi*k_vals/N)\n",
    "# Check theoretical eigenvalues vs. what we calculated from cell-averages\n",
    "assert np.isclose(eigvals, test_eigvals, 1e-14).all()\n",
    "\n",
    "print('\\nLaplacian eigenvector/value test passed!')"
   ]
  },
  {
   "cell_type": "code",
   "execution_count": 8,
   "metadata": {},
   "outputs": [
    {
     "name": "stdout",
     "output_type": "stream",
     "text": [
      "[[ 8.          0.         -0.         -0.         -0.          0.         -0.          0.        ]\n",
      " [ 0.          3.79856481 -0.          0.          0.          0.          0.         -0.        ]\n",
      " [-0.         -0.          3.79856481 -0.         -0.          0.         -0.         -0.        ]\n",
      " [-0.          0.         -0.          3.24227788 -0.          0.         -0.          0.        ]\n",
      " [-0.          0.         -0.         -0.          3.24227788  0.         -0.         -0.        ]\n",
      " [ 0.          0.          0.          0.          0.          2.45996202 -0.          0.        ]\n",
      " [-0.          0.         -0.         -0.         -0.         -0.          2.45996202 -0.        ]\n",
      " [ 0.         -0.         -0.          0.         -0.          0.         -0.          3.24227788]]\n"
     ]
    },
    {
     "data": {
      "text/plain": [
       "array([8.        , 3.79856481, 3.79856481, 3.24227788, 3.24227788, 2.45996202, 2.45996202, 3.24227788])"
      ]
     },
     "execution_count": 8,
     "metadata": {},
     "output_type": "execute_result"
    }
   ],
   "source": [
    "# Show they're orthogonal, too\n",
    "orth_k = np.round(basis_k.T@basis_k,14)\n",
    "print(orth_k)\n",
    "\n",
    "# NOTE: we need these for coef scaling on the transform!\n",
    "scale_k = np.diag(orth_k)\n",
    "scale_k"
   ]
  },
  {
   "cell_type": "code",
   "execution_count": 9,
   "metadata": {},
   "outputs": [
    {
     "name": "stdout",
     "output_type": "stream",
     "text": [
      "FV_FFT = \n",
      "[[ 0.125       0.125       0.125       0.125       0.125       0.125       0.125       0.125     ]\n",
      " [ 0.09817477  0.23701486  0.23701486  0.09817477 -0.09817477 -0.23701486 -0.23701486 -0.09817477]\n",
      " [ 0.23701486  0.09817477 -0.09817477 -0.23701486 -0.23701486 -0.09817477  0.09817477  0.23701486]\n",
      " [ 0.19634954  0.19634954 -0.19634954 -0.19634954  0.19634954  0.19634954 -0.19634954 -0.19634954]\n",
      " [ 0.19634954 -0.19634954 -0.19634954  0.19634954  0.19634954 -0.19634954 -0.19634954  0.19634954]\n",
      " [ 0.29452431 -0.12199596 -0.12199596  0.29452431 -0.29452431  0.12199596  0.12199596 -0.29452431]\n",
      " [ 0.12199596 -0.29452431  0.29452431 -0.12199596 -0.12199596  0.29452431 -0.29452431  0.12199596]\n",
      " [ 0.19634954 -0.19634954  0.19634954 -0.19634954  0.19634954 -0.19634954  0.19634954 -0.19634954]]\n",
      "[ 1.  -2.   0.  -0.  -0.   0.  -0.   0.5]\n",
      "\n",
      "Tests passed\n"
     ]
    }
   ],
   "source": [
    "# For example, let's test for some combination of modes\n",
    "y = 1*basis_k[:,0] - 2*basis_k[:,1] + .5*basis_k[:,N-1]\n",
    "# Another way to create this is with matrix mult\n",
    "test_coef = np.zeros(N)\n",
    "test_coef[0] = 1\n",
    "test_coef[1] = -2\n",
    "test_coef[N-1] = .5\n",
    "test_y = test_coef@basis_k.T\n",
    "assert np.isclose(y, test_y, 1e-14).all()\n",
    "\n",
    "# This is the official representation of our fv_fft as a matrix\n",
    "fv_fft = np.diagflat(1/scale_k)@basis_k.T\n",
    "print('FV_FFT = ')\n",
    "print(fv_fft)\n",
    "# coef = (basis_k.T@y) / scale_k\n",
    "coef = fv_fft@y\n",
    "print(np.round(coef, 14))\n",
    "assert np.isclose(coef, test_coef, 1e-14).all()\n",
    "\n",
    "print('\\nTests passed')"
   ]
  },
  {
   "cell_type": "code",
   "execution_count": null,
   "metadata": {},
   "outputs": [],
   "source": []
  }
 ],
 "metadata": {
  "kernelspec": {
   "display_name": "Python 3",
   "language": "python",
   "name": "python3"
  },
  "language_info": {
   "codemirror_mode": {
    "name": "ipython",
    "version": 3
   },
   "file_extension": ".py",
   "mimetype": "text/x-python",
   "name": "python",
   "nbconvert_exporter": "python",
   "pygments_lexer": "ipython3",
   "version": "3.7.3"
  }
 },
 "nbformat": 4,
 "nbformat_minor": 4
}
