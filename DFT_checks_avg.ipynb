{
 "cells": [
  {
   "cell_type": "markdown",
   "metadata": {},
   "source": [
    "First lets do the avg-based FFT, based on these basis functions:\n",
    "\n",
    "\n",
    "$\\bar{s}^k_i = \\left< sin(2 \\pi k x) \\right>_i$\n",
    "\n",
    "$\\bar{c}^k_i = \\left< cos(2 \\pi k x) \\right>_i$\n",
    "\n",
    "where $x_i = i / N$ for $i \\in [0, \\dots, N-1]$, and  $\\left< \\cdot\\right>_i$ means average over $[x_i,x_{i+1}]$"
   ]
  },
  {
   "cell_type": "code",
   "execution_count": 1,
   "metadata": {},
   "outputs": [
    {
     "data": {
      "text/html": [
       "<style>pre { white-space: pre !important; }</style>"
      ],
      "text/plain": [
       "<IPython.core.display.HTML object>"
      ]
     },
     "metadata": {},
     "output_type": "display_data"
    }
   ],
   "source": [
    "import numpy as np\n",
    "import numpy.fft as fft\n",
    "import numpy.linalg as LA\n",
    "\n",
    "# NOTE - these lines will shut off wrapping so scrollbar instead\n",
    "from IPython.core.display import HTML\n",
    "display(HTML(\"<style>pre { white-space: pre !important; }</style>\"))\n",
    "np.set_printoptions( linewidth=1000)"
   ]
  },
  {
   "cell_type": "code",
   "execution_count": 2,
   "metadata": {},
   "outputs": [],
   "source": [
    "# Number of points in domain - don't forget x=1 is periodic wrap of x=0\n",
    "N=8"
   ]
  },
  {
   "cell_type": "code",
   "execution_count": 3,
   "metadata": {},
   "outputs": [],
   "source": [
    "# Create the node-based functions\n",
    "x_node = np.linspace(0,1-1/N,N)  # x node values from 0 ... not including 1\n",
    "dx = 1/N  # cell spacing\n",
    "basis_k = np.zeros((N,N))  # basis functions\n",
    "basis_k[:,0] = np.ones(N)  # k=0 mode\n",
    "key_k = ['c0']  # labels for modes\n",
    "k_vals = np.zeros(N)  # for k numbers\n",
    "# Fill in sin/cos modes for k between 0 and N/2\n",
    "x_lo = x_node[0:N]  # left cell edges\n",
    "x_hi = np.append(x_node[1:N],[1])  # right cell edges"
   ]
  },
  {
   "cell_type": "code",
   "execution_count": 4,
   "metadata": {
    "scrolled": true
   },
   "outputs": [
    {
     "data": {
      "text/plain": [
       "array([[ 1.        ,  0.37292323,  0.90031632,  0.63661977,  0.63661977,  0.72451862,  0.30010544,  0.63661977],\n",
       "       [ 1.        ,  0.90031632,  0.37292323,  0.63661977, -0.63661977, -0.30010544, -0.72451862, -0.63661977],\n",
       "       [ 1.        ,  0.90031632, -0.37292323, -0.63661977, -0.63661977, -0.30010544,  0.72451862,  0.63661977],\n",
       "       [ 1.        ,  0.37292323, -0.90031632, -0.63661977,  0.63661977,  0.72451862, -0.30010544, -0.63661977],\n",
       "       [ 1.        , -0.37292323, -0.90031632,  0.63661977,  0.63661977, -0.72451862, -0.30010544,  0.63661977],\n",
       "       [ 1.        , -0.90031632, -0.37292323,  0.63661977, -0.63661977,  0.30010544,  0.72451862, -0.63661977],\n",
       "       [ 1.        , -0.90031632,  0.37292323, -0.63661977, -0.63661977,  0.30010544, -0.72451862,  0.63661977],\n",
       "       [ 1.        , -0.37292323,  0.90031632, -0.63661977,  0.63661977, -0.72451862,  0.30010544, -0.63661977]])"
      ]
     },
     "execution_count": 4,
     "metadata": {},
     "output_type": "execute_result"
    }
   ],
   "source": [
    "# Initialize the avg of each basis\n",
    "max_k = int(N/2)\n",
    "for k in range(1,max_k):\n",
    "    k_vals[2*k-1] = k\n",
    "    k_vals[2*k] = k\n",
    "    key_k.append(f's{k}')\n",
    "    key_k.append(f'c{k}')\n",
    "    tpik = 2*np.pi*k\n",
    "    basis_k[:,2*k-1] = -1/(tpik*dx)*(np.cos(tpik*x_hi) - np.cos(tpik*x_lo))\n",
    "    basis_k[:,2*k] = 1/(tpik*dx)*(np.sin(tpik*x_hi) - np.sin(tpik*x_lo))\n",
    "\n",
    "# cell avg of +/- highest sin mode\n",
    "tpik = 2*np.pi*max_k\n",
    "basis_k[:,N-1] = -1/(tpik*dx)*(np.cos(tpik*x_hi) - np.cos(tpik*x_lo))\n",
    "key_k.append(f's{max_k}') \n",
    "k_vals[N-1]=max_k\n",
    "basis_k  # each row is a mode for coef 1 in front of that sin/cos wave number k"
   ]
  },
  {
   "cell_type": "code",
   "execution_count": 5,
   "metadata": {},
   "outputs": [
    {
     "name": "stdout",
     "output_type": "stream",
     "text": [
      "['c0', 's1', 'c1', 's2', 'c2', 's3', 'c3', 's4']\n",
      "[0. 1. 1. 2. 2. 3. 3. 4.]\n"
     ]
    }
   ],
   "source": [
    "print(key_k)\n",
    "print(k_vals)"
   ]
  },
  {
   "cell_type": "code",
   "execution_count": 6,
   "metadata": {},
   "outputs": [
    {
     "name": "stdout",
     "output_type": "stream",
     "text": [
      "Laplacian = \n",
      "[[-2  1  0  0  0  0  0  1]\n",
      " [ 1 -2  1  0  0  0  0  0]\n",
      " [ 0  1 -2  1  0  0  0  0]\n",
      " [ 0  0  1 -2  1  0  0  0]\n",
      " [ 0  0  0  1 -2  1  0  0]\n",
      " [ 0  0  0  0  1 -2  1  0]\n",
      " [ 0  0  0  0  0  1 -2  1]\n",
      " [ 1  0  0  0  0  0  1 -2]]\n"
     ]
    }
   ],
   "source": [
    "# Create a Laplacian\n",
    "ones = np.full(N,1)\n",
    "lapl = np.diagflat(-2*ones,0) + np.diagflat(ones[1:N],1) \\\n",
    "       + np.diagflat(ones[1:N],-1)\n",
    "lapl[0,N-1] = 1\n",
    "lapl[N-1,0] = 1\n",
    "print('Laplacian = \\n' + str(lapl))"
   ]
  },
  {
   "cell_type": "code",
   "execution_count": 7,
   "metadata": {},
   "outputs": [
    {
     "name": "stdout",
     "output_type": "stream",
     "text": [
      "[ 0.         -0.58578644 -0.58578644 -2.         -2.         -3.41421356 -3.41421356 -4.        ]\n",
      "\n",
      "Laplacian eigenvector/value test passed!\n"
     ]
    }
   ],
   "source": [
    "# See what L * our modes are, and the eigenvalues\n",
    "Lv_ratio = np.zeros((N,N))\n",
    "eigvals = np.zeros(N)\n",
    "for k in range(0,N):\n",
    "    Lv = lapl@basis_k[:,k]\n",
    "    Lv_ratio[k,:] = Lv / basis_k[:,k]\n",
    "    # This will make sure all the entry-wise values are the same\n",
    "    if np.isclose(Lv_ratio[k,:], Lv_ratio[k,0], 1e-14).all():\n",
    "        eigvals[k] = Lv_ratio[k,0]\n",
    "\n",
    "print(eigvals)\n",
    "test_eigvals = -2 + 2*np.cos(2*np.pi*k_vals/N)\n",
    "# Check theoretical eigenvalues vs. what we calculated from cell-averages\n",
    "assert np.isclose(eigvals, test_eigvals, 1e-14).all()\n",
    "\n",
    "print('\\nLaplacian eigenvector/value test passed!')"
   ]
  },
  {
   "cell_type": "code",
   "execution_count": 8,
   "metadata": {},
   "outputs": [
    {
     "name": "stdout",
     "output_type": "stream",
     "text": [
      "[[ 8.          0.         -0.         -0.         -0.          0.         -0.          0.        ]\n",
      " [ 0.          3.79856481 -0.          0.          0.          0.          0.         -0.        ]\n",
      " [-0.         -0.          3.79856481 -0.         -0.          0.         -0.         -0.        ]\n",
      " [-0.          0.         -0.          3.24227788 -0.          0.         -0.          0.        ]\n",
      " [-0.          0.         -0.         -0.          3.24227788  0.         -0.         -0.        ]\n",
      " [ 0.          0.          0.          0.          0.          2.45996202 -0.          0.        ]\n",
      " [-0.          0.         -0.         -0.         -0.         -0.          2.45996202 -0.        ]\n",
      " [ 0.         -0.         -0.          0.         -0.          0.         -0.          3.24227788]]\n"
     ]
    },
    {
     "data": {
      "text/plain": [
       "array([8.        , 3.79856481, 3.79856481, 3.24227788, 3.24227788, 2.45996202, 2.45996202, 3.24227788])"
      ]
     },
     "execution_count": 8,
     "metadata": {},
     "output_type": "execute_result"
    }
   ],
   "source": [
    "# Show they're orthogonal, too\n",
    "orth_k = np.round(basis_k.T@basis_k,14)\n",
    "print(orth_k)\n",
    "\n",
    "# NOTE: we need these for coef scaling on the transform!\n",
    "scale_k = np.diag(orth_k)\n",
    "scale_k"
   ]
  },
  {
   "cell_type": "code",
   "execution_count": 9,
   "metadata": {},
   "outputs": [
    {
     "name": "stdout",
     "output_type": "stream",
     "text": [
      "[[ 0.125       0.         -0.         -0.         -0.          0.         -0.          0.        ]\n",
      " [ 0.          0.26325732 -0.          0.          0.          0.          0.          0.        ]\n",
      " [-0.         -0.          0.26325732 -0.         -0.         -0.         -0.         -0.        ]\n",
      " [-0.          0.         -0.          0.30842514  0.          0.         -0.          0.        ]\n",
      " [-0.          0.         -0.          0.          0.30842514  0.         -0.         -0.        ]\n",
      " [ 0.          0.         -0.          0.          0.          0.40651034 -0.          0.        ]\n",
      " [-0.          0.         -0.         -0.         -0.         -0.          0.40651034 -0.        ]\n",
      " [ 0.          0.         -0.          0.         -0.          0.         -0.          0.30842514]]\n",
      "[[0.125      0.         0.         0.         0.         0.         0.         0.        ]\n",
      " [0.         0.26325732 0.         0.         0.         0.         0.         0.        ]\n",
      " [0.         0.         0.26325732 0.         0.         0.         0.         0.        ]\n",
      " [0.         0.         0.         0.30842514 0.         0.         0.         0.        ]\n",
      " [0.         0.         0.         0.         0.30842514 0.         0.         0.        ]\n",
      " [0.         0.         0.         0.         0.         0.40651034 0.         0.        ]\n",
      " [0.         0.         0.         0.         0.         0.         0.40651034 0.        ]\n",
      " [0.         0.         0.         0.         0.         0.         0.         0.30842514]]\n",
      "sin/cos mode FV_FFT = \n",
      "[[ 0.125       0.125       0.125       0.125       0.125       0.125       0.125       0.125     ]\n",
      " [ 0.09817477  0.23701486  0.23701486  0.09817477 -0.09817477 -0.23701486 -0.23701486 -0.09817477]\n",
      " [ 0.23701486  0.09817477 -0.09817477 -0.23701486 -0.23701486 -0.09817477  0.09817477  0.23701486]\n",
      " [ 0.19634954  0.19634954 -0.19634954 -0.19634954  0.19634954  0.19634954 -0.19634954 -0.19634954]\n",
      " [ 0.19634954 -0.19634954 -0.19634954  0.19634954  0.19634954 -0.19634954 -0.19634954  0.19634954]\n",
      " [ 0.29452431 -0.12199596 -0.12199596  0.29452431 -0.29452431  0.12199596  0.12199596 -0.29452431]\n",
      " [ 0.12199596 -0.29452431  0.29452431 -0.12199596 -0.12199596  0.29452431 -0.29452431  0.12199596]\n",
      " [ 0.19634954 -0.19634954  0.19634954 -0.19634954  0.19634954 -0.19634954  0.19634954 -0.19634954]]\n",
      "y = [ 0.57246343 -1.11894252 -0.48232275 -0.06415634  2.06415634  2.48232275  3.11894252  1.42753657]\n",
      "[ 1.  -2.   0.   0.  -0.   0.  -0.   0.5]\n",
      "[[ 0. -0.  0. -0.  0.  0.  0.  0.]\n",
      " [ 0.  0.  0.  0. -0. -0. -0. -0.]\n",
      " [-0. -0.  0.  0.  0.  0. -0. -0.]\n",
      " [ 0.  0. -0. -0.  0.  0. -0. -0.]\n",
      " [ 0. -0. -0.  0.  0. -0. -0.  0.]\n",
      " [-0.  0.  0. -0.  0. -0. -0.  0.]\n",
      " [-0.  0. -0.  0.  0. -0.  0. -0.]\n",
      " [ 0. -0.  0. -0.  0. -0.  0.  0.]]\n",
      "\n",
      "Tests passed\n"
     ]
    }
   ],
   "source": [
    "# For example, let's test for some combination of modes\n",
    "y = 1*basis_k[:,0] - 2*basis_k[:,1] + .5*basis_k[:,N-1]\n",
    "# Another way to create this is with matrix mult\n",
    "test_coef = np.zeros(N)\n",
    "test_coef[0] = 1\n",
    "test_coef[1] = -2\n",
    "test_coef[N-1] = .5\n",
    "test_y = test_coef@basis_k.T\n",
    "mleh = basis_k@test_coef\n",
    "assert np.isclose(mleh, test_y, 1e-14).all()\n",
    "\n",
    "# This is the official representation of our fv_fft of sin/cos modes as a matrix\n",
    "fv_fft_sc = np.diagflat(1/scale_k)@basis_k.T\n",
    "\n",
    "print(np.round(fv_fft_sc@fv_fft_sc.T, 14)) # I put this here.\n",
    "print(np.round(np.diagflat(1/scale_k), 14)) # I put this here.\n",
    "print('sin/cos mode FV_FFT = ')\n",
    "print(fv_fft_sc)\n",
    "# coef = (basis_k.T@y) / scale_k\n",
    "coef = fv_fft_sc@y\n",
    "print('y =', y) # I put this here.\n",
    "print(np.round(coef, 14))\n",
    "print(np.round(LA.inv(basis_k) - fv_fft_sc, 14))\n",
    "assert np.isclose(coef, test_coef, 1e-14).all()\n",
    "\n",
    "print('\\nTests passed')"
   ]
  },
  {
   "cell_type": "code",
   "execution_count": 10,
   "metadata": {},
   "outputs": [
    {
     "name": "stdout",
     "output_type": "stream",
     "text": [
      "[[ 0. +0.j   0. +0.j   0. +0.j   0. +0.j   1. +0.j   0. +0.j   0. +0.j   0. +0.j ]\n",
      " [ 0. +0.j   0. +0.j   0. +0.j   0. +0.5j  0. +0.j  -0. -0.5j  0. +0.j   0. +0.j ]\n",
      " [ 0. +0.j   0. +0.j   0. +0.j   0.5+0.j   0. +0.j   0.5+0.j   0. +0.j   0. +0.j ]\n",
      " [ 0. +0.j   0. +0.j   0. +0.5j  0. +0.j   0. +0.j   0. +0.j  -0. -0.5j  0. +0.j ]\n",
      " [ 0. +0.j   0. +0.j   0.5+0.j   0. +0.j   0. +0.j   0. +0.j   0.5+0.j   0. +0.j ]\n",
      " [ 0. +0.j   0. +0.5j  0. +0.j   0. +0.j   0. +0.j   0. +0.j   0. +0.j  -0. -0.5j]\n",
      " [ 0. +0.j   0.5+0.j   0. +0.j   0. +0.j   0. +0.j   0. +0.j   0. +0.j   0.5+0.j ]\n",
      " [ 1. +0.j   0. +0.j   0. +0.j   0. +0.j   0. +0.j   0. +0.j   0. +0.j   0. +0.j ]]\n",
      "[[0. +0.j 0. +0.j 0. +0.j 0. +0.j 1. +0.j 0. +0.j 0. +0.j 0. +0.j]\n",
      " [0. +0.j 0. +0.j 0. +0.j 0.5+0.j 0. +0.j 0.5+0.j 0. +0.j 0. +0.j]\n",
      " [0. +0.j 0. +0.j 0.5+0.j 0. +0.j 0. +0.j 0. +0.j 0.5+0.j 0. +0.j]\n",
      " [0. +0.j 0.5+0.j 0. +0.j 0. +0.j 0. +0.j 0. +0.j 0. +0.j 0.5+0.j]]\n"
     ]
    }
   ],
   "source": [
    "# Last step is to output what the FFT output would be:\n",
    "# cos mode k has real coefs +/- 1/2 in +/- k slot\n",
    "# sin mode k has imag coefs -/+ j/2 in +/- k slot\n",
    "# put these in the same order as fftshift( ..., axis=1) would\n",
    "fft_coef_scale = np.zeros((N,N), dtype=complex)\n",
    "fft_coef_scale[0, max_k] = 1 # k=0 mode in max_k+1 column\n",
    "for k in range(1,max_k):\n",
    "    # sin mode\n",
    "    fft_coef_scale[2*k-1,max_k-k] = .5*1j\n",
    "    fft_coef_scale[2*k-1,max_k+k] = -.5*1j\n",
    "    # cos mode\n",
    "    fft_coef_scale[2*k,max_k-k] = .5\n",
    "    fft_coef_scale[2*k,max_k+k] = .5\n",
    "fft_coef_scale[N-1, 0] = 1 # k=max_k mode in first column\n",
    "fft_coef_scale\n",
    "blah = 1 * fft_coef_scale\n",
    "print(fft_coef_scale)\n",
    "print(blah[::2])"
   ]
  },
  {
   "cell_type": "code",
   "execution_count": 11,
   "metadata": {},
   "outputs": [
    {
     "data": {
      "text/plain": [
       "array([0.5+0.j, 0. +0.j, 0. +0.j, 0. -1.j, 1. +0.j, 0. +1.j, 0. +0.j, 0. +0.j])"
      ]
     },
     "execution_count": 11,
     "metadata": {},
     "output_type": "execute_result"
    }
   ],
   "source": [
    "# Convert our test coefs to fft coefs\n",
    "test_fft_y = fft_coef_scale.T@test_coef\n",
    "test_fft_y"
   ]
  },
  {
   "cell_type": "code",
   "execution_count": 12,
   "metadata": {},
   "outputs": [
    {
     "name": "stdout",
     "output_type": "stream",
     "text": [
      "[[ 8.00000000e+00+0.00000000e+00j  0.00000000e+00+0.00000000e+00j  0.00000000e+00+0.00000000e+00j  0.00000000e+00+0.00000000e+00j  0.00000000e+00+0.00000000e+00j  0.00000000e+00-0.00000000e+00j  0.00000000e+00-0.00000000e+00j  0.00000000e+00-0.00000000e+00j]\n",
      " [ 5.55111512e-17+0.00000000e+00j  1.49169291e+00-3.60126526e+00j  2.77555756e-16+0.00000000e+00j -4.44089210e-16+2.76130797e-16j  5.55111512e-17+0.00000000e+00j -4.44089210e-16-2.76130797e-16j  2.77555756e-16-0.00000000e+00j  1.49169291e+00+3.60126526e+00j]\n",
      " [-2.77555756e-16+0.00000000e+00j  3.60126526e+00+1.49169291e+00j  5.55111512e-17+0.00000000e+00j  1.70910491e-16+4.44089210e-16j -2.77555756e-16+0.00000000e+00j  1.70910491e-16-4.44089210e-16j  5.55111512e-17-0.00000000e+00j  3.60126526e+00-1.49169291e+00j]\n",
      " [ 0.00000000e+00+0.00000000e+00j -1.24491566e-16+1.43539982e-16j  2.54647909e+00-2.54647909e+00j  3.46536171e-16-3.00549228e-16j  4.44089210e-16+0.00000000e+00j  3.46536171e-16+3.00549228e-16j  2.54647909e+00+2.54647909e+00j -1.24491566e-16-1.43539982e-16j]\n",
      " [-4.44089210e-16+0.00000000e+00j -3.46536171e-16-3.00549228e-16j  2.54647909e+00+2.54647909e+00j  1.24491566e-16+1.43539982e-16j  0.00000000e+00+0.00000000e+00j  1.24491566e-16-1.43539982e-16j  2.54647909e+00-2.54647909e+00j -3.46536171e-16+3.00549228e-16j]\n",
      " [-5.55111512e-17+0.00000000e+00j  2.46362013e-16-2.22044605e-16j  3.88578059e-16+5.55111512e-16j  2.89807448e+00-1.20042175e+00j  1.05471187e-15+0.00000000e+00j  2.89807448e+00+1.20042175e+00j  3.88578059e-16-5.55111512e-16j  2.46362013e-16+2.22044605e-16j]\n",
      " [-2.22044605e-16+0.00000000e+00j -2.22044605e-16-6.24882999e-17j -4.99600361e-16-3.88578059e-16j  1.20042175e+00+2.89807448e+00j -7.77156117e-16+0.00000000e+00j  1.20042175e+00-2.89807448e+00j -4.99600361e-16+3.88578059e-16j -2.22044605e-16+6.24882999e-17j]\n",
      " [ 0.00000000e+00+0.00000000e+00j  0.00000000e+00+0.00000000e+00j  0.00000000e+00+0.00000000e+00j  0.00000000e+00+0.00000000e+00j  5.09295818e+00+0.00000000e+00j  0.00000000e+00-0.00000000e+00j  0.00000000e+00-0.00000000e+00j  0.00000000e+00-0.00000000e+00j]]\n",
      "[[ 0.        +0.j          0.        +0.j         -0.        +0.j          0.        +0.j          0.        +0.j          0.        +0.j         -0.        +0.j          5.09295818+0.j        ]\n",
      " [ 0.        -0.j         -0.        -0.j          0.        -0.j          0.        +0.j          0.        -0.j          2.89807448+1.20042175j  1.20042175-2.89807448j  0.        -0.j        ]\n",
      " [ 0.        -0.j          0.        -0.j          0.        -0.j          2.54647909+2.54647909j  2.54647909-2.54647909j  0.        -0.j         -0.        +0.j          0.        -0.j        ]\n",
      " [ 0.        -0.j          1.49169291+3.60126526j  3.60126526-1.49169291j -0.        -0.j         -0.        +0.j          0.        +0.j         -0.        +0.j          0.        -0.j        ]\n",
      " [ 8.        +0.j          0.        +0.j         -0.        +0.j          0.        +0.j         -0.        +0.j         -0.        +0.j         -0.        +0.j          0.        +0.j        ]\n",
      " [ 0.        +0.j          1.49169291-3.60126526j  3.60126526+1.49169291j -0.        +0.j         -0.        -0.j          0.        -0.j         -0.        -0.j          0.        +0.j        ]\n",
      " [ 0.        +0.j          0.        +0.j          0.        +0.j          2.54647909-2.54647909j  2.54647909+2.54647909j  0.        +0.j         -0.        -0.j          0.        +0.j        ]\n",
      " [ 0.        +0.j         -0.        +0.j          0.        +0.j          0.        -0.j          0.        +0.j          2.89807448-1.20042175j  1.20042175+2.89807448j  0.        +0.j        ]]\n"
     ]
    }
   ],
   "source": [
    "# Now do the whole thing with FFTs for cell avg modes now\n",
    "xhat = fft.fft(basis_k.T)  # FFT operates on rows, apparently\n",
    "print(xhat)\n",
    "# xhat = np.round(xhat,15)\n",
    "xhat = np.round(fft.fftshift(xhat, axes=1),14)\n",
    "xhat = xhat.T\n",
    "print(xhat)  # as column vectors of mode coefs"
   ]
  },
  {
   "cell_type": "code",
   "execution_count": 13,
   "metadata": {},
   "outputs": [
    {
     "data": {
      "text/plain": [
       "-1.5000000007227763"
      ]
     },
     "execution_count": 13,
     "metadata": {},
     "output_type": "execute_result"
    }
   ],
   "source": [
    "# Now we need to figure out what the phase/amplitude error is:\n",
    "# cos mode k has real coefs +/- 1/2 in +/- k slot\n",
    "# sin mode k has imag coefs -/+ j/2 in +/- k slot\n",
    "# This is the fft entry for the sin k=1 mode, which \n",
    "N*np.angle(1.49169291-3.60126526j)/(2*np.pi)  # note the N scaling"
   ]
  },
  {
   "cell_type": "code",
   "execution_count": 14,
   "metadata": {},
   "outputs": [
    {
     "data": {
      "text/plain": [
       "0.4999999992772236"
      ]
     },
     "execution_count": 14,
     "metadata": {},
     "output_type": "execute_result"
    }
   ],
   "source": [
    "# This is the entry for the cos k=1 mode, which should be real\n",
    "N*np.angle(3.60126526+1.49169291j)/(2*np.pi)"
   ]
  },
  {
   "cell_type": "code",
   "execution_count": 15,
   "metadata": {
    "scrolled": true
   },
   "outputs": [
    {
     "name": "stdout",
     "output_type": "stream",
     "text": [
      "xhat =\n",
      " [[ 0.        +0.j          0.        +0.j         -0.        +0.j          0.        +0.j          0.        +0.j          0.        +0.j         -0.        +0.j          5.09295818+0.j        ]\n",
      " [ 0.        -0.j         -0.        -0.j          0.        -0.j          0.        +0.j          0.        -0.j          2.89807448+1.20042175j  1.20042175-2.89807448j  0.        -0.j        ]\n",
      " [ 0.        -0.j          0.        -0.j          0.        -0.j          2.54647909+2.54647909j  2.54647909-2.54647909j  0.        -0.j         -0.        +0.j          0.        -0.j        ]\n",
      " [ 0.        -0.j          1.49169291+3.60126526j  3.60126526-1.49169291j -0.        -0.j         -0.        +0.j          0.        +0.j         -0.        +0.j          0.        -0.j        ]\n",
      " [ 8.        +0.j          0.        +0.j         -0.        +0.j          0.        +0.j         -0.        +0.j         -0.        +0.j         -0.        +0.j          0.        +0.j        ]\n",
      " [ 0.        +0.j          1.49169291-3.60126526j  3.60126526+1.49169291j -0.        +0.j         -0.        -0.j          0.        -0.j         -0.        -0.j          0.        +0.j        ]\n",
      " [ 0.        +0.j          0.        +0.j          0.        +0.j          2.54647909-2.54647909j  2.54647909+2.54647909j  0.        +0.j         -0.        -0.j          0.        +0.j        ]\n",
      " [ 0.        +0.j         -0.        +0.j          0.        +0.j          0.        -0.j          0.        +0.j          2.89807448-1.20042175j  1.20042175+2.89807448j  0.        +0.j        ]]\n",
      "fft_coef_scale.T =\n",
      " [[ 0. +0.j   0. +0.j   0. +0.j   0. +0.j   0. +0.j   0. +0.j   0. +0.j   1. +0.j ]\n",
      " [ 0. +0.j   0. +0.j   0. +0.j   0. +0.j   0. +0.j   0. +0.5j  0.5+0.j   0. +0.j ]\n",
      " [ 0. +0.j   0. +0.j   0. +0.j   0. +0.5j  0.5+0.j   0. +0.j   0. +0.j   0. +0.j ]\n",
      " [ 0. +0.j   0. +0.5j  0.5+0.j   0. +0.j   0. +0.j   0. +0.j   0. +0.j   0. +0.j ]\n",
      " [ 1. +0.j   0. +0.j   0. +0.j   0. +0.j   0. +0.j   0. +0.j   0. +0.j   0. +0.j ]\n",
      " [ 0. +0.j  -0. -0.5j  0.5+0.j   0. +0.j   0. +0.j   0. +0.j   0. +0.j   0. +0.j ]\n",
      " [ 0. +0.j   0. +0.j   0. +0.j  -0. -0.5j  0.5+0.j   0. +0.j   0. +0.j   0. +0.j ]\n",
      " [ 0. +0.j   0. +0.j   0. +0.j   0. +0.j   0. +0.j  -0. -0.5j  0.5+0.j   0. +0.j ]]\n",
      "np.linalg.inv(xhat) =\n",
      " [[0.        +0.j         0.        +0.j         0.        +0.j         0.        +0.j         0.125     +0.j         0.        +0.j         0.        +0.j         0.        +0.j        ]\n",
      " [0.        +0.j         0.        +0.j         0.        +0.j         0.04908739-0.11850743j 0.        +0.j         0.04908739+0.11850743j 0.        +0.j         0.        +0.j        ]\n",
      " [0.        +0.j         0.        +0.j         0.        +0.j         0.11850743+0.04908739j 0.        +0.j         0.11850743-0.04908739j 0.        +0.j         0.        +0.j        ]\n",
      " [0.        +0.j         0.        +0.j         0.09817477-0.09817477j 0.        +0.j         0.        +0.j         0.        +0.j         0.09817477+0.09817477j 0.        +0.j        ]\n",
      " [0.        +0.j         0.        +0.j         0.09817477+0.09817477j 0.        +0.j         0.        +0.j         0.        +0.j         0.09817477-0.09817477j 0.        +0.j        ]\n",
      " [0.        +0.j         0.14726216-0.06099798j 0.        +0.j         0.        +0.j         0.        +0.j         0.        +0.j         0.        +0.j         0.14726216+0.06099798j]\n",
      " [0.        +0.j         0.06099798+0.14726216j 0.        +0.j         0.        +0.j         0.        +0.j         0.        +0.j         0.        +0.j         0.06099798-0.14726216j]\n",
      " [0.19634954+0.j         0.        +0.j         0.        +0.j         0.        +0.j         0.        +0.j         0.        +0.j         0.        +0.j         0.        +0.j        ]]\n",
      "fft_fix =\n",
      " [[0.19634954+0.j         0.        +0.j         0.        +0.j         0.        +0.j         0.        +0.j         0.        +0.j         0.        +0.j         0.        +0.j        ]\n",
      " [0.        +0.j         0.06099798+0.14726216j 0.        +0.j         0.        +0.j         0.        +0.j         0.        +0.j         0.        +0.j         0.        +0.j        ]\n",
      " [0.        +0.j         0.        +0.j         0.09817477+0.09817477j 0.        +0.j         0.        +0.j         0.        +0.j         0.        +0.j         0.        +0.j        ]\n",
      " [0.        +0.j         0.        +0.j         0.        +0.j         0.11850743+0.04908739j 0.        +0.j         0.        +0.j         0.        +0.j         0.        +0.j        ]\n",
      " [0.        +0.j         0.        +0.j         0.        +0.j         0.        +0.j         0.125     +0.j         0.        +0.j         0.        +0.j         0.        +0.j        ]\n",
      " [0.        +0.j         0.        +0.j         0.        +0.j         0.        +0.j         0.        +0.j         0.11850743-0.04908739j 0.        +0.j         0.        +0.j        ]\n",
      " [0.        +0.j         0.        +0.j         0.        -0.j         0.        +0.j         0.        +0.j         0.        +0.j         0.09817477-0.09817477j 0.        +0.j        ]\n",
      " [0.        +0.j         0.        +0.j         0.        +0.j         0.        +0.j         0.        +0.j         0.        +0.j         0.        +0.j         0.06099798-0.14726216j]]\n",
      "fix_xhat =\n",
      " [[ 0. +0.j   0. +0.j   0. +0.j   0. +0.j   0. +0.j   0. +0.j   0. +0.j   1. +0.j ]\n",
      " [ 0. +0.j   0. +0.j   0. +0.j   0. +0.j   0. +0.j   0. +0.5j  0.5-0.j   0. +0.j ]\n",
      " [ 0. +0.j   0. +0.j   0. +0.j  -0. +0.5j  0.5+0.j   0. +0.j   0. +0.j   0. +0.j ]\n",
      " [ 0. +0.j   0. +0.5j  0.5+0.j   0. +0.j   0. +0.j   0. +0.j   0. +0.j   0. +0.j ]\n",
      " [ 1. +0.j   0. +0.j   0. +0.j   0. +0.j   0. +0.j   0. +0.j   0. +0.j   0. +0.j ]\n",
      " [ 0. +0.j   0. -0.5j  0.5+0.j   0. +0.j   0. +0.j   0. +0.j   0. +0.j   0. +0.j ]\n",
      " [ 0. +0.j   0. +0.j   0. +0.j  -0. -0.5j  0.5-0.j   0. +0.j   0. +0.j   0. +0.j ]\n",
      " [ 0. +0.j   0. +0.j   0. +0.j   0. +0.j   0. +0.j   0. -0.5j  0.5+0.j   0. +0.j ]]\n"
     ]
    }
   ],
   "source": [
    "# Let's just cheat and find the complex matrix that fixes applitude/phase\n",
    "# Note, everything needs to be a column vector\n",
    "print('xhat =\\n', xhat)\n",
    "print('fft_coef_scale.T =\\n', fft_coef_scale.T)\n",
    "print('np.linalg.inv(xhat) =\\n', np.linalg.inv(xhat))\n",
    "fft_fix = fft_coef_scale.T@np.linalg.inv(xhat)\n",
    "fft_fix = np.round(fft_fix,16)\n",
    "fix_xhat = np.round(fft_fix@xhat,15)\n",
    "# Compare these to the original ones we wanted\n",
    "print('fft_fix =\\n', fft_fix)\n",
    "print('fix_xhat =\\n', fix_xhat)\n",
    "assert(np.isclose(fft_coef_scale.T, fix_xhat, 1e-15).all())"
   ]
  },
  {
   "cell_type": "code",
   "execution_count": 16,
   "metadata": {},
   "outputs": [
    {
     "name": "stdout",
     "output_type": "stream",
     "text": [
      "[[0.19634954+0.j         0.        +0.j         0.        +0.j         0.        +0.j         0.        +0.j         0.        +0.j         0.        +0.j         0.        +0.j        ]\n",
      " [0.        +0.j         0.06099798+0.14726216j 0.        +0.j         0.        +0.j         0.        +0.j         0.        +0.j         0.        +0.j         0.        +0.j        ]\n",
      " [0.        +0.j         0.        +0.j         0.09817477+0.09817477j 0.        +0.j         0.        +0.j         0.        +0.j         0.        +0.j         0.        +0.j        ]\n",
      " [0.        +0.j         0.        +0.j         0.        +0.j         0.11850743+0.04908739j 0.        +0.j         0.        +0.j         0.        +0.j         0.        +0.j        ]\n",
      " [0.        +0.j         0.        +0.j         0.        +0.j         0.        +0.j         0.125     +0.j         0.        +0.j         0.        +0.j         0.        +0.j        ]\n",
      " [0.        +0.j         0.        +0.j         0.        +0.j         0.        +0.j         0.        +0.j         0.11850743-0.04908739j 0.        +0.j         0.        +0.j        ]\n",
      " [0.        +0.j         0.        +0.j         0.        -0.j         0.        +0.j         0.        +0.j         0.        +0.j         0.09817477-0.09817477j 0.        +0.j        ]\n",
      " [0.        +0.j         0.        +0.j         0.        +0.j         0.        +0.j         0.        +0.j         0.        +0.j         0.        +0.j         0.06099798-0.14726216j]]\n",
      "[ 0.  3.  2.  1.  0. -1. -2. -3.]\n",
      "[ 0.  3.  2.  1. -0. -1. -2. -3.]\n",
      "fvfft_phase correction (divide by)\n",
      "[1.        +0.j         0.38268343+0.92387953j 0.70710678+0.70710678j 0.92387953+0.38268343j 1.        +0.j         0.92387953-0.38268343j 0.70710678-0.70710678j 0.38268343-0.92387953j]\n"
     ]
    }
   ],
   "source": [
    "# Note that fft_fix is diagonal, and the phase shift is just -pi*k/N\n",
    "print(fft_fix)\n",
    "fvfft_fix = np.diag(fft_fix)\n",
    "# the phase shift is just -pi*k/N!\n",
    "print(N*np.angle(fvfft_fix)/(np.pi))\n",
    "fvfft_phase = -np.linspace(-max_k,max_k-1,N)\n",
    "fvfft_phase[0]=0  # highest k mode has no phase error\n",
    "print(fvfft_phase)\n",
    "fvfft_phase = np.exp(np.pi*fvfft_phase*1j/N)\n",
    "print(\"fvfft_phase correction (divide by)\")\n",
    "print(fvfft_phase)"
   ]
  },
  {
   "cell_type": "code",
   "execution_count": 17,
   "metadata": {},
   "outputs": [
    {
     "name": "stdout",
     "output_type": "stream",
     "text": [
      "No phase - just amplitude:\n",
      "[0.19634954+0.j 0.15939541+0.j 0.13884009-0.j 0.12827152+0.j 0.125     +0.j 0.12827152-0.j 0.13884009+0.j 0.15939541-0.j]\n"
     ]
    },
    {
     "data": {
      "text/plain": [
       "array([0.19634954+0.j, 0.15939541+0.j, 0.13884009-0.j, 0.12827152+0.j, 0.125     +0.j, 0.12827152-0.j, 0.13884009+0.j, 0.15939541-0.j])"
      ]
     },
     "execution_count": 17,
     "metadata": {},
     "output_type": "execute_result"
    }
   ],
   "source": [
    "# This is just the amplitudes now, no phase errors - what's the formula for the amplitude scaling?\n",
    "print(\"No phase - just amplitude:\")\n",
    "fvfft_amp = np.round(fvfft_fix / fvfft_phase,15)\n",
    "print(fvfft_amp)\n",
    "fvfft_amp  # there's probably an analytic expression for this, TBD"
   ]
  },
  {
   "cell_type": "code",
   "execution_count": 18,
   "metadata": {},
   "outputs": [
    {
     "name": "stdout",
     "output_type": "stream",
     "text": [
      "These are the original 1*c0 + -2*s1 + .5*c4 values:\n",
      "[ 0.57246343 -1.11894252 -0.48232275 -0.06415634  2.06415634  2.48232275  3.11894252  1.42753657]\n",
      "\n",
      "These are the raw fft of them (note phase/amplitude error):\n",
      "[ 2.54647909+0.j          0.        +0.j         -0.        -0.j         -2.98338583-7.20253053j  8.        +0.j         -2.98338583+7.20253053j -0.        +0.j          0.        -0.j        ]\n",
      "\n",
      "These are the fvfft fix * the raw fft:\n",
      "[0.5+0.j 0. +0.j 0. -0.j 0. -1.j 1. +0.j 0. +1.j 0. +0.j 0. -0.j]\n",
      "\n",
      "These are the original coefs using sin/cos mode transform matrix:\n",
      "[ 1.  -2.   0.   0.   0.   0.   0.   0.5]\n",
      "\n",
      "Passes fvfft transform vs. original inputs\n"
     ]
    }
   ],
   "source": [
    "print(\"These are the original 1*c0 + -2*s1 + .5*c4 values:\")\n",
    "print(test_y)\n",
    "coef_fft = fft.fft(test_y)  # FFT operates on rows, apparently\n",
    "coef_fft = np.round(fft.fftshift(coef_fft),14)\n",
    "print(\"\\nThese are the raw fft of them (note phase/amplitude error):\")\n",
    "print(coef_fft)\n",
    "\n",
    "print(\"\\nThese are the fvfft fix * the raw fft:\")\n",
    "coef_fft_avg = np.round(coef_fft * fvfft_fix,14)\n",
    "print(coef_fft_avg)\n",
    "\n",
    "print(\"\\nThese are the original coefs using sin/cos mode transform matrix:\")\n",
    "print(test_coef)\n",
    "assert(np.isclose(coef_fft_avg, fft_coef_scale.T@test_coef, 1e-14).all())\n",
    "\n",
    "print(\"\\nPasses fvfft transform vs. original inputs\")"
   ]
  },
  {
   "cell_type": "code",
   "execution_count": null,
   "metadata": {},
   "outputs": [],
   "source": []
  }
 ],
 "metadata": {
  "kernelspec": {
   "display_name": "Python 3",
   "language": "python",
   "name": "python3"
  },
  "language_info": {
   "codemirror_mode": {
    "name": "ipython",
    "version": 3
   },
   "file_extension": ".py",
   "mimetype": "text/x-python",
   "name": "python",
   "nbconvert_exporter": "python",
   "pygments_lexer": "ipython3",
   "version": "3.7.3"
  }
 },
 "nbformat": 4,
 "nbformat_minor": 4
}
