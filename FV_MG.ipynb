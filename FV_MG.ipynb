{
 "cells": [
  {
   "cell_type": "code",
   "execution_count": 1,
   "metadata": {},
   "outputs": [
    {
     "ename": "ModuleNotFoundError",
     "evalue": "No module named 'BasicTools'",
     "output_type": "error",
     "traceback": [
      "\u001b[0;31m---------------------------------------------------------------------------\u001b[0m",
      "\u001b[0;31mModuleNotFoundError\u001b[0m                       Traceback (most recent call last)",
      "\u001b[0;32m<ipython-input-1-a3b3458b4c2f>\u001b[0m in \u001b[0;36m<module>\u001b[0;34m\u001b[0m\n\u001b[1;32m      7\u001b[0m \u001b[0;32mimport\u001b[0m \u001b[0mtime\u001b[0m\u001b[0;34m\u001b[0m\u001b[0;34m\u001b[0m\u001b[0m\n\u001b[1;32m      8\u001b[0m \u001b[0;32mimport\u001b[0m \u001b[0mmatplotlib\u001b[0m\u001b[0;34m.\u001b[0m\u001b[0mpyplot\u001b[0m \u001b[0;32mas\u001b[0m \u001b[0mplt\u001b[0m\u001b[0;34m\u001b[0m\u001b[0;34m\u001b[0m\u001b[0m\n\u001b[0;32m----> 9\u001b[0;31m \u001b[0;32mimport\u001b[0m \u001b[0mBasicTools\u001b[0m \u001b[0;32mas\u001b[0m \u001b[0mBT\u001b[0m\u001b[0;34m\u001b[0m\u001b[0;34m\u001b[0m\u001b[0m\n\u001b[0m\u001b[1;32m     10\u001b[0m \u001b[0;32mimport\u001b[0m \u001b[0mWaveTools\u001b[0m \u001b[0;32mas\u001b[0m \u001b[0mWT\u001b[0m\u001b[0;34m\u001b[0m\u001b[0;34m\u001b[0m\u001b[0m\n\u001b[1;32m     11\u001b[0m \u001b[0;32mimport\u001b[0m \u001b[0mPlotTools\u001b[0m \u001b[0;32mas\u001b[0m \u001b[0mPT\u001b[0m\u001b[0;34m\u001b[0m\u001b[0;34m\u001b[0m\u001b[0m\n",
      "\u001b[0;31mModuleNotFoundError\u001b[0m: No module named 'BasicTools'"
     ]
    }
   ],
   "source": [
    "import os.path\n",
    "from scipy import *\n",
    "import numpy as np\n",
    "from numpy import *\n",
    "from numpy import linalg as LA\n",
    "import sys as sys\n",
    "import time\n",
    "import matplotlib.pyplot as plt\n",
    "import BasicTools as BT\n",
    "import WaveTools as WT\n",
    "import PlotTools as PT\n",
    "import OperatorTools as OT"
   ]
  },
  {
   "cell_type": "markdown",
   "metadata": {},
   "source": [
    "This cell is where you set your inputs. None of the other cells are designed to be modified."
   ]
  },
  {
   "cell_type": "code",
   "execution_count": null,
   "metadata": {},
   "outputs": [],
   "source": [
    "savePath = '/Users/sashacurcic/SashasDirectory/ANAG/Figures/'\n",
    "nh = 8"
   ]
  },
  {
   "cell_type": "markdown",
   "metadata": {},
   "source": [
    "This cell just checks to make sure your inputs are valid."
   ]
  },
  {
   "cell_type": "code",
   "execution_count": null,
   "metadata": {},
   "outputs": [],
   "source": [
    "BT.CheckNumber(nh)"
   ]
  },
  {
   "cell_type": "markdown",
   "metadata": {},
   "source": [
    "This cell and the four which follow it orchestrate and implement the main computations of the program."
   ]
  },
  {
   "cell_type": "code",
   "execution_count": null,
   "metadata": {},
   "outputs": [],
   "source": [
    "h = 1. / nh\n",
    "xCell, waveXBasis = WT.MakeWaves(nh, h)\n",
    "xNode, waveXBasisNode = WT.MakeNodeWaves(nh, h)\n",
    "PT.PlotWaves(nh, waveXBasis, xNode, waveXBasisNode, plotNode = True)"
   ]
  },
  {
   "cell_type": "code",
   "execution_count": null,
   "metadata": {
    "scrolled": true
   },
   "outputs": [],
   "source": [
    "fundFreq = np.cos(2. * np.pi * h) + (1j * np.sin(2. * np.pi * h))\n",
    "kVals = list(np.arange(nh))\n",
    "kVals = kVals\n",
    "ks = [int((i + 1) / 2) for i in kVals]\n",
    "print(ks)\n",
    "diagVec = [fundFreq ** (k / 2.) for k in ks]\n",
    "print(diagVec)\n",
    "cellShift = np.zeros((nh, nh), complex)\n",
    "fill_diagonal(cellShift, diagVec)\n",
    "print('')\n",
    "# waveXBasis = np.matmul(waveXBasis, cellShift)\n",
    "cellFFT = h * np.fft.fft(waveXBasis)\n",
    "waveKBasis = np.fft.fftshift(waveXBasis.T, axes = 1)\n",
    "nodeFFT = h * np.fft.fft(waveXBasisNode)\n",
    "print(cellFFT[0, 1] * cellShift[1, 1])\n",
    "print(waveXBasis)"
   ]
  },
  {
   "cell_type": "code",
   "execution_count": null,
   "metadata": {},
   "outputs": [],
   "source": [
    "print(waveKBasis)# np.matmul(cellFFT, cellShift))"
   ]
  },
  {
   "cell_type": "code",
   "execution_count": null,
   "metadata": {},
   "outputs": [],
   "source": [
    "print(nodeFFT)"
   ]
  },
  {
   "cell_type": "code",
   "execution_count": null,
   "metadata": {
    "scrolled": false
   },
   "outputs": [],
   "source": [
    "PT.PlotGeneralWaves(nh, xCell, cellFFT)\n",
    "PT.PlotGeneralWaves(nh, xNode, nodeFFT)"
   ]
  },
  {
   "cell_type": "markdown",
   "metadata": {},
   "source": [
    "This cell and all those below it just constitute a testing space."
   ]
  },
  {
   "cell_type": "code",
   "execution_count": null,
   "metadata": {},
   "outputs": [],
   "source": [
    "points = 16\n",
    "x = np.linspace(0, 1. - (1./points), num = points)\n",
    "print(x)\n",
    "s1 = np.sin(2 * np.pi * x)\n",
    "print(s1)"
   ]
  },
  {
   "cell_type": "code",
   "execution_count": null,
   "metadata": {},
   "outputs": [],
   "source": [
    "s1fft = np.fft.fft(s1)\n",
    "print(s1fft)"
   ]
  },
  {
   "cell_type": "code",
   "execution_count": null,
   "metadata": {},
   "outputs": [],
   "source": [
    "s1fft = np.round(s1fft)"
   ]
  },
  {
   "cell_type": "code",
   "execution_count": null,
   "metadata": {},
   "outputs": [],
   "source": [
    "s1fftshift = np.fft.fftshift(s1fft)"
   ]
  },
  {
   "cell_type": "code",
   "execution_count": null,
   "metadata": {},
   "outputs": [],
   "source": [
    "s1fftshift = (1. / points) * np.round(s1fftshift)\n",
    "print(s1fftshift)"
   ]
  },
  {
   "cell_type": "code",
   "execution_count": null,
   "metadata": {},
   "outputs": [],
   "source": [
    "c1 = np.cos(2 * np.pi * x)\n",
    "print(c1)\n",
    "print('')\n",
    "c1fft = np.fft.fft(c1)\n",
    "c1fftshift = np.fft.fftshift(c1fft)\n",
    "c1fftshift = (1. / points) * np.round(c1fftshift)\n",
    "print(c1fftshift)"
   ]
  },
  {
   "cell_type": "code",
   "execution_count": null,
   "metadata": {},
   "outputs": [],
   "source": [
    "A = np.arange(nh ** 2).reshape(nh, nh)\n",
    "O = 1 * A\n",
    "print(A)\n",
    "O[::2] = 0\n",
    "print(O)\n",
    "C = np.zeros((nh, nh), float)"
   ]
  },
  {
   "cell_type": "code",
   "execution_count": null,
   "metadata": {},
   "outputs": [],
   "source": [
    "print(waveXBasis)"
   ]
  },
  {
   "cell_type": "code",
   "execution_count": null,
   "metadata": {},
   "outputs": [],
   "source": [
    "print(waveXBasis.conj().T)"
   ]
  },
  {
   "cell_type": "code",
   "execution_count": null,
   "metadata": {},
   "outputs": [],
   "source": [
    "def FindLaplaceEigVals(nh, waves):\n",
    "    wavesInv = waves.conj().T\n",
    "    print('wavesInv =')\n",
    "    print(wavesInv)\n",
    "    print('identity =')\n",
    "    print(round(np.matmul(wavesInv, waves)))\n",
    "    Laplacian = OT.MakeLaplacian1D(nh)\n",
    "    print('Laplacian = \\n', Laplacian)\n",
    "    eigenvalues = wavesInv@Laplacian@waves\n",
    "    return eigenvalues"
   ]
  },
  {
   "cell_type": "code",
   "execution_count": null,
   "metadata": {
    "scrolled": false
   },
   "outputs": [],
   "source": [
    "blah = FindLaplaceEigVals(nh, waveXBasis)\n",
    "print(np.round(blah))"
   ]
  },
  {
   "cell_type": "code",
   "execution_count": null,
   "metadata": {},
   "outputs": [],
   "source": [
    "print(1 / 3.24227788e+00)"
   ]
  },
  {
   "cell_type": "code",
   "execution_count": null,
   "metadata": {},
   "outputs": [],
   "source": []
  }
 ],
 "metadata": {
  "kernelspec": {
   "display_name": "Python 3",
   "language": "python",
   "name": "python3"
  },
  "language_info": {
   "codemirror_mode": {
    "name": "ipython",
    "version": 3
   },
   "file_extension": ".py",
   "mimetype": "text/x-python",
   "name": "python",
   "nbconvert_exporter": "python",
   "pygments_lexer": "ipython3",
   "version": "3.7.3"
  }
 },
 "nbformat": 4,
 "nbformat_minor": 2
}
