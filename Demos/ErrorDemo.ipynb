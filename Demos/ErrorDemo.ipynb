{
 "cells": [
  {
   "cell_type": "code",
   "execution_count": 1,
   "metadata": {
    "scrolled": true
   },
   "outputs": [
    {
     "data": {
      "text/html": [
       "<style>pre { white-space: pre !important; }</style>"
      ],
      "text/plain": [
       "<IPython.core.display.HTML object>"
      ]
     },
     "metadata": {},
     "output_type": "display_data"
    },
    {
     "data": {
      "text/html": [
       "<style>pre { white-space: pre !important; }</style>"
      ],
      "text/plain": [
       "<IPython.core.display.HTML object>"
      ]
     },
     "metadata": {},
     "output_type": "display_data"
    }
   ],
   "source": [
    "import os.path\n",
    "from scipy import *\n",
    "import numpy as np\n",
    "from numpy import *\n",
    "from numpy import linalg as LA\n",
    "from scipy import linalg as LA2\n",
    "import sympy as sympy\n",
    "import sys as sys\n",
    "import time\n",
    "import matplotlib.pyplot as plt\n",
    "import itertools as it\n",
    "from IPython.core.display import HTML\n",
    "\n",
    "sys.path.append('/Users/sashacurcic/SashasDirectory/ANAG/FV_MG/')\n",
    "from Modules import BasicTools as BT\n",
    "from Modules import WaveTools as WT\n",
    "from Modules import PlotTools as PT\n",
    "from Modules import FFTTools as FFTT\n",
    "from Modules import OperatorTools as OT\n",
    "from Modules import GridTransferTools as GTT\n",
    "from Modules import TestTools as TT\n",
    "from Modules import SolverTools as ST\n",
    "\n",
    "display(HTML(\"<style>pre { white-space: pre !important; }</style>\"))\n",
    "np.set_printoptions( linewidth = 10000, threshold = 100000)"
   ]
  },
  {
   "cell_type": "markdown",
   "metadata": {},
   "source": [
    "Initialize parameters."
   ]
  },
  {
   "cell_type": "code",
   "execution_count": 2,
   "metadata": {},
   "outputs": [],
   "source": [
    "nh = 8\n",
    "refRatio = 2\n",
    "c = 1.\n",
    "CFL = 0.5\n",
    "nt = 6\n",
    "RK = 4\n",
    "deriv = 'CD'\n",
    "order = 1"
   ]
  },
  {
   "cell_type": "code",
   "execution_count": 4,
   "metadata": {},
   "outputs": [],
   "source": [
    "omega = BT.Grid(nh)\n",
    "finehalf = list(np.arange(int(nh / refRatio)) + int(nh / refRatio))\n",
    "omega.AddPatch(refRatio, finehalf)"
   ]
  },
  {
   "cell_type": "code",
   "execution_count": 22,
   "metadata": {},
   "outputs": [],
   "source": [
    "def ModeProp(omega, nt, c, deriv):\n",
    "    degFreed = omega.degFreed\n",
    "    nh_min = omega.nh_min\n",
    "    nh_max = omega.nh_max\n",
    "    \n",
    "    if (RK == 1):\n",
    "        TimeIntegratorFunc = ST.ForwardEuler\n",
    "    else:\n",
    "        if (RK == 2):\n",
    "            TimeIntegratorFunc = ST.MidpointMeth\n",
    "        else:\n",
    "            TimeIntegratorFunc = ST.RK4\n",
    "\n",
    "    if (deriv == 'U'):\n",
    "        # DiffMatFunc = OT.Upwind1D\n",
    "        DiffFunc = TT.Upwind#ST.Upwind\n",
    "    else:\n",
    "        # DiffMatFunc = OT.CenterDiff1D\n",
    "        DiffFunc = TT.CenterDiff#ST.CenterDiff\n",
    "\n",
    "    t, nt = ST.CalcTime(omega, CFL, c, nt = nt)\n",
    "    derivMat = OT.SpaceDeriv(omega, order, deriv)\n",
    "    spatOp = -c * derivMat\n",
    "    strings = omega.strings\n",
    "    timePropOp = LA2.expm(t * spatOp)\n",
    "    waves = WT.MakeWaves(omega)\n",
    "    omegaF = BT.Grid(nh_max)\n",
    "    wavesF = WT.MakeWaves(omegaF)\n",
    "    restrictOp = GTT.CoarsenOp(omega)\n",
    "    nullspace = OT.FindNullspace(omega, waves)\n",
    "    \n",
    "    FCoefsF = np.eye(nh_max)# [:, :nh_min]\n",
    "    FCoefs = np.zeros((degFreed, nh_max), float)\n",
    "    propFCoefs = np.zeros((degFreed, nh_max), float)\n",
    "    solvFCoefs = np.zeros((degFreed, nh_max), float)\n",
    "    exTimeCoefs = np.zeros((degFreed, nh_max), float)\n",
    "    \n",
    "#     print('derivMat =\\n', derivMat, '\\n')\n",
    "#     print('spatOp =\\n', spatOp, '\\n')\n",
    "#     print('timePropOp =\\n', timePropOp, '\\n')\n",
    "\n",
    "    for k in range(nh_max):\n",
    "        print()\n",
    "        waveformF = wavesF @ # nullspace[:, k]\n",
    "        propFCoefs[:, k] = FFTT.PropRestrictWaves(omega, waveformF, c, t)\n",
    "        waveform = restrictOp @ waveformF\n",
    "        FCoefs[:, k] = FFTT.FourierCoefs(omega, waves @ nullspace, waveform)\n",
    "\n",
    "        solvFCoefs[:, k] = TimeIntegratorFunc(omega, waves @ nullspace, waveform, nt, c, CFL, DiffFunc)\n",
    "        exTimeForm = timePropOp @ waveform\n",
    "        exTimeCoefs[:, k] = FFTT.FourierCoefs(omega, waves @ nullspace, exTimeForm)\n",
    "\n",
    "\n",
    "#         labels[k] = [r'$u_{0} (x)$', r'Exact $u_{0} (x - c t)$', r'Exact Time $u_{0} (x - c t)$', r'Time Integrator $u_{0} (x - c t)$']\n",
    "#         allCoefs = nullspace @ PT.Load(FCoefs[:, k], PropFCoefs[:, k], exTimeCoefs[:, k], solverCoefs[:, k])\n",
    "#         if (showPlots):\n",
    "#             PT.PlotMixedWave(omega, waves, allCoefs, rescale = [4, 6], labels = labels[k], yGrid = True, dpi = 300)\n",
    "    FCoefs = nullspace @ FCoefs\n",
    "    propFCoefs = nullspace @ propFCoefs\n",
    "    solvFCoefs = nullspace @ solvFCoefs\n",
    "    exTimeCoefs = nullspace @ exTimeCoefs\n",
    "    return FCoefs, propFCoefs, solvFCoefs, exTimeCoefs\n"
   ]
  },
  {
   "cell_type": "code",
   "execution_count": 23,
   "metadata": {},
   "outputs": [],
   "source": [
    "def ModeError(omega, nt, c, deriv, normType = 'max', errorType = 'absolute', inclNull = False):\n",
    "    degFreed = omega.degFreed\n",
    "    nh_min = omega.nh_min\n",
    "    nh_max = omega.nh_max\n",
    "    FCoefs, propFCoefs, solvFCoefs, exTimeCoefs = ModeProp(omega, nt, c, deriv)\n",
    "    solvError = np.zeros(nh_max, float)\n",
    "    exTimeError = np.zeros(nh_max, float)\n",
    "    for k in range(nh_max):\n",
    "        ks, solvErrorVec = TT.AmpError(omega, propFCoefs[:, k], solvFCoefs[:, k])\n",
    "        ks, exTimeErrorVec = TT.AmpError(omega, propFCoefs[:, k], exTimeCoefs[:, k])\n",
    "        if (normType == 'max'):\n",
    "            solvError[k] = max(solvErrorVec)\n",
    "            exTimeError[k] = max(exTimeErrorVec)\n",
    "        else:\n",
    "            solvError[k] = sum(solvErrorVec) / nh\n",
    "            exTimeError[k] = sum(exTimeErrorVec) / nh\n",
    "#     if (not inclNull):\n",
    "#         ks = ks[:nh_min]\n",
    "#         solvError = solvError[:nh_min]\n",
    "#         exTimeError = exTimeError[:nh_min]\n",
    "    return ks, solvError, exTimeError"
   ]
  },
  {
   "cell_type": "code",
   "execution_count": 24,
   "metadata": {},
   "outputs": [
    {
     "ename": "IndexError",
     "evalue": "index 12 is out of bounds for axis 1 with size 12",
     "output_type": "error",
     "traceback": [
      "\u001b[0;31m---------------------------------------------------------------------------\u001b[0m",
      "\u001b[0;31mIndexError\u001b[0m                                Traceback (most recent call last)",
      "\u001b[0;32m<ipython-input-24-5b54abc99dc6>\u001b[0m in \u001b[0;36m<module>\u001b[0;34m\u001b[0m\n\u001b[0;32m----> 1\u001b[0;31m \u001b[0mks\u001b[0m\u001b[0;34m,\u001b[0m \u001b[0msolvError\u001b[0m\u001b[0;34m,\u001b[0m \u001b[0mexTimeError\u001b[0m \u001b[0;34m=\u001b[0m \u001b[0mModeError\u001b[0m\u001b[0;34m(\u001b[0m\u001b[0momega\u001b[0m\u001b[0;34m,\u001b[0m \u001b[0mnt\u001b[0m\u001b[0;34m,\u001b[0m \u001b[0mc\u001b[0m\u001b[0;34m,\u001b[0m \u001b[0mderiv\u001b[0m\u001b[0;34m)\u001b[0m\u001b[0;34m\u001b[0m\u001b[0;34m\u001b[0m\u001b[0m\n\u001b[0m",
      "\u001b[0;32m<ipython-input-23-e72ea6547890>\u001b[0m in \u001b[0;36mModeError\u001b[0;34m(omega, nt, c, deriv, normType, errorType, inclNull)\u001b[0m\n\u001b[1;32m      3\u001b[0m     \u001b[0mnh_min\u001b[0m \u001b[0;34m=\u001b[0m \u001b[0momega\u001b[0m\u001b[0;34m.\u001b[0m\u001b[0mnh_min\u001b[0m\u001b[0;34m\u001b[0m\u001b[0;34m\u001b[0m\u001b[0m\n\u001b[1;32m      4\u001b[0m     \u001b[0mnh_max\u001b[0m \u001b[0;34m=\u001b[0m \u001b[0momega\u001b[0m\u001b[0;34m.\u001b[0m\u001b[0mnh_max\u001b[0m\u001b[0;34m\u001b[0m\u001b[0;34m\u001b[0m\u001b[0m\n\u001b[0;32m----> 5\u001b[0;31m     \u001b[0mFCoefs\u001b[0m\u001b[0;34m,\u001b[0m \u001b[0mpropFCoefs\u001b[0m\u001b[0;34m,\u001b[0m \u001b[0msolvFCoefs\u001b[0m\u001b[0;34m,\u001b[0m \u001b[0mexTimeCoefs\u001b[0m \u001b[0;34m=\u001b[0m \u001b[0mModeProp\u001b[0m\u001b[0;34m(\u001b[0m\u001b[0momega\u001b[0m\u001b[0;34m,\u001b[0m \u001b[0mnt\u001b[0m\u001b[0;34m,\u001b[0m \u001b[0mc\u001b[0m\u001b[0;34m,\u001b[0m \u001b[0mderiv\u001b[0m\u001b[0;34m)\u001b[0m\u001b[0;34m\u001b[0m\u001b[0;34m\u001b[0m\u001b[0m\n\u001b[0m\u001b[1;32m      6\u001b[0m     \u001b[0msolvError\u001b[0m \u001b[0;34m=\u001b[0m \u001b[0mnp\u001b[0m\u001b[0;34m.\u001b[0m\u001b[0mzeros\u001b[0m\u001b[0;34m(\u001b[0m\u001b[0mnh_max\u001b[0m\u001b[0;34m,\u001b[0m \u001b[0mfloat\u001b[0m\u001b[0;34m)\u001b[0m\u001b[0;34m\u001b[0m\u001b[0;34m\u001b[0m\u001b[0m\n\u001b[1;32m      7\u001b[0m     \u001b[0mexTimeError\u001b[0m \u001b[0;34m=\u001b[0m \u001b[0mnp\u001b[0m\u001b[0;34m.\u001b[0m\u001b[0mzeros\u001b[0m\u001b[0;34m(\u001b[0m\u001b[0mnh_max\u001b[0m\u001b[0;34m,\u001b[0m \u001b[0mfloat\u001b[0m\u001b[0;34m)\u001b[0m\u001b[0;34m\u001b[0m\u001b[0;34m\u001b[0m\u001b[0m\n",
      "\u001b[0;32m<ipython-input-22-a552cb6c36a7>\u001b[0m in \u001b[0;36mModeProp\u001b[0;34m(omega, nt, c, deriv)\u001b[0m\n\u001b[1;32m     42\u001b[0m     \u001b[0;32mfor\u001b[0m \u001b[0mk\u001b[0m \u001b[0;32min\u001b[0m \u001b[0mrange\u001b[0m\u001b[0;34m(\u001b[0m\u001b[0mnh_max\u001b[0m\u001b[0;34m)\u001b[0m\u001b[0;34m:\u001b[0m\u001b[0;34m\u001b[0m\u001b[0;34m\u001b[0m\u001b[0m\n\u001b[1;32m     43\u001b[0m \u001b[0;34m\u001b[0m\u001b[0m\n\u001b[0;32m---> 44\u001b[0;31m         \u001b[0mwaveformF\u001b[0m \u001b[0;34m=\u001b[0m \u001b[0mwavesF\u001b[0m \u001b[0;34m@\u001b[0m \u001b[0mnullspace\u001b[0m\u001b[0;34m[\u001b[0m\u001b[0;34m:\u001b[0m\u001b[0;34m,\u001b[0m \u001b[0mk\u001b[0m\u001b[0;34m]\u001b[0m\u001b[0;34m\u001b[0m\u001b[0;34m\u001b[0m\u001b[0m\n\u001b[0m\u001b[1;32m     45\u001b[0m         \u001b[0mpropFCoefs\u001b[0m\u001b[0;34m[\u001b[0m\u001b[0;34m:\u001b[0m\u001b[0;34m,\u001b[0m \u001b[0mk\u001b[0m\u001b[0;34m]\u001b[0m \u001b[0;34m=\u001b[0m \u001b[0mFFTT\u001b[0m\u001b[0;34m.\u001b[0m\u001b[0mPropRestrictWaves\u001b[0m\u001b[0;34m(\u001b[0m\u001b[0momega\u001b[0m\u001b[0;34m,\u001b[0m \u001b[0mwaveformF\u001b[0m\u001b[0;34m,\u001b[0m \u001b[0mc\u001b[0m\u001b[0;34m,\u001b[0m \u001b[0mt\u001b[0m\u001b[0;34m)\u001b[0m\u001b[0;34m\u001b[0m\u001b[0;34m\u001b[0m\u001b[0m\n\u001b[1;32m     46\u001b[0m         \u001b[0mwaveform\u001b[0m \u001b[0;34m=\u001b[0m \u001b[0mrestrictOp\u001b[0m \u001b[0;34m@\u001b[0m \u001b[0mwaveformF\u001b[0m\u001b[0;34m\u001b[0m\u001b[0;34m\u001b[0m\u001b[0m\n",
      "\u001b[0;31mIndexError\u001b[0m: index 12 is out of bounds for axis 1 with size 12"
     ]
    }
   ],
   "source": [
    "ks, solvError, exTimeError = ModeError(omega, nt, c, deriv)\n"
   ]
  },
  {
   "cell_type": "code",
   "execution_count": 19,
   "metadata": {},
   "outputs": [
    {
     "data": {
      "image/png": "[encoded data removed]",
      "text/plain": [
       "<Figure size 1440x432 with 1 Axes>"
      ]
     },
     "metadata": {
      "needs_background": "light"
     },
     "output_type": "display_data"
    }
   ],
   "source": [
    "title = 'Amplitude Norm Error for CFL = ' + str(CFL)\n",
    "fig, ax = plt.subplots(figsize = [20, 6])\n",
    "plt.plot(ks, solvError, label = 'Solver Error', color = PT.ColorDefault(0))\n",
    "plt.plot(ks, exTimeError, label = 'Exact Time Error', color = PT.ColorDefault(1))\n",
    "plt.title('Amplitude Norm Error for CFL = ' + str(CFL))\n",
    "plt.xlabel('Wavenumber')\n",
    "plt.ylabel('Error')\n",
    "plt.legend()\n",
    "plt.show()"
   ]
  },
  {
   "cell_type": "code",
   "execution_count": 11,
   "metadata": {},
   "outputs": [
    {
     "name": "stdout",
     "output_type": "stream",
     "text": [
      "3\n",
      "4\n",
      "5\n"
     ]
    }
   ],
   "source": [
    "for k in range(3,9-3):\n",
    "    print(k)"
   ]
  },
  {
   "cell_type": "code",
   "execution_count": 9,
   "metadata": {},
   "outputs": [
    {
     "ename": "NameError",
     "evalue": "name 'nullspace' is not defined",
     "output_type": "error",
     "traceback": [
      "\u001b[0;31m---------------------------------------------------------------------------\u001b[0m",
      "\u001b[0;31mNameError\u001b[0m                                 Traceback (most recent call last)",
      "\u001b[0;32m<ipython-input-9-87b48c773989>\u001b[0m in \u001b[0;36m<module>\u001b[0;34m\u001b[0m\n\u001b[0;32m----> 1\u001b[0;31m \u001b[0mstringsVal\u001b[0m \u001b[0;34m=\u001b[0m \u001b[0mPT\u001b[0m\u001b[0;34m.\u001b[0m\u001b[0mFixStrings\u001b[0m\u001b[0;34m(\u001b[0m\u001b[0momega\u001b[0m\u001b[0;34m,\u001b[0m \u001b[0mnullspace\u001b[0m\u001b[0;34m,\u001b[0m \u001b[0;32mTrue\u001b[0m\u001b[0;34m)\u001b[0m\u001b[0;34m\u001b[0m\u001b[0;34m\u001b[0m\u001b[0m\n\u001b[0m\u001b[1;32m      2\u001b[0m \u001b[0mprint\u001b[0m\u001b[0;34m(\u001b[0m\u001b[0mstringsVal\u001b[0m\u001b[0;34m)\u001b[0m\u001b[0;34m\u001b[0m\u001b[0;34m\u001b[0m\u001b[0m\n",
      "\u001b[0;31mNameError\u001b[0m: name 'nullspace' is not defined"
     ]
    }
   ],
   "source": [
    "stringsVal = PT.FixStrings(omega, nullspace, True)\n",
    "print(stringsVal)"
   ]
  },
  {
   "cell_type": "code",
   "execution_count": 16,
   "metadata": {},
   "outputs": [
    {
     "name": "stdout",
     "output_type": "stream",
     "text": [
      "[[ 0  1  2  3]\n",
      " [ 4  5  6  7]\n",
      " [ 8  9 10 11]]\n",
      "[[ 0  1  2  3]\n",
      " [ 4  5  6  7]\n",
      " [ 8  9 10 11]]\n"
     ]
    }
   ],
   "source": [
    "A = np.arange(12).reshape(3, 4)\n",
    "print(A)\n",
    "print(A[:3])"
   ]
  },
  {
   "cell_type": "code",
   "execution_count": null,
   "metadata": {},
   "outputs": [],
   "source": []
  }
 ],
 "metadata": {
  "kernelspec": {
   "display_name": "Python 3",
   "language": "python",
   "name": "python3"
  },
  "language_info": {
   "codemirror_mode": {
    "name": "ipython",
    "version": 3
   },
   "file_extension": ".py",
   "mimetype": "text/x-python",
   "name": "python",
   "nbconvert_exporter": "python",
   "pygments_lexer": "ipython3",
   "version": "3.7.3"
  }
 },
 "nbformat": 4,
 "nbformat_minor": 2
}
