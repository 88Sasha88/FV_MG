{
 "cells": [
  {
   "cell_type": "code",
   "execution_count": null,
   "metadata": {
    "scrolled": true
   },
   "outputs": [],
   "source": [
    "import os.path\n",
    "from scipy import *\n",
    "import numpy as np\n",
    "from numpy import *\n",
    "from numpy import linalg as LA\n",
    "from scipy import linalg as LA2\n",
    "import sympy as sympy\n",
    "import sys as sys\n",
    "import time\n",
    "import matplotlib.pyplot as plt\n",
    "import itertools as it\n",
    "from IPython.core.display import HTML\n",
    "\n",
    "sys.path.append('/Users/sashacurcic/SashasDirectory/ANAG/FV_MG/')\n",
    "from Modules import BasicTools as BT\n",
    "from Modules import WaveTools as WT\n",
    "from Modules import PlotTools as PT\n",
    "from Modules import FFTTools as FFTT\n",
    "from Modules import OperatorTools as OT\n",
    "from Modules import GridTransferTools as GTT\n",
    "from Modules import TestTools as TT\n",
    "from Modules import SolverTools as ST\n",
    "\n",
    "display(HTML(\"<style>pre { white-space: pre !important; }</style>\"))\n",
    "np.set_printoptions( linewidth = 10000, threshold = 100000)"
   ]
  },
  {
   "cell_type": "markdown",
   "metadata": {},
   "source": [
    "Initialize parameters."
   ]
  },
  {
   "cell_type": "code",
   "execution_count": null,
   "metadata": {},
   "outputs": [],
   "source": [
    "nh = 32\n",
    "refRatio = 2\n",
    "c = 1.\n",
    "CFL = 0.5\n",
    "nt = 6\n",
    "RK = 4\n",
    "deriv = 'CD'\n",
    "order = 1"
   ]
  },
  {
   "cell_type": "code",
   "execution_count": null,
   "metadata": {},
   "outputs": [],
   "source": [
    "omega = BT.Grid(nh)\n",
    "finehalf = list(np.arange(int(nh / refRatio)) + int(nh / refRatio))\n",
    "omega.AddPatch(refRatio, finehalf)"
   ]
  },
  {
   "cell_type": "code",
   "execution_count": null,
   "metadata": {},
   "outputs": [],
   "source": [
    "def ModeProp(omega, nt, c, deriv, RK):\n",
    "    degFreed = omega.degFreed\n",
    "    nh_min = omega.nh_min\n",
    "    nh_max = omega.nh_max\n",
    "    \n",
    "    if (RK == 1):\n",
    "        TimeIntegratorFunc = ST.ForwardEuler\n",
    "    else:\n",
    "        if (RK == 2):\n",
    "            TimeIntegratorFunc = ST.MidpointMeth\n",
    "        else:\n",
    "            TimeIntegratorFunc = ST.RK4\n",
    "\n",
    "    if (deriv == 'U'):\n",
    "        # DiffMatFunc = OT.Upwind1D\n",
    "        DiffFunc = TT.Upwind#ST.Upwind\n",
    "    else:\n",
    "        # DiffMatFunc = OT.CenterDiff1D\n",
    "        DiffFunc = TT.CenterDiff#ST.CenterDiff\n",
    "\n",
    "    t, nt = ST.CalcTime(omega, CFL, c, nt = nt)\n",
    "    derivMat = OT.SpaceDeriv(omega, order, deriv)\n",
    "    spatOp = -c * derivMat\n",
    "    strings = omega.strings\n",
    "    timePropOp = LA2.expm(t * spatOp)\n",
    "    waves = WT.MakeWaves(omega)\n",
    "    omegaF = BT.Grid(nh_max)\n",
    "    wavesF = WT.MakeWaves(omegaF)\n",
    "    restrictOp = GTT.CoarsenOp(omega)\n",
    "    nullspace = OT.FindNullspace(omega, waves)\n",
    "    \n",
    "    FCoefsF = np.eye(nh_max)# [:, :nh_min]\n",
    "    FCoefs = np.zeros((degFreed, nh_max), float)\n",
    "    propFCoefs = np.zeros((degFreed, nh_max), float)\n",
    "    solvFCoefs = np.zeros((degFreed, nh_max), float)\n",
    "    exTimeCoefs = np.zeros((degFreed, nh_max), float)\n",
    "    \n",
    "#     print('derivMat =\\n', derivMat, '\\n')\n",
    "#     print('spatOp =\\n', spatOp, '\\n')\n",
    "#     print('timePropOp =\\n', timePropOp, '\\n')\n",
    "\n",
    "    for k in range(nh_max):\n",
    "        waveformF = wavesF @ FCoefsF[:, k] # nullspace[:, k]\n",
    "        propFCoefs[:, k] = FFTT.PropRestrictWaves(omega, waveformF, c, t)\n",
    "        waveform = restrictOp @ waveformF\n",
    "        FCoefs[:, k] = FFTT.FourierCoefs(omega, waves @ nullspace, waveform)\n",
    "\n",
    "        solvFCoefs[:, k] = TimeIntegratorFunc(omega, waves @ nullspace, waveform, nt, c, CFL, DiffFunc)\n",
    "        exTimeForm = timePropOp @ waveform\n",
    "        exTimeCoefs[:, k] = FFTT.FourierCoefs(omega, waves @ nullspace, exTimeForm)\n",
    "\n",
    "\n",
    "#         labels[k] = [r'$u_{0} (x)$', r'Exact $u_{0} (x - c t)$', r'Exact Time $u_{0} (x - c t)$', r'Time Integrator $u_{0} (x - c t)$']\n",
    "#         allCoefs = nullspace @ PT.Load(FCoefs[:, k], PropFCoefs[:, k], exTimeCoefs[:, k], solverCoefs[:, k])\n",
    "#         if (showPlots):\n",
    "#             PT.PlotMixedWave(omega, waves, allCoefs, rescale = [4, 6], labels = labels[k], yGrid = True, dpi = 300)\n",
    "    # FCoefs = nullspace @ FCoefs\n",
    "    propFCoefs = nullspace @ propFCoefs\n",
    "    solvFCoefs = nullspace @ solvFCoefs\n",
    "    exTimeCoefs = nullspace @ exTimeCoefs\n",
    "    return propFCoefs, solvFCoefs, exTimeCoefs\n"
   ]
  },
  {
   "cell_type": "code",
   "execution_count": null,
   "metadata": {},
   "outputs": [],
   "source": [
    "def ModeError(omega, nt, c, deriv, RK, normType = 'max', errorType = 'absolute'):\n",
    "    degFreed = omega.degFreed\n",
    "    nh_min = omega.nh_min\n",
    "    nh_max = omega.nh_max\n",
    "    n = int((nh_max / 2) + 2)\n",
    "    propFCoefs, solvFCoefs, exTimeCoefs = ModeProp(omega, nt, c, deriv, RK)\n",
    "    solvError = np.zeros(nh_max, float)\n",
    "    exTimeError = np.zeros(nh_max, float)\n",
    "    for k in range(nh_max):\n",
    "        ks, solvErrorVec = TT.AmpError(omega, propFCoefs[:, k], solvFCoefs[:, k])\n",
    "        ks, exTimeErrorVec = TT.AmpError(omega, propFCoefs[:, k], exTimeCoefs[:, k])\n",
    "        if (normType == 'max'):\n",
    "            solvError[k] = max(solvErrorVec)\n",
    "            exTimeError[k] = max(exTimeErrorVec)\n",
    "        else:\n",
    "            solvError[k] = sum(solvErrorVec) / nh\n",
    "            exTimeError[k] = sum(exTimeErrorVec) / nh\n",
    "    ks = np.linspace(0, nh_max / 2, num = nh_max)\n",
    "    return ks, solvError, exTimeError"
   ]
  },
  {
   "cell_type": "code",
   "execution_count": null,
   "metadata": {},
   "outputs": [],
   "source": [
    "ks, solvError, exTimeError = ModeError(omega, nt, c, deriv, RK)"
   ]
  },
  {
   "cell_type": "code",
   "execution_count": null,
   "metadata": {
    "scrolled": false
   },
   "outputs": [],
   "source": [
    "title = 'Amplitude Norm Error for CFL = ' + str(CFL)\n",
    "fig, ax = plt.subplots(figsize = [20, 6])\n",
    "plt.plot(ks, solvError, label = 'Solver Error', color = PT.ColorDefault(0))\n",
    "plt.scatter(ks, solvError, color = PT.ColorDefault(0))\n",
    "plt.plot(ks, exTimeError, label = 'Exact Time Error', color = PT.ColorDefault(1))\n",
    "plt.scatter(ks, exTimeError, color = PT.ColorDefault(1))\n",
    "plt.title('Amplitude Norm Error for CFL = ' + str(CFL))\n",
    "plt.xlabel('Wavenumber')\n",
    "plt.ylabel('Error')\n",
    "plt.legend()\n",
    "plt.show()\n",
    "print(ks)"
   ]
  },
  {
   "cell_type": "code",
   "execution_count": null,
   "metadata": {},
   "outputs": [],
   "source": [
    "for k in range(3,9-3):\n",
    "    print(k)"
   ]
  },
  {
   "cell_type": "code",
   "execution_count": null,
   "metadata": {},
   "outputs": [],
   "source": [
    "stringsVal = PT.FixStrings(omega, nullspace, True)\n",
    "print(stringsVal)"
   ]
  },
  {
   "cell_type": "code",
   "execution_count": null,
   "metadata": {},
   "outputs": [],
   "source": [
    "A = np.eye(10)\n",
    "print(A)\n",
    "print(A[1:-1, ::2] + A[1:-1, 1::2])"
   ]
  },
  {
   "cell_type": "markdown",
   "metadata": {},
   "source": []
  },
  {
   "cell_type": "code",
   "execution_count": null,
   "metadata": {},
   "outputs": [],
   "source": []
  }
 ],
 "metadata": {
  "kernelspec": {
   "display_name": "Python 3",
   "language": "python",
   "name": "python3"
  },
  "language_info": {
   "codemirror_mode": {
    "name": "ipython",
    "version": 3
   },
   "file_extension": ".py",
   "mimetype": "text/x-python",
   "name": "python",
   "nbconvert_exporter": "python",
   "pygments_lexer": "ipython3",
   "version": "3.7.3"
  }
 },
 "nbformat": 4,
 "nbformat_minor": 2
}
