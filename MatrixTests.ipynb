{
 "cells": [
  {
   "cell_type": "code",
   "execution_count": 1,
   "metadata": {},
   "outputs": [],
   "source": [
    "import os.path\n",
    "import scipy as sp\n",
    "from scipy.linalg import block_diag\n",
    "from scipy import *\n",
    "import numpy as np\n",
    "from numpy import *\n",
    "from numpy import linalg as LA\n",
    "import sys as sys\n",
    "import time\n",
    "import matplotlib.pyplot as plt"
   ]
  },
  {
   "cell_type": "markdown",
   "metadata": {},
   "source": [
    "This is where you set the inputs. `restrictType` and `prolongType` sets the restriction-prolongation pair of methods for which you want to observe the grid-transfer on an operator. For injection, set `restrictType` to `'I'`. For full-weighting, set `restrictType` to `'FW'`. For piecewise interpolation, set `prolongType` to `'PW'`. For linear interpolation, set `prolongType` to `'LI'`."
   ]
  },
  {
   "cell_type": "code",
   "execution_count": 2,
   "metadata": {},
   "outputs": [
    {
     "ename": "NameError",
     "evalue": "name 'Sine' is not defined",
     "output_type": "error",
     "traceback": [
      "\u001b[0;31m---------------------------------------------------------------------------\u001b[0m",
      "\u001b[0;31mNameError\u001b[0m                                 Traceback (most recent call last)",
      "\u001b[0;32m<ipython-input-2-02a4fe55ec51>\u001b[0m in \u001b[0;36m<module>\u001b[0;34m\u001b[0m\n\u001b[1;32m     12\u001b[0m \u001b[0;34m\u001b[0m\u001b[0m\n\u001b[1;32m     13\u001b[0m \u001b[0;31m# Touching this is fine.\u001b[0m\u001b[0;34m\u001b[0m\u001b[0;34m\u001b[0m\u001b[0;34m\u001b[0m\u001b[0m\n\u001b[0;32m---> 14\u001b[0;31m \u001b[0mheatCoeff\u001b[0m \u001b[0;34m=\u001b[0m \u001b[0mSine\u001b[0m\u001b[0;34m(\u001b[0m\u001b[0mnh\u001b[0m\u001b[0;34m,\u001b[0m \u001b[0mx\u001b[0m\u001b[0;34m,\u001b[0m \u001b[0;34m'+'\u001b[0m\u001b[0;34m,\u001b[0m \u001b[0my\u001b[0m\u001b[0;34m)\u001b[0m\u001b[0;34m\u001b[0m\u001b[0;34m\u001b[0m\u001b[0m\n\u001b[0m\u001b[1;32m     15\u001b[0m \u001b[0mprint\u001b[0m\u001b[0;34m(\u001b[0m\u001b[0mheatCoeff\u001b[0m\u001b[0;34m)\u001b[0m\u001b[0;34m\u001b[0m\u001b[0;34m\u001b[0m\u001b[0m\n",
      "\u001b[0;31mNameError\u001b[0m: name 'Sine' is not defined"
     ]
    }
   ],
   "source": [
    "# Touching this is fine.\n",
    "dim = 1\n",
    "nh = 4\n",
    "restrictType = 'FW'\n",
    "prolongType = 'LI'\n",
    "\n",
    "# Don't touch this.\n",
    "x = np.linspace(0, 1, num = nh)\n",
    "y = 1 * x\n",
    "z = 1 * y\n",
    "oneSpace = np.ones(nh, float)\n",
    "\n",
    "# Touching this is fine.\n",
    "heatCoeff = Sine(nh, x, '+', y)\n",
    "print(heatCoeff)"
   ]
  },
  {
   "cell_type": "markdown",
   "metadata": {},
   "source": [
    "This block checks to make sure your inputs aren't garbage."
   ]
  },
  {
   "cell_type": "code",
   "execution_count": null,
   "metadata": {},
   "outputs": [],
   "source": [
    "check = nh\n",
    "while (check % 2 == 0):\n",
    "    check = check / 2\n",
    "if (check != 1):\n",
    "    sys.exit('ERROR:\\nnh must be a base-2 integer!')"
   ]
  },
  {
   "cell_type": "markdown",
   "metadata": {},
   "source": [
    "This function makes sure that dimensionalities match up appropriately."
   ]
  },
  {
   "cell_type": "code",
   "execution_count": null,
   "metadata": {},
   "outputs": [],
   "source": [
    "def CheckDim(nh, checkMatrix):\n",
    "    dim = size(shape(checkMatrix))\n",
    "    problem = 0\n",
    "    for i in range(dim):\n",
    "        if (nh != shape(checkMatrix)[i]):\n",
    "            problem = problem + 1\n",
    "            print(i, problem)\n",
    "    return problem"
   ]
  },
  {
   "cell_type": "code",
   "execution_count": null,
   "metadata": {},
   "outputs": [],
   "source": [
    "def Operate(a, operation, b):\n",
    "    if (operation == '+'):\n",
    "        c = a + b\n",
    "    else:\n",
    "        if (operation == '-'):\n",
    "            c = a - b\n",
    "        else:\n",
    "            if (operation == '*'):\n",
    "                c = np.outer(a, b)\n",
    "            else:\n",
    "                if (operation == '/'):\n",
    "                    c = np.asarray([a[i] / b[i] for i in a])\n",
    "                else:\n",
    "                    if ((operation == '^') or (operation == '**')):\n",
    "                        c = np.asarray([a[i] / b[i] for i in a])\n",
    "                    else:\n",
    "                        sys.exit('ERROR:\\nOperate:\\nInvalid operation input!')\n",
    "    return c"
   ]
  },
  {
   "cell_type": "code",
   "execution_count": null,
   "metadata": {},
   "outputs": [],
   "source": [
    "def Sine(nh, x, operation1 = '+', y = np.ones(nh, float), operation2 = '+', z = np.ones(nh, float)):\n",
    "    xSpace, ySpace, zSpace = np.meshgrid(x, y, z)\n",
    "    fxGrid = np.sin(Operate(Operate(xSpace, operation1, ySpace), operation2, zSpace))\n",
    "    print(fxGrid)\n",
    "    fx = fxGrid.reshape(nh ** 3)\n",
    "    return fx"
   ]
  },
  {
   "cell_type": "markdown",
   "metadata": {},
   "source": [
    "This function changes the dimensionality of square operators. For 1-D cases, its output is the input matrix. For 2-D cases, its output is a block-tridiagonal matrix wherein the main diagonal comprises the input matrix and the sub- and super-diagonal comprise identity matrices. For 3-D cases, its output is a block-tridiagonal wherein the main diagonal comprises the 2-D matrices and the sub- and super-diagonal again comprise identity matrices."
   ]
  },
  {
   "cell_type": "code",
   "execution_count": null,
   "metadata": {},
   "outputs": [],
   "source": [
    "def FixDim(nh, blockMatrix, dim):\n",
    "    problem = CheckDim(nh, blockMatrix)\n",
    "    if (problem != 0):\n",
    "        sys.exit('ERROR:\\nFixDimensionality:\\nnh - 1 does not match dimensionality of blockMatrix!')\n",
    "    h = 1.0 / nh\n",
    "    if (dim == 1):\n",
    "        outputMatrix = blockMatrix\n",
    "    else:\n",
    "        print('WARNING:')\n",
    "        print('This program is only in the preliminary stages of handling dimensionality higher than 1! Errors are')\n",
    "        print('likely to occur!')\n",
    "        blockMatrices2D = [blockMatrix for x in range(nh - 1)]\n",
    "        outputMatrix2D = block_diag(*blockMatrices2D)\n",
    "        fill_diagonal(outputMatrix2D[nh - 1:], -1.0 / (h ** 2))\n",
    "        fill_diagonal(outputMatrix2D[:, nh - 1:], -1.0 / (h ** 2))\n",
    "        fill_diagonal(outputMatrix2D, 2 * outputMatrix2D[0, 0])\n",
    "        if (dim == 2):\n",
    "            outputMatrix = outputMatrix2D\n",
    "        else:\n",
    "            if (dim == 3):\n",
    "                blockMatrices3D = [outputMatrix2D for x in range(nh - 1)]\n",
    "                outputMatrix = block_diag(*blockMatrices3D)\n",
    "                fill_diagonal(outputMatrix[(nh - 1) ** 2:], -1.0 / (h ** 2))\n",
    "                fill_diagonal(outputMatrix[:, (nh - 1) ** 2:], -1.0 / (h ** 2))\n",
    "                fill_diagonal(outputMatrix, 1.5 * outputMatrix[0, 0])\n",
    "            else:\n",
    "                sys.exit('ERROR:\\nMakeLaplacian:\\nDimensionality cannot be greater than 3!')\n",
    "    return outputMatrix"
   ]
  },
  {
   "cell_type": "markdown",
   "metadata": {},
   "source": [
    "This function manages the construction of the Laplacian operator."
   ]
  },
  {
   "cell_type": "code",
   "execution_count": null,
   "metadata": {},
   "outputs": [],
   "source": [
    "def MakeLaplacian(nh, dim):\n",
    "    Laplacian1D = MakeLaplacian1D(nh)\n",
    "    Laplacian = FixDim(nh, Laplacian1D, dim)\n",
    "    return Laplacian"
   ]
  },
  {
   "cell_type": "markdown",
   "metadata": {},
   "source": [
    "This function constructs a 1-D Laplacian operator."
   ]
  },
  {
   "cell_type": "code",
   "execution_count": null,
   "metadata": {},
   "outputs": [],
   "source": [
    "def MakeLaplacian1D(nh):\n",
    "    h = 1.0 / nh\n",
    "    Laplacian = np.zeros((nh, nh), float)\n",
    "    fill_diagonal(Laplacian[1:], -1)\n",
    "    fill_diagonal(Laplacian[:, 1:], -1)\n",
    "    fill_diagonal(Laplacian, 2)\n",
    "    Laplacian = (1.0 / (h ** 2)) * Laplacian\n",
    "    return Laplacian"
   ]
  },
  {
   "cell_type": "markdown",
   "metadata": {},
   "source": [
    "This function manages the construction of the Helmholtz operator."
   ]
  },
  {
   "cell_type": "code",
   "execution_count": null,
   "metadata": {},
   "outputs": [],
   "source": [
    "def MakeHelmholtz(nh, heatCoeff, dim):\n",
    "    problem = CheckDim(nh, heatCoeff)\n",
    "    if (problem != 0):\n",
    "        sys.exit('ERROR:\\nMakeHelmholtz:\\nnh - 1 does not match dimensionality of heatCoeff!')\n",
    "    delOp = np.zeros((nh, nh), float)\n",
    "    fill_diagonal(delOp[1:], 1)\n",
    "    fill_diagonal(delOp[:, 1:], -1)\n",
    "    Helmholtz1D = np.matmul(np.matmul(delOp, heatCoeff), delOp)\n",
    "    Helmholtz = FixDim(nh, Helmholtz1D, dim)\n",
    "    return Helmholtz"
   ]
  },
  {
   "cell_type": "markdown",
   "metadata": {},
   "source": [
    "This function creates an injection operator. Although `dim` is preemptively being passed into it, it is not yet set up to handle dimensionality greater than 1."
   ]
  },
  {
   "cell_type": "code",
   "execution_count": null,
   "metadata": {},
   "outputs": [],
   "source": [
    "def MakeInject(nh, dim):\n",
    "    n2h = int(nh / 2)\n",
    "    inject = np.zeros((n2h, nh), float)\n",
    "    for i in range(n2h):\n",
    "        inject[i, (2 * i) + 1] = 1\n",
    "    return inject"
   ]
  },
  {
   "cell_type": "markdown",
   "metadata": {},
   "source": [
    "This function creates a full-weighting operator. Although `dim` is preemptively being passed into it, it is not yet set up to handle dimensionality greater than 1."
   ]
  },
  {
   "cell_type": "code",
   "execution_count": null,
   "metadata": {},
   "outputs": [],
   "source": [
    "def MakeFullWeight(nh, dim):\n",
    "    n2h = int(nh / 2)\n",
    "    fullWeight = np.zeros((n2h, nh), float)\n",
    "    weights = [0.5, 0.5]\n",
    "    for i in range(n2h):\n",
    "        fullWeight[i, (2 * i):(2 * i) + 2] = weights\n",
    "    return fullWeight"
   ]
  },
  {
   "cell_type": "markdown",
   "metadata": {},
   "source": [
    "This function creates a piecewise interpolation operator. Although `dim` is preemptively being passed into it, it is not yet set up to handle dimensionality greater than 1."
   ]
  },
  {
   "cell_type": "code",
   "execution_count": null,
   "metadata": {},
   "outputs": [],
   "source": [
    "def MakePiecewise(nh, dim):\n",
    "    nh2 = 2 * nh\n",
    "    piecewise = np.zeros((nh2, nh), float)\n",
    "    weights = [1, 1]\n",
    "    for i in range(nh):\n",
    "        piecewise[(2 * i):(2 * i) + 2, i] = weights\n",
    "    return piecewise"
   ]
  },
  {
   "cell_type": "markdown",
   "metadata": {},
   "source": [
    "This function creates a linear interpolation operator. Although `dim` is preemptively being passed into it, it is not yet set up to handle dimensionality greater than 1."
   ]
  },
  {
   "cell_type": "code",
   "execution_count": null,
   "metadata": {},
   "outputs": [],
   "source": [
    "def MakeLinearInterp(nh, dim):\n",
    "    nh2 = 2 * nh\n",
    "    linearInterp = np.zeros((nh2, nh), float)\n",
    "    weights = [1, 1]\n",
    "    for i in range(nh):\n",
    "        linearInterp[(2 * i):(2 * i) + 2, i] = weights\n",
    "    return linearInterp"
   ]
  },
  {
   "cell_type": "markdown",
   "metadata": {},
   "source": [
    "This function restricts some arbitrary operator from $h$ to 2$h$ using whichever restriction and prolongation combination the user prefers. Although `dim` is preemptively being passed into it, it is not yet set up to handle dimensionality greater than 1."
   ]
  },
  {
   "cell_type": "code",
   "execution_count": null,
   "metadata": {},
   "outputs": [],
   "source": [
    "def RestrictOperator(nh, operatorh, restrictType, prolongType, dim):\n",
    "    problem = CheckDim(nh, operatorh)\n",
    "    if (problem != 0):\n",
    "        sys.exit('ERROR:\\nRestrictOperator:\\nnh - 1 does not match dimensionality of Laplacian!')\n",
    "    n2h = int(nh / 2)\n",
    "    if (restrictType == 'I'):\n",
    "        restrict = MakeInject(nh, dim)\n",
    "    else:\n",
    "        restrict = MakeFullWeight(nh, dim)\n",
    "    if (prolongType == 'PW'):\n",
    "        prolong = MakePiecewise(n2h, dim)\n",
    "    else:\n",
    "        prolong = MakeLinearInterp(n2h, dim)\n",
    "    operator2h = np.matmul(restrict, np.matmul(operatorh, prolong))\n",
    "    return Laplacian2h"
   ]
  },
  {
   "cell_type": "markdown",
   "metadata": {},
   "source": [
    "This function prolongs some arbitrary operator from 2$h$ to $h$ using whichever restriction and prolongation combination the user prefers. Although `dim` is preemptively being passed into it, it is not yet set up to handle dimensionality greater than 1."
   ]
  },
  {
   "cell_type": "code",
   "execution_count": null,
   "metadata": {},
   "outputs": [],
   "source": [
    "def ProlongOperator(nh, operator2h, restrictType, prolongType, dim):\n",
    "    problem = CheckDim(nh, operator2h)\n",
    "    if (problem != 0):\n",
    "        sys.exit('ERROR:\\nProlongOperator:\\nnh - 1 does not match dimensionality of Laplacian!')\n",
    "    nh2 = 2 * nh\n",
    "    if (restrictType == 'I'):\n",
    "        restrict = MakeInject(nh2, dim)\n",
    "    else:\n",
    "        restrict = MakeFullWeight(nh2, dim)\n",
    "    if (prolongType == 'PW'):\n",
    "        prolong = MakePiecewise(nh, dim)\n",
    "    else:\n",
    "        prolong = MakeLinearInterp(nh, dim)\n",
    "    operatorh = np.matmul(prolong, np.matmul(operator2h, restrict))\n",
    "    return operatorh"
   ]
  },
  {
   "cell_type": "markdown",
   "metadata": {},
   "source": [
    "This block is just a workspace with useful things to streamline testing as I develop new pieces of code."
   ]
  },
  {
   "cell_type": "code",
   "execution_count": null,
   "metadata": {},
   "outputs": [],
   "source": [
    "n2h = int(nh / 2)\n",
    "nh2 = 2 * nh\n",
    "\n",
    "test = np.arange((nh2 - 1) * (nh - 1)).reshape((nh2 - 1, nh - 1))"
   ]
  },
  {
   "cell_type": "markdown",
   "metadata": {},
   "source": [
    "This block creates a Laplacian operator and a Helmholtz operator using the conditions you set in the input block. It also creates examples of restriction and prolongation operators."
   ]
  },
  {
   "cell_type": "code",
   "execution_count": null,
   "metadata": {},
   "outputs": [],
   "source": [
    "# make Laplacian operator\n",
    "Laplacian = MakeLaplacian(nh, dim)\n",
    "\n",
    "# make Helmholtz operator\n",
    "Helmholtz = MakeHelmholtz(nh, heatCoeff, dim)\n",
    "\n",
    "# make restriction operators\n",
    "inject = MakeInject(nh, dim)    \n",
    "fullWeight = MakeFullWeight(nh, dim)\n",
    "\n",
    "# make prolongation operators\n",
    "piecewise = MakePiecewise(n2h, dim)\n",
    "linearInterp = MakeLinearInterp(n2h, dim)"
   ]
  },
  {
   "cell_type": "markdown",
   "metadata": {},
   "source": [
    "This block prints out the operators created in the block above."
   ]
  },
  {
   "cell_type": "code",
   "execution_count": null,
   "metadata": {
    "scrolled": false
   },
   "outputs": [],
   "source": [
    "np.set_printoptions(threshold = sys.maxsize)\n",
    "print('Laplacian operator =')\n",
    "print(Laplacian)\n",
    "print('')\n",
    "print('Helmholtz operator =')\n",
    "print(Helmholtz)\n",
    "print('')\n",
    "print('injection operator =')\n",
    "print(inject)\n",
    "print('')\n",
    "print('full weighting operator =')\n",
    "print(fullWeight)\n",
    "print('')\n",
    "print('piecewise interpolation operator =')\n",
    "print(piecewise)\n",
    "print('')\n",
    "print('linear interpolation operator =')\n",
    "print(linearInterp)"
   ]
  },
  {
   "cell_type": "markdown",
   "metadata": {},
   "source": [
    "This block creates Laplacian operators and a Helmholtz operators with different grid spacing for comparing the explicitly-created and the restricted and prolongated versions of them, using the conditions for restriction and prolongation you set in the input block."
   ]
  },
  {
   "cell_type": "code",
   "execution_count": null,
   "metadata": {},
   "outputs": [],
   "source": [
    "Laplacian2h = MakeLaplacian(n2h, dim)\n",
    "Laplacian2hRestricted = RestrictOperator(nh, Laplacian, restrictType, prolongType, dim)\n",
    "\n",
    "Laplacianh2 = MakeLaplacian(nh2, dim)\n",
    "Laplacianh2Prolongated = ProlongOperator(nh, Laplacian, restrictType, prolongType, dim)\n",
    "\n",
    "xSpace = np.linspace(0, 1, num = n2h)\n",
    "heatCoeff = np.sin(xSpace)\n",
    "\n",
    "Helmholtz2h = MakeHelmholtz(n2h, heatCoeff, dim)\n",
    "Helmholtz2hRestricted = RestrictOperator(nh, Helmholtz, restrictType, prolongType, dim)\n",
    "\n",
    "xSpace = np.linspace(0, 1, num = nh2)\n",
    "heatCoeff = np.sin(xSpace)\n",
    "\n",
    "Helmholtzh2 = MakeHelmholtz(nh2, heatCoeff, dim)\n",
    "Helmholtzh2Prolongated = ProlongOperator(nh, Helmholtz, restrictType, prolongType, dim)"
   ]
  },
  {
   "cell_type": "markdown",
   "metadata": {},
   "source": [
    "This block prints out the operators created in the block above."
   ]
  },
  {
   "cell_type": "code",
   "execution_count": null,
   "metadata": {
    "scrolled": false
   },
   "outputs": [],
   "source": [
    "print('explicitly-calculated Laplacian^2h =')\n",
    "print(Laplacian2h)\n",
    "print('')\n",
    "print('restricted Laplacian^2h =')\n",
    "print(Laplacian2hRestricted)\n",
    "print('')\n",
    "print('explicitly-calculated Laplacian^h =')\n",
    "print(Laplacianh2)\n",
    "print('')\n",
    "print('prolongated Laplacian^h =')\n",
    "print(Laplacianh2Prolongated)\n",
    "print('')\n",
    "print('explicitly-calculated Helmholtz^2h =')\n",
    "print(Helmholtz2h)\n",
    "print('')\n",
    "print('restricted Helmholtz^2h =')\n",
    "print(Helmholtz2hRestricted)\n",
    "print('')\n",
    "print('explicitly-calculated Helmholtz^h =')\n",
    "print(Helmholtzh2)\n",
    "print('')\n",
    "print('prolongated Helmholtz^h =')\n",
    "print(Helmholtzh2Prolongated)"
   ]
  },
  {
   "cell_type": "code",
   "execution_count": null,
   "metadata": {},
   "outputs": [],
   "source": []
  }
 ],
 "metadata": {
  "kernelspec": {
   "display_name": "Python 3",
   "language": "python",
   "name": "python3"
  },
  "language_info": {
   "codemirror_mode": {
    "name": "ipython",
    "version": 3
   },
   "file_extension": ".py",
   "mimetype": "text/x-python",
   "name": "python",
   "nbconvert_exporter": "python",
   "pygments_lexer": "ipython3",
   "version": "3.7.3"
  }
 },
 "nbformat": 4,
 "nbformat_minor": 2
}
