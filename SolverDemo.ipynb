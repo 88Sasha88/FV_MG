{
 "cells": [
  {
   "cell_type": "code",
   "execution_count": 1,
   "metadata": {},
   "outputs": [
    {
     "data": {
      "text/html": [
       "<style>pre { white-space: pre !important; }</style>"
      ],
      "text/plain": [
       "<IPython.core.display.HTML object>"
      ]
     },
     "metadata": {},
     "output_type": "display_data"
    },
    {
     "data": {
      "text/html": [
       "<style>pre { white-space: pre !important; }</style>"
      ],
      "text/plain": [
       "<IPython.core.display.HTML object>"
      ]
     },
     "metadata": {},
     "output_type": "display_data"
    }
   ],
   "source": [
    "import os.path\n",
    "from scipy import *\n",
    "import numpy as np\n",
    "from numpy import *\n",
    "from numpy import linalg as LA\n",
    "from scipy import linalg as LA2\n",
    "import sympy as sympy\n",
    "import sys as sys\n",
    "import time\n",
    "import matplotlib.pyplot as plt\n",
    "import itertools as it\n",
    "from IPython.core.display import HTML\n",
    "import BasicTools as BT\n",
    "import WaveTools as WT\n",
    "import PlotTools as PT\n",
    "import FFTTools as FFTT\n",
    "import OperatorTools as OT\n",
    "import GridTransferTools as GTT\n",
    "import TestTools as TT\n",
    "import SolverTools as ST\n",
    "\n",
    "display(HTML(\"<style>pre { white-space: pre !important; }</style>\"))\n",
    "np.set_printoptions( linewidth = 10000, threshold = 100000)"
   ]
  },
  {
   "cell_type": "markdown",
   "metadata": {},
   "source": [
    "In this cell, you initialize all your values."
   ]
  },
  {
   "cell_type": "code",
   "execution_count": null,
   "metadata": {},
   "outputs": [],
   "source": [
    "nh = 64\n",
    "refRatio = 2\n",
    "sigma = 0.1\n",
    "mu = 0.5\n",
    "c = 1.\n",
    "nt = 80\n",
    "CFL = 1."
   ]
  },
  {
   "cell_type": "markdown",
   "metadata": {},
   "source": [
    "Here, I'm making the grid, the waves, and the nullspace matrix. (Ignore the outputs from the nullspace function. I'm too nervous to get rid of my print statements yet. There's nothing to see here.)"
   ]
  },
  {
   "cell_type": "code",
   "execution_count": null,
   "metadata": {},
   "outputs": [],
   "source": [
    "finehalf = list(np.arange(int(nh / refRatio)))\n",
    "omega = BT.Grid(nh)\n",
    "omegaFine = omega\n",
    "wavesFine = WT.MakeWaves(omega)\n",
    "omega.AddPatch(refRatio, finehalf)\n",
    "nh_max = omega.nh_max\n",
    "degFreed = omega.degFreed\n",
    "waves = WT.MakeWaves(omega)\n",
    "nullspace = OT.FindNullspace(omega, waves)\n",
    "wavesMod = waves @ nullspace\n",
    "\n",
    "# print(waves)\n",
    "# print(waves[:, 0])\n",
    "# print(waves[:, ::-1][:, 0])\n",
    "# print((np.pi / 2) * nullspace @ waves[:, ::-1][:, 0])"
   ]
  },
  {
   "cell_type": "markdown",
   "metadata": {},
   "source": [
    "Here's some math. It's sorta dicey and experimental."
   ]
  },
  {
   "cell_type": "code",
   "execution_count": null,
   "metadata": {},
   "outputs": [],
   "source": [
    "t, nt = ST.CalcTime(omega, CFL, c, nt = nt)\n",
    "func = np.zeros(omega.degFreed, float) # TT.Gauss(omega, sigma, mu)\n",
    "func[8:30] = 1 # 30, 19\n",
    "# print(np.shape(func[8:19]))\n",
    "# print(np.shape(wavesMod))\n",
    "# print(np.shape(func))\n",
    "FCoefs = FFTT.FourierCoefs(omega, wavesMod, func)\n",
    "EulerCoefs = ST.ForwardEuler(omega, wavesMod, func, nt, c, CFL, ST.Upwind)\n",
    "propFCoefs = FFTT.PropogateFCoefs(omega, FCoefs, c, t, nullspace = nullspace)\n",
    "allCoefs = PT.Load(FCoefs, EulerCoefs)# propFCoefs, "
   ]
  },
  {
   "cell_type": "code",
   "execution_count": null,
   "metadata": {},
   "outputs": [],
   "source": [
    "FCoefs0 = np.zeros(degFreed, float) # FFTT.FourierCoefs(omega, wavesMod, func)\n",
    "FCoefs0[::-1][0] = 1\n",
    "# FCoefs = FCoefs @ nullspace\n",
    "# print(FCoefs)\n",
    "func0 = wavesMod @ FCoefs0\n",
    "func = func0 # * (1 - ((np.pi / 2) * waves[:, ::-1][:, 0]))\n",
    "FCoefs = FFTT.FourierCoefs(omega, wavesMod, func)\n",
    "EulerCoefs = ST.ForwardEuler(omega, wavesMod, func, nt, c, CFL, ST.Upwind)\n",
    "propFCoefs = FFTT.PropogateFCoefs(omega, FCoefs, c, t, nullspace = nullspace)\n",
    "# allCoefs = PT.Load(FCoefs, propFCoefs, EulerCoefs)\n",
    "propWaves = FFTT.PropWaves(omega, waves, c, t)\n",
    "\n",
    "propFunc0 = (propWaves @ nullspace @ FCoefs)\n",
    "oneVals = np.ones(degFreed, float)\n",
    "oneVals[nh:] = 0\n",
    "oneVals = (np.pi / 4 ) * oneVals\n",
    "otherFunc = propFunc0 * (np.pi / 2) * abs(propWaves[:, ::-1][:, 0])\n",
    "propFunc = propFunc0 - otherFunc\n",
    "otherCoefs = FFTT.FourierCoefs(omega, propWaves @ nullspace, otherFunc)\n",
    "propFCoefs2 = FFTT.FourierCoefs(omega, propWaves @ nullspace, propFunc)\n",
    "\n",
    "propNull = OT.FindNullspace(omega, propWaves, shift = True)\n",
    "PT.PlotMixedWave(omega, waves, nullspace @ allCoefs, rescale = 6, labels = [r'$u_{0} (x)$', r'Euler $u_{0} (x - c t)$'], dpi = 300, yGrid = True)\n",
    "\n"
   ]
  },
  {
   "cell_type": "markdown",
   "metadata": {},
   "source": [
    "Here is the plot for the initial nullspace wave function."
   ]
  },
  {
   "cell_type": "code",
   "execution_count": null,
   "metadata": {},
   "outputs": [],
   "source": [
    "PT.PlotMixedWave(omega, waves, nullspace @ FCoefs, rescale = [6, 10])#, saveName = 'probInit', dpi = 300, labels = [r'$u_{0} (x)$'])\n"
   ]
  },
  {
   "cell_type": "markdown",
   "metadata": {},
   "source": [
    "Here it is propagated forward using the \"old\" method (which, recall, doesn't work as well.)"
   ]
  },
  {
   "cell_type": "code",
   "execution_count": null,
   "metadata": {},
   "outputs": [],
   "source": [
    "PT.PlotMixedWave(omega, waves, nullspace @ propFCoefs, rescale = [6, 10])#, saveName = 'probOld', dpi = 300, labels = [r'$u_{0} (x - c t)$'])\n"
   ]
  },
  {
   "cell_type": "markdown",
   "metadata": {},
   "source": [
    "Here it is with the \"new\" method, which the square wave tests showed works better in the coarse region and some of the fine region."
   ]
  },
  {
   "cell_type": "code",
   "execution_count": null,
   "metadata": {},
   "outputs": [],
   "source": [
    "PT.PlotMixedWave(omega, propWaves, nullspace @ FCoefs, rescale = [6, 10], ct = c * t)#, saveName = 'probNew', dpi = 300, labels = [r'$u_{0} (x - c t)$'])\n"
   ]
  },
  {
   "cell_type": "markdown",
   "metadata": {},
   "source": [
    "Here is my idea for forcing the solution to work in the fine region. Basically, I'm gonna subtract off the nonzero portion of the fine grid solution while leaving the coarse part alone, and then I'm gonna throw that new solution into a Fourier transform and see what coefficients it gives me. The only way I could see this possibly working would be if it doesn't preserve the analytic solution in the background, only the cell-average solution. (Also, I think I'd need to leave the portion of the fine solution which appears working okay, which I suspect to be the portion which was already somewhere in the fine region prior to propagation, alone.) But anyway, here's the wave I'm subtracting off."
   ]
  },
  {
   "cell_type": "code",
   "execution_count": null,
   "metadata": {},
   "outputs": [],
   "source": [
    "PT.PlotMixedWave(omega, propWaves, nullspace @ otherCoefs, rescale = [6, 10], ct = c * t)\n"
   ]
  },
  {
   "cell_type": "markdown",
   "metadata": {},
   "source": [
    "And here's the new wave, in which the wave in the previous cell is subtracted off of the wave found using the new method."
   ]
  },
  {
   "cell_type": "code",
   "execution_count": null,
   "metadata": {},
   "outputs": [],
   "source": [
    "PT.PlotMixedWave(omega, propWaves, nullspace @ propFCoefs2, rescale = [6, 10], ct = c * t)#, saveName = 'probNew', dpi = 300, labels = [r'$u_{0} (x - c t)$'])\n"
   ]
  },
  {
   "cell_type": "markdown",
   "metadata": {},
   "source": [
    "As janky as this idea is, it appears to be giving surprisingly decent cell-average values in the coarse region. Here is a comparison between the values in the wave in cell 8 (the \"new\" method) and the wave from this last proposed method (cell 10.) Notice that the coarse region (the last eight values) seems relatively unaffected (on the order of $10^{-9}$ - $10^{-10}$ difference.) Again, it's not a great idea. But it's an idea."
   ]
  },
  {
   "cell_type": "code",
   "execution_count": null,
   "metadata": {},
   "outputs": [],
   "source": [
    "A = propWaves @ nullspace @ FCoefs\n",
    "B = propWaves @ nullspace @ propFCoefs2\n",
    "print(A)\n",
    "print(B)\n",
    "print(A - B)"
   ]
  },
  {
   "cell_type": "markdown",
   "metadata": {},
   "source": [
    "Everything after this is either commented out (as you can see) or my progress so far on the Midpoint Method. If you have comments on that, they're definitely welcome."
   ]
  },
  {
   "cell_type": "code",
   "execution_count": null,
   "metadata": {
    "scrolled": true
   },
   "outputs": [],
   "source": [
    "# ks, error = TT.CalcError(omega, propFCoefs, EulerCoefs, errorType = 'relative')\n",
    "# fig, ax = plt.subplots(figsize = [20, 6])\n",
    "# plt.plot(ks, error)\n",
    "# # plt.plot(ks, EulerCoefs)\n",
    "# # plt.plot(ks, propFCoefs)\n",
    "# plt.title('Error for CFL = ' + str(CFL))\n",
    "# plt.xlabel('Wavenumber')\n",
    "# plt.ylabel('Error')\n",
    "# plt.show()"
   ]
  },
  {
   "cell_type": "code",
   "execution_count": null,
   "metadata": {},
   "outputs": [],
   "source": [
    "# norms, CFLs = TT.NormVersusCFL(ST.ForwardEuler, omega, waves, gauss, c, CFL, nt, normType = 'L1', errorType = 'absolute')\n",
    "# plt.figure()\n",
    "# plt.plot(CFLs, norms)\n",
    "# plt.title('Error versus CFL Condition for Forward Euler')\n",
    "# plt.xlabel('CFL')\n",
    "# plt.ylabel('Error')\n",
    "# plt.show()\n"
   ]
  },
  {
   "cell_type": "code",
   "execution_count": null,
   "metadata": {},
   "outputs": [],
   "source": [
    "# A = np.arange(20)\n",
    "# B = A[::2][1:]\n",
    "# C = A[1::2][:-1]\n",
    "# print(A)\n",
    "# print(B)\n",
    "# print(C)\n",
    "# print(propFCoefs)"
   ]
  },
  {
   "cell_type": "code",
   "execution_count": null,
   "metadata": {},
   "outputs": [],
   "source": [
    "# ampKs, ampError = TT.AmpError(omega, EulerCoefs, propFCoefs)"
   ]
  },
  {
   "cell_type": "code",
   "execution_count": null,
   "metadata": {},
   "outputs": [],
   "source": [
    "# ks, error = TT.CalcError(omega, propFCoefs, EulerCoefs, errorType = 'relative')\n",
    "# fig, ax = plt.subplots(figsize = [20, 6])\n",
    "# plt.plot(ampKs, ampError)\n",
    "# plt.title('Amplitude Error for CFL = ' + str(CFL))\n",
    "# plt.xlabel('Wavenumber')\n",
    "# plt.ylabel('Error')\n",
    "# plt.show()"
   ]
  },
  {
   "cell_type": "code",
   "execution_count": null,
   "metadata": {},
   "outputs": [],
   "source": [
    "# deltaCoefs = np.ones(nh, float)\n",
    "# PT.PlotMixedWave(omega, waves, deltaCoefs, rescale = [4, 6])"
   ]
  },
  {
   "cell_type": "code",
   "execution_count": null,
   "metadata": {},
   "outputs": [],
   "source": [
    "# deltaCoefs[1::2] = 0\n",
    "# PT.PlotMixedWave(omega, waves, deltaCoefs, rescale = [4, 6])"
   ]
  },
  {
   "cell_type": "code",
   "execution_count": null,
   "metadata": {},
   "outputs": [],
   "source": [
    "# deltaCoefs = np.ones(nh, float)\n",
    "# deltaCoefs[::2] = 0\n",
    "# PT.PlotMixedWave(omega, waves, deltaCoefs, rescale = [4, 6])"
   ]
  },
  {
   "cell_type": "code",
   "execution_count": null,
   "metadata": {},
   "outputs": [],
   "source": [
    "# Cosine = lambda k: np.cos(2. * np.pi * k)\n",
    "# Sine = lambda k: np.sin(2. * np.pi * k)\n",
    "# RotMat = lambda k: np.asarray([Cosine(k), -Sine(k), Sine(k), Cosine(k)]).reshape(2, 2)\n",
    "# print(RotMat(0.125))"
   ]
  },
  {
   "cell_type": "code",
   "execution_count": null,
   "metadata": {},
   "outputs": [],
   "source": []
  },
  {
   "cell_type": "code",
   "execution_count": null,
   "metadata": {},
   "outputs": [],
   "source": [
    "# def ExplicitMidpoint(omega, waves, u0, nt, const, CFL, periodic = True):\n",
    "#     degFreed = omega.degFreed\n",
    "#     x = omega.xCell\n",
    "#     dx = omega.dx\n",
    "#     dx_0 = 1 - x[::-1][0] + x[0]\n",
    "#     dt = CFL * dx / const\n",
    "#     dt_0 = CFL * dx_0 / const\n",
    "#     t = nt * dt[0]\n",
    "#     u = u0.copy()\n",
    "    \n",
    "    \n",
    "# #     for n in range(nt):\n",
    "# #         u_f = u[::-1][0]\n",
    "# #         u[1:] = u[1:] - (const * (dt / dx) * (u[1:] - u[:-1]))\n",
    "# #         if (periodic == True):\n",
    "# #             u[0] = u[0] - (const * (dt_0 / dx_0) * (u[0] - u_f))\n",
    "    \n",
    "#     h = (b - a) / n;\n",
    "# halfh = h / 2;\n",
    "# y(1,:) = ya;\n",
    "# t(1) = a;\n",
    "# for i = 1 : n\n",
    "#     t(i+1) = t(i) + h;\n",
    "#     z = y(i,:) + halfh * f(t(i),y(i,:));\n",
    "#     y(i+1,:) = y(i,:) + h * f(t(i)+halfh,z);\n",
    "    \n",
    "    \n",
    "#     uCoefs = LA.inv(waves) @ u\n",
    "#     return uCoefs, t"
   ]
  },
  {
   "cell_type": "code",
   "execution_count": 4,
   "metadata": {},
   "outputs": [
    {
     "name": "stdout",
     "output_type": "stream",
     "text": [
      "0.46875\n"
     ]
    }
   ],
   "source": [
    "nh = 128\n",
    "refRatio = 2\n",
    "omega = BT.Grid(nh)\n",
    "waves = WT.MakeWaves(omega)\n",
    "nt = 120\n",
    "CFL = 0.5\n",
    "c = 1\n",
    "t, nt = ST.CalcTime(omega, CFL, c, nt = nt)\n",
    "print(t)"
   ]
  },
  {
   "cell_type": "code",
   "execution_count": 9,
   "metadata": {},
   "outputs": [
    {
     "name": "stdout",
     "output_type": "stream",
     "text": [
      "k1 = 3.2131520595867187\n",
      "k2 = 3.231551182529074\n",
      "k3 = 3.231551182529074\n",
      "k4 = 3.250065803527832\n",
      "1.862384289507654 does not need to equal 1.8623842895030975.\n",
      "3.250065803527832\n",
      "(128,)\n",
      "Are you *sure* your labels are ordered correctly?\n"
     ]
    },
    {
     "data": {
      "image/png": "[encoded data removed]",
      "text/plain": [
       "<Figure size 1440x1080 with 1 Axes>"
      ]
     },
     "metadata": {
      "needs_background": "light"
     },
     "output_type": "display_data"
    }
   ],
   "source": [
    "# func = np.zeros(omega.degFreed, float) # TT.Gauss(omega, sigma, mu)\n",
    "# func[8:30] = 1\n",
    "# print(np.shape(wavesMod))\n",
    "# print(np.shape(func))\n",
    "FCoefs = np.zeros(nh, float) # FFTT.FourierCoefs(omega, waves, func)\n",
    "FCoefs[0] = 1\n",
    "func = waves @ FCoefs\n",
    "# FCoefs[::2] = \n",
    "order = 5\n",
    "EulerCoefs = ST.RK4(omega, waves, func, nt, c, CFL, ST.TimePoly, order = order)\n",
    "print(ST.TimePoly(omega, t, func, c, order))\n",
    "print(np.shape(EulerCoefs))\n",
    "# propFCoefs = FFTT.PropogateFCoefs(omega, FCoefs, c, t)\n",
    "allCoefs = PT.Load(FCoefs, EulerCoefs)\n",
    "PT.PlotMixedWave(omega, waves, allCoefs, rescale = [4, 6], labels = [r'$u_{0} (x)$', r'RK4 $u_{0} (x - c t)$'], yGrid = True)# , save = True)\n",
    "\n"
   ]
  },
  {
   "cell_type": "code",
   "execution_count": 6,
   "metadata": {},
   "outputs": [
    {
     "ename": "NameError",
     "evalue": "name 'wavesMod' is not defined",
     "output_type": "error",
     "traceback": [
      "\u001b[0;31m---------------------------------------------------------------------------\u001b[0m",
      "\u001b[0;31mNameError\u001b[0m                                 Traceback (most recent call last)",
      "\u001b[0;32m<ipython-input-6-4dd38c04900d>\u001b[0m in \u001b[0;36m<module>\u001b[0;34m\u001b[0m\n\u001b[1;32m      1\u001b[0m \u001b[0mfunc\u001b[0m \u001b[0;34m=\u001b[0m \u001b[0mnp\u001b[0m\u001b[0;34m.\u001b[0m\u001b[0mzeros\u001b[0m\u001b[0;34m(\u001b[0m\u001b[0momega\u001b[0m\u001b[0;34m.\u001b[0m\u001b[0mdegFreed\u001b[0m\u001b[0;34m,\u001b[0m \u001b[0mfloat\u001b[0m\u001b[0;34m)\u001b[0m \u001b[0;31m# TT.Gauss(omega, sigma, mu)\u001b[0m\u001b[0;34m\u001b[0m\u001b[0;34m\u001b[0m\u001b[0m\n\u001b[1;32m      2\u001b[0m \u001b[0mfunc\u001b[0m\u001b[0;34m[\u001b[0m\u001b[0;36m8\u001b[0m\u001b[0;34m:\u001b[0m\u001b[0;36m30\u001b[0m\u001b[0;34m]\u001b[0m \u001b[0;34m=\u001b[0m \u001b[0;36m1\u001b[0m\u001b[0;34m\u001b[0m\u001b[0;34m\u001b[0m\u001b[0m\n\u001b[0;32m----> 3\u001b[0;31m \u001b[0mprint\u001b[0m\u001b[0;34m(\u001b[0m\u001b[0mnp\u001b[0m\u001b[0;34m.\u001b[0m\u001b[0mshape\u001b[0m\u001b[0;34m(\u001b[0m\u001b[0mwavesMod\u001b[0m\u001b[0;34m)\u001b[0m\u001b[0;34m)\u001b[0m\u001b[0;34m\u001b[0m\u001b[0;34m\u001b[0m\u001b[0m\n\u001b[0m\u001b[1;32m      4\u001b[0m \u001b[0mprint\u001b[0m\u001b[0;34m(\u001b[0m\u001b[0mnp\u001b[0m\u001b[0;34m.\u001b[0m\u001b[0mshape\u001b[0m\u001b[0;34m(\u001b[0m\u001b[0mfunc\u001b[0m\u001b[0;34m)\u001b[0m\u001b[0;34m)\u001b[0m\u001b[0;34m\u001b[0m\u001b[0;34m\u001b[0m\u001b[0m\n\u001b[1;32m      5\u001b[0m \u001b[0mFCoefs\u001b[0m \u001b[0;34m=\u001b[0m \u001b[0mFFTT\u001b[0m\u001b[0;34m.\u001b[0m\u001b[0mFourierCoefs\u001b[0m\u001b[0;34m(\u001b[0m\u001b[0momega\u001b[0m\u001b[0;34m,\u001b[0m \u001b[0mwaves\u001b[0m\u001b[0;34m,\u001b[0m \u001b[0mfunc\u001b[0m\u001b[0;34m)\u001b[0m\u001b[0;34m\u001b[0m\u001b[0;34m\u001b[0m\u001b[0m\n",
      "\u001b[0;31mNameError\u001b[0m: name 'wavesMod' is not defined"
     ]
    }
   ],
   "source": [
    "func = np.zeros(omega.degFreed, float) # TT.Gauss(omega, sigma, mu)\n",
    "func[8:30] = 1\n",
    "print(np.shape(wavesMod))\n",
    "print(np.shape(func))\n",
    "FCoefs = FFTT.FourierCoefs(omega, waves, func)\n",
    "# FCoefs[::2] = 0\n",
    "EulerCoefs = ST.RK4(omega, waves, func, nt, c, CFL, ST.Upwind)\n",
    "print(np.shape(EulerCoefs))\n",
    "# propFCoefs = FFTT.PropogateFCoefs(omega, FCoefs, c, t)\n",
    "allCoefs = PT.Load(FCoefs, EulerCoefs)\n",
    "PT.PlotMixedWave(omega, waves, allCoefs, rescale = [4, 6], labels = [r'$u_{0} (x)$', r'Midpoint Method $u_{0} (x - c t)$'])#, save = True)\n"
   ]
  },
  {
   "cell_type": "code",
   "execution_count": null,
   "metadata": {},
   "outputs": [],
   "source": []
  },
  {
   "cell_type": "code",
   "execution_count": null,
   "metadata": {},
   "outputs": [],
   "source": []
  }
 ],
 "metadata": {
  "kernelspec": {
   "display_name": "Python 3",
   "language": "python",
   "name": "python3"
  },
  "language_info": {
   "codemirror_mode": {
    "name": "ipython",
    "version": 3
   },
   "file_extension": ".py",
   "mimetype": "text/x-python",
   "name": "python",
   "nbconvert_exporter": "python",
   "pygments_lexer": "ipython3",
   "version": "3.7.3"
  }
 },
 "nbformat": 4,
 "nbformat_minor": 2
}
