{
 "cells": [
  {
   "cell_type": "code",
   "execution_count": 1,
   "metadata": {},
   "outputs": [
    {
     "data": {
      "text/html": [
       "<style>pre { white-space: pre !important; }</style>"
      ],
      "text/plain": [
       "<IPython.core.display.HTML object>"
      ]
     },
     "metadata": {},
     "output_type": "display_data"
    }
   ],
   "source": [
    "import os.path\n",
    "from scipy import *\n",
    "import numpy as np\n",
    "from numpy import *\n",
    "from numpy import linalg as LA\n",
    "from scipy import linalg as LA2\n",
    "import sympy as sympy\n",
    "import sys as sys\n",
    "import time\n",
    "import matplotlib.pyplot as plt\n",
    "import itertools as it\n",
    "from IPython.core.display import HTML\n",
    "import BasicTools as BT\n",
    "import WaveTools as WT\n",
    "import PlotTools as PT\n",
    "import FFTTools as FFTT\n",
    "import OperatorTools as OT\n",
    "import GridTransferTools as GTT\n",
    "\n",
    "display(HTML(\"<style>pre { white-space: pre !important; }</style>\"))\n",
    "np.set_printoptions( linewidth = 1000)"
   ]
  },
  {
   "cell_type": "code",
   "execution_count": 2,
   "metadata": {},
   "outputs": [
    {
     "name": "stdout",
     "output_type": "stream",
     "text": [
      "degFreed: [4]\n",
      "nh: [4]\n",
      "degFreed: [4, 7]\n",
      "nh: [4, 8]\n",
      "degFreed: [4, 7, 11]\n",
      "nh: [4, 8, 16]\n"
     ]
    }
   ],
   "source": [
    "cells = [[0, 1, 3], [0, 1, 6, 7]]#, [0, 1, 2]] # [[1], [2], [4, 5], [8, 9, 11]] #, [16, 17, 19, 22]]\n",
    "omega = BT.Grid(4)\n",
    "print('degFreed:', omega.degFreed)\n",
    "print('nh:', omega.nh)\n",
    "for i in cells:\n",
    "    omega.AddCell(2, i)\n",
    "    print('degFreed:', omega.degFreed)\n",
    "    print('nh:', omega.nh)"
   ]
  },
  {
   "cell_type": "code",
   "execution_count": 3,
   "metadata": {},
   "outputs": [
    {
     "name": "stdout",
     "output_type": "stream",
     "text": [
      "degFreed: [4]\n",
      "nh: [4]\n",
      "degFreed: [4, 7]\n",
      "nh: [4, 8]\n",
      "degFreed: [4, 7, 11]\n",
      "nh: [4, 8, 16]\n"
     ]
    }
   ],
   "source": [
    "cells = [[0, 1, 3], [0, 1, 6, 7]]#, [0, 1, 2]] # [[1], [2], [4, 5], [8, 9, 11]] #, [16, 17, 19, 22]]\n",
    "omega2 = BT.Grid(4)\n",
    "print('degFreed:', omega2.degFreed)\n",
    "print('nh:', omega2.nh)\n",
    "for i in cells:\n",
    "    omega2.AddCell(2, i)\n",
    "    print('degFreed:', omega2.degFreed)\n",
    "    print('nh:', omega2.nh)"
   ]
  },
  {
   "cell_type": "code",
   "execution_count": null,
   "metadata": {},
   "outputs": [],
   "source": []
  }
 ],
 "metadata": {
  "kernelspec": {
   "display_name": "Python 3",
   "language": "python",
   "name": "python3"
  },
  "language_info": {
   "codemirror_mode": {
    "name": "ipython",
    "version": 3
   },
   "file_extension": ".py",
   "mimetype": "text/x-python",
   "name": "python",
   "nbconvert_exporter": "python",
   "pygments_lexer": "ipython3",
   "version": "3.7.3"
  }
 },
 "nbformat": 4,
 "nbformat_minor": 2
}
