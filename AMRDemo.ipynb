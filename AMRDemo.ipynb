{
 "cells": [
  {
   "cell_type": "code",
   "execution_count": 1,
   "metadata": {},
   "outputs": [],
   "source": [
    "import os.path\n",
    "from scipy import *\n",
    "import numpy as np\n",
    "from numpy import *\n",
    "from numpy import linalg as LA\n",
    "import sys as sys\n",
    "import time\n",
    "import matplotlib.pyplot as plt\n",
    "from IPython.core.display import HTML\n",
    "import BasicTools as BT\n",
    "import WaveTools as WT\n",
    "import PlotTools as PT\n",
    "import FFTTools as FFTT"
   ]
  },
  {
   "cell_type": "code",
   "execution_count": null,
   "metadata": {},
   "outputs": [],
   "source": []
  },
  {
   "cell_type": "code",
   "execution_count": 2,
   "metadata": {},
   "outputs": [
    {
     "name": "stdout",
     "output_type": "stream",
     "text": [
      "[0.25]\n",
      "[[1.         0.63661977]]\n",
      "2\n"
     ]
    }
   ],
   "source": [
    "nh = 2\n",
    "h = 1. / nh\n",
    "xCellFiller, wavesFiller = WT.MakeWaves(nh, h)\n",
    "xCell = xCellFiller[0:nh - 1]\n",
    "waves = wavesFiller[0:nh - 1, :]\n",
    "nh = 2 * nh\n",
    "print(xCell)\n",
    "print(waves)\n",
    "# xNode, wavesNode = WT.MakeNodeWaves(nh, h)\n",
    "xBound = [[0, 2], [2, 4], [4, 6], [8, 12]] # [[0, 1], [0, 1, 2], [0, 1], [0, 1]] \n",
    "print(len(xBound[0]))# == [2, 2, 2, 2])"
   ]
  },
  {
   "cell_type": "code",
   "execution_count": 38,
   "metadata": {},
   "outputs": [],
   "source": [
    "def MakeAMRWaves(nh_max, xBound):\n",
    "    x, y = BT.MakeXY(nh_max, xBounds = xBound)\n",
    "    n = len(x) - 1\n",
    "    xCell = 0.5 * (x[0:n] + x[1:n + 1])\n",
    "    hDiag = x[1:n + 1] - x[0:n]\n",
    "    waves = WT.CellWaves(nh, x)\n",
    "    hs = np.zeros((n, n), float)\n",
    "    np.fill_diagonal(hs, hDiag)\n",
    "    zeroMat = np.zeros((n, nh_max - n), float)\n",
    "    hMat = np.append(hs, zeroMat).reshape(nh_max, n)\n",
    "    hMat[0, 0] = 1.\n",
    "    waves = hMat @ waves\n",
    "    return xCell, waves"
   ]
  },
  {
   "cell_type": "code",
   "execution_count": 41,
   "metadata": {},
   "outputs": [
    {
     "ename": "NameError",
     "evalue": "name 'xNode' is not defined",
     "output_type": "error",
     "traceback": [
      "\u001b[0;31m---------------------------------------------------------------------------\u001b[0m",
      "\u001b[0;31mNameError\u001b[0m                                 Traceback (most recent call last)",
      "\u001b[0;32m<ipython-input-41-04198b58fc2a>\u001b[0m in \u001b[0;36m<module>\u001b[0;34m\u001b[0m\n\u001b[1;32m      1\u001b[0m \u001b[0mxCell\u001b[0m\u001b[0;34m,\u001b[0m \u001b[0mwaves\u001b[0m \u001b[0;34m=\u001b[0m \u001b[0mMakeAMRWaves\u001b[0m\u001b[0;34m(\u001b[0m\u001b[0;36m16\u001b[0m\u001b[0;34m,\u001b[0m \u001b[0mxBound\u001b[0m\u001b[0;34m)\u001b[0m\u001b[0;34m\u001b[0m\u001b[0;34m\u001b[0m\u001b[0m\n\u001b[0;32m----> 2\u001b[0;31m \u001b[0mPT\u001b[0m\u001b[0;34m.\u001b[0m\u001b[0mPlotWaves\u001b[0m\u001b[0;34m(\u001b[0m\u001b[0mnh\u001b[0m\u001b[0;34m,\u001b[0m \u001b[0mh\u001b[0m\u001b[0;34m,\u001b[0m \u001b[0mwaves\u001b[0m\u001b[0;34m,\u001b[0m \u001b[0mxNode\u001b[0m\u001b[0;34m,\u001b[0m \u001b[0mwaveXBasisNode\u001b[0m\u001b[0;34m,\u001b[0m \u001b[0mxBound\u001b[0m \u001b[0;34m=\u001b[0m \u001b[0mxBound\u001b[0m\u001b[0;34m)\u001b[0m\u001b[0;34m\u001b[0m\u001b[0;34m\u001b[0m\u001b[0m\n\u001b[0m",
      "\u001b[0;31mNameError\u001b[0m: name 'xNode' is not defined"
     ]
    }
   ],
   "source": [
    "xCell, waves = MakeAMRWaves(16, xBound)\n",
    "PT.PlotWaves(nh, h, waves, xNode, waveXBasisNode, xBound = xBound)"
   ]
  },
  {
   "cell_type": "code",
   "execution_count": 24,
   "metadata": {},
   "outputs": [
    {
     "name": "stdout",
     "output_type": "stream",
     "text": [
      "[[0. 0. 0.]\n",
      " [0. 0. 0.]\n",
      " [0. 0. 0.]\n",
      " [0. 0. 0.]\n",
      " [0. 0. 0.]]\n",
      "[[1. 0. 0. 0. 0. 0. 0. 0.]\n",
      " [0. 1. 0. 0. 0. 0. 0. 0.]\n",
      " [0. 0. 1. 0. 0. 0. 0. 0.]\n",
      " [0. 0. 0. 1. 0. 0. 0. 0.]\n",
      " [0. 0. 0. 0. 1. 0. 0. 0.]]\n"
     ]
    }
   ],
   "source": [
    "blah = np.eye(5)\n",
    "bluh = np.zeros((5, 3), float)\n",
    "print(bluh)\n",
    "print(np.append(blah, bluh).reshape(8, 5).T)"
   ]
  },
  {
   "cell_type": "code",
   "execution_count": null,
   "metadata": {},
   "outputs": [],
   "source": [
    "print(np.any([i >= 16 for i in xBound]))"
   ]
  },
  {
   "cell_type": "code",
   "execution_count": null,
   "metadata": {},
   "outputs": [],
   "source": []
  }
 ],
 "metadata": {
  "kernelspec": {
   "display_name": "Python 3",
   "language": "python",
   "name": "python3"
  },
  "language_info": {
   "codemirror_mode": {
    "name": "ipython",
    "version": 3
   },
   "file_extension": ".py",
   "mimetype": "text/x-python",
   "name": "python",
   "nbconvert_exporter": "python",
   "pygments_lexer": "ipython3",
   "version": "3.7.3"
  }
 },
 "nbformat": 4,
 "nbformat_minor": 2
}
