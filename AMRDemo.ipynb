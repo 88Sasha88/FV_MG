{
 "cells": [
  {
   "cell_type": "code",
   "execution_count": 1,
   "metadata": {},
   "outputs": [],
   "source": [
    "import os.path\n",
    "from scipy import *\n",
    "import numpy as np\n",
    "from numpy import *\n",
    "from numpy import linalg as LA\n",
    "import sys as sys\n",
    "import time\n",
    "import matplotlib.pyplot as plt\n",
    "from IPython.core.display import HTML\n",
    "import BasicTools as BT\n",
    "import WaveTools as WT\n",
    "import PlotTools as PT\n",
    "import FFTTools as FFTT"
   ]
  },
  {
   "cell_type": "code",
   "execution_count": null,
   "metadata": {},
   "outputs": [],
   "source": []
  },
  {
   "cell_type": "code",
   "execution_count": 2,
   "metadata": {},
   "outputs": [
    {
     "name": "stdout",
     "output_type": "stream",
     "text": [
      "[0.25]\n",
      "[[1.         0.63661977]]\n",
      "2\n"
     ]
    }
   ],
   "source": [
    "nh = 2\n",
    "h = 1. / nh\n",
    "xCellFiller, wavesFiller = WT.MakeWaves(nh, h)\n",
    "xCell = xCellFiller[0:nh - 1]\n",
    "waves = wavesFiller[0:nh - 1, :]\n",
    "nh = 2 * nh\n",
    "print(xCell)\n",
    "print(waves)\n",
    "# xNode, wavesNode = WT.MakeNodeWaves(nh, h)\n",
    "xBound = [[0, 2], [2, 4], [4, 6], [8, 12]] # [[0, 1], [0, 1, 2], [0, 1], [0, 1]] \n",
    "print(len(xBound[0]))# == [2, 2, 2, 2])"
   ]
  },
  {
   "cell_type": "code",
   "execution_count": 3,
   "metadata": {},
   "outputs": [],
   "source": [
    "def MakeAMRWaves(nh_max, xBound):\n",
    "    x, y = BT.MakeXY(nh_max, xBounds = xBound)\n",
    "    n = len(x) - 1\n",
    "    xCell = 0.5 * (x[0:n] + x[1:n + 1])\n",
    "    hDiag = x[1:n + 1] - x[0:n]\n",
    "    waves = WT.CellWaves(nh, x)\n",
    "    hs = np.zeros((n, n), float)\n",
    "    np.fill_diagonal(hs, hDiag)\n",
    "    # hs[0, 0] = 1.\n",
    "    zeroMat = np.zeros((n, nh_max - n), float)\n",
    "    hMat = LA.inv(hs) # np.append(hs, zeroMat).reshape(nh_max, n)\n",
    "#     hMat[0, 0] = 1.\n",
    "    print(hMat)\n",
    "    print('')\n",
    "    print(waves)\n",
    "    waves = hMat @ waves_all\n",
    "    \n",
    "    print('')\n",
    "    print(waves)\n",
    "    return xCell, waves"
   ]
  },
  {
   "cell_type": "code",
   "execution_count": 4,
   "metadata": {},
   "outputs": [],
   "source": [
    "def MakeAMRNodeWaves(nh_max, xBound):\n",
    "    x, y = BT.MakeXY(nh_max, xBounds = xBound)\n",
    "    n = len(x) - 1\n",
    "    x = x[0:n]\n",
    "    print(x)\n",
    "    waves = WT.NodeWaves(nh_max, x, n)\n",
    "    return x, waves"
   ]
  },
  {
   "cell_type": "code",
   "execution_count": 5,
   "metadata": {},
   "outputs": [
    {
     "name": "stdout",
     "output_type": "stream",
     "text": [
      "[[ 2.  0.  0.  0.  0.  0.]\n",
      " [ 0. 16.  0.  0.  0.  0.]\n",
      " [ 0.  0. 16.  0.  0.  0.]\n",
      " [-0. -0. -0. 16. -0. -0.]\n",
      " [ 0.  0.  0.  0. 16.  0.]\n",
      " [ 0.  0.  0.  0.  0.  4.]]\n",
      "\n",
      "[[ 1.00000000e+00  3.18309886e-01  1.94908592e-17  0.00000000e+00\n",
      "  -1.94908592e-17  1.06103295e-01  1.94908592e-17  0.00000000e+00\n",
      "  -1.94908592e-17  6.36619772e-02  1.94908592e-17  0.00000000e+00\n",
      "  -1.94908592e-17  4.54728409e-02  1.94908592e-17  0.00000000e+00]\n",
      " [ 1.00000000e+00 -1.21149487e-02 -6.09059599e-02  2.33077018e-02\n",
      "   5.62697698e-02 -3.27496611e-02 -4.90133315e-02  3.97887358e-02\n",
      "   3.97887358e-02 -4.40121806e-02 -2.94079989e-02  4.52824138e-02\n",
      "   1.87565899e-02 -4.37421339e-02 -8.70085141e-03  3.97887358e-02]\n",
      " [ 1.00000000e+00 -3.45004549e-02 -5.16335796e-02  5.62697698e-02\n",
      "   2.33077018e-02 -5.78151665e-02  1.15001516e-02  3.97887358e-02\n",
      "  -3.97887358e-02 -1.03267159e-02  5.19159068e-02 -1.87565899e-02\n",
      "  -4.52824138e-02  3.70827906e-02  2.47779285e-02 -3.97887358e-02]\n",
      " [ 1.00000000e+00 -5.16335796e-02 -3.45004549e-02  5.62697698e-02\n",
      "  -2.33077018e-02 -1.15001516e-02  5.78151665e-02 -3.97887358e-02\n",
      "  -3.97887358e-02  5.19159068e-02 -1.03267159e-02 -1.87565899e-02\n",
      "   4.52824138e-02 -2.47779285e-02 -3.70827906e-02  3.97887358e-02]\n",
      " [ 1.00000000e+00 -6.09059599e-02 -1.21149487e-02  2.33077018e-02\n",
      "  -5.62697698e-02  4.90133315e-02  3.27496611e-02 -3.97887358e-02\n",
      "   3.97887358e-02 -2.94079989e-02 -4.40121806e-02  4.52824138e-02\n",
      "  -1.87565899e-02  8.70085141e-03  4.37421339e-02 -3.97887358e-02]\n",
      " [ 1.00000000e+00 -1.59154943e-01  1.59154943e-01 -1.59154943e-01\n",
      "  -6.82180071e-17 -5.30516477e-02 -5.30516477e-02  0.00000000e+00\n",
      "  -9.74542958e-18 -3.18309886e-02  3.18309886e-02 -5.30516477e-02\n",
      "  -6.82180071e-17 -2.27364204e-02 -2.27364204e-02  0.00000000e+00]]\n"
     ]
    },
    {
     "ename": "NameError",
     "evalue": "name 'waves_all' is not defined",
     "output_type": "error",
     "traceback": [
      "\u001b[0;31m---------------------------------------------------------------------------\u001b[0m",
      "\u001b[0;31mNameError\u001b[0m                                 Traceback (most recent call last)",
      "\u001b[0;32m<ipython-input-5-8a22b45bda7f>\u001b[0m in \u001b[0;36m<module>\u001b[0;34m\u001b[0m\n\u001b[1;32m      1\u001b[0m \u001b[0mnh\u001b[0m \u001b[0;34m=\u001b[0m \u001b[0;36m16\u001b[0m\u001b[0;34m\u001b[0m\u001b[0;34m\u001b[0m\u001b[0m\n\u001b[1;32m      2\u001b[0m \u001b[0mh\u001b[0m \u001b[0;34m=\u001b[0m \u001b[0;36m1\u001b[0m \u001b[0;34m/\u001b[0m \u001b[0;36m16.\u001b[0m\u001b[0;34m\u001b[0m\u001b[0;34m\u001b[0m\u001b[0m\n\u001b[0;32m----> 3\u001b[0;31m \u001b[0mxCell\u001b[0m\u001b[0;34m,\u001b[0m \u001b[0mwaves\u001b[0m \u001b[0;34m=\u001b[0m \u001b[0mMakeAMRWaves\u001b[0m\u001b[0;34m(\u001b[0m\u001b[0mnh\u001b[0m\u001b[0;34m,\u001b[0m \u001b[0mxBound\u001b[0m\u001b[0;34m)\u001b[0m\u001b[0;34m\u001b[0m\u001b[0;34m\u001b[0m\u001b[0m\n\u001b[0m\u001b[1;32m      4\u001b[0m \u001b[0mxNode\u001b[0m\u001b[0;34m,\u001b[0m \u001b[0mwavesNode\u001b[0m \u001b[0;34m=\u001b[0m \u001b[0mMakeAMRNodeWaves\u001b[0m\u001b[0;34m(\u001b[0m\u001b[0mnh\u001b[0m\u001b[0;34m,\u001b[0m \u001b[0mxBound\u001b[0m\u001b[0;34m)\u001b[0m\u001b[0;34m\u001b[0m\u001b[0;34m\u001b[0m\u001b[0m\n\u001b[1;32m      5\u001b[0m \u001b[0mPT\u001b[0m\u001b[0;34m.\u001b[0m\u001b[0mPlotWaves\u001b[0m\u001b[0;34m(\u001b[0m\u001b[0mnh\u001b[0m\u001b[0;34m,\u001b[0m \u001b[0mh\u001b[0m\u001b[0;34m,\u001b[0m \u001b[0mwaves\u001b[0m\u001b[0;34m,\u001b[0m \u001b[0mxNode\u001b[0m\u001b[0;34m,\u001b[0m \u001b[0mwavesNode\u001b[0m\u001b[0;34m,\u001b[0m \u001b[0mxBound\u001b[0m \u001b[0;34m=\u001b[0m \u001b[0mxBound\u001b[0m\u001b[0;34m,\u001b[0m \u001b[0mplotNode\u001b[0m \u001b[0;34m=\u001b[0m \u001b[0;32mTrue\u001b[0m\u001b[0;34m)\u001b[0m\u001b[0;34m\u001b[0m\u001b[0;34m\u001b[0m\u001b[0m\n",
      "\u001b[0;32m<ipython-input-3-a59d9b701b1d>\u001b[0m in \u001b[0;36mMakeAMRWaves\u001b[0;34m(nh_max, xBound)\u001b[0m\n\u001b[1;32m     14\u001b[0m     \u001b[0mprint\u001b[0m\u001b[0;34m(\u001b[0m\u001b[0;34m''\u001b[0m\u001b[0;34m)\u001b[0m\u001b[0;34m\u001b[0m\u001b[0;34m\u001b[0m\u001b[0m\n\u001b[1;32m     15\u001b[0m     \u001b[0mprint\u001b[0m\u001b[0;34m(\u001b[0m\u001b[0mwaves\u001b[0m\u001b[0;34m)\u001b[0m\u001b[0;34m\u001b[0m\u001b[0;34m\u001b[0m\u001b[0m\n\u001b[0;32m---> 16\u001b[0;31m     \u001b[0mwaves\u001b[0m \u001b[0;34m=\u001b[0m \u001b[0mhMat\u001b[0m \u001b[0;34m@\u001b[0m \u001b[0mwaves_all\u001b[0m\u001b[0;34m\u001b[0m\u001b[0;34m\u001b[0m\u001b[0m\n\u001b[0m\u001b[1;32m     17\u001b[0m \u001b[0;34m\u001b[0m\u001b[0m\n\u001b[1;32m     18\u001b[0m     \u001b[0mprint\u001b[0m\u001b[0;34m(\u001b[0m\u001b[0;34m''\u001b[0m\u001b[0;34m)\u001b[0m\u001b[0;34m\u001b[0m\u001b[0;34m\u001b[0m\u001b[0m\n",
      "\u001b[0;31mNameError\u001b[0m: name 'waves_all' is not defined"
     ]
    }
   ],
   "source": [
    "nh = 16\n",
    "h = 1 / 16.\n",
    "xCell, waves = MakeAMRWaves(nh, xBound)\n",
    "xNode, wavesNode = MakeAMRNodeWaves(nh, xBound)\n",
    "PT.PlotWaves(nh, h, waves, xNode, wavesNode, xBound = xBound, plotNode = True)\n",
    "print(waves)"
   ]
  },
  {
   "cell_type": "code",
   "execution_count": null,
   "metadata": {},
   "outputs": [],
   "source": [
    "blah = np.eye(5)\n",
    "bluh = np.zeros((5, 3), float)\n",
    "print(bluh)\n",
    "print(np.append(blah, bluh).reshape(8, 5).T)"
   ]
  },
  {
   "cell_type": "code",
   "execution_count": null,
   "metadata": {},
   "outputs": [],
   "source": [
    "M = np.arange(16).reshape(4, 4)\n",
    "O = M\n",
    "O.T[::4] = 0\n",
    "print(O)"
   ]
  },
  {
   "cell_type": "code",
   "execution_count": null,
   "metadata": {},
   "outputs": [],
   "source": []
  }
 ],
 "metadata": {
  "kernelspec": {
   "display_name": "Python 3",
   "language": "python",
   "name": "python3"
  },
  "language_info": {
   "codemirror_mode": {
    "name": "ipython",
    "version": 3
   },
   "file_extension": ".py",
   "mimetype": "text/x-python",
   "name": "python",
   "nbconvert_exporter": "python",
   "pygments_lexer": "ipython3",
   "version": "3.7.3"
  }
 },
 "nbformat": 4,
 "nbformat_minor": 2
}
