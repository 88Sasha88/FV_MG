{
 "cells": [
  {
   "cell_type": "code",
   "execution_count": 1,
   "metadata": {},
   "outputs": [],
   "source": [
    "import os.path\n",
    "from scipy import *\n",
    "import numpy as np\n",
    "from numpy import *\n",
    "from numpy import linalg as LA\n",
    "import sys as sys\n",
    "import time\n",
    "import matplotlib.pyplot as plt\n",
    "from IPython.core.display import HTML\n",
    "import BasicTools as BT\n",
    "import WaveTools as WT\n",
    "import PlotTools as PT\n",
    "import FFTTools as FFTT"
   ]
  },
  {
   "cell_type": "code",
   "execution_count": 2,
   "metadata": {},
   "outputs": [
    {
     "data": {
      "text/plain": [
       "'blah n does not match size of matrica!'"
      ]
     },
     "execution_count": 2,
     "metadata": {},
     "output_type": "execute_result"
    }
   ],
   "source": [
    "g = [1, 2, 3, 4, 5]\n",
    "'blah ' + BT.CheckSize(2, g)"
   ]
  },
  {
   "cell_type": "code",
   "execution_count": 3,
   "metadata": {},
   "outputs": [],
   "source": [
    "nh = 16\n",
    "h = 1. / nh\n",
    "xBound = [[0, 2], [2, 4], [4, 6], [8, 12]] # [[0, 1], [0, 1, 2], [0, 1], [0, 1]] "
   ]
  },
  {
   "cell_type": "code",
   "execution_count": 4,
   "metadata": {},
   "outputs": [
    {
     "name": "stdout",
     "output_type": "stream",
     "text": [
      "<class 'list'>\n",
      "yay\n"
     ]
    }
   ],
   "source": [
    "print(type(xBound))\n",
    "if (type(xBound) == list):\n",
    "    print('yay')"
   ]
  },
  {
   "cell_type": "code",
   "execution_count": 5,
   "metadata": {},
   "outputs": [],
   "source": [
    "def MakeAMRNodeWaves(nh_max, xBound):\n",
    "    x, y = BT.MakeXY(xBound)\n",
    "    n = len(x) - 1\n",
    "    x = x[0:n]\n",
    "    waves = WT.NodeWaves(nh_max, x, n)\n",
    "    return x, waves"
   ]
  },
  {
   "cell_type": "code",
   "execution_count": 6,
   "metadata": {},
   "outputs": [
    {
     "ename": "TypeError",
     "evalue": "can't multiply sequence by non-int of type 'float'",
     "output_type": "error",
     "traceback": [
      "\u001b[0;31m---------------------------------------------------------------------------\u001b[0m",
      "\u001b[0;31mTypeError\u001b[0m                                 Traceback (most recent call last)",
      "\u001b[0;32m<ipython-input-6-907d59f517ed>\u001b[0m in \u001b[0;36m<module>\u001b[0;34m\u001b[0m\n\u001b[0;32m----> 1\u001b[0;31m \u001b[0mxCell\u001b[0m\u001b[0;34m,\u001b[0m \u001b[0mwaves\u001b[0m \u001b[0;34m=\u001b[0m \u001b[0mWT\u001b[0m\u001b[0;34m.\u001b[0m\u001b[0mMakeWaves\u001b[0m\u001b[0;34m(\u001b[0m\u001b[0mnh\u001b[0m\u001b[0;34m,\u001b[0m \u001b[0mxBound\u001b[0m\u001b[0;34m)\u001b[0m\u001b[0;34m\u001b[0m\u001b[0;34m\u001b[0m\u001b[0m\n\u001b[0m\u001b[1;32m      2\u001b[0m \u001b[0mxNode\u001b[0m\u001b[0;34m,\u001b[0m \u001b[0mwavesNode\u001b[0m \u001b[0;34m=\u001b[0m \u001b[0mMakeAMRNodeWaves\u001b[0m\u001b[0;34m(\u001b[0m\u001b[0mnh\u001b[0m\u001b[0;34m,\u001b[0m \u001b[0mxBound\u001b[0m\u001b[0;34m)\u001b[0m\u001b[0;34m\u001b[0m\u001b[0;34m\u001b[0m\u001b[0m\n\u001b[1;32m      3\u001b[0m \u001b[0mPT\u001b[0m\u001b[0;34m.\u001b[0m\u001b[0mPlotWaves\u001b[0m\u001b[0;34m(\u001b[0m\u001b[0mnh\u001b[0m\u001b[0;34m,\u001b[0m \u001b[0mwaves\u001b[0m\u001b[0;34m,\u001b[0m \u001b[0mxNode\u001b[0m\u001b[0;34m,\u001b[0m \u001b[0mwavesNode\u001b[0m\u001b[0;34m,\u001b[0m \u001b[0mxBound\u001b[0m\u001b[0;34m,\u001b[0m \u001b[0mplotNode\u001b[0m \u001b[0;34m=\u001b[0m \u001b[0;32mTrue\u001b[0m\u001b[0;34m)\u001b[0m\u001b[0;34m\u001b[0m\u001b[0;34m\u001b[0m\u001b[0m\n",
      "\u001b[0;32m~/SashasDirectory/ANAG/WaveTools.py\u001b[0m in \u001b[0;36mMakeWaves\u001b[0;34m(nh_max, x)\u001b[0m\n\u001b[1;32m     24\u001b[0m \u001b[0;32mdef\u001b[0m \u001b[0mMakeWaves\u001b[0m\u001b[0;34m(\u001b[0m\u001b[0mnh_max\u001b[0m\u001b[0;34m,\u001b[0m \u001b[0mx\u001b[0m\u001b[0;34m)\u001b[0m\u001b[0;34m:\u001b[0m\u001b[0;34m\u001b[0m\u001b[0;34m\u001b[0m\u001b[0m\n\u001b[1;32m     25\u001b[0m     \u001b[0mn\u001b[0m \u001b[0;34m=\u001b[0m \u001b[0mlen\u001b[0m\u001b[0;34m(\u001b[0m\u001b[0mx\u001b[0m\u001b[0;34m)\u001b[0m \u001b[0;34m-\u001b[0m \u001b[0;36m1\u001b[0m\u001b[0;34m\u001b[0m\u001b[0;34m\u001b[0m\u001b[0m\n\u001b[0;32m---> 26\u001b[0;31m     \u001b[0mxCell\u001b[0m \u001b[0;34m=\u001b[0m \u001b[0;36m0.5\u001b[0m \u001b[0;34m*\u001b[0m \u001b[0;34m(\u001b[0m\u001b[0mx\u001b[0m\u001b[0;34m[\u001b[0m\u001b[0;36m0\u001b[0m\u001b[0;34m:\u001b[0m\u001b[0mn\u001b[0m\u001b[0;34m]\u001b[0m \u001b[0;34m+\u001b[0m \u001b[0mx\u001b[0m\u001b[0;34m[\u001b[0m\u001b[0;36m1\u001b[0m\u001b[0;34m:\u001b[0m\u001b[0mn\u001b[0m \u001b[0;34m+\u001b[0m \u001b[0;36m1\u001b[0m\u001b[0;34m]\u001b[0m\u001b[0;34m)\u001b[0m\u001b[0;34m\u001b[0m\u001b[0;34m\u001b[0m\u001b[0m\n\u001b[0m\u001b[1;32m     27\u001b[0m     \u001b[0mhDiag\u001b[0m \u001b[0;34m=\u001b[0m \u001b[0mx\u001b[0m\u001b[0;34m[\u001b[0m\u001b[0;36m1\u001b[0m\u001b[0;34m:\u001b[0m\u001b[0mn\u001b[0m \u001b[0;34m+\u001b[0m \u001b[0;36m1\u001b[0m\u001b[0;34m]\u001b[0m \u001b[0;34m-\u001b[0m \u001b[0mx\u001b[0m\u001b[0;34m[\u001b[0m\u001b[0;36m0\u001b[0m\u001b[0;34m:\u001b[0m\u001b[0mn\u001b[0m\u001b[0;34m]\u001b[0m\u001b[0;34m\u001b[0m\u001b[0;34m\u001b[0m\u001b[0m\n\u001b[1;32m     28\u001b[0m     \u001b[0mwaves\u001b[0m \u001b[0;34m=\u001b[0m \u001b[0mCellWaves\u001b[0m\u001b[0;34m(\u001b[0m\u001b[0mnh_max\u001b[0m\u001b[0;34m,\u001b[0m \u001b[0mx\u001b[0m\u001b[0;34m)\u001b[0m\u001b[0;34m\u001b[0m\u001b[0;34m\u001b[0m\u001b[0m\n",
      "\u001b[0;31mTypeError\u001b[0m: can't multiply sequence by non-int of type 'float'"
     ]
    }
   ],
   "source": [
    "xCell, waves = WT.MakeWaves(nh, xBound)\n",
    "xNode, wavesNode = MakeAMRNodeWaves(nh, xBound)\n",
    "PT.PlotWaves(nh, waves, xNode, wavesNode, xBound, plotNode = True)"
   ]
  },
  {
   "cell_type": "code",
   "execution_count": null,
   "metadata": {},
   "outputs": [],
   "source": [
    "blah = np.eye(5)\n",
    "bluh = np.zeros((5, 3), float)\n",
    "print(bluh)\n",
    "print(np.append(blah, bluh).reshape(8, 5).T)"
   ]
  },
  {
   "cell_type": "code",
   "execution_count": null,
   "metadata": {},
   "outputs": [],
   "source": [
    "M = np.arange(16).reshape(4, 4)\n",
    "O = M\n",
    "O.T[::4] = 0\n",
    "print(O)"
   ]
  },
  {
   "cell_type": "markdown",
   "metadata": {},
   "source": [
    "To go from fine to coarse, the term would be averaging down. For example, it would 0.5:0.5 for a refinement ratio of 2. This is exact for finite-volume.\n",
    "\n",
    "To go from coarse to fine, there are two options. Piecewise constant, and piecewise linear. The piecewise linear takes neighboring values to interpolate to fine cell averages. advection"
   ]
  },
  {
   "cell_type": "code",
   "execution_count": null,
   "metadata": {},
   "outputs": [],
   "source": [
    "class Person:\n",
    "  def __init__(self, age, name = 'Jan'):\n",
    "    self.name = name\n",
    "    self.age = age\n",
    "\n",
    "  def myfunc(self):\n",
    "    print(\"Hello my name is \" + self.name)\n",
    "\n",
    "p1 = Person(36)\n",
    "p1.myfunc()"
   ]
  },
  {
   "cell_type": "code",
   "execution_count": null,
   "metadata": {},
   "outputs": [],
   "source": []
  },
  {
   "cell_type": "code",
   "execution_count": null,
   "metadata": {},
   "outputs": [],
   "source": [
    "cells = [[1], [2], [4, 5], [8, 9, 11]]\n",
    "print(len(cells[2]))\n",
    "for i in cells:\n",
    "    print(i)\n",
    "xPiece = np.linspace(1, 5, num = 5)"
   ]
  },
  {
   "cell_type": "code",
   "execution_count": null,
   "metadata": {},
   "outputs": [],
   "source": [
    "class Grid:\n",
    "    def __init__(self, nh_min, cells = [], refRatio = 2):\n",
    "        errorLoc = 'ERROR:\\nBasicTools:\\nGrid:\\n'\n",
    "        errorMess = BT.CheckNumber(nh_min, nhName = 'nh_min')\n",
    "        if (errorMess != ''):\n",
    "            sys.exit(errorLoc + errorMess)\n",
    "        errorMess = BT.CheckNumber(refRatio, nhName = 'refRatio')\n",
    "        if (errorMess != ''):\n",
    "            sys.exit(errorLoc + errorMess)\n",
    "        \n",
    "#         for i in range(loops):\n",
    "#             if (len(bounds[i]) != 2):\n",
    "#                 problem = 3\n",
    "#             if (bounds[i][0] > bounds[i][1]):\n",
    "#                 problem = 4\n",
    "#             if ((bounds[i][0] > nh_min * (2**(i + 1))) or (bounds[i][1] > nh_min * (2**(i + 1)))):\n",
    "#                 problem = 5\n",
    "#         nh_min = bounds[0][1]\n",
    "        loops = len(cells)\n",
    "#         if (problem == 3):\n",
    "#             sys.exit('ERROR:\\nBasicTools:\\nMakeXY:\\nAll elements in xBounds must be of length 2!')\n",
    "#         if (problem == 4):\n",
    "#             sys.exit('ERROR:\\nBasicTools:\\nMakeXY:\\nLower-bound values in xBounds greater than upper bounds!')\n",
    "#         if (problem == 5):\n",
    "#             sys.exit('ERROR:\\nBasicTools:\\nMakeXY:\\nValues in xBounds must correspond to the grid spacing of their respective level!')\n",
    "        x = []\n",
    "        patches = [[] for i in range(loops + 1)]\n",
    "        patches[0] = np.linspace(0., 1., num = nh_min + 1)\n",
    "        x = np.append(x, patches[0])\n",
    "        nh_max = nh_min\n",
    "        spots = nh_min\n",
    "        for i in range(loops):\n",
    "            nh_max = nh_max * refRatio\n",
    "            if (i == 0):\n",
    "                print((np.asarray(cells[i]) <= spots).all())\n",
    "            else:\n",
    "                checkLocations = []\n",
    "                for k in range(spots):\n",
    "                    for l in range(refRatio):\n",
    "                        print(i, k, l)\n",
    "                        # print(np.asarray(cells[i]) == (refRatio * cells[i - 1][k]) + l)\n",
    "                        loc = np.where(np.asarray(cells[i]) == (refRatio * cells[i - 1][k]) + l)[0]\n",
    "                        print()\n",
    "                        if len(loc != 0):\n",
    "                            checkLocations = np.append(checkLocations, loc)\n",
    "                print(checkLocations)\n",
    "            print('')\n",
    "            spots = len(cells[i])\n",
    "            if (spots == 1):\n",
    "                regions = spots\n",
    "                cellPieces = [[cells[i][0], cells[i][0]]]\n",
    "            else:\n",
    "                upper = np.asarray(cells[i][1:spots])\n",
    "                lower = np.asarray(cells[i][0:spots - 1])\n",
    "                cutWhere = np.append(np.where(lower != upper - 1)[0], spots - 1)\n",
    "                regions = len(cutWhere)\n",
    "                cellPieces = [[] for j in range(regions)]\n",
    "                first = 0\n",
    "                for j in range(regions):\n",
    "                    last = cutWhere[j]\n",
    "                    cellPieces[j] = [cells[i][first], cells[i][last]]\n",
    "                    first = last + 1\n",
    "            patches[i + 1] = [[] for j in range(regions)]\n",
    "            for j in range(regions):\n",
    "                rangeVal = cellPieces[j][1] - cellPieces[j][0] + 1\n",
    "                n = rangeVal * refRatio\n",
    "                h = rangeVal / (n * (refRatio**(i + 1)))\n",
    "                xMin = h * refRatio * cellPieces[j][0]\n",
    "                xMax = h * refRatio * (cellPieces[j][1] + 1)                    \n",
    "                patches[i + 1][j] = np.linspace(xMin, xMax, num = n + 1)\n",
    "                x = sorted(set(np.append(x, patches[i + 1][j])))\n",
    "        \n",
    "        x = np.asarray(x)\n",
    "        n_max = len(x)\n",
    "        y = np.zeros(n_max, float)\n",
    "        \n",
    "        self.nh_min = nh_min\n",
    "        self.nh_max = nh_max\n",
    "        self.cells = cells\n",
    "        self.refRatio = refRatio\n",
    "        self.x = x\n",
    "        self.y = y\n",
    "        self.patches = patches\n",
    "#     def AddCell(self, newCell):\n",
    "        \n",
    "omega = Grid(2, cells = cells)\n",
    "print('')\n",
    "print(omega.x)"
   ]
  },
  {
   "cell_type": "code",
   "execution_count": null,
   "metadata": {},
   "outputs": [],
   "source": [
    "BT.CheckSize(2, omega.x)"
   ]
  },
  {
   "cell_type": "code",
   "execution_count": null,
   "metadata": {},
   "outputs": [],
   "source": [
    "blah = [[] for i in range(5)]\n",
    "blah[0] = (0, 1)\n",
    "print(blah)"
   ]
  },
  {
   "cell_type": "code",
   "execution_count": null,
   "metadata": {},
   "outputs": [],
   "source": [
    "class P:\n",
    "\n",
    "    def __init__(self,x):\n",
    "        self.x = x\n",
    "\n",
    "    @property\n",
    "    def x(self):\n",
    "        return self.__x\n",
    "\n",
    "    @x.setter\n",
    "    def x(self, x):\n",
    "        if x < 0:\n",
    "            self.__x = 0\n",
    "        elif x > 1000:\n",
    "            self.__x = 1000\n",
    "        else:\n",
    "            self.__x = x"
   ]
  },
  {
   "cell_type": "code",
   "execution_count": null,
   "metadata": {},
   "outputs": [],
   "source": [
    "p1 = P(1001)\n",
    "p1.x"
   ]
  },
  {
   "cell_type": "code",
   "execution_count": null,
   "metadata": {},
   "outputs": [],
   "source": [
    "class family:\n",
    "  members = list([])\n",
    "  familyname=\"\"\n",
    "  def __init__ (self, familyname):\n",
    "    self.familyname = familyname\n",
    "  class person:\n",
    "    name = \"\"\n",
    "    age = 0\n",
    "    def __init__(self,name,age):\n",
    "      self.name = name\n",
    "      self.age = age\n",
    "    def getAge(self):\n",
    "      return self.age\n",
    "    def getName(self):\n",
    "      return self.name\n",
    "  def newperson(self, name, age=0):\n",
    "    p1 = self.person(name,age)\n",
    "    self.members.append(p1)\n",
    "    print(p1)\n",
    "  def getMembers(self):\n",
    "    for member in self.members:\n",
    "      print(member.getName())\n",
    "  def getAges(self):\n",
    "    for member in self.members:\n",
    "      print(member.getAge())\n",
    "  def averageAge(self):\n",
    "    ages = []\n",
    "    for member in self.members:\n",
    "      ages.append(member.getAge())\n",
    "    print(\"Average age: %s\"%np.mean(ages))\n",
    "\n",
    "gorton = family(\"Gorton\")\n",
    "gorton.newperson(\"Oliver\",24)\n",
    "gorton.averageAge()\n",
    "gorton.newperson(\"Cole\",20)\n",
    "gorton.averageAge()\n",
    "gorton.getMembers()"
   ]
  },
  {
   "cell_type": "code",
   "execution_count": null,
   "metadata": {},
   "outputs": [],
   "source": [
    "cells = [[1], [2], [4, 5], [8, 9, 11], [16, 17, 19, 22]]\n",
    "class Grid:\n",
    "    patches = list([])\n",
    "    x = []\n",
    "    xPatches = [[]]\n",
    "    levels = 0\n",
    "    cells = list([])\n",
    "    def __init__(self, nh):\n",
    "        errorLoc = 'ERROR:\\nBasicTools:\\nGrid:\\n__init__:\\n'\n",
    "        self.AddCell(nh)\n",
    "        self.nh_min = nh\n",
    "        errorMess = BT.CheckNumber(self.nh_min, nhName = 'nh_min')\n",
    "        if (errorMess != ''):\n",
    "            sys.exit(errorLoc + errorMess)\n",
    "    class Patch:\n",
    "        def __init__(self, nh, refRatio, cell):\n",
    "            nh = nh * refRatio\n",
    "            h = 1. / nh\n",
    "            if (cell == []):\n",
    "                regions = 1\n",
    "                cellPieces = [[0, nh - 1]]\n",
    "                xPatch = [[]]\n",
    "                cell = [0]\n",
    "            else:\n",
    "                spots = len(cell)\n",
    "                if (spots == 1):\n",
    "                    regions = spots\n",
    "                    cellPieces = [[cell[0], cell[0]]]\n",
    "                else:\n",
    "                    upper = np.asarray(cell[1:spots])\n",
    "                    lower = np.asarray(cell[0:spots - 1])\n",
    "                    cutWhere = np.append(np.where(lower != upper - 1)[0], spots - 1)\n",
    "                    regions = len(cutWhere)\n",
    "                    cellPieces = [[] for j in range(regions)]\n",
    "                    first = 0\n",
    "                    for j in range(regions):\n",
    "                        last = cutWhere[j]\n",
    "                        cellPieces[j] = [cell[first], cell[last]]\n",
    "                        first = last + 1\n",
    "                xPatch = [[] for j in range(regions)]\n",
    "            bounds = [[] for j in range(regions)]\n",
    "            for j in range(regions):\n",
    "                rangeVal = cellPieces[j][1] - cellPieces[j][0] + 1\n",
    "                n = rangeVal * refRatio\n",
    "                xMin = h * refRatio * cellPieces[j][0]\n",
    "                xMax = h * refRatio * (cellPieces[j][1] + 1)\n",
    "                xPatch[j] = np.linspace(xMin, xMax, num = n + 1)\n",
    "                bounds[j] = np.asarray([xMin, xMax])\n",
    "            self.nh = nh\n",
    "            self.xPatch = xPatch\n",
    "            self.cell = cell\n",
    "            self.bounds = bounds\n",
    "        def getNh(self):\n",
    "            return self.nh\n",
    "        def getRefRatio(self):\n",
    "            return self.refRatio\n",
    "        def getCell(self):\n",
    "            return self.cell\n",
    "        def getXPatch(self):\n",
    "            return self.xPatch\n",
    "    def AddCell(self, nh, refRatio = 1, cell = []):\n",
    "        self.levels = self.levels + 1\n",
    "        patch0 = self.Patch(nh, refRatio, cell)\n",
    "        \n",
    "        # ERROR CHECKS:\n",
    "        \n",
    "        errorLoc = 'ERROR:\\nBasicTools:\\nGrid:\\nAddCell:\\n'\n",
    "        if (cell != []):\n",
    "            errorMess = BT.CheckNumber(self.refRatio, nhName = 'refRatio')\n",
    "            if (errorMess != ''):\n",
    "                sys.exit(errorLoc + errorMess)\n",
    "            for patchBound in patch0.bounds:\n",
    "                both = False\n",
    "                j = 0\n",
    "                while ((not both) and (j < len(self.bounds))):\n",
    "                    bound = self.bounds[j]\n",
    "                    aboveLower = np.all(patchBound >= bound[0])\n",
    "                    belowUpper = np.all(patchBound <= bound[1])\n",
    "                    both = np.all([aboveLower, belowUpper])\n",
    "                    j = j + 1\n",
    "                if (not both):\n",
    "                    errorMess = 'cell values out of range of previous patch!'\n",
    "                    sys.exit(errorLoc + errorMess)\n",
    "        else:\n",
    "            refRatio = 1\n",
    "        if (cell != sorted(cell)):\n",
    "            errorMess = 'cell must be in number order!'\n",
    "            sys.exit(errorLoc + errorMess)\n",
    "        if (len(cell) != len(set(cell))):\n",
    "            errorMess = 'cell contains repeats!'\n",
    "            sys.exit(errorLoc + errorMess)\n",
    "        \n",
    "        # END OF ERROR CHECKS\n",
    "        \n",
    "        self.patches.append(patch0)\n",
    "        xPatchesFiller = [[] for i in range(self.levels)]\n",
    "        cellsFiller = [[] for i in range(self.levels)]\n",
    "        for xPatch in patch0.xPatch:\n",
    "            self.x = sorted(set(np.append(self.x, xPatch)))\n",
    "        for i in range(self.levels):\n",
    "            if (i == self.levels - 1):\n",
    "                xPatchesFiller[i] = patch0.xPatch\n",
    "                cellsFiller[i] = patch0.cell\n",
    "            else:\n",
    "                xPatchesFiller[i] = self.xPatches[i]\n",
    "                cellsFiller[i] = self.cells[i]\n",
    "        self.xPatches = xPatchesFiller\n",
    "        self.cells = cellsFiller\n",
    "        self.nh_max = patch0.nh\n",
    "        self.refRatio = refRatio\n",
    "        self.y = np.zeros(len(self.x), float)\n",
    "        self.bounds = patch0.bounds\n",
    "print(cells)\n",
    "print('')\n",
    "omega = Grid(2)\n",
    "# omega.AddCell(2)\n",
    "print(omega.nh_min, omega.nh_max, omega.levels)\n",
    "print('')\n",
    "for i in cells:\n",
    "    print(i)\n",
    "    omega.AddCell(omega.nh_max, 2, i)\n",
    "    print(omega.nh_min, omega.nh_max, omega.levels)\n",
    "    print('')\n",
    "print('')\n",
    "print(omega.xPatches)"
   ]
  },
  {
   "cell_type": "code",
   "execution_count": null,
   "metadata": {},
   "outputs": [],
   "source": [
    "patch = list([])\n",
    "blah = patch.append([5])\n",
    "print(blah)"
   ]
  },
  {
   "cell_type": "code",
   "execution_count": null,
   "metadata": {},
   "outputs": [],
   "source": []
  },
  {
   "cell_type": "code",
   "execution_count": null,
   "metadata": {},
   "outputs": [],
   "source": []
  }
 ],
 "metadata": {
  "kernelspec": {
   "display_name": "Python 3",
   "language": "python",
   "name": "python3"
  },
  "language_info": {
   "codemirror_mode": {
    "name": "ipython",
    "version": 3
   },
   "file_extension": ".py",
   "mimetype": "text/x-python",
   "name": "python",
   "nbconvert_exporter": "python",
   "pygments_lexer": "ipython3",
   "version": "3.7.3"
  }
 },
 "nbformat": 4,
 "nbformat_minor": 2
}
