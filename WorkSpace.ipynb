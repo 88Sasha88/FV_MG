{
 "cells": [
  {
   "cell_type": "code",
   "execution_count": 1,
   "metadata": {},
   "outputs": [
    {
     "data": {
      "text/html": [
       "<style>pre { white-space: pre !important; }</style>"
      ],
      "text/plain": [
       "<IPython.core.display.HTML object>"
      ]
     },
     "metadata": {},
     "output_type": "display_data"
    },
    {
     "data": {
      "text/html": [
       "<style>pre { white-space: pre !important; }</style>"
      ],
      "text/plain": [
       "<IPython.core.display.HTML object>"
      ]
     },
     "metadata": {},
     "output_type": "display_data"
    },
    {
     "data": {
      "text/html": [
       "<style>pre { white-space: pre !important; }</style>"
      ],
      "text/plain": [
       "<IPython.core.display.HTML object>"
      ]
     },
     "metadata": {},
     "output_type": "display_data"
    }
   ],
   "source": [
    "import os.path\n",
    "from scipy import *\n",
    "import numpy as np\n",
    "from numpy import *\n",
    "from numpy import linalg as LA\n",
    "from scipy import linalg as LA2\n",
    "import sympy as sympy\n",
    "import sys as sys\n",
    "import time\n",
    "import matplotlib.pyplot as plt\n",
    "import itertools as it\n",
    "from IPython.core.display import HTML\n",
    "\n",
    "sys.path.append('/Users/sashacurcic/SashasDirectory/ANAG/FV_MG/')\n",
    "from Modules import BasicTools as BT\n",
    "from Modules import WaveTools as WT\n",
    "from Modules import PlotTools as PT\n",
    "from Modules import FFTTools as FFTT\n",
    "from Modules import OperatorTools as OT\n",
    "from Modules import GridTransferTools as GTT\n",
    "from Modules import TestTools as TT\n",
    "from Modules import SolverTools as ST\n",
    "from Modules import WaveformTools as WFT\n",
    "\n",
    "display(HTML(\"<style>pre { white-space: pre !important; }</style>\"))\n",
    "np.set_printoptions( linewidth = 1000, threshold = 10000)"
   ]
  },
  {
   "cell_type": "code",
   "execution_count": 2,
   "metadata": {},
   "outputs": [],
   "source": [
    "# Grid parameters.\n",
    "nh_min = 64\n",
    "refRatio = 2\n",
    "cfInter = int((nh_min / refRatio) + 3)\n",
    "\n",
    "# Time integration parameters.\n",
    "CFL = np.sqrt(0.5)\n",
    "nt = 100\n",
    "deriv = 'CD'\n",
    "RK = 4\n",
    "order = 2\n",
    "\n",
    "# Waveform parameters.\n",
    "x_0 = 0.\n",
    "x_1 = float(cfInter) / float(nh_min)\n",
    "\n",
    "# Physical parameters.\n",
    "L = 1e-3\n",
    "locs = []#x_1]\n",
    "epsilons_r = [1]#, 11.68]\n",
    "mus_r = [1]#, 0.99837]\n",
    "\n",
    "# Pseudo-FFT parameters.\n",
    "Hans = False"
   ]
  },
  {
   "cell_type": "code",
   "execution_count": 3,
   "metadata": {},
   "outputs": [],
   "source": [
    "omega = BT.Grid(nh_min)\n",
    "finehalf = list(np.arange(cfInter))# + int(nh / refRatio))"
   ]
  },
  {
   "cell_type": "code",
   "execution_count": null,
   "metadata": {},
   "outputs": [],
   "source": []
  },
  {
   "cell_type": "code",
   "execution_count": 4,
   "metadata": {},
   "outputs": [],
   "source": [
    "def MakeRotMat(omega, ct):\n",
    "    nh = omega.nh_max\n",
    "    Cosine = lambda k: np.cos(2. * np.pi * k * ct)\n",
    "    Sine = lambda k: np.sin(2. * np.pi * k * ct)\n",
    "    RotMat = lambda k: np.asarray([k, k, -k, k]).reshape(2, 2)\n",
    "    rotMats = [RotMat(k) for k in range(int(nh / 2) + 1)]\n",
    "    shift = LA2.block_diag(*rotMats)[1:-1, 1:-1]\n",
    "    shift[0, 0] = 0\n",
    "    shift[::-1, ::-1][0, 0] = int(nh / 2)\n",
    "    return shift"
   ]
  },
  {
   "cell_type": "code",
   "execution_count": 5,
   "metadata": {},
   "outputs": [],
   "source": [
    "def Func1(omega, arg1, arg2, arg3):\n",
    "    print('Func1:', arg1, arg2, arg3)\n",
    "    return"
   ]
  },
  {
   "cell_type": "code",
   "execution_count": 6,
   "metadata": {},
   "outputs": [],
   "source": [
    "def Func2(omega, arg1, arg2):\n",
    "    print('Func2:', arg1, arg2)\n",
    "    return"
   ]
  },
  {
   "cell_type": "code",
   "execution_count": 8,
   "metadata": {},
   "outputs": [],
   "source": [
    "def TestFunc(omega, args, *Funcs, opArg = False):\n",
    "    if (opArg):\n",
    "        print('opArg is True.')\n",
    "    i = 0\n",
    "    for Func in Funcs:\n",
    "        Func(omega, *args[i])\n",
    "        i = i + 1\n",
    "    return"
   ]
  },
  {
   "cell_type": "code",
   "execution_count": 12,
   "metadata": {},
   "outputs": [
    {
     "name": "stdout",
     "output_type": "stream",
     "text": [
      "opArg is True.\n",
      "Func1: 1A 1B 1C\n",
      "Func2: 2A 2B\n"
     ]
    }
   ],
   "source": [
    "args1 = '1A', '1B', '1C'\n",
    "args2 = '2A', '2B'\n",
    "args = [[*args1], [*args2]]\n",
    "\n",
    "TestFunc(omega, args, Func1, Func2, opArg = True)"
   ]
  },
  {
   "cell_type": "code",
   "execution_count": 9,
   "metadata": {},
   "outputs": [
    {
     "name": "stdout",
     "output_type": "stream",
     "text": [
      "x = 0, y = 4, z = 5\n",
      "closure(5) = -8.5\n",
      "x = 1, y = 4, z = 6\n",
      "closure(6) = -10.5\n",
      "x = 2, y = 4, z = 7\n",
      "closure(7) = -12.5\n"
     ]
    }
   ],
   "source": [
    "def funk(x):\n",
    "    return -x\n",
    "\n",
    "def outer_func(func, x): #(switch statement, )\n",
    "    y = 4\n",
    "    def inner_func(z):\n",
    "        print(f\"x = {x}, y = {y}, z = {z}\")\n",
    "        return func(x + y + z) + 0.5\n",
    "    return inner_func\n",
    "\n",
    "for i in range(3):\n",
    "    closure = outer_func(funk, i)\n",
    "    print(f\"closure({i+5}) = {closure(i+5)}\")"
   ]
  },
  {
   "cell_type": "code",
   "execution_count": 11,
   "metadata": {},
   "outputs": [
    {
     "name": "stdout",
     "output_type": "stream",
     "text": [
      "opArg is True.\n",
      "Func1: 1A 1B 1C\n",
      "Func2: 2A 2B\n"
     ]
    }
   ],
   "source": []
  },
  {
   "cell_type": "code",
   "execution_count": null,
   "metadata": {},
   "outputs": [],
   "source": [
    "print(args1)\n",
    "print(*args1)\n",
    "print(args)\n",
    "print(args[0])\n",
    "print(*args[0])"
   ]
  },
  {
   "cell_type": "code",
   "execution_count": null,
   "metadata": {},
   "outputs": [],
   "source": [
    "# ----------------------------------------------------------------------------------------------------------------\n",
    "# Function: Block\n",
    "# ----------------------------------------------------------------------------------------------------------------\n",
    "# By: Sasha Curcic\n",
    "#\n",
    "# This function creates either a block diagonal or block anti-diagonal matrix from some operator or list of\n",
    "# operators. If the input matrica is a single operator, then a matrix of var many blocks of that operator is\n",
    "# constructed. If matrica is input directly as a list of operators, then a block diagonal of all the operators\n",
    "# within that list is constructed. If the parameter diag is set to False, then the output is changed to a block\n",
    "# antidiagonal matrix.\n",
    "# ----------------------------------------------------------------------------------------------------------------\n",
    "# Inputs:\n",
    "#\n",
    "# matrica                 array/list              Operator or list of operators to be reconstructed in blocks\n",
    "# (var)                   int                     Number of blocks if matrica entered as array\n",
    "# (diag)                  boolean                 Switch paramater for diagonal or antidiagonal blocks\n",
    "# ----------------------------------------------------------------------------------------------------------------\n",
    "# Outputs:\n",
    "#\n",
    "# matrice                 array                   Block diagonal or antidiagonal matrix\n",
    "# ----------------------------------------------------------------------------------------------------------------\n",
    "\n",
    "def Block(matrica, var = 1, diag = True):\n",
    "    errorLoc = 'ERROR:\\nOperatorTools:\\nBlock:\\n'\n",
    "    if ((var < 1) or (type(var) != int)):\n",
    "        errorMess = 'var must be integer value greater than 0!'\n",
    "    if (type(matrica) == list):\n",
    "        var = np.shape(matrica)[0]\n",
    "        matricaList = matrica\n",
    "    else:\n",
    "        matricaList = [matrica for k in range(var)]\n",
    "    if (not diag):\n",
    "        matricaList = [M[:, ::-1] for M in matricaList]\n",
    "    matrice = LA2.block_diag(*matricaList)\n",
    "    if (not diag):\n",
    "        matrice = matrice[:, ::-1]\n",
    "    return matrice"
   ]
  },
  {
   "cell_type": "code",
   "execution_count": null,
   "metadata": {},
   "outputs": [],
   "source": [
    "A = np.arange(20).reshape(4, 5)\n",
    "# A = A[:, ::-1]\n",
    "B = -np.arange(20).reshape(4, 5)\n",
    "AA = [A for k in range(2)]\n",
    "AB = [A, B]\n",
    "print(A)\n",
    "print(AA)\n",
    "print(AB)\n",
    "print(type(A))\n",
    "print(type(AA))\n",
    "print(type(AB))\n",
    "print(np.shape(A))\n",
    "print(np.shape(AA))\n",
    "print(np.shape(AB)[0])\n",
    "print('')\n",
    "\n",
    "BlockA = Block(A, var = 2)\n",
    "BlockAA = Block(AA)\n",
    "BlockAB = Block(AB)\n",
    "print(BlockA)\n",
    "print(BlockAA)\n",
    "print(BlockAB)\n",
    "print('')\n",
    "BlockA1 = Block(A, var = 2, diag = False)\n",
    "BlockAA1 = Block(AA, diag = False)\n",
    "BlockAB1 = Block(AB, diag = False)\n",
    "print(BlockA1)\n",
    "print(BlockAA1)\n",
    "print(BlockAB1)"
   ]
  },
  {
   "cell_type": "code",
   "execution_count": null,
   "metadata": {},
   "outputs": [],
   "source": [
    "A = np.arange(20)\n",
    "B = np.arange(20)\n",
    "#AB = PT.Load(A, B)\n",
    "AB = np.asarray(list(np.append(A, B)))\n",
    "print(AB)\n",
    "print(AB[:8])\n",
    "for k in range(4):\n",
    "    print(AB[k*5:(k + 1) * 5])\n",
    "    print('')\n",
    "    "
   ]
  },
  {
   "cell_type": "code",
   "execution_count": null,
   "metadata": {},
   "outputs": [],
   "source": [
    "t, nt = ST.CalcTime(omega, CFL, c, nt = nt)\n",
    "print(t)"
   ]
  },
  {
   "cell_type": "code",
   "execution_count": null,
   "metadata": {},
   "outputs": [],
   "source": [
    "waves = WT.MakeWaves(omega)\n"
   ]
  },
  {
   "cell_type": "code",
   "execution_count": null,
   "metadata": {},
   "outputs": [],
   "source": [
    "print(np.arange(2, 6))\n",
    "PT.PlotWaves(omega, waves = waves)"
   ]
  },
  {
   "cell_type": "code",
   "execution_count": null,
   "metadata": {},
   "outputs": [],
   "source": [
    " def PropWaves(omega, waves, c, t):\n",
    "    nh2 = omega.nh_max\n",
    "    nhs = omega.nh\n",
    "    hs = omega.h\n",
    "    levels = omega.levels\n",
    "    refRatios = omega.refRatios\n",
    "    rotMat = MakeRotMat(omega, c * t)\n",
    "    backRotMat = rotMat[::-1, ::-1] + 0\n",
    "    np.fill_diagonal(backRotMat[1:], np.diagonal(backRotMat, offset = 1))\n",
    "    np.fill_diagonal(backRotMat[:, 1:], -np.diagonal(backRotMat, offset = 1))\n",
    "    compRotMat = rotMat + 0\n",
    "    compRotMat[::-1, ::-1][0, 0] = 0\n",
    "    print(rotMat)\n",
    "    h = 1. / nh2\n",
    "    # aliasedWaves = int(nhs[0])\n",
    "    fineSpots = np.where(hs == h)[0]\n",
    "    wavesAlias = waves + 0\n",
    "    # wavesAlias[:, :aliasedWaves] = 0\n",
    "    wavesAlias[fineSpots, :] = 0\n",
    "    workingWaves = waves - wavesAlias\n",
    "    propMat = workingWaves @ rotMat\n",
    "    print('nh =', nh2)\n",
    "    print(workingWaves)\n",
    "    refRatioTot = 1\n",
    "    for q in range(levels):\n",
    "        nh0 = nhs[::-1][q + 1]\n",
    "        if (q == 0):\n",
    "            nh1 = nh0\n",
    "        refRatio = refRatios[::-1][q]\n",
    "        refRatioTot = refRatioTot * refRatio\n",
    "        print('nh = ', nh0)\n",
    "        h = 1. / nh0\n",
    "        for p in range(refRatioTot - 1):\n",
    "            s0 = 2 * (p % 2)\n",
    "            startPoint = nh0 * (p + 1) - s0\n",
    "            endPoint = startPoint + nh0 + s0\n",
    "            compRotMat[startPoint + 1:endPoint - 1, startPoint + 1:endPoint - 1] = backRotMat[nh2 - nh0 - s0 + 1:nh2 - 1, nh2 - nh0 - s0 + 1:nh2 - 1]\n",
    "        workingWaves = wavesAlias + 0\n",
    "        fineSpots = np.where(hs != h)[0]\n",
    "        workingWaves[fineSpots, :] = 0\n",
    "        propMat = propMat + (workingWaves @ backRotMat)\n",
    "        wavesAlias = wavesAlias - workingWaves\n",
    "        print(compRotMat)\n",
    "        print('workingWaves')\n",
    "        print(workingWaves)\n",
    "    print('\\nSTOP!\\n')\n",
    "    return propMat\n",
    "blah = PropWaves(omega, waves, c, t)\n",
    "propWaves = FFTT.PropWaves(omega, waves, c, t)\n",
    "nullspace = OT.FindNullspace(omega, propWaves, shift = True)\n"
   ]
  },
  {
   "cell_type": "code",
   "execution_count": null,
   "metadata": {},
   "outputs": [],
   "source": [
    "# print(np.where(nullspace != 0)[1])\n",
    "PT.PlotWaves(omega, waves = propWaves, ct = c * t)"
   ]
  },
  {
   "cell_type": "code",
   "execution_count": null,
   "metadata": {},
   "outputs": [],
   "source": [
    "PT.PlotWaves(omega, waves = propWaves, nullspace = nullspace, ct = c * t)"
   ]
  },
  {
   "cell_type": "code",
   "execution_count": null,
   "metadata": {},
   "outputs": [],
   "source": [
    "A = MakeRotMat(omega)\n",
    "B = A[::-1, ::-1] + 0 # np.roll(A, 1, axis = 0)\n",
    "np.fill_diagonal(B[1:], np.diagonal(B, offset = 1))\n",
    "np.fill_diagonal(B[:, 1:], -np.diagonal(B, offset = 1))\n",
    "C = np.roll(B, 7, axis = 0)\n",
    "C = np.roll(C, 7, axis = 1)"
   ]
  },
  {
   "cell_type": "code",
   "execution_count": null,
   "metadata": {},
   "outputs": [],
   "source": [
    "print('A =\\n', A)\n",
    "print('')\n",
    "print('B =\\n', B)\n",
    "print('')\n",
    "print('C =\\n', C)\n",
    "print('')"
   ]
  },
  {
   "cell_type": "code",
   "execution_count": null,
   "metadata": {},
   "outputs": [],
   "source": []
  },
  {
   "cell_type": "code",
   "execution_count": null,
   "metadata": {},
   "outputs": [],
   "source": []
  }
 ],
 "metadata": {
  "kernelspec": {
   "display_name": "Python 3",
   "language": "python",
   "name": "python3"
  },
  "language_info": {
   "codemirror_mode": {
    "name": "ipython",
    "version": 3
   },
   "file_extension": ".py",
   "mimetype": "text/x-python",
   "name": "python",
   "nbconvert_exporter": "python",
   "pygments_lexer": "ipython3",
   "version": "3.7.3"
  }
 },
 "nbformat": 4,
 "nbformat_minor": 2
}
