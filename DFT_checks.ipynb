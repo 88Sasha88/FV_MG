{
 "cells": [
  {
   "cell_type": "markdown",
   "metadata": {},
   "source": [
    "First lets do a node-based FFT, based on these basis functions:\n",
    "\n",
    "\n",
    "$s^k_i = sin(2 \\pi k x_i)$\n",
    "$c^k_i = cos(2 \\pi k x_i)$\n",
    "\n",
    "where $x_i = i / N$ for $i \\in [0, \\dots, N-1]$"
   ]
  },
  {
   "cell_type": "code",
   "execution_count": 1,
   "metadata": {},
   "outputs": [],
   "source": [
    "import numpy as np\n",
    "import numpy.fft as fft"
   ]
  },
  {
   "cell_type": "code",
   "execution_count": 2,
   "metadata": {},
   "outputs": [],
   "source": [
    "# Number of points in domain - don't forget x=1 is periodic wrap of x=0\n",
    "N=8"
   ]
  },
  {
   "cell_type": "code",
   "execution_count": 3,
   "metadata": {},
   "outputs": [],
   "source": [
    "# Create the node-based functions\n",
    "x_node = np.linspace(0,1-1/N,N)  # x node values from 0 ... not including 1\n",
    "basis_k = np.zeros((N,N))  # basis functions\n",
    "basis_k[:,0] = np.ones(N)  # k=0 mode\n",
    "key_k = ['c0']  # labels for modes\n",
    "# Fill in sin/cos modes for k between 0 and N/2\n",
    "for k in range(1,int(N/2)):\n",
    "    key_k.append(f's{k}')\n",
    "    key_k.append(f'c{k}')\n",
    "    basis_k[:,2*k-1] = np.sin(2*np.pi*k*x_node)\n",
    "    basis_k[:,2*k] = np.cos(2*np.pi*k*x_node)\n",
    "basis_k[:,N-1] = 1 - 2*np.mod(np.array(range(0,N)),2)  # +1/-1 highest mode\n",
    "key_k.append(f'c{N-1}') "
   ]
  },
  {
   "cell_type": "code",
   "execution_count": 4,
   "metadata": {},
   "outputs": [
    {
     "data": {
      "text/plain": [
       "['c0', 's1', 'c1', 's2', 'c2', 's3', 'c3', 'c7']"
      ]
     },
     "execution_count": 4,
     "metadata": {},
     "output_type": "execute_result"
    }
   ],
   "source": [
    "key_k"
   ]
  },
  {
   "cell_type": "code",
   "execution_count": 5,
   "metadata": {},
   "outputs": [
    {
     "data": {
      "text/plain": [
       "array([[ 0.+0.j,  0.-0.j,  0.-0.j,  0.-0.j,  8.+0.j,  0.+0.j,  0.+0.j,\n",
       "         0.+0.j],\n",
       "       [ 0.+0.j,  0.-0.j,  0.+0.j, -0.+4.j,  0.+0.j, -0.-4.j,  0.-0.j,\n",
       "         0.+0.j],\n",
       "       [-0.+0.j, -0.-0.j,  0.-0.j,  4.+0.j, -0.+0.j,  4.-0.j,  0.+0.j,\n",
       "        -0.+0.j],\n",
       "       [ 0.+0.j,  0.+0.j, -0.+4.j,  0.-0.j,  0.+0.j,  0.+0.j, -0.-4.j,\n",
       "         0.-0.j],\n",
       "       [ 0.+0.j,  0.+0.j,  4.+0.j, -0.+0.j, -0.+0.j, -0.-0.j,  4.-0.j,\n",
       "         0.-0.j],\n",
       "       [ 0.+0.j, -0.+4.j,  0.-0.j,  0.+0.j, -0.+0.j,  0.-0.j,  0.+0.j,\n",
       "        -0.-4.j],\n",
       "       [ 0.+0.j,  4.+0.j, -0.-0.j,  0.+0.j, -0.+0.j,  0.-0.j, -0.+0.j,\n",
       "         4.-0.j],\n",
       "       [ 8.+0.j,  0.-0.j,  0.-0.j,  0.-0.j,  0.+0.j,  0.+0.j,  0.+0.j,\n",
       "         0.+0.j]])"
      ]
     },
     "execution_count": 5,
     "metadata": {},
     "output_type": "execute_result"
    }
   ],
   "source": [
    "# Look at the fft of these\n",
    "xhat = fft.fft(basis_k.T)  # FFT operates on rows, apparently\n",
    "# xhat = np.round(xhat,15)\n",
    "xhat = np.round(fft.fftshift(xhat, axes=1),14)\n",
    "xhat"
   ]
  },
  {
   "cell_type": "code",
   "execution_count": 6,
   "metadata": {},
   "outputs": [
    {
     "name": "stdout",
     "output_type": "stream",
     "text": [
      "Help on function fftshift in module numpy.fft:\n",
      "\n",
      "fftshift(x, axes=None)\n",
      "    Shift the zero-frequency component to the center of the spectrum.\n",
      "    \n",
      "    This function swaps half-spaces for all axes listed (defaults to all).\n",
      "    Note that ``y[0]`` is the Nyquist component only if ``len(x)`` is even.\n",
      "    \n",
      "    Parameters\n",
      "    ----------\n",
      "    x : array_like\n",
      "        Input array.\n",
      "    axes : int or shape tuple, optional\n",
      "        Axes over which to shift.  Default is None, which shifts all axes.\n",
      "    \n",
      "    Returns\n",
      "    -------\n",
      "    y : ndarray\n",
      "        The shifted array.\n",
      "    \n",
      "    See Also\n",
      "    --------\n",
      "    ifftshift : The inverse of `fftshift`.\n",
      "    \n",
      "    Examples\n",
      "    --------\n",
      "    >>> freqs = np.fft.fftfreq(10, 0.1)\n",
      "    >>> freqs\n",
      "    array([ 0.,  1.,  2.,  3.,  4., -5., -4., -3., -2., -1.])\n",
      "    >>> np.fft.fftshift(freqs)\n",
      "    array([-5., -4., -3., -2., -1.,  0.,  1.,  2.,  3.,  4.])\n",
      "    \n",
      "    Shift the zero-frequency component only along the second axis:\n",
      "    \n",
      "    >>> freqs = np.fft.fftfreq(9, d=1./9).reshape(3, 3)\n",
      "    >>> freqs\n",
      "    array([[ 0.,  1.,  2.],\n",
      "           [ 3.,  4., -4.],\n",
      "           [-3., -2., -1.]])\n",
      "    >>> np.fft.fftshift(freqs, axes=(1,))\n",
      "    array([[ 2.,  0.,  1.],\n",
      "           [-4.,  3.,  4.],\n",
      "           [-1., -3., -2.]])\n",
      "\n"
     ]
    }
   ],
   "source": [
    "help(fft.fftshift)"
   ]
  },
  {
   "cell_type": "code",
   "execution_count": null,
   "metadata": {},
   "outputs": [],
   "source": []
  }
 ],
 "metadata": {
  "kernelspec": {
   "display_name": "Python 3",
   "language": "python",
   "name": "python3"
  },
  "language_info": {
   "codemirror_mode": {
    "name": "ipython",
    "version": 3
   },
   "file_extension": ".py",
   "mimetype": "text/x-python",
   "name": "python",
   "nbconvert_exporter": "python",
   "pygments_lexer": "ipython3",
   "version": "3.7.3"
  }
 },
 "nbformat": 4,
 "nbformat_minor": 4
}
