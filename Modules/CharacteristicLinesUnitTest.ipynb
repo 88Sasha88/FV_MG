{
 "cells": [
  {
   "cell_type": "code",
   "execution_count": 1,
   "metadata": {},
   "outputs": [
    {
     "data": {
      "text/html": [
       "<style>pre { white-space: pre !important; }</style>"
      ],
      "text/plain": [
       "<IPython.core.display.HTML object>"
      ]
     },
     "metadata": {},
     "output_type": "display_data"
    },
    {
     "data": {
      "text/html": [
       "<style>pre { white-space: pre !important; }</style>"
      ],
      "text/plain": [
       "<IPython.core.display.HTML object>"
      ]
     },
     "metadata": {},
     "output_type": "display_data"
    },
    {
     "data": {
      "text/html": [
       "<style>pre { white-space: pre !important; }</style>"
      ],
      "text/plain": [
       "<IPython.core.display.HTML object>"
      ]
     },
     "metadata": {},
     "output_type": "display_data"
    }
   ],
   "source": [
    "import os.path\n",
    "from scipy import *\n",
    "import numpy as np\n",
    "from numpy import *\n",
    "from numpy import linalg as LA\n",
    "from scipy import linalg as LA2\n",
    "import sympy as sympy\n",
    "import sys as sys\n",
    "import time\n",
    "import matplotlib.pyplot as plt\n",
    "import itertools as it\n",
    "from mpl_toolkits.mplot3d import Axes3D\n",
    "from IPython.core.display import HTML\n",
    "\n",
    "\n",
    "sys.path.append('/Users/sashacurcic/SashasDirectory/ANAG/FV_MG/')\n",
    "from Modules import BasicTools as BT\n",
    "from Modules import WaveTools as WT\n",
    "from Modules import PlotTools as PT\n",
    "from Modules import FFTTools as FFTT\n",
    "from Modules import OperatorTools as OT\n",
    "from Modules import GridTransferTools as GTT\n",
    "from Modules import TestTools as TT\n",
    "from Modules import SolverTools as ST\n",
    "from Modules import WaveformTools as WFT\n",
    "\n",
    "display(HTML(\"<style>pre { white-space: pre !important; }</style>\"))\n",
    "np.set_printoptions( linewidth = 10000, threshold = 100000)"
   ]
  },
  {
   "cell_type": "code",
   "execution_count": 2,
   "metadata": {},
   "outputs": [],
   "source": [
    "plot ='notgauss'\n",
    "\n",
    "x_0 = 0.\n",
    "x_1 = 0.5\n",
    "if (plot == 'gauss'):\n",
    "    nh_min = 256\n",
    "    locs = []\n",
    "    epsilons = [1]\n",
    "    mus = [1]\n",
    "else:\n",
    "    nh_min = 64\n",
    "    locs = [x_1]\n",
    "    epsilons = [0.5, 1]\n",
    "    mus = [0.5, 1]"
   ]
  },
  {
   "cell_type": "code",
   "execution_count": 3,
   "metadata": {},
   "outputs": [],
   "source": [
    "\n",
    "refRatio = 2\n",
    "CFL = np.sqrt(0.5)\n",
    "nt = 20\n",
    "\n",
    "Hans = False\n",
    "\n",
    "deriv = 'CD'\n",
    "RK = 4\n",
    "order = 2\n",
    "\n",
    "L = 1."
   ]
  },
  {
   "cell_type": "code",
   "execution_count": 4,
   "metadata": {},
   "outputs": [],
   "source": [
    "omega = BT.Grid(nh_min)\n",
    "physics = BT.PhysProps(omega, epsilons, mus, locs = locs)\n",
    "\n",
    "xCell = omega.xCell\n",
    "xNode = omega.xNode\n",
    "cs = physics.cs"
   ]
  },
  {
   "cell_type": "code",
   "execution_count": 5,
   "metadata": {},
   "outputs": [],
   "source": [
    "t_f = 0.4\n",
    "t = np.linspace(0, t_f, num = nh_min + 1)"
   ]
  },
  {
   "cell_type": "code",
   "execution_count": 6,
   "metadata": {},
   "outputs": [
    {
     "name": "stdout",
     "output_type": "stream",
     "text": [
      "0.125\n",
      "0.25\n",
      "0.375\n",
      "0.5\n",
      "0.5625\n",
      "0.625\n",
      "0.6875\n",
      "0.75\n",
      "0.8125\n",
      "0.875\n",
      "0.9375\n",
      "1.0\n"
     ]
    },
    {
     "data": {
      "image/png": "[encoded data removed]",
      "text/plain": [
       "<Figure size 432x432 with 1 Axes>"
      ]
     },
     "metadata": {
      "needs_background": "light"
     },
     "output_type": "display_data"
    }
   ],
   "source": [
    "if (locs != []):\n",
    "    vecs = [[0, 0, 0, 1], [0, 0, 0, -1], [0, 0, 1.8, 0]]\n",
    "    X, Y, DX, DY = zip(*vecs)\n",
    "    fig, ax = plt.subplots(figsize = [6, 6])\n",
    "    plt.xlim(-0.05, 0.5)\n",
    "    plt.ylim(-1.25, 1.25)\n",
    "    \n",
    "    ax.quiver(X, Y, DX, DY, color = 'k', scale = 2.25, zorder = 2)#, arrow_length_ratio = 0.075)\n",
    "    for x_f in (xNode[::4]):\n",
    "        x_1 = x_f - (cs[1] * t_f)\n",
    "        x_c2 = (cs[1] * t) + x_1\n",
    "        x_c2[x_c2 <= locs[0]] = 0\n",
    "        x_0 = (((cs[1] - cs[0]) * locs[0]) + (cs[0] * x_1)) / cs[1]\n",
    "        x_c1 = (cs[0] * t) + x_0\n",
    "        x_c1[x_c1 > locs[0]] = 0\n",
    "        x = np.asarray(x_c1) + np.asarray(x_c2)\n",
    "        if (x[-1] > 0):\n",
    "            plt.plot(t, x, color = PT.ColorDefault(0), zorder = 1)\n",
    "            # plt.text(1.01 * t_f, x[-1], r'$x$')\n",
    "            print(x[-1])\n",
    "    t_s = np.asarray([0, t_f])\n",
    "    x_s = locs[0] * np.ones(2, float)\n",
    "    x_top = np.ones(2, float)\n",
    "    t_fl = t_f * np.ones(2, float)\n",
    "    x_tf = np.asarray([0, 1])\n",
    "    plt.plot(t_s, x_s, color = PT.ColorDefault(3), linestyle = '--', zorder = 0)\n",
    "    plt.plot(t_s, x_top, color = PT.ColorDefault(3), linestyle = '--', zorder = 0)\n",
    "    plt.plot(t_fl, x_tf, color = PT.ColorDefault(3), linestyle = '--', zorder = 0)\n",
    "    plt.text(-0.03, locs[0], r'$x_{s}$')#, color = PT.ColorDefault(3))\n",
    "    plt.text(-0.02, 0.95, '1')#, color = PT.ColorDefault(3))\n",
    "    plt.text(t_f, -0.125, r'$t$')#, color = PT.ColorDefault(3))\n",
    "    plt.text(1.11 * t_f, -0.025, r'$t$')\n",
    "    plt.text(-0.01, 1.175, r'$x$')\n",
    "    plt.axis('off')\n",
    "    plt.show()\n",
    "    saveName = '/Users/sashacurcic/SashasDirectory/ANAG/FV_MG/Figures/MultMedCharLines' # + appendage\n",
    "    fig.savefig(saveName + '.png', bbox_inches = 'tight', dpi = 300)\n",
    "    "
   ]
  },
  {
   "cell_type": "code",
   "execution_count": 7,
   "metadata": {},
   "outputs": [],
   "source": [
    "t_f = 1.\n",
    "t_snaps = 5"
   ]
  },
  {
   "cell_type": "code",
   "execution_count": 8,
   "metadata": {},
   "outputs": [],
   "source": [
    "if (locs == []):\n",
    "    sigma, mu = WFT.GaussParams(x_0, x_1)\n",
    "    sigma = 1.5 * sigma\n",
    "    t_f = (1. - (2. * mu)) / cs[0]\n",
    "    vecs = [0, 0, 1]\n",
    "    args = [sigma, mu]\n",
    "    \n",
    "    vecs = np.array([[0, 0, 0, 1.1, 0, 0], [0, 0, 0, 0, 0.6, 0], [0, 0, 0, 0, 0, 1.05]])\n",
    "    X, Y, Z, DX, DY, DZ = zip(*vecs)\n",
    "    \n",
    "    #waveInit = WFT.InitCond(omega, physics, WFT.Gauss, args)#, cellAve = False)\n",
    "    t = np.zeros(nh_min + 1)\n",
    "    js = [((nh_min / 4) - 2) / 3, ((nh_min / 2) + 1) / 3, nh_min / 4, (nh_min - 1) / 3, (((5 * nh_min) / 4) + 2) / 3]# nh_min / 2]#, ((2 * nh_min) + 1) / 3]#, (((5 * nh_min) / 2) + 2) / 3]\n",
    "    js = [int(j) for j in js]\n",
    "    print(js)\n",
    "    # fig, ax = plt.subplots()\n",
    "    fig = plt.figure()\n",
    "    ax = fig.add_subplot(111, projection = '3d')\n",
    "    ax.view_init(30, 285)\n",
    "    ax.set_xlabel(r'$x$')\n",
    "    ax.set_ylabel(r'$t$')\n",
    "    ax.set_zlabel(r'$u$')\n",
    "    ax.axis('off')\n",
    "    ax.quiver(X, Y, Z, DX, DY, DZ, color = 'k', arrow_length_ratio = 0.075)\n",
    "    ax.text(1.15, 0, 0, r'$x$')\n",
    "    ax.text(0, 0.625, 0, r'$t$')\n",
    "    ax.text(0, 0, 1.1, r'$u$')\n",
    "    ts = np.zeros((2, t_snaps), float)\n",
    "    xs = np.zeros((2, t_snaps), float)\n",
    "    us = np.zeros((2, t_snaps), float)\n",
    "    ax.set_xlim(-0.1, 1.2)\n",
    "    ax.set_ylim(-0.1, 0.21)\n",
    "    ax.set_zlim(-0.1, 0.7)\n",
    "    for i in range(t_snaps):\n",
    "        t_val = (i * t_f) / (t_snaps - 1)\n",
    "        t = t_val * np.ones(nh_min + 1)\n",
    "        waveProp = 0.5 * WFT.Advect(omega, physics, WFT.Gauss, args, t_val, cellAve = False)\n",
    "        if (i == 0):\n",
    "            ts[0, :] = t_val * np.ones(t_snaps)\n",
    "            xs[0, :] = xNode[js]\n",
    "            print(waveProp)\n",
    "            print('')\n",
    "            us[0, :] = waveProp[js]\n",
    "        else:\n",
    "            if (i == t_snaps - 1):\n",
    "                ts[1, :] = t_val * np.ones(t_snaps)\n",
    "                xShift = WFT.ShiftX(omega, physics, -t_val)\n",
    "                xs[1, :] = xShift[js]\n",
    "                us[1, :] = us[0, :]\n",
    "        ax.plot(xNode, t, waveProp, color = PT.ColorDefault(0))#, zorder = 1)\n",
    "    print(us)\n",
    "    for i in range(t_snaps):\n",
    "        ax.plot(xs[:, i], ts[:, i], us[:, i], color = PT.ColorDefault(3), zorder = i)\n",
    "    plt.show()\n",
    "    saveName = '/Users/sashacurcic/SashasDirectory/ANAG/FV_MG/Figures/GaussianCharLines' # + appendage\n",
    "    fig.savefig(saveName + '.png', bbox_inches = 'tight', dpi = 300)\n",
    "    "
   ]
  },
  {
   "cell_type": "code",
   "execution_count": 9,
   "metadata": {},
   "outputs": [
    {
     "name": "stdout",
     "output_type": "stream",
     "text": [
      "(0, 0, 1.8)\n"
     ]
    }
   ],
   "source": [
    "soa = np.array([[0, 0, 1, 1, -2, 0], [0, 0, 2, 1, 1, 0],\n",
    "                [0, 0, 3, 2, 1, 0], [0, 0, 4, 0.5, 0.7, 0]])\n",
    "\n",
    "X, Y, Z, U, V, W = zip(*soa)\n",
    "print(DX)"
   ]
  },
  {
   "cell_type": "code",
   "execution_count": null,
   "metadata": {},
   "outputs": [],
   "source": []
  }
 ],
 "metadata": {
  "kernelspec": {
   "display_name": "Python 3",
   "language": "python",
   "name": "python3"
  },
  "language_info": {
   "codemirror_mode": {
    "name": "ipython",
    "version": 3
   },
   "file_extension": ".py",
   "mimetype": "text/x-python",
   "name": "python",
   "nbconvert_exporter": "python",
   "pygments_lexer": "ipython3",
   "version": "3.7.3"
  }
 },
 "nbformat": 4,
 "nbformat_minor": 2
}
